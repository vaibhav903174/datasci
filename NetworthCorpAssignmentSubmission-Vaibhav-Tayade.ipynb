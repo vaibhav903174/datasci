{
 "cells": [
  {
   "cell_type": "markdown",
   "metadata": {},
   "source": [
    "# NetworthCorpAssignment_Customer_Analysis Assignment_vaibhav_tayade"
   ]
  },
  {
   "cell_type": "markdown",
   "metadata": {},
   "source": [
    "Name: Vaibhav Vilas Tayade\n",
    "    \n",
    "emailid: vaibhav_t29@rediffmail.com\n",
    "\n",
    "No: 8087970061"
   ]
  },
  {
   "cell_type": "code",
   "execution_count": 1,
   "metadata": {},
   "outputs": [],
   "source": [
    "# Importing libraries:\n",
    "import pandas as pd\n",
    "import seaborn as sns\n",
    "import matplotlib.pyplot as plt\n",
    "import warnings\n",
    "warnings.filterwarnings('ignore')\n",
    "import numpy as np\n",
    "from scipy.stats import zscore\n",
    "from sklearn.preprocessing import StandardScaler\n",
    "from sklearn.linear_model import LinearRegression\n",
    "from sklearn.metrics import mean_squared_error, mean_absolute_error\n",
    "from sklearn.metrics import r2_score\n",
    "from sklearn.model_selection import KFold\n",
    "from sklearn.svm import SVR\n",
    "from sklearn.ensemble import RandomForestRegressor\n",
    "from sklearn.ensemble import AdaBoostRegressor\n",
    "from sklearn.model_selection import cross_val_score\n",
    "from sklearn.model_selection import GridSearchCV"
   ]
  },
  {
   "cell_type": "code",
   "execution_count": 2,
   "metadata": {},
   "outputs": [],
   "source": [
    "# reading csv file and creating dataframe:\n",
    "product_description_df = pd.read_excel('Customer_Raw_data.xlsx', sheet_name = 'Product Description')\n",
    "product_performance_df = pd.read_excel('Customer_Raw_data.xlsx', sheet_name = 'Product Performance')\n",
    "unbxd_query_performance_df = pd.read_excel('Customer_Raw_data.xlsx', sheet_name = 'Unbxd Query performance')"
   ]
  },
  {
   "cell_type": "markdown",
   "metadata": {},
   "source": [
    "As we see there are three datasets in our raw file. we can analyse them one by one in the end altogether."
   ]
  },
  {
   "cell_type": "markdown",
   "metadata": {},
   "source": [
    "# Product description dataset"
   ]
  },
  {
   "cell_type": "markdown",
   "metadata": {},
   "source": [
    "# Fig - 1"
   ]
  },
  {
   "cell_type": "code",
   "execution_count": 3,
   "metadata": {
    "scrolled": true
   },
   "outputs": [
    {
     "data": {
      "text/plain": [
       "<matplotlib.axes._subplots.AxesSubplot at 0x1aaab7951c8>"
      ]
     },
     "execution_count": 3,
     "metadata": {},
     "output_type": "execute_result"
    },
    {
     "data": {
      "image/png": "[encoded data removed]",
      "text/plain": [
       "<Figure size 432x288 with 2 Axes>"
      ]
     },
     "metadata": {
      "needs_background": "light"
     },
     "output_type": "display_data"
    }
   ],
   "source": [
    "sns.heatmap(product_description_df.isnull())"
   ]
  },
  {
   "cell_type": "markdown",
   "metadata": {},
   "source": [
    "observation: There are no Null values in our dataset"
   ]
  },
  {
   "cell_type": "code",
   "execution_count": 4,
   "metadata": {
    "scrolled": true
   },
   "outputs": [
    {
     "data": {
      "text/html": [
       "<div>\n",
       "<style scoped>\n",
       "    .dataframe tbody tr th:only-of-type {\n",
       "        vertical-align: middle;\n",
       "    }\n",
       "\n",
       "    .dataframe tbody tr th {\n",
       "        vertical-align: top;\n",
       "    }\n",
       "\n",
       "    .dataframe thead th {\n",
       "        text-align: right;\n",
       "    }\n",
       "</style>\n",
       "<table border=\"1\" class=\"dataframe\">\n",
       "  <thead>\n",
       "    <tr style=\"text-align: right;\">\n",
       "      <th></th>\n",
       "      <th>PID</th>\n",
       "      <th>Product Name</th>\n",
       "      <th>Category</th>\n",
       "      <th>Final Price</th>\n",
       "      <th>Initial Price</th>\n",
       "      <th>Color</th>\n",
       "      <th>Primary Color</th>\n",
       "      <th>Fabric</th>\n",
       "    </tr>\n",
       "  </thead>\n",
       "  <tbody>\n",
       "    <tr>\n",
       "      <th>0</th>\n",
       "      <td>CL0036386</td>\n",
       "      <td>Ikat stripe print cotton knit dress</td>\n",
       "      <td>Dress</td>\n",
       "      <td>84.95</td>\n",
       "      <td>33.95</td>\n",
       "      <td>Blue/navy/white</td>\n",
       "      <td>Blue</td>\n",
       "      <td>Cotton Spandex</td>\n",
       "    </tr>\n",
       "    <tr>\n",
       "      <th>1</th>\n",
       "      <td>CL0030567</td>\n",
       "      <td>Feminine pleated knit dress</td>\n",
       "      <td>Dress</td>\n",
       "      <td>59.95</td>\n",
       "      <td>41.95</td>\n",
       "      <td>Navy blue</td>\n",
       "      <td>Navy blue</td>\n",
       "      <td>Cotton Spandex</td>\n",
       "    </tr>\n",
       "    <tr>\n",
       "      <th>2</th>\n",
       "      <td>CL0032320</td>\n",
       "      <td>Floral embellished chambray denim maxi dress</td>\n",
       "      <td>Dress</td>\n",
       "      <td>96.95</td>\n",
       "      <td>67.95</td>\n",
       "      <td>Deep indigo</td>\n",
       "      <td>Deep indigo</td>\n",
       "      <td>Cotton</td>\n",
       "    </tr>\n",
       "    <tr>\n",
       "      <th>3</th>\n",
       "      <td>CL0036700</td>\n",
       "      <td>Dot print cap sleeve shirt</td>\n",
       "      <td>Top</td>\n",
       "      <td>49.95</td>\n",
       "      <td>19.95</td>\n",
       "      <td>White/navy</td>\n",
       "      <td>White</td>\n",
       "      <td>Cotton</td>\n",
       "    </tr>\n",
       "    <tr>\n",
       "      <th>4</th>\n",
       "      <td>CL0036365</td>\n",
       "      <td>Layered asymmetric hem hacci knit top</td>\n",
       "      <td>Top</td>\n",
       "      <td>69.95</td>\n",
       "      <td>27.95</td>\n",
       "      <td>Blue</td>\n",
       "      <td>Blue</td>\n",
       "      <td>Polyester</td>\n",
       "    </tr>\n",
       "  </tbody>\n",
       "</table>\n",
       "</div>"
      ],
      "text/plain": [
       "         PID                                   Product Name Category  \\\n",
       "0  CL0036386            Ikat stripe print cotton knit dress    Dress   \n",
       "1  CL0030567                    Feminine pleated knit dress    Dress   \n",
       "2  CL0032320   Floral embellished chambray denim maxi dress    Dress   \n",
       "3  CL0036700                     Dot print cap sleeve shirt      Top   \n",
       "4  CL0036365          Layered asymmetric hem hacci knit top      Top   \n",
       "\n",
       "   Final Price  Initial Price             Color Primary Color           Fabric  \n",
       "0        84.95          33.95   Blue/navy/white          Blue   Cotton Spandex  \n",
       "1        59.95          41.95         Navy blue     Navy blue   Cotton Spandex  \n",
       "2        96.95          67.95       Deep indigo   Deep indigo           Cotton  \n",
       "3        49.95          19.95        White/navy         White           Cotton  \n",
       "4        69.95          27.95              Blue          Blue        Polyester  "
      ]
     },
     "execution_count": 4,
     "metadata": {},
     "output_type": "execute_result"
    }
   ],
   "source": [
    "product_description_df.head()"
   ]
  },
  {
   "cell_type": "code",
   "execution_count": 5,
   "metadata": {},
   "outputs": [
    {
     "data": {
      "text/html": [
       "<div>\n",
       "<style scoped>\n",
       "    .dataframe tbody tr th:only-of-type {\n",
       "        vertical-align: middle;\n",
       "    }\n",
       "\n",
       "    .dataframe tbody tr th {\n",
       "        vertical-align: top;\n",
       "    }\n",
       "\n",
       "    .dataframe thead th {\n",
       "        text-align: right;\n",
       "    }\n",
       "</style>\n",
       "<table border=\"1\" class=\"dataframe\">\n",
       "  <thead>\n",
       "    <tr style=\"text-align: right;\">\n",
       "      <th></th>\n",
       "      <th>Final Price</th>\n",
       "      <th>Initial Price</th>\n",
       "    </tr>\n",
       "  </thead>\n",
       "  <tbody>\n",
       "    <tr>\n",
       "      <th>count</th>\n",
       "      <td>716.000000</td>\n",
       "      <td>716.000000</td>\n",
       "    </tr>\n",
       "    <tr>\n",
       "      <th>mean</th>\n",
       "      <td>87.556145</td>\n",
       "      <td>59.961173</td>\n",
       "    </tr>\n",
       "    <tr>\n",
       "      <th>std</th>\n",
       "      <td>65.990685</td>\n",
       "      <td>68.248824</td>\n",
       "    </tr>\n",
       "    <tr>\n",
       "      <th>min</th>\n",
       "      <td>39.950000</td>\n",
       "      <td>19.950000</td>\n",
       "    </tr>\n",
       "    <tr>\n",
       "      <th>25%</th>\n",
       "      <td>61.950000</td>\n",
       "      <td>39.700000</td>\n",
       "    </tr>\n",
       "    <tr>\n",
       "      <th>50%</th>\n",
       "      <td>79.950000</td>\n",
       "      <td>47.950000</td>\n",
       "    </tr>\n",
       "    <tr>\n",
       "      <th>75%</th>\n",
       "      <td>96.950000</td>\n",
       "      <td>59.950000</td>\n",
       "    </tr>\n",
       "    <tr>\n",
       "      <th>max</th>\n",
       "      <td>699.950000</td>\n",
       "      <td>699.950000</td>\n",
       "    </tr>\n",
       "  </tbody>\n",
       "</table>\n",
       "</div>"
      ],
      "text/plain": [
       "       Final Price  Initial Price\n",
       "count   716.000000     716.000000\n",
       "mean     87.556145      59.961173\n",
       "std      65.990685      68.248824\n",
       "min      39.950000      19.950000\n",
       "25%      61.950000      39.700000\n",
       "50%      79.950000      47.950000\n",
       "75%      96.950000      59.950000\n",
       "max     699.950000     699.950000"
      ]
     },
     "execution_count": 5,
     "metadata": {},
     "output_type": "execute_result"
    }
   ],
   "source": [
    "product_description_df.describe()"
   ]
  },
  {
   "cell_type": "markdown",
   "metadata": {},
   "source": [
    "observation: we can the presence of outliers but we need to do more analysis to confirm that."
   ]
  },
  {
   "cell_type": "code",
   "execution_count": 6,
   "metadata": {},
   "outputs": [
    {
     "data": {
      "text/plain": [
       " Cotton                      263\n",
       " Cotton Spandex              139\n",
       " Polyester                   104\n",
       " Polyester Crepe de Chine     43\n",
       " Polyester Spandex            32\n",
       " Viscose Spandex              20\n",
       " Cotton Polyester             17\n",
       " Cotton Polyester Spandex     17\n",
       " Rayon Nylon Spandex          12\n",
       " Polyamide Spandex            12\n",
       " Rayon Polyester Spandex       7\n",
       " Silk                          7\n",
       " Rayon                         6\n",
       " Cotton Nylon                  6\n",
       " Viscose                       4\n",
       " Polyester Rayon Spandex       4\n",
       " Polyester Nylon               4\n",
       " Cotton Rayon Spandex          4\n",
       " Tencel                        3\n",
       " Nylon                         3\n",
       " Nylon Polyester               2\n",
       " Polyester Metallic            2\n",
       " Polyester Rayon               2\n",
       " Nylon Cotton                  1\n",
       " Wool Nylon                    1\n",
       " Cotton Linen                  1\n",
       "Name: Fabric, dtype: int64"
      ]
     },
     "execution_count": 6,
     "metadata": {},
     "output_type": "execute_result"
    }
   ],
   "source": [
    "product_description_df['Fabric'].value_counts()"
   ]
  },
  {
   "cell_type": "code",
   "execution_count": 7,
   "metadata": {},
   "outputs": [
    {
     "data": {
      "text/plain": [
       " Dress       428\n",
       " Top         147\n",
       " Skirt        72\n",
       " Pant         49\n",
       " Jumpsuit     11\n",
       " Jacket        9\n",
       "Name: Category, dtype: int64"
      ]
     },
     "execution_count": 7,
     "metadata": {},
     "output_type": "execute_result"
    }
   ],
   "source": [
    "product_description_df['Category'].value_counts()"
   ]
  },
  {
   "cell_type": "code",
   "execution_count": 8,
   "metadata": {},
   "outputs": [
    {
     "data": {
      "text/plain": [
       " Black                     39\n",
       " Deep navy                 23\n",
       " Deep indigo               21\n",
       " Black/white               18\n",
       " Black multi               17\n",
       "                           ..\n",
       " Beige/off-white multi      1\n",
       " White/olive/deep green     1\n",
       " Black/cream/gray           1\n",
       " Maize yellow/gold          1\n",
       " Yellow/off-white multi     1\n",
       "Name: Color, Length: 327, dtype: int64"
      ]
     },
     "execution_count": 8,
     "metadata": {},
     "output_type": "execute_result"
    }
   ],
   "source": [
    "product_description_df['Color'].value_counts()"
   ]
  },
  {
   "cell_type": "code",
   "execution_count": 9,
   "metadata": {
    "scrolled": true
   },
   "outputs": [
    {
     "data": {
      "text/plain": [
       " Black          100\n",
       " White           59\n",
       " Off-white       56\n",
       " Deep navy       44\n",
       " Deep indigo     29\n",
       "               ... \n",
       " Peach            1\n",
       " Mustard          1\n",
       " Teal             1\n",
       " Deep coral       1\n",
       " Crimson red      1\n",
       "Name: Primary Color, Length: 122, dtype: int64"
      ]
     },
     "execution_count": 9,
     "metadata": {},
     "output_type": "execute_result"
    }
   ],
   "source": [
    "product_description_df['Primary Color'].value_counts()"
   ]
  },
  {
   "cell_type": "markdown",
   "metadata": {},
   "source": [
    "# Fig - 2"
   ]
  },
  {
   "cell_type": "code",
   "execution_count": 10,
   "metadata": {},
   "outputs": [
    {
     "data": {
      "image/png": "[encoded data removed]",
      "text/plain": [
       "<Figure size 432x288 with 1 Axes>"
      ]
     },
     "metadata": {
      "needs_background": "light"
     },
     "output_type": "display_data"
    }
   ],
   "source": [
    "#Before balancing the target label column:\n",
    "\n",
    "sns.countplot(x='Category', data=product_description_df)\n",
    "plt.show()"
   ]
  },
  {
   "cell_type": "markdown",
   "metadata": {},
   "source": [
    "Observation: Dress and Top category has maximum number of datasets while skirt and Pant has medium level of datasets and Jacket and jumpsuit has minimum number of datasets."
   ]
  },
  {
   "cell_type": "markdown",
   "metadata": {},
   "source": [
    "# Product performance dataset"
   ]
  },
  {
   "cell_type": "markdown",
   "metadata": {},
   "source": [
    "# Fig - 3"
   ]
  },
  {
   "cell_type": "code",
   "execution_count": 11,
   "metadata": {},
   "outputs": [
    {
     "data": {
      "text/plain": [
       "<matplotlib.axes._subplots.AxesSubplot at 0x1aaab542f88>"
      ]
     },
     "execution_count": 11,
     "metadata": {},
     "output_type": "execute_result"
    },
    {
     "data": {
      "image/png": "[encoded data removed]",
      "text/plain": [
       "<Figure size 432x288 with 2 Axes>"
      ]
     },
     "metadata": {
      "needs_background": "light"
     },
     "output_type": "display_data"
    }
   ],
   "source": [
    "sns.heatmap(product_performance_df.isnull())"
   ]
  },
  {
   "cell_type": "markdown",
   "metadata": {},
   "source": [
    "observation: There are no Null values in our dataset"
   ]
  },
  {
   "cell_type": "code",
   "execution_count": 12,
   "metadata": {},
   "outputs": [
    {
     "data": {
      "text/html": [
       "<div>\n",
       "<style scoped>\n",
       "    .dataframe tbody tr th:only-of-type {\n",
       "        vertical-align: middle;\n",
       "    }\n",
       "\n",
       "    .dataframe tbody tr th {\n",
       "        vertical-align: top;\n",
       "    }\n",
       "\n",
       "    .dataframe thead th {\n",
       "        text-align: right;\n",
       "    }\n",
       "</style>\n",
       "<table border=\"1\" class=\"dataframe\">\n",
       "  <thead>\n",
       "    <tr style=\"text-align: right;\">\n",
       "      <th></th>\n",
       "      <th>pId</th>\n",
       "      <th>pName</th>\n",
       "      <th>clicks</th>\n",
       "      <th>carts</th>\n",
       "      <th>orders</th>\n",
       "    </tr>\n",
       "  </thead>\n",
       "  <tbody>\n",
       "    <tr>\n",
       "      <th>0</th>\n",
       "      <td>CL0034516</td>\n",
       "      <td>Chevron stripe colorblock maxi dress</td>\n",
       "      <td>29144</td>\n",
       "      <td>2181</td>\n",
       "      <td>204</td>\n",
       "    </tr>\n",
       "    <tr>\n",
       "      <th>1</th>\n",
       "      <td>CL0037085</td>\n",
       "      <td>Chevron stripe colorblock maxi dress</td>\n",
       "      <td>25892</td>\n",
       "      <td>237</td>\n",
       "      <td>70</td>\n",
       "    </tr>\n",
       "    <tr>\n",
       "      <th>2</th>\n",
       "      <td>CL0036758</td>\n",
       "      <td>Bird print pleated cotton knit dress</td>\n",
       "      <td>16343</td>\n",
       "      <td>340</td>\n",
       "      <td>97</td>\n",
       "    </tr>\n",
       "    <tr>\n",
       "      <th>3</th>\n",
       "      <td>CL0032310</td>\n",
       "      <td>Cotton knit fit and flare dress</td>\n",
       "      <td>16234</td>\n",
       "      <td>350</td>\n",
       "      <td>99</td>\n",
       "    </tr>\n",
       "    <tr>\n",
       "      <th>4</th>\n",
       "      <td>CL0037110</td>\n",
       "      <td>Pleat front chambray denim maxi dress</td>\n",
       "      <td>13317</td>\n",
       "      <td>229</td>\n",
       "      <td>56</td>\n",
       "    </tr>\n",
       "  </tbody>\n",
       "</table>\n",
       "</div>"
      ],
      "text/plain": [
       "         pId                                  pName  clicks  carts  orders\n",
       "0  CL0034516   Chevron stripe colorblock maxi dress   29144   2181     204\n",
       "1  CL0037085   Chevron stripe colorblock maxi dress   25892    237      70\n",
       "2  CL0036758   Bird print pleated cotton knit dress   16343    340      97\n",
       "3  CL0032310        Cotton knit fit and flare dress   16234    350      99\n",
       "4  CL0037110  Pleat front chambray denim maxi dress   13317    229      56"
      ]
     },
     "execution_count": 12,
     "metadata": {},
     "output_type": "execute_result"
    }
   ],
   "source": [
    "product_performance_df.head()"
   ]
  },
  {
   "cell_type": "markdown",
   "metadata": {},
   "source": [
    "Observation: we can easily make out from the above data frame view that, where there are more 'clicks' on particular product, there are more number of 'carted' products and eventually more number of corresponding 'orders' as well."
   ]
  },
  {
   "cell_type": "code",
   "execution_count": 13,
   "metadata": {
    "scrolled": false
   },
   "outputs": [
    {
     "name": "stdout",
     "output_type": "stream",
     "text": [
      "<class 'pandas.core.frame.DataFrame'>\n",
      "RangeIndex: 2501 entries, 0 to 2500\n",
      "Data columns (total 5 columns):\n",
      " #   Column  Non-Null Count  Dtype \n",
      "---  ------  --------------  ----- \n",
      " 0   pId     2501 non-null   object\n",
      " 1   pName   2501 non-null   object\n",
      " 2   clicks  2501 non-null   int64 \n",
      " 3   carts   2501 non-null   int64 \n",
      " 4   orders  2501 non-null   int64 \n",
      "dtypes: int64(3), object(2)\n",
      "memory usage: 97.8+ KB\n"
     ]
    }
   ],
   "source": [
    "product_performance_df.info()"
   ]
  },
  {
   "cell_type": "markdown",
   "metadata": {},
   "source": [
    "# Fig - 4"
   ]
  },
  {
   "cell_type": "code",
   "execution_count": 14,
   "metadata": {
    "scrolled": true
   },
   "outputs": [
    {
     "data": {
      "image/png": "[encoded data removed]",
      "text/plain": [
       "<Figure size 432x288 with 1 Axes>"
      ]
     },
     "metadata": {
      "needs_background": "light"
     },
     "output_type": "display_data"
    }
   ],
   "source": [
    "plt.hist(product_performance_df['clicks'], bins = 20)\n",
    "plt.show()"
   ]
  },
  {
   "cell_type": "markdown",
   "metadata": {},
   "source": [
    "#Observation: we can make out from the above histogram, there are more datasets with less clicks number than 5000 while less datasets with more than 5000 clicks."
   ]
  },
  {
   "cell_type": "markdown",
   "metadata": {},
   "source": [
    "# For the sake of understanding, we study the dataset having more than 5000 clicks"
   ]
  },
  {
   "cell_type": "code",
   "execution_count": 15,
   "metadata": {},
   "outputs": [],
   "source": [
    "# separating the datasets with more than 5000 clicks and less than 5000 clicks.\n",
    "product_performance_df_greaterthan5000clicks = product_performance_df[product_performance_df['clicks'] > 5000]"
   ]
  },
  {
   "cell_type": "code",
   "execution_count": 16,
   "metadata": {},
   "outputs": [
    {
     "data": {
      "text/plain": [
       "26"
      ]
     },
     "execution_count": 16,
     "metadata": {},
     "output_type": "execute_result"
    }
   ],
   "source": [
    "len(product_performance_df_greaterthan5000clicks['clicks'])"
   ]
  },
  {
   "cell_type": "markdown",
   "metadata": {},
   "source": [
    "Observation: we can make out from the above data analysis process that there are 26 products available with more than 5000 clicks."
   ]
  },
  {
   "cell_type": "code",
   "execution_count": 17,
   "metadata": {},
   "outputs": [],
   "source": [
    "maximum_clicked_products = product_performance_df_greaterthan5000clicks['pName']"
   ]
  },
  {
   "cell_type": "code",
   "execution_count": 18,
   "metadata": {
    "scrolled": true
   },
   "outputs": [
    {
     "data": {
      "text/plain": [
       "0     29144\n",
       "1     25892\n",
       "2     16343\n",
       "3     16234\n",
       "4     13317\n",
       "5     13234\n",
       "6     12364\n",
       "7     10680\n",
       "8     10454\n",
       "9      9571\n",
       "10     8407\n",
       "11     8373\n",
       "12     8287\n",
       "13     8280\n",
       "14     8231\n",
       "15     7360\n",
       "16     7175\n",
       "17     6882\n",
       "18     6848\n",
       "19     6798\n",
       "20     6335\n",
       "21     6229\n",
       "22     5693\n",
       "23     5338\n",
       "24     5174\n",
       "25     5015\n",
       "Name: clicks, dtype: int64"
      ]
     },
     "execution_count": 18,
     "metadata": {},
     "output_type": "execute_result"
    }
   ],
   "source": [
    "product_performance_df_greaterthan5000clicks['clicks']"
   ]
  },
  {
   "cell_type": "markdown",
   "metadata": {},
   "source": [
    "# Fig - 5"
   ]
  },
  {
   "cell_type": "code",
   "execution_count": 19,
   "metadata": {
    "scrolled": false
   },
   "outputs": [
    {
     "data": {
      "text/plain": [
       "<matplotlib.axes._subplots.AxesSubplot at 0x1aaab5856c8>"
      ]
     },
     "execution_count": 19,
     "metadata": {},
     "output_type": "execute_result"
    },
    {
     "data": {
      "image/png": "[encoded data removed]",
      "text/plain": [
       "<Figure size 432x288 with 1 Axes>"
      ]
     },
     "metadata": {
      "needs_background": "light"
     },
     "output_type": "display_data"
    }
   ],
   "source": [
    "# 1 - BoxPlot of ' Clicks column ' Box plot:\n",
    "plt.title('Clicks column Box PLot')\n",
    "sns.boxplot(product_performance_df_greaterthan5000clicks['clicks'],color='green',orient='v')"
   ]
  },
  {
   "cell_type": "markdown",
   "metadata": {},
   "source": [
    "# Fig -6"
   ]
  },
  {
   "cell_type": "code",
   "execution_count": 20,
   "metadata": {
    "scrolled": true
   },
   "outputs": [
    {
     "data": {
      "text/plain": [
       "<matplotlib.axes._subplots.AxesSubplot at 0x1aaab89a348>"
      ]
     },
     "execution_count": 20,
     "metadata": {},
     "output_type": "execute_result"
    },
    {
     "data": {
      "image/png": "[encoded data removed]",
      "text/plain": [
       "<Figure size 432x288 with 1 Axes>"
      ]
     },
     "metadata": {
      "needs_background": "light"
     },
     "output_type": "display_data"
    }
   ],
   "source": [
    "# 2 - BoxPlot of ' Carts column ' Box plot:\n",
    "plt.title('carts column Box PLot')\n",
    "sns.boxplot(product_performance_df_greaterthan5000clicks['carts'],color='green',orient='v')"
   ]
  },
  {
   "cell_type": "markdown",
   "metadata": {},
   "source": [
    "# Fig -7"
   ]
  },
  {
   "cell_type": "code",
   "execution_count": 21,
   "metadata": {
    "scrolled": true
   },
   "outputs": [
    {
     "data": {
      "text/plain": [
       "<matplotlib.axes._subplots.AxesSubplot at 0x1aaac1614c8>"
      ]
     },
     "execution_count": 21,
     "metadata": {},
     "output_type": "execute_result"
    },
    {
     "data": {
      "image/png": "[encoded data removed]",
      "text/plain": [
       "<Figure size 432x288 with 1 Axes>"
      ]
     },
     "metadata": {
      "needs_background": "light"
     },
     "output_type": "display_data"
    }
   ],
   "source": [
    "# 3 - BoxPlot of ' Orders column ' Box plot:\n",
    "plt.title('orders column Box PLot')\n",
    "sns.boxplot(product_performance_df_greaterthan5000clicks['orders'],color='green',orient='v')"
   ]
  },
  {
   "cell_type": "markdown",
   "metadata": {},
   "source": [
    "Observations: We can see that from the above box plots, there seems to be the outliers in the datasets, but thats primarily because of the uneven distributed clicks between the products, we have 5 products with clicks number ranging from 10000 to 15000, 2 products with clicks ranging from 15000 to 20000, 2 products with clicks ranging from 25000 to 30000, and 16 products with clicks ranging from 5000 to 10000. "
   ]
  },
  {
   "cell_type": "code",
   "execution_count": 22,
   "metadata": {},
   "outputs": [],
   "source": [
    "# creating few new columns like unordered and uncarted products.\n",
    "product_performance_df_greaterthan5000clicks['unordered'] = product_performance_df_greaterthan5000clicks['carts']-product_performance_df_greaterthan5000clicks['orders']"
   ]
  },
  {
   "cell_type": "code",
   "execution_count": 23,
   "metadata": {},
   "outputs": [],
   "source": [
    "product_performance_df_greaterthan5000clicks['uncarted'] = product_performance_df_greaterthan5000clicks['clicks']-product_performance_df_greaterthan5000clicks['carts']"
   ]
  },
  {
   "cell_type": "code",
   "execution_count": 24,
   "metadata": {
    "scrolled": true
   },
   "outputs": [
    {
     "data": {
      "text/html": [
       "<div>\n",
       "<style scoped>\n",
       "    .dataframe tbody tr th:only-of-type {\n",
       "        vertical-align: middle;\n",
       "    }\n",
       "\n",
       "    .dataframe tbody tr th {\n",
       "        vertical-align: top;\n",
       "    }\n",
       "\n",
       "    .dataframe thead th {\n",
       "        text-align: right;\n",
       "    }\n",
       "</style>\n",
       "<table border=\"1\" class=\"dataframe\">\n",
       "  <thead>\n",
       "    <tr style=\"text-align: right;\">\n",
       "      <th></th>\n",
       "      <th>pId</th>\n",
       "      <th>pName</th>\n",
       "      <th>clicks</th>\n",
       "      <th>carts</th>\n",
       "      <th>orders</th>\n",
       "      <th>unordered</th>\n",
       "      <th>uncarted</th>\n",
       "    </tr>\n",
       "  </thead>\n",
       "  <tbody>\n",
       "    <tr>\n",
       "      <th>0</th>\n",
       "      <td>CL0034516</td>\n",
       "      <td>Chevron stripe colorblock maxi dress</td>\n",
       "      <td>29144</td>\n",
       "      <td>2181</td>\n",
       "      <td>204</td>\n",
       "      <td>1977</td>\n",
       "      <td>26963</td>\n",
       "    </tr>\n",
       "    <tr>\n",
       "      <th>1</th>\n",
       "      <td>CL0037085</td>\n",
       "      <td>Chevron stripe colorblock maxi dress</td>\n",
       "      <td>25892</td>\n",
       "      <td>237</td>\n",
       "      <td>70</td>\n",
       "      <td>167</td>\n",
       "      <td>25655</td>\n",
       "    </tr>\n",
       "    <tr>\n",
       "      <th>2</th>\n",
       "      <td>CL0036758</td>\n",
       "      <td>Bird print pleated cotton knit dress</td>\n",
       "      <td>16343</td>\n",
       "      <td>340</td>\n",
       "      <td>97</td>\n",
       "      <td>243</td>\n",
       "      <td>16003</td>\n",
       "    </tr>\n",
       "    <tr>\n",
       "      <th>3</th>\n",
       "      <td>CL0032310</td>\n",
       "      <td>Cotton knit fit and flare dress</td>\n",
       "      <td>16234</td>\n",
       "      <td>350</td>\n",
       "      <td>99</td>\n",
       "      <td>251</td>\n",
       "      <td>15884</td>\n",
       "    </tr>\n",
       "    <tr>\n",
       "      <th>4</th>\n",
       "      <td>CL0037110</td>\n",
       "      <td>Pleat front chambray denim maxi dress</td>\n",
       "      <td>13317</td>\n",
       "      <td>229</td>\n",
       "      <td>56</td>\n",
       "      <td>173</td>\n",
       "      <td>13088</td>\n",
       "    </tr>\n",
       "  </tbody>\n",
       "</table>\n",
       "</div>"
      ],
      "text/plain": [
       "         pId                                  pName  clicks  carts  orders  \\\n",
       "0  CL0034516   Chevron stripe colorblock maxi dress   29144   2181     204   \n",
       "1  CL0037085   Chevron stripe colorblock maxi dress   25892    237      70   \n",
       "2  CL0036758   Bird print pleated cotton knit dress   16343    340      97   \n",
       "3  CL0032310        Cotton knit fit and flare dress   16234    350      99   \n",
       "4  CL0037110  Pleat front chambray denim maxi dress   13317    229      56   \n",
       "\n",
       "   unordered  uncarted  \n",
       "0       1977     26963  \n",
       "1        167     25655  \n",
       "2        243     16003  \n",
       "3        251     15884  \n",
       "4        173     13088  "
      ]
     },
     "execution_count": 24,
     "metadata": {},
     "output_type": "execute_result"
    }
   ],
   "source": [
    "product_performance_df_greaterthan5000clicks.head()"
   ]
  },
  {
   "cell_type": "markdown",
   "metadata": {},
   "source": [
    "# Fig - 8"
   ]
  },
  {
   "cell_type": "code",
   "execution_count": 62,
   "metadata": {
    "scrolled": true
   },
   "outputs": [
    {
     "data": {
      "text/plain": [
       "[<matplotlib.lines.Line2D at 0x1aaab8ab2c8>]"
      ]
     },
     "execution_count": 62,
     "metadata": {},
     "output_type": "execute_result"
    },
    {
     "data": {
      "image/png": "[encoded data removed]",
      "text/plain": [
       "<Figure size 432x288 with 1 Axes>"
      ]
     },
     "metadata": {
      "needs_background": "light"
     },
     "output_type": "display_data"
    }
   ],
   "source": [
    "plt.title('unordered datasets line plot')\n",
    "plt.plot(product_performance_df_greaterthan5000clicks['unordered'])\n"
   ]
  },
  {
   "cell_type": "markdown",
   "metadata": {},
   "source": [
    "Observation: We can make out that there are few datasets with very high number of unordered values, while rest of dataset has nominal unordered values."
   ]
  },
  {
   "cell_type": "markdown",
   "metadata": {},
   "source": [
    "# Fig - 9"
   ]
  },
  {
   "cell_type": "code",
   "execution_count": 63,
   "metadata": {
    "scrolled": true
   },
   "outputs": [
    {
     "data": {
      "text/plain": [
       "[<matplotlib.lines.Line2D at 0x1aaac40bdc8>]"
      ]
     },
     "execution_count": 63,
     "metadata": {},
     "output_type": "execute_result"
    },
    {
     "data": {
      "image/png": "[encoded data removed]",
      "text/plain": [
       "<Figure size 432x288 with 1 Axes>"
      ]
     },
     "metadata": {
      "needs_background": "light"
     },
     "output_type": "display_data"
    }
   ],
   "source": [
    "plt.title('uncarted datasets line plot')\n",
    "plt.plot(product_performance_df_greaterthan5000clicks['uncarted'])"
   ]
  },
  {
   "cell_type": "markdown",
   "metadata": {},
   "source": [
    "Observation: We can make out that there are few datasets with very high number of uncarted values, while rest of dataset has nominal uncarted values."
   ]
  },
  {
   "cell_type": "code",
   "execution_count": 27,
   "metadata": {
    "scrolled": true
   },
   "outputs": [
    {
     "data": {
      "text/plain": [
       "2501"
      ]
     },
     "execution_count": 27,
     "metadata": {},
     "output_type": "execute_result"
    }
   ],
   "source": [
    "len(product_performance_df)"
   ]
  },
  {
   "cell_type": "markdown",
   "metadata": {},
   "source": [
    "# Making Orders prediction model depending on click, carts datasets"
   ]
  },
  {
   "cell_type": "code",
   "execution_count": 28,
   "metadata": {},
   "outputs": [],
   "source": [
    "product_performance_dfnew = product_performance_df[['pName', 'clicks', 'carts', 'orders']]"
   ]
  },
  {
   "cell_type": "code",
   "execution_count": 29,
   "metadata": {},
   "outputs": [],
   "source": [
    "from sklearn.preprocessing import LabelEncoder\n",
    "LE = LabelEncoder()\n",
    "\n",
    "product_performance_dfnew['pName'] = LE.fit_transform(product_performance_dfnew['pName'])"
   ]
  },
  {
   "cell_type": "code",
   "execution_count": 30,
   "metadata": {},
   "outputs": [
    {
     "data": {
      "text/html": [
       "<div>\n",
       "<style scoped>\n",
       "    .dataframe tbody tr th:only-of-type {\n",
       "        vertical-align: middle;\n",
       "    }\n",
       "\n",
       "    .dataframe tbody tr th {\n",
       "        vertical-align: top;\n",
       "    }\n",
       "\n",
       "    .dataframe thead th {\n",
       "        text-align: right;\n",
       "    }\n",
       "</style>\n",
       "<table border=\"1\" class=\"dataframe\">\n",
       "  <thead>\n",
       "    <tr style=\"text-align: right;\">\n",
       "      <th></th>\n",
       "      <th>pName</th>\n",
       "      <th>clicks</th>\n",
       "      <th>carts</th>\n",
       "      <th>orders</th>\n",
       "    </tr>\n",
       "  </thead>\n",
       "  <tbody>\n",
       "    <tr>\n",
       "      <th>0</th>\n",
       "      <td>113</td>\n",
       "      <td>29144</td>\n",
       "      <td>2181</td>\n",
       "      <td>204</td>\n",
       "    </tr>\n",
       "    <tr>\n",
       "      <th>1</th>\n",
       "      <td>113</td>\n",
       "      <td>25892</td>\n",
       "      <td>237</td>\n",
       "      <td>70</td>\n",
       "    </tr>\n",
       "    <tr>\n",
       "      <th>2</th>\n",
       "      <td>64</td>\n",
       "      <td>16343</td>\n",
       "      <td>340</td>\n",
       "      <td>97</td>\n",
       "    </tr>\n",
       "    <tr>\n",
       "      <th>3</th>\n",
       "      <td>180</td>\n",
       "      <td>16234</td>\n",
       "      <td>350</td>\n",
       "      <td>99</td>\n",
       "    </tr>\n",
       "    <tr>\n",
       "      <th>4</th>\n",
       "      <td>744</td>\n",
       "      <td>13317</td>\n",
       "      <td>229</td>\n",
       "      <td>56</td>\n",
       "    </tr>\n",
       "  </tbody>\n",
       "</table>\n",
       "</div>"
      ],
      "text/plain": [
       "   pName  clicks  carts  orders\n",
       "0    113   29144   2181     204\n",
       "1    113   25892    237      70\n",
       "2     64   16343    340      97\n",
       "3    180   16234    350      99\n",
       "4    744   13317    229      56"
      ]
     },
     "execution_count": 30,
     "metadata": {},
     "output_type": "execute_result"
    }
   ],
   "source": [
    "product_performance_dfnew.head()"
   ]
  },
  {
   "cell_type": "code",
   "execution_count": 31,
   "metadata": {},
   "outputs": [
    {
     "data": {
      "text/html": [
       "<div>\n",
       "<style scoped>\n",
       "    .dataframe tbody tr th:only-of-type {\n",
       "        vertical-align: middle;\n",
       "    }\n",
       "\n",
       "    .dataframe tbody tr th {\n",
       "        vertical-align: top;\n",
       "    }\n",
       "\n",
       "    .dataframe thead th {\n",
       "        text-align: right;\n",
       "    }\n",
       "</style>\n",
       "<table border=\"1\" class=\"dataframe\">\n",
       "  <thead>\n",
       "    <tr style=\"text-align: right;\">\n",
       "      <th></th>\n",
       "      <th>pName</th>\n",
       "      <th>clicks</th>\n",
       "      <th>carts</th>\n",
       "      <th>orders</th>\n",
       "    </tr>\n",
       "  </thead>\n",
       "  <tbody>\n",
       "    <tr>\n",
       "      <th>0</th>\n",
       "      <td>-2.105655</td>\n",
       "      <td>21.195728</td>\n",
       "      <td>41.049361</td>\n",
       "      <td>23.882960</td>\n",
       "    </tr>\n",
       "    <tr>\n",
       "      <th>1</th>\n",
       "      <td>-2.105655</td>\n",
       "      <td>18.785577</td>\n",
       "      <td>4.259874</td>\n",
       "      <td>7.947768</td>\n",
       "    </tr>\n",
       "    <tr>\n",
       "      <th>2</th>\n",
       "      <td>-2.314003</td>\n",
       "      <td>11.708536</td>\n",
       "      <td>6.209111</td>\n",
       "      <td>11.158591</td>\n",
       "    </tr>\n",
       "    <tr>\n",
       "      <th>3</th>\n",
       "      <td>-1.820771</td>\n",
       "      <td>11.627753</td>\n",
       "      <td>6.398357</td>\n",
       "      <td>11.396429</td>\n",
       "    </tr>\n",
       "    <tr>\n",
       "      <th>4</th>\n",
       "      <td>0.577360</td>\n",
       "      <td>9.465880</td>\n",
       "      <td>4.108477</td>\n",
       "      <td>6.282897</td>\n",
       "    </tr>\n",
       "  </tbody>\n",
       "</table>\n",
       "</div>"
      ],
      "text/plain": [
       "      pName     clicks      carts     orders\n",
       "0 -2.105655  21.195728  41.049361  23.882960\n",
       "1 -2.105655  18.785577   4.259874   7.947768\n",
       "2 -2.314003  11.708536   6.209111  11.158591\n",
       "3 -1.820771  11.627753   6.398357  11.396429\n",
       "4  0.577360   9.465880   4.108477   6.282897"
      ]
     },
     "execution_count": 31,
     "metadata": {},
     "output_type": "execute_result"
    }
   ],
   "source": [
    "#Scaling the dataset::\n",
    "sc = StandardScaler()\n",
    "full_product_performance= sc.fit_transform(product_performance_dfnew)\n",
    "columnslist = ['pName', 'clicks', 'carts', 'orders']\n",
    "full_product_performance_scaled = pd.DataFrame(full_product_performance, columns = columnslist)\n",
    "full_product_performance_scaled.head()"
   ]
  },
  {
   "cell_type": "markdown",
   "metadata": {},
   "source": [
    "# Checking the correlation matrix:"
   ]
  },
  {
   "cell_type": "code",
   "execution_count": 32,
   "metadata": {},
   "outputs": [],
   "source": [
    "df_cor = full_product_performance_scaled.corr()"
   ]
  },
  {
   "cell_type": "markdown",
   "metadata": {},
   "source": [
    "# Fig - 10"
   ]
  },
  {
   "cell_type": "code",
   "execution_count": 33,
   "metadata": {},
   "outputs": [
    {
     "data": {
      "text/plain": [
       "<matplotlib.axes._subplots.AxesSubplot at 0x1aaac2c5888>"
      ]
     },
     "execution_count": 33,
     "metadata": {},
     "output_type": "execute_result"
    },
    {
     "data": {
      "image/png": "[encoded data removed]",
      "text/plain": [
       "<Figure size 1440x720 with 2 Axes>"
      ]
     },
     "metadata": {
      "needs_background": "light"
     },
     "output_type": "display_data"
    }
   ],
   "source": [
    "# plotting correlation matrix using heatmap\n",
    "plt.figure(figsize=(20,10))\n",
    "plt.title('Correlation heat map', fontsize = 21)\n",
    "\n",
    "sns.heatmap(df_cor,cmap='Blues', annot=True)"
   ]
  },
  {
   "cell_type": "markdown",
   "metadata": {},
   "source": [
    "Observation: We can see that from the above correlation chart that, both clicks and carts values are highly correlated with orders column values."
   ]
  },
  {
   "cell_type": "code",
   "execution_count": 34,
   "metadata": {},
   "outputs": [],
   "source": [
    "# creating x,y dataset for further model building.\n",
    "x = full_product_performance_scaled.iloc[:,0:3]"
   ]
  },
  {
   "cell_type": "code",
   "execution_count": 35,
   "metadata": {},
   "outputs": [],
   "source": [
    "y = full_product_performance_scaled.iloc[:,-1]"
   ]
  },
  {
   "cell_type": "code",
   "execution_count": 36,
   "metadata": {
    "scrolled": true
   },
   "outputs": [
    {
     "name": "stdout",
     "output_type": "stream",
     "text": [
      "(2000, 3)\n",
      "(2000,)\n",
      "(501, 3)\n",
      "(501,)\n"
     ]
    }
   ],
   "source": [
    "#creating train test dataset from the x and y part inorder to start model making.\n",
    "from sklearn.model_selection import train_test_split\n",
    "x_train, x_test, y_train, y_test = train_test_split(x, y, test_size=.20, random_state=43)\n",
    "print(x_train.shape)\n",
    "print(y_train.shape)\n",
    "print(x_test.shape)\n",
    "print(y_test.shape)"
   ]
  },
  {
   "cell_type": "markdown",
   "metadata": {},
   "source": [
    "# Linear Regression model"
   ]
  },
  {
   "cell_type": "code",
   "execution_count": 37,
   "metadata": {},
   "outputs": [
    {
     "name": "stdout",
     "output_type": "stream",
     "text": [
      "linearRegression Coeffient [-0.01180309  0.62911512  0.33031792]\n",
      "linearRegression Intercept 0.0033685532403477762\n",
      "linearRegression score 0.8337276695037339\n"
     ]
    },
    {
     "data": {
      "text/plain": [
       "array([-4.36153743e-02,  1.14569118e-01, -6.62067057e-02,  5.63380876e-01,\n",
       "       -2.09377659e-01, -3.10555091e-01, -3.21278966e-01, -2.79315976e-01,\n",
       "       -1.51313884e-02, -3.08608608e-01,  3.50099768e-01, -3.27806542e-01,\n",
       "       -2.85372599e-01, -3.18947689e-01, -3.25475265e-01,  1.52206854e-01,\n",
       "       -5.85206915e-02, -3.09175717e-01,  2.52498767e-01, -2.11152304e-01,\n",
       "       -3.01229982e-01, -6.36725559e-02,  4.03925265e-01, -3.13697467e-01,\n",
       "       -2.41636970e-01, -3.23143988e-01, -1.41197527e-01, -2.93303639e-01,\n",
       "       -7.85000847e-02, -3.18481433e-01, -1.97738595e-01, -2.86577616e-01,\n",
       "       -3.15217645e-01,  2.60928384e-01, -1.99893848e-01, -3.10555091e-01,\n",
       "       -3.21745221e-01, -2.93303639e-01, -1.18568065e-01, -3.19880200e-01,\n",
       "       -3.06825047e-01,  7.66711525e-01,  6.38583963e-02, -3.03561259e-01,\n",
       "       -3.17548922e-01, -3.08690069e-01, -2.72788400e-01, -4.24453372e-02,\n",
       "       -1.35480265e-01, -3.10088835e-01, -3.15217645e-01, -9.40021163e-02,\n",
       "        6.07947955e-01, -1.48513420e-01, -3.19880200e-01, -3.15683901e-01,\n",
       "       -3.23143988e-01,  4.45213850e-01, -3.23610243e-01, -3.06825047e-01,\n",
       "       -2.48076861e-01, -3.16150156e-01,  2.55670826e-01, -3.19413944e-01,\n",
       "       -2.76052188e-01, -1.10690863e-01,  8.82430622e-03, -3.16150156e-01,\n",
       "       -1.80672957e-01, -3.17548922e-01, -7.76232003e-02, -3.18015178e-01,\n",
       "        7.06513832e-02, -2.88641085e-01,  4.86464002e-02, -3.09622580e-01,\n",
       "       -3.03095004e-01, -3.23299366e-01, -2.73720911e-01, -3.10088835e-01,\n",
       "       -2.69776712e-01, -2.60136355e-01, -3.11487602e-01,  2.14229402e-01,\n",
       "       -3.27340287e-01, -2.99831216e-01, -3.17548922e-01, -2.78383465e-01,\n",
       "       -3.27806542e-01, -3.11487602e-01,  3.51062691e-01, -3.16150156e-01,\n",
       "       -3.04027515e-01,  3.44505219e-02, -3.06825047e-01, -2.55070693e-01,\n",
       "       -2.69990867e-01,  3.13254872e-01, -3.20346455e-01, -3.19413944e-01,\n",
       "       -2.02053406e-01, -2.47732258e-01, -1.14053706e-01, -1.87619302e-02,\n",
       "        6.94523827e-02,  6.04378261e-01, -3.11953857e-01, -3.14285134e-01,\n",
       "        1.00868142e-02, -2.82111863e-01,  2.25096349e-01, -2.95634917e-01,\n",
       "       -2.89107340e-01, -2.67858092e-01, -3.13818879e-01, -3.04493770e-01,\n",
       "       -2.11708937e-01, -1.08617845e-01, -3.06825047e-01, -2.97966194e-01,\n",
       "       -3.18015178e-01, -2.97966194e-01, -3.16616412e-01, -3.27806542e-01,\n",
       "       -2.57899108e-01, -3.12886368e-01,  2.61432073e-01, -3.22211477e-01,\n",
       "        1.49897472e+00,  3.52872317e+00, -5.17592839e-02, -1.08275879e-01,\n",
       "       -3.28739053e-01, -3.28739053e-01, -1.92446002e-01, -3.28776192e-01,\n",
       "       -3.21278966e-01, -9.56176427e-02,  1.83865690e-01,  5.98431114e-01,\n",
       "        7.91126989e-02, -1.90868213e-01, -3.10555091e-01, -3.12886368e-01,\n",
       "       -3.23610243e-01, -3.12886368e-01,  6.42381856e-01, -3.08223814e-01,\n",
       "       -3.28021864e-01, -3.22677732e-01, -2.68613020e-01,  5.21409744e-01,\n",
       "        4.53189629e-02, -2.98898705e-01, -5.58172856e-04, -2.27185232e-01,\n",
       "       -2.86776063e-01,  4.50581277e-01, -1.80626694e-01, -3.16150156e-01,\n",
       "       -1.52495182e-01, -2.33307695e-01,  1.64222550e-02, -3.13818879e-01,\n",
       "        5.02039894e-01,  6.39883908e-01, -3.11953857e-01, -3.24528060e-01,\n",
       "       -2.78383465e-01, -3.18015178e-01, -3.16616412e-01, -1.06155520e-01,\n",
       "       -2.80714742e-01,  2.92427906e-01,  5.91006444e-01,  1.44789223e-02,\n",
       "        5.06935746e-01, -3.22211477e-01, -2.90972362e-01,  1.59463929e+00,\n",
       "       -2.99831216e-01, -1.77393254e-01, -3.02162493e-01, -7.44525475e-02,\n",
       "       -3.26407776e-01,  2.36968731e-01, -3.20812711e-01, -9.22599451e-02,\n",
       "       -3.25941520e-01, -2.01994270e-01, -2.71389634e-01, -3.18481433e-01,\n",
       "        1.39289302e-01, -3.16150156e-01, -3.12886368e-01, -2.31693247e-01,\n",
       "        9.34903249e-01, -2.40925853e-01,  4.59715046e-01, -3.11953857e-01,\n",
       "       -3.18015178e-01,  1.73097723e+00, -1.21147911e-01, -3.18015178e-01,\n",
       "       -3.26874031e-01, -3.05426281e-01, -3.26407776e-01,  2.45959124e-01,\n",
       "       -2.47144350e-01, -3.06825047e-01, -1.21356943e-01,  2.60793564e-01,\n",
       "       -3.21278966e-01,  5.35226887e-01, -3.00297471e-01, -3.21745221e-01,\n",
       "       -2.87708574e-01, -2.78630268e-01, -3.25009010e-01,  1.63002368e+00,\n",
       "       -3.14285134e-01, -2.81180998e-01, -3.05426281e-01,  2.95173921e-01,\n",
       "        5.64306531e-01, -2.95634917e-01,  8.40238602e-01, -3.21278966e-01,\n",
       "       -2.97499938e-01, -2.95168661e-01, -6.44867720e-02,  2.95184774e+00,\n",
       "       -3.20812711e-01, -3.11021346e-01, -3.20812711e-01, -3.23610243e-01,\n",
       "       -3.27806542e-01, -6.99767877e-02, -1.74603438e-01, -1.93245666e-01,\n",
       "       -3.16616412e-01, -2.67304925e-01, -2.73254655e-01, -3.18947689e-01,\n",
       "       -3.16150156e-01,  4.87778408e-02, -2.76880314e-01, -3.21278966e-01,\n",
       "        3.38477261e-01, -2.01927536e-01, -3.00297471e-01, -3.03095004e-01,\n",
       "       -2.80248487e-01, -3.22677732e-01, -2.92371128e-01,  1.96081259e-01,\n",
       "       -3.24542754e-01, -3.12886368e-01, -8.20786960e-02, -3.18947689e-01,\n",
       "       -2.31608375e-01, -6.00705732e-02, -3.09156324e-01, -2.05879333e-01,\n",
       "       -3.13818879e-01, -3.21745221e-01,  1.74582722e-01,  1.39368308e-02,\n",
       "        7.82735559e-01, -3.14751390e-01, -3.27806542e-01, -2.83512275e-01,\n",
       "       -3.25475265e-01,  1.91143505e-01, -2.48693613e-02,  1.90485700e+00,\n",
       "        2.40231190e-01, -1.65384415e-01, -3.19880200e-01, -3.09156324e-01,\n",
       "       -3.21934087e-01, -2.77450954e-01, -3.06358792e-01, -3.11021346e-01,\n",
       "       -3.23610243e-01, -2.83069284e-02,  5.18593908e+00, -1.85531713e-01,\n",
       "       -3.23143988e-01, -1.72738449e-01, -3.11487602e-01, -2.95634917e-01,\n",
       "       -2.00216301e-01, -3.06825047e-01, -3.06825047e-01, -1.89266422e-01,\n",
       "        5.92043120e-02, -3.24076499e-01,  2.37508414e-01, -1.20791425e-01,\n",
       "       -2.52730360e-02, -3.22677732e-01, -3.17082667e-01, -2.99831216e-01,\n",
       "        1.08861113e+00, -3.19847879e-01, -1.13706192e-01,  1.04361942e+00,\n",
       "       -2.89107340e-01, -3.08690069e-01, -3.13818879e-01, -1.42582461e-01,\n",
       "        1.58149009e-01, -3.01696237e-01, -3.19413944e-01, -3.18947689e-01,\n",
       "       -3.04493770e-01, -3.07757558e-01, -1.05431484e-01, -3.25009010e-01,\n",
       "        9.60141018e-01, -3.18015178e-01, -9.03757384e-02, -2.89573596e-01,\n",
       "       -1.53754670e-01, -3.12420113e-01, -2.92837384e-01,  5.65661857e-01,\n",
       "       -8.44786256e-02, -3.26407776e-01, -3.11021346e-01, -2.86912289e-01,\n",
       "       -7.44890319e-02,  3.91237165e-02, -3.25941520e-01, -2.81180998e-01,\n",
       "        9.73532327e-01, -3.23143988e-01, -3.21278966e-01,  3.98437506e-02,\n",
       "       -3.05426281e-01, -2.64862057e-01,  2.11181197e-01, -3.18947689e-01,\n",
       "       -1.85447919e-01,  3.71634679e-01, -3.26407776e-01, -2.97499938e-01,\n",
       "       -3.16616412e-01, -3.26407776e-01,  3.86099248e-01,  2.41599726e+00,\n",
       "       -2.95634917e-01, -1.33696814e-01,  4.52367501e-02, -3.19880200e-01,\n",
       "       -3.21278966e-01, -1.25956927e-01, -3.23143988e-01, -3.24088786e-03,\n",
       "       -3.16150156e-01, -1.06260919e-01, -2.48742218e-01, -2.88174829e-01,\n",
       "        1.53584920e-01, -3.27575001e-01, -3.09622580e-01, -3.14751390e-01,\n",
       "       -3.16616412e-01,  6.55265225e-01, -2.94236150e-01, -3.12886368e-01,\n",
       "       -1.58653432e-01, -1.88759648e-01, -3.09622580e-01, -2.11853720e-01,\n",
       "        1.64260276e-01, -3.24542754e-01, -3.22211477e-01,  8.33665602e-01,\n",
       "       -3.12886368e-01,  1.97299172e-01,  6.64568816e-01, -7.32296858e-02,\n",
       "       -1.41266801e-01, -3.20346455e-01, -1.85766219e-01,  3.95258885e-01,\n",
       "       -3.26407776e-01,  3.76817078e+00, -2.94236150e-01, -3.09156324e-01,\n",
       "       -3.23819101e-01, -3.21278966e-01, -3.25475265e-01, -3.25941520e-01,\n",
       "       -2.35021709e-01, -3.18947689e-01, -3.11953857e-01, -3.23143988e-01,\n",
       "        4.21050667e-02,  4.10963592e-01, -3.11487602e-01,  2.20786093e-01,\n",
       "       -2.02596784e-01, -3.16616412e-01, -3.14751390e-01, -2.88641085e-01,\n",
       "       -3.15683901e-01, -3.01229982e-01, -2.49176153e-01, -3.40740163e-01,\n",
       "        2.42745773e-01, -3.09622580e-01, -3.24542754e-01, -3.22211477e-01,\n",
       "        2.66299601e-02, -1.13728756e-01, -1.52257950e-01, -2.76239288e-01,\n",
       "       -1.95119517e-01, -1.74448213e-01, -3.25941520e-01, -3.24542754e-01,\n",
       "        1.34982190e+00,  5.03017579e-02, -3.27340287e-01, -2.99696036e-01,\n",
       "       -2.72322144e-01, -3.19880200e-01,  1.35443270e+00, -3.03561259e-01,\n",
       "       -3.14285134e-01, -2.64412524e-02, -2.79315976e-01, -3.22211477e-01,\n",
       "        2.21068901e-01, -3.09156324e-01, -3.17082667e-01, -3.25009010e-01,\n",
       "        2.94404354e-01, -3.08690069e-01, -3.13818879e-01, -2.06862782e-01,\n",
       "       -3.18481433e-01, -2.37683255e-01,  5.22686324e-01, -3.14751390e-01,\n",
       "       -6.62241472e-02, -3.25475265e-01,  1.17087189e+00, -2.19169024e-01,\n",
       "       -3.21745221e-01,  6.36467434e-01, -3.26407776e-01,  5.00410825e+00,\n",
       "        4.03011868e-02, -1.61017662e-01, -3.02162493e-01, -1.91872069e-01,\n",
       "       -3.17082667e-01, -3.10555091e-01, -2.75240250e-01, -3.08223814e-01,\n",
       "       -9.18592574e-02,  1.08276243e+00, -3.03095004e-01, -3.13352623e-01,\n",
       "       -3.20812711e-01,  1.06723495e-01, -3.06358792e-01,  3.34391081e-01,\n",
       "       -2.52643860e-01,  4.48484157e-01, -6.45503341e-02,  2.84113138e-01,\n",
       "       -3.21278966e-01, -3.06358792e-01, -2.97966194e-01, -3.22677732e-01,\n",
       "       -3.22677732e-01, -2.58258558e-01,  1.40743531e-02, -2.52739416e-01,\n",
       "       -3.22677732e-01, -2.84444786e-01, -2.19089144e-01, -6.34113312e-02,\n",
       "        2.05304948e-01, -3.14751390e-01,  1.28424120e-01, -3.15855499e-01,\n",
       "       -3.10555091e-01, -3.14751390e-01, -7.08877260e-02, -1.41806495e-01,\n",
       "       -3.21745221e-01, -3.05892536e-01,  5.90172650e-01,  1.01875176e+00,\n",
       "        1.20040913e+00])"
      ]
     },
     "execution_count": 37,
     "metadata": {},
     "output_type": "execute_result"
    }
   ],
   "source": [
    "# Linear Regression model making:\n",
    "lm = LinearRegression()\n",
    "lm.fit(x_train, y_train)\n",
    "\n",
    "print('linearRegression Coeffient', lm.coef_)\n",
    "print('linearRegression Intercept', lm.intercept_)\n",
    "print('linearRegression score', lm.score(x_train, y_train))\n",
    "\n",
    "# predicting x_test values\n",
    "y_pred = lm.predict(x_test)\n",
    "y_pred"
   ]
  },
  {
   "cell_type": "code",
   "execution_count": 38,
   "metadata": {},
   "outputs": [
    {
     "name": "stdout",
     "output_type": "stream",
     "text": [
      "ERRORS:\n",
      "MEAN ABSOLUTE ERROR:  0.17498006519002202\n",
      "MEAN SQUARED ERROR:  0.1251507142184426\n",
      "ROOT MEAN SQUARED ERROR:  0.35376646847665283\n"
     ]
    }
   ],
   "source": [
    "# calculating errors::\n",
    "print('ERRORS:')\n",
    "print(\"MEAN ABSOLUTE ERROR: \", mean_absolute_error(y_test, y_pred))\n",
    "print(\"MEAN SQUARED ERROR: \", mean_squared_error(y_test, y_pred))\n",
    "print('ROOT MEAN SQUARED ERROR: ', np.sqrt(mean_squared_error(y_test, y_pred)))"
   ]
  },
  {
   "cell_type": "code",
   "execution_count": 39,
   "metadata": {},
   "outputs": [
    {
     "name": "stdout",
     "output_type": "stream",
     "text": [
      "r2 Score of Linear Regression model: \n",
      "\n",
      "0.7533986492619723\n"
     ]
    }
   ],
   "source": [
    "print('r2 Score of Linear Regression model: \\n')\n",
    "print(r2_score(y_test, y_pred))"
   ]
  },
  {
   "cell_type": "code",
   "execution_count": 40,
   "metadata": {
    "scrolled": true
   },
   "outputs": [
    {
     "name": "stdout",
     "output_type": "stream",
     "text": [
      "0.7440914512307453\n"
     ]
    }
   ],
   "source": [
    "cv1 = KFold(n_splits=10, shuffle=True)\n",
    "\n",
    "print(cross_val_score(lm, x, y, cv=cv1).mean())"
   ]
  },
  {
   "cell_type": "markdown",
   "metadata": {},
   "source": [
    "# Support vector regression model"
   ]
  },
  {
   "cell_type": "code",
   "execution_count": 41,
   "metadata": {
    "scrolled": true
   },
   "outputs": [
    {
     "name": "stdout",
     "output_type": "stream",
     "text": [
      "\n",
      "kernel : linear\n",
      "0.6224258997854479\n",
      "\n",
      "kernel : poly\n",
      "0.7227634924497371\n",
      "\n",
      "kernel : rbf\n",
      "0.6331156979628442\n"
     ]
    }
   ],
   "source": [
    "from sklearn.svm import SVR\n",
    "\n",
    "kernellist = ['linear', 'poly', 'rbf']\n",
    "\n",
    "for i in kernellist:\n",
    "    sv = SVR(kernel = i)\n",
    "    sv.fit(x_train, y_train)\n",
    "    print('\\nkernel : ' + i)\n",
    "    print(sv.score(x_train, y_train))"
   ]
  },
  {
   "cell_type": "code",
   "execution_count": 42,
   "metadata": {},
   "outputs": [
    {
     "name": "stdout",
     "output_type": "stream",
     "text": [
      "\n",
      "kernel : poly\n",
      "0.7227634924497371\n"
     ]
    }
   ],
   "source": [
    "sv = SVR(kernel = 'poly')\n",
    "sv.fit(x_train, y_train)\n",
    "print('\\nkernel : poly')\n",
    "print(sv.score(x_train, y_train))"
   ]
  },
  {
   "cell_type": "code",
   "execution_count": 43,
   "metadata": {},
   "outputs": [
    {
     "name": "stdout",
     "output_type": "stream",
     "text": [
      "0.7227634924497371\n"
     ]
    }
   ],
   "source": [
    "sv_y_pred = sv.predict(x_test)\n",
    "print(sv.score(x_train, y_train))"
   ]
  },
  {
   "cell_type": "code",
   "execution_count": 44,
   "metadata": {},
   "outputs": [
    {
     "name": "stdout",
     "output_type": "stream",
     "text": [
      "ERRORS:\n",
      "MEAN ABSOLUTE ERROR:  0.24161264901288\n",
      "MEAN SQUARED ERROR:  0.22624188578967006\n",
      "ROOT MEAN SQUARED ERROR:  0.4756489102160017\n"
     ]
    }
   ],
   "source": [
    "print('ERRORS:')\n",
    "print(\"MEAN ABSOLUTE ERROR: \", mean_absolute_error(y_test, sv_y_pred))\n",
    "print(\"MEAN SQUARED ERROR: \", mean_squared_error(y_test, sv_y_pred))\n",
    "print('ROOT MEAN SQUARED ERROR: ', np.sqrt(mean_squared_error(y_test, sv_y_pred)))"
   ]
  },
  {
   "cell_type": "code",
   "execution_count": 45,
   "metadata": {
    "scrolled": true
   },
   "outputs": [
    {
     "name": "stdout",
     "output_type": "stream",
     "text": [
      "-89.33696298866477\n"
     ]
    }
   ],
   "source": [
    "cv1 = KFold(n_splits=10, shuffle=True)\n",
    "\n",
    "print(cross_val_score(sv, x, y, cv=cv1).mean())"
   ]
  },
  {
   "cell_type": "markdown",
   "metadata": {},
   "source": [
    "# Random Forest regression model"
   ]
  },
  {
   "cell_type": "code",
   "execution_count": 46,
   "metadata": {},
   "outputs": [
    {
     "name": "stdout",
     "output_type": "stream",
     "text": [
      "0.9667492137452858\n"
     ]
    }
   ],
   "source": [
    "rf = RandomForestRegressor(n_estimators=100)\n",
    "rf.fit(x_train, y_train)\n",
    "rfpred = rf.predict(x_test)\n",
    "print(rf.score(x_train, y_train))"
   ]
  },
  {
   "cell_type": "code",
   "execution_count": 47,
   "metadata": {},
   "outputs": [
    {
     "name": "stdout",
     "output_type": "stream",
     "text": [
      "ERRORS:\n",
      "MEAN ABSOLUTE ERROR:  0.14554445038919253\n",
      "MEAN SQUARED ERROR:  0.09391744656432909\n",
      "ROOT MEAN SQUARED ERROR:  0.3064595349541748\n"
     ]
    }
   ],
   "source": [
    "print('ERRORS:')\n",
    "print(\"MEAN ABSOLUTE ERROR: \", mean_absolute_error(y_test, rfpred))\n",
    "print(\"MEAN SQUARED ERROR: \", mean_squared_error(y_test, rfpred))\n",
    "print('ROOT MEAN SQUARED ERROR: ', np.sqrt(mean_squared_error(y_test, rfpred)))"
   ]
  },
  {
   "cell_type": "code",
   "execution_count": 48,
   "metadata": {},
   "outputs": [
    {
     "name": "stdout",
     "output_type": "stream",
     "text": [
      "0.7273766338489709\n"
     ]
    }
   ],
   "source": [
    "cv1 = KFold(n_splits=10, shuffle=True)\n",
    "\n",
    "print(cross_val_score(rf, x, y, cv=cv1).mean())"
   ]
  },
  {
   "cell_type": "markdown",
   "metadata": {},
   "source": [
    "# Ada Boost regression model"
   ]
  },
  {
   "cell_type": "code",
   "execution_count": 49,
   "metadata": {},
   "outputs": [
    {
     "name": "stdout",
     "output_type": "stream",
     "text": [
      "0.8371902700023341\n"
     ]
    }
   ],
   "source": [
    "adr = AdaBoostRegressor(n_estimators=100)\n",
    "adr.fit(x_train, y_train)\n",
    "adr_pred=adr.predict(x_test)\n",
    "print(adr.score(x_train, y_train))"
   ]
  },
  {
   "cell_type": "code",
   "execution_count": 50,
   "metadata": {},
   "outputs": [
    {
     "name": "stdout",
     "output_type": "stream",
     "text": [
      "ERRORS:\n",
      "MEAN ABSOLUTE ERROR:  0.3691063925732223\n",
      "MEAN SQUARED ERROR:  0.19919736488202522\n",
      "ROOT MEAN SQUARED ERROR:  0.4463153200171659\n"
     ]
    }
   ],
   "source": [
    "print('ERRORS:')\n",
    "print(\"MEAN ABSOLUTE ERROR: \", mean_absolute_error(y_test, adr_pred))\n",
    "print(\"MEAN SQUARED ERROR: \", mean_squared_error(y_test, adr_pred))\n",
    "print('ROOT MEAN SQUARED ERROR: ', np.sqrt(mean_squared_error(y_test, adr_pred)))"
   ]
  },
  {
   "cell_type": "code",
   "execution_count": 51,
   "metadata": {},
   "outputs": [
    {
     "name": "stdout",
     "output_type": "stream",
     "text": [
      "0.32476927697784086\n"
     ]
    }
   ],
   "source": [
    "from sklearn.model_selection import KFold\n",
    "\n",
    "cv1 = KFold(n_splits=10, shuffle=True)\n",
    "\n",
    "print(cross_val_score(adr, x, y, cv= cv1).mean())"
   ]
  },
  {
   "cell_type": "markdown",
   "metadata": {},
   "source": [
    "# FINAL MODEL SELECTION:"
   ]
  },
  {
   "cell_type": "markdown",
   "metadata": {},
   "source": [
    "Observation: Linear regression seems to be the best model to predicts the orders because their score and cross validation difference seems to be less among all the models."
   ]
  },
  {
   "cell_type": "markdown",
   "metadata": {},
   "source": [
    "# Fig - 11"
   ]
  },
  {
   "cell_type": "code",
   "execution_count": 64,
   "metadata": {},
   "outputs": [
    {
     "data": {
      "text/plain": [
       "<matplotlib.collections.PathCollection at 0x1aaab6a0608>"
      ]
     },
     "execution_count": 64,
     "metadata": {},
     "output_type": "execute_result"
    },
    {
     "data": {
      "image/png": "[encoded data removed]",
      "text/plain": [
       "<Figure size 432x288 with 1 Axes>"
      ]
     },
     "metadata": {
      "needs_background": "light"
     },
     "output_type": "display_data"
    }
   ],
   "source": [
    "# scatter plot of y_test and predicted y_test dataset\n",
    "plt.title('ytest v/s ypredicted values alignment plot')\n",
    "plt.scatter(y_test, y_pred)"
   ]
  },
  {
   "cell_type": "markdown",
   "metadata": {},
   "source": [
    "Observation: We can see that both the ytest and ypredicted values seems to be linear in nature and near about aligned on eachother."
   ]
  },
  {
   "cell_type": "code",
   "execution_count": 53,
   "metadata": {},
   "outputs": [
    {
     "data": {
      "text/plain": [
       "['customer_order_prediction_Model.pkl']"
      ]
     },
     "execution_count": 53,
     "metadata": {},
     "output_type": "execute_result"
    }
   ],
   "source": [
    "import joblib\n",
    "joblib.dump(lm, 'customer_order_prediction_Model.pkl')"
   ]
  },
  {
   "cell_type": "code",
   "execution_count": 54,
   "metadata": {},
   "outputs": [
    {
     "data": {
      "text/plain": [
       "array([-4.36153743e-02,  1.14569118e-01, -6.62067057e-02,  5.63380876e-01,\n",
       "       -2.09377659e-01, -3.10555091e-01, -3.21278966e-01, -2.79315976e-01,\n",
       "       -1.51313884e-02, -3.08608608e-01,  3.50099768e-01, -3.27806542e-01,\n",
       "       -2.85372599e-01, -3.18947689e-01, -3.25475265e-01,  1.52206854e-01,\n",
       "       -5.85206915e-02, -3.09175717e-01,  2.52498767e-01, -2.11152304e-01,\n",
       "       -3.01229982e-01, -6.36725559e-02,  4.03925265e-01, -3.13697467e-01,\n",
       "       -2.41636970e-01, -3.23143988e-01, -1.41197527e-01, -2.93303639e-01,\n",
       "       -7.85000847e-02, -3.18481433e-01, -1.97738595e-01, -2.86577616e-01,\n",
       "       -3.15217645e-01,  2.60928384e-01, -1.99893848e-01, -3.10555091e-01,\n",
       "       -3.21745221e-01, -2.93303639e-01, -1.18568065e-01, -3.19880200e-01,\n",
       "       -3.06825047e-01,  7.66711525e-01,  6.38583963e-02, -3.03561259e-01,\n",
       "       -3.17548922e-01, -3.08690069e-01, -2.72788400e-01, -4.24453372e-02,\n",
       "       -1.35480265e-01, -3.10088835e-01, -3.15217645e-01, -9.40021163e-02,\n",
       "        6.07947955e-01, -1.48513420e-01, -3.19880200e-01, -3.15683901e-01,\n",
       "       -3.23143988e-01,  4.45213850e-01, -3.23610243e-01, -3.06825047e-01,\n",
       "       -2.48076861e-01, -3.16150156e-01,  2.55670826e-01, -3.19413944e-01,\n",
       "       -2.76052188e-01, -1.10690863e-01,  8.82430622e-03, -3.16150156e-01,\n",
       "       -1.80672957e-01, -3.17548922e-01, -7.76232003e-02, -3.18015178e-01,\n",
       "        7.06513832e-02, -2.88641085e-01,  4.86464002e-02, -3.09622580e-01,\n",
       "       -3.03095004e-01, -3.23299366e-01, -2.73720911e-01, -3.10088835e-01,\n",
       "       -2.69776712e-01, -2.60136355e-01, -3.11487602e-01,  2.14229402e-01,\n",
       "       -3.27340287e-01, -2.99831216e-01, -3.17548922e-01, -2.78383465e-01,\n",
       "       -3.27806542e-01, -3.11487602e-01,  3.51062691e-01, -3.16150156e-01,\n",
       "       -3.04027515e-01,  3.44505219e-02, -3.06825047e-01, -2.55070693e-01,\n",
       "       -2.69990867e-01,  3.13254872e-01, -3.20346455e-01, -3.19413944e-01,\n",
       "       -2.02053406e-01, -2.47732258e-01, -1.14053706e-01, -1.87619302e-02,\n",
       "        6.94523827e-02,  6.04378261e-01, -3.11953857e-01, -3.14285134e-01,\n",
       "        1.00868142e-02, -2.82111863e-01,  2.25096349e-01, -2.95634917e-01,\n",
       "       -2.89107340e-01, -2.67858092e-01, -3.13818879e-01, -3.04493770e-01,\n",
       "       -2.11708937e-01, -1.08617845e-01, -3.06825047e-01, -2.97966194e-01,\n",
       "       -3.18015178e-01, -2.97966194e-01, -3.16616412e-01, -3.27806542e-01,\n",
       "       -2.57899108e-01, -3.12886368e-01,  2.61432073e-01, -3.22211477e-01,\n",
       "        1.49897472e+00,  3.52872317e+00, -5.17592839e-02, -1.08275879e-01,\n",
       "       -3.28739053e-01, -3.28739053e-01, -1.92446002e-01, -3.28776192e-01,\n",
       "       -3.21278966e-01, -9.56176427e-02,  1.83865690e-01,  5.98431114e-01,\n",
       "        7.91126989e-02, -1.90868213e-01, -3.10555091e-01, -3.12886368e-01,\n",
       "       -3.23610243e-01, -3.12886368e-01,  6.42381856e-01, -3.08223814e-01,\n",
       "       -3.28021864e-01, -3.22677732e-01, -2.68613020e-01,  5.21409744e-01,\n",
       "        4.53189629e-02, -2.98898705e-01, -5.58172856e-04, -2.27185232e-01,\n",
       "       -2.86776063e-01,  4.50581277e-01, -1.80626694e-01, -3.16150156e-01,\n",
       "       -1.52495182e-01, -2.33307695e-01,  1.64222550e-02, -3.13818879e-01,\n",
       "        5.02039894e-01,  6.39883908e-01, -3.11953857e-01, -3.24528060e-01,\n",
       "       -2.78383465e-01, -3.18015178e-01, -3.16616412e-01, -1.06155520e-01,\n",
       "       -2.80714742e-01,  2.92427906e-01,  5.91006444e-01,  1.44789223e-02,\n",
       "        5.06935746e-01, -3.22211477e-01, -2.90972362e-01,  1.59463929e+00,\n",
       "       -2.99831216e-01, -1.77393254e-01, -3.02162493e-01, -7.44525475e-02,\n",
       "       -3.26407776e-01,  2.36968731e-01, -3.20812711e-01, -9.22599451e-02,\n",
       "       -3.25941520e-01, -2.01994270e-01, -2.71389634e-01, -3.18481433e-01,\n",
       "        1.39289302e-01, -3.16150156e-01, -3.12886368e-01, -2.31693247e-01,\n",
       "        9.34903249e-01, -2.40925853e-01,  4.59715046e-01, -3.11953857e-01,\n",
       "       -3.18015178e-01,  1.73097723e+00, -1.21147911e-01, -3.18015178e-01,\n",
       "       -3.26874031e-01, -3.05426281e-01, -3.26407776e-01,  2.45959124e-01,\n",
       "       -2.47144350e-01, -3.06825047e-01, -1.21356943e-01,  2.60793564e-01,\n",
       "       -3.21278966e-01,  5.35226887e-01, -3.00297471e-01, -3.21745221e-01,\n",
       "       -2.87708574e-01, -2.78630268e-01, -3.25009010e-01,  1.63002368e+00,\n",
       "       -3.14285134e-01, -2.81180998e-01, -3.05426281e-01,  2.95173921e-01,\n",
       "        5.64306531e-01, -2.95634917e-01,  8.40238602e-01, -3.21278966e-01,\n",
       "       -2.97499938e-01, -2.95168661e-01, -6.44867720e-02,  2.95184774e+00,\n",
       "       -3.20812711e-01, -3.11021346e-01, -3.20812711e-01, -3.23610243e-01,\n",
       "       -3.27806542e-01, -6.99767877e-02, -1.74603438e-01, -1.93245666e-01,\n",
       "       -3.16616412e-01, -2.67304925e-01, -2.73254655e-01, -3.18947689e-01,\n",
       "       -3.16150156e-01,  4.87778408e-02, -2.76880314e-01, -3.21278966e-01,\n",
       "        3.38477261e-01, -2.01927536e-01, -3.00297471e-01, -3.03095004e-01,\n",
       "       -2.80248487e-01, -3.22677732e-01, -2.92371128e-01,  1.96081259e-01,\n",
       "       -3.24542754e-01, -3.12886368e-01, -8.20786960e-02, -3.18947689e-01,\n",
       "       -2.31608375e-01, -6.00705732e-02, -3.09156324e-01, -2.05879333e-01,\n",
       "       -3.13818879e-01, -3.21745221e-01,  1.74582722e-01,  1.39368308e-02,\n",
       "        7.82735559e-01, -3.14751390e-01, -3.27806542e-01, -2.83512275e-01,\n",
       "       -3.25475265e-01,  1.91143505e-01, -2.48693613e-02,  1.90485700e+00,\n",
       "        2.40231190e-01, -1.65384415e-01, -3.19880200e-01, -3.09156324e-01,\n",
       "       -3.21934087e-01, -2.77450954e-01, -3.06358792e-01, -3.11021346e-01,\n",
       "       -3.23610243e-01, -2.83069284e-02,  5.18593908e+00, -1.85531713e-01,\n",
       "       -3.23143988e-01, -1.72738449e-01, -3.11487602e-01, -2.95634917e-01,\n",
       "       -2.00216301e-01, -3.06825047e-01, -3.06825047e-01, -1.89266422e-01,\n",
       "        5.92043120e-02, -3.24076499e-01,  2.37508414e-01, -1.20791425e-01,\n",
       "       -2.52730360e-02, -3.22677732e-01, -3.17082667e-01, -2.99831216e-01,\n",
       "        1.08861113e+00, -3.19847879e-01, -1.13706192e-01,  1.04361942e+00,\n",
       "       -2.89107340e-01, -3.08690069e-01, -3.13818879e-01, -1.42582461e-01,\n",
       "        1.58149009e-01, -3.01696237e-01, -3.19413944e-01, -3.18947689e-01,\n",
       "       -3.04493770e-01, -3.07757558e-01, -1.05431484e-01, -3.25009010e-01,\n",
       "        9.60141018e-01, -3.18015178e-01, -9.03757384e-02, -2.89573596e-01,\n",
       "       -1.53754670e-01, -3.12420113e-01, -2.92837384e-01,  5.65661857e-01,\n",
       "       -8.44786256e-02, -3.26407776e-01, -3.11021346e-01, -2.86912289e-01,\n",
       "       -7.44890319e-02,  3.91237165e-02, -3.25941520e-01, -2.81180998e-01,\n",
       "        9.73532327e-01, -3.23143988e-01, -3.21278966e-01,  3.98437506e-02,\n",
       "       -3.05426281e-01, -2.64862057e-01,  2.11181197e-01, -3.18947689e-01,\n",
       "       -1.85447919e-01,  3.71634679e-01, -3.26407776e-01, -2.97499938e-01,\n",
       "       -3.16616412e-01, -3.26407776e-01,  3.86099248e-01,  2.41599726e+00,\n",
       "       -2.95634917e-01, -1.33696814e-01,  4.52367501e-02, -3.19880200e-01,\n",
       "       -3.21278966e-01, -1.25956927e-01, -3.23143988e-01, -3.24088786e-03,\n",
       "       -3.16150156e-01, -1.06260919e-01, -2.48742218e-01, -2.88174829e-01,\n",
       "        1.53584920e-01, -3.27575001e-01, -3.09622580e-01, -3.14751390e-01,\n",
       "       -3.16616412e-01,  6.55265225e-01, -2.94236150e-01, -3.12886368e-01,\n",
       "       -1.58653432e-01, -1.88759648e-01, -3.09622580e-01, -2.11853720e-01,\n",
       "        1.64260276e-01, -3.24542754e-01, -3.22211477e-01,  8.33665602e-01,\n",
       "       -3.12886368e-01,  1.97299172e-01,  6.64568816e-01, -7.32296858e-02,\n",
       "       -1.41266801e-01, -3.20346455e-01, -1.85766219e-01,  3.95258885e-01,\n",
       "       -3.26407776e-01,  3.76817078e+00, -2.94236150e-01, -3.09156324e-01,\n",
       "       -3.23819101e-01, -3.21278966e-01, -3.25475265e-01, -3.25941520e-01,\n",
       "       -2.35021709e-01, -3.18947689e-01, -3.11953857e-01, -3.23143988e-01,\n",
       "        4.21050667e-02,  4.10963592e-01, -3.11487602e-01,  2.20786093e-01,\n",
       "       -2.02596784e-01, -3.16616412e-01, -3.14751390e-01, -2.88641085e-01,\n",
       "       -3.15683901e-01, -3.01229982e-01, -2.49176153e-01, -3.40740163e-01,\n",
       "        2.42745773e-01, -3.09622580e-01, -3.24542754e-01, -3.22211477e-01,\n",
       "        2.66299601e-02, -1.13728756e-01, -1.52257950e-01, -2.76239288e-01,\n",
       "       -1.95119517e-01, -1.74448213e-01, -3.25941520e-01, -3.24542754e-01,\n",
       "        1.34982190e+00,  5.03017579e-02, -3.27340287e-01, -2.99696036e-01,\n",
       "       -2.72322144e-01, -3.19880200e-01,  1.35443270e+00, -3.03561259e-01,\n",
       "       -3.14285134e-01, -2.64412524e-02, -2.79315976e-01, -3.22211477e-01,\n",
       "        2.21068901e-01, -3.09156324e-01, -3.17082667e-01, -3.25009010e-01,\n",
       "        2.94404354e-01, -3.08690069e-01, -3.13818879e-01, -2.06862782e-01,\n",
       "       -3.18481433e-01, -2.37683255e-01,  5.22686324e-01, -3.14751390e-01,\n",
       "       -6.62241472e-02, -3.25475265e-01,  1.17087189e+00, -2.19169024e-01,\n",
       "       -3.21745221e-01,  6.36467434e-01, -3.26407776e-01,  5.00410825e+00,\n",
       "        4.03011868e-02, -1.61017662e-01, -3.02162493e-01, -1.91872069e-01,\n",
       "       -3.17082667e-01, -3.10555091e-01, -2.75240250e-01, -3.08223814e-01,\n",
       "       -9.18592574e-02,  1.08276243e+00, -3.03095004e-01, -3.13352623e-01,\n",
       "       -3.20812711e-01,  1.06723495e-01, -3.06358792e-01,  3.34391081e-01,\n",
       "       -2.52643860e-01,  4.48484157e-01, -6.45503341e-02,  2.84113138e-01,\n",
       "       -3.21278966e-01, -3.06358792e-01, -2.97966194e-01, -3.22677732e-01,\n",
       "       -3.22677732e-01, -2.58258558e-01,  1.40743531e-02, -2.52739416e-01,\n",
       "       -3.22677732e-01, -2.84444786e-01, -2.19089144e-01, -6.34113312e-02,\n",
       "        2.05304948e-01, -3.14751390e-01,  1.28424120e-01, -3.15855499e-01,\n",
       "       -3.10555091e-01, -3.14751390e-01, -7.08877260e-02, -1.41806495e-01,\n",
       "       -3.21745221e-01, -3.05892536e-01,  5.90172650e-01,  1.01875176e+00,\n",
       "        1.20040913e+00])"
      ]
     },
     "execution_count": 54,
     "metadata": {},
     "output_type": "execute_result"
    }
   ],
   "source": [
    "#Reloading the model and predicting the dataset.\n",
    "customer_order_prediction_Model = joblib.load('customer_order_prediction_Model.pkl')\n",
    "customer_order_prediction_Model.predict(x_test)"
   ]
  },
  {
   "cell_type": "markdown",
   "metadata": {},
   "source": [
    "OBSERVATION: Linear regression model seems to be the perfect model if we need to predict the possible orders turned out tobe depending on the number of clicks and carted values of any particular product and eventually our model is working with the accuracy of 83%. customer_order_prediction_Model.pkl is our final model to predict the probability of orders from the clicks and carted database."
   ]
  },
  {
   "cell_type": "markdown",
   "metadata": {},
   "source": [
    "# STUDYING THE OTHER DATASETS INORDER TO GET MORE INSIGHTS"
   ]
  },
  {
   "cell_type": "markdown",
   "metadata": {},
   "source": [
    "# Fig - 12"
   ]
  },
  {
   "cell_type": "code",
   "execution_count": 59,
   "metadata": {
    "scrolled": true
   },
   "outputs": [
    {
     "data": {
      "text/plain": [
       "[<matplotlib.lines.Line2D at 0x1aaab89fe08>]"
      ]
     },
     "execution_count": 59,
     "metadata": {},
     "output_type": "execute_result"
    },
    {
     "data": {
      "image/png": "[encoded data removed]",
      "text/plain": [
       "<Figure size 432x288 with 1 Axes>"
      ]
     },
     "metadata": {
      "needs_background": "light"
     },
     "output_type": "display_data"
    }
   ],
   "source": [
    "#plotting the uncarted data v/s pName values\n",
    "plt.title('uncarted v/s pName datasets')\n",
    "plt.plot(product_performance_df_greaterthan5000clicks['uncarted'], product_performance_df_greaterthan5000clicks['pName'],color='green')"
   ]
  },
  {
   "cell_type": "markdown",
   "metadata": {},
   "source": [
    "# Fig - 13"
   ]
  },
  {
   "cell_type": "code",
   "execution_count": 60,
   "metadata": {
    "scrolled": true
   },
   "outputs": [
    {
     "data": {
      "text/plain": [
       "[<matplotlib.lines.Line2D at 0x1aaab6d36c8>]"
      ]
     },
     "execution_count": 60,
     "metadata": {},
     "output_type": "execute_result"
    },
    {
     "data": {
      "image/png": "[encoded data removed]",
      "text/plain": [
       "<Figure size 432x288 with 1 Axes>"
      ]
     },
     "metadata": {
      "needs_background": "light"
     },
     "output_type": "display_data"
    }
   ],
   "source": [
    "#plotting the unordered data v/s pName values\n",
    "plt.title('unordered v/s pName datasets')\n",
    "plt.plot(product_performance_df_greaterthan5000clicks['unordered'], product_performance_df_greaterthan5000clicks['pName'],color='red')"
   ]
  },
  {
   "cell_type": "markdown",
   "metadata": {},
   "source": [
    "# Fig - 14"
   ]
  },
  {
   "cell_type": "code",
   "execution_count": 61,
   "metadata": {},
   "outputs": [
    {
     "data": {
      "image/png": "[encoded data removed]",
      "text/plain": [
       "<Figure size 432x288 with 1 Axes>"
      ]
     },
     "metadata": {
      "needs_background": "light"
     },
     "output_type": "display_data"
    }
   ],
   "source": [
    "plt.title('unordered datasets histogram')\n",
    "plt.hist(product_performance_df_greaterthan5000clicks['uncarted'], bins = 10)\n",
    "plt.show()"
   ]
  },
  {
   "cell_type": "markdown",
   "metadata": {},
   "source": [
    "# Working on dataset with less than 5000 clicks"
   ]
  },
  {
   "cell_type": "code",
   "execution_count": 69,
   "metadata": {},
   "outputs": [],
   "source": [
    "# separating the datasets with less than 5000 clicks.\n",
    "product_performance_df_lessthan5000clicks = product_performance_df[product_performance_df['clicks'] < 5000]"
   ]
  },
  {
   "cell_type": "code",
   "execution_count": 70,
   "metadata": {},
   "outputs": [
    {
     "data": {
      "text/plain": [
       "2475"
      ]
     },
     "execution_count": 70,
     "metadata": {},
     "output_type": "execute_result"
    }
   ],
   "source": [
    "len(product_performance_df_lessthan5000clicks)"
   ]
  },
  {
   "cell_type": "code",
   "execution_count": 71,
   "metadata": {},
   "outputs": [],
   "source": [
    "product_performance_df_with_zero_clicks = product_performance_df['clicks'] == 0"
   ]
  },
  {
   "cell_type": "code",
   "execution_count": 72,
   "metadata": {
    "scrolled": true
   },
   "outputs": [
    {
     "data": {
      "text/plain": [
       "2501"
      ]
     },
     "execution_count": 72,
     "metadata": {},
     "output_type": "execute_result"
    }
   ],
   "source": [
    "len(product_performance_df_with_zero_clicks)"
   ]
  },
  {
   "cell_type": "code",
   "execution_count": 73,
   "metadata": {},
   "outputs": [],
   "source": [
    "product_performance_greaterthan0clicks = product_performance_df_lessthan5000clicks['clicks'] > 0"
   ]
  },
  {
   "cell_type": "code",
   "execution_count": 74,
   "metadata": {
    "scrolled": true
   },
   "outputs": [
    {
     "data": {
      "text/plain": [
       "2475"
      ]
     },
     "execution_count": 74,
     "metadata": {},
     "output_type": "execute_result"
    }
   ],
   "source": [
    "len(product_performance_greaterthan0clicks)"
   ]
  },
  {
   "cell_type": "code",
   "execution_count": 75,
   "metadata": {},
   "outputs": [
    {
     "data": {
      "text/plain": [
       "Index(['pId', 'pName', 'clicks', 'carts', 'orders', 'unordered', 'uncarted'], dtype='object')"
      ]
     },
     "execution_count": 75,
     "metadata": {},
     "output_type": "execute_result"
    }
   ],
   "source": [
    "product_performance_df_greaterthan5000clicks.columns"
   ]
  },
  {
   "cell_type": "code",
   "execution_count": 76,
   "metadata": {},
   "outputs": [],
   "source": [
    "product_performance_df_greaterthan5000clicknew = product_performance_df_greaterthan5000clicks[['clicks', 'carts', 'orders', 'unordered', 'uncarted']]"
   ]
  },
  {
   "cell_type": "code",
   "execution_count": 77,
   "metadata": {
    "scrolled": true
   },
   "outputs": [
    {
     "data": {
      "text/html": [
       "<div>\n",
       "<style scoped>\n",
       "    .dataframe tbody tr th:only-of-type {\n",
       "        vertical-align: middle;\n",
       "    }\n",
       "\n",
       "    .dataframe tbody tr th {\n",
       "        vertical-align: top;\n",
       "    }\n",
       "\n",
       "    .dataframe thead th {\n",
       "        text-align: right;\n",
       "    }\n",
       "</style>\n",
       "<table border=\"1\" class=\"dataframe\">\n",
       "  <thead>\n",
       "    <tr style=\"text-align: right;\">\n",
       "      <th></th>\n",
       "      <th>clicks</th>\n",
       "      <th>carts</th>\n",
       "      <th>orders</th>\n",
       "      <th>unordered</th>\n",
       "      <th>uncarted</th>\n",
       "    </tr>\n",
       "  </thead>\n",
       "  <tbody>\n",
       "    <tr>\n",
       "      <th>0</th>\n",
       "      <td>3.205688</td>\n",
       "      <td>4.820157</td>\n",
       "      <td>3.796461</td>\n",
       "      <td>4.867778</td>\n",
       "      <td>3.021428</td>\n",
       "    </tr>\n",
       "    <tr>\n",
       "      <th>1</th>\n",
       "      <td>2.652627</td>\n",
       "      <td>-0.056637</td>\n",
       "      <td>0.357337</td>\n",
       "      <td>-0.100183</td>\n",
       "      <td>2.787967</td>\n",
       "    </tr>\n",
       "    <tr>\n",
       "      <th>2</th>\n",
       "      <td>1.028649</td>\n",
       "      <td>0.201752</td>\n",
       "      <td>1.050295</td>\n",
       "      <td>0.108417</td>\n",
       "      <td>1.065215</td>\n",
       "    </tr>\n",
       "    <tr>\n",
       "      <th>3</th>\n",
       "      <td>1.010112</td>\n",
       "      <td>0.226839</td>\n",
       "      <td>1.101625</td>\n",
       "      <td>0.130375</td>\n",
       "      <td>1.043975</td>\n",
       "    </tr>\n",
       "    <tr>\n",
       "      <th>4</th>\n",
       "      <td>0.514024</td>\n",
       "      <td>-0.076706</td>\n",
       "      <td>-0.001974</td>\n",
       "      <td>-0.083714</td>\n",
       "      <td>0.544926</td>\n",
       "    </tr>\n",
       "  </tbody>\n",
       "</table>\n",
       "</div>"
      ],
      "text/plain": [
       "     clicks     carts    orders  unordered  uncarted\n",
       "0  3.205688  4.820157  3.796461   4.867778  3.021428\n",
       "1  2.652627 -0.056637  0.357337  -0.100183  2.787967\n",
       "2  1.028649  0.201752  1.050295   0.108417  1.065215\n",
       "3  1.010112  0.226839  1.101625   0.130375  1.043975\n",
       "4  0.514024 -0.076706 -0.001974  -0.083714  0.544926"
      ]
     },
     "execution_count": 77,
     "metadata": {},
     "output_type": "execute_result"
    }
   ],
   "source": [
    "#Scaling the dataset::\n",
    "sc = StandardScaler()\n",
    "product_performance_df_scaled= sc.fit_transform(product_performance_df_greaterthan5000clicknew)\n",
    "columnslist = ['clicks', 'carts', 'orders', 'unordered', 'uncarted']\n",
    "product_performance_scaled = pd.DataFrame(product_performance_df_scaled, columns = columnslist)\n",
    "product_performance_scaled.head()"
   ]
  },
  {
   "cell_type": "markdown",
   "metadata": {},
   "source": [
    "# Fig - 15"
   ]
  },
  {
   "cell_type": "code",
   "execution_count": 79,
   "metadata": {
    "scrolled": true
   },
   "outputs": [
    {
     "data": {
      "text/plain": [
       "Text(0, 0.5, 'WCSS1')"
      ]
     },
     "execution_count": 79,
     "metadata": {},
     "output_type": "execute_result"
    },
    {
     "data": {
      "image/png": "[encoded data removed]",
      "text/plain": [
       "<Figure size 432x288 with 1 Axes>"
      ]
     },
     "metadata": {
      "needs_background": "light"
     },
     "output_type": "display_data"
    }
   ],
   "source": [
    "from sklearn.cluster import KMeans\n",
    "wcss1=[]\n",
    "for i in range(1,10):\n",
    "    kmeans = KMeans(i)\n",
    "    kmeans.fit(product_performance_scaled)\n",
    "\n",
    "    wcss_iter = kmeans.inertia_\n",
    "    wcss1.append(wcss_iter)\n",
    "\n",
    "number_clusters = range(1,10)\n",
    "plt.plot(number_clusters, wcss1)\n",
    "plt.title('The Elbow Plot to find number of clusters possible in product performance dataset')\n",
    "plt.xlabel('Number of clusters')\n",
    "plt.ylabel('WCSS1')"
   ]
  },
  {
   "cell_type": "markdown",
   "metadata": {},
   "source": [
    "Observation: We can see that from the above elbow plot, 3 seems to be number of  cluster number above which theres not much difference in the distances between the clusters."
   ]
  },
  {
   "cell_type": "code",
   "execution_count": 81,
   "metadata": {},
   "outputs": [
    {
     "data": {
      "text/plain": [
       "KMeans(n_clusters=3)"
      ]
     },
     "execution_count": 81,
     "metadata": {},
     "output_type": "execute_result"
    }
   ],
   "source": [
    "# considering 3 as the number of clusters to making in the plot.\n",
    "from sklearn.cluster import KMeans\n",
    "kmeans = KMeans(3)\n",
    "kmeans.fit(product_performance_scaled)"
   ]
  },
  {
   "cell_type": "code",
   "execution_count": 82,
   "metadata": {
    "scrolled": true
   },
   "outputs": [
    {
     "data": {
      "text/plain": [
       "array([1, 0, 0, 0, 0, 0, 0, 2, 2, 0, 2, 2, 2, 2, 2, 2, 2, 2, 2, 2, 2, 2,\n",
       "       2, 2, 2, 2])"
      ]
     },
     "execution_count": 82,
     "metadata": {},
     "output_type": "execute_result"
    }
   ],
   "source": [
    "identified_clusters = kmeans.fit_predict(product_performance_scaled)\n",
    "identified_clusters"
   ]
  },
  {
   "cell_type": "markdown",
   "metadata": {},
   "source": [
    "# Fig - 16"
   ]
  },
  {
   "cell_type": "code",
   "execution_count": 86,
   "metadata": {},
   "outputs": [
    {
     "data": {
      "text/plain": [
       "Text(0, 0.5, 'Unordered Values')"
      ]
     },
     "execution_count": 86,
     "metadata": {},
     "output_type": "execute_result"
    },
    {
     "data": {
      "image/png": "[encoded data removed]",
      "text/plain": [
       "<Figure size 432x288 with 1 Axes>"
      ]
     },
     "metadata": {
      "needs_background": "light"
     },
     "output_type": "display_data"
    }
   ],
   "source": [
    "data_with_clusters = product_performance_scaled.copy()\n",
    "data_with_clusters['Clusters'] = identified_clusters\n",
    "plt.title('product_performance_datasets with clusters')\n",
    "plt.scatter(data_with_clusters['carts'], data_with_clusters['unordered'],c=data_with_clusters['Clusters'],cmap='rainbow')\n",
    "plt.xlabel('Cart Values', fontsize=10)\n",
    "plt.ylabel('Unordered Values', fontsize=10)"
   ]
  },
  {
   "cell_type": "markdown",
   "metadata": {},
   "source": [
    "observation: There seems to be 3 clusters in the datasets. red clusters indicating less carted order and less unordered values, and purple cluster indicating little more than red clusters values of cart values and moderate level of unordered values, while last cluster skyblue color cluster with high cart values and high unordered values."
   ]
  },
  {
   "cell_type": "markdown",
   "metadata": {},
   "source": [
    "# Fig - 17"
   ]
  },
  {
   "cell_type": "code",
   "execution_count": 88,
   "metadata": {},
   "outputs": [
    {
     "data": {
      "text/plain": [
       "Text(0, 0.5, 'Uncarted Values')"
      ]
     },
     "execution_count": 88,
     "metadata": {},
     "output_type": "execute_result"
    },
    {
     "data": {
      "image/png": "[encoded data removed]",
      "text/plain": [
       "<Figure size 432x288 with 1 Axes>"
      ]
     },
     "metadata": {
      "needs_background": "light"
     },
     "output_type": "display_data"
    }
   ],
   "source": [
    "data_with_clusters = product_performance_scaled.copy()\n",
    "data_with_clusters['Clusters'] = identified_clusters\n",
    "plt.title('product_performance_datasets with clusters')\n",
    "plt.scatter(data_with_clusters['clicks'],data_with_clusters['uncarted'],c=data_with_clusters['Clusters'],cmap='rainbow')\n",
    "plt.xlabel('Clicks Values', fontsize=10)\n",
    "plt.ylabel('Uncarted Values', fontsize=10)"
   ]
  },
  {
   "cell_type": "markdown",
   "metadata": {},
   "source": [
    "observation: There seems to be 3 clusters in the datasets. red clusters indicating less clicked datasets order and less uncarted values, and purple cluster indicating little more than red clusters values of click values and moderate level to high values of uncarted values, while last cluster skyblue color cluster with high click values and high uncarted values."
   ]
  },
  {
   "cell_type": "markdown",
   "metadata": {},
   "source": [
    "# unbxd query performance dataset"
   ]
  },
  {
   "cell_type": "code",
   "execution_count": 89,
   "metadata": {
    "scrolled": true
   },
   "outputs": [
    {
     "data": {
      "text/html": [
       "<div>\n",
       "<style scoped>\n",
       "    .dataframe tbody tr th:only-of-type {\n",
       "        vertical-align: middle;\n",
       "    }\n",
       "\n",
       "    .dataframe tbody tr th {\n",
       "        vertical-align: top;\n",
       "    }\n",
       "\n",
       "    .dataframe thead th {\n",
       "        text-align: right;\n",
       "    }\n",
       "</style>\n",
       "<table border=\"1\" class=\"dataframe\">\n",
       "  <thead>\n",
       "    <tr style=\"text-align: right;\">\n",
       "      <th></th>\n",
       "      <th>query</th>\n",
       "      <th>hits</th>\n",
       "      <th>clicks</th>\n",
       "      <th>clickThroughs</th>\n",
       "      <th>ctr</th>\n",
       "      <th>carts</th>\n",
       "      <th>orders</th>\n",
       "    </tr>\n",
       "  </thead>\n",
       "  <tbody>\n",
       "    <tr>\n",
       "      <th>0</th>\n",
       "      <td>pink</td>\n",
       "      <td>3971</td>\n",
       "      <td>330</td>\n",
       "      <td>93</td>\n",
       "      <td>2.34</td>\n",
       "      <td>18</td>\n",
       "      <td>0</td>\n",
       "    </tr>\n",
       "    <tr>\n",
       "      <th>1</th>\n",
       "      <td>Chambray</td>\n",
       "      <td>612</td>\n",
       "      <td>1360</td>\n",
       "      <td>447</td>\n",
       "      <td>73.04</td>\n",
       "      <td>145</td>\n",
       "      <td>8</td>\n",
       "    </tr>\n",
       "    <tr>\n",
       "      <th>2</th>\n",
       "      <td>gingham in green and white</td>\n",
       "      <td>601</td>\n",
       "      <td>0</td>\n",
       "      <td>0</td>\n",
       "      <td>0.00</td>\n",
       "      <td>0</td>\n",
       "      <td>0</td>\n",
       "    </tr>\n",
       "    <tr>\n",
       "      <th>3</th>\n",
       "      <td>white dresses</td>\n",
       "      <td>486</td>\n",
       "      <td>800</td>\n",
       "      <td>310</td>\n",
       "      <td>63.79</td>\n",
       "      <td>73</td>\n",
       "      <td>1</td>\n",
       "    </tr>\n",
       "    <tr>\n",
       "      <th>4</th>\n",
       "      <td>grey</td>\n",
       "      <td>480</td>\n",
       "      <td>89</td>\n",
       "      <td>28</td>\n",
       "      <td>5.83</td>\n",
       "      <td>10</td>\n",
       "      <td>0</td>\n",
       "    </tr>\n",
       "  </tbody>\n",
       "</table>\n",
       "</div>"
      ],
      "text/plain": [
       "                        query  hits  clicks  clickThroughs    ctr  carts  \\\n",
       "0                       pink   3971     330             93   2.34     18   \n",
       "1                    Chambray   612    1360            447  73.04    145   \n",
       "2  gingham in green and white   601       0              0   0.00      0   \n",
       "3               white dresses   486     800            310  63.79     73   \n",
       "4                        grey   480      89             28   5.83     10   \n",
       "\n",
       "   orders  \n",
       "0       0  \n",
       "1       8  \n",
       "2       0  \n",
       "3       1  \n",
       "4       0  "
      ]
     },
     "execution_count": 89,
     "metadata": {},
     "output_type": "execute_result"
    }
   ],
   "source": [
    "unbxd_query_performance_df.head()"
   ]
  },
  {
   "cell_type": "markdown",
   "metadata": {},
   "source": [
    "# Fig - 18"
   ]
  },
  {
   "cell_type": "code",
   "execution_count": 90,
   "metadata": {},
   "outputs": [
    {
     "data": {
      "text/plain": [
       "<matplotlib.axes._subplots.AxesSubplot at 0x1aaaefa1648>"
      ]
     },
     "execution_count": 90,
     "metadata": {},
     "output_type": "execute_result"
    },
    {
     "data": {
      "image/png": "[encoded data removed]",
      "text/plain": [
       "<Figure size 432x288 with 2 Axes>"
      ]
     },
     "metadata": {
      "needs_background": "light"
     },
     "output_type": "display_data"
    }
   ],
   "source": [
    "sns.heatmap(unbxd_query_performance_df.isnull())"
   ]
  },
  {
   "cell_type": "code",
   "execution_count": 91,
   "metadata": {},
   "outputs": [],
   "source": [
    "query_performance_df = unbxd_query_performance_df[[\"hits\",\"clicks\",\"clickThroughs\",\"ctr\",\"carts\",\"orders\"]]"
   ]
  },
  {
   "cell_type": "code",
   "execution_count": 92,
   "metadata": {
    "scrolled": true
   },
   "outputs": [
    {
     "data": {
      "text/html": [
       "<div>\n",
       "<style scoped>\n",
       "    .dataframe tbody tr th:only-of-type {\n",
       "        vertical-align: middle;\n",
       "    }\n",
       "\n",
       "    .dataframe tbody tr th {\n",
       "        vertical-align: top;\n",
       "    }\n",
       "\n",
       "    .dataframe thead th {\n",
       "        text-align: right;\n",
       "    }\n",
       "</style>\n",
       "<table border=\"1\" class=\"dataframe\">\n",
       "  <thead>\n",
       "    <tr style=\"text-align: right;\">\n",
       "      <th></th>\n",
       "      <th>hits</th>\n",
       "      <th>clicks</th>\n",
       "      <th>clickThroughs</th>\n",
       "      <th>ctr</th>\n",
       "      <th>carts</th>\n",
       "      <th>orders</th>\n",
       "    </tr>\n",
       "  </thead>\n",
       "  <tbody>\n",
       "    <tr>\n",
       "      <th>0</th>\n",
       "      <td>3971</td>\n",
       "      <td>330</td>\n",
       "      <td>93</td>\n",
       "      <td>2.34</td>\n",
       "      <td>18</td>\n",
       "      <td>0</td>\n",
       "    </tr>\n",
       "    <tr>\n",
       "      <th>1</th>\n",
       "      <td>612</td>\n",
       "      <td>1360</td>\n",
       "      <td>447</td>\n",
       "      <td>73.04</td>\n",
       "      <td>145</td>\n",
       "      <td>8</td>\n",
       "    </tr>\n",
       "  </tbody>\n",
       "</table>\n",
       "</div>"
      ],
      "text/plain": [
       "   hits  clicks  clickThroughs    ctr  carts  orders\n",
       "0  3971     330             93   2.34     18       0\n",
       "1   612    1360            447  73.04    145       8"
      ]
     },
     "execution_count": 92,
     "metadata": {},
     "output_type": "execute_result"
    }
   ],
   "source": [
    "query_performance_df.head(2)"
   ]
  },
  {
   "cell_type": "code",
   "execution_count": 93,
   "metadata": {},
   "outputs": [
    {
     "data": {
      "text/plain": [
       "array([[20.46757035,  1.60972263,  1.3752751 ,  2.77299517,  0.02750179,\n",
       "         0.45865467],\n",
       "       [ 2.88129117,  8.80659   ,  9.18207067,  0.83791503,  2.05344537,\n",
       "         5.44044081],\n",
       "       [ 2.8236999 ,  0.69606983,  0.67566272,  2.89250761,  0.25963983,\n",
       "         0.45865467],\n",
       "       ...,\n",
       "       [ 0.24957962,  0.64017183,  0.58745034,  1.43333216,  0.19583058,\n",
       "         0.45865467],\n",
       "       [ 0.24957962,  0.56331209,  0.56539725,  1.06866598,  0.13202133,\n",
       "         0.45865467],\n",
       "       [ 0.24957962,  0.50741409,  0.47718487,  0.3910202 ,  0.25963983,\n",
       "         0.45865467]])"
      ]
     },
     "execution_count": 93,
     "metadata": {},
     "output_type": "execute_result"
    }
   ],
   "source": [
    "#Removing Outliers:\n",
    "\n",
    "from scipy.stats import zscore\n",
    "z=np.abs(zscore(query_performance_df))\n",
    "z"
   ]
  },
  {
   "cell_type": "code",
   "execution_count": 94,
   "metadata": {},
   "outputs": [
    {
     "name": "stdout",
     "output_type": "stream",
     "text": [
      "(array([  0,   1,   1,   1,   3,   3,   6,   6,   6,   7,   7,   7,   8,\n",
      "         8,  10,  11,  11,  12,  12,  13,  13,  14,  14,  15,  18,  19,\n",
      "        20,  20,  28,  28,  41,  42,  47,  51,  65,  67, 117, 265, 279,\n",
      "       334, 340], dtype=int64), array([0, 1, 2, 5, 1, 2, 1, 2, 5, 1, 2, 5, 1, 2, 1, 1, 2, 1, 2, 2, 5, 1,\n",
      "       2, 2, 1, 5, 1, 2, 1, 5, 5, 5, 1, 5, 5, 4, 5, 5, 4, 5, 5],\n",
      "      dtype=int64))\n"
     ]
    }
   ],
   "source": [
    "threshold = 3\n",
    "print(np.where(z>threshold))"
   ]
  },
  {
   "cell_type": "code",
   "execution_count": 99,
   "metadata": {},
   "outputs": [
    {
     "data": {
      "text/html": [
       "<div>\n",
       "<style scoped>\n",
       "    .dataframe tbody tr th:only-of-type {\n",
       "        vertical-align: middle;\n",
       "    }\n",
       "\n",
       "    .dataframe tbody tr th {\n",
       "        vertical-align: top;\n",
       "    }\n",
       "\n",
       "    .dataframe thead th {\n",
       "        text-align: right;\n",
       "    }\n",
       "</style>\n",
       "<table border=\"1\" class=\"dataframe\">\n",
       "  <thead>\n",
       "    <tr style=\"text-align: right;\">\n",
       "      <th></th>\n",
       "      <th>hits</th>\n",
       "      <th>clicks</th>\n",
       "      <th>clickThroughs</th>\n",
       "      <th>ctr</th>\n",
       "      <th>carts</th>\n",
       "      <th>orders</th>\n",
       "    </tr>\n",
       "  </thead>\n",
       "  <tbody>\n",
       "    <tr>\n",
       "      <th>2</th>\n",
       "      <td>601</td>\n",
       "      <td>0</td>\n",
       "      <td>0</td>\n",
       "      <td>0.00</td>\n",
       "      <td>0</td>\n",
       "      <td>0</td>\n",
       "    </tr>\n",
       "    <tr>\n",
       "      <th>4</th>\n",
       "      <td>480</td>\n",
       "      <td>89</td>\n",
       "      <td>28</td>\n",
       "      <td>5.83</td>\n",
       "      <td>10</td>\n",
       "      <td>0</td>\n",
       "    </tr>\n",
       "    <tr>\n",
       "      <th>5</th>\n",
       "      <td>435</td>\n",
       "      <td>65</td>\n",
       "      <td>29</td>\n",
       "      <td>6.67</td>\n",
       "      <td>7</td>\n",
       "      <td>0</td>\n",
       "    </tr>\n",
       "    <tr>\n",
       "      <th>9</th>\n",
       "      <td>340</td>\n",
       "      <td>416</td>\n",
       "      <td>151</td>\n",
       "      <td>44.41</td>\n",
       "      <td>29</td>\n",
       "      <td>0</td>\n",
       "    </tr>\n",
       "    <tr>\n",
       "      <th>16</th>\n",
       "      <td>259</td>\n",
       "      <td>438</td>\n",
       "      <td>154</td>\n",
       "      <td>59.46</td>\n",
       "      <td>32</td>\n",
       "      <td>1</td>\n",
       "    </tr>\n",
       "  </tbody>\n",
       "</table>\n",
       "</div>"
      ],
      "text/plain": [
       "    hits  clicks  clickThroughs    ctr  carts  orders\n",
       "2    601       0              0   0.00      0       0\n",
       "4    480      89             28   5.83     10       0\n",
       "5    435      65             29   6.67      7       0\n",
       "9    340     416            151  44.41     29       0\n",
       "16   259     438            154  59.46     32       1"
      ]
     },
     "execution_count": 99,
     "metadata": {},
     "output_type": "execute_result"
    }
   ],
   "source": [
    "#creating new dataset without outliers and skewness\n",
    "query_performance_df_new = query_performance_df[(z<3).all(axis=1)]\n",
    "query_performance_df_new.head()"
   ]
  },
  {
   "cell_type": "code",
   "execution_count": 100,
   "metadata": {},
   "outputs": [
    {
     "name": "stdout",
     "output_type": "stream",
     "text": [
      "5.4\n"
     ]
    }
   ],
   "source": [
    "print((query_performance_df.shape[0]-query_performance_df_new.shape[0])/query_performance_df.shape[0]*100)"
   ]
  },
  {
   "cell_type": "markdown",
   "metadata": {},
   "source": [
    "Observations - No outliers need to be removed, because here outliers seems to carrying lots of weightage, and they seems to be holding intrinsic value in the dataset."
   ]
  },
  {
   "cell_type": "code",
   "execution_count": 101,
   "metadata": {
    "scrolled": true
   },
   "outputs": [
    {
     "data": {
      "text/html": [
       "<div>\n",
       "<style scoped>\n",
       "    .dataframe tbody tr th:only-of-type {\n",
       "        vertical-align: middle;\n",
       "    }\n",
       "\n",
       "    .dataframe tbody tr th {\n",
       "        vertical-align: top;\n",
       "    }\n",
       "\n",
       "    .dataframe thead th {\n",
       "        text-align: right;\n",
       "    }\n",
       "</style>\n",
       "<table border=\"1\" class=\"dataframe\">\n",
       "  <thead>\n",
       "    <tr style=\"text-align: right;\">\n",
       "      <th></th>\n",
       "      <th>hits</th>\n",
       "      <th>clicks</th>\n",
       "      <th>clickThroughs</th>\n",
       "      <th>ctr</th>\n",
       "      <th>carts</th>\n",
       "      <th>orders</th>\n",
       "    </tr>\n",
       "  </thead>\n",
       "  <tbody>\n",
       "    <tr>\n",
       "      <th>0</th>\n",
       "      <td>20.467570</td>\n",
       "      <td>1.609723</td>\n",
       "      <td>1.375275</td>\n",
       "      <td>-2.772995</td>\n",
       "      <td>0.027502</td>\n",
       "      <td>-0.458655</td>\n",
       "    </tr>\n",
       "    <tr>\n",
       "      <th>1</th>\n",
       "      <td>2.881291</td>\n",
       "      <td>8.806590</td>\n",
       "      <td>9.182071</td>\n",
       "      <td>0.837915</td>\n",
       "      <td>2.053445</td>\n",
       "      <td>5.440441</td>\n",
       "    </tr>\n",
       "    <tr>\n",
       "      <th>2</th>\n",
       "      <td>2.823700</td>\n",
       "      <td>-0.696070</td>\n",
       "      <td>-0.675663</td>\n",
       "      <td>-2.892508</td>\n",
       "      <td>-0.259640</td>\n",
       "      <td>-0.458655</td>\n",
       "    </tr>\n",
       "    <tr>\n",
       "      <th>3</th>\n",
       "      <td>2.221609</td>\n",
       "      <td>4.893730</td>\n",
       "      <td>6.160797</td>\n",
       "      <td>0.365483</td>\n",
       "      <td>0.904879</td>\n",
       "      <td>0.278732</td>\n",
       "    </tr>\n",
       "    <tr>\n",
       "      <th>4</th>\n",
       "      <td>2.190196</td>\n",
       "      <td>-0.074205</td>\n",
       "      <td>-0.058176</td>\n",
       "      <td>-2.594748</td>\n",
       "      <td>-0.100117</td>\n",
       "      <td>-0.458655</td>\n",
       "    </tr>\n",
       "    <tr>\n",
       "      <th>...</th>\n",
       "      <td>...</td>\n",
       "      <td>...</td>\n",
       "      <td>...</td>\n",
       "      <td>...</td>\n",
       "      <td>...</td>\n",
       "      <td>...</td>\n",
       "    </tr>\n",
       "    <tr>\n",
       "      <th>495</th>\n",
       "      <td>-0.249580</td>\n",
       "      <td>-0.612223</td>\n",
       "      <td>-0.543344</td>\n",
       "      <td>-0.703489</td>\n",
       "      <td>-0.259640</td>\n",
       "      <td>-0.458655</td>\n",
       "    </tr>\n",
       "    <tr>\n",
       "      <th>496</th>\n",
       "      <td>-0.249580</td>\n",
       "      <td>-0.507414</td>\n",
       "      <td>-0.521291</td>\n",
       "      <td>-0.338823</td>\n",
       "      <td>-0.195831</td>\n",
       "      <td>-0.458655</td>\n",
       "    </tr>\n",
       "    <tr>\n",
       "      <th>497</th>\n",
       "      <td>-0.249580</td>\n",
       "      <td>-0.640172</td>\n",
       "      <td>-0.587450</td>\n",
       "      <td>-1.433332</td>\n",
       "      <td>-0.195831</td>\n",
       "      <td>-0.458655</td>\n",
       "    </tr>\n",
       "    <tr>\n",
       "      <th>498</th>\n",
       "      <td>-0.249580</td>\n",
       "      <td>-0.563312</td>\n",
       "      <td>-0.565397</td>\n",
       "      <td>-1.068666</td>\n",
       "      <td>-0.132021</td>\n",
       "      <td>-0.458655</td>\n",
       "    </tr>\n",
       "    <tr>\n",
       "      <th>499</th>\n",
       "      <td>-0.249580</td>\n",
       "      <td>-0.507414</td>\n",
       "      <td>-0.477185</td>\n",
       "      <td>0.391020</td>\n",
       "      <td>-0.259640</td>\n",
       "      <td>-0.458655</td>\n",
       "    </tr>\n",
       "  </tbody>\n",
       "</table>\n",
       "<p>500 rows × 6 columns</p>\n",
       "</div>"
      ],
      "text/plain": [
       "          hits    clicks  clickThroughs       ctr     carts    orders\n",
       "0    20.467570  1.609723       1.375275 -2.772995  0.027502 -0.458655\n",
       "1     2.881291  8.806590       9.182071  0.837915  2.053445  5.440441\n",
       "2     2.823700 -0.696070      -0.675663 -2.892508 -0.259640 -0.458655\n",
       "3     2.221609  4.893730       6.160797  0.365483  0.904879  0.278732\n",
       "4     2.190196 -0.074205      -0.058176 -2.594748 -0.100117 -0.458655\n",
       "..         ...       ...            ...       ...       ...       ...\n",
       "495  -0.249580 -0.612223      -0.543344 -0.703489 -0.259640 -0.458655\n",
       "496  -0.249580 -0.507414      -0.521291 -0.338823 -0.195831 -0.458655\n",
       "497  -0.249580 -0.640172      -0.587450 -1.433332 -0.195831 -0.458655\n",
       "498  -0.249580 -0.563312      -0.565397 -1.068666 -0.132021 -0.458655\n",
       "499  -0.249580 -0.507414      -0.477185  0.391020 -0.259640 -0.458655\n",
       "\n",
       "[500 rows x 6 columns]"
      ]
     },
     "execution_count": 101,
     "metadata": {},
     "output_type": "execute_result"
    }
   ],
   "source": [
    "#Scaling the dataset::\n",
    "sc = StandardScaler()\n",
    "query_performance_df_scaled= sc.fit_transform(query_performance_df)\n",
    "columnslist = [\"hits\",\"clicks\",\"clickThroughs\",\"ctr\",\"carts\",\"orders\"]\n",
    "query_performance_scaled = pd.DataFrame(query_performance_df_scaled, columns = columnslist)\n",
    "query_performance_scaled"
   ]
  },
  {
   "cell_type": "markdown",
   "metadata": {},
   "source": [
    "# Studying the dataset with the help of clustering methods"
   ]
  },
  {
   "cell_type": "markdown",
   "metadata": {},
   "source": [
    "Inorder to find out how many clusters possible in the dataset we need to check the elbow plot of the dataset, which will eventually give us the number of clusters possible."
   ]
  },
  {
   "cell_type": "markdown",
   "metadata": {},
   "source": [
    "# Fig - 19"
   ]
  },
  {
   "cell_type": "code",
   "execution_count": 102,
   "metadata": {
    "scrolled": true
   },
   "outputs": [
    {
     "data": {
      "text/plain": [
       "Text(0, 0.5, 'WCSS')"
      ]
     },
     "execution_count": 102,
     "metadata": {},
     "output_type": "execute_result"
    },
    {
     "data": {
      "image/png": "[encoded data removed]",
      "text/plain": [
       "<Figure size 432x288 with 1 Axes>"
      ]
     },
     "metadata": {
      "needs_background": "light"
     },
     "output_type": "display_data"
    }
   ],
   "source": [
    "# finding the number of clusters with the help of elbow method\n",
    "wcss=[]\n",
    "for i in range(1,10):\n",
    "    kmeans = KMeans(i)\n",
    "    kmeans.fit(query_performance_scaled)\n",
    "\n",
    "    wcss_iter = kmeans.inertia_\n",
    "    wcss.append(wcss_iter)\n",
    "\n",
    "number_clusters = range(1,10)\n",
    "plt.plot(number_clusters, wcss)\n",
    "plt.title('The Elbow Plot to find number of clusters possible')\n",
    "plt.xlabel('Number of clusters')\n",
    "plt.ylabel('WCSS')"
   ]
  },
  {
   "cell_type": "markdown",
   "metadata": {},
   "source": [
    "Observations: We can see that from the above elbow plot, 2 or 3 number of clusters there seems to be less change in the distance between the clusters, so here we can take 3 as the number of clusters"
   ]
  },
  {
   "cell_type": "code",
   "execution_count": 103,
   "metadata": {},
   "outputs": [
    {
     "name": "stdout",
     "output_type": "stream",
     "text": [
      "[3000.000000000001, 2070.5194451855377, 1645.098951015507, 1249.0372853288357, 896.2129688912916, 706.7383645655705, 564.9669416706321, 508.5892246018344, 438.6278040526548]\n"
     ]
    }
   ],
   "source": [
    "print(wcss)"
   ]
  },
  {
   "cell_type": "code",
   "execution_count": 104,
   "metadata": {},
   "outputs": [
    {
     "data": {
      "text/plain": [
       "KMeans(n_clusters=3)"
      ]
     },
     "execution_count": 104,
     "metadata": {},
     "output_type": "execute_result"
    }
   ],
   "source": [
    "# considering 3 as the number of clusters to making in the plot.\n",
    "from sklearn.cluster import KMeans\n",
    "kmeans = KMeans(3)\n",
    "kmeans.fit(query_performance_scaled)"
   ]
  },
  {
   "cell_type": "code",
   "execution_count": 105,
   "metadata": {
    "scrolled": true
   },
   "outputs": [
    {
     "data": {
      "text/plain": [
       "array([0, 0, 1, 0, 1, 1, 0, 0, 0, 0, 0, 0, 0, 0, 0, 0, 0, 0, 0, 0, 0, 0,\n",
       "       0, 0, 0, 0, 0, 0, 0, 0, 1, 0, 0, 1, 0, 0, 0, 0, 0, 0, 0, 0, 0, 0,\n",
       "       0, 1, 1, 0, 1, 0, 1, 0, 0, 0, 1, 1, 1, 1, 1, 1, 1, 0, 1, 0, 1, 0,\n",
       "       1, 0, 1, 1, 1, 1, 0, 1, 1, 1, 1, 1, 1, 1, 1, 1, 1, 1, 1, 1, 1, 1,\n",
       "       1, 1, 1, 1, 1, 1, 1, 1, 1, 1, 1, 1, 1, 1, 1, 1, 1, 1, 1, 1, 1, 1,\n",
       "       1, 1, 1, 1, 1, 1, 1, 0, 1, 1, 1, 1, 1, 1, 1, 1, 1, 1, 1, 1, 1, 1,\n",
       "       1, 1, 1, 1, 1, 1, 1, 1, 1, 1, 1, 1, 1, 1, 1, 1, 1, 1, 1, 1, 1, 1,\n",
       "       1, 1, 1, 1, 1, 1, 1, 1, 1, 1, 1, 1, 1, 1, 1, 1, 1, 1, 1, 1, 1, 1,\n",
       "       1, 1, 1, 1, 1, 1, 1, 1, 1, 1, 1, 1, 1, 1, 1, 1, 1, 1, 1, 1, 1, 1,\n",
       "       1, 1, 1, 1, 1, 1, 1, 1, 1, 1, 1, 1, 1, 1, 1, 1, 1, 1, 1, 1, 1, 1,\n",
       "       1, 1, 1, 1, 1, 1, 1, 1, 1, 1, 1, 1, 1, 1, 1, 1, 1, 1, 1, 1, 1, 1,\n",
       "       1, 1, 1, 1, 1, 1, 1, 1, 1, 1, 1, 1, 1, 1, 1, 1, 1, 1, 1, 1, 1, 1,\n",
       "       1, 1, 1, 1, 1, 1, 1, 1, 1, 1, 1, 1, 1, 1, 1, 2, 1, 1, 1, 1, 1, 1,\n",
       "       1, 1, 1, 1, 1, 1, 1, 1, 1, 1, 1, 1, 1, 1, 1, 1, 1, 1, 1, 1, 1, 1,\n",
       "       1, 1, 1, 1, 1, 1, 1, 1, 1, 1, 1, 1, 1, 1, 1, 1, 1, 1, 1, 1, 1, 1,\n",
       "       1, 1, 1, 1, 1, 1, 1, 1, 1, 1, 1, 1, 1, 1, 1, 1, 1, 1, 1, 1, 1, 1,\n",
       "       1, 1, 1, 1, 1, 1, 1, 1, 1, 1, 1, 1, 1, 1, 1, 1, 1, 1, 1, 1, 1, 1,\n",
       "       1, 1, 1, 1, 1, 1, 1, 1, 1, 1, 1, 1, 1, 1, 1, 1, 1, 1, 1, 1, 1, 1,\n",
       "       1, 1, 1, 1, 1, 1, 1, 1, 1, 1, 1, 1, 1, 1, 1, 1, 1, 1, 1, 1, 1, 1,\n",
       "       1, 1, 1, 1, 1, 1, 1, 1, 1, 1, 1, 1, 1, 1, 1, 1, 1, 1, 1, 1, 1, 1,\n",
       "       1, 1, 1, 1, 1, 1, 1, 1, 1, 1, 1, 1, 1, 1, 1, 1, 1, 1, 1, 1, 1, 1,\n",
       "       1, 1, 1, 1, 1, 1, 1, 1, 1, 1, 1, 1, 1, 1, 1, 1, 1, 1, 1, 1, 1, 1,\n",
       "       1, 1, 1, 1, 1, 1, 1, 1, 1, 1, 1, 1, 1, 1, 1, 1])"
      ]
     },
     "execution_count": 105,
     "metadata": {},
     "output_type": "execute_result"
    }
   ],
   "source": [
    "identified_clusters = kmeans.fit_predict(query_performance_scaled)\n",
    "identified_clusters"
   ]
  },
  {
   "cell_type": "markdown",
   "metadata": {},
   "source": [
    "# Fig - 20"
   ]
  },
  {
   "cell_type": "code",
   "execution_count": 111,
   "metadata": {},
   "outputs": [
    {
     "data": {
      "text/plain": [
       "Text(0, 0.5, 'Orders Values')"
      ]
     },
     "execution_count": 111,
     "metadata": {},
     "output_type": "execute_result"
    },
    {
     "data": {
      "image/png": "[encoded data removed]",
      "text/plain": [
       "<Figure size 432x288 with 1 Axes>"
      ]
     },
     "metadata": {
      "needs_background": "light"
     },
     "output_type": "display_data"
    }
   ],
   "source": [
    "data_with_clusters = query_performance_scaled.copy()\n",
    "data_with_clusters['Clusters'] = identified_clusters \n",
    "plt.title('Query_performance_datasets with clusters', fontsize=12)\n",
    "plt.scatter(data_with_clusters['hits'],data_with_clusters['orders'],c=data_with_clusters['Clusters'],cmap='rainbow')\n",
    "plt.xlabel('Hits Values', fontsize=12)\n",
    "plt.ylabel('Orders Values', fontsize=12)"
   ]
  },
  {
   "cell_type": "markdown",
   "metadata": {},
   "source": [
    "Observation: From the above clusters plot, we can see that there are two clusters seen, skyblue clusters having less hitvalues and less to moderate orders values, while purple clusters seems to have less but more than skyblue cluster's hitvalues and less to high order values."
   ]
  },
  {
   "cell_type": "markdown",
   "metadata": {},
   "source": [
    "# Fig - 21"
   ]
  },
  {
   "cell_type": "code",
   "execution_count": 109,
   "metadata": {},
   "outputs": [
    {
     "data": {
      "text/plain": [
       "Text(0, 0.5, 'Orders Values')"
      ]
     },
     "execution_count": 109,
     "metadata": {},
     "output_type": "execute_result"
    },
    {
     "data": {
      "image/png": "[encoded data removed]",
      "text/plain": [
       "<Figure size 432x288 with 1 Axes>"
      ]
     },
     "metadata": {
      "needs_background": "light"
     },
     "output_type": "display_data"
    }
   ],
   "source": [
    "data_with_clusters = query_performance_scaled.copy()\n",
    "data_with_clusters['Clusters'] = identified_clusters \n",
    "plt.title('Query_performance_datasets with clusters', fontsize=12)\n",
    "plt.scatter(data_with_clusters['carts'],data_with_clusters['orders'],c=data_with_clusters['Clusters'],cmap='rainbow')\n",
    "plt.xlabel('Carts Values', fontsize=12)\n",
    "plt.ylabel('Orders Values', fontsize=12)"
   ]
  },
  {
   "cell_type": "markdown",
   "metadata": {},
   "source": [
    "Observation: We can see that from the above clusters plot, there are three clusters skyblue, purple and red clusters, skyblue clusters indicating datasets with less cartedvalues and less to moderate orderd values, while purple cluster indicating less but more than skyblue clusters cartvalues and less to moderate ordered dataset values, and finally red clusters indicating high cartvalues but less ordered values."
   ]
  },
  {
   "cell_type": "markdown",
   "metadata": {},
   "source": [
    "# Fig - 22"
   ]
  },
  {
   "cell_type": "code",
   "execution_count": 110,
   "metadata": {},
   "outputs": [
    {
     "data": {
      "text/plain": [
       "Text(0, 0.5, 'ClickThrough Values')"
      ]
     },
     "execution_count": 110,
     "metadata": {},
     "output_type": "execute_result"
    },
    {
     "data": {
      "image/png": "[encoded data removed]",
      "text/plain": [
       "<Figure size 432x288 with 1 Axes>"
      ]
     },
     "metadata": {
      "needs_background": "light"
     },
     "output_type": "display_data"
    }
   ],
   "source": [
    "data_with_clusters = query_performance_scaled.copy()\n",
    "data_with_clusters['Clusters'] = identified_clusters\n",
    "plt.title('Query_performance_datasets with clusters', fontsize=12)\n",
    "plt.scatter(data_with_clusters['clicks'],data_with_clusters['clickThroughs'],c=data_with_clusters['Clusters'],cmap='rainbow')\n",
    "plt.xlabel('Clicks Values', fontsize=12)\n",
    "plt.ylabel('ClickThrough Values', fontsize=12)\n"
   ]
  },
  {
   "cell_type": "markdown",
   "metadata": {},
   "source": [
    "Observation: We can see that from the above dataset, there seems to be two clusters primarily in the dataset, skyblue cluster indicating less click values to less click through values, while purple cluster indicating both less to high clickvalues and clickthrough values."
   ]
  },
  {
   "cell_type": "markdown",
   "metadata": {},
   "source": [
    "# CONCLUSIONS:"
   ]
  },
  {
   "cell_type": "markdown",
   "metadata": {},
   "source": [
    "CONCLUSION:\n",
    "\n",
    "    1) we can make out that our all the datasets are not having NULL values.\n",
    "    2) Dress and Top are the maximum product types present in our datasets.\n",
    "    3) There seems to be outliers present in our datasets, but they eventually turned out tobe important datasets having high values.\n",
    "    4) Both clicks and carts values are highly correlated with orders column values.\n",
    "    5) Linear regression model seems to be the perfect model if we need to predict the possible orders turned out tobe depending on the number of clicks and carted values of any particular product and eventually our model is working with the accuracy of 83%.\n",
    "    6) We can see that from all the above box plots, there seems to be the outliers in the datasets, but thats primarily because of the uneven distributed clicks between the products, we have 5 products with clicks number ranging from 10000 to 15000, 2 products with clicks ranging from 15000 to 20000, 2 products with clicks ranging from 25000 to 30000, and 16 products with clicks ranging from 5000 to 10000\n",
    "    7) We tried to categorize the datasets depending of Kmeans clustering technique, we found out there seems to be 3 clusters present in the datasets.\n",
    "    8) In fig 20, we can see that there are two clusters seen, skyblue clusters having less hitvalues and less to moderate orders values, while purple clusters seems to have less but more than skyblue cluster's hitvalues and less to high order values.\n",
    "    9) In fig 21, We can see that from the above clusters plot, there are three clusters skyblue, purple and red clusters, skyblue clusters indicating datasets with less cartedvalues and less to moderate orderd values, while purple cluster indicating less but more than skyblue clusters cartvalues and less to moderate ordered dataset values, and finally red clusters indicating high cartvalues but less ordered values.\n",
    "    10) In fig 22, We can see that from the above dataset, there seems to be two clusters primarily in the dataset, skyblue cluster indicating less click values to less click through values, while purple cluster indicating both less to high clickvalues and clickthrough values.\n",
    "   "
   ]
  },
  {
   "cell_type": "markdown",
   "metadata": {},
   "source": [
    "# INFERENCES FOR BUSINESS ANALYTICS :"
   ]
  },
  {
   "cell_type": "markdown",
   "metadata": {},
   "source": [
    "1) In fig 20, we can see that skyblue clusters are the group of people having less hit values but less to moderate order values, they seems to less loyal customers, we can run a loyalty or special focus program for them so that there conversion to customer ratio increases.\n",
    "\n",
    "2) In fig 21, we can see that Purple clusters are the group of people having less to moderate hit values and less to high order values as well, these people can also be converted to customers by runing special discount, free shipping and other programs."
   ]
  },
  {
   "cell_type": "markdown",
   "metadata": {},
   "source": [
    "# THANK YOU"
   ]
  },
  {
   "cell_type": "markdown",
   "metadata": {},
   "source": [
    "Vaibhav Tayade\n",
    "\n",
    "vaibhav_t29@rediffmail.com\n",
    "\n",
    "8087970061"
   ]
  }
 ],
 "metadata": {
  "kernelspec": {
   "display_name": "Python 3",
   "language": "python",
   "name": "python3"
  },
  "language_info": {
   "codemirror_mode": {
    "name": "ipython",
    "version": 3
   },
   "file_extension": ".py",
   "mimetype": "text/x-python",
   "name": "python",
   "nbconvert_exporter": "python",
   "pygments_lexer": "ipython3",
   "version": "3.7.6"
  }
 },
 "nbformat": 4,
 "nbformat_minor": 4
}
