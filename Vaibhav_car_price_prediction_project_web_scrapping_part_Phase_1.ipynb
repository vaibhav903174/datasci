{
 "cells": [
  {
   "cell_type": "markdown",
   "metadata": {},
   "source": [
    "# CAR PRICE PREDICTION PROJECT:"
   ]
  },
  {
   "cell_type": "markdown",
   "metadata": {},
   "source": [
    "# Phase I - Web scrapping part"
   ]
  },
  {
   "cell_type": "markdown",
   "metadata": {},
   "source": [
    "Name: Vaibhav Tayade\n",
    "\n",
    "contact details: 8087970061\n",
    "\n",
    "Email Id: vaibhav_t29@rediffmail.com"
   ]
  },
  {
   "cell_type": "code",
   "execution_count": 1,
   "metadata": {},
   "outputs": [],
   "source": [
    "# Importing Libraries\n",
    "import selenium\n",
    "import pandas as pd\n",
    "import time\n",
    "from bs4 import BeautifulSoup\n",
    "from selenium import webdriver\n",
    "from selenium.common.exceptions import StaleElementReferenceException, NoSuchElementException,ElementNotInteractableException\n",
    "import requests\n",
    "import re"
   ]
  },
  {
   "cell_type": "code",
   "execution_count": 5,
   "metadata": {},
   "outputs": [],
   "source": [
    "# lets first connect to the webdriver\n",
    "driver = webdriver.Chrome(r\"C:\\Users\\vaibhav\\Desktop\\Data science\\FlipRobo Projects\\Web Scrapping 2\\chromedriver.exe\")"
   ]
  },
  {
   "cell_type": "code",
   "execution_count": 6,
   "metadata": {},
   "outputs": [],
   "source": [
    "# Opening the olx website:\n",
    "url = \"https://www.olx.com\"\n",
    "driver.get(url)"
   ]
  },
  {
   "cell_type": "code",
   "execution_count": 7,
   "metadata": {},
   "outputs": [],
   "source": [
    "#clicking on cars tab:\n",
    "carstab=driver.find_element_by_xpath(\"/html/body/div[1]/div/div[1]/div/div/div[1]/div[2]/div[1]/a/span\").click()"
   ]
  },
  {
   "cell_type": "code",
   "execution_count": 8,
   "metadata": {},
   "outputs": [],
   "source": [
    "#creating empty lists\n",
    "Modelname=[]\n",
    "RunningKm=[]\n",
    "City=[]\n",
    "CarPrice=[]\n",
    "\n",
    "while range(15):\n",
    "    \n",
    "    #scrapping car modelnames\n",
    "    try:\n",
    "        carmodels=driver.find_elements_by_xpath(\"//span[@class='_2tW1I']\")\n",
    "        for i in carmodels:\n",
    "            Modelname.append(i.text)\n",
    "    except NoSuchElementException:\n",
    "        Modelname.append(\"No Details Available\")\n",
    "    \n",
    "    #scrapping kmran of car:\n",
    "    try:\n",
    "        kmran=driver.find_elements_by_xpath(\"//span[@class='_2TVI3']\")\n",
    "        for i in kmran:\n",
    "            RunningKm.append(i.text)\n",
    "    except NoSuchElementException:\n",
    "        RunningKm.append(\"No Details Available\")\n",
    "    \n",
    "    #scrapping city of car:\n",
    "    try:\n",
    "        city=driver.find_elements_by_xpath(\"//span[@class='tjgMj']\")\n",
    "        for i in city:\n",
    "            City.append(i.text)\n",
    "    except NoSuchElementException:\n",
    "        City.append(\"No Details Available\")\n",
    "    \n",
    "    #scrapping extimated price of car:\n",
    "    try:\n",
    "        carprice=driver.find_elements_by_xpath(\"//span[@class='_89yzn']\")\n",
    "        for i in carprice:\n",
    "            CarPrice.append(i.text)\n",
    "    except NoSuchElementException:\n",
    "        CarPrice.append(\"No Details Available\")\n",
    "    \n",
    "    #clicking loadmore button number of times:\n",
    "    try:\n",
    "        btn=driver.find_element_by_xpath(\"//button[@class='rui-39-wj rui-3evoE rui-1JPTg']\")\n",
    "        btn.click()\n",
    "        time.sleep(5)\n",
    "    except NoSuchElementException:\n",
    "        break"
   ]
  },
  {
   "cell_type": "code",
   "execution_count": 9,
   "metadata": {},
   "outputs": [],
   "source": [
    "#Make data frame\n",
    "df=pd.DataFrame({\"Car Modelname\": Modelname,\n",
    "                 \"RunningKm\": RunningKm,\n",
    "                 \"City\": City,\n",
    "                 \"Car Price\": CarPrice, \n",
    "                })"
   ]
  },
  {
   "cell_type": "code",
   "execution_count": 10,
   "metadata": {},
   "outputs": [],
   "source": [
    "#removing No details available headlines:\n",
    "df1 = df[df['Car Modelname'] != 'No Details Available']"
   ]
  },
  {
   "cell_type": "code",
   "execution_count": 11,
   "metadata": {},
   "outputs": [
    {
     "data": {
      "text/html": [
       "<div>\n",
       "<style scoped>\n",
       "    .dataframe tbody tr th:only-of-type {\n",
       "        vertical-align: middle;\n",
       "    }\n",
       "\n",
       "    .dataframe tbody tr th {\n",
       "        vertical-align: top;\n",
       "    }\n",
       "\n",
       "    .dataframe thead th {\n",
       "        text-align: right;\n",
       "    }\n",
       "</style>\n",
       "<table border=\"1\" class=\"dataframe\">\n",
       "  <thead>\n",
       "    <tr style=\"text-align: right;\">\n",
       "      <th></th>\n",
       "      <th>Car Modelname</th>\n",
       "      <th>RunningKm</th>\n",
       "      <th>City</th>\n",
       "      <th>Car Price</th>\n",
       "    </tr>\n",
       "  </thead>\n",
       "  <tbody>\n",
       "    <tr>\n",
       "      <th>0</th>\n",
       "      <td>Maruti Suzuki Celerio, 2016, Petrol</td>\n",
       "      <td>2016 - 59,105 km</td>\n",
       "      <td>AMANORA, PUNE</td>\n",
       "      <td>₹ 4,20,000</td>\n",
       "    </tr>\n",
       "    <tr>\n",
       "      <th>1</th>\n",
       "      <td>Volkswagen Vento 1.5 TDI Highline, 2013, Diesel</td>\n",
       "      <td>2013 - 62,000 km</td>\n",
       "      <td>ANDHERI WEST, MUMBAI</td>\n",
       "      <td>₹ 3,99,000</td>\n",
       "    </tr>\n",
       "    <tr>\n",
       "      <th>2</th>\n",
       "      <td>Fiat Punto Active 1.3, 2012, Diesel</td>\n",
       "      <td>2012 - 69,856 km</td>\n",
       "      <td>MODEL TOWN, AMBALA</td>\n",
       "      <td>₹ 1,55,000</td>\n",
       "    </tr>\n",
       "    <tr>\n",
       "      <th>3</th>\n",
       "      <td>Maruti Suzuki Baleno 1.2 Delta, 2019, Petrol</td>\n",
       "      <td>2019 - 39,291 km</td>\n",
       "      <td>RK PURAM, DELHI</td>\n",
       "      <td>₹ 6,13,000</td>\n",
       "    </tr>\n",
       "    <tr>\n",
       "      <th>4</th>\n",
       "      <td>Mahindra E Verito D4, 2012, Diesel</td>\n",
       "      <td>2012 - 125,000 km</td>\n",
       "      <td>SANATH NAGAR, COIMBATORE</td>\n",
       "      <td>₹ 2,45,000</td>\n",
       "    </tr>\n",
       "  </tbody>\n",
       "</table>\n",
       "</div>"
      ],
      "text/plain": [
       "                                     Car Modelname          RunningKm  \\\n",
       "0              Maruti Suzuki Celerio, 2016, Petrol   2016 - 59,105 km   \n",
       "1  Volkswagen Vento 1.5 TDI Highline, 2013, Diesel   2013 - 62,000 km   \n",
       "2              Fiat Punto Active 1.3, 2012, Diesel   2012 - 69,856 km   \n",
       "3     Maruti Suzuki Baleno 1.2 Delta, 2019, Petrol   2019 - 39,291 km   \n",
       "4               Mahindra E Verito D4, 2012, Diesel  2012 - 125,000 km   \n",
       "\n",
       "                       City   Car Price  \n",
       "0             AMANORA, PUNE  ₹ 4,20,000  \n",
       "1      ANDHERI WEST, MUMBAI  ₹ 3,99,000  \n",
       "2        MODEL TOWN, AMBALA  ₹ 1,55,000  \n",
       "3           RK PURAM, DELHI  ₹ 6,13,000  \n",
       "4  SANATH NAGAR, COIMBATORE  ₹ 2,45,000  "
      ]
     },
     "execution_count": 11,
     "metadata": {},
     "output_type": "execute_result"
    }
   ],
   "source": [
    "df1.head()"
   ]
  },
  {
   "cell_type": "code",
   "execution_count": 12,
   "metadata": {},
   "outputs": [],
   "source": [
    "df1.to_csv('car_price_prediction_datafile.csv')"
   ]
  },
  {
   "cell_type": "markdown",
   "metadata": {},
   "source": [
    "# Thank You"
   ]
  }
 ],
 "metadata": {
  "kernelspec": {
   "display_name": "Python 3",
   "language": "python",
   "name": "python3"
  },
  "language_info": {
   "codemirror_mode": {
    "name": "ipython",
    "version": 3
   },
   "file_extension": ".py",
   "mimetype": "text/x-python",
   "name": "python",
   "nbconvert_exporter": "python",
   "pygments_lexer": "ipython3",
   "version": "3.7.6"
  }
 },
 "nbformat": 4,
 "nbformat_minor": 4
}
