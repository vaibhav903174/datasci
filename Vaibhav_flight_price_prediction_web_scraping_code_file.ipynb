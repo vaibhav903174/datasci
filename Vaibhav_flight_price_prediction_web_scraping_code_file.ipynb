{
 "cells": [
  {
   "cell_type": "markdown",
   "metadata": {},
   "source": [
    "# FLIGHT PRICE PREDICTION PROJECT:\n",
    "Phase I - Web scrapping part\n"
   ]
  },
  {
   "cell_type": "markdown",
   "metadata": {},
   "source": [
    "Name: Vaibhav Tayade\n",
    "\n",
    "contact details: 8087970061\n",
    "\n",
    "Email Id: vaibhav_t29@rediffmail.com"
   ]
  },
  {
   "cell_type": "code",
   "execution_count": 1,
   "metadata": {},
   "outputs": [],
   "source": [
    "# Importing Libraries\n",
    "import selenium\n",
    "import pandas as pd\n",
    "import time\n",
    "from bs4 import BeautifulSoup\n",
    "from selenium import webdriver\n",
    "from selenium.common.exceptions import StaleElementReferenceException, NoSuchElementException,ElementNotInteractableException\n",
    "import requests\n",
    "import re"
   ]
  },
  {
   "cell_type": "code",
   "execution_count": 2,
   "metadata": {},
   "outputs": [],
   "source": [
    "# lets first connect to the webdriver\n",
    "driver = webdriver.Chrome(r\"C:\\Users\\vaibhav\\Desktop\\Data science\\FlipRobo Projects\\Web Scrapping 2\\chromedriver.exe\")"
   ]
  },
  {
   "cell_type": "code",
   "execution_count": 3,
   "metadata": {},
   "outputs": [],
   "source": [
    "url = \"https://www.easemytrip.com\"\n",
    "driver.get(url)"
   ]
  },
  {
   "cell_type": "code",
   "execution_count": 71,
   "metadata": {},
   "outputs": [],
   "source": [
    "delhi_bang_route=driver.find_element_by_xpath(\"/html/body/div[6]/div/div[2]/div/div[1]/div/ul[4]/li/a[2]\").click()"
   ]
  },
  {
   "cell_type": "code",
   "execution_count": 99,
   "metadata": {},
   "outputs": [],
   "source": [
    "delhi_pune_route=driver.find_element_by_xpath(\"/html/body/div[6]/div/div[2]/div/div[2]/div/ul[3]/li/a[2]\").click()"
   ]
  },
  {
   "cell_type": "code",
   "execution_count": 120,
   "metadata": {},
   "outputs": [],
   "source": [
    "kol_delhi_route=driver.find_element_by_xpath(\"/html/body/div[6]/div/div[2]/div/div[2]/div/ul[4]/li/a[2]\").click()"
   ]
  },
  {
   "cell_type": "code",
   "execution_count": 144,
   "metadata": {},
   "outputs": [],
   "source": [
    "mum_goa_route=driver.find_element_by_xpath(\"/html/body/div[6]/div/div[2]/div/div[1]/div/ul[5]/li/a[2]\").click()"
   ]
  },
  {
   "cell_type": "code",
   "execution_count": 164,
   "metadata": {},
   "outputs": [],
   "source": [
    "mum_bang_route=driver.find_element_by_xpath(\"/html/body/div[6]/div/div[2]/div/div[2]/div/ul[5]/li/a[2]\").click()"
   ]
  },
  {
   "cell_type": "code",
   "execution_count": 184,
   "metadata": {},
   "outputs": [],
   "source": [
    "del_goa_route=driver.find_element_by_xpath(\"/html/body/div[6]/div/div[2]/div/div[1]/div/ul[3]/li/a[2]\").click()"
   ]
  },
  {
   "cell_type": "code",
   "execution_count": 204,
   "metadata": {},
   "outputs": [],
   "source": [
    "del_patna_route=driver.find_element_by_xpath(\"/html/body/div[6]/div/div[2]/div/div[2]/div/ul[1]/li/a[2]\").click()"
   ]
  },
  {
   "cell_type": "code",
   "execution_count": 224,
   "metadata": {},
   "outputs": [],
   "source": [
    "del_kol_route=driver.find_element_by_xpath(\"/html/body/div[6]/div/div[2]/div/div[2]/div/ul[2]/li/a[2]\").click()"
   ]
  },
  {
   "cell_type": "code",
   "execution_count": 4,
   "metadata": {},
   "outputs": [],
   "source": [
    "search_button_clicking=driver.find_element_by_xpath(\"/html/body/form/div[5]/div[2]/div[3]/div[1]/div[7]/input\").click()"
   ]
  },
  {
   "cell_type": "code",
   "execution_count": 5,
   "metadata": {},
   "outputs": [],
   "source": [
    "Airway=[]\n",
    "#scrapping airway carrier names\n",
    "try:\n",
    "    airwaysname = driver.find_elements_by_xpath(\"//span[@class='txt-r4 ng-binding']\")\n",
    "    for i in airwaysname:\n",
    "        Airway.append(i.text)\n",
    "except NoSuchElementException:\n",
    "    Airway.append(\"No Details Available\")"
   ]
  },
  {
   "cell_type": "code",
   "execution_count": 6,
   "metadata": {},
   "outputs": [],
   "source": [
    "Arrival=[]\n",
    "#scrapping arrival timing of the flight:\n",
    "try:\n",
    "    arrivaltiming = driver.find_elements_by_xpath(\"//span[@class='txt-r2-n ng-binding']\")\n",
    "    for i in arrivaltiming:\n",
    "        Arrival.append(i.text)\n",
    "except NoSuchElementException:\n",
    "    Arrival.append(\"No Details Available\")"
   ]
  },
  {
   "cell_type": "code",
   "execution_count": 7,
   "metadata": {},
   "outputs": [],
   "source": [
    "flight_destination_time = []\n",
    "flight_leaves = []\n",
    "for i in range(0, len(Arrival)):\n",
    "    if i % 2:\n",
    "        flight_destination_time.append(Arrival[i])\n",
    "    else :\n",
    "        flight_leaves.append(Arrival[i])"
   ]
  },
  {
   "cell_type": "code",
   "execution_count": 8,
   "metadata": {},
   "outputs": [
    {
     "data": {
      "text/plain": [
       "['21:55', '21:30', '20:30', '22:45', '20:00']"
      ]
     },
     "execution_count": 8,
     "metadata": {},
     "output_type": "execute_result"
    }
   ],
   "source": [
    "flight_leaves[:5]"
   ]
  },
  {
   "cell_type": "code",
   "execution_count": 9,
   "metadata": {},
   "outputs": [
    {
     "data": {
      "text/plain": [
       "['00:05', '23:35', '22:35', '01:00', '22:10']"
      ]
     },
     "execution_count": 9,
     "metadata": {},
     "output_type": "execute_result"
    }
   ],
   "source": [
    "flight_destination_time[:5]"
   ]
  },
  {
   "cell_type": "code",
   "execution_count": 10,
   "metadata": {},
   "outputs": [],
   "source": [
    "city=[]\n",
    "#scrapping city of the flight:\n",
    "try:\n",
    "    fcity = driver.find_elements_by_xpath(\"//span[@class='txt-r3-n ng-binding']\")\n",
    "    for i in fcity:\n",
    "        city.append(i.text)\n",
    "except NoSuchElementException:\n",
    "    city.append(\"No Details Available\")"
   ]
  },
  {
   "cell_type": "code",
   "execution_count": 11,
   "metadata": {},
   "outputs": [],
   "source": [
    "fromcity = []\n",
    "tocity = []\n",
    "for i in range(0, len(city)):\n",
    "    if i % 2:\n",
    "        tocity.append(city[i])\n",
    "    else :\n",
    "        fromcity.append(city[i])"
   ]
  },
  {
   "cell_type": "code",
   "execution_count": 12,
   "metadata": {},
   "outputs": [],
   "source": [
    "flight_price=[]\n",
    "#scrapping pricing of the flight:\n",
    "try:\n",
    "    price = driver.find_elements_by_xpath(\"//div[@class='col-md-8 col-sm-8 col-xs-9 txt-r6-n ng-binding']\")\n",
    "    for i in price:\n",
    "        flight_price.append(i.text)\n",
    "except NoSuchElementException:\n",
    "    flight_price.append(\"No Details Available\")"
   ]
  },
  {
   "cell_type": "code",
   "execution_count": 13,
   "metadata": {},
   "outputs": [],
   "source": [
    "date=driver.find_elements_by_xpath(\"/html/body/form/div[9]/div[4]/div/div[2]/div[1]/div/div[1]/div[2]/div/div/div/div/div/div[2]/div[6]/div[1]/div[1]/div[1]\")"
   ]
  },
  {
   "cell_type": "code",
   "execution_count": 16,
   "metadata": {},
   "outputs": [],
   "source": [
    "Date=[]\n",
    "try:\n",
    "    for i in date:\n",
    "        for m in range(40):\n",
    "            Date.append(i.text)\n",
    "except NoSuchElementException:\n",
    "    Date.append(\"No Details Available\")"
   ]
  },
  {
   "cell_type": "code",
   "execution_count": 17,
   "metadata": {},
   "outputs": [],
   "source": [
    "#Make data frame\n",
    "df=pd.DataFrame({\"AIRWAY\":Airway,\n",
    "                 \"FLIGHTDEPARTS\":flight_leaves,\n",
    "                 \"FLIGHT_DEST_ARRIVES\":flight_destination_time,\n",
    "                 \"FROMCITY\":fromcity,\n",
    "                 \"TOCITY\":tocity,\n",
    "                 \"FLIGHTPRICE\":flight_price,\n",
    "                 \"DATE\":Date,\n",
    "                })"
   ]
  },
  {
   "cell_type": "code",
   "execution_count": 285,
   "metadata": {},
   "outputs": [],
   "source": [
    "df.to_csv('flight_price_prediction.csv')"
   ]
  },
  {
   "cell_type": "markdown",
   "metadata": {},
   "source": [
    "# THANK YOU"
   ]
  },
  {
   "cell_type": "code",
   "execution_count": null,
   "metadata": {},
   "outputs": [],
   "source": []
  }
 ],
 "metadata": {
  "kernelspec": {
   "display_name": "Python 3",
   "language": "python",
   "name": "python3"
  },
  "language_info": {
   "codemirror_mode": {
    "name": "ipython",
    "version": 3
   },
   "file_extension": ".py",
   "mimetype": "text/x-python",
   "name": "python",
   "nbconvert_exporter": "python",
   "pygments_lexer": "ipython3",
   "version": "3.7.6"
  }
 },
 "nbformat": 4,
 "nbformat_minor": 4
}
