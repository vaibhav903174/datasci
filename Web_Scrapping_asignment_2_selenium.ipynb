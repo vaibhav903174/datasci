{
 "cells": [
  {
   "cell_type": "code",
   "execution_count": null,
   "metadata": {},
   "outputs": [],
   "source": [
    "#pip install selenium"
   ]
  },
  {
   "cell_type": "code",
   "execution_count": 1,
   "metadata": {},
   "outputs": [],
   "source": [
    "import selenium\n",
    "\n",
    "import pandas as pd\n",
    "from selenium import webdriver"
   ]
  },
  {
   "cell_type": "markdown",
   "metadata": {},
   "source": [
    "# Problem 1 >>>"
   ]
  },
  {
   "cell_type": "markdown",
   "metadata": {},
   "source": [
    "Problem 1>>> Write a python program to scrape data for “Data Analyst” Job position in \n",
    "“Bangalore” location. You have to scrape the job-title, job-location, company_name,\n",
    "experience_required. You have to scrape first 10 jobs data."
   ]
  },
  {
   "cell_type": "code",
   "execution_count": 2,
   "metadata": {},
   "outputs": [],
   "source": [
    "# lets first connect to the webdriver\n",
    "driver = webdriver.Chrome(r\"C:\\Users\\vaibhav\\Desktop\\Data science\\FlipRobo Projects\\Web Scrapping 2\\chromedriver.exe\")"
   ]
  },
  {
   "cell_type": "code",
   "execution_count": null,
   "metadata": {},
   "outputs": [],
   "source": [
    "# if it is uploaded in  the anaconda\n",
    "# driver = webdriver.Chrome(\"chromedriver.exe\")"
   ]
  },
  {
   "cell_type": "code",
   "execution_count": 3,
   "metadata": {},
   "outputs": [],
   "source": [
    "url = 'https://www.naukri.com'\n",
    "driver.get(url)\n"
   ]
  },
  {
   "cell_type": "code",
   "execution_count": 4,
   "metadata": {},
   "outputs": [
    {
     "data": {
      "text/plain": [
       "<selenium.webdriver.remote.webelement.WebElement (session=\"2f6a73943400f23a916affe7bcbea3d2\", element=\"10fe42ee-2824-44ab-b5d5-af1a14d35731\")>"
      ]
     },
     "execution_count": 4,
     "metadata": {},
     "output_type": "execute_result"
    }
   ],
   "source": [
    "# finding element for job search bar\n",
    "\n",
    "search_job = driver.find_element_by_id('qsb-keyword-sugg')\n",
    "search_job"
   ]
  },
  {
   "cell_type": "code",
   "execution_count": 5,
   "metadata": {},
   "outputs": [],
   "source": [
    "# to write on search bar:\n",
    "\n",
    "search_job.send_keys(\"Data Analyst\")"
   ]
  },
  {
   "cell_type": "code",
   "execution_count": 6,
   "metadata": {},
   "outputs": [],
   "source": [
    "# finding element for job location bar:\n",
    "\n",
    "search_loc = driver.find_element_by_id(\"qsb-location-sugg\")\n",
    "search_loc.send_keys(\"Banglore\")"
   ]
  },
  {
   "cell_type": "code",
   "execution_count": 7,
   "metadata": {},
   "outputs": [
    {
     "data": {
      "text/plain": [
       "<selenium.webdriver.remote.webelement.WebElement (session=\"2f6a73943400f23a916affe7bcbea3d2\", element=\"e4728f81-fc87-457f-8194-7addc4b5017e\")>"
      ]
     },
     "execution_count": 7,
     "metadata": {},
     "output_type": "execute_result"
    }
   ],
   "source": [
    "# do click using xpath function:\n",
    "search_btn = driver.find_element_by_xpath(\"//button[@class='btn']\")\n",
    "search_btn"
   ]
  },
  {
   "cell_type": "code",
   "execution_count": 8,
   "metadata": {},
   "outputs": [],
   "source": [
    "search_btn.click()"
   ]
  },
  {
   "cell_type": "code",
   "execution_count": 9,
   "metadata": {
    "scrolled": true
   },
   "outputs": [
    {
     "data": {
      "text/plain": [
       "[<selenium.webdriver.remote.webelement.WebElement (session=\"2f6a73943400f23a916affe7bcbea3d2\", element=\"9fcf1455-462c-4114-86fc-4158292ced82\")>]"
      ]
     },
     "execution_count": 9,
     "metadata": {},
     "output_type": "execute_result"
    }
   ],
   "source": [
    "# absolute xpath\n",
    "titles_tag = driver.find_elements_by_xpath(\"/html/body/div[1]/div[3]/div[2]/section[2]/div[2]/article[12]/div[1]/div[1]/a\")\n",
    "titles_tag\n"
   ]
  },
  {
   "cell_type": "code",
   "execution_count": 10,
   "metadata": {},
   "outputs": [
    {
     "data": {
      "text/plain": [
       "[<selenium.webdriver.remote.webelement.WebElement (session=\"2f6a73943400f23a916affe7bcbea3d2\", element=\"c381a67e-2465-4c89-bca5-6d4616659a2e\")>,\n",
       " <selenium.webdriver.remote.webelement.WebElement (session=\"2f6a73943400f23a916affe7bcbea3d2\", element=\"274bc24d-c198-4714-89d5-cf52aa755997\")>,\n",
       " <selenium.webdriver.remote.webelement.WebElement (session=\"2f6a73943400f23a916affe7bcbea3d2\", element=\"0a97216f-ace3-4057-b2fd-37ed0707a837\")>,\n",
       " <selenium.webdriver.remote.webelement.WebElement (session=\"2f6a73943400f23a916affe7bcbea3d2\", element=\"316241ba-8e46-47a5-bcba-9123e8dff4de\")>,\n",
       " <selenium.webdriver.remote.webelement.WebElement (session=\"2f6a73943400f23a916affe7bcbea3d2\", element=\"04d053b8-ac17-474a-8843-65d2fae38775\")>,\n",
       " <selenium.webdriver.remote.webelement.WebElement (session=\"2f6a73943400f23a916affe7bcbea3d2\", element=\"76db1cb9-43db-40b1-94cc-18a89286f8ab\")>,\n",
       " <selenium.webdriver.remote.webelement.WebElement (session=\"2f6a73943400f23a916affe7bcbea3d2\", element=\"706813da-72eb-4fe9-b9cf-de7c8b4cf75c\")>,\n",
       " <selenium.webdriver.remote.webelement.WebElement (session=\"2f6a73943400f23a916affe7bcbea3d2\", element=\"927bbfa7-51e0-4828-b5ca-3c68818c1f55\")>,\n",
       " <selenium.webdriver.remote.webelement.WebElement (session=\"2f6a73943400f23a916affe7bcbea3d2\", element=\"a9dfb185-37d8-43eb-9539-28adcb64e377\")>,\n",
       " <selenium.webdriver.remote.webelement.WebElement (session=\"2f6a73943400f23a916affe7bcbea3d2\", element=\"cc2d93a2-88ab-434a-8639-f9187ac88f27\")>]"
      ]
     },
     "execution_count": 10,
     "metadata": {},
     "output_type": "execute_result"
    }
   ],
   "source": [
    "# to extract data from multiple pages:\n",
    "urls = driver.find_elements_by_xpath('//div[@class=\"fleft pages\"]//a')\n",
    "urls"
   ]
  },
  {
   "cell_type": "code",
   "execution_count": 11,
   "metadata": {},
   "outputs": [
    {
     "data": {
      "text/plain": [
       "['https://www.naukri.com/data-analyst-jobs-in-banglore',\n",
       " 'https://www.naukri.com/data-analyst-jobs-in-banglore-2',\n",
       " 'https://www.naukri.com/data-analyst-jobs-in-banglore-3',\n",
       " 'https://www.naukri.com/data-analyst-jobs-in-banglore-4',\n",
       " 'https://www.naukri.com/data-analyst-jobs-in-banglore-5',\n",
       " 'https://www.naukri.com/data-analyst-jobs-in-banglore-6',\n",
       " 'https://www.naukri.com/data-analyst-jobs-in-banglore-7',\n",
       " 'https://www.naukri.com/data-analyst-jobs-in-banglore-8',\n",
       " 'https://www.naukri.com/data-analyst-jobs-in-banglore-9',\n",
       " 'https://www.naukri.com/data-analyst-jobs-in-banglore-10']"
      ]
     },
     "execution_count": 11,
     "metadata": {},
     "output_type": "execute_result"
    }
   ],
   "source": [
    "page_urls = []\n",
    "for i in urls:\n",
    "    page_urls.append(i.get_attribute('href'))\n",
    "page_urls"
   ]
  },
  {
   "cell_type": "code",
   "execution_count": 12,
   "metadata": {},
   "outputs": [
    {
     "data": {
      "text/plain": [
       "[<selenium.webdriver.remote.webelement.WebElement (session=\"2f6a73943400f23a916affe7bcbea3d2\", element=\"d0951359-9088-435b-9019-f7e95aeb024a\")>,\n",
       " <selenium.webdriver.remote.webelement.WebElement (session=\"2f6a73943400f23a916affe7bcbea3d2\", element=\"e45911ef-48e5-4604-9d22-2b002dbd6db4\")>,\n",
       " <selenium.webdriver.remote.webelement.WebElement (session=\"2f6a73943400f23a916affe7bcbea3d2\", element=\"035b29ff-fb99-45da-ae8e-b0c997fc58f5\")>,\n",
       " <selenium.webdriver.remote.webelement.WebElement (session=\"2f6a73943400f23a916affe7bcbea3d2\", element=\"1bde0c2c-38e2-4928-a96a-e51ec86f0357\")>,\n",
       " <selenium.webdriver.remote.webelement.WebElement (session=\"2f6a73943400f23a916affe7bcbea3d2\", element=\"37bbfe1a-b640-4d43-8867-cc5b8024c340\")>,\n",
       " <selenium.webdriver.remote.webelement.WebElement (session=\"2f6a73943400f23a916affe7bcbea3d2\", element=\"b916c63b-ed05-44b6-94f3-d77a355a736c\")>,\n",
       " <selenium.webdriver.remote.webelement.WebElement (session=\"2f6a73943400f23a916affe7bcbea3d2\", element=\"e2a6502e-ee4a-4c49-9b55-63917cb7029f\")>,\n",
       " <selenium.webdriver.remote.webelement.WebElement (session=\"2f6a73943400f23a916affe7bcbea3d2\", element=\"477cbd23-0b42-4fe2-89b2-51e87e19150a\")>,\n",
       " <selenium.webdriver.remote.webelement.WebElement (session=\"2f6a73943400f23a916affe7bcbea3d2\", element=\"7bbcfa31-e8f1-4866-88dd-9cb390d87ba5\")>,\n",
       " <selenium.webdriver.remote.webelement.WebElement (session=\"2f6a73943400f23a916affe7bcbea3d2\", element=\"de2da4eb-9d50-4f58-9433-e4d4ff6ea24d\")>,\n",
       " <selenium.webdriver.remote.webelement.WebElement (session=\"2f6a73943400f23a916affe7bcbea3d2\", element=\"7f2a4bd6-aa35-4763-a0d0-7b775fd2dd72\")>,\n",
       " <selenium.webdriver.remote.webelement.WebElement (session=\"2f6a73943400f23a916affe7bcbea3d2\", element=\"9fcf1455-462c-4114-86fc-4158292ced82\")>,\n",
       " <selenium.webdriver.remote.webelement.WebElement (session=\"2f6a73943400f23a916affe7bcbea3d2\", element=\"ef2b6ab3-31b3-4074-8fac-91f2af1ad7b0\")>,\n",
       " <selenium.webdriver.remote.webelement.WebElement (session=\"2f6a73943400f23a916affe7bcbea3d2\", element=\"07197126-9f16-40f3-8170-a420b4848864\")>,\n",
       " <selenium.webdriver.remote.webelement.WebElement (session=\"2f6a73943400f23a916affe7bcbea3d2\", element=\"5bc08820-9b3b-443e-8e80-5cd9259401fc\")>,\n",
       " <selenium.webdriver.remote.webelement.WebElement (session=\"2f6a73943400f23a916affe7bcbea3d2\", element=\"610bb3cb-56b3-41d6-b5ed-9bb8ef44b1b0\")>,\n",
       " <selenium.webdriver.remote.webelement.WebElement (session=\"2f6a73943400f23a916affe7bcbea3d2\", element=\"1beb181a-921b-415e-9665-e65b7d2d9e13\")>,\n",
       " <selenium.webdriver.remote.webelement.WebElement (session=\"2f6a73943400f23a916affe7bcbea3d2\", element=\"15e481cc-9c69-491c-baaa-12bf627fa39d\")>,\n",
       " <selenium.webdriver.remote.webelement.WebElement (session=\"2f6a73943400f23a916affe7bcbea3d2\", element=\"64edf55b-3815-4744-952d-73b27591c2b3\")>,\n",
       " <selenium.webdriver.remote.webelement.WebElement (session=\"2f6a73943400f23a916affe7bcbea3d2\", element=\"6a8e579a-16b3-4e4e-a86a-a2df847c332d\")>]"
      ]
     },
     "execution_count": 12,
     "metadata": {},
     "output_type": "execute_result"
    }
   ],
   "source": [
    "# so lets extract all the tags having the job titles:\n",
    "titles_tags = driver.find_elements_by_xpath(\"//a[@class='title fw500 ellipsis']\")\n",
    "titles_tags"
   ]
  },
  {
   "cell_type": "code",
   "execution_count": 13,
   "metadata": {},
   "outputs": [
    {
     "data": {
      "text/plain": [
       "['Senior Data Analyst - Data Lineage',\n",
       " 'Data Analyst - Informatica MDM',\n",
       " 'Data analysts',\n",
       " 'Excel VBA Jobs Bangalore | VBA data analyst Jobs',\n",
       " 'Data Analyst (2positions)//immediate Joiners//bangalore',\n",
       " 'Business/Data Analyst - SSE/LA',\n",
       " 'Business Data Analyst',\n",
       " 'Data Analyst',\n",
       " 'Data Analyst',\n",
       " 'Data Analyst - Category Demand Management (Revenue & Growth)',\n",
       " 'data analyst',\n",
       " 'RC HIA - Data Analyst - A2',\n",
       " 'Data Analyst (Contractual)',\n",
       " 'Procurement Data Analyst',\n",
       " 'Data Analyst',\n",
       " 'Hiring Consultant Data Analyst Contractual',\n",
       " 'Data Analyst/ Data Consultant (Various Levels – Senior/ Mid/ Junior)',\n",
       " 'Data Scientist / Data Analyst -Business Analyst',\n",
       " 'Senior Data Analyst',\n",
       " 'Senior Data Analyst']"
      ]
     },
     "execution_count": 13,
     "metadata": {},
     "output_type": "execute_result"
    }
   ],
   "source": [
    "j_titles = []\n",
    "for i in titles_tags:\n",
    "    # if any missing data is available\n",
    "    if i.text is None:\n",
    "        j_titles.append('Missing data')\n",
    "    else:\n",
    "        j_titles.append(i.text)\n",
    "j_titles"
   ]
  },
  {
   "cell_type": "code",
   "execution_count": 14,
   "metadata": {},
   "outputs": [
    {
     "data": {
      "text/plain": [
       "[<selenium.webdriver.remote.webelement.WebElement (session=\"2f6a73943400f23a916affe7bcbea3d2\", element=\"e38682cc-e91e-4b8a-90b1-8d8c3b934fd0\")>,\n",
       " <selenium.webdriver.remote.webelement.WebElement (session=\"2f6a73943400f23a916affe7bcbea3d2\", element=\"4e335cd2-5590-427b-a606-502effb0a8e4\")>,\n",
       " <selenium.webdriver.remote.webelement.WebElement (session=\"2f6a73943400f23a916affe7bcbea3d2\", element=\"e03ccb29-efef-4411-b6d4-d5c628b54ac4\")>,\n",
       " <selenium.webdriver.remote.webelement.WebElement (session=\"2f6a73943400f23a916affe7bcbea3d2\", element=\"addc42e3-fb24-4289-9d9f-254d5026a8a0\")>,\n",
       " <selenium.webdriver.remote.webelement.WebElement (session=\"2f6a73943400f23a916affe7bcbea3d2\", element=\"cafaaad9-2a90-437e-977d-77e6fefb4d3f\")>,\n",
       " <selenium.webdriver.remote.webelement.WebElement (session=\"2f6a73943400f23a916affe7bcbea3d2\", element=\"172fbf77-5400-4efd-acc7-82cb5642c5c4\")>,\n",
       " <selenium.webdriver.remote.webelement.WebElement (session=\"2f6a73943400f23a916affe7bcbea3d2\", element=\"a02b3a43-fb14-4630-ac74-e5e78f21dce9\")>,\n",
       " <selenium.webdriver.remote.webelement.WebElement (session=\"2f6a73943400f23a916affe7bcbea3d2\", element=\"0e556c4d-bb9c-463f-b2e5-5581fbe0d788\")>,\n",
       " <selenium.webdriver.remote.webelement.WebElement (session=\"2f6a73943400f23a916affe7bcbea3d2\", element=\"eacd32f7-47c0-40b9-ba67-7aa4d136f7f0\")>,\n",
       " <selenium.webdriver.remote.webelement.WebElement (session=\"2f6a73943400f23a916affe7bcbea3d2\", element=\"0a7e5e90-a1ee-4921-89b1-462c4c20c16c\")>,\n",
       " <selenium.webdriver.remote.webelement.WebElement (session=\"2f6a73943400f23a916affe7bcbea3d2\", element=\"b3579295-9932-471b-aeba-97b7026ee14b\")>,\n",
       " <selenium.webdriver.remote.webelement.WebElement (session=\"2f6a73943400f23a916affe7bcbea3d2\", element=\"a585025c-f056-431c-9188-51c88fdc8bca\")>,\n",
       " <selenium.webdriver.remote.webelement.WebElement (session=\"2f6a73943400f23a916affe7bcbea3d2\", element=\"5d22ec26-ec22-4029-a895-c0d05b8077bf\")>,\n",
       " <selenium.webdriver.remote.webelement.WebElement (session=\"2f6a73943400f23a916affe7bcbea3d2\", element=\"ed169271-79e5-4c58-aae2-53b437a6865e\")>,\n",
       " <selenium.webdriver.remote.webelement.WebElement (session=\"2f6a73943400f23a916affe7bcbea3d2\", element=\"d2215d89-ccd4-4712-8771-f799fb3fd75c\")>,\n",
       " <selenium.webdriver.remote.webelement.WebElement (session=\"2f6a73943400f23a916affe7bcbea3d2\", element=\"751a348e-f86c-4f34-a40e-43f5de86876b\")>,\n",
       " <selenium.webdriver.remote.webelement.WebElement (session=\"2f6a73943400f23a916affe7bcbea3d2\", element=\"c92339b2-6ce1-41a5-93c1-9da36e971925\")>,\n",
       " <selenium.webdriver.remote.webelement.WebElement (session=\"2f6a73943400f23a916affe7bcbea3d2\", element=\"b3328966-ce63-4b5c-bb1b-f6689d800a52\")>,\n",
       " <selenium.webdriver.remote.webelement.WebElement (session=\"2f6a73943400f23a916affe7bcbea3d2\", element=\"5308024d-e240-46dd-addf-d476fd16ee66\")>,\n",
       " <selenium.webdriver.remote.webelement.WebElement (session=\"2f6a73943400f23a916affe7bcbea3d2\", element=\"8a716231-51a6-4d2d-83f6-7d152b19d8e8\")>]"
      ]
     },
     "execution_count": 14,
     "metadata": {},
     "output_type": "execute_result"
    }
   ],
   "source": [
    "companies = driver.find_elements_by_xpath(\"//a[@class='subTitle ellipsis fleft']\")\n",
    "companies"
   ]
  },
  {
   "cell_type": "code",
   "execution_count": 15,
   "metadata": {},
   "outputs": [
    {
     "data": {
      "text/plain": [
       "['Opex Global Services',\n",
       " 'Shell India Markets Private Limited',\n",
       " 'IBM India Pvt. Limited',\n",
       " 'Mind Circus Innovation',\n",
       " 'Tech Mahindra Ltd.',\n",
       " 'CGI Information Systems and Management Consultants',\n",
       " 'dotSolved India Pvt., Ltd.',\n",
       " 'Myntra Designs Pvt. Ltd.',\n",
       " 'Myntra Designs Pvt. Ltd.',\n",
       " 'Myntra Designs Pvt. Ltd.',\n",
       " 'Disha Consultants',\n",
       " 'Pricewaterhouse Coopers Private Limited',\n",
       " 'Flipkart Internet Private Limited',\n",
       " 'Schneider Electric',\n",
       " 'IBM India Pvt. Limited',\n",
       " 'Flipkart Internet Private Limited',\n",
       " 'DVSUM INDIA PRIVATE LIMITED',\n",
       " 'Inflexion Analytix Private Limited',\n",
       " 'Cimpress India Private Limited',\n",
       " 'Eze Castle Integration Services (Formerly Alphaserve Technologies)']"
      ]
     },
     "execution_count": 15,
     "metadata": {},
     "output_type": "execute_result"
    }
   ],
   "source": [
    "com_list = []\n",
    "for i in companies:\n",
    "    com_list.append(i.text)\n",
    "com_list"
   ]
  },
  {
   "cell_type": "code",
   "execution_count": 16,
   "metadata": {},
   "outputs": [
    {
     "data": {
      "text/plain": [
       "[<selenium.webdriver.remote.webelement.WebElement (session=\"2f6a73943400f23a916affe7bcbea3d2\", element=\"f76a072d-d135-4a61-9a54-a4e0df26daa1\")>,\n",
       " <selenium.webdriver.remote.webelement.WebElement (session=\"2f6a73943400f23a916affe7bcbea3d2\", element=\"93bc84f4-a8b0-4047-8be1-29507b1ac11d\")>,\n",
       " <selenium.webdriver.remote.webelement.WebElement (session=\"2f6a73943400f23a916affe7bcbea3d2\", element=\"840da7d7-72d9-4374-a78a-afa30f7e74e9\")>,\n",
       " <selenium.webdriver.remote.webelement.WebElement (session=\"2f6a73943400f23a916affe7bcbea3d2\", element=\"3a7d2b89-ff6d-4bae-a46e-2e477bec6334\")>,\n",
       " <selenium.webdriver.remote.webelement.WebElement (session=\"2f6a73943400f23a916affe7bcbea3d2\", element=\"30113c54-de1f-44c6-b503-9d7a1e2b7a29\")>,\n",
       " <selenium.webdriver.remote.webelement.WebElement (session=\"2f6a73943400f23a916affe7bcbea3d2\", element=\"808b4736-48cb-4932-a19a-58aa7f554103\")>,\n",
       " <selenium.webdriver.remote.webelement.WebElement (session=\"2f6a73943400f23a916affe7bcbea3d2\", element=\"c9cbb272-da40-4ffe-ab9c-9afad8092635\")>,\n",
       " <selenium.webdriver.remote.webelement.WebElement (session=\"2f6a73943400f23a916affe7bcbea3d2\", element=\"b4a1e5c7-86a1-4b56-ae7f-4ec691c22bc0\")>,\n",
       " <selenium.webdriver.remote.webelement.WebElement (session=\"2f6a73943400f23a916affe7bcbea3d2\", element=\"5f4b477c-95cc-41c7-a3b8-842a95e939a1\")>,\n",
       " <selenium.webdriver.remote.webelement.WebElement (session=\"2f6a73943400f23a916affe7bcbea3d2\", element=\"8246f955-0724-44c7-a978-2a2f385d1a52\")>,\n",
       " <selenium.webdriver.remote.webelement.WebElement (session=\"2f6a73943400f23a916affe7bcbea3d2\", element=\"0ba97da1-ed2c-484b-a09c-31e972f9b8a4\")>,\n",
       " <selenium.webdriver.remote.webelement.WebElement (session=\"2f6a73943400f23a916affe7bcbea3d2\", element=\"ae5a713e-5ffb-4cdc-9f63-69b2c2ef7e03\")>,\n",
       " <selenium.webdriver.remote.webelement.WebElement (session=\"2f6a73943400f23a916affe7bcbea3d2\", element=\"2be223a0-307d-4e1d-9825-beff3dd9bb88\")>,\n",
       " <selenium.webdriver.remote.webelement.WebElement (session=\"2f6a73943400f23a916affe7bcbea3d2\", element=\"152244b0-e9d3-49d5-b04a-fc5979b01f18\")>,\n",
       " <selenium.webdriver.remote.webelement.WebElement (session=\"2f6a73943400f23a916affe7bcbea3d2\", element=\"254aa2c3-a01c-4a0b-bf51-1ee626aba1e9\")>,\n",
       " <selenium.webdriver.remote.webelement.WebElement (session=\"2f6a73943400f23a916affe7bcbea3d2\", element=\"1aa0392b-3ef0-4a7c-b95e-a35d810daa3c\")>,\n",
       " <selenium.webdriver.remote.webelement.WebElement (session=\"2f6a73943400f23a916affe7bcbea3d2\", element=\"dd8082e2-cf42-498c-87ac-ac060f1ade73\")>,\n",
       " <selenium.webdriver.remote.webelement.WebElement (session=\"2f6a73943400f23a916affe7bcbea3d2\", element=\"c9f771d0-7851-456f-9831-64e803a94dd3\")>,\n",
       " <selenium.webdriver.remote.webelement.WebElement (session=\"2f6a73943400f23a916affe7bcbea3d2\", element=\"484cceab-9589-4b92-a175-695c646ff6d3\")>,\n",
       " <selenium.webdriver.remote.webelement.WebElement (session=\"2f6a73943400f23a916affe7bcbea3d2\", element=\"b34f5b17-3971-4083-a48c-f108f92626db\")>]"
      ]
     },
     "execution_count": 16,
     "metadata": {},
     "output_type": "execute_result"
    }
   ],
   "source": [
    "experience = driver.find_elements_by_xpath(\"//li[@class='fleft grey-text br2 placeHolderLi experience']\")\n",
    "experience"
   ]
  },
  {
   "cell_type": "code",
   "execution_count": 17,
   "metadata": {},
   "outputs": [
    {
     "data": {
      "text/plain": [
       "['5-10 Yrs',\n",
       " '6-9 Yrs',\n",
       " '3-5 Yrs',\n",
       " '0-1 Yrs',\n",
       " '4-8 Yrs',\n",
       " '2-5 Yrs',\n",
       " '9-13 Yrs',\n",
       " '3-5 Yrs',\n",
       " '3-8 Yrs',\n",
       " '1-4 Yrs',\n",
       " '2-4 Yrs',\n",
       " '4-6 Yrs',\n",
       " '1-4 Yrs',\n",
       " '1-3 Yrs',\n",
       " '5-10 Yrs',\n",
       " '2-6 Yrs',\n",
       " '5-10 Yrs',\n",
       " '0-3 Yrs',\n",
       " '3-8 Yrs',\n",
       " '6-11 Yrs']"
      ]
     },
     "execution_count": 17,
     "metadata": {},
     "output_type": "execute_result"
    }
   ],
   "source": [
    "exp_list = []\n",
    "for i in experience:\n",
    "    exp_list.append(i.text)\n",
    "exp_list"
   ]
  },
  {
   "cell_type": "code",
   "execution_count": 18,
   "metadata": {},
   "outputs": [
    {
     "name": "stdout",
     "output_type": "stream",
     "text": [
      "(20, 20, 20)\n"
     ]
    }
   ],
   "source": [
    "print((len(exp_list), len(com_list), len(j_titles)))"
   ]
  },
  {
   "cell_type": "code",
   "execution_count": 19,
   "metadata": {},
   "outputs": [
    {
     "data": {
      "text/plain": [
       "[<selenium.webdriver.remote.webelement.WebElement (session=\"2f6a73943400f23a916affe7bcbea3d2\", element=\"78577e91-69ae-4774-8ece-0d4893b81455\")>,\n",
       " <selenium.webdriver.remote.webelement.WebElement (session=\"2f6a73943400f23a916affe7bcbea3d2\", element=\"b661e9d6-61c7-42c4-bbea-75e3e2e732ab\")>,\n",
       " <selenium.webdriver.remote.webelement.WebElement (session=\"2f6a73943400f23a916affe7bcbea3d2\", element=\"4c9c40b6-e3fb-4370-8925-ab0f6a2b0989\")>,\n",
       " <selenium.webdriver.remote.webelement.WebElement (session=\"2f6a73943400f23a916affe7bcbea3d2\", element=\"b7073a00-a792-4af0-bdc3-fd3b51d71213\")>,\n",
       " <selenium.webdriver.remote.webelement.WebElement (session=\"2f6a73943400f23a916affe7bcbea3d2\", element=\"14d0dd5c-edd0-43f4-82e5-78d6f7134711\")>,\n",
       " <selenium.webdriver.remote.webelement.WebElement (session=\"2f6a73943400f23a916affe7bcbea3d2\", element=\"8cf98157-8a4c-4d45-b245-3c76a7be7bde\")>,\n",
       " <selenium.webdriver.remote.webelement.WebElement (session=\"2f6a73943400f23a916affe7bcbea3d2\", element=\"c77720d3-8f37-4f67-bdba-cb7040b38ae1\")>,\n",
       " <selenium.webdriver.remote.webelement.WebElement (session=\"2f6a73943400f23a916affe7bcbea3d2\", element=\"31013a89-7c43-4574-909e-7de0a3711ec0\")>,\n",
       " <selenium.webdriver.remote.webelement.WebElement (session=\"2f6a73943400f23a916affe7bcbea3d2\", element=\"001f3a7b-4e5c-4580-9309-3322c6d6f269\")>,\n",
       " <selenium.webdriver.remote.webelement.WebElement (session=\"2f6a73943400f23a916affe7bcbea3d2\", element=\"f0375cf3-ade6-494c-9fd5-0339f32e06fa\")>,\n",
       " <selenium.webdriver.remote.webelement.WebElement (session=\"2f6a73943400f23a916affe7bcbea3d2\", element=\"ab82caf3-b558-4213-8e03-b36e8e2498fd\")>,\n",
       " <selenium.webdriver.remote.webelement.WebElement (session=\"2f6a73943400f23a916affe7bcbea3d2\", element=\"a2362608-eb2c-4429-ad67-a3733c7e26c4\")>,\n",
       " <selenium.webdriver.remote.webelement.WebElement (session=\"2f6a73943400f23a916affe7bcbea3d2\", element=\"c0dccda5-9c0e-4736-9b90-072aba0d025d\")>,\n",
       " <selenium.webdriver.remote.webelement.WebElement (session=\"2f6a73943400f23a916affe7bcbea3d2\", element=\"f6ee32e9-1824-4074-958c-3eae5739062a\")>,\n",
       " <selenium.webdriver.remote.webelement.WebElement (session=\"2f6a73943400f23a916affe7bcbea3d2\", element=\"0cca3b99-363e-4fdb-979f-f9be7deb9ace\")>,\n",
       " <selenium.webdriver.remote.webelement.WebElement (session=\"2f6a73943400f23a916affe7bcbea3d2\", element=\"4d19a592-aa92-4730-85bb-9517d1048cc4\")>,\n",
       " <selenium.webdriver.remote.webelement.WebElement (session=\"2f6a73943400f23a916affe7bcbea3d2\", element=\"e4d2e2c6-f691-4b03-a1f6-25e98bb96423\")>,\n",
       " <selenium.webdriver.remote.webelement.WebElement (session=\"2f6a73943400f23a916affe7bcbea3d2\", element=\"ca6b55bc-e44d-445f-ad30-419c567a687c\")>,\n",
       " <selenium.webdriver.remote.webelement.WebElement (session=\"2f6a73943400f23a916affe7bcbea3d2\", element=\"06387841-5fd3-4bba-84e3-ac7b69b7d326\")>,\n",
       " <selenium.webdriver.remote.webelement.WebElement (session=\"2f6a73943400f23a916affe7bcbea3d2\", element=\"9b8e0694-78f6-45c7-b2c2-99fdcf409557\")>]"
      ]
     },
     "execution_count": 19,
     "metadata": {},
     "output_type": "execute_result"
    }
   ],
   "source": [
    "loc = driver.find_elements_by_xpath(\"//li[@class='fleft grey-text br2 placeHolderLi location']\")\n",
    "loc"
   ]
  },
  {
   "cell_type": "code",
   "execution_count": 20,
   "metadata": {},
   "outputs": [
    {
     "data": {
      "text/plain": [
       "['Bangalore/Bengaluru',\n",
       " 'Bangalore/Bengaluru',\n",
       " 'Bangalore/Bengaluru',\n",
       " 'Mysore/Mysuru, Coimbatore, Bangalore/Bengaluru',\n",
       " 'Bangalore/Bengaluru',\n",
       " 'Bangalore/Bengaluru',\n",
       " 'Chennai, Bangalore/Bengaluru, Mumbai (All Areas)',\n",
       " 'Bangalore/Bengaluru',\n",
       " 'Bangalore/Bengaluru',\n",
       " 'Bangalore/Bengaluru',\n",
       " 'Pune, Chennai, Jaipur, Bangalore/Bengaluru',\n",
       " 'Bangalore/Bengaluru',\n",
       " 'Bangalore/Bengaluru(Bellandur)',\n",
       " 'Bangalore/Bengaluru',\n",
       " 'Bangalore/Bengaluru',\n",
       " 'Bangalore/Bengaluru',\n",
       " 'Bangalore/Bengaluru',\n",
       " 'Mumbai, Hyderabad/Secunderabad, Pune, Gurgaon/Gurugram, Chennai, Bangalore/Bengaluru',\n",
       " 'Bangalore/Bengaluru',\n",
       " 'Hyderabad/Secunderabad, Bangalore/Bengaluru']"
      ]
     },
     "execution_count": 20,
     "metadata": {},
     "output_type": "execute_result"
    }
   ],
   "source": [
    "loc_list = []\n",
    "for i in loc:\n",
    "    loc_list.append(i.text)\n",
    "    \n",
    "loc_list"
   ]
  },
  {
   "cell_type": "code",
   "execution_count": 21,
   "metadata": {},
   "outputs": [
    {
     "name": "stdout",
     "output_type": "stream",
     "text": [
      "(20, 20, 20, 20)\n"
     ]
    }
   ],
   "source": [
    "print((len(exp_list), len(com_list), len(j_titles), len(loc_list)))"
   ]
  },
  {
   "cell_type": "code",
   "execution_count": 22,
   "metadata": {},
   "outputs": [],
   "source": [
    "jobs = pd.DataFrame({})\n",
    "jobs['Job Title']=j_titles[:10]\n",
    "jobs['Company']=com_list[:10]\n",
    "jobs['Experience Required']=exp_list[:10]\n",
    "jobs['Locations']=loc_list[:10]"
   ]
  },
  {
   "cell_type": "markdown",
   "metadata": {},
   "source": [
    "Solution: "
   ]
  },
  {
   "cell_type": "code",
   "execution_count": 23,
   "metadata": {},
   "outputs": [
    {
     "data": {
      "text/html": [
       "<div>\n",
       "<style scoped>\n",
       "    .dataframe tbody tr th:only-of-type {\n",
       "        vertical-align: middle;\n",
       "    }\n",
       "\n",
       "    .dataframe tbody tr th {\n",
       "        vertical-align: top;\n",
       "    }\n",
       "\n",
       "    .dataframe thead th {\n",
       "        text-align: right;\n",
       "    }\n",
       "</style>\n",
       "<table border=\"1\" class=\"dataframe\">\n",
       "  <thead>\n",
       "    <tr style=\"text-align: right;\">\n",
       "      <th></th>\n",
       "      <th>Job Title</th>\n",
       "      <th>Company</th>\n",
       "      <th>Experience Required</th>\n",
       "      <th>Locations</th>\n",
       "    </tr>\n",
       "  </thead>\n",
       "  <tbody>\n",
       "    <tr>\n",
       "      <th>0</th>\n",
       "      <td>Senior Data Analyst - Data Lineage</td>\n",
       "      <td>Opex Global Services</td>\n",
       "      <td>5-10 Yrs</td>\n",
       "      <td>Bangalore/Bengaluru</td>\n",
       "    </tr>\n",
       "    <tr>\n",
       "      <th>1</th>\n",
       "      <td>Data Analyst - Informatica MDM</td>\n",
       "      <td>Shell India Markets Private Limited</td>\n",
       "      <td>6-9 Yrs</td>\n",
       "      <td>Bangalore/Bengaluru</td>\n",
       "    </tr>\n",
       "    <tr>\n",
       "      <th>2</th>\n",
       "      <td>Data analysts</td>\n",
       "      <td>IBM India Pvt. Limited</td>\n",
       "      <td>3-5 Yrs</td>\n",
       "      <td>Bangalore/Bengaluru</td>\n",
       "    </tr>\n",
       "    <tr>\n",
       "      <th>3</th>\n",
       "      <td>Excel VBA Jobs Bangalore | VBA data analyst Jobs</td>\n",
       "      <td>Mind Circus Innovation</td>\n",
       "      <td>0-1 Yrs</td>\n",
       "      <td>Mysore/Mysuru, Coimbatore, Bangalore/Bengaluru</td>\n",
       "    </tr>\n",
       "    <tr>\n",
       "      <th>4</th>\n",
       "      <td>Data Analyst (2positions)//immediate Joiners//...</td>\n",
       "      <td>Tech Mahindra Ltd.</td>\n",
       "      <td>4-8 Yrs</td>\n",
       "      <td>Bangalore/Bengaluru</td>\n",
       "    </tr>\n",
       "    <tr>\n",
       "      <th>5</th>\n",
       "      <td>Business/Data Analyst - SSE/LA</td>\n",
       "      <td>CGI Information Systems and Management Consult...</td>\n",
       "      <td>2-5 Yrs</td>\n",
       "      <td>Bangalore/Bengaluru</td>\n",
       "    </tr>\n",
       "    <tr>\n",
       "      <th>6</th>\n",
       "      <td>Business Data Analyst</td>\n",
       "      <td>dotSolved India Pvt., Ltd.</td>\n",
       "      <td>9-13 Yrs</td>\n",
       "      <td>Chennai, Bangalore/Bengaluru, Mumbai (All Areas)</td>\n",
       "    </tr>\n",
       "    <tr>\n",
       "      <th>7</th>\n",
       "      <td>Data Analyst</td>\n",
       "      <td>Myntra Designs Pvt. Ltd.</td>\n",
       "      <td>3-5 Yrs</td>\n",
       "      <td>Bangalore/Bengaluru</td>\n",
       "    </tr>\n",
       "    <tr>\n",
       "      <th>8</th>\n",
       "      <td>Data Analyst</td>\n",
       "      <td>Myntra Designs Pvt. Ltd.</td>\n",
       "      <td>3-8 Yrs</td>\n",
       "      <td>Bangalore/Bengaluru</td>\n",
       "    </tr>\n",
       "    <tr>\n",
       "      <th>9</th>\n",
       "      <td>Data Analyst - Category Demand Management (Rev...</td>\n",
       "      <td>Myntra Designs Pvt. Ltd.</td>\n",
       "      <td>1-4 Yrs</td>\n",
       "      <td>Bangalore/Bengaluru</td>\n",
       "    </tr>\n",
       "  </tbody>\n",
       "</table>\n",
       "</div>"
      ],
      "text/plain": [
       "                                           Job Title  \\\n",
       "0                 Senior Data Analyst - Data Lineage   \n",
       "1                     Data Analyst - Informatica MDM   \n",
       "2                                      Data analysts   \n",
       "3   Excel VBA Jobs Bangalore | VBA data analyst Jobs   \n",
       "4  Data Analyst (2positions)//immediate Joiners//...   \n",
       "5                     Business/Data Analyst - SSE/LA   \n",
       "6                              Business Data Analyst   \n",
       "7                                       Data Analyst   \n",
       "8                                       Data Analyst   \n",
       "9  Data Analyst - Category Demand Management (Rev...   \n",
       "\n",
       "                                             Company Experience Required  \\\n",
       "0                               Opex Global Services            5-10 Yrs   \n",
       "1                Shell India Markets Private Limited             6-9 Yrs   \n",
       "2                             IBM India Pvt. Limited             3-5 Yrs   \n",
       "3                             Mind Circus Innovation             0-1 Yrs   \n",
       "4                                 Tech Mahindra Ltd.             4-8 Yrs   \n",
       "5  CGI Information Systems and Management Consult...             2-5 Yrs   \n",
       "6                         dotSolved India Pvt., Ltd.            9-13 Yrs   \n",
       "7                           Myntra Designs Pvt. Ltd.             3-5 Yrs   \n",
       "8                           Myntra Designs Pvt. Ltd.             3-8 Yrs   \n",
       "9                           Myntra Designs Pvt. Ltd.             1-4 Yrs   \n",
       "\n",
       "                                          Locations  \n",
       "0                               Bangalore/Bengaluru  \n",
       "1                               Bangalore/Bengaluru  \n",
       "2                               Bangalore/Bengaluru  \n",
       "3    Mysore/Mysuru, Coimbatore, Bangalore/Bengaluru  \n",
       "4                               Bangalore/Bengaluru  \n",
       "5                               Bangalore/Bengaluru  \n",
       "6  Chennai, Bangalore/Bengaluru, Mumbai (All Areas)  \n",
       "7                               Bangalore/Bengaluru  \n",
       "8                               Bangalore/Bengaluru  \n",
       "9                               Bangalore/Bengaluru  "
      ]
     },
     "execution_count": 23,
     "metadata": {},
     "output_type": "execute_result"
    }
   ],
   "source": [
    "jobs"
   ]
  },
  {
   "cell_type": "markdown",
   "metadata": {},
   "source": [
    "# Problem 2 >>>"
   ]
  },
  {
   "cell_type": "markdown",
   "metadata": {},
   "source": [
    "Q2: Write a python program to scrape data for “Data Scientist” Job position in \n",
    "“Bangalore” location. You have to scrape the job-title, job-location,\n",
    "company_name, full job-description. You have to scrape first 10 jobs data."
   ]
  },
  {
   "cell_type": "code",
   "execution_count": 24,
   "metadata": {},
   "outputs": [],
   "source": [
    "url = 'https://www.naukri.com'\n",
    "driver.get(url)\n",
    "\n",
    "search_job = driver.find_element_by_id('qsb-keyword-sugg')\n",
    "\n",
    "search_job.send_keys(\"Data Scientist\")\n",
    "\n",
    "search_loc = driver.find_element_by_id(\"qsb-location-sugg\")\n",
    "search_loc.send_keys(\"Bangalore\")"
   ]
  },
  {
   "cell_type": "code",
   "execution_count": 25,
   "metadata": {},
   "outputs": [],
   "source": [
    "search_btn = driver.find_element_by_xpath(\"//button[@class='btn']\")\n",
    "search_btn.click()"
   ]
  },
  {
   "cell_type": "code",
   "execution_count": 26,
   "metadata": {},
   "outputs": [],
   "source": [
    "# so lets extract all the tags having the job titles:\n",
    "titles_tags = driver.find_elements_by_xpath(\"//a[@class='title fw500 ellipsis']\")\n",
    "\n",
    "j_titles = []\n",
    "for i in titles_tags:\n",
    "    # if any missing data is available\n",
    "    if i.text is None:\n",
    "        j_titles.append('Missing data')\n",
    "    else:\n",
    "        j_titles.append(i.text)\n"
   ]
  },
  {
   "cell_type": "code",
   "execution_count": 27,
   "metadata": {},
   "outputs": [],
   "source": [
    "companies = driver.find_elements_by_xpath(\"//a[@class='subTitle ellipsis fleft']\")\n",
    "\n",
    "com_list = []\n",
    "for i in companies:\n",
    "    com_list.append(i.text)\n"
   ]
  },
  {
   "cell_type": "code",
   "execution_count": 28,
   "metadata": {},
   "outputs": [],
   "source": [
    "experience = driver.find_elements_by_xpath(\"//li[@class='fleft grey-text br2 placeHolderLi experience']\")\n",
    "\n",
    "exp_list = []\n",
    "for i in experience:\n",
    "    exp_list.append(i.text)\n"
   ]
  },
  {
   "cell_type": "code",
   "execution_count": 29,
   "metadata": {},
   "outputs": [
    {
     "data": {
      "text/plain": [
       "[<selenium.webdriver.remote.webelement.WebElement (session=\"2f6a73943400f23a916affe7bcbea3d2\", element=\"db867dca-068e-4126-a33c-869c5f79a437\")>,\n",
       " <selenium.webdriver.remote.webelement.WebElement (session=\"2f6a73943400f23a916affe7bcbea3d2\", element=\"211964ab-d336-43ba-8bb1-684331adfcdd\")>,\n",
       " <selenium.webdriver.remote.webelement.WebElement (session=\"2f6a73943400f23a916affe7bcbea3d2\", element=\"c5cb907d-ad40-4f67-9b95-979ee475f57f\")>,\n",
       " <selenium.webdriver.remote.webelement.WebElement (session=\"2f6a73943400f23a916affe7bcbea3d2\", element=\"7814a733-4ecd-4026-8521-807488db33d9\")>,\n",
       " <selenium.webdriver.remote.webelement.WebElement (session=\"2f6a73943400f23a916affe7bcbea3d2\", element=\"0f5af993-129d-489d-bfa6-4c776d587ec5\")>,\n",
       " <selenium.webdriver.remote.webelement.WebElement (session=\"2f6a73943400f23a916affe7bcbea3d2\", element=\"b195e08f-d2f9-4391-b7f2-611ff7fb2469\")>,\n",
       " <selenium.webdriver.remote.webelement.WebElement (session=\"2f6a73943400f23a916affe7bcbea3d2\", element=\"0bf24516-7778-4bf8-a22b-eeb249a1ed85\")>,\n",
       " <selenium.webdriver.remote.webelement.WebElement (session=\"2f6a73943400f23a916affe7bcbea3d2\", element=\"22facfb4-1e22-4f97-beb8-9ea0cf77c97f\")>,\n",
       " <selenium.webdriver.remote.webelement.WebElement (session=\"2f6a73943400f23a916affe7bcbea3d2\", element=\"189b8987-53d0-41ae-a899-359bd5bce7b9\")>,\n",
       " <selenium.webdriver.remote.webelement.WebElement (session=\"2f6a73943400f23a916affe7bcbea3d2\", element=\"e7d87518-f3cb-484f-b1b4-51ea976fd2be\")>,\n",
       " <selenium.webdriver.remote.webelement.WebElement (session=\"2f6a73943400f23a916affe7bcbea3d2\", element=\"93180878-84d5-4623-a6e3-dcdc7e394b68\")>,\n",
       " <selenium.webdriver.remote.webelement.WebElement (session=\"2f6a73943400f23a916affe7bcbea3d2\", element=\"1a57d523-4e68-46d2-b43f-12f4d7d36d37\")>,\n",
       " <selenium.webdriver.remote.webelement.WebElement (session=\"2f6a73943400f23a916affe7bcbea3d2\", element=\"07153b83-e221-4aa2-83ed-eea9e1ebb48a\")>,\n",
       " <selenium.webdriver.remote.webelement.WebElement (session=\"2f6a73943400f23a916affe7bcbea3d2\", element=\"13ce50eb-b3ba-497d-9426-401ff4c529e4\")>,\n",
       " <selenium.webdriver.remote.webelement.WebElement (session=\"2f6a73943400f23a916affe7bcbea3d2\", element=\"d9438fbd-abe7-45f3-b64e-44e6bdea3ee5\")>,\n",
       " <selenium.webdriver.remote.webelement.WebElement (session=\"2f6a73943400f23a916affe7bcbea3d2\", element=\"8ba6616d-9872-4c36-ba16-89c90b613ba1\")>,\n",
       " <selenium.webdriver.remote.webelement.WebElement (session=\"2f6a73943400f23a916affe7bcbea3d2\", element=\"3de237aa-6e01-4fef-ab9e-0c3041d957f6\")>,\n",
       " <selenium.webdriver.remote.webelement.WebElement (session=\"2f6a73943400f23a916affe7bcbea3d2\", element=\"0c06b7df-4738-412a-8df5-8087de2e4eed\")>,\n",
       " <selenium.webdriver.remote.webelement.WebElement (session=\"2f6a73943400f23a916affe7bcbea3d2\", element=\"b351059b-c750-4a43-bb90-c20b447feb0d\")>,\n",
       " <selenium.webdriver.remote.webelement.WebElement (session=\"2f6a73943400f23a916affe7bcbea3d2\", element=\"0ad0963c-1ad1-4726-a0a8-8e8eb15538e0\")>,\n",
       " <selenium.webdriver.remote.webelement.WebElement (session=\"2f6a73943400f23a916affe7bcbea3d2\", element=\"c9e6bf22-bd78-4417-a018-db964be01af2\")>,\n",
       " <selenium.webdriver.remote.webelement.WebElement (session=\"2f6a73943400f23a916affe7bcbea3d2\", element=\"b07da018-7c98-47c5-8246-6d70bf3e107a\")>,\n",
       " <selenium.webdriver.remote.webelement.WebElement (session=\"2f6a73943400f23a916affe7bcbea3d2\", element=\"376cf71d-fc11-4da6-9a6c-0e00fbfbff91\")>,\n",
       " <selenium.webdriver.remote.webelement.WebElement (session=\"2f6a73943400f23a916affe7bcbea3d2\", element=\"6dc4be45-2651-4f72-a13a-df7f202ddf58\")>,\n",
       " <selenium.webdriver.remote.webelement.WebElement (session=\"2f6a73943400f23a916affe7bcbea3d2\", element=\"897add36-385a-45dc-8c01-685d0cfc2616\")>,\n",
       " <selenium.webdriver.remote.webelement.WebElement (session=\"2f6a73943400f23a916affe7bcbea3d2\", element=\"99de11e3-272c-4e0a-992c-86ba1e919ed0\")>,\n",
       " <selenium.webdriver.remote.webelement.WebElement (session=\"2f6a73943400f23a916affe7bcbea3d2\", element=\"40a5ec6e-a823-49ab-ad6e-41d5900b51d1\")>,\n",
       " <selenium.webdriver.remote.webelement.WebElement (session=\"2f6a73943400f23a916affe7bcbea3d2\", element=\"e19adf4d-9fe5-4c84-922a-d6f593bf85ef\")>,\n",
       " <selenium.webdriver.remote.webelement.WebElement (session=\"2f6a73943400f23a916affe7bcbea3d2\", element=\"373064b7-f658-417d-a16c-202151c8e376\")>,\n",
       " <selenium.webdriver.remote.webelement.WebElement (session=\"2f6a73943400f23a916affe7bcbea3d2\", element=\"298ed38f-7ddd-4975-afaa-8504ccc98754\")>,\n",
       " <selenium.webdriver.remote.webelement.WebElement (session=\"2f6a73943400f23a916affe7bcbea3d2\", element=\"477c9227-9445-473e-890c-e91f23c60ab5\")>,\n",
       " <selenium.webdriver.remote.webelement.WebElement (session=\"2f6a73943400f23a916affe7bcbea3d2\", element=\"177bea65-9b38-4227-b496-7e03cb55dcc5\")>,\n",
       " <selenium.webdriver.remote.webelement.WebElement (session=\"2f6a73943400f23a916affe7bcbea3d2\", element=\"bced3841-ba98-465f-b9ea-07cb3e0aa9e5\")>,\n",
       " <selenium.webdriver.remote.webelement.WebElement (session=\"2f6a73943400f23a916affe7bcbea3d2\", element=\"7d44055b-baf7-49cd-afc5-15bf8d6595c6\")>,\n",
       " <selenium.webdriver.remote.webelement.WebElement (session=\"2f6a73943400f23a916affe7bcbea3d2\", element=\"788f6ed1-26b9-4e97-a48b-1f0d5009a220\")>,\n",
       " <selenium.webdriver.remote.webelement.WebElement (session=\"2f6a73943400f23a916affe7bcbea3d2\", element=\"7ba905ef-a3f4-4426-ba20-4e8608a5543d\")>,\n",
       " <selenium.webdriver.remote.webelement.WebElement (session=\"2f6a73943400f23a916affe7bcbea3d2\", element=\"080e6cef-b886-4b01-9e37-2a2b3a892590\")>,\n",
       " <selenium.webdriver.remote.webelement.WebElement (session=\"2f6a73943400f23a916affe7bcbea3d2\", element=\"2040e288-73e8-4f03-8a1d-528104a1e686\")>,\n",
       " <selenium.webdriver.remote.webelement.WebElement (session=\"2f6a73943400f23a916affe7bcbea3d2\", element=\"0d3e9ada-facf-4231-9f58-fe24b7af7f13\")>,\n",
       " <selenium.webdriver.remote.webelement.WebElement (session=\"2f6a73943400f23a916affe7bcbea3d2\", element=\"799bfd96-55d8-447c-b634-a6fb164a78d8\")>,\n",
       " <selenium.webdriver.remote.webelement.WebElement (session=\"2f6a73943400f23a916affe7bcbea3d2\", element=\"17c9ae2a-6ffc-469d-9a96-5b949e7593fb\")>,\n",
       " <selenium.webdriver.remote.webelement.WebElement (session=\"2f6a73943400f23a916affe7bcbea3d2\", element=\"5414ec3a-2bd8-43c7-ab60-b01622c8288e\")>,\n",
       " <selenium.webdriver.remote.webelement.WebElement (session=\"2f6a73943400f23a916affe7bcbea3d2\", element=\"4955c2a5-7fe4-42a8-b049-bf554e75fdc6\")>,\n",
       " <selenium.webdriver.remote.webelement.WebElement (session=\"2f6a73943400f23a916affe7bcbea3d2\", element=\"93c89226-2b0b-452d-bb65-fb9a2c8bd043\")>,\n",
       " <selenium.webdriver.remote.webelement.WebElement (session=\"2f6a73943400f23a916affe7bcbea3d2\", element=\"a119ac47-cdf7-4361-bae0-729da493b60b\")>,\n",
       " <selenium.webdriver.remote.webelement.WebElement (session=\"2f6a73943400f23a916affe7bcbea3d2\", element=\"d2e48cdc-a1a7-4692-aef5-50882533c507\")>,\n",
       " <selenium.webdriver.remote.webelement.WebElement (session=\"2f6a73943400f23a916affe7bcbea3d2\", element=\"faf86ce8-17a4-47ae-9dfd-cf7149cfe878\")>,\n",
       " <selenium.webdriver.remote.webelement.WebElement (session=\"2f6a73943400f23a916affe7bcbea3d2\", element=\"aec1041e-4c7e-4296-8161-ceaa0e17793d\")>,\n",
       " <selenium.webdriver.remote.webelement.WebElement (session=\"2f6a73943400f23a916affe7bcbea3d2\", element=\"902fb1ed-79e8-41b9-a67e-b7cf70e3be79\")>,\n",
       " <selenium.webdriver.remote.webelement.WebElement (session=\"2f6a73943400f23a916affe7bcbea3d2\", element=\"a86403d3-a93c-43ca-9829-40295834b4a1\")>,\n",
       " <selenium.webdriver.remote.webelement.WebElement (session=\"2f6a73943400f23a916affe7bcbea3d2\", element=\"350bdab1-6688-4f20-b612-128635b8baa1\")>,\n",
       " <selenium.webdriver.remote.webelement.WebElement (session=\"2f6a73943400f23a916affe7bcbea3d2\", element=\"152022d2-661a-4453-96b7-b25b895de304\")>,\n",
       " <selenium.webdriver.remote.webelement.WebElement (session=\"2f6a73943400f23a916affe7bcbea3d2\", element=\"0af45ab4-1998-47f0-9bd2-81ab86289952\")>,\n",
       " <selenium.webdriver.remote.webelement.WebElement (session=\"2f6a73943400f23a916affe7bcbea3d2\", element=\"f0c5fa29-a07a-4509-b08b-b2bcaeaad5a8\")>,\n",
       " <selenium.webdriver.remote.webelement.WebElement (session=\"2f6a73943400f23a916affe7bcbea3d2\", element=\"f704d0c0-17fc-440d-8259-aaef979dee74\")>,\n",
       " <selenium.webdriver.remote.webelement.WebElement (session=\"2f6a73943400f23a916affe7bcbea3d2\", element=\"1469b61f-39a9-4348-8839-adb697300f30\")>,\n",
       " <selenium.webdriver.remote.webelement.WebElement (session=\"2f6a73943400f23a916affe7bcbea3d2\", element=\"edf4dff9-335e-46af-a75b-c414e4bec671\")>]"
      ]
     },
     "execution_count": 29,
     "metadata": {},
     "output_type": "execute_result"
    }
   ],
   "source": [
    "# to extract data from multiple pages:\n",
    "urls = driver.find_elements_by_xpath('//div[@class=\"info fleft\"]//a')\n",
    "urls"
   ]
  },
  {
   "cell_type": "code",
   "execution_count": 30,
   "metadata": {},
   "outputs": [],
   "source": [
    "page_urls = []\n",
    "page_url = []\n",
    "\n",
    "for i in urls:\n",
    "    page_urls.append(i.get_attribute('href'))\n",
    "page_url = page_urls[:10]"
   ]
  },
  {
   "cell_type": "code",
   "execution_count": 31,
   "metadata": {},
   "outputs": [],
   "source": [
    "j_desc = []\n",
    "\n",
    "\n",
    "j_titles_tags = []\n",
    "\n",
    "for url in page_url:\n",
    "    driver.get(url)\n",
    "    j_titles_tags = driver.find_elements_by_xpath(\"//div[@class='jdContainer job-desc']//div\")\n",
    "    #titles_tags\n",
    "    \n",
    "    for i in j_titles_tags:\n",
    "        for j in i.find_elements_by_xpath(\"//section[@class='getJobDescription JD av_textblock_section']//div\"):\n",
    "            j_desc.append(j.text)\n",
    "j_des = j_desc[:10]    "
   ]
  },
  {
   "cell_type": "code",
   "execution_count": 32,
   "metadata": {},
   "outputs": [
    {
     "name": "stdout",
     "output_type": "stream",
     "text": [
      "(20, 20, 20) 10\n"
     ]
    }
   ],
   "source": [
    "print((len(exp_list), len(com_list), len(j_titles)), len(j_des))"
   ]
  },
  {
   "cell_type": "code",
   "execution_count": 33,
   "metadata": {},
   "outputs": [],
   "source": [
    "DataScientist_jobs = pd.DataFrame({})\n",
    "DataScientist_jobs['Job Title']=j_titles[:10]\n",
    "DataScientist_jobs['Company']=com_list[:10]\n",
    "DataScientist_jobs['Experience Required']=exp_list[:10]\n",
    "DataScientist_jobs['Locations']=loc_list[:10]\n",
    "DataScientist_jobs['Description']=j_des"
   ]
  },
  {
   "cell_type": "code",
   "execution_count": 34,
   "metadata": {
    "scrolled": true
   },
   "outputs": [
    {
     "data": {
      "text/html": [
       "<div>\n",
       "<style scoped>\n",
       "    .dataframe tbody tr th:only-of-type {\n",
       "        vertical-align: middle;\n",
       "    }\n",
       "\n",
       "    .dataframe tbody tr th {\n",
       "        vertical-align: top;\n",
       "    }\n",
       "\n",
       "    .dataframe thead th {\n",
       "        text-align: right;\n",
       "    }\n",
       "</style>\n",
       "<table border=\"1\" class=\"dataframe\">\n",
       "  <thead>\n",
       "    <tr style=\"text-align: right;\">\n",
       "      <th></th>\n",
       "      <th>Job Title</th>\n",
       "      <th>Company</th>\n",
       "      <th>Experience Required</th>\n",
       "      <th>Locations</th>\n",
       "      <th>Description</th>\n",
       "    </tr>\n",
       "  </thead>\n",
       "  <tbody>\n",
       "    <tr>\n",
       "      <th>0</th>\n",
       "      <td>Senior Data Scientist</td>\n",
       "      <td>RedBus</td>\n",
       "      <td>5-8 Yrs</td>\n",
       "      <td>Bangalore/Bengaluru</td>\n",
       "      <td>Job Description\\nJob Role: Senior Data Scienti...</td>\n",
       "    </tr>\n",
       "    <tr>\n",
       "      <th>1</th>\n",
       "      <td>Immediate job opening - Senior Data Scientist</td>\n",
       "      <td>RedBus</td>\n",
       "      <td>5-8 Yrs</td>\n",
       "      <td>Bangalore/Bengaluru</td>\n",
       "      <td>Job Description</td>\n",
       "    </tr>\n",
       "    <tr>\n",
       "      <th>2</th>\n",
       "      <td>Senior Data Scientist</td>\n",
       "      <td>Fractal Analytics</td>\n",
       "      <td>5-9 Yrs</td>\n",
       "      <td>Bangalore/Bengaluru</td>\n",
       "      <td>Job Description</td>\n",
       "    </tr>\n",
       "    <tr>\n",
       "      <th>3</th>\n",
       "      <td>Lead Data Scientist</td>\n",
       "      <td>FICO</td>\n",
       "      <td>6-11 Yrs</td>\n",
       "      <td>Mysore/Mysuru, Coimbatore, Bangalore/Bengaluru</td>\n",
       "      <td></td>\n",
       "    </tr>\n",
       "    <tr>\n",
       "      <th>4</th>\n",
       "      <td>Lead Data Scientist</td>\n",
       "      <td>Fractal Analytics</td>\n",
       "      <td>10-15 Yrs</td>\n",
       "      <td>Bangalore/Bengaluru</td>\n",
       "      <td>Job Role: Senior Data Scientist\\n\\n\\nReporting...</td>\n",
       "    </tr>\n",
       "    <tr>\n",
       "      <th>5</th>\n",
       "      <td>Data analytics / Data scientist intern (work f...</td>\n",
       "      <td>TalkValley LLC</td>\n",
       "      <td>0-5 Yrs</td>\n",
       "      <td>Bangalore/Bengaluru</td>\n",
       "      <td>Job Description\\nJob Role: Senior Data Scienti...</td>\n",
       "    </tr>\n",
       "    <tr>\n",
       "      <th>6</th>\n",
       "      <td>Data Scientist - IBM Garage</td>\n",
       "      <td>IBM India Pvt. Limited</td>\n",
       "      <td>2-6 Yrs</td>\n",
       "      <td>Chennai, Bangalore/Bengaluru, Mumbai (All Areas)</td>\n",
       "      <td>Job Description</td>\n",
       "    </tr>\n",
       "    <tr>\n",
       "      <th>7</th>\n",
       "      <td>Deputy Manager - Datalabs (Data Scientist)</td>\n",
       "      <td>HDFC LIFE INSURANCE COMPANY LIMITED</td>\n",
       "      <td>4-6 Yrs</td>\n",
       "      <td>Bangalore/Bengaluru</td>\n",
       "      <td>Job Description</td>\n",
       "    </tr>\n",
       "    <tr>\n",
       "      <th>8</th>\n",
       "      <td>Digital Enterprise Architect (Data Scientist)</td>\n",
       "      <td>Mphasis Limited</td>\n",
       "      <td>10-13 Yrs</td>\n",
       "      <td>Bangalore/Bengaluru</td>\n",
       "      <td></td>\n",
       "    </tr>\n",
       "    <tr>\n",
       "      <th>9</th>\n",
       "      <td>Data Scientist</td>\n",
       "      <td>IBM India Pvt. Limited</td>\n",
       "      <td>3-6 Yrs</td>\n",
       "      <td>Bangalore/Bengaluru</td>\n",
       "      <td>Job Role: Senior Data Scientist\\n\\n\\nReporting...</td>\n",
       "    </tr>\n",
       "  </tbody>\n",
       "</table>\n",
       "</div>"
      ],
      "text/plain": [
       "                                           Job Title  \\\n",
       "0                              Senior Data Scientist   \n",
       "1      Immediate job opening - Senior Data Scientist   \n",
       "2                              Senior Data Scientist   \n",
       "3                                Lead Data Scientist   \n",
       "4                                Lead Data Scientist   \n",
       "5  Data analytics / Data scientist intern (work f...   \n",
       "6                        Data Scientist - IBM Garage   \n",
       "7         Deputy Manager - Datalabs (Data Scientist)   \n",
       "8      Digital Enterprise Architect (Data Scientist)   \n",
       "9                                     Data Scientist   \n",
       "\n",
       "                               Company Experience Required  \\\n",
       "0                               RedBus             5-8 Yrs   \n",
       "1                               RedBus             5-8 Yrs   \n",
       "2                    Fractal Analytics             5-9 Yrs   \n",
       "3                                 FICO            6-11 Yrs   \n",
       "4                    Fractal Analytics           10-15 Yrs   \n",
       "5                       TalkValley LLC             0-5 Yrs   \n",
       "6               IBM India Pvt. Limited             2-6 Yrs   \n",
       "7  HDFC LIFE INSURANCE COMPANY LIMITED             4-6 Yrs   \n",
       "8                      Mphasis Limited           10-13 Yrs   \n",
       "9               IBM India Pvt. Limited             3-6 Yrs   \n",
       "\n",
       "                                          Locations  \\\n",
       "0                               Bangalore/Bengaluru   \n",
       "1                               Bangalore/Bengaluru   \n",
       "2                               Bangalore/Bengaluru   \n",
       "3    Mysore/Mysuru, Coimbatore, Bangalore/Bengaluru   \n",
       "4                               Bangalore/Bengaluru   \n",
       "5                               Bangalore/Bengaluru   \n",
       "6  Chennai, Bangalore/Bengaluru, Mumbai (All Areas)   \n",
       "7                               Bangalore/Bengaluru   \n",
       "8                               Bangalore/Bengaluru   \n",
       "9                               Bangalore/Bengaluru   \n",
       "\n",
       "                                         Description  \n",
       "0  Job Description\\nJob Role: Senior Data Scienti...  \n",
       "1                                    Job Description  \n",
       "2                                    Job Description  \n",
       "3                                                     \n",
       "4  Job Role: Senior Data Scientist\\n\\n\\nReporting...  \n",
       "5  Job Description\\nJob Role: Senior Data Scienti...  \n",
       "6                                    Job Description  \n",
       "7                                    Job Description  \n",
       "8                                                     \n",
       "9  Job Role: Senior Data Scientist\\n\\n\\nReporting...  "
      ]
     },
     "execution_count": 34,
     "metadata": {},
     "output_type": "execute_result"
    }
   ],
   "source": [
    "DataScientist_jobs"
   ]
  },
  {
   "cell_type": "markdown",
   "metadata": {},
   "source": [
    "# Problem 3 >>>"
   ]
  },
  {
   "cell_type": "markdown",
   "metadata": {},
   "source": [
    "In this question you have to scrape data using the filters available on the \n",
    "webpage as shown below:"
   ]
  },
  {
   "cell_type": "code",
   "execution_count": 35,
   "metadata": {},
   "outputs": [],
   "source": [
    "driver = webdriver.Chrome(r\"C:\\Users\\vaibhav\\Desktop\\Data science\\FlipRobo Projects\\Web Scrapping 2\\chromedriver.exe\")\n",
    "url = 'https://www.naukri.com'\n",
    "driver.get(url)\n",
    "\n",
    "search_job = driver.find_element_by_id('qsb-keyword-sugg')\n",
    "\n",
    "#adding data scientists word:\n",
    "search_job.send_keys(\"Data Scientist\")\n",
    "\n",
    "search_btn = driver.find_element_by_xpath(\"//button[@class='btn']\")\n",
    "search_btn.click()"
   ]
  },
  {
   "cell_type": "code",
   "execution_count": 38,
   "metadata": {},
   "outputs": [],
   "source": [
    "loc_fil = driver.find_element_by_xpath(\"//span[@class='ellipsis fleft']\").click()"
   ]
  },
  {
   "cell_type": "code",
   "execution_count": 39,
   "metadata": {},
   "outputs": [],
   "source": [
    "sal_3_6_lks = driver.find_element_by_xpath(\"/html/body/div[1]/div[3]/div[2]/section[1]/div[2]/div[3]/div[2]/div[2]/label/p/span[1]\").click()"
   ]
  },
  {
   "cell_type": "code",
   "execution_count": 40,
   "metadata": {},
   "outputs": [],
   "source": [
    "titles_tags = driver.find_elements_by_xpath(\"//a[@class='title fw500 ellipsis']\")"
   ]
  },
  {
   "cell_type": "code",
   "execution_count": 43,
   "metadata": {},
   "outputs": [],
   "source": [
    "title_tag = titles_tags[:10]\n",
    "j_titles = []\n",
    "for i in titles_tags:\n",
    "    # if any missing data is available\n",
    "    if i.text is None:\n",
    "        j_titles.append('Missing data')\n",
    "    else:\n",
    "        j_titles.append(i.text)"
   ]
  },
  {
   "cell_type": "code",
   "execution_count": 44,
   "metadata": {},
   "outputs": [],
   "source": [
    "DataScientistsjobs = pd.DataFrame({})\n",
    "DataScientistsjobs['Job Title']=j_titles[:10]"
   ]
  },
  {
   "cell_type": "code",
   "execution_count": 45,
   "metadata": {},
   "outputs": [
    {
     "data": {
      "text/html": [
       "<div>\n",
       "<style scoped>\n",
       "    .dataframe tbody tr th:only-of-type {\n",
       "        vertical-align: middle;\n",
       "    }\n",
       "\n",
       "    .dataframe tbody tr th {\n",
       "        vertical-align: top;\n",
       "    }\n",
       "\n",
       "    .dataframe thead th {\n",
       "        text-align: right;\n",
       "    }\n",
       "</style>\n",
       "<table border=\"1\" class=\"dataframe\">\n",
       "  <thead>\n",
       "    <tr style=\"text-align: right;\">\n",
       "      <th></th>\n",
       "      <th>Job Title</th>\n",
       "    </tr>\n",
       "  </thead>\n",
       "  <tbody>\n",
       "    <tr>\n",
       "      <th>0</th>\n",
       "      <td>Data analytics / Data scientist intern (work f...</td>\n",
       "    </tr>\n",
       "    <tr>\n",
       "      <th>1</th>\n",
       "      <td>Data Scientist</td>\n",
       "    </tr>\n",
       "    <tr>\n",
       "      <th>2</th>\n",
       "      <td>Data Scientist / Data Analyst -Business Analyst</td>\n",
       "    </tr>\n",
       "    <tr>\n",
       "      <th>3</th>\n",
       "      <td>Sr Data Scientist</td>\n",
       "    </tr>\n",
       "    <tr>\n",
       "      <th>4</th>\n",
       "      <td>Lead Data Scientist - Bangalore, KA</td>\n",
       "    </tr>\n",
       "    <tr>\n",
       "      <th>5</th>\n",
       "      <td>Junior Data Scientist</td>\n",
       "    </tr>\n",
       "    <tr>\n",
       "      <th>6</th>\n",
       "      <td>Data Scientist-AI and Digital Lab</td>\n",
       "    </tr>\n",
       "    <tr>\n",
       "      <th>7</th>\n",
       "      <td>Data Scientist - A Travel Tech company</td>\n",
       "    </tr>\n",
       "    <tr>\n",
       "      <th>8</th>\n",
       "      <td>Hiring Java Programmers and data scientists</td>\n",
       "    </tr>\n",
       "    <tr>\n",
       "      <th>9</th>\n",
       "      <td>Job | Data Scientist | Bangalore | Immediate J...</td>\n",
       "    </tr>\n",
       "  </tbody>\n",
       "</table>\n",
       "</div>"
      ],
      "text/plain": [
       "                                           Job Title\n",
       "0  Data analytics / Data scientist intern (work f...\n",
       "1                                     Data Scientist\n",
       "2    Data Scientist / Data Analyst -Business Analyst\n",
       "3                                  Sr Data Scientist\n",
       "4                Lead Data Scientist - Bangalore, KA\n",
       "5                              Junior Data Scientist\n",
       "6                  Data Scientist-AI and Digital Lab\n",
       "7             Data Scientist - A Travel Tech company\n",
       "8        Hiring Java Programmers and data scientists\n",
       "9  Job | Data Scientist | Bangalore | Immediate J..."
      ]
     },
     "execution_count": 45,
     "metadata": {},
     "output_type": "execute_result"
    }
   ],
   "source": [
    "DataScientistsjobs"
   ]
  },
  {
   "cell_type": "markdown",
   "metadata": {},
   "source": [
    "# Problem 4 >>>"
   ]
  },
  {
   "cell_type": "markdown",
   "metadata": {},
   "source": [
    "Write a python program to scrape data for first 10 job results for Data scientist \n",
    "Designation in Noida location. You have to scrape company_name, No. of days \n",
    "ago when job was posted, Rating of the company.\n"
   ]
  },
  {
   "cell_type": "code",
   "execution_count": 46,
   "metadata": {},
   "outputs": [],
   "source": [
    "driver = webdriver.Chrome(r\"C:\\Users\\vaibhav\\Desktop\\Data science\\FlipRobo Projects\\Web Scrapping 2\\chromedriver.exe\")"
   ]
  },
  {
   "cell_type": "code",
   "execution_count": 52,
   "metadata": {},
   "outputs": [],
   "source": [
    "url = 'https://www.glassdoor.co.in/Salaries/index.htm'\n",
    "driver.get(url)"
   ]
  },
  {
   "cell_type": "code",
   "execution_count": 53,
   "metadata": {},
   "outputs": [],
   "source": [
    "search_job = driver.find_element_by_id('KeywordSearch')\n",
    "search_job.send_keys(\"Data Scientist\")"
   ]
  },
  {
   "cell_type": "code",
   "execution_count": 54,
   "metadata": {},
   "outputs": [],
   "source": [
    "search_location = driver.find_element_by_xpath(\"//input[@id='LocationSearch']\").clear()\n"
   ]
  },
  {
   "cell_type": "code",
   "execution_count": 55,
   "metadata": {},
   "outputs": [],
   "source": [
    "search_location = driver.find_element_by_xpath(\"//input[@id='LocationSearch']\")\n",
    "search_location.send_keys('Noida')\n"
   ]
  },
  {
   "cell_type": "code",
   "execution_count": 56,
   "metadata": {},
   "outputs": [],
   "source": [
    "search_button = driver.find_element_by_xpath(\"//button[@id='HeroSearchButton']\")\n",
    "search_button.click()"
   ]
  },
  {
   "cell_type": "code",
   "execution_count": 57,
   "metadata": {},
   "outputs": [],
   "source": [
    "# so lets extract all the tags having the job titles:\n",
    "titles_tags = driver.find_elements_by_xpath(\"//h3[@class='m-0 css-g261rn']/a\")\n"
   ]
  },
  {
   "cell_type": "code",
   "execution_count": 58,
   "metadata": {},
   "outputs": [],
   "source": [
    "j_titles = []\n",
    "for i in titles_tags:\n",
    "    # if any missing data is available\n",
    "    if i.text is None:\n",
    "        j_titles.append('Missing data')\n",
    "    else:\n",
    "        j_titles.append(i.text)"
   ]
  },
  {
   "cell_type": "code",
   "execution_count": 59,
   "metadata": {},
   "outputs": [
    {
     "data": {
      "text/html": [
       "<div>\n",
       "<style scoped>\n",
       "    .dataframe tbody tr th:only-of-type {\n",
       "        vertical-align: middle;\n",
       "    }\n",
       "\n",
       "    .dataframe tbody tr th {\n",
       "        vertical-align: top;\n",
       "    }\n",
       "\n",
       "    .dataframe thead th {\n",
       "        text-align: right;\n",
       "    }\n",
       "</style>\n",
       "<table border=\"1\" class=\"dataframe\">\n",
       "  <thead>\n",
       "    <tr style=\"text-align: right;\">\n",
       "      <th></th>\n",
       "      <th>Job Title</th>\n",
       "    </tr>\n",
       "  </thead>\n",
       "  <tbody>\n",
       "    <tr>\n",
       "      <th>0</th>\n",
       "      <td>Tata Consultancy Services</td>\n",
       "    </tr>\n",
       "    <tr>\n",
       "      <th>1</th>\n",
       "      <td>IBM</td>\n",
       "    </tr>\n",
       "    <tr>\n",
       "      <th>2</th>\n",
       "      <td>Accenture</td>\n",
       "    </tr>\n",
       "    <tr>\n",
       "      <th>3</th>\n",
       "      <td>Ericsson-Worldwide</td>\n",
       "    </tr>\n",
       "    <tr>\n",
       "      <th>4</th>\n",
       "      <td>Delhivery</td>\n",
       "    </tr>\n",
       "    <tr>\n",
       "      <th>5</th>\n",
       "      <td>UnitedHealth Group</td>\n",
       "    </tr>\n",
       "    <tr>\n",
       "      <th>6</th>\n",
       "      <td>Optum Global Solutions</td>\n",
       "    </tr>\n",
       "    <tr>\n",
       "      <th>7</th>\n",
       "      <td>Valiance Solutions</td>\n",
       "    </tr>\n",
       "    <tr>\n",
       "      <th>8</th>\n",
       "      <td>ZS Associates</td>\n",
       "    </tr>\n",
       "    <tr>\n",
       "      <th>9</th>\n",
       "      <td>EXL Service</td>\n",
       "    </tr>\n",
       "  </tbody>\n",
       "</table>\n",
       "</div>"
      ],
      "text/plain": [
       "                   Job Title\n",
       "0  Tata Consultancy Services\n",
       "1                        IBM\n",
       "2                  Accenture\n",
       "3         Ericsson-Worldwide\n",
       "4                  Delhivery\n",
       "5         UnitedHealth Group\n",
       "6     Optum Global Solutions\n",
       "7         Valiance Solutions\n",
       "8              ZS Associates\n",
       "9                EXL Service"
      ]
     },
     "execution_count": 59,
     "metadata": {},
     "output_type": "execute_result"
    }
   ],
   "source": [
    "GlassdoorDataScientistsjobs_noida = pd.DataFrame({})\n",
    "GlassdoorDataScientistsjobs_noida['Job Title']=j_titles[:10]\n",
    "\n",
    "GlassdoorDataScientistsjobs_noida"
   ]
  },
  {
   "cell_type": "markdown",
   "metadata": {},
   "source": [
    "# Problem 5 >>>"
   ]
  },
  {
   "cell_type": "markdown",
   "metadata": {},
   "source": [
    "Write a python program to scrape the salary data for Data Scientist designation \n",
    "in Noida location.\n"
   ]
  },
  {
   "cell_type": "code",
   "execution_count": 66,
   "metadata": {},
   "outputs": [],
   "source": [
    "driver = webdriver.Chrome(r\"C:\\Users\\vaibhav\\Desktop\\Data science\\FlipRobo Projects\\Web Scrapping 2\\chromedriver.exe\")"
   ]
  },
  {
   "cell_type": "code",
   "execution_count": 67,
   "metadata": {},
   "outputs": [],
   "source": [
    "url = 'https://www.glassdoor.co.in/Salaries/index.htm'\n",
    "driver.get(url)"
   ]
  },
  {
   "cell_type": "code",
   "execution_count": 68,
   "metadata": {},
   "outputs": [],
   "source": [
    "search_job = driver.find_element_by_id('KeywordSearch')\n",
    "search_job.send_keys(\"Data Scientist\")"
   ]
  },
  {
   "cell_type": "code",
   "execution_count": 69,
   "metadata": {},
   "outputs": [],
   "source": [
    "search_location = driver.find_element_by_xpath(\"//input[@id='LocationSearch']\").clear()\n"
   ]
  },
  {
   "cell_type": "code",
   "execution_count": 70,
   "metadata": {},
   "outputs": [],
   "source": [
    "search_location = driver.find_element_by_xpath(\"//input[@id='LocationSearch']\")\n",
    "search_location.send_keys('Noida')\n"
   ]
  },
  {
   "cell_type": "code",
   "execution_count": 71,
   "metadata": {},
   "outputs": [],
   "source": [
    "search_button = driver.find_element_by_xpath(\"//button[@id='HeroSearchButton']\")\n",
    "search_button.click()"
   ]
  },
  {
   "cell_type": "code",
   "execution_count": 72,
   "metadata": {},
   "outputs": [],
   "source": [
    "# so lets extract all the tags having the job titles:\n",
    "titles_tags = driver.find_elements_by_xpath(\"//h3[@class='m-0 css-g261rn']/a\")\n"
   ]
  },
  {
   "cell_type": "code",
   "execution_count": 73,
   "metadata": {},
   "outputs": [],
   "source": [
    "j_titles = []\n",
    "for i in titles_tags:\n",
    "    # if any missing data is available\n",
    "    if i.text is None:\n",
    "        j_titles.append('Missing data')\n",
    "    else:\n",
    "        j_titles.append(i.text)"
   ]
  },
  {
   "cell_type": "code",
   "execution_count": 74,
   "metadata": {},
   "outputs": [
    {
     "data": {
      "text/plain": [
       "[]"
      ]
     },
     "execution_count": 74,
     "metadata": {},
     "output_type": "execute_result"
    }
   ],
   "source": [
    "j_titles"
   ]
  },
  {
   "cell_type": "markdown",
   "metadata": {},
   "source": [
    "# Problem 6 >>>"
   ]
  },
  {
   "cell_type": "markdown",
   "metadata": {},
   "source": [
    "Q6 : Scrape data of first 100 sunglasses listings on flipkart.com. You have to \n",
    "scrape four attributes:"
   ]
  },
  {
   "cell_type": "code",
   "execution_count": 2,
   "metadata": {},
   "outputs": [],
   "source": [
    "import time"
   ]
  },
  {
   "cell_type": "code",
   "execution_count": 3,
   "metadata": {},
   "outputs": [],
   "source": [
    "driver = webdriver.Chrome(r\"C:\\Users\\vaibhav\\Desktop\\Data science\\FlipRobo Projects\\Web Scrapping 2\\chromedriver.exe\")"
   ]
  },
  {
   "cell_type": "code",
   "execution_count": 4,
   "metadata": {},
   "outputs": [],
   "source": [
    "url = 'https://www.flipkart.com'\n",
    "driver.get(url)"
   ]
  },
  {
   "cell_type": "code",
   "execution_count": 5,
   "metadata": {},
   "outputs": [],
   "source": [
    "cross_button = driver.find_element_by_xpath(\"//button[@class='_2KpZ6l _2doB4z']\")\n",
    "cross_button.click()"
   ]
  },
  {
   "cell_type": "code",
   "execution_count": 6,
   "metadata": {},
   "outputs": [],
   "source": [
    "search_item = driver.find_element_by_xpath(\"//input[@type='text']\")\n",
    "search_item.send_keys(\"Sunglasses\")"
   ]
  },
  {
   "cell_type": "code",
   "execution_count": 7,
   "metadata": {},
   "outputs": [],
   "source": [
    "search_button = driver.find_element_by_xpath(\"//button[@class='L0Z3Pu']\")\n",
    "search_button.click()"
   ]
  },
  {
   "cell_type": "code",
   "execution_count": 8,
   "metadata": {
    "scrolled": true
   },
   "outputs": [
    {
     "ename": "StaleElementReferenceException",
     "evalue": "Message: stale element reference: element is not attached to the page document\n  (Session info: chrome=91.0.4472.106)\n",
     "output_type": "error",
     "traceback": [
      "\u001b[1;31m---------------------------------------------------------------------------\u001b[0m",
      "\u001b[1;31mStaleElementReferenceException\u001b[0m            Traceback (most recent call last)",
      "\u001b[1;32m<ipython-input-8-d6db00b4fd7f>\u001b[0m in \u001b[0;36m<module>\u001b[1;34m\u001b[0m\n\u001b[0;32m     11\u001b[0m                 \u001b[0mitems\u001b[0m\u001b[1;33m.\u001b[0m\u001b[0mappend\u001b[0m\u001b[1;33m(\u001b[0m\u001b[1;34m'Missing data'\u001b[0m\u001b[1;33m)\u001b[0m\u001b[1;33m\u001b[0m\u001b[1;33m\u001b[0m\u001b[0m\n\u001b[0;32m     12\u001b[0m             \u001b[1;32melse\u001b[0m\u001b[1;33m:\u001b[0m\u001b[1;33m\u001b[0m\u001b[1;33m\u001b[0m\u001b[0m\n\u001b[1;32m---> 13\u001b[1;33m                 \u001b[0mitems\u001b[0m\u001b[1;33m.\u001b[0m\u001b[0mappend\u001b[0m\u001b[1;33m(\u001b[0m\u001b[0mj\u001b[0m\u001b[1;33m.\u001b[0m\u001b[0mtext\u001b[0m\u001b[1;33m)\u001b[0m\u001b[1;33m\u001b[0m\u001b[1;33m\u001b[0m\u001b[0m\n\u001b[0m\u001b[0;32m     14\u001b[0m \u001b[1;33m\u001b[0m\u001b[0m\n\u001b[0;32m     15\u001b[0m     \u001b[1;31m#for getting sunglass product description:\u001b[0m\u001b[1;33m\u001b[0m\u001b[1;33m\u001b[0m\u001b[1;33m\u001b[0m\u001b[0m\n",
      "\u001b[1;32mC:\\ProgramData\\Anaconda3\\lib\\site-packages\\selenium\\webdriver\\remote\\webelement.py\u001b[0m in \u001b[0;36mtext\u001b[1;34m(self)\u001b[0m\n\u001b[0;32m     74\u001b[0m     \u001b[1;32mdef\u001b[0m \u001b[0mtext\u001b[0m\u001b[1;33m(\u001b[0m\u001b[0mself\u001b[0m\u001b[1;33m)\u001b[0m\u001b[1;33m:\u001b[0m\u001b[1;33m\u001b[0m\u001b[1;33m\u001b[0m\u001b[0m\n\u001b[0;32m     75\u001b[0m         \u001b[1;34m\"\"\"The text of the element.\"\"\"\u001b[0m\u001b[1;33m\u001b[0m\u001b[1;33m\u001b[0m\u001b[0m\n\u001b[1;32m---> 76\u001b[1;33m         \u001b[1;32mreturn\u001b[0m \u001b[0mself\u001b[0m\u001b[1;33m.\u001b[0m\u001b[0m_execute\u001b[0m\u001b[1;33m(\u001b[0m\u001b[0mCommand\u001b[0m\u001b[1;33m.\u001b[0m\u001b[0mGET_ELEMENT_TEXT\u001b[0m\u001b[1;33m)\u001b[0m\u001b[1;33m[\u001b[0m\u001b[1;34m'value'\u001b[0m\u001b[1;33m]\u001b[0m\u001b[1;33m\u001b[0m\u001b[1;33m\u001b[0m\u001b[0m\n\u001b[0m\u001b[0;32m     77\u001b[0m \u001b[1;33m\u001b[0m\u001b[0m\n\u001b[0;32m     78\u001b[0m     \u001b[1;32mdef\u001b[0m \u001b[0mclick\u001b[0m\u001b[1;33m(\u001b[0m\u001b[0mself\u001b[0m\u001b[1;33m)\u001b[0m\u001b[1;33m:\u001b[0m\u001b[1;33m\u001b[0m\u001b[1;33m\u001b[0m\u001b[0m\n",
      "\u001b[1;32mC:\\ProgramData\\Anaconda3\\lib\\site-packages\\selenium\\webdriver\\remote\\webelement.py\u001b[0m in \u001b[0;36m_execute\u001b[1;34m(self, command, params)\u001b[0m\n\u001b[0;32m    631\u001b[0m             \u001b[0mparams\u001b[0m \u001b[1;33m=\u001b[0m \u001b[1;33m{\u001b[0m\u001b[1;33m}\u001b[0m\u001b[1;33m\u001b[0m\u001b[1;33m\u001b[0m\u001b[0m\n\u001b[0;32m    632\u001b[0m         \u001b[0mparams\u001b[0m\u001b[1;33m[\u001b[0m\u001b[1;34m'id'\u001b[0m\u001b[1;33m]\u001b[0m \u001b[1;33m=\u001b[0m \u001b[0mself\u001b[0m\u001b[1;33m.\u001b[0m\u001b[0m_id\u001b[0m\u001b[1;33m\u001b[0m\u001b[1;33m\u001b[0m\u001b[0m\n\u001b[1;32m--> 633\u001b[1;33m         \u001b[1;32mreturn\u001b[0m \u001b[0mself\u001b[0m\u001b[1;33m.\u001b[0m\u001b[0m_parent\u001b[0m\u001b[1;33m.\u001b[0m\u001b[0mexecute\u001b[0m\u001b[1;33m(\u001b[0m\u001b[0mcommand\u001b[0m\u001b[1;33m,\u001b[0m \u001b[0mparams\u001b[0m\u001b[1;33m)\u001b[0m\u001b[1;33m\u001b[0m\u001b[1;33m\u001b[0m\u001b[0m\n\u001b[0m\u001b[0;32m    634\u001b[0m \u001b[1;33m\u001b[0m\u001b[0m\n\u001b[0;32m    635\u001b[0m     \u001b[1;32mdef\u001b[0m \u001b[0mfind_element\u001b[0m\u001b[1;33m(\u001b[0m\u001b[0mself\u001b[0m\u001b[1;33m,\u001b[0m \u001b[0mby\u001b[0m\u001b[1;33m=\u001b[0m\u001b[0mBy\u001b[0m\u001b[1;33m.\u001b[0m\u001b[0mID\u001b[0m\u001b[1;33m,\u001b[0m \u001b[0mvalue\u001b[0m\u001b[1;33m=\u001b[0m\u001b[1;32mNone\u001b[0m\u001b[1;33m)\u001b[0m\u001b[1;33m:\u001b[0m\u001b[1;33m\u001b[0m\u001b[1;33m\u001b[0m\u001b[0m\n",
      "\u001b[1;32mC:\\ProgramData\\Anaconda3\\lib\\site-packages\\selenium\\webdriver\\remote\\webdriver.py\u001b[0m in \u001b[0;36mexecute\u001b[1;34m(self, driver_command, params)\u001b[0m\n\u001b[0;32m    319\u001b[0m         \u001b[0mresponse\u001b[0m \u001b[1;33m=\u001b[0m \u001b[0mself\u001b[0m\u001b[1;33m.\u001b[0m\u001b[0mcommand_executor\u001b[0m\u001b[1;33m.\u001b[0m\u001b[0mexecute\u001b[0m\u001b[1;33m(\u001b[0m\u001b[0mdriver_command\u001b[0m\u001b[1;33m,\u001b[0m \u001b[0mparams\u001b[0m\u001b[1;33m)\u001b[0m\u001b[1;33m\u001b[0m\u001b[1;33m\u001b[0m\u001b[0m\n\u001b[0;32m    320\u001b[0m         \u001b[1;32mif\u001b[0m \u001b[0mresponse\u001b[0m\u001b[1;33m:\u001b[0m\u001b[1;33m\u001b[0m\u001b[1;33m\u001b[0m\u001b[0m\n\u001b[1;32m--> 321\u001b[1;33m             \u001b[0mself\u001b[0m\u001b[1;33m.\u001b[0m\u001b[0merror_handler\u001b[0m\u001b[1;33m.\u001b[0m\u001b[0mcheck_response\u001b[0m\u001b[1;33m(\u001b[0m\u001b[0mresponse\u001b[0m\u001b[1;33m)\u001b[0m\u001b[1;33m\u001b[0m\u001b[1;33m\u001b[0m\u001b[0m\n\u001b[0m\u001b[0;32m    322\u001b[0m             response['value'] = self._unwrap_value(\n\u001b[0;32m    323\u001b[0m                 response.get('value', None))\n",
      "\u001b[1;32mC:\\ProgramData\\Anaconda3\\lib\\site-packages\\selenium\\webdriver\\remote\\errorhandler.py\u001b[0m in \u001b[0;36mcheck_response\u001b[1;34m(self, response)\u001b[0m\n\u001b[0;32m    240\u001b[0m                 \u001b[0malert_text\u001b[0m \u001b[1;33m=\u001b[0m \u001b[0mvalue\u001b[0m\u001b[1;33m[\u001b[0m\u001b[1;34m'alert'\u001b[0m\u001b[1;33m]\u001b[0m\u001b[1;33m.\u001b[0m\u001b[0mget\u001b[0m\u001b[1;33m(\u001b[0m\u001b[1;34m'text'\u001b[0m\u001b[1;33m)\u001b[0m\u001b[1;33m\u001b[0m\u001b[1;33m\u001b[0m\u001b[0m\n\u001b[0;32m    241\u001b[0m             \u001b[1;32mraise\u001b[0m \u001b[0mexception_class\u001b[0m\u001b[1;33m(\u001b[0m\u001b[0mmessage\u001b[0m\u001b[1;33m,\u001b[0m \u001b[0mscreen\u001b[0m\u001b[1;33m,\u001b[0m \u001b[0mstacktrace\u001b[0m\u001b[1;33m,\u001b[0m \u001b[0malert_text\u001b[0m\u001b[1;33m)\u001b[0m\u001b[1;33m\u001b[0m\u001b[1;33m\u001b[0m\u001b[0m\n\u001b[1;32m--> 242\u001b[1;33m         \u001b[1;32mraise\u001b[0m \u001b[0mexception_class\u001b[0m\u001b[1;33m(\u001b[0m\u001b[0mmessage\u001b[0m\u001b[1;33m,\u001b[0m \u001b[0mscreen\u001b[0m\u001b[1;33m,\u001b[0m \u001b[0mstacktrace\u001b[0m\u001b[1;33m)\u001b[0m\u001b[1;33m\u001b[0m\u001b[1;33m\u001b[0m\u001b[0m\n\u001b[0m\u001b[0;32m    243\u001b[0m \u001b[1;33m\u001b[0m\u001b[0m\n\u001b[0;32m    244\u001b[0m     \u001b[1;32mdef\u001b[0m \u001b[0m_value_or_default\u001b[0m\u001b[1;33m(\u001b[0m\u001b[0mself\u001b[0m\u001b[1;33m,\u001b[0m \u001b[0mobj\u001b[0m\u001b[1;33m,\u001b[0m \u001b[0mkey\u001b[0m\u001b[1;33m,\u001b[0m \u001b[0mdefault\u001b[0m\u001b[1;33m)\u001b[0m\u001b[1;33m:\u001b[0m\u001b[1;33m\u001b[0m\u001b[1;33m\u001b[0m\u001b[0m\n",
      "\u001b[1;31mStaleElementReferenceException\u001b[0m: Message: stale element reference: element is not attached to the page document\n  (Session info: chrome=91.0.4472.106)\n"
     ]
    }
   ],
   "source": [
    "items = []\n",
    "prod_des = []\n",
    "price = []\n",
    "\n",
    "for i in range(100):\n",
    "    #for getting sunglasses brand name\n",
    "    for i in driver.find_elements_by_xpath(\"//div[@class='_1xHGtK _373qXS']/div\"):\n",
    "        # if any missing data is available\n",
    "        for j in i.find_elements_by_xpath(\"//div[@class='_2WkVRV']\"):\n",
    "            if j.text is None:\n",
    "                items.append('Missing data')\n",
    "            else:\n",
    "                items.append(j.text)\n",
    "    \n",
    "    #for getting sunglass product description:\n",
    "    for m in driver.find_elements_by_xpath(\"//div[@class='_1xHGtK _373qXS']/div\"):\n",
    "        # if any missing data is available\n",
    "        for n in m.find_elements_by_xpath(\"//a[@class='IRpwTa']\"):\n",
    "            if n.text is None:\n",
    "                prod_des.append('Missing data')\n",
    "            else:\n",
    "                prod_des.append(n.text)\n",
    "                \n",
    "    #for getting sunglasses price details\n",
    "    for x in driver.find_elements_by_xpath(\"//div[@class='_1xHGtK _373qXS']/div\"):\n",
    "    # if any missing data is available\n",
    "        for y in x.find_elements_by_xpath(\"//div[@class='_30jeq3']\"):\n",
    "            if y.text is None:\n",
    "                price.append('Missing data')\n",
    "            else:\n",
    "                price.append(y.text)\n",
    "    \n",
    "    driver.find_element_by_xpath(\"//a[@class='_1LKTO3']\").click()\n",
    "    "
   ]
  },
  {
   "cell_type": "markdown",
   "metadata": {},
   "source": [
    "NOTE:\n",
    "\n",
    "SORRY I WAS FACING PROBLEM WHILE HANDLING THIS ERROR:\n",
    "WILL PRACTICE MORE TO OVERCOME THIS, APOLOGY !"
   ]
  },
  {
   "cell_type": "code",
   "execution_count": 9,
   "metadata": {},
   "outputs": [],
   "source": [
    "Sunglasses = pd.DataFrame({})\n",
    "Sunglasses['BrandName']=items[:100]\n",
    "Sunglasses['ProductDescription']=prod_des[:100]\n",
    "Sunglasses['PriceDetails']=price[:100]"
   ]
  },
  {
   "cell_type": "code",
   "execution_count": 10,
   "metadata": {},
   "outputs": [
    {
     "data": {
      "text/html": [
       "<div>\n",
       "<style scoped>\n",
       "    .dataframe tbody tr th:only-of-type {\n",
       "        vertical-align: middle;\n",
       "    }\n",
       "\n",
       "    .dataframe tbody tr th {\n",
       "        vertical-align: top;\n",
       "    }\n",
       "\n",
       "    .dataframe thead th {\n",
       "        text-align: right;\n",
       "    }\n",
       "</style>\n",
       "<table border=\"1\" class=\"dataframe\">\n",
       "  <thead>\n",
       "    <tr style=\"text-align: right;\">\n",
       "      <th></th>\n",
       "      <th>BrandName</th>\n",
       "      <th>ProductDescription</th>\n",
       "      <th>PriceDetails</th>\n",
       "    </tr>\n",
       "  </thead>\n",
       "  <tbody>\n",
       "    <tr>\n",
       "      <th>0</th>\n",
       "      <td>PIRASO</td>\n",
       "      <td>UV Protection Aviator Sunglasses (54)</td>\n",
       "      <td>₹237</td>\n",
       "    </tr>\n",
       "    <tr>\n",
       "      <th>1</th>\n",
       "      <td>Fastrack</td>\n",
       "      <td>UV Protection Rectangular Sunglasses (Free Size)</td>\n",
       "      <td>₹570</td>\n",
       "    </tr>\n",
       "    <tr>\n",
       "      <th>2</th>\n",
       "      <td>Fastrack</td>\n",
       "      <td>Gradient, UV Protection Wayfarer Sunglasses (F...</td>\n",
       "      <td>₹621</td>\n",
       "    </tr>\n",
       "    <tr>\n",
       "      <th>3</th>\n",
       "      <td>kingsunglasses</td>\n",
       "      <td>Mirrored, UV Protection Wayfarer Sunglasses (F...</td>\n",
       "      <td>₹299</td>\n",
       "    </tr>\n",
       "    <tr>\n",
       "      <th>4</th>\n",
       "      <td>PIRASO</td>\n",
       "      <td>UV Protection Aviator Sunglasses (54)</td>\n",
       "      <td>₹237</td>\n",
       "    </tr>\n",
       "    <tr>\n",
       "      <th>...</th>\n",
       "      <td>...</td>\n",
       "      <td>...</td>\n",
       "      <td>...</td>\n",
       "    </tr>\n",
       "    <tr>\n",
       "      <th>95</th>\n",
       "      <td>elegante</td>\n",
       "      <td>UV Protection Round Sunglasses (Free Size)</td>\n",
       "      <td>₹199</td>\n",
       "    </tr>\n",
       "    <tr>\n",
       "      <th>96</th>\n",
       "      <td>PHENOMENAL</td>\n",
       "      <td>UV Protection, Mirrored Retro Square Sunglasse...</td>\n",
       "      <td>₹399</td>\n",
       "    </tr>\n",
       "    <tr>\n",
       "      <th>97</th>\n",
       "      <td>NuVew</td>\n",
       "      <td>UV Protection Aviator Sunglasses (57)</td>\n",
       "      <td>₹156</td>\n",
       "    </tr>\n",
       "    <tr>\n",
       "      <th>98</th>\n",
       "      <td>ROZZETTA CRAFT</td>\n",
       "      <td>UV Protection, Gradient Rectangular Sunglasses...</td>\n",
       "      <td>₹499</td>\n",
       "    </tr>\n",
       "    <tr>\n",
       "      <th>99</th>\n",
       "      <td>Silver Kartz</td>\n",
       "      <td>UV Protection Wayfarer Sunglasses (Free Size)</td>\n",
       "      <td>₹246</td>\n",
       "    </tr>\n",
       "  </tbody>\n",
       "</table>\n",
       "<p>100 rows × 3 columns</p>\n",
       "</div>"
      ],
      "text/plain": [
       "         BrandName                                 ProductDescription  \\\n",
       "0           PIRASO              UV Protection Aviator Sunglasses (54)   \n",
       "1         Fastrack   UV Protection Rectangular Sunglasses (Free Size)   \n",
       "2         Fastrack  Gradient, UV Protection Wayfarer Sunglasses (F...   \n",
       "3   kingsunglasses  Mirrored, UV Protection Wayfarer Sunglasses (F...   \n",
       "4           PIRASO              UV Protection Aviator Sunglasses (54)   \n",
       "..             ...                                                ...   \n",
       "95        elegante         UV Protection Round Sunglasses (Free Size)   \n",
       "96      PHENOMENAL  UV Protection, Mirrored Retro Square Sunglasse...   \n",
       "97           NuVew              UV Protection Aviator Sunglasses (57)   \n",
       "98  ROZZETTA CRAFT  UV Protection, Gradient Rectangular Sunglasses...   \n",
       "99    Silver Kartz      UV Protection Wayfarer Sunglasses (Free Size)   \n",
       "\n",
       "   PriceDetails  \n",
       "0          ₹237  \n",
       "1          ₹570  \n",
       "2          ₹621  \n",
       "3          ₹299  \n",
       "4          ₹237  \n",
       "..          ...  \n",
       "95         ₹199  \n",
       "96         ₹399  \n",
       "97         ₹156  \n",
       "98         ₹499  \n",
       "99         ₹246  \n",
       "\n",
       "[100 rows x 3 columns]"
      ]
     },
     "execution_count": 10,
     "metadata": {},
     "output_type": "execute_result"
    }
   ],
   "source": [
    "Sunglasses"
   ]
  },
  {
   "cell_type": "markdown",
   "metadata": {},
   "source": [
    "# Problem 7 >>>"
   ]
  },
  {
   "cell_type": "markdown",
   "metadata": {},
   "source": [
    "Scrape 100 reviews data from flipkart.com for iphone11 phone."
   ]
  },
  {
   "cell_type": "code",
   "execution_count": 11,
   "metadata": {},
   "outputs": [],
   "source": [
    "driver = webdriver.Chrome(r\"C:\\Users\\vaibhav\\Desktop\\Data science\\FlipRobo Projects\\Web Scrapping 2\\chromedriver.exe\")"
   ]
  },
  {
   "cell_type": "code",
   "execution_count": 12,
   "metadata": {},
   "outputs": [],
   "source": [
    "url = 'https://www.flipkart.com/apple-iphone-11-black-64-gb-includes-earpods-power-adapter/product-reviews/itm0f37c2240b217?pid=MOBFKCTSVZAXUHGR&lid=LSTMOBFKCTSVZAXUHGREPBFGI&marketplace=FLIPKART'\n",
    "driver.get(url)"
   ]
  },
  {
   "cell_type": "code",
   "execution_count": 13,
   "metadata": {},
   "outputs": [
    {
     "ename": "StaleElementReferenceException",
     "evalue": "Message: stale element reference: element is not attached to the page document\n  (Session info: chrome=91.0.4472.106)\n",
     "output_type": "error",
     "traceback": [
      "\u001b[1;31m---------------------------------------------------------------------------\u001b[0m",
      "\u001b[1;31mStaleElementReferenceException\u001b[0m            Traceback (most recent call last)",
      "\u001b[1;32m<ipython-input-13-c3ea481cde02>\u001b[0m in \u001b[0;36m<module>\u001b[1;34m\u001b[0m\n\u001b[0;32m     11\u001b[0m                 \u001b[0mrating\u001b[0m\u001b[1;33m.\u001b[0m\u001b[0mappend\u001b[0m\u001b[1;33m(\u001b[0m\u001b[1;34m'Missing data'\u001b[0m\u001b[1;33m)\u001b[0m\u001b[1;33m\u001b[0m\u001b[1;33m\u001b[0m\u001b[0m\n\u001b[0;32m     12\u001b[0m             \u001b[1;32melse\u001b[0m\u001b[1;33m:\u001b[0m\u001b[1;33m\u001b[0m\u001b[1;33m\u001b[0m\u001b[0m\n\u001b[1;32m---> 13\u001b[1;33m                 \u001b[0mrating\u001b[0m\u001b[1;33m.\u001b[0m\u001b[0mappend\u001b[0m\u001b[1;33m(\u001b[0m\u001b[0mj\u001b[0m\u001b[1;33m.\u001b[0m\u001b[0mtext\u001b[0m\u001b[1;33m)\u001b[0m\u001b[1;33m\u001b[0m\u001b[1;33m\u001b[0m\u001b[0m\n\u001b[0m\u001b[0;32m     14\u001b[0m \u001b[1;33m\u001b[0m\u001b[0m\n\u001b[0;32m     15\u001b[0m     \u001b[1;31m#for getting Review_summary:\u001b[0m\u001b[1;33m\u001b[0m\u001b[1;33m\u001b[0m\u001b[1;33m\u001b[0m\u001b[0m\n",
      "\u001b[1;32mC:\\ProgramData\\Anaconda3\\lib\\site-packages\\selenium\\webdriver\\remote\\webelement.py\u001b[0m in \u001b[0;36mtext\u001b[1;34m(self)\u001b[0m\n\u001b[0;32m     74\u001b[0m     \u001b[1;32mdef\u001b[0m \u001b[0mtext\u001b[0m\u001b[1;33m(\u001b[0m\u001b[0mself\u001b[0m\u001b[1;33m)\u001b[0m\u001b[1;33m:\u001b[0m\u001b[1;33m\u001b[0m\u001b[1;33m\u001b[0m\u001b[0m\n\u001b[0;32m     75\u001b[0m         \u001b[1;34m\"\"\"The text of the element.\"\"\"\u001b[0m\u001b[1;33m\u001b[0m\u001b[1;33m\u001b[0m\u001b[0m\n\u001b[1;32m---> 76\u001b[1;33m         \u001b[1;32mreturn\u001b[0m \u001b[0mself\u001b[0m\u001b[1;33m.\u001b[0m\u001b[0m_execute\u001b[0m\u001b[1;33m(\u001b[0m\u001b[0mCommand\u001b[0m\u001b[1;33m.\u001b[0m\u001b[0mGET_ELEMENT_TEXT\u001b[0m\u001b[1;33m)\u001b[0m\u001b[1;33m[\u001b[0m\u001b[1;34m'value'\u001b[0m\u001b[1;33m]\u001b[0m\u001b[1;33m\u001b[0m\u001b[1;33m\u001b[0m\u001b[0m\n\u001b[0m\u001b[0;32m     77\u001b[0m \u001b[1;33m\u001b[0m\u001b[0m\n\u001b[0;32m     78\u001b[0m     \u001b[1;32mdef\u001b[0m \u001b[0mclick\u001b[0m\u001b[1;33m(\u001b[0m\u001b[0mself\u001b[0m\u001b[1;33m)\u001b[0m\u001b[1;33m:\u001b[0m\u001b[1;33m\u001b[0m\u001b[1;33m\u001b[0m\u001b[0m\n",
      "\u001b[1;32mC:\\ProgramData\\Anaconda3\\lib\\site-packages\\selenium\\webdriver\\remote\\webelement.py\u001b[0m in \u001b[0;36m_execute\u001b[1;34m(self, command, params)\u001b[0m\n\u001b[0;32m    631\u001b[0m             \u001b[0mparams\u001b[0m \u001b[1;33m=\u001b[0m \u001b[1;33m{\u001b[0m\u001b[1;33m}\u001b[0m\u001b[1;33m\u001b[0m\u001b[1;33m\u001b[0m\u001b[0m\n\u001b[0;32m    632\u001b[0m         \u001b[0mparams\u001b[0m\u001b[1;33m[\u001b[0m\u001b[1;34m'id'\u001b[0m\u001b[1;33m]\u001b[0m \u001b[1;33m=\u001b[0m \u001b[0mself\u001b[0m\u001b[1;33m.\u001b[0m\u001b[0m_id\u001b[0m\u001b[1;33m\u001b[0m\u001b[1;33m\u001b[0m\u001b[0m\n\u001b[1;32m--> 633\u001b[1;33m         \u001b[1;32mreturn\u001b[0m \u001b[0mself\u001b[0m\u001b[1;33m.\u001b[0m\u001b[0m_parent\u001b[0m\u001b[1;33m.\u001b[0m\u001b[0mexecute\u001b[0m\u001b[1;33m(\u001b[0m\u001b[0mcommand\u001b[0m\u001b[1;33m,\u001b[0m \u001b[0mparams\u001b[0m\u001b[1;33m)\u001b[0m\u001b[1;33m\u001b[0m\u001b[1;33m\u001b[0m\u001b[0m\n\u001b[0m\u001b[0;32m    634\u001b[0m \u001b[1;33m\u001b[0m\u001b[0m\n\u001b[0;32m    635\u001b[0m     \u001b[1;32mdef\u001b[0m \u001b[0mfind_element\u001b[0m\u001b[1;33m(\u001b[0m\u001b[0mself\u001b[0m\u001b[1;33m,\u001b[0m \u001b[0mby\u001b[0m\u001b[1;33m=\u001b[0m\u001b[0mBy\u001b[0m\u001b[1;33m.\u001b[0m\u001b[0mID\u001b[0m\u001b[1;33m,\u001b[0m \u001b[0mvalue\u001b[0m\u001b[1;33m=\u001b[0m\u001b[1;32mNone\u001b[0m\u001b[1;33m)\u001b[0m\u001b[1;33m:\u001b[0m\u001b[1;33m\u001b[0m\u001b[1;33m\u001b[0m\u001b[0m\n",
      "\u001b[1;32mC:\\ProgramData\\Anaconda3\\lib\\site-packages\\selenium\\webdriver\\remote\\webdriver.py\u001b[0m in \u001b[0;36mexecute\u001b[1;34m(self, driver_command, params)\u001b[0m\n\u001b[0;32m    319\u001b[0m         \u001b[0mresponse\u001b[0m \u001b[1;33m=\u001b[0m \u001b[0mself\u001b[0m\u001b[1;33m.\u001b[0m\u001b[0mcommand_executor\u001b[0m\u001b[1;33m.\u001b[0m\u001b[0mexecute\u001b[0m\u001b[1;33m(\u001b[0m\u001b[0mdriver_command\u001b[0m\u001b[1;33m,\u001b[0m \u001b[0mparams\u001b[0m\u001b[1;33m)\u001b[0m\u001b[1;33m\u001b[0m\u001b[1;33m\u001b[0m\u001b[0m\n\u001b[0;32m    320\u001b[0m         \u001b[1;32mif\u001b[0m \u001b[0mresponse\u001b[0m\u001b[1;33m:\u001b[0m\u001b[1;33m\u001b[0m\u001b[1;33m\u001b[0m\u001b[0m\n\u001b[1;32m--> 321\u001b[1;33m             \u001b[0mself\u001b[0m\u001b[1;33m.\u001b[0m\u001b[0merror_handler\u001b[0m\u001b[1;33m.\u001b[0m\u001b[0mcheck_response\u001b[0m\u001b[1;33m(\u001b[0m\u001b[0mresponse\u001b[0m\u001b[1;33m)\u001b[0m\u001b[1;33m\u001b[0m\u001b[1;33m\u001b[0m\u001b[0m\n\u001b[0m\u001b[0;32m    322\u001b[0m             response['value'] = self._unwrap_value(\n\u001b[0;32m    323\u001b[0m                 response.get('value', None))\n",
      "\u001b[1;32mC:\\ProgramData\\Anaconda3\\lib\\site-packages\\selenium\\webdriver\\remote\\errorhandler.py\u001b[0m in \u001b[0;36mcheck_response\u001b[1;34m(self, response)\u001b[0m\n\u001b[0;32m    240\u001b[0m                 \u001b[0malert_text\u001b[0m \u001b[1;33m=\u001b[0m \u001b[0mvalue\u001b[0m\u001b[1;33m[\u001b[0m\u001b[1;34m'alert'\u001b[0m\u001b[1;33m]\u001b[0m\u001b[1;33m.\u001b[0m\u001b[0mget\u001b[0m\u001b[1;33m(\u001b[0m\u001b[1;34m'text'\u001b[0m\u001b[1;33m)\u001b[0m\u001b[1;33m\u001b[0m\u001b[1;33m\u001b[0m\u001b[0m\n\u001b[0;32m    241\u001b[0m             \u001b[1;32mraise\u001b[0m \u001b[0mexception_class\u001b[0m\u001b[1;33m(\u001b[0m\u001b[0mmessage\u001b[0m\u001b[1;33m,\u001b[0m \u001b[0mscreen\u001b[0m\u001b[1;33m,\u001b[0m \u001b[0mstacktrace\u001b[0m\u001b[1;33m,\u001b[0m \u001b[0malert_text\u001b[0m\u001b[1;33m)\u001b[0m\u001b[1;33m\u001b[0m\u001b[1;33m\u001b[0m\u001b[0m\n\u001b[1;32m--> 242\u001b[1;33m         \u001b[1;32mraise\u001b[0m \u001b[0mexception_class\u001b[0m\u001b[1;33m(\u001b[0m\u001b[0mmessage\u001b[0m\u001b[1;33m,\u001b[0m \u001b[0mscreen\u001b[0m\u001b[1;33m,\u001b[0m \u001b[0mstacktrace\u001b[0m\u001b[1;33m)\u001b[0m\u001b[1;33m\u001b[0m\u001b[1;33m\u001b[0m\u001b[0m\n\u001b[0m\u001b[0;32m    243\u001b[0m \u001b[1;33m\u001b[0m\u001b[0m\n\u001b[0;32m    244\u001b[0m     \u001b[1;32mdef\u001b[0m \u001b[0m_value_or_default\u001b[0m\u001b[1;33m(\u001b[0m\u001b[0mself\u001b[0m\u001b[1;33m,\u001b[0m \u001b[0mobj\u001b[0m\u001b[1;33m,\u001b[0m \u001b[0mkey\u001b[0m\u001b[1;33m,\u001b[0m \u001b[0mdefault\u001b[0m\u001b[1;33m)\u001b[0m\u001b[1;33m:\u001b[0m\u001b[1;33m\u001b[0m\u001b[1;33m\u001b[0m\u001b[0m\n",
      "\u001b[1;31mStaleElementReferenceException\u001b[0m: Message: stale element reference: element is not attached to the page document\n  (Session info: chrome=91.0.4472.106)\n"
     ]
    }
   ],
   "source": [
    "rating = []\n",
    "Review_summary = []\n",
    "Full_review = []\n",
    "\n",
    "for i in range(100):\n",
    "    #for getting rating\n",
    "    for i in driver.find_elements_by_xpath(\"//div[@class='col _2wzgFH K0kLPL']/div\"):\n",
    "        # if any missing data is available\n",
    "        for j in i.find_elements_by_xpath(\"//div[@class='_3LWZlK _1BLPMq']\"):\n",
    "            if j.text is None:\n",
    "                rating.append('Missing data')\n",
    "            else:\n",
    "                rating.append(j.text)\n",
    "    \n",
    "    #for getting Review_summary:\n",
    "    for m in driver.find_elements_by_xpath(\"//div[@class='col _2wzgFH K0kLPL']/div\"):\n",
    "        # if any missing data is available\n",
    "        for n in m.find_elements_by_xpath(\"//p[@class='_2-N8zT']\"):\n",
    "            if n.text is None:\n",
    "                Review_summary.append('Missing data')\n",
    "            else:\n",
    "                Review_summary.append(n.text)\n",
    "                \n",
    "    #for getting Full_review\n",
    "    for x in driver.find_elements_by_xpath(\"//div[@class='col _2wzgFH K0kLPL']/div\"):\n",
    "    # if any missing data is available\n",
    "        for y in x.find_elements_by_xpath(\"//div[@class='t-ZTKy']\"):\n",
    "            if y.text is None:\n",
    "                Full_review.append('Missing data')\n",
    "            else:\n",
    "                Full_review.append(y.text)\n",
    "    \n",
    "    driver.find_element_by_xpath(\"//a[@class='_1LKTO3']\").click()"
   ]
  },
  {
   "cell_type": "markdown",
   "metadata": {},
   "source": [
    "NOTE:\n",
    "\n",
    "SORRY I WAS FACING PROBLEM WHILE HANDLING THIS ERROR:\n",
    "WILL PRACTICE MORE TO OVERCOME THIS, APOLOGY !"
   ]
  },
  {
   "cell_type": "code",
   "execution_count": 14,
   "metadata": {},
   "outputs": [],
   "source": [
    "Iphone11_review_data = pd.DataFrame({})\n",
    "Iphone11_review_data['Iphone11 Rating']=rating[:100]\n",
    "Iphone11_review_data['Iphone11 review summary']=Review_summary[:100]\n",
    "Iphone11_review_data['Iphone11 Fullreview']=Full_review[:100]"
   ]
  },
  {
   "cell_type": "code",
   "execution_count": 15,
   "metadata": {},
   "outputs": [
    {
     "data": {
      "text/html": [
       "<div>\n",
       "<style scoped>\n",
       "    .dataframe tbody tr th:only-of-type {\n",
       "        vertical-align: middle;\n",
       "    }\n",
       "\n",
       "    .dataframe tbody tr th {\n",
       "        vertical-align: top;\n",
       "    }\n",
       "\n",
       "    .dataframe thead th {\n",
       "        text-align: right;\n",
       "    }\n",
       "</style>\n",
       "<table border=\"1\" class=\"dataframe\">\n",
       "  <thead>\n",
       "    <tr style=\"text-align: right;\">\n",
       "      <th></th>\n",
       "      <th>Iphone11 Rating</th>\n",
       "      <th>Iphone11 review summary</th>\n",
       "      <th>Iphone11 Fullreview</th>\n",
       "    </tr>\n",
       "  </thead>\n",
       "  <tbody>\n",
       "    <tr>\n",
       "      <th>0</th>\n",
       "      <td>5</td>\n",
       "      <td>Brilliant</td>\n",
       "      <td>The Best Phone for the Money\\n\\nThe iPhone 11 ...</td>\n",
       "    </tr>\n",
       "    <tr>\n",
       "      <th>1</th>\n",
       "      <td>5</td>\n",
       "      <td>Perfect product!</td>\n",
       "      <td>Amazing phone with great cameras and better ba...</td>\n",
       "    </tr>\n",
       "    <tr>\n",
       "      <th>2</th>\n",
       "      <td>5</td>\n",
       "      <td>Fabulous!</td>\n",
       "      <td>This is my first iOS phone. I am very happy wi...</td>\n",
       "    </tr>\n",
       "    <tr>\n",
       "      <th>3</th>\n",
       "      <td>5</td>\n",
       "      <td>Great product</td>\n",
       "      <td>Amazing Powerful and Durable Gadget.\\n\\nI’m am...</td>\n",
       "    </tr>\n",
       "    <tr>\n",
       "      <th>4</th>\n",
       "      <td>5</td>\n",
       "      <td>Worth every penny</td>\n",
       "      <td>Previously I was using one plus 3t it was a gr...</td>\n",
       "    </tr>\n",
       "    <tr>\n",
       "      <th>...</th>\n",
       "      <td>...</td>\n",
       "      <td>...</td>\n",
       "      <td>...</td>\n",
       "    </tr>\n",
       "    <tr>\n",
       "      <th>95</th>\n",
       "      <td>4</td>\n",
       "      <td>Good choice</td>\n",
       "      <td>So far it’s been an AMAZING experience coming ...</td>\n",
       "    </tr>\n",
       "    <tr>\n",
       "      <th>96</th>\n",
       "      <td>5</td>\n",
       "      <td>Highly recommended</td>\n",
       "      <td>iphone 11 is a very good phone to buy only if ...</td>\n",
       "    </tr>\n",
       "    <tr>\n",
       "      <th>97</th>\n",
       "      <td>5</td>\n",
       "      <td>Perfect product!</td>\n",
       "      <td>It’s a must buy who is looking for an upgrade ...</td>\n",
       "    </tr>\n",
       "    <tr>\n",
       "      <th>98</th>\n",
       "      <td>5</td>\n",
       "      <td>Perfect product!</td>\n",
       "      <td>Value for money❤️❤️\\nIts awesome mobile phone ...</td>\n",
       "    </tr>\n",
       "    <tr>\n",
       "      <th>99</th>\n",
       "      <td>5</td>\n",
       "      <td>Worth every penny</td>\n",
       "      <td>Best budget Iphone till date ❤️ go for it guys...</td>\n",
       "    </tr>\n",
       "  </tbody>\n",
       "</table>\n",
       "<p>100 rows × 3 columns</p>\n",
       "</div>"
      ],
      "text/plain": [
       "   Iphone11 Rating Iphone11 review summary  \\\n",
       "0                5               Brilliant   \n",
       "1                5        Perfect product!   \n",
       "2                5               Fabulous!   \n",
       "3                5           Great product   \n",
       "4                5       Worth every penny   \n",
       "..             ...                     ...   \n",
       "95               4             Good choice   \n",
       "96               5      Highly recommended   \n",
       "97               5        Perfect product!   \n",
       "98               5        Perfect product!   \n",
       "99               5       Worth every penny   \n",
       "\n",
       "                                  Iphone11 Fullreview  \n",
       "0   The Best Phone for the Money\\n\\nThe iPhone 11 ...  \n",
       "1   Amazing phone with great cameras and better ba...  \n",
       "2   This is my first iOS phone. I am very happy wi...  \n",
       "3   Amazing Powerful and Durable Gadget.\\n\\nI’m am...  \n",
       "4   Previously I was using one plus 3t it was a gr...  \n",
       "..                                                ...  \n",
       "95  So far it’s been an AMAZING experience coming ...  \n",
       "96  iphone 11 is a very good phone to buy only if ...  \n",
       "97  It’s a must buy who is looking for an upgrade ...  \n",
       "98  Value for money❤️❤️\\nIts awesome mobile phone ...  \n",
       "99  Best budget Iphone till date ❤️ go for it guys...  \n",
       "\n",
       "[100 rows x 3 columns]"
      ]
     },
     "execution_count": 15,
     "metadata": {},
     "output_type": "execute_result"
    }
   ],
   "source": [
    "Iphone11_review_data"
   ]
  }
 ],
 "metadata": {
  "kernelspec": {
   "display_name": "Python 3",
   "language": "python",
   "name": "python3"
  },
  "language_info": {
   "codemirror_mode": {
    "name": "ipython",
    "version": 3
   },
   "file_extension": ".py",
   "mimetype": "text/x-python",
   "name": "python",
   "nbconvert_exporter": "python",
   "pygments_lexer": "ipython3",
   "version": "3.7.6"
  }
 },
 "nbformat": 4,
 "nbformat_minor": 4
}
