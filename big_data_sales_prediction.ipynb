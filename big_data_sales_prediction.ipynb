{
 "cells": [
  {
   "cell_type": "markdown",
   "metadata": {},
   "source": [
    "# Big_Data_Sales_Prediction Project\n",
    "\n"
   ]
  },
  {
   "cell_type": "markdown",
   "metadata": {},
   "source": [
    "Name: Vaibhav Tayade\n",
    "\n",
    "contact details:\n",
    "\n",
    "8087970061\n",
    "vaibhav_t29@rediffmail.com"
   ]
  },
  {
   "cell_type": "markdown",
   "metadata": {},
   "source": [
    "# Importing Libraries"
   ]
  },
  {
   "cell_type": "code",
   "execution_count": 112,
   "metadata": {},
   "outputs": [],
   "source": [
    "import pandas as pd\n",
    "import numpy as np\n",
    "import seaborn as sns\n",
    "import matplotlib.pyplot as plt\n",
    "import warnings\n",
    "warnings.filterwarnings('ignore')\n",
    "\n",
    "import sklearn\n",
    "from sklearn.preprocessing import LabelEncoder\n",
    "from sklearn import metrics\n",
    "from sklearn.model_selection import train_test_split\n",
    "from sklearn.linear_model import LinearRegression\n"
   ]
  },
  {
   "cell_type": "markdown",
   "metadata": {},
   "source": [
    "# Importing csv files"
   ]
  },
  {
   "cell_type": "code",
   "execution_count": 113,
   "metadata": {},
   "outputs": [],
   "source": [
    "train_data = pd.read_csv('big_data_train.csv')\n",
    "\n",
    "test_data = pd.read_csv('big_data_test.csv')"
   ]
  },
  {
   "cell_type": "code",
   "execution_count": 114,
   "metadata": {},
   "outputs": [
    {
     "data": {
      "text/plain": [
       "Index(['Item_Identifier', 'Item_Weight', 'Item_Fat_Content', 'Item_Visibility',\n",
       "       'Item_Type', 'Item_MRP', 'Outlet_Identifier',\n",
       "       'Outlet_Establishment_Year', 'Outlet_Size', 'Outlet_Location_Type',\n",
       "       'Outlet_Type', 'Item_Outlet_Sales'],\n",
       "      dtype='object')"
      ]
     },
     "execution_count": 114,
     "metadata": {},
     "output_type": "execute_result"
    }
   ],
   "source": [
    "train_data.columns"
   ]
  },
  {
   "cell_type": "code",
   "execution_count": 115,
   "metadata": {},
   "outputs": [
    {
     "data": {
      "text/plain": [
       "Index(['Item_Identifier', 'Item_Weight', 'Item_Fat_Content', 'Item_Visibility',\n",
       "       'Item_Type', 'Item_MRP', 'Outlet_Identifier',\n",
       "       'Outlet_Establishment_Year', 'Outlet_Size', 'Outlet_Location_Type',\n",
       "       'Outlet_Type'],\n",
       "      dtype='object')"
      ]
     },
     "execution_count": 115,
     "metadata": {},
     "output_type": "execute_result"
    }
   ],
   "source": [
    "test_data.columns"
   ]
  },
  {
   "cell_type": "code",
   "execution_count": 116,
   "metadata": {},
   "outputs": [
    {
     "data": {
      "text/html": [
       "<div>\n",
       "<style scoped>\n",
       "    .dataframe tbody tr th:only-of-type {\n",
       "        vertical-align: middle;\n",
       "    }\n",
       "\n",
       "    .dataframe tbody tr th {\n",
       "        vertical-align: top;\n",
       "    }\n",
       "\n",
       "    .dataframe thead th {\n",
       "        text-align: right;\n",
       "    }\n",
       "</style>\n",
       "<table border=\"1\" class=\"dataframe\">\n",
       "  <thead>\n",
       "    <tr style=\"text-align: right;\">\n",
       "      <th></th>\n",
       "      <th>Item_Identifier</th>\n",
       "      <th>Item_Weight</th>\n",
       "      <th>Item_Fat_Content</th>\n",
       "      <th>Item_Visibility</th>\n",
       "      <th>Item_Type</th>\n",
       "      <th>Item_MRP</th>\n",
       "      <th>Outlet_Identifier</th>\n",
       "      <th>Outlet_Establishment_Year</th>\n",
       "      <th>Outlet_Size</th>\n",
       "      <th>Outlet_Location_Type</th>\n",
       "      <th>Outlet_Type</th>\n",
       "      <th>Item_Outlet_Sales</th>\n",
       "    </tr>\n",
       "  </thead>\n",
       "  <tbody>\n",
       "    <tr>\n",
       "      <th>0</th>\n",
       "      <td>FDA15</td>\n",
       "      <td>9.300</td>\n",
       "      <td>Low Fat</td>\n",
       "      <td>0.016047</td>\n",
       "      <td>Dairy</td>\n",
       "      <td>249.8092</td>\n",
       "      <td>OUT049</td>\n",
       "      <td>1999</td>\n",
       "      <td>Medium</td>\n",
       "      <td>Tier 1</td>\n",
       "      <td>Supermarket Type1</td>\n",
       "      <td>3735.1380</td>\n",
       "    </tr>\n",
       "    <tr>\n",
       "      <th>1</th>\n",
       "      <td>DRC01</td>\n",
       "      <td>5.920</td>\n",
       "      <td>Regular</td>\n",
       "      <td>0.019278</td>\n",
       "      <td>Soft Drinks</td>\n",
       "      <td>48.2692</td>\n",
       "      <td>OUT018</td>\n",
       "      <td>2009</td>\n",
       "      <td>Medium</td>\n",
       "      <td>Tier 3</td>\n",
       "      <td>Supermarket Type2</td>\n",
       "      <td>443.4228</td>\n",
       "    </tr>\n",
       "    <tr>\n",
       "      <th>2</th>\n",
       "      <td>FDN15</td>\n",
       "      <td>17.500</td>\n",
       "      <td>Low Fat</td>\n",
       "      <td>0.016760</td>\n",
       "      <td>Meat</td>\n",
       "      <td>141.6180</td>\n",
       "      <td>OUT049</td>\n",
       "      <td>1999</td>\n",
       "      <td>Medium</td>\n",
       "      <td>Tier 1</td>\n",
       "      <td>Supermarket Type1</td>\n",
       "      <td>2097.2700</td>\n",
       "    </tr>\n",
       "    <tr>\n",
       "      <th>3</th>\n",
       "      <td>FDX07</td>\n",
       "      <td>19.200</td>\n",
       "      <td>Regular</td>\n",
       "      <td>0.000000</td>\n",
       "      <td>Fruits and Vegetables</td>\n",
       "      <td>182.0950</td>\n",
       "      <td>OUT010</td>\n",
       "      <td>1998</td>\n",
       "      <td>NaN</td>\n",
       "      <td>Tier 3</td>\n",
       "      <td>Grocery Store</td>\n",
       "      <td>732.3800</td>\n",
       "    </tr>\n",
       "    <tr>\n",
       "      <th>4</th>\n",
       "      <td>NCD19</td>\n",
       "      <td>8.930</td>\n",
       "      <td>Low Fat</td>\n",
       "      <td>0.000000</td>\n",
       "      <td>Household</td>\n",
       "      <td>53.8614</td>\n",
       "      <td>OUT013</td>\n",
       "      <td>1987</td>\n",
       "      <td>High</td>\n",
       "      <td>Tier 3</td>\n",
       "      <td>Supermarket Type1</td>\n",
       "      <td>994.7052</td>\n",
       "    </tr>\n",
       "    <tr>\n",
       "      <th>5</th>\n",
       "      <td>FDP36</td>\n",
       "      <td>10.395</td>\n",
       "      <td>Regular</td>\n",
       "      <td>0.000000</td>\n",
       "      <td>Baking Goods</td>\n",
       "      <td>51.4008</td>\n",
       "      <td>OUT018</td>\n",
       "      <td>2009</td>\n",
       "      <td>Medium</td>\n",
       "      <td>Tier 3</td>\n",
       "      <td>Supermarket Type2</td>\n",
       "      <td>556.6088</td>\n",
       "    </tr>\n",
       "    <tr>\n",
       "      <th>6</th>\n",
       "      <td>FDO10</td>\n",
       "      <td>13.650</td>\n",
       "      <td>Regular</td>\n",
       "      <td>0.012741</td>\n",
       "      <td>Snack Foods</td>\n",
       "      <td>57.6588</td>\n",
       "      <td>OUT013</td>\n",
       "      <td>1987</td>\n",
       "      <td>High</td>\n",
       "      <td>Tier 3</td>\n",
       "      <td>Supermarket Type1</td>\n",
       "      <td>343.5528</td>\n",
       "    </tr>\n",
       "    <tr>\n",
       "      <th>7</th>\n",
       "      <td>FDP10</td>\n",
       "      <td>NaN</td>\n",
       "      <td>Low Fat</td>\n",
       "      <td>0.127470</td>\n",
       "      <td>Snack Foods</td>\n",
       "      <td>107.7622</td>\n",
       "      <td>OUT027</td>\n",
       "      <td>1985</td>\n",
       "      <td>Medium</td>\n",
       "      <td>Tier 3</td>\n",
       "      <td>Supermarket Type3</td>\n",
       "      <td>4022.7636</td>\n",
       "    </tr>\n",
       "    <tr>\n",
       "      <th>8</th>\n",
       "      <td>FDH17</td>\n",
       "      <td>16.200</td>\n",
       "      <td>Regular</td>\n",
       "      <td>0.016687</td>\n",
       "      <td>Frozen Foods</td>\n",
       "      <td>96.9726</td>\n",
       "      <td>OUT045</td>\n",
       "      <td>2002</td>\n",
       "      <td>NaN</td>\n",
       "      <td>Tier 2</td>\n",
       "      <td>Supermarket Type1</td>\n",
       "      <td>1076.5986</td>\n",
       "    </tr>\n",
       "    <tr>\n",
       "      <th>9</th>\n",
       "      <td>FDU28</td>\n",
       "      <td>19.200</td>\n",
       "      <td>Regular</td>\n",
       "      <td>0.094450</td>\n",
       "      <td>Frozen Foods</td>\n",
       "      <td>187.8214</td>\n",
       "      <td>OUT017</td>\n",
       "      <td>2007</td>\n",
       "      <td>NaN</td>\n",
       "      <td>Tier 2</td>\n",
       "      <td>Supermarket Type1</td>\n",
       "      <td>4710.5350</td>\n",
       "    </tr>\n",
       "  </tbody>\n",
       "</table>\n",
       "</div>"
      ],
      "text/plain": [
       "  Item_Identifier  Item_Weight Item_Fat_Content  Item_Visibility  \\\n",
       "0           FDA15        9.300          Low Fat         0.016047   \n",
       "1           DRC01        5.920          Regular         0.019278   \n",
       "2           FDN15       17.500          Low Fat         0.016760   \n",
       "3           FDX07       19.200          Regular         0.000000   \n",
       "4           NCD19        8.930          Low Fat         0.000000   \n",
       "5           FDP36       10.395          Regular         0.000000   \n",
       "6           FDO10       13.650          Regular         0.012741   \n",
       "7           FDP10          NaN          Low Fat         0.127470   \n",
       "8           FDH17       16.200          Regular         0.016687   \n",
       "9           FDU28       19.200          Regular         0.094450   \n",
       "\n",
       "               Item_Type  Item_MRP Outlet_Identifier  \\\n",
       "0                  Dairy  249.8092            OUT049   \n",
       "1            Soft Drinks   48.2692            OUT018   \n",
       "2                   Meat  141.6180            OUT049   \n",
       "3  Fruits and Vegetables  182.0950            OUT010   \n",
       "4              Household   53.8614            OUT013   \n",
       "5           Baking Goods   51.4008            OUT018   \n",
       "6            Snack Foods   57.6588            OUT013   \n",
       "7            Snack Foods  107.7622            OUT027   \n",
       "8           Frozen Foods   96.9726            OUT045   \n",
       "9           Frozen Foods  187.8214            OUT017   \n",
       "\n",
       "   Outlet_Establishment_Year Outlet_Size Outlet_Location_Type  \\\n",
       "0                       1999      Medium               Tier 1   \n",
       "1                       2009      Medium               Tier 3   \n",
       "2                       1999      Medium               Tier 1   \n",
       "3                       1998         NaN               Tier 3   \n",
       "4                       1987        High               Tier 3   \n",
       "5                       2009      Medium               Tier 3   \n",
       "6                       1987        High               Tier 3   \n",
       "7                       1985      Medium               Tier 3   \n",
       "8                       2002         NaN               Tier 2   \n",
       "9                       2007         NaN               Tier 2   \n",
       "\n",
       "         Outlet_Type  Item_Outlet_Sales  \n",
       "0  Supermarket Type1          3735.1380  \n",
       "1  Supermarket Type2           443.4228  \n",
       "2  Supermarket Type1          2097.2700  \n",
       "3      Grocery Store           732.3800  \n",
       "4  Supermarket Type1           994.7052  \n",
       "5  Supermarket Type2           556.6088  \n",
       "6  Supermarket Type1           343.5528  \n",
       "7  Supermarket Type3          4022.7636  \n",
       "8  Supermarket Type1          1076.5986  \n",
       "9  Supermarket Type1          4710.5350  "
      ]
     },
     "execution_count": 116,
     "metadata": {},
     "output_type": "execute_result"
    }
   ],
   "source": [
    "train_data.head(10)"
   ]
  },
  {
   "cell_type": "code",
   "execution_count": 117,
   "metadata": {
    "scrolled": true
   },
   "outputs": [
    {
     "data": {
      "text/html": [
       "<div>\n",
       "<style scoped>\n",
       "    .dataframe tbody tr th:only-of-type {\n",
       "        vertical-align: middle;\n",
       "    }\n",
       "\n",
       "    .dataframe tbody tr th {\n",
       "        vertical-align: top;\n",
       "    }\n",
       "\n",
       "    .dataframe thead th {\n",
       "        text-align: right;\n",
       "    }\n",
       "</style>\n",
       "<table border=\"1\" class=\"dataframe\">\n",
       "  <thead>\n",
       "    <tr style=\"text-align: right;\">\n",
       "      <th></th>\n",
       "      <th>Item_Weight</th>\n",
       "      <th>Item_Visibility</th>\n",
       "      <th>Item_MRP</th>\n",
       "      <th>Outlet_Establishment_Year</th>\n",
       "      <th>Item_Outlet_Sales</th>\n",
       "    </tr>\n",
       "  </thead>\n",
       "  <tbody>\n",
       "    <tr>\n",
       "      <th>count</th>\n",
       "      <td>7060.000000</td>\n",
       "      <td>8523.000000</td>\n",
       "      <td>8523.000000</td>\n",
       "      <td>8523.000000</td>\n",
       "      <td>8523.000000</td>\n",
       "    </tr>\n",
       "    <tr>\n",
       "      <th>mean</th>\n",
       "      <td>12.857645</td>\n",
       "      <td>0.066132</td>\n",
       "      <td>140.992782</td>\n",
       "      <td>1997.831867</td>\n",
       "      <td>2181.288914</td>\n",
       "    </tr>\n",
       "    <tr>\n",
       "      <th>std</th>\n",
       "      <td>4.643456</td>\n",
       "      <td>0.051598</td>\n",
       "      <td>62.275067</td>\n",
       "      <td>8.371760</td>\n",
       "      <td>1706.499616</td>\n",
       "    </tr>\n",
       "    <tr>\n",
       "      <th>min</th>\n",
       "      <td>4.555000</td>\n",
       "      <td>0.000000</td>\n",
       "      <td>31.290000</td>\n",
       "      <td>1985.000000</td>\n",
       "      <td>33.290000</td>\n",
       "    </tr>\n",
       "    <tr>\n",
       "      <th>25%</th>\n",
       "      <td>8.773750</td>\n",
       "      <td>0.026989</td>\n",
       "      <td>93.826500</td>\n",
       "      <td>1987.000000</td>\n",
       "      <td>834.247400</td>\n",
       "    </tr>\n",
       "    <tr>\n",
       "      <th>50%</th>\n",
       "      <td>12.600000</td>\n",
       "      <td>0.053931</td>\n",
       "      <td>143.012800</td>\n",
       "      <td>1999.000000</td>\n",
       "      <td>1794.331000</td>\n",
       "    </tr>\n",
       "    <tr>\n",
       "      <th>75%</th>\n",
       "      <td>16.850000</td>\n",
       "      <td>0.094585</td>\n",
       "      <td>185.643700</td>\n",
       "      <td>2004.000000</td>\n",
       "      <td>3101.296400</td>\n",
       "    </tr>\n",
       "    <tr>\n",
       "      <th>max</th>\n",
       "      <td>21.350000</td>\n",
       "      <td>0.328391</td>\n",
       "      <td>266.888400</td>\n",
       "      <td>2009.000000</td>\n",
       "      <td>13086.964800</td>\n",
       "    </tr>\n",
       "  </tbody>\n",
       "</table>\n",
       "</div>"
      ],
      "text/plain": [
       "       Item_Weight  Item_Visibility     Item_MRP  Outlet_Establishment_Year  \\\n",
       "count  7060.000000      8523.000000  8523.000000                8523.000000   \n",
       "mean     12.857645         0.066132   140.992782                1997.831867   \n",
       "std       4.643456         0.051598    62.275067                   8.371760   \n",
       "min       4.555000         0.000000    31.290000                1985.000000   \n",
       "25%       8.773750         0.026989    93.826500                1987.000000   \n",
       "50%      12.600000         0.053931   143.012800                1999.000000   \n",
       "75%      16.850000         0.094585   185.643700                2004.000000   \n",
       "max      21.350000         0.328391   266.888400                2009.000000   \n",
       "\n",
       "       Item_Outlet_Sales  \n",
       "count        8523.000000  \n",
       "mean         2181.288914  \n",
       "std          1706.499616  \n",
       "min            33.290000  \n",
       "25%           834.247400  \n",
       "50%          1794.331000  \n",
       "75%          3101.296400  \n",
       "max         13086.964800  "
      ]
     },
     "execution_count": 117,
     "metadata": {},
     "output_type": "execute_result"
    }
   ],
   "source": [
    "train_data.describe()"
   ]
  },
  {
   "cell_type": "markdown",
   "metadata": {},
   "source": [
    "Observations:\n",
    "    from the above description of data, we can see that nominal skewness and present in columns like Item_Weight, Item_Visibility."
   ]
  },
  {
   "cell_type": "code",
   "execution_count": 118,
   "metadata": {
    "scrolled": true
   },
   "outputs": [
    {
     "data": {
      "text/plain": [
       "Item_Identifier                 0\n",
       "Item_Weight                  1463\n",
       "Item_Fat_Content                0\n",
       "Item_Visibility                 0\n",
       "Item_Type                       0\n",
       "Item_MRP                        0\n",
       "Outlet_Identifier               0\n",
       "Outlet_Establishment_Year       0\n",
       "Outlet_Size                  2410\n",
       "Outlet_Location_Type            0\n",
       "Outlet_Type                     0\n",
       "Item_Outlet_Sales               0\n",
       "dtype: int64"
      ]
     },
     "execution_count": 118,
     "metadata": {},
     "output_type": "execute_result"
    }
   ],
   "source": [
    "#checking for null values:\n",
    "\n",
    "train_data.isnull().sum()\n"
   ]
  },
  {
   "cell_type": "markdown",
   "metadata": {},
   "source": [
    "Observations:\n",
    "    \n",
    "    There are null values present in columns like Item_Weight, and Outlet_Size"
   ]
  },
  {
   "cell_type": "code",
   "execution_count": 119,
   "metadata": {},
   "outputs": [
    {
     "data": {
      "text/plain": [
       "<matplotlib.axes._subplots.AxesSubplot at 0x179b0023f48>"
      ]
     },
     "execution_count": 119,
     "metadata": {},
     "output_type": "execute_result"
    },
    {
     "data": {
      "image/png": "[encoded data removed]",
      "text/plain": [
       "<Figure size 432x288 with 2 Axes>"
      ]
     },
     "metadata": {
      "needs_background": "light"
     },
     "output_type": "display_data"
    }
   ],
   "source": [
    "#checking null values with the help of heatmap plot\n",
    "\n",
    "sns.heatmap(train_data.isnull())"
   ]
  },
  {
   "cell_type": "markdown",
   "metadata": {},
   "source": [
    "Observations:\n",
    "\n",
    "We can see there are null values in 'Item_Weight' and 'Outlet_Size' column"
   ]
  },
  {
   "cell_type": "code",
   "execution_count": 120,
   "metadata": {},
   "outputs": [
    {
     "data": {
      "text/plain": [
       "array(['Low Fat', 'Regular', 'low fat', 'LF', 'reg'], dtype=object)"
      ]
     },
     "execution_count": 120,
     "metadata": {},
     "output_type": "execute_result"
    }
   ],
   "source": [
    "train_data['Item_Fat_Content'].unique()"
   ]
  },
  {
   "cell_type": "markdown",
   "metadata": {},
   "source": [
    "Observations:\n",
    "    \n",
    "    There are miss spelling and multiple names for same categorical data, which will create problem while making model.\n",
    "    We need to create one category for same categorical miss spells, like 'Low Fat' for Low fat and LF types and Regular for reg types"
   ]
  },
  {
   "cell_type": "code",
   "execution_count": 121,
   "metadata": {},
   "outputs": [],
   "source": [
    "#replacing spell mistakes and organizing proper categories:\n",
    "\n",
    "train_data['Item_Fat_Content'].replace(['low fat','LF','reg'],['Low Fat','Low Fat','Regular'],inplace = True)\n",
    "test_data['Item_Fat_Content'].replace(['low fat','LF','reg'],['Low Fat','Low Fat','Regular'],inplace = True)"
   ]
  },
  {
   "cell_type": "markdown",
   "metadata": {},
   "source": [
    "checking for various categories in the columns:"
   ]
  },
  {
   "cell_type": "code",
   "execution_count": 122,
   "metadata": {},
   "outputs": [
    {
     "data": {
      "text/plain": [
       "array(['Low Fat', 'Regular'], dtype=object)"
      ]
     },
     "execution_count": 122,
     "metadata": {},
     "output_type": "execute_result"
    }
   ],
   "source": [
    "train_data['Item_Fat_Content'].unique()"
   ]
  },
  {
   "cell_type": "code",
   "execution_count": 123,
   "metadata": {},
   "outputs": [
    {
     "data": {
      "text/plain": [
       "array(['Dairy', 'Soft Drinks', 'Meat', 'Fruits and Vegetables',\n",
       "       'Household', 'Baking Goods', 'Snack Foods', 'Frozen Foods',\n",
       "       'Breakfast', 'Health and Hygiene', 'Hard Drinks', 'Canned',\n",
       "       'Breads', 'Starchy Foods', 'Others', 'Seafood'], dtype=object)"
      ]
     },
     "execution_count": 123,
     "metadata": {},
     "output_type": "execute_result"
    }
   ],
   "source": [
    "train_data['Item_Type'].unique()"
   ]
  },
  {
   "cell_type": "code",
   "execution_count": 124,
   "metadata": {
    "scrolled": true
   },
   "outputs": [
    {
     "data": {
      "text/plain": [
       "array(['OUT049', 'OUT018', 'OUT010', 'OUT013', 'OUT027', 'OUT045',\n",
       "       'OUT017', 'OUT046', 'OUT035', 'OUT019'], dtype=object)"
      ]
     },
     "execution_count": 124,
     "metadata": {},
     "output_type": "execute_result"
    }
   ],
   "source": [
    "train_data['Outlet_Identifier'].unique()"
   ]
  },
  {
   "cell_type": "code",
   "execution_count": 125,
   "metadata": {
    "scrolled": true
   },
   "outputs": [
    {
     "data": {
      "text/plain": [
       "array(['Medium', nan, 'High', 'Small'], dtype=object)"
      ]
     },
     "execution_count": 125,
     "metadata": {},
     "output_type": "execute_result"
    }
   ],
   "source": [
    "train_data['Outlet_Size'].unique()\n"
   ]
  },
  {
   "cell_type": "code",
   "execution_count": 126,
   "metadata": {
    "scrolled": true
   },
   "outputs": [
    {
     "data": {
      "text/plain": [
       "Medium    2793\n",
       "Small     2388\n",
       "High       932\n",
       "Name: Outlet_Size, dtype: int64"
      ]
     },
     "execution_count": 126,
     "metadata": {},
     "output_type": "execute_result"
    }
   ],
   "source": [
    "train_data['Outlet_Size'].value_counts()"
   ]
  },
  {
   "cell_type": "code",
   "execution_count": 127,
   "metadata": {},
   "outputs": [
    {
     "data": {
      "text/plain": [
       "0    Medium\n",
       "dtype: object"
      ]
     },
     "execution_count": 127,
     "metadata": {},
     "output_type": "execute_result"
    }
   ],
   "source": [
    "train_data['Outlet_Size'].mode()\n"
   ]
  },
  {
   "cell_type": "markdown",
   "metadata": {},
   "source": [
    "Observations:\n",
    "    \n",
    "    We can see that there are null values in the Outlet_Size, we can deal with this by replacing null values with the mode values, as these are categorical data."
   ]
  },
  {
   "cell_type": "code",
   "execution_count": 128,
   "metadata": {},
   "outputs": [],
   "source": [
    "# replacing missing values in the Outlet_Size column by mode value:\n",
    "\n",
    "big_data_sales = [train_data, test_data]\n",
    "\n",
    "for data in big_data_sales:\n",
    "    data['Outlet_Size'].fillna('Medium', inplace=True)"
   ]
  },
  {
   "cell_type": "code",
   "execution_count": 129,
   "metadata": {},
   "outputs": [
    {
     "data": {
      "text/plain": [
       "Medium    5203\n",
       "Small     2388\n",
       "High       932\n",
       "Name: Outlet_Size, dtype: int64"
      ]
     },
     "execution_count": 129,
     "metadata": {},
     "output_type": "execute_result"
    }
   ],
   "source": [
    "train_data['Outlet_Size'].value_counts()"
   ]
  },
  {
   "cell_type": "code",
   "execution_count": 130,
   "metadata": {},
   "outputs": [],
   "source": [
    "# dealing with the missing values of 'Item_Weight'\n",
    "# replacing missing values with the mean values:\n",
    "big_data_sales = [train_data, test_data]\n",
    "\n",
    "for data in big_data_sales:\n",
    "    data['Item_Weight'].fillna(data['Item_Weight'].mean(), inplace=True)"
   ]
  },
  {
   "cell_type": "code",
   "execution_count": 131,
   "metadata": {},
   "outputs": [
    {
     "data": {
      "text/plain": [
       "0"
      ]
     },
     "execution_count": 131,
     "metadata": {},
     "output_type": "execute_result"
    }
   ],
   "source": [
    "# again confirming weather the null values been replaced or not.\n",
    "train_data['Item_Weight'].isnull().sum()"
   ]
  },
  {
   "cell_type": "code",
   "execution_count": 132,
   "metadata": {},
   "outputs": [
    {
     "data": {
      "text/plain": [
       "array(['Tier 1', 'Tier 3', 'Tier 2'], dtype=object)"
      ]
     },
     "execution_count": 132,
     "metadata": {},
     "output_type": "execute_result"
    }
   ],
   "source": [
    "train_data['Outlet_Location_Type'].unique()\n"
   ]
  },
  {
   "cell_type": "code",
   "execution_count": 133,
   "metadata": {},
   "outputs": [
    {
     "data": {
      "text/plain": [
       "array(['Supermarket Type1', 'Supermarket Type2', 'Grocery Store',\n",
       "       'Supermarket Type3'], dtype=object)"
      ]
     },
     "execution_count": 133,
     "metadata": {},
     "output_type": "execute_result"
    }
   ],
   "source": [
    "train_data['Outlet_Type'].unique()\n"
   ]
  },
  {
   "cell_type": "code",
   "execution_count": 134,
   "metadata": {},
   "outputs": [
    {
     "data": {
      "text/plain": [
       "<matplotlib.axes._subplots.AxesSubplot at 0x179afdb9c48>"
      ]
     },
     "execution_count": 134,
     "metadata": {},
     "output_type": "execute_result"
    },
    {
     "data": {
      "image/png": "[encoded data removed]",
      "text/plain": [
       "<Figure size 432x288 with 2 Axes>"
      ]
     },
     "metadata": {
      "needs_background": "light"
     },
     "output_type": "display_data"
    }
   ],
   "source": [
    "sns.heatmap(train_data.isnull())"
   ]
  },
  {
   "cell_type": "markdown",
   "metadata": {},
   "source": [
    "observations:\n",
    "\n",
    "Now we can see that there are no null values in the dataset."
   ]
  },
  {
   "cell_type": "markdown",
   "metadata": {},
   "source": [
    "# Checking Skewness"
   ]
  },
  {
   "cell_type": "code",
   "execution_count": 135,
   "metadata": {},
   "outputs": [
    {
     "data": {
      "text/plain": [
       "<matplotlib.axes._subplots.AxesSubplot at 0x179b0118c48>"
      ]
     },
     "execution_count": 135,
     "metadata": {},
     "output_type": "execute_result"
    },
    {
     "data": {
      "image/png": "[encoded data removed]",
      "text/plain": [
       "<Figure size 432x288 with 1 Axes>"
      ]
     },
     "metadata": {
      "needs_background": "light"
     },
     "output_type": "display_data"
    }
   ],
   "source": [
    "sns.distplot(train_data['Item_Weight'])"
   ]
  },
  {
   "cell_type": "code",
   "execution_count": 136,
   "metadata": {},
   "outputs": [
    {
     "data": {
      "text/plain": [
       "<matplotlib.axes._subplots.AxesSubplot at 0x179b0118a08>"
      ]
     },
     "execution_count": 136,
     "metadata": {},
     "output_type": "execute_result"
    },
    {
     "data": {
      "image/png": "[encoded data removed]",
      "text/plain": [
       "<Figure size 432x288 with 1 Axes>"
      ]
     },
     "metadata": {
      "needs_background": "light"
     },
     "output_type": "display_data"
    }
   ],
   "source": [
    "sns.distplot(train_data['Item_Visibility'])"
   ]
  },
  {
   "cell_type": "code",
   "execution_count": 137,
   "metadata": {},
   "outputs": [
    {
     "data": {
      "text/plain": [
       "<matplotlib.axes._subplots.AxesSubplot at 0x179b0dcecc8>"
      ]
     },
     "execution_count": 137,
     "metadata": {},
     "output_type": "execute_result"
    },
    {
     "data": {
      "image/png": "[encoded data removed]",
      "text/plain": [
       "<Figure size 432x288 with 1 Axes>"
      ]
     },
     "metadata": {
      "needs_background": "light"
     },
     "output_type": "display_data"
    }
   ],
   "source": [
    "sns.distplot(train_data['Item_MRP'])"
   ]
  },
  {
   "cell_type": "markdown",
   "metadata": {},
   "source": [
    "Observations:\n",
    "    \n",
    "    from the above dist plots we can say there are skewness present in the dataset, in columns like Item_Weight and Item_Visibility."
   ]
  },
  {
   "cell_type": "markdown",
   "metadata": {},
   "source": [
    "# Checking Outliers:"
   ]
  },
  {
   "cell_type": "code",
   "execution_count": 138,
   "metadata": {},
   "outputs": [
    {
     "data": {
      "text/plain": [
       "<matplotlib.axes._subplots.AxesSubplot at 0x179b0ea7688>"
      ]
     },
     "execution_count": 138,
     "metadata": {},
     "output_type": "execute_result"
    },
    {
     "data": {
      "image/png": "[encoded data removed]",
      "text/plain": [
       "<Figure size 432x288 with 1 Axes>"
      ]
     },
     "metadata": {
      "needs_background": "light"
     },
     "output_type": "display_data"
    }
   ],
   "source": [
    "sns.boxplot(train_data['Item_Visibility'])"
   ]
  },
  {
   "cell_type": "code",
   "execution_count": 139,
   "metadata": {},
   "outputs": [
    {
     "data": {
      "text/plain": [
       "<matplotlib.axes._subplots.AxesSubplot at 0x179b0efda88>"
      ]
     },
     "execution_count": 139,
     "metadata": {},
     "output_type": "execute_result"
    },
    {
     "data": {
      "image/png": "[encoded data removed]",
      "text/plain": [
       "<Figure size 432x288 with 1 Axes>"
      ]
     },
     "metadata": {
      "needs_background": "light"
     },
     "output_type": "display_data"
    }
   ],
   "source": [
    "sns.boxplot(train_data['Item_MRP'])"
   ]
  },
  {
   "cell_type": "markdown",
   "metadata": {},
   "source": [
    "Observations:\n",
    "    \n",
    "    we can say there are outliers present in Item_Visibility column.\n",
    "    "
   ]
  },
  {
   "cell_type": "code",
   "execution_count": 140,
   "metadata": {},
   "outputs": [],
   "source": [
    "# Dealing with the 'Outlet_Establishment_Year' column, as year of establishment is given, we need to convert into relevant information by converting it into number of years old it is with respect to 2013 datasets.\n",
    "\n",
    "train_data['num_years'] = train_data['Outlet_Establishment_Year'].apply(lambda x: 2013 - x) \n",
    "test_data['num_years'] = test_data['Outlet_Establishment_Year'].apply(lambda x: 2013 - x)"
   ]
  },
  {
   "cell_type": "code",
   "execution_count": 141,
   "metadata": {
    "scrolled": true
   },
   "outputs": [
    {
     "data": {
      "text/html": [
       "<div>\n",
       "<style scoped>\n",
       "    .dataframe tbody tr th:only-of-type {\n",
       "        vertical-align: middle;\n",
       "    }\n",
       "\n",
       "    .dataframe tbody tr th {\n",
       "        vertical-align: top;\n",
       "    }\n",
       "\n",
       "    .dataframe thead th {\n",
       "        text-align: right;\n",
       "    }\n",
       "</style>\n",
       "<table border=\"1\" class=\"dataframe\">\n",
       "  <thead>\n",
       "    <tr style=\"text-align: right;\">\n",
       "      <th></th>\n",
       "      <th>Item_Identifier</th>\n",
       "      <th>Item_Weight</th>\n",
       "      <th>Item_Fat_Content</th>\n",
       "      <th>Item_Visibility</th>\n",
       "      <th>Item_Type</th>\n",
       "      <th>Item_MRP</th>\n",
       "      <th>Outlet_Identifier</th>\n",
       "      <th>Outlet_Establishment_Year</th>\n",
       "      <th>Outlet_Size</th>\n",
       "      <th>Outlet_Location_Type</th>\n",
       "      <th>Outlet_Type</th>\n",
       "      <th>Item_Outlet_Sales</th>\n",
       "      <th>num_years</th>\n",
       "    </tr>\n",
       "  </thead>\n",
       "  <tbody>\n",
       "    <tr>\n",
       "      <th>0</th>\n",
       "      <td>FDA15</td>\n",
       "      <td>9.30</td>\n",
       "      <td>Low Fat</td>\n",
       "      <td>0.016047</td>\n",
       "      <td>Dairy</td>\n",
       "      <td>249.8092</td>\n",
       "      <td>OUT049</td>\n",
       "      <td>1999</td>\n",
       "      <td>Medium</td>\n",
       "      <td>Tier 1</td>\n",
       "      <td>Supermarket Type1</td>\n",
       "      <td>3735.1380</td>\n",
       "      <td>14</td>\n",
       "    </tr>\n",
       "    <tr>\n",
       "      <th>1</th>\n",
       "      <td>DRC01</td>\n",
       "      <td>5.92</td>\n",
       "      <td>Regular</td>\n",
       "      <td>0.019278</td>\n",
       "      <td>Soft Drinks</td>\n",
       "      <td>48.2692</td>\n",
       "      <td>OUT018</td>\n",
       "      <td>2009</td>\n",
       "      <td>Medium</td>\n",
       "      <td>Tier 3</td>\n",
       "      <td>Supermarket Type2</td>\n",
       "      <td>443.4228</td>\n",
       "      <td>4</td>\n",
       "    </tr>\n",
       "    <tr>\n",
       "      <th>2</th>\n",
       "      <td>FDN15</td>\n",
       "      <td>17.50</td>\n",
       "      <td>Low Fat</td>\n",
       "      <td>0.016760</td>\n",
       "      <td>Meat</td>\n",
       "      <td>141.6180</td>\n",
       "      <td>OUT049</td>\n",
       "      <td>1999</td>\n",
       "      <td>Medium</td>\n",
       "      <td>Tier 1</td>\n",
       "      <td>Supermarket Type1</td>\n",
       "      <td>2097.2700</td>\n",
       "      <td>14</td>\n",
       "    </tr>\n",
       "    <tr>\n",
       "      <th>3</th>\n",
       "      <td>FDX07</td>\n",
       "      <td>19.20</td>\n",
       "      <td>Regular</td>\n",
       "      <td>0.000000</td>\n",
       "      <td>Fruits and Vegetables</td>\n",
       "      <td>182.0950</td>\n",
       "      <td>OUT010</td>\n",
       "      <td>1998</td>\n",
       "      <td>Medium</td>\n",
       "      <td>Tier 3</td>\n",
       "      <td>Grocery Store</td>\n",
       "      <td>732.3800</td>\n",
       "      <td>15</td>\n",
       "    </tr>\n",
       "    <tr>\n",
       "      <th>4</th>\n",
       "      <td>NCD19</td>\n",
       "      <td>8.93</td>\n",
       "      <td>Low Fat</td>\n",
       "      <td>0.000000</td>\n",
       "      <td>Household</td>\n",
       "      <td>53.8614</td>\n",
       "      <td>OUT013</td>\n",
       "      <td>1987</td>\n",
       "      <td>High</td>\n",
       "      <td>Tier 3</td>\n",
       "      <td>Supermarket Type1</td>\n",
       "      <td>994.7052</td>\n",
       "      <td>26</td>\n",
       "    </tr>\n",
       "  </tbody>\n",
       "</table>\n",
       "</div>"
      ],
      "text/plain": [
       "  Item_Identifier  Item_Weight Item_Fat_Content  Item_Visibility  \\\n",
       "0           FDA15         9.30          Low Fat         0.016047   \n",
       "1           DRC01         5.92          Regular         0.019278   \n",
       "2           FDN15        17.50          Low Fat         0.016760   \n",
       "3           FDX07        19.20          Regular         0.000000   \n",
       "4           NCD19         8.93          Low Fat         0.000000   \n",
       "\n",
       "               Item_Type  Item_MRP Outlet_Identifier  \\\n",
       "0                  Dairy  249.8092            OUT049   \n",
       "1            Soft Drinks   48.2692            OUT018   \n",
       "2                   Meat  141.6180            OUT049   \n",
       "3  Fruits and Vegetables  182.0950            OUT010   \n",
       "4              Household   53.8614            OUT013   \n",
       "\n",
       "   Outlet_Establishment_Year Outlet_Size Outlet_Location_Type  \\\n",
       "0                       1999      Medium               Tier 1   \n",
       "1                       2009      Medium               Tier 3   \n",
       "2                       1999      Medium               Tier 1   \n",
       "3                       1998      Medium               Tier 3   \n",
       "4                       1987        High               Tier 3   \n",
       "\n",
       "         Outlet_Type  Item_Outlet_Sales  num_years  \n",
       "0  Supermarket Type1          3735.1380         14  \n",
       "1  Supermarket Type2           443.4228          4  \n",
       "2  Supermarket Type1          2097.2700         14  \n",
       "3      Grocery Store           732.3800         15  \n",
       "4  Supermarket Type1           994.7052         26  "
      ]
     },
     "execution_count": 141,
     "metadata": {},
     "output_type": "execute_result"
    }
   ],
   "source": [
    "train_data.head()"
   ]
  },
  {
   "cell_type": "markdown",
   "metadata": {},
   "source": [
    "# Dropping Irrelevant columns"
   ]
  },
  {
   "cell_type": "code",
   "execution_count": 142,
   "metadata": {},
   "outputs": [],
   "source": [
    "train_data = train_data.drop(['Outlet_Establishment_Year'], axis=1)"
   ]
  },
  {
   "cell_type": "code",
   "execution_count": 143,
   "metadata": {},
   "outputs": [],
   "source": [
    "test_data = test_data.drop(['Outlet_Establishment_Year'], axis=1)"
   ]
  },
  {
   "cell_type": "code",
   "execution_count": 144,
   "metadata": {},
   "outputs": [],
   "source": [
    "#train_data = train_data.drop(['Item_Identifier'], axis=1)\n",
    "#test_data = test_data.drop(['Item_Identifier'], axis=1)"
   ]
  },
  {
   "cell_type": "code",
   "execution_count": 145,
   "metadata": {},
   "outputs": [
    {
     "data": {
      "text/plain": [
       "FDG33    10\n",
       "FDW13    10\n",
       "NCL31     9\n",
       "NCB18     9\n",
       "NCF42     9\n",
       "         ..\n",
       "FDQ60     1\n",
       "FDO33     1\n",
       "FDC23     1\n",
       "FDY43     1\n",
       "FDE52     1\n",
       "Name: Item_Identifier, Length: 1559, dtype: int64"
      ]
     },
     "execution_count": 145,
     "metadata": {},
     "output_type": "execute_result"
    }
   ],
   "source": [
    "train_data['Item_Identifier'].value_counts()"
   ]
  },
  {
   "cell_type": "code",
   "execution_count": 146,
   "metadata": {},
   "outputs": [
    {
     "data": {
      "text/html": [
       "<div>\n",
       "<style scoped>\n",
       "    .dataframe tbody tr th:only-of-type {\n",
       "        vertical-align: middle;\n",
       "    }\n",
       "\n",
       "    .dataframe tbody tr th {\n",
       "        vertical-align: top;\n",
       "    }\n",
       "\n",
       "    .dataframe thead th {\n",
       "        text-align: right;\n",
       "    }\n",
       "</style>\n",
       "<table border=\"1\" class=\"dataframe\">\n",
       "  <thead>\n",
       "    <tr style=\"text-align: right;\">\n",
       "      <th></th>\n",
       "      <th>Item_Identifier</th>\n",
       "      <th>Item_Weight</th>\n",
       "      <th>Item_Fat_Content</th>\n",
       "      <th>Item_Visibility</th>\n",
       "      <th>Item_Type</th>\n",
       "      <th>Item_MRP</th>\n",
       "      <th>Outlet_Identifier</th>\n",
       "      <th>Outlet_Size</th>\n",
       "      <th>Outlet_Location_Type</th>\n",
       "      <th>Outlet_Type</th>\n",
       "      <th>Item_Outlet_Sales</th>\n",
       "      <th>num_years</th>\n",
       "    </tr>\n",
       "  </thead>\n",
       "  <tbody>\n",
       "    <tr>\n",
       "      <th>0</th>\n",
       "      <td>FDA15</td>\n",
       "      <td>9.30</td>\n",
       "      <td>Low Fat</td>\n",
       "      <td>0.016047</td>\n",
       "      <td>Dairy</td>\n",
       "      <td>249.8092</td>\n",
       "      <td>OUT049</td>\n",
       "      <td>Medium</td>\n",
       "      <td>Tier 1</td>\n",
       "      <td>Supermarket Type1</td>\n",
       "      <td>3735.1380</td>\n",
       "      <td>14</td>\n",
       "    </tr>\n",
       "    <tr>\n",
       "      <th>1</th>\n",
       "      <td>DRC01</td>\n",
       "      <td>5.92</td>\n",
       "      <td>Regular</td>\n",
       "      <td>0.019278</td>\n",
       "      <td>Soft Drinks</td>\n",
       "      <td>48.2692</td>\n",
       "      <td>OUT018</td>\n",
       "      <td>Medium</td>\n",
       "      <td>Tier 3</td>\n",
       "      <td>Supermarket Type2</td>\n",
       "      <td>443.4228</td>\n",
       "      <td>4</td>\n",
       "    </tr>\n",
       "    <tr>\n",
       "      <th>2</th>\n",
       "      <td>FDN15</td>\n",
       "      <td>17.50</td>\n",
       "      <td>Low Fat</td>\n",
       "      <td>0.016760</td>\n",
       "      <td>Meat</td>\n",
       "      <td>141.6180</td>\n",
       "      <td>OUT049</td>\n",
       "      <td>Medium</td>\n",
       "      <td>Tier 1</td>\n",
       "      <td>Supermarket Type1</td>\n",
       "      <td>2097.2700</td>\n",
       "      <td>14</td>\n",
       "    </tr>\n",
       "    <tr>\n",
       "      <th>3</th>\n",
       "      <td>FDX07</td>\n",
       "      <td>19.20</td>\n",
       "      <td>Regular</td>\n",
       "      <td>0.000000</td>\n",
       "      <td>Fruits and Vegetables</td>\n",
       "      <td>182.0950</td>\n",
       "      <td>OUT010</td>\n",
       "      <td>Medium</td>\n",
       "      <td>Tier 3</td>\n",
       "      <td>Grocery Store</td>\n",
       "      <td>732.3800</td>\n",
       "      <td>15</td>\n",
       "    </tr>\n",
       "    <tr>\n",
       "      <th>4</th>\n",
       "      <td>NCD19</td>\n",
       "      <td>8.93</td>\n",
       "      <td>Low Fat</td>\n",
       "      <td>0.000000</td>\n",
       "      <td>Household</td>\n",
       "      <td>53.8614</td>\n",
       "      <td>OUT013</td>\n",
       "      <td>High</td>\n",
       "      <td>Tier 3</td>\n",
       "      <td>Supermarket Type1</td>\n",
       "      <td>994.7052</td>\n",
       "      <td>26</td>\n",
       "    </tr>\n",
       "  </tbody>\n",
       "</table>\n",
       "</div>"
      ],
      "text/plain": [
       "  Item_Identifier  Item_Weight Item_Fat_Content  Item_Visibility  \\\n",
       "0           FDA15         9.30          Low Fat         0.016047   \n",
       "1           DRC01         5.92          Regular         0.019278   \n",
       "2           FDN15        17.50          Low Fat         0.016760   \n",
       "3           FDX07        19.20          Regular         0.000000   \n",
       "4           NCD19         8.93          Low Fat         0.000000   \n",
       "\n",
       "               Item_Type  Item_MRP Outlet_Identifier Outlet_Size  \\\n",
       "0                  Dairy  249.8092            OUT049      Medium   \n",
       "1            Soft Drinks   48.2692            OUT018      Medium   \n",
       "2                   Meat  141.6180            OUT049      Medium   \n",
       "3  Fruits and Vegetables  182.0950            OUT010      Medium   \n",
       "4              Household   53.8614            OUT013        High   \n",
       "\n",
       "  Outlet_Location_Type        Outlet_Type  Item_Outlet_Sales  num_years  \n",
       "0               Tier 1  Supermarket Type1          3735.1380         14  \n",
       "1               Tier 3  Supermarket Type2           443.4228          4  \n",
       "2               Tier 1  Supermarket Type1          2097.2700         14  \n",
       "3               Tier 3      Grocery Store           732.3800         15  \n",
       "4               Tier 3  Supermarket Type1           994.7052         26  "
      ]
     },
     "execution_count": 146,
     "metadata": {},
     "output_type": "execute_result"
    }
   ],
   "source": [
    "train_data.head()"
   ]
  },
  {
   "cell_type": "code",
   "execution_count": 147,
   "metadata": {},
   "outputs": [
    {
     "data": {
      "text/html": [
       "<div>\n",
       "<style scoped>\n",
       "    .dataframe tbody tr th:only-of-type {\n",
       "        vertical-align: middle;\n",
       "    }\n",
       "\n",
       "    .dataframe tbody tr th {\n",
       "        vertical-align: top;\n",
       "    }\n",
       "\n",
       "    .dataframe thead th {\n",
       "        text-align: right;\n",
       "    }\n",
       "</style>\n",
       "<table border=\"1\" class=\"dataframe\">\n",
       "  <thead>\n",
       "    <tr style=\"text-align: right;\">\n",
       "      <th></th>\n",
       "      <th>Item_Identifier</th>\n",
       "      <th>Item_Weight</th>\n",
       "      <th>Item_Fat_Content</th>\n",
       "      <th>Item_Visibility</th>\n",
       "      <th>Item_Type</th>\n",
       "      <th>Item_MRP</th>\n",
       "      <th>Outlet_Identifier</th>\n",
       "      <th>Outlet_Size</th>\n",
       "      <th>Outlet_Location_Type</th>\n",
       "      <th>Outlet_Type</th>\n",
       "      <th>num_years</th>\n",
       "    </tr>\n",
       "  </thead>\n",
       "  <tbody>\n",
       "    <tr>\n",
       "      <th>0</th>\n",
       "      <td>FDW58</td>\n",
       "      <td>20.750000</td>\n",
       "      <td>Low Fat</td>\n",
       "      <td>0.007565</td>\n",
       "      <td>Snack Foods</td>\n",
       "      <td>107.8622</td>\n",
       "      <td>OUT049</td>\n",
       "      <td>Medium</td>\n",
       "      <td>Tier 1</td>\n",
       "      <td>Supermarket Type1</td>\n",
       "      <td>14</td>\n",
       "    </tr>\n",
       "    <tr>\n",
       "      <th>1</th>\n",
       "      <td>FDW14</td>\n",
       "      <td>8.300000</td>\n",
       "      <td>Regular</td>\n",
       "      <td>0.038428</td>\n",
       "      <td>Dairy</td>\n",
       "      <td>87.3198</td>\n",
       "      <td>OUT017</td>\n",
       "      <td>Medium</td>\n",
       "      <td>Tier 2</td>\n",
       "      <td>Supermarket Type1</td>\n",
       "      <td>6</td>\n",
       "    </tr>\n",
       "    <tr>\n",
       "      <th>2</th>\n",
       "      <td>NCN55</td>\n",
       "      <td>14.600000</td>\n",
       "      <td>Low Fat</td>\n",
       "      <td>0.099575</td>\n",
       "      <td>Others</td>\n",
       "      <td>241.7538</td>\n",
       "      <td>OUT010</td>\n",
       "      <td>Medium</td>\n",
       "      <td>Tier 3</td>\n",
       "      <td>Grocery Store</td>\n",
       "      <td>15</td>\n",
       "    </tr>\n",
       "    <tr>\n",
       "      <th>3</th>\n",
       "      <td>FDQ58</td>\n",
       "      <td>7.315000</td>\n",
       "      <td>Low Fat</td>\n",
       "      <td>0.015388</td>\n",
       "      <td>Snack Foods</td>\n",
       "      <td>155.0340</td>\n",
       "      <td>OUT017</td>\n",
       "      <td>Medium</td>\n",
       "      <td>Tier 2</td>\n",
       "      <td>Supermarket Type1</td>\n",
       "      <td>6</td>\n",
       "    </tr>\n",
       "    <tr>\n",
       "      <th>4</th>\n",
       "      <td>FDY38</td>\n",
       "      <td>12.695633</td>\n",
       "      <td>Regular</td>\n",
       "      <td>0.118599</td>\n",
       "      <td>Dairy</td>\n",
       "      <td>234.2300</td>\n",
       "      <td>OUT027</td>\n",
       "      <td>Medium</td>\n",
       "      <td>Tier 3</td>\n",
       "      <td>Supermarket Type3</td>\n",
       "      <td>28</td>\n",
       "    </tr>\n",
       "  </tbody>\n",
       "</table>\n",
       "</div>"
      ],
      "text/plain": [
       "  Item_Identifier  Item_Weight Item_Fat_Content  Item_Visibility    Item_Type  \\\n",
       "0           FDW58    20.750000          Low Fat         0.007565  Snack Foods   \n",
       "1           FDW14     8.300000          Regular         0.038428        Dairy   \n",
       "2           NCN55    14.600000          Low Fat         0.099575       Others   \n",
       "3           FDQ58     7.315000          Low Fat         0.015388  Snack Foods   \n",
       "4           FDY38    12.695633          Regular         0.118599        Dairy   \n",
       "\n",
       "   Item_MRP Outlet_Identifier Outlet_Size Outlet_Location_Type  \\\n",
       "0  107.8622            OUT049      Medium               Tier 1   \n",
       "1   87.3198            OUT017      Medium               Tier 2   \n",
       "2  241.7538            OUT010      Medium               Tier 3   \n",
       "3  155.0340            OUT017      Medium               Tier 2   \n",
       "4  234.2300            OUT027      Medium               Tier 3   \n",
       "\n",
       "         Outlet_Type  num_years  \n",
       "0  Supermarket Type1         14  \n",
       "1  Supermarket Type1          6  \n",
       "2      Grocery Store         15  \n",
       "3  Supermarket Type1          6  \n",
       "4  Supermarket Type3         28  "
      ]
     },
     "execution_count": 147,
     "metadata": {},
     "output_type": "execute_result"
    }
   ],
   "source": [
    "test_data.head()"
   ]
  },
  {
   "cell_type": "code",
   "execution_count": 148,
   "metadata": {
    "scrolled": true
   },
   "outputs": [
    {
     "data": {
      "text/plain": [
       "<matplotlib.axes._subplots.AxesSubplot at 0x179b0f74c08>"
      ]
     },
     "execution_count": 148,
     "metadata": {},
     "output_type": "execute_result"
    },
    {
     "data": {
      "image/png": "[encoded data removed]",
      "text/plain": [
       "<Figure size 432x288 with 1 Axes>"
      ]
     },
     "metadata": {
      "needs_background": "light"
     },
     "output_type": "display_data"
    }
   ],
   "source": [
    "plt.title('Plotting Item Weight v/s Item Visibility plot', fontsize = 20)\n",
    "\n",
    "sns.scatterplot(train_data['Item_Weight'], train_data['Item_Visibility'], hue=train_data['Item_Fat_Content'])"
   ]
  },
  {
   "cell_type": "markdown",
   "metadata": {},
   "source": [
    "Observation:\n",
    "    We can say for sure that data is very well heterogenous in nature.\n",
    "    No particular pattern can be seen a dataset."
   ]
  },
  {
   "cell_type": "markdown",
   "metadata": {},
   "source": [
    "# Label Ecoding the categorical data"
   ]
  },
  {
   "cell_type": "code",
   "execution_count": 149,
   "metadata": {},
   "outputs": [],
   "source": [
    "# as we can see that there are few categorical data in few columns, which we need to convert them to nuemerical data, which can be done with the help of label encoder.\n",
    "\n",
    "\n",
    "\n",
    "LE = LabelEncoder()\n",
    "\n",
    "big_data_sales = [train_data, test_data]\n",
    "\n",
    "for data in big_data_sales:\n",
    "    data['Item_Fat_Content'] = LE.fit_transform(data['Item_Fat_Content'])\n",
    "    data['Item_Type'] = LE.fit_transform(data['Item_Type'])\n",
    "    data['Outlet_Size'] = LE.fit_transform(data['Outlet_Size'])\n",
    "    data['Outlet_Location_Type'] = LE.fit_transform(data['Outlet_Location_Type'])\n",
    "    data['Outlet_Type'] = LE.fit_transform(data['Outlet_Type'])\n",
    "    data['Outlet_Identifier'] = LE.fit_transform(data['Outlet_Identifier'])\n",
    "    data['Item_Identifier'] = LE.fit_transform(data['Item_Identifier'])\n"
   ]
  },
  {
   "cell_type": "code",
   "execution_count": 150,
   "metadata": {},
   "outputs": [
    {
     "data": {
      "text/html": [
       "<div>\n",
       "<style scoped>\n",
       "    .dataframe tbody tr th:only-of-type {\n",
       "        vertical-align: middle;\n",
       "    }\n",
       "\n",
       "    .dataframe tbody tr th {\n",
       "        vertical-align: top;\n",
       "    }\n",
       "\n",
       "    .dataframe thead th {\n",
       "        text-align: right;\n",
       "    }\n",
       "</style>\n",
       "<table border=\"1\" class=\"dataframe\">\n",
       "  <thead>\n",
       "    <tr style=\"text-align: right;\">\n",
       "      <th></th>\n",
       "      <th>Item_Identifier</th>\n",
       "      <th>Item_Weight</th>\n",
       "      <th>Item_Fat_Content</th>\n",
       "      <th>Item_Visibility</th>\n",
       "      <th>Item_Type</th>\n",
       "      <th>Item_MRP</th>\n",
       "      <th>Outlet_Identifier</th>\n",
       "      <th>Outlet_Size</th>\n",
       "      <th>Outlet_Location_Type</th>\n",
       "      <th>Outlet_Type</th>\n",
       "      <th>Item_Outlet_Sales</th>\n",
       "      <th>num_years</th>\n",
       "    </tr>\n",
       "  </thead>\n",
       "  <tbody>\n",
       "    <tr>\n",
       "      <th>0</th>\n",
       "      <td>156</td>\n",
       "      <td>9.30</td>\n",
       "      <td>0</td>\n",
       "      <td>0.016047</td>\n",
       "      <td>4</td>\n",
       "      <td>249.8092</td>\n",
       "      <td>9</td>\n",
       "      <td>1</td>\n",
       "      <td>0</td>\n",
       "      <td>1</td>\n",
       "      <td>3735.1380</td>\n",
       "      <td>14</td>\n",
       "    </tr>\n",
       "    <tr>\n",
       "      <th>1</th>\n",
       "      <td>8</td>\n",
       "      <td>5.92</td>\n",
       "      <td>1</td>\n",
       "      <td>0.019278</td>\n",
       "      <td>14</td>\n",
       "      <td>48.2692</td>\n",
       "      <td>3</td>\n",
       "      <td>1</td>\n",
       "      <td>2</td>\n",
       "      <td>2</td>\n",
       "      <td>443.4228</td>\n",
       "      <td>4</td>\n",
       "    </tr>\n",
       "    <tr>\n",
       "      <th>2</th>\n",
       "      <td>662</td>\n",
       "      <td>17.50</td>\n",
       "      <td>0</td>\n",
       "      <td>0.016760</td>\n",
       "      <td>10</td>\n",
       "      <td>141.6180</td>\n",
       "      <td>9</td>\n",
       "      <td>1</td>\n",
       "      <td>0</td>\n",
       "      <td>1</td>\n",
       "      <td>2097.2700</td>\n",
       "      <td>14</td>\n",
       "    </tr>\n",
       "    <tr>\n",
       "      <th>3</th>\n",
       "      <td>1121</td>\n",
       "      <td>19.20</td>\n",
       "      <td>1</td>\n",
       "      <td>0.000000</td>\n",
       "      <td>6</td>\n",
       "      <td>182.0950</td>\n",
       "      <td>0</td>\n",
       "      <td>1</td>\n",
       "      <td>2</td>\n",
       "      <td>0</td>\n",
       "      <td>732.3800</td>\n",
       "      <td>15</td>\n",
       "    </tr>\n",
       "    <tr>\n",
       "      <th>4</th>\n",
       "      <td>1297</td>\n",
       "      <td>8.93</td>\n",
       "      <td>0</td>\n",
       "      <td>0.000000</td>\n",
       "      <td>9</td>\n",
       "      <td>53.8614</td>\n",
       "      <td>1</td>\n",
       "      <td>0</td>\n",
       "      <td>2</td>\n",
       "      <td>1</td>\n",
       "      <td>994.7052</td>\n",
       "      <td>26</td>\n",
       "    </tr>\n",
       "  </tbody>\n",
       "</table>\n",
       "</div>"
      ],
      "text/plain": [
       "   Item_Identifier  Item_Weight  Item_Fat_Content  Item_Visibility  Item_Type  \\\n",
       "0              156         9.30                 0         0.016047          4   \n",
       "1                8         5.92                 1         0.019278         14   \n",
       "2              662        17.50                 0         0.016760         10   \n",
       "3             1121        19.20                 1         0.000000          6   \n",
       "4             1297         8.93                 0         0.000000          9   \n",
       "\n",
       "   Item_MRP  Outlet_Identifier  Outlet_Size  Outlet_Location_Type  \\\n",
       "0  249.8092                  9            1                     0   \n",
       "1   48.2692                  3            1                     2   \n",
       "2  141.6180                  9            1                     0   \n",
       "3  182.0950                  0            1                     2   \n",
       "4   53.8614                  1            0                     2   \n",
       "\n",
       "   Outlet_Type  Item_Outlet_Sales  num_years  \n",
       "0            1          3735.1380         14  \n",
       "1            2           443.4228          4  \n",
       "2            1          2097.2700         14  \n",
       "3            0           732.3800         15  \n",
       "4            1           994.7052         26  "
      ]
     },
     "execution_count": 150,
     "metadata": {},
     "output_type": "execute_result"
    }
   ],
   "source": [
    "train_data.head()"
   ]
  },
  {
   "cell_type": "code",
   "execution_count": 151,
   "metadata": {},
   "outputs": [
    {
     "data": {
      "text/html": [
       "<div>\n",
       "<style scoped>\n",
       "    .dataframe tbody tr th:only-of-type {\n",
       "        vertical-align: middle;\n",
       "    }\n",
       "\n",
       "    .dataframe tbody tr th {\n",
       "        vertical-align: top;\n",
       "    }\n",
       "\n",
       "    .dataframe thead th {\n",
       "        text-align: right;\n",
       "    }\n",
       "</style>\n",
       "<table border=\"1\" class=\"dataframe\">\n",
       "  <thead>\n",
       "    <tr style=\"text-align: right;\">\n",
       "      <th></th>\n",
       "      <th>Item_Identifier</th>\n",
       "      <th>Item_Weight</th>\n",
       "      <th>Item_Fat_Content</th>\n",
       "      <th>Item_Visibility</th>\n",
       "      <th>Item_Type</th>\n",
       "      <th>Item_MRP</th>\n",
       "      <th>Outlet_Identifier</th>\n",
       "      <th>Outlet_Size</th>\n",
       "      <th>Outlet_Location_Type</th>\n",
       "      <th>Outlet_Type</th>\n",
       "      <th>num_years</th>\n",
       "    </tr>\n",
       "  </thead>\n",
       "  <tbody>\n",
       "    <tr>\n",
       "      <th>0</th>\n",
       "      <td>1103</td>\n",
       "      <td>20.750000</td>\n",
       "      <td>0</td>\n",
       "      <td>0.007565</td>\n",
       "      <td>13</td>\n",
       "      <td>107.8622</td>\n",
       "      <td>9</td>\n",
       "      <td>1</td>\n",
       "      <td>0</td>\n",
       "      <td>1</td>\n",
       "      <td>14</td>\n",
       "    </tr>\n",
       "    <tr>\n",
       "      <th>1</th>\n",
       "      <td>1067</td>\n",
       "      <td>8.300000</td>\n",
       "      <td>1</td>\n",
       "      <td>0.038428</td>\n",
       "      <td>4</td>\n",
       "      <td>87.3198</td>\n",
       "      <td>2</td>\n",
       "      <td>1</td>\n",
       "      <td>1</td>\n",
       "      <td>1</td>\n",
       "      <td>6</td>\n",
       "    </tr>\n",
       "    <tr>\n",
       "      <th>2</th>\n",
       "      <td>1406</td>\n",
       "      <td>14.600000</td>\n",
       "      <td>0</td>\n",
       "      <td>0.099575</td>\n",
       "      <td>11</td>\n",
       "      <td>241.7538</td>\n",
       "      <td>0</td>\n",
       "      <td>1</td>\n",
       "      <td>2</td>\n",
       "      <td>0</td>\n",
       "      <td>15</td>\n",
       "    </tr>\n",
       "    <tr>\n",
       "      <th>3</th>\n",
       "      <td>809</td>\n",
       "      <td>7.315000</td>\n",
       "      <td>0</td>\n",
       "      <td>0.015388</td>\n",
       "      <td>13</td>\n",
       "      <td>155.0340</td>\n",
       "      <td>2</td>\n",
       "      <td>1</td>\n",
       "      <td>1</td>\n",
       "      <td>1</td>\n",
       "      <td>6</td>\n",
       "    </tr>\n",
       "    <tr>\n",
       "      <th>4</th>\n",
       "      <td>1184</td>\n",
       "      <td>12.695633</td>\n",
       "      <td>1</td>\n",
       "      <td>0.118599</td>\n",
       "      <td>4</td>\n",
       "      <td>234.2300</td>\n",
       "      <td>5</td>\n",
       "      <td>1</td>\n",
       "      <td>2</td>\n",
       "      <td>3</td>\n",
       "      <td>28</td>\n",
       "    </tr>\n",
       "  </tbody>\n",
       "</table>\n",
       "</div>"
      ],
      "text/plain": [
       "   Item_Identifier  Item_Weight  Item_Fat_Content  Item_Visibility  Item_Type  \\\n",
       "0             1103    20.750000                 0         0.007565         13   \n",
       "1             1067     8.300000                 1         0.038428          4   \n",
       "2             1406    14.600000                 0         0.099575         11   \n",
       "3              809     7.315000                 0         0.015388         13   \n",
       "4             1184    12.695633                 1         0.118599          4   \n",
       "\n",
       "   Item_MRP  Outlet_Identifier  Outlet_Size  Outlet_Location_Type  \\\n",
       "0  107.8622                  9            1                     0   \n",
       "1   87.3198                  2            1                     1   \n",
       "2  241.7538                  0            1                     2   \n",
       "3  155.0340                  2            1                     1   \n",
       "4  234.2300                  5            1                     2   \n",
       "\n",
       "   Outlet_Type  num_years  \n",
       "0            1         14  \n",
       "1            1          6  \n",
       "2            0         15  \n",
       "3            1          6  \n",
       "4            3         28  "
      ]
     },
     "execution_count": 151,
     "metadata": {},
     "output_type": "execute_result"
    }
   ],
   "source": [
    "test_data.head()"
   ]
  },
  {
   "cell_type": "code",
   "execution_count": 152,
   "metadata": {},
   "outputs": [
    {
     "data": {
      "text/html": [
       "<div>\n",
       "<style scoped>\n",
       "    .dataframe tbody tr th:only-of-type {\n",
       "        vertical-align: middle;\n",
       "    }\n",
       "\n",
       "    .dataframe tbody tr th {\n",
       "        vertical-align: top;\n",
       "    }\n",
       "\n",
       "    .dataframe thead th {\n",
       "        text-align: right;\n",
       "    }\n",
       "</style>\n",
       "<table border=\"1\" class=\"dataframe\">\n",
       "  <thead>\n",
       "    <tr style=\"text-align: right;\">\n",
       "      <th></th>\n",
       "      <th>Item_Weight</th>\n",
       "      <th>Item_Fat_Content</th>\n",
       "      <th>Item_Visibility</th>\n",
       "      <th>Item_Type</th>\n",
       "      <th>Item_MRP</th>\n",
       "      <th>Outlet_Identifier</th>\n",
       "      <th>Item_Identifier</th>\n",
       "      <th>Outlet_Size</th>\n",
       "      <th>Outlet_Location_Type</th>\n",
       "      <th>Outlet_Type</th>\n",
       "      <th>num_years</th>\n",
       "      <th>Item_Outlet_Sales</th>\n",
       "    </tr>\n",
       "  </thead>\n",
       "  <tbody>\n",
       "    <tr>\n",
       "      <th>0</th>\n",
       "      <td>9.300</td>\n",
       "      <td>0</td>\n",
       "      <td>0.016047</td>\n",
       "      <td>4</td>\n",
       "      <td>249.8092</td>\n",
       "      <td>9</td>\n",
       "      <td>156</td>\n",
       "      <td>1</td>\n",
       "      <td>0</td>\n",
       "      <td>1</td>\n",
       "      <td>14</td>\n",
       "      <td>3735.1380</td>\n",
       "    </tr>\n",
       "    <tr>\n",
       "      <th>1</th>\n",
       "      <td>5.920</td>\n",
       "      <td>1</td>\n",
       "      <td>0.019278</td>\n",
       "      <td>14</td>\n",
       "      <td>48.2692</td>\n",
       "      <td>3</td>\n",
       "      <td>8</td>\n",
       "      <td>1</td>\n",
       "      <td>2</td>\n",
       "      <td>2</td>\n",
       "      <td>4</td>\n",
       "      <td>443.4228</td>\n",
       "    </tr>\n",
       "    <tr>\n",
       "      <th>2</th>\n",
       "      <td>17.500</td>\n",
       "      <td>0</td>\n",
       "      <td>0.016760</td>\n",
       "      <td>10</td>\n",
       "      <td>141.6180</td>\n",
       "      <td>9</td>\n",
       "      <td>662</td>\n",
       "      <td>1</td>\n",
       "      <td>0</td>\n",
       "      <td>1</td>\n",
       "      <td>14</td>\n",
       "      <td>2097.2700</td>\n",
       "    </tr>\n",
       "    <tr>\n",
       "      <th>3</th>\n",
       "      <td>19.200</td>\n",
       "      <td>1</td>\n",
       "      <td>0.000000</td>\n",
       "      <td>6</td>\n",
       "      <td>182.0950</td>\n",
       "      <td>0</td>\n",
       "      <td>1121</td>\n",
       "      <td>1</td>\n",
       "      <td>2</td>\n",
       "      <td>0</td>\n",
       "      <td>15</td>\n",
       "      <td>732.3800</td>\n",
       "    </tr>\n",
       "    <tr>\n",
       "      <th>4</th>\n",
       "      <td>8.930</td>\n",
       "      <td>0</td>\n",
       "      <td>0.000000</td>\n",
       "      <td>9</td>\n",
       "      <td>53.8614</td>\n",
       "      <td>1</td>\n",
       "      <td>1297</td>\n",
       "      <td>0</td>\n",
       "      <td>2</td>\n",
       "      <td>1</td>\n",
       "      <td>26</td>\n",
       "      <td>994.7052</td>\n",
       "    </tr>\n",
       "    <tr>\n",
       "      <th>...</th>\n",
       "      <td>...</td>\n",
       "      <td>...</td>\n",
       "      <td>...</td>\n",
       "      <td>...</td>\n",
       "      <td>...</td>\n",
       "      <td>...</td>\n",
       "      <td>...</td>\n",
       "      <td>...</td>\n",
       "      <td>...</td>\n",
       "      <td>...</td>\n",
       "      <td>...</td>\n",
       "      <td>...</td>\n",
       "    </tr>\n",
       "    <tr>\n",
       "      <th>8518</th>\n",
       "      <td>6.865</td>\n",
       "      <td>0</td>\n",
       "      <td>0.056783</td>\n",
       "      <td>13</td>\n",
       "      <td>214.5218</td>\n",
       "      <td>1</td>\n",
       "      <td>370</td>\n",
       "      <td>0</td>\n",
       "      <td>2</td>\n",
       "      <td>1</td>\n",
       "      <td>26</td>\n",
       "      <td>2778.3834</td>\n",
       "    </tr>\n",
       "    <tr>\n",
       "      <th>8519</th>\n",
       "      <td>8.380</td>\n",
       "      <td>1</td>\n",
       "      <td>0.046982</td>\n",
       "      <td>0</td>\n",
       "      <td>108.1570</td>\n",
       "      <td>7</td>\n",
       "      <td>897</td>\n",
       "      <td>1</td>\n",
       "      <td>1</td>\n",
       "      <td>1</td>\n",
       "      <td>11</td>\n",
       "      <td>549.2850</td>\n",
       "    </tr>\n",
       "    <tr>\n",
       "      <th>8520</th>\n",
       "      <td>10.600</td>\n",
       "      <td>0</td>\n",
       "      <td>0.035186</td>\n",
       "      <td>8</td>\n",
       "      <td>85.1224</td>\n",
       "      <td>6</td>\n",
       "      <td>1357</td>\n",
       "      <td>2</td>\n",
       "      <td>1</td>\n",
       "      <td>1</td>\n",
       "      <td>9</td>\n",
       "      <td>1193.1136</td>\n",
       "    </tr>\n",
       "    <tr>\n",
       "      <th>8521</th>\n",
       "      <td>7.210</td>\n",
       "      <td>1</td>\n",
       "      <td>0.145221</td>\n",
       "      <td>13</td>\n",
       "      <td>103.1332</td>\n",
       "      <td>3</td>\n",
       "      <td>681</td>\n",
       "      <td>1</td>\n",
       "      <td>2</td>\n",
       "      <td>2</td>\n",
       "      <td>4</td>\n",
       "      <td>1845.5976</td>\n",
       "    </tr>\n",
       "    <tr>\n",
       "      <th>8522</th>\n",
       "      <td>14.800</td>\n",
       "      <td>0</td>\n",
       "      <td>0.044878</td>\n",
       "      <td>14</td>\n",
       "      <td>75.4670</td>\n",
       "      <td>8</td>\n",
       "      <td>50</td>\n",
       "      <td>2</td>\n",
       "      <td>0</td>\n",
       "      <td>1</td>\n",
       "      <td>16</td>\n",
       "      <td>765.6700</td>\n",
       "    </tr>\n",
       "  </tbody>\n",
       "</table>\n",
       "<p>8523 rows × 12 columns</p>\n",
       "</div>"
      ],
      "text/plain": [
       "      Item_Weight  Item_Fat_Content  Item_Visibility  Item_Type  Item_MRP  \\\n",
       "0           9.300                 0         0.016047          4  249.8092   \n",
       "1           5.920                 1         0.019278         14   48.2692   \n",
       "2          17.500                 0         0.016760         10  141.6180   \n",
       "3          19.200                 1         0.000000          6  182.0950   \n",
       "4           8.930                 0         0.000000          9   53.8614   \n",
       "...           ...               ...              ...        ...       ...   \n",
       "8518        6.865                 0         0.056783         13  214.5218   \n",
       "8519        8.380                 1         0.046982          0  108.1570   \n",
       "8520       10.600                 0         0.035186          8   85.1224   \n",
       "8521        7.210                 1         0.145221         13  103.1332   \n",
       "8522       14.800                 0         0.044878         14   75.4670   \n",
       "\n",
       "      Outlet_Identifier  Item_Identifier  Outlet_Size  Outlet_Location_Type  \\\n",
       "0                     9              156            1                     0   \n",
       "1                     3                8            1                     2   \n",
       "2                     9              662            1                     0   \n",
       "3                     0             1121            1                     2   \n",
       "4                     1             1297            0                     2   \n",
       "...                 ...              ...          ...                   ...   \n",
       "8518                  1              370            0                     2   \n",
       "8519                  7              897            1                     1   \n",
       "8520                  6             1357            2                     1   \n",
       "8521                  3              681            1                     2   \n",
       "8522                  8               50            2                     0   \n",
       "\n",
       "      Outlet_Type  num_years  Item_Outlet_Sales  \n",
       "0               1         14          3735.1380  \n",
       "1               2          4           443.4228  \n",
       "2               1         14          2097.2700  \n",
       "3               0         15           732.3800  \n",
       "4               1         26           994.7052  \n",
       "...           ...        ...                ...  \n",
       "8518            1         26          2778.3834  \n",
       "8519            1         11           549.2850  \n",
       "8520            1          9          1193.1136  \n",
       "8521            2          4          1845.5976  \n",
       "8522            1         16           765.6700  \n",
       "\n",
       "[8523 rows x 12 columns]"
      ]
     },
     "execution_count": 152,
     "metadata": {},
     "output_type": "execute_result"
    }
   ],
   "source": [
    "#changing the order of the dataframe:\n",
    "\n",
    "train_data = train_data[['Item_Weight', 'Item_Fat_Content', 'Item_Visibility', 'Item_Type', 'Item_MRP','Outlet_Identifier', 'Item_Identifier','Outlet_Size', 'Outlet_Location_Type', 'Outlet_Type', 'num_years', 'Item_Outlet_Sales']]\n",
    "train_data"
   ]
  },
  {
   "cell_type": "code",
   "execution_count": 153,
   "metadata": {},
   "outputs": [
    {
     "data": {
      "text/plain": [
       "Item_Weight             0.090561\n",
       "Item_Fat_Content        0.616705\n",
       "Item_Visibility         1.167091\n",
       "Item_Type               0.101655\n",
       "Item_MRP                0.127202\n",
       "Outlet_Identifier      -0.059861\n",
       "Item_Identifier        -0.008877\n",
       "Outlet_Size            -0.087072\n",
       "Outlet_Location_Type   -0.209093\n",
       "Outlet_Type             0.927438\n",
       "num_years               0.396641\n",
       "Item_Outlet_Sales       1.177531\n",
       "dtype: float64"
      ]
     },
     "execution_count": 153,
     "metadata": {},
     "output_type": "execute_result"
    }
   ],
   "source": [
    "train_data.skew()"
   ]
  },
  {
   "cell_type": "markdown",
   "metadata": {},
   "source": [
    "Observations:\n",
    "    \n",
    "    Skewness can be seen in the columns like Item_Visibility and Item_Outlet_Sales"
   ]
  },
  {
   "cell_type": "code",
   "execution_count": 154,
   "metadata": {
    "scrolled": true
   },
   "outputs": [
    {
     "data": {
      "text/html": [
       "<div>\n",
       "<style scoped>\n",
       "    .dataframe tbody tr th:only-of-type {\n",
       "        vertical-align: middle;\n",
       "    }\n",
       "\n",
       "    .dataframe tbody tr th {\n",
       "        vertical-align: top;\n",
       "    }\n",
       "\n",
       "    .dataframe thead th {\n",
       "        text-align: right;\n",
       "    }\n",
       "</style>\n",
       "<table border=\"1\" class=\"dataframe\">\n",
       "  <thead>\n",
       "    <tr style=\"text-align: right;\">\n",
       "      <th></th>\n",
       "      <th>Item_Weight</th>\n",
       "      <th>Item_Fat_Content</th>\n",
       "      <th>Item_Visibility</th>\n",
       "      <th>Item_Type</th>\n",
       "      <th>Item_MRP</th>\n",
       "      <th>Outlet_Identifier</th>\n",
       "      <th>Item_Identifier</th>\n",
       "      <th>Outlet_Size</th>\n",
       "      <th>Outlet_Location_Type</th>\n",
       "      <th>Outlet_Type</th>\n",
       "      <th>num_years</th>\n",
       "      <th>Item_Outlet_Sales</th>\n",
       "    </tr>\n",
       "  </thead>\n",
       "  <tbody>\n",
       "    <tr>\n",
       "      <th>Item_Weight</th>\n",
       "      <td>1.000000</td>\n",
       "      <td>-0.021157</td>\n",
       "      <td>-0.012049</td>\n",
       "      <td>0.028015</td>\n",
       "      <td>0.024756</td>\n",
       "      <td>-0.007975</td>\n",
       "      <td>0.044518</td>\n",
       "      <td>-0.007225</td>\n",
       "      <td>0.004088</td>\n",
       "      <td>-0.000566</td>\n",
       "      <td>0.008301</td>\n",
       "      <td>0.011550</td>\n",
       "    </tr>\n",
       "    <tr>\n",
       "      <th>Item_Fat_Content</th>\n",
       "      <td>-0.021157</td>\n",
       "      <td>1.000000</td>\n",
       "      <td>0.047314</td>\n",
       "      <td>-0.139434</td>\n",
       "      <td>0.006063</td>\n",
       "      <td>0.000764</td>\n",
       "      <td>-0.114660</td>\n",
       "      <td>-0.000622</td>\n",
       "      <td>-0.001598</td>\n",
       "      <td>0.002199</td>\n",
       "      <td>-0.003151</td>\n",
       "      <td>0.018719</td>\n",
       "    </tr>\n",
       "    <tr>\n",
       "      <th>Item_Visibility</th>\n",
       "      <td>-0.012049</td>\n",
       "      <td>0.047314</td>\n",
       "      <td>1.000000</td>\n",
       "      <td>-0.035249</td>\n",
       "      <td>-0.001315</td>\n",
       "      <td>-0.100439</td>\n",
       "      <td>-0.025482</td>\n",
       "      <td>0.069309</td>\n",
       "      <td>-0.028099</td>\n",
       "      <td>-0.173468</td>\n",
       "      <td>0.074834</td>\n",
       "      <td>-0.128625</td>\n",
       "    </tr>\n",
       "    <tr>\n",
       "      <th>Item_Type</th>\n",
       "      <td>0.028015</td>\n",
       "      <td>-0.139434</td>\n",
       "      <td>-0.035249</td>\n",
       "      <td>1.000000</td>\n",
       "      <td>0.032651</td>\n",
       "      <td>0.001656</td>\n",
       "      <td>-0.017973</td>\n",
       "      <td>-0.001859</td>\n",
       "      <td>0.003084</td>\n",
       "      <td>0.003053</td>\n",
       "      <td>-0.004970</td>\n",
       "      <td>0.017048</td>\n",
       "    </tr>\n",
       "    <tr>\n",
       "      <th>Item_MRP</th>\n",
       "      <td>0.024756</td>\n",
       "      <td>0.006063</td>\n",
       "      <td>-0.001315</td>\n",
       "      <td>0.032651</td>\n",
       "      <td>1.000000</td>\n",
       "      <td>0.003319</td>\n",
       "      <td>0.012853</td>\n",
       "      <td>0.006059</td>\n",
       "      <td>0.000232</td>\n",
       "      <td>-0.001975</td>\n",
       "      <td>-0.005020</td>\n",
       "      <td>0.567574</td>\n",
       "    </tr>\n",
       "    <tr>\n",
       "      <th>Outlet_Identifier</th>\n",
       "      <td>-0.007975</td>\n",
       "      <td>0.000764</td>\n",
       "      <td>-0.100439</td>\n",
       "      <td>0.001656</td>\n",
       "      <td>0.003319</td>\n",
       "      <td>1.000000</td>\n",
       "      <td>-0.008602</td>\n",
       "      <td>0.504603</td>\n",
       "      <td>-0.716176</td>\n",
       "      <td>0.099873</td>\n",
       "      <td>-0.079035</td>\n",
       "      <td>0.162325</td>\n",
       "    </tr>\n",
       "    <tr>\n",
       "      <th>Item_Identifier</th>\n",
       "      <td>0.044518</td>\n",
       "      <td>-0.114660</td>\n",
       "      <td>-0.025482</td>\n",
       "      <td>-0.017973</td>\n",
       "      <td>0.012853</td>\n",
       "      <td>-0.008602</td>\n",
       "      <td>1.000000</td>\n",
       "      <td>0.001389</td>\n",
       "      <td>0.003656</td>\n",
       "      <td>-0.001178</td>\n",
       "      <td>0.012772</td>\n",
       "      <td>0.002869</td>\n",
       "    </tr>\n",
       "    <tr>\n",
       "      <th>Outlet_Size</th>\n",
       "      <td>-0.007225</td>\n",
       "      <td>-0.000622</td>\n",
       "      <td>0.069309</td>\n",
       "      <td>-0.001859</td>\n",
       "      <td>0.006059</td>\n",
       "      <td>0.504603</td>\n",
       "      <td>0.001389</td>\n",
       "      <td>1.000000</td>\n",
       "      <td>-0.614311</td>\n",
       "      <td>-0.201483</td>\n",
       "      <td>-0.193389</td>\n",
       "      <td>-0.086182</td>\n",
       "    </tr>\n",
       "    <tr>\n",
       "      <th>Outlet_Location_Type</th>\n",
       "      <td>0.004088</td>\n",
       "      <td>-0.001598</td>\n",
       "      <td>-0.028099</td>\n",
       "      <td>0.003084</td>\n",
       "      <td>0.000232</td>\n",
       "      <td>-0.716176</td>\n",
       "      <td>0.003656</td>\n",
       "      <td>-0.614311</td>\n",
       "      <td>1.000000</td>\n",
       "      <td>0.467219</td>\n",
       "      <td>0.089216</td>\n",
       "      <td>0.089367</td>\n",
       "    </tr>\n",
       "    <tr>\n",
       "      <th>Outlet_Type</th>\n",
       "      <td>-0.000566</td>\n",
       "      <td>0.002199</td>\n",
       "      <td>-0.173468</td>\n",
       "      <td>0.003053</td>\n",
       "      <td>-0.001975</td>\n",
       "      <td>0.099873</td>\n",
       "      <td>-0.001178</td>\n",
       "      <td>-0.201483</td>\n",
       "      <td>0.467219</td>\n",
       "      <td>1.000000</td>\n",
       "      <td>0.122304</td>\n",
       "      <td>0.401522</td>\n",
       "    </tr>\n",
       "    <tr>\n",
       "      <th>num_years</th>\n",
       "      <td>0.008301</td>\n",
       "      <td>-0.003151</td>\n",
       "      <td>0.074834</td>\n",
       "      <td>-0.004970</td>\n",
       "      <td>-0.005020</td>\n",
       "      <td>-0.079035</td>\n",
       "      <td>0.012772</td>\n",
       "      <td>-0.193389</td>\n",
       "      <td>0.089216</td>\n",
       "      <td>0.122304</td>\n",
       "      <td>1.000000</td>\n",
       "      <td>0.049135</td>\n",
       "    </tr>\n",
       "    <tr>\n",
       "      <th>Item_Outlet_Sales</th>\n",
       "      <td>0.011550</td>\n",
       "      <td>0.018719</td>\n",
       "      <td>-0.128625</td>\n",
       "      <td>0.017048</td>\n",
       "      <td>0.567574</td>\n",
       "      <td>0.162325</td>\n",
       "      <td>0.002869</td>\n",
       "      <td>-0.086182</td>\n",
       "      <td>0.089367</td>\n",
       "      <td>0.401522</td>\n",
       "      <td>0.049135</td>\n",
       "      <td>1.000000</td>\n",
       "    </tr>\n",
       "  </tbody>\n",
       "</table>\n",
       "</div>"
      ],
      "text/plain": [
       "                      Item_Weight  Item_Fat_Content  Item_Visibility  \\\n",
       "Item_Weight              1.000000         -0.021157        -0.012049   \n",
       "Item_Fat_Content        -0.021157          1.000000         0.047314   \n",
       "Item_Visibility         -0.012049          0.047314         1.000000   \n",
       "Item_Type                0.028015         -0.139434        -0.035249   \n",
       "Item_MRP                 0.024756          0.006063        -0.001315   \n",
       "Outlet_Identifier       -0.007975          0.000764        -0.100439   \n",
       "Item_Identifier          0.044518         -0.114660        -0.025482   \n",
       "Outlet_Size             -0.007225         -0.000622         0.069309   \n",
       "Outlet_Location_Type     0.004088         -0.001598        -0.028099   \n",
       "Outlet_Type             -0.000566          0.002199        -0.173468   \n",
       "num_years                0.008301         -0.003151         0.074834   \n",
       "Item_Outlet_Sales        0.011550          0.018719        -0.128625   \n",
       "\n",
       "                      Item_Type  Item_MRP  Outlet_Identifier  Item_Identifier  \\\n",
       "Item_Weight            0.028015  0.024756          -0.007975         0.044518   \n",
       "Item_Fat_Content      -0.139434  0.006063           0.000764        -0.114660   \n",
       "Item_Visibility       -0.035249 -0.001315          -0.100439        -0.025482   \n",
       "Item_Type              1.000000  0.032651           0.001656        -0.017973   \n",
       "Item_MRP               0.032651  1.000000           0.003319         0.012853   \n",
       "Outlet_Identifier      0.001656  0.003319           1.000000        -0.008602   \n",
       "Item_Identifier       -0.017973  0.012853          -0.008602         1.000000   \n",
       "Outlet_Size           -0.001859  0.006059           0.504603         0.001389   \n",
       "Outlet_Location_Type   0.003084  0.000232          -0.716176         0.003656   \n",
       "Outlet_Type            0.003053 -0.001975           0.099873        -0.001178   \n",
       "num_years             -0.004970 -0.005020          -0.079035         0.012772   \n",
       "Item_Outlet_Sales      0.017048  0.567574           0.162325         0.002869   \n",
       "\n",
       "                      Outlet_Size  Outlet_Location_Type  Outlet_Type  \\\n",
       "Item_Weight             -0.007225              0.004088    -0.000566   \n",
       "Item_Fat_Content        -0.000622             -0.001598     0.002199   \n",
       "Item_Visibility          0.069309             -0.028099    -0.173468   \n",
       "Item_Type               -0.001859              0.003084     0.003053   \n",
       "Item_MRP                 0.006059              0.000232    -0.001975   \n",
       "Outlet_Identifier        0.504603             -0.716176     0.099873   \n",
       "Item_Identifier          0.001389              0.003656    -0.001178   \n",
       "Outlet_Size              1.000000             -0.614311    -0.201483   \n",
       "Outlet_Location_Type    -0.614311              1.000000     0.467219   \n",
       "Outlet_Type             -0.201483              0.467219     1.000000   \n",
       "num_years               -0.193389              0.089216     0.122304   \n",
       "Item_Outlet_Sales       -0.086182              0.089367     0.401522   \n",
       "\n",
       "                      num_years  Item_Outlet_Sales  \n",
       "Item_Weight            0.008301           0.011550  \n",
       "Item_Fat_Content      -0.003151           0.018719  \n",
       "Item_Visibility        0.074834          -0.128625  \n",
       "Item_Type             -0.004970           0.017048  \n",
       "Item_MRP              -0.005020           0.567574  \n",
       "Outlet_Identifier     -0.079035           0.162325  \n",
       "Item_Identifier        0.012772           0.002869  \n",
       "Outlet_Size           -0.193389          -0.086182  \n",
       "Outlet_Location_Type   0.089216           0.089367  \n",
       "Outlet_Type            0.122304           0.401522  \n",
       "num_years              1.000000           0.049135  \n",
       "Item_Outlet_Sales      0.049135           1.000000  "
      ]
     },
     "execution_count": 154,
     "metadata": {},
     "output_type": "execute_result"
    }
   ],
   "source": [
    "big_data_cor = train_data.corr()\n",
    "big_data_cor"
   ]
  },
  {
   "cell_type": "code",
   "execution_count": 155,
   "metadata": {
    "scrolled": true
   },
   "outputs": [
    {
     "data": {
      "text/plain": [
       "<seaborn.axisgrid.PairGrid at 0x179b0f36cc8>"
      ]
     },
     "execution_count": 155,
     "metadata": {},
     "output_type": "execute_result"
    },
    {
     "data": {
      "image/png": "[encoded data removed]",
      "text/plain": [
       "<Figure size 2160x2160 with 156 Axes>"
      ]
     },
     "metadata": {
      "needs_background": "light"
     },
     "output_type": "display_data"
    }
   ],
   "source": [
    "sns.pairplot(big_data_cor)"
   ]
  },
  {
   "cell_type": "code",
   "execution_count": 156,
   "metadata": {
    "scrolled": true
   },
   "outputs": [
    {
     "data": {
      "text/plain": [
       "<matplotlib.axes._subplots.AxesSubplot at 0x179b4b0ea08>"
      ]
     },
     "execution_count": 156,
     "metadata": {},
     "output_type": "execute_result"
    },
    {
     "data": {
      "image/png": "[encoded data removed]",
      "text/plain": [
       "<Figure size 720x360 with 2 Axes>"
      ]
     },
     "metadata": {
      "needs_background": "light"
     },
     "output_type": "display_data"
    }
   ],
   "source": [
    "plt.figure(figsize=(10,5))\n",
    "plt.title('Correlation heat map', fontsize = 21)\n",
    "\n",
    "sns.heatmap(big_data_cor,cmap='Blues', annot=True)"
   ]
  },
  {
   "cell_type": "markdown",
   "metadata": {},
   "source": [
    "observations:\n",
    "    \n",
    "    Item_MRP column has highest correlation with the Item_Outlet_Sales column i.e. 0.57 values"
   ]
  },
  {
   "cell_type": "code",
   "execution_count": 157,
   "metadata": {},
   "outputs": [],
   "source": [
    "train_data_old = train_data\n"
   ]
  },
  {
   "cell_type": "markdown",
   "metadata": {},
   "source": [
    "# Removing Outliers:"
   ]
  },
  {
   "cell_type": "code",
   "execution_count": 158,
   "metadata": {},
   "outputs": [
    {
     "name": "stdout",
     "output_type": "stream",
     "text": [
      "(array([  49,   83,  108,  130,  145,  174,  276,  304,  333,  373,  434,\n",
      "        456,  472,  502,  521,  532,  661,  694,  753,  809,  854,  935,\n",
      "        991,  997, 1009, 1138, 1159, 1254, 1272, 1291, 1311, 1324, 1434,\n",
      "       1450, 1496, 1501, 1506, 1560, 1575, 1644, 1651, 1805, 1827, 1841,\n",
      "       1859, 1998, 2088, 2109, 2122, 2216, 2238, 2251, 2293, 2324, 2439,\n",
      "       2445, 2516, 2535, 2586, 2613, 2728, 2776, 2855, 2895, 3017, 3083,\n",
      "       3087, 3098, 3154, 3206, 3234, 3286, 3399, 3407, 3458, 3474, 3488,\n",
      "       3497, 3540, 3667, 3709, 3720, 3750, 3757, 3767, 3884, 3993, 4006,\n",
      "       4219, 4289, 4346, 4349, 4382, 4408, 4530, 4656, 4674, 4676, 4681,\n",
      "       4772, 4789, 4888, 4941, 4961, 4991, 5031, 5065, 5150, 5177, 5185,\n",
      "       5223, 5287, 5315, 5374, 5500, 5550, 5619, 5732, 5734, 5752, 5795,\n",
      "       5799, 5812, 5837, 5880, 5891, 5946, 5977, 6000, 6008, 6012, 6134,\n",
      "       6179, 6334, 6409, 6536, 6537, 6541, 6576, 6606, 6622, 6674, 6786,\n",
      "       6886, 6903, 6993, 7005, 7016, 7076, 7088, 7107, 7121, 7188, 7191,\n",
      "       7215, 7236, 7250, 7256, 7278, 7302, 7343, 7388, 7499, 7558, 7560,\n",
      "       7562, 7603, 7609, 7690, 7744, 7752, 7816, 7826, 7866, 7930, 7949,\n",
      "       8039, 8194, 8201, 8215, 8245, 8273, 8345, 8432, 8447], dtype=int64), array([ 2,  2,  2, 11, 11,  2, 11, 11, 11, 11,  2, 11, 11,  2,  2,  2, 11,\n",
      "       11, 11, 11,  2, 11, 11, 11, 11, 11,  2, 11,  2,  2,  2,  2,  2, 11,\n",
      "        2,  2, 11,  2,  2,  2,  2,  2,  2,  2, 11, 11,  2, 11,  2, 11, 11,\n",
      "        2, 11,  2,  2,  2, 11, 11,  2,  2,  2, 11,  2,  2,  2, 11, 11, 11,\n",
      "       11,  2, 11, 11,  2, 11,  2,  2,  2,  2,  2, 11, 11, 11,  2, 11,  2,\n",
      "        2,  2,  2,  2, 11, 11, 11,  2,  2,  2,  2,  2, 11, 11, 11,  2, 11,\n",
      "        2, 11, 11,  2, 11,  2, 11, 11, 11,  2, 11,  2, 11, 11, 11,  2,  2,\n",
      "       11,  2, 11, 11,  2,  2,  2,  2, 11, 11,  2,  2, 11,  2, 11, 11,  2,\n",
      "       11, 11,  2, 11,  2,  2,  2, 11,  2, 11,  2, 11, 11,  2,  2,  2, 11,\n",
      "       11,  2, 11,  2, 11,  2, 11, 11,  2,  2,  2, 11, 11,  2, 11, 11,  2,\n",
      "       11, 11, 11,  2, 11,  2, 11,  2, 11,  2, 11,  2,  2,  2, 11],\n",
      "      dtype=int64))\n"
     ]
    }
   ],
   "source": [
    "#Removing Outliers:\n",
    "\n",
    "from scipy.stats import zscore\n",
    "z=np.abs(zscore(train_data))\n",
    "z\n",
    "\n",
    "threshold = 3\n",
    "print(np.where(z>threshold))\n",
    "\n",
    "\n",
    "#creating new dataset without outliers and skewness\n",
    "train_data = train_data[(z<3).all(axis=1)]\n"
   ]
  },
  {
   "cell_type": "code",
   "execution_count": 159,
   "metadata": {
    "scrolled": true
   },
   "outputs": [
    {
     "data": {
      "text/plain": [
       "Item_Weight             0.089291\n",
       "Item_Fat_Content        0.620973\n",
       "Item_Visibility         0.794272\n",
       "Item_Type               0.098295\n",
       "Item_MRP                0.138990\n",
       "Outlet_Identifier      -0.065135\n",
       "Item_Identifier        -0.007837\n",
       "Outlet_Size            -0.087933\n",
       "Outlet_Location_Type   -0.202674\n",
       "Outlet_Type             0.956727\n",
       "num_years               0.423379\n",
       "Item_Outlet_Sales       0.878267\n",
       "dtype: float64"
      ]
     },
     "execution_count": 159,
     "metadata": {},
     "output_type": "execute_result"
    }
   ],
   "source": [
    "train_data.skew()"
   ]
  },
  {
   "cell_type": "code",
   "execution_count": 160,
   "metadata": {
    "scrolled": true
   },
   "outputs": [
    {
     "data": {
      "text/plain": [
       "Item_Weight             0.090561\n",
       "Item_Fat_Content        0.616705\n",
       "Item_Visibility         1.167091\n",
       "Item_Type               0.101655\n",
       "Item_MRP                0.127202\n",
       "Outlet_Identifier      -0.059861\n",
       "Item_Identifier        -0.008877\n",
       "Outlet_Size            -0.087072\n",
       "Outlet_Location_Type   -0.209093\n",
       "Outlet_Type             0.927438\n",
       "num_years               0.396641\n",
       "Item_Outlet_Sales       1.177531\n",
       "dtype: float64"
      ]
     },
     "execution_count": 160,
     "metadata": {},
     "output_type": "execute_result"
    }
   ],
   "source": [
    "train_data_old.skew()"
   ]
  },
  {
   "cell_type": "markdown",
   "metadata": {},
   "source": [
    "Observations:\n",
    "    \n",
    "    we can see skewness reduction in columns like Item_Visibility and Item_Outlet_Sales"
   ]
  },
  {
   "cell_type": "code",
   "execution_count": 161,
   "metadata": {
    "scrolled": true
   },
   "outputs": [
    {
     "name": "stdout",
     "output_type": "stream",
     "text": [
      "2.170597207556025\n"
     ]
    }
   ],
   "source": [
    "print(((train_data_old.shape[0]-train_data.shape[0])/train_data_old.shape[0]*100))"
   ]
  },
  {
   "cell_type": "markdown",
   "metadata": {},
   "source": [
    "Observations:\n",
    "    \n",
    "    By removing outliers we are loosing around 2.17 % of data, which is absolutely fine."
   ]
  },
  {
   "cell_type": "code",
   "execution_count": 162,
   "metadata": {
    "scrolled": false
   },
   "outputs": [
    {
     "data": {
      "text/html": [
       "<div>\n",
       "<style scoped>\n",
       "    .dataframe tbody tr th:only-of-type {\n",
       "        vertical-align: middle;\n",
       "    }\n",
       "\n",
       "    .dataframe tbody tr th {\n",
       "        vertical-align: top;\n",
       "    }\n",
       "\n",
       "    .dataframe thead th {\n",
       "        text-align: right;\n",
       "    }\n",
       "</style>\n",
       "<table border=\"1\" class=\"dataframe\">\n",
       "  <thead>\n",
       "    <tr style=\"text-align: right;\">\n",
       "      <th></th>\n",
       "      <th>Item_Weight</th>\n",
       "      <th>Item_Fat_Content</th>\n",
       "      <th>Item_Visibility</th>\n",
       "      <th>Item_Type</th>\n",
       "      <th>Item_MRP</th>\n",
       "      <th>Outlet_Identifier</th>\n",
       "      <th>Item_Identifier</th>\n",
       "      <th>Outlet_Size</th>\n",
       "      <th>Outlet_Location_Type</th>\n",
       "      <th>Outlet_Type</th>\n",
       "      <th>num_years</th>\n",
       "      <th>Item_Outlet_Sales</th>\n",
       "    </tr>\n",
       "  </thead>\n",
       "  <tbody>\n",
       "    <tr>\n",
       "      <th>0</th>\n",
       "      <td>9.300</td>\n",
       "      <td>0</td>\n",
       "      <td>0.016047</td>\n",
       "      <td>4</td>\n",
       "      <td>249.8092</td>\n",
       "      <td>9</td>\n",
       "      <td>156</td>\n",
       "      <td>1</td>\n",
       "      <td>0</td>\n",
       "      <td>1</td>\n",
       "      <td>14</td>\n",
       "      <td>3735.1380</td>\n",
       "    </tr>\n",
       "    <tr>\n",
       "      <th>1</th>\n",
       "      <td>5.920</td>\n",
       "      <td>1</td>\n",
       "      <td>0.019278</td>\n",
       "      <td>14</td>\n",
       "      <td>48.2692</td>\n",
       "      <td>3</td>\n",
       "      <td>8</td>\n",
       "      <td>1</td>\n",
       "      <td>2</td>\n",
       "      <td>2</td>\n",
       "      <td>4</td>\n",
       "      <td>443.4228</td>\n",
       "    </tr>\n",
       "    <tr>\n",
       "      <th>2</th>\n",
       "      <td>17.500</td>\n",
       "      <td>0</td>\n",
       "      <td>0.016760</td>\n",
       "      <td>10</td>\n",
       "      <td>141.6180</td>\n",
       "      <td>9</td>\n",
       "      <td>662</td>\n",
       "      <td>1</td>\n",
       "      <td>0</td>\n",
       "      <td>1</td>\n",
       "      <td>14</td>\n",
       "      <td>2097.2700</td>\n",
       "    </tr>\n",
       "    <tr>\n",
       "      <th>3</th>\n",
       "      <td>19.200</td>\n",
       "      <td>1</td>\n",
       "      <td>0.000000</td>\n",
       "      <td>6</td>\n",
       "      <td>182.0950</td>\n",
       "      <td>0</td>\n",
       "      <td>1121</td>\n",
       "      <td>1</td>\n",
       "      <td>2</td>\n",
       "      <td>0</td>\n",
       "      <td>15</td>\n",
       "      <td>732.3800</td>\n",
       "    </tr>\n",
       "    <tr>\n",
       "      <th>4</th>\n",
       "      <td>8.930</td>\n",
       "      <td>0</td>\n",
       "      <td>0.000000</td>\n",
       "      <td>9</td>\n",
       "      <td>53.8614</td>\n",
       "      <td>1</td>\n",
       "      <td>1297</td>\n",
       "      <td>0</td>\n",
       "      <td>2</td>\n",
       "      <td>1</td>\n",
       "      <td>26</td>\n",
       "      <td>994.7052</td>\n",
       "    </tr>\n",
       "    <tr>\n",
       "      <th>...</th>\n",
       "      <td>...</td>\n",
       "      <td>...</td>\n",
       "      <td>...</td>\n",
       "      <td>...</td>\n",
       "      <td>...</td>\n",
       "      <td>...</td>\n",
       "      <td>...</td>\n",
       "      <td>...</td>\n",
       "      <td>...</td>\n",
       "      <td>...</td>\n",
       "      <td>...</td>\n",
       "      <td>...</td>\n",
       "    </tr>\n",
       "    <tr>\n",
       "      <th>8518</th>\n",
       "      <td>6.865</td>\n",
       "      <td>0</td>\n",
       "      <td>0.056783</td>\n",
       "      <td>13</td>\n",
       "      <td>214.5218</td>\n",
       "      <td>1</td>\n",
       "      <td>370</td>\n",
       "      <td>0</td>\n",
       "      <td>2</td>\n",
       "      <td>1</td>\n",
       "      <td>26</td>\n",
       "      <td>2778.3834</td>\n",
       "    </tr>\n",
       "    <tr>\n",
       "      <th>8519</th>\n",
       "      <td>8.380</td>\n",
       "      <td>1</td>\n",
       "      <td>0.046982</td>\n",
       "      <td>0</td>\n",
       "      <td>108.1570</td>\n",
       "      <td>7</td>\n",
       "      <td>897</td>\n",
       "      <td>1</td>\n",
       "      <td>1</td>\n",
       "      <td>1</td>\n",
       "      <td>11</td>\n",
       "      <td>549.2850</td>\n",
       "    </tr>\n",
       "    <tr>\n",
       "      <th>8520</th>\n",
       "      <td>10.600</td>\n",
       "      <td>0</td>\n",
       "      <td>0.035186</td>\n",
       "      <td>8</td>\n",
       "      <td>85.1224</td>\n",
       "      <td>6</td>\n",
       "      <td>1357</td>\n",
       "      <td>2</td>\n",
       "      <td>1</td>\n",
       "      <td>1</td>\n",
       "      <td>9</td>\n",
       "      <td>1193.1136</td>\n",
       "    </tr>\n",
       "    <tr>\n",
       "      <th>8521</th>\n",
       "      <td>7.210</td>\n",
       "      <td>1</td>\n",
       "      <td>0.145221</td>\n",
       "      <td>13</td>\n",
       "      <td>103.1332</td>\n",
       "      <td>3</td>\n",
       "      <td>681</td>\n",
       "      <td>1</td>\n",
       "      <td>2</td>\n",
       "      <td>2</td>\n",
       "      <td>4</td>\n",
       "      <td>1845.5976</td>\n",
       "    </tr>\n",
       "    <tr>\n",
       "      <th>8522</th>\n",
       "      <td>14.800</td>\n",
       "      <td>0</td>\n",
       "      <td>0.044878</td>\n",
       "      <td>14</td>\n",
       "      <td>75.4670</td>\n",
       "      <td>8</td>\n",
       "      <td>50</td>\n",
       "      <td>2</td>\n",
       "      <td>0</td>\n",
       "      <td>1</td>\n",
       "      <td>16</td>\n",
       "      <td>765.6700</td>\n",
       "    </tr>\n",
       "  </tbody>\n",
       "</table>\n",
       "<p>8523 rows × 12 columns</p>\n",
       "</div>"
      ],
      "text/plain": [
       "      Item_Weight  Item_Fat_Content  Item_Visibility  Item_Type  Item_MRP  \\\n",
       "0           9.300                 0         0.016047          4  249.8092   \n",
       "1           5.920                 1         0.019278         14   48.2692   \n",
       "2          17.500                 0         0.016760         10  141.6180   \n",
       "3          19.200                 1         0.000000          6  182.0950   \n",
       "4           8.930                 0         0.000000          9   53.8614   \n",
       "...           ...               ...              ...        ...       ...   \n",
       "8518        6.865                 0         0.056783         13  214.5218   \n",
       "8519        8.380                 1         0.046982          0  108.1570   \n",
       "8520       10.600                 0         0.035186          8   85.1224   \n",
       "8521        7.210                 1         0.145221         13  103.1332   \n",
       "8522       14.800                 0         0.044878         14   75.4670   \n",
       "\n",
       "      Outlet_Identifier  Item_Identifier  Outlet_Size  Outlet_Location_Type  \\\n",
       "0                     9              156            1                     0   \n",
       "1                     3                8            1                     2   \n",
       "2                     9              662            1                     0   \n",
       "3                     0             1121            1                     2   \n",
       "4                     1             1297            0                     2   \n",
       "...                 ...              ...          ...                   ...   \n",
       "8518                  1              370            0                     2   \n",
       "8519                  7              897            1                     1   \n",
       "8520                  6             1357            2                     1   \n",
       "8521                  3              681            1                     2   \n",
       "8522                  8               50            2                     0   \n",
       "\n",
       "      Outlet_Type  num_years  Item_Outlet_Sales  \n",
       "0               1         14          3735.1380  \n",
       "1               2          4           443.4228  \n",
       "2               1         14          2097.2700  \n",
       "3               0         15           732.3800  \n",
       "4               1         26           994.7052  \n",
       "...           ...        ...                ...  \n",
       "8518            1         26          2778.3834  \n",
       "8519            1         11           549.2850  \n",
       "8520            1          9          1193.1136  \n",
       "8521            2          4          1845.5976  \n",
       "8522            1         16           765.6700  \n",
       "\n",
       "[8523 rows x 12 columns]"
      ]
     },
     "execution_count": 162,
     "metadata": {},
     "output_type": "execute_result"
    }
   ],
   "source": [
    "train_data_old"
   ]
  },
  {
   "cell_type": "code",
   "execution_count": 163,
   "metadata": {},
   "outputs": [
    {
     "data": {
      "text/html": [
       "<div>\n",
       "<style scoped>\n",
       "    .dataframe tbody tr th:only-of-type {\n",
       "        vertical-align: middle;\n",
       "    }\n",
       "\n",
       "    .dataframe tbody tr th {\n",
       "        vertical-align: top;\n",
       "    }\n",
       "\n",
       "    .dataframe thead th {\n",
       "        text-align: right;\n",
       "    }\n",
       "</style>\n",
       "<table border=\"1\" class=\"dataframe\">\n",
       "  <thead>\n",
       "    <tr style=\"text-align: right;\">\n",
       "      <th></th>\n",
       "      <th>Item_Weight</th>\n",
       "      <th>Item_Fat_Content</th>\n",
       "      <th>Item_Visibility</th>\n",
       "      <th>Item_Type</th>\n",
       "      <th>Item_MRP</th>\n",
       "      <th>Outlet_Identifier</th>\n",
       "      <th>Item_Identifier</th>\n",
       "      <th>Outlet_Size</th>\n",
       "      <th>Outlet_Location_Type</th>\n",
       "      <th>Outlet_Type</th>\n",
       "      <th>num_years</th>\n",
       "      <th>Item_Outlet_Sales</th>\n",
       "    </tr>\n",
       "  </thead>\n",
       "  <tbody>\n",
       "    <tr>\n",
       "      <th>0</th>\n",
       "      <td>9.300</td>\n",
       "      <td>0</td>\n",
       "      <td>0.016047</td>\n",
       "      <td>4</td>\n",
       "      <td>249.8092</td>\n",
       "      <td>9</td>\n",
       "      <td>156</td>\n",
       "      <td>1</td>\n",
       "      <td>0</td>\n",
       "      <td>1</td>\n",
       "      <td>14</td>\n",
       "      <td>3735.1380</td>\n",
       "    </tr>\n",
       "    <tr>\n",
       "      <th>1</th>\n",
       "      <td>5.920</td>\n",
       "      <td>1</td>\n",
       "      <td>0.019278</td>\n",
       "      <td>14</td>\n",
       "      <td>48.2692</td>\n",
       "      <td>3</td>\n",
       "      <td>8</td>\n",
       "      <td>1</td>\n",
       "      <td>2</td>\n",
       "      <td>2</td>\n",
       "      <td>4</td>\n",
       "      <td>443.4228</td>\n",
       "    </tr>\n",
       "    <tr>\n",
       "      <th>2</th>\n",
       "      <td>17.500</td>\n",
       "      <td>0</td>\n",
       "      <td>0.016760</td>\n",
       "      <td>10</td>\n",
       "      <td>141.6180</td>\n",
       "      <td>9</td>\n",
       "      <td>662</td>\n",
       "      <td>1</td>\n",
       "      <td>0</td>\n",
       "      <td>1</td>\n",
       "      <td>14</td>\n",
       "      <td>2097.2700</td>\n",
       "    </tr>\n",
       "    <tr>\n",
       "      <th>3</th>\n",
       "      <td>19.200</td>\n",
       "      <td>1</td>\n",
       "      <td>0.000000</td>\n",
       "      <td>6</td>\n",
       "      <td>182.0950</td>\n",
       "      <td>0</td>\n",
       "      <td>1121</td>\n",
       "      <td>1</td>\n",
       "      <td>2</td>\n",
       "      <td>0</td>\n",
       "      <td>15</td>\n",
       "      <td>732.3800</td>\n",
       "    </tr>\n",
       "    <tr>\n",
       "      <th>4</th>\n",
       "      <td>8.930</td>\n",
       "      <td>0</td>\n",
       "      <td>0.000000</td>\n",
       "      <td>9</td>\n",
       "      <td>53.8614</td>\n",
       "      <td>1</td>\n",
       "      <td>1297</td>\n",
       "      <td>0</td>\n",
       "      <td>2</td>\n",
       "      <td>1</td>\n",
       "      <td>26</td>\n",
       "      <td>994.7052</td>\n",
       "    </tr>\n",
       "    <tr>\n",
       "      <th>...</th>\n",
       "      <td>...</td>\n",
       "      <td>...</td>\n",
       "      <td>...</td>\n",
       "      <td>...</td>\n",
       "      <td>...</td>\n",
       "      <td>...</td>\n",
       "      <td>...</td>\n",
       "      <td>...</td>\n",
       "      <td>...</td>\n",
       "      <td>...</td>\n",
       "      <td>...</td>\n",
       "      <td>...</td>\n",
       "    </tr>\n",
       "    <tr>\n",
       "      <th>8518</th>\n",
       "      <td>6.865</td>\n",
       "      <td>0</td>\n",
       "      <td>0.056783</td>\n",
       "      <td>13</td>\n",
       "      <td>214.5218</td>\n",
       "      <td>1</td>\n",
       "      <td>370</td>\n",
       "      <td>0</td>\n",
       "      <td>2</td>\n",
       "      <td>1</td>\n",
       "      <td>26</td>\n",
       "      <td>2778.3834</td>\n",
       "    </tr>\n",
       "    <tr>\n",
       "      <th>8519</th>\n",
       "      <td>8.380</td>\n",
       "      <td>1</td>\n",
       "      <td>0.046982</td>\n",
       "      <td>0</td>\n",
       "      <td>108.1570</td>\n",
       "      <td>7</td>\n",
       "      <td>897</td>\n",
       "      <td>1</td>\n",
       "      <td>1</td>\n",
       "      <td>1</td>\n",
       "      <td>11</td>\n",
       "      <td>549.2850</td>\n",
       "    </tr>\n",
       "    <tr>\n",
       "      <th>8520</th>\n",
       "      <td>10.600</td>\n",
       "      <td>0</td>\n",
       "      <td>0.035186</td>\n",
       "      <td>8</td>\n",
       "      <td>85.1224</td>\n",
       "      <td>6</td>\n",
       "      <td>1357</td>\n",
       "      <td>2</td>\n",
       "      <td>1</td>\n",
       "      <td>1</td>\n",
       "      <td>9</td>\n",
       "      <td>1193.1136</td>\n",
       "    </tr>\n",
       "    <tr>\n",
       "      <th>8521</th>\n",
       "      <td>7.210</td>\n",
       "      <td>1</td>\n",
       "      <td>0.145221</td>\n",
       "      <td>13</td>\n",
       "      <td>103.1332</td>\n",
       "      <td>3</td>\n",
       "      <td>681</td>\n",
       "      <td>1</td>\n",
       "      <td>2</td>\n",
       "      <td>2</td>\n",
       "      <td>4</td>\n",
       "      <td>1845.5976</td>\n",
       "    </tr>\n",
       "    <tr>\n",
       "      <th>8522</th>\n",
       "      <td>14.800</td>\n",
       "      <td>0</td>\n",
       "      <td>0.044878</td>\n",
       "      <td>14</td>\n",
       "      <td>75.4670</td>\n",
       "      <td>8</td>\n",
       "      <td>50</td>\n",
       "      <td>2</td>\n",
       "      <td>0</td>\n",
       "      <td>1</td>\n",
       "      <td>16</td>\n",
       "      <td>765.6700</td>\n",
       "    </tr>\n",
       "  </tbody>\n",
       "</table>\n",
       "<p>8338 rows × 12 columns</p>\n",
       "</div>"
      ],
      "text/plain": [
       "      Item_Weight  Item_Fat_Content  Item_Visibility  Item_Type  Item_MRP  \\\n",
       "0           9.300                 0         0.016047          4  249.8092   \n",
       "1           5.920                 1         0.019278         14   48.2692   \n",
       "2          17.500                 0         0.016760         10  141.6180   \n",
       "3          19.200                 1         0.000000          6  182.0950   \n",
       "4           8.930                 0         0.000000          9   53.8614   \n",
       "...           ...               ...              ...        ...       ...   \n",
       "8518        6.865                 0         0.056783         13  214.5218   \n",
       "8519        8.380                 1         0.046982          0  108.1570   \n",
       "8520       10.600                 0         0.035186          8   85.1224   \n",
       "8521        7.210                 1         0.145221         13  103.1332   \n",
       "8522       14.800                 0         0.044878         14   75.4670   \n",
       "\n",
       "      Outlet_Identifier  Item_Identifier  Outlet_Size  Outlet_Location_Type  \\\n",
       "0                     9              156            1                     0   \n",
       "1                     3                8            1                     2   \n",
       "2                     9              662            1                     0   \n",
       "3                     0             1121            1                     2   \n",
       "4                     1             1297            0                     2   \n",
       "...                 ...              ...          ...                   ...   \n",
       "8518                  1              370            0                     2   \n",
       "8519                  7              897            1                     1   \n",
       "8520                  6             1357            2                     1   \n",
       "8521                  3              681            1                     2   \n",
       "8522                  8               50            2                     0   \n",
       "\n",
       "      Outlet_Type  num_years  Item_Outlet_Sales  \n",
       "0               1         14          3735.1380  \n",
       "1               2          4           443.4228  \n",
       "2               1         14          2097.2700  \n",
       "3               0         15           732.3800  \n",
       "4               1         26           994.7052  \n",
       "...           ...        ...                ...  \n",
       "8518            1         26          2778.3834  \n",
       "8519            1         11           549.2850  \n",
       "8520            1          9          1193.1136  \n",
       "8521            2          4          1845.5976  \n",
       "8522            1         16           765.6700  \n",
       "\n",
       "[8338 rows x 12 columns]"
      ]
     },
     "execution_count": 163,
     "metadata": {},
     "output_type": "execute_result"
    }
   ],
   "source": [
    "train_data"
   ]
  },
  {
   "cell_type": "code",
   "execution_count": 164,
   "metadata": {},
   "outputs": [],
   "source": [
    "train_data['Item_Fat_Content'] = train_data_old['Item_Fat_Content']\n",
    "train_data['Item_Type'] = train_data_old['Item_Type']\n",
    "train_data['Outlet_Size'] = train_data_old['Outlet_Size']\n",
    "train_data['Outlet_Location_Type'] = train_data_old['Outlet_Location_Type']\n",
    "train_data['Outlet_Type'] = train_data_old['Outlet_Type']\n",
    "train_data['Outlet_Identifier'] = train_data_old['Outlet_Identifier']\n",
    "train_data['Item_Identifier'] = train_data_old['Item_Identifier']"
   ]
  },
  {
   "cell_type": "code",
   "execution_count": 165,
   "metadata": {
    "scrolled": true
   },
   "outputs": [
    {
     "data": {
      "text/html": [
       "<div>\n",
       "<style scoped>\n",
       "    .dataframe tbody tr th:only-of-type {\n",
       "        vertical-align: middle;\n",
       "    }\n",
       "\n",
       "    .dataframe tbody tr th {\n",
       "        vertical-align: top;\n",
       "    }\n",
       "\n",
       "    .dataframe thead th {\n",
       "        text-align: right;\n",
       "    }\n",
       "</style>\n",
       "<table border=\"1\" class=\"dataframe\">\n",
       "  <thead>\n",
       "    <tr style=\"text-align: right;\">\n",
       "      <th></th>\n",
       "      <th>Item_Weight</th>\n",
       "      <th>Item_Fat_Content</th>\n",
       "      <th>Item_Visibility</th>\n",
       "      <th>Item_Type</th>\n",
       "      <th>Item_MRP</th>\n",
       "      <th>Outlet_Identifier</th>\n",
       "      <th>Item_Identifier</th>\n",
       "      <th>Outlet_Size</th>\n",
       "      <th>Outlet_Location_Type</th>\n",
       "      <th>Outlet_Type</th>\n",
       "      <th>num_years</th>\n",
       "      <th>Item_Outlet_Sales</th>\n",
       "    </tr>\n",
       "  </thead>\n",
       "  <tbody>\n",
       "    <tr>\n",
       "      <th>0</th>\n",
       "      <td>9.300</td>\n",
       "      <td>0</td>\n",
       "      <td>0.016047</td>\n",
       "      <td>4</td>\n",
       "      <td>249.8092</td>\n",
       "      <td>9</td>\n",
       "      <td>156</td>\n",
       "      <td>1</td>\n",
       "      <td>0</td>\n",
       "      <td>1</td>\n",
       "      <td>14</td>\n",
       "      <td>3735.1380</td>\n",
       "    </tr>\n",
       "    <tr>\n",
       "      <th>1</th>\n",
       "      <td>5.920</td>\n",
       "      <td>1</td>\n",
       "      <td>0.019278</td>\n",
       "      <td>14</td>\n",
       "      <td>48.2692</td>\n",
       "      <td>3</td>\n",
       "      <td>8</td>\n",
       "      <td>1</td>\n",
       "      <td>2</td>\n",
       "      <td>2</td>\n",
       "      <td>4</td>\n",
       "      <td>443.4228</td>\n",
       "    </tr>\n",
       "    <tr>\n",
       "      <th>2</th>\n",
       "      <td>17.500</td>\n",
       "      <td>0</td>\n",
       "      <td>0.016760</td>\n",
       "      <td>10</td>\n",
       "      <td>141.6180</td>\n",
       "      <td>9</td>\n",
       "      <td>662</td>\n",
       "      <td>1</td>\n",
       "      <td>0</td>\n",
       "      <td>1</td>\n",
       "      <td>14</td>\n",
       "      <td>2097.2700</td>\n",
       "    </tr>\n",
       "    <tr>\n",
       "      <th>3</th>\n",
       "      <td>19.200</td>\n",
       "      <td>1</td>\n",
       "      <td>0.000000</td>\n",
       "      <td>6</td>\n",
       "      <td>182.0950</td>\n",
       "      <td>0</td>\n",
       "      <td>1121</td>\n",
       "      <td>1</td>\n",
       "      <td>2</td>\n",
       "      <td>0</td>\n",
       "      <td>15</td>\n",
       "      <td>732.3800</td>\n",
       "    </tr>\n",
       "    <tr>\n",
       "      <th>4</th>\n",
       "      <td>8.930</td>\n",
       "      <td>0</td>\n",
       "      <td>0.000000</td>\n",
       "      <td>9</td>\n",
       "      <td>53.8614</td>\n",
       "      <td>1</td>\n",
       "      <td>1297</td>\n",
       "      <td>0</td>\n",
       "      <td>2</td>\n",
       "      <td>1</td>\n",
       "      <td>26</td>\n",
       "      <td>994.7052</td>\n",
       "    </tr>\n",
       "    <tr>\n",
       "      <th>...</th>\n",
       "      <td>...</td>\n",
       "      <td>...</td>\n",
       "      <td>...</td>\n",
       "      <td>...</td>\n",
       "      <td>...</td>\n",
       "      <td>...</td>\n",
       "      <td>...</td>\n",
       "      <td>...</td>\n",
       "      <td>...</td>\n",
       "      <td>...</td>\n",
       "      <td>...</td>\n",
       "      <td>...</td>\n",
       "    </tr>\n",
       "    <tr>\n",
       "      <th>8518</th>\n",
       "      <td>6.865</td>\n",
       "      <td>0</td>\n",
       "      <td>0.056783</td>\n",
       "      <td>13</td>\n",
       "      <td>214.5218</td>\n",
       "      <td>1</td>\n",
       "      <td>370</td>\n",
       "      <td>0</td>\n",
       "      <td>2</td>\n",
       "      <td>1</td>\n",
       "      <td>26</td>\n",
       "      <td>2778.3834</td>\n",
       "    </tr>\n",
       "    <tr>\n",
       "      <th>8519</th>\n",
       "      <td>8.380</td>\n",
       "      <td>1</td>\n",
       "      <td>0.046982</td>\n",
       "      <td>0</td>\n",
       "      <td>108.1570</td>\n",
       "      <td>7</td>\n",
       "      <td>897</td>\n",
       "      <td>1</td>\n",
       "      <td>1</td>\n",
       "      <td>1</td>\n",
       "      <td>11</td>\n",
       "      <td>549.2850</td>\n",
       "    </tr>\n",
       "    <tr>\n",
       "      <th>8520</th>\n",
       "      <td>10.600</td>\n",
       "      <td>0</td>\n",
       "      <td>0.035186</td>\n",
       "      <td>8</td>\n",
       "      <td>85.1224</td>\n",
       "      <td>6</td>\n",
       "      <td>1357</td>\n",
       "      <td>2</td>\n",
       "      <td>1</td>\n",
       "      <td>1</td>\n",
       "      <td>9</td>\n",
       "      <td>1193.1136</td>\n",
       "    </tr>\n",
       "    <tr>\n",
       "      <th>8521</th>\n",
       "      <td>7.210</td>\n",
       "      <td>1</td>\n",
       "      <td>0.145221</td>\n",
       "      <td>13</td>\n",
       "      <td>103.1332</td>\n",
       "      <td>3</td>\n",
       "      <td>681</td>\n",
       "      <td>1</td>\n",
       "      <td>2</td>\n",
       "      <td>2</td>\n",
       "      <td>4</td>\n",
       "      <td>1845.5976</td>\n",
       "    </tr>\n",
       "    <tr>\n",
       "      <th>8522</th>\n",
       "      <td>14.800</td>\n",
       "      <td>0</td>\n",
       "      <td>0.044878</td>\n",
       "      <td>14</td>\n",
       "      <td>75.4670</td>\n",
       "      <td>8</td>\n",
       "      <td>50</td>\n",
       "      <td>2</td>\n",
       "      <td>0</td>\n",
       "      <td>1</td>\n",
       "      <td>16</td>\n",
       "      <td>765.6700</td>\n",
       "    </tr>\n",
       "  </tbody>\n",
       "</table>\n",
       "<p>8338 rows × 12 columns</p>\n",
       "</div>"
      ],
      "text/plain": [
       "      Item_Weight  Item_Fat_Content  Item_Visibility  Item_Type  Item_MRP  \\\n",
       "0           9.300                 0         0.016047          4  249.8092   \n",
       "1           5.920                 1         0.019278         14   48.2692   \n",
       "2          17.500                 0         0.016760         10  141.6180   \n",
       "3          19.200                 1         0.000000          6  182.0950   \n",
       "4           8.930                 0         0.000000          9   53.8614   \n",
       "...           ...               ...              ...        ...       ...   \n",
       "8518        6.865                 0         0.056783         13  214.5218   \n",
       "8519        8.380                 1         0.046982          0  108.1570   \n",
       "8520       10.600                 0         0.035186          8   85.1224   \n",
       "8521        7.210                 1         0.145221         13  103.1332   \n",
       "8522       14.800                 0         0.044878         14   75.4670   \n",
       "\n",
       "      Outlet_Identifier  Item_Identifier  Outlet_Size  Outlet_Location_Type  \\\n",
       "0                     9              156            1                     0   \n",
       "1                     3                8            1                     2   \n",
       "2                     9              662            1                     0   \n",
       "3                     0             1121            1                     2   \n",
       "4                     1             1297            0                     2   \n",
       "...                 ...              ...          ...                   ...   \n",
       "8518                  1              370            0                     2   \n",
       "8519                  7              897            1                     1   \n",
       "8520                  6             1357            2                     1   \n",
       "8521                  3              681            1                     2   \n",
       "8522                  8               50            2                     0   \n",
       "\n",
       "      Outlet_Type  num_years  Item_Outlet_Sales  \n",
       "0               1         14          3735.1380  \n",
       "1               2          4           443.4228  \n",
       "2               1         14          2097.2700  \n",
       "3               0         15           732.3800  \n",
       "4               1         26           994.7052  \n",
       "...           ...        ...                ...  \n",
       "8518            1         26          2778.3834  \n",
       "8519            1         11           549.2850  \n",
       "8520            1          9          1193.1136  \n",
       "8521            2          4          1845.5976  \n",
       "8522            1         16           765.6700  \n",
       "\n",
       "[8338 rows x 12 columns]"
      ]
     },
     "execution_count": 165,
     "metadata": {},
     "output_type": "execute_result"
    }
   ],
   "source": [
    "train_data"
   ]
  },
  {
   "cell_type": "code",
   "execution_count": 166,
   "metadata": {},
   "outputs": [],
   "source": [
    "#Creating X,Y dataset to make model"
   ]
  },
  {
   "cell_type": "code",
   "execution_count": 167,
   "metadata": {},
   "outputs": [],
   "source": [
    "x = train_data.iloc[:,0:11]\n",
    "y = train_data.iloc[:,-1]"
   ]
  },
  {
   "cell_type": "code",
   "execution_count": 168,
   "metadata": {},
   "outputs": [
    {
     "data": {
      "text/plain": [
       "(8338, 11)"
      ]
     },
     "execution_count": 168,
     "metadata": {},
     "output_type": "execute_result"
    }
   ],
   "source": [
    "x.shape"
   ]
  },
  {
   "cell_type": "code",
   "execution_count": 169,
   "metadata": {},
   "outputs": [
    {
     "data": {
      "text/plain": [
       "(8338,)"
      ]
     },
     "execution_count": 169,
     "metadata": {},
     "output_type": "execute_result"
    }
   ],
   "source": [
    "y.shape"
   ]
  },
  {
   "cell_type": "code",
   "execution_count": 170,
   "metadata": {
    "scrolled": true
   },
   "outputs": [
    {
     "data": {
      "text/plain": [
       "Index(['Item_Weight', 'Item_Fat_Content', 'Item_Visibility', 'Item_Type',\n",
       "       'Item_MRP', 'Outlet_Identifier', 'Item_Identifier', 'Outlet_Size',\n",
       "       'Outlet_Location_Type', 'Outlet_Type', 'num_years'],\n",
       "      dtype='object')"
      ]
     },
     "execution_count": 170,
     "metadata": {},
     "output_type": "execute_result"
    }
   ],
   "source": [
    "x.columns"
   ]
  },
  {
   "cell_type": "markdown",
   "metadata": {},
   "source": [
    "# Scaling the dataset"
   ]
  },
  {
   "cell_type": "code",
   "execution_count": 171,
   "metadata": {
    "scrolled": true
   },
   "outputs": [
    {
     "data": {
      "text/html": [
       "<div>\n",
       "<style scoped>\n",
       "    .dataframe tbody tr th:only-of-type {\n",
       "        vertical-align: middle;\n",
       "    }\n",
       "\n",
       "    .dataframe tbody tr th {\n",
       "        vertical-align: top;\n",
       "    }\n",
       "\n",
       "    .dataframe thead th {\n",
       "        text-align: right;\n",
       "    }\n",
       "</style>\n",
       "<table border=\"1\" class=\"dataframe\">\n",
       "  <thead>\n",
       "    <tr style=\"text-align: right;\">\n",
       "      <th></th>\n",
       "      <th>Item_Weight</th>\n",
       "      <th>Item_Fat_Content</th>\n",
       "      <th>Item_Visibility</th>\n",
       "      <th>Item_Type</th>\n",
       "      <th>Item_MRP</th>\n",
       "      <th>Outlet_Identifier</th>\n",
       "      <th>Item_Identifier</th>\n",
       "      <th>Outlet_Size</th>\n",
       "      <th>Outlet_Location_Type</th>\n",
       "      <th>Outlet_Type</th>\n",
       "      <th>num_years</th>\n",
       "    </tr>\n",
       "  </thead>\n",
       "  <tbody>\n",
       "    <tr>\n",
       "      <th>0</th>\n",
       "      <td>-0.837178</td>\n",
       "      <td>-0.736645</td>\n",
       "      <td>-1.011507</td>\n",
       "      <td>-0.766589</td>\n",
       "      <td>1.771831</td>\n",
       "      <td>1.496012</td>\n",
       "      <td>-1.386901</td>\n",
       "      <td>-0.278874</td>\n",
       "      <td>-1.370345</td>\n",
       "      <td>-0.259839</td>\n",
       "      <td>-0.120549</td>\n",
       "    </tr>\n",
       "    <tr>\n",
       "      <th>1</th>\n",
       "      <td>-1.632036</td>\n",
       "      <td>1.357506</td>\n",
       "      <td>-0.943320</td>\n",
       "      <td>1.610171</td>\n",
       "      <td>-1.482939</td>\n",
       "      <td>-0.615022</td>\n",
       "      <td>-1.715672</td>\n",
       "      <td>-0.278874</td>\n",
       "      <td>1.099060</td>\n",
       "      <td>1.022134</td>\n",
       "      <td>-1.322724</td>\n",
       "    </tr>\n",
       "    <tr>\n",
       "      <th>2</th>\n",
       "      <td>1.091176</td>\n",
       "      <td>-0.736645</td>\n",
       "      <td>-0.996464</td>\n",
       "      <td>0.659467</td>\n",
       "      <td>0.024597</td>\n",
       "      <td>1.496012</td>\n",
       "      <td>-0.262861</td>\n",
       "      <td>-0.278874</td>\n",
       "      <td>-1.370345</td>\n",
       "      <td>-0.259839</td>\n",
       "      <td>-0.120549</td>\n",
       "    </tr>\n",
       "    <tr>\n",
       "      <th>3</th>\n",
       "      <td>1.490957</td>\n",
       "      <td>1.357506</td>\n",
       "      <td>-1.350181</td>\n",
       "      <td>-0.291237</td>\n",
       "      <td>0.678281</td>\n",
       "      <td>-1.670540</td>\n",
       "      <td>0.756773</td>\n",
       "      <td>-0.278874</td>\n",
       "      <td>1.099060</td>\n",
       "      <td>-1.541811</td>\n",
       "      <td>-0.000332</td>\n",
       "    </tr>\n",
       "    <tr>\n",
       "      <th>4</th>\n",
       "      <td>-0.924189</td>\n",
       "      <td>-0.736645</td>\n",
       "      <td>-1.350181</td>\n",
       "      <td>0.421791</td>\n",
       "      <td>-1.392628</td>\n",
       "      <td>-1.318700</td>\n",
       "      <td>1.147744</td>\n",
       "      <td>-1.940955</td>\n",
       "      <td>1.099060</td>\n",
       "      <td>-0.259839</td>\n",
       "      <td>1.322060</td>\n",
       "    </tr>\n",
       "    <tr>\n",
       "      <th>...</th>\n",
       "      <td>...</td>\n",
       "      <td>...</td>\n",
       "      <td>...</td>\n",
       "      <td>...</td>\n",
       "      <td>...</td>\n",
       "      <td>...</td>\n",
       "      <td>...</td>\n",
       "      <td>...</td>\n",
       "      <td>...</td>\n",
       "      <td>...</td>\n",
       "      <td>...</td>\n",
       "    </tr>\n",
       "    <tr>\n",
       "      <th>8333</th>\n",
       "      <td>-1.409805</td>\n",
       "      <td>-0.736645</td>\n",
       "      <td>-0.151783</td>\n",
       "      <td>1.372495</td>\n",
       "      <td>1.201957</td>\n",
       "      <td>-1.318700</td>\n",
       "      <td>-0.911516</td>\n",
       "      <td>-1.940955</td>\n",
       "      <td>1.099060</td>\n",
       "      <td>-0.259839</td>\n",
       "      <td>1.322060</td>\n",
       "    </tr>\n",
       "    <tr>\n",
       "      <th>8334</th>\n",
       "      <td>-1.053529</td>\n",
       "      <td>1.357506</td>\n",
       "      <td>-0.358630</td>\n",
       "      <td>-1.717294</td>\n",
       "      <td>-0.515781</td>\n",
       "      <td>0.792334</td>\n",
       "      <td>0.259174</td>\n",
       "      <td>-0.278874</td>\n",
       "      <td>-0.135643</td>\n",
       "      <td>-0.259839</td>\n",
       "      <td>-0.481201</td>\n",
       "    </tr>\n",
       "    <tr>\n",
       "      <th>8335</th>\n",
       "      <td>-0.531463</td>\n",
       "      <td>-0.736645</td>\n",
       "      <td>-0.607585</td>\n",
       "      <td>0.184115</td>\n",
       "      <td>-0.887778</td>\n",
       "      <td>0.440495</td>\n",
       "      <td>1.281030</td>\n",
       "      <td>1.383207</td>\n",
       "      <td>-0.135643</td>\n",
       "      <td>-0.259839</td>\n",
       "      <td>-0.721636</td>\n",
       "    </tr>\n",
       "    <tr>\n",
       "      <th>8336</th>\n",
       "      <td>-1.328673</td>\n",
       "      <td>1.357506</td>\n",
       "      <td>1.714661</td>\n",
       "      <td>1.372495</td>\n",
       "      <td>-0.596913</td>\n",
       "      <td>-0.615022</td>\n",
       "      <td>-0.220653</td>\n",
       "      <td>-0.278874</td>\n",
       "      <td>1.099060</td>\n",
       "      <td>1.022134</td>\n",
       "      <td>-1.322724</td>\n",
       "    </tr>\n",
       "    <tr>\n",
       "      <th>8337</th>\n",
       "      <td>0.456231</td>\n",
       "      <td>-0.736645</td>\n",
       "      <td>-0.403037</td>\n",
       "      <td>1.610171</td>\n",
       "      <td>-1.043708</td>\n",
       "      <td>1.144173</td>\n",
       "      <td>-1.622372</td>\n",
       "      <td>1.383207</td>\n",
       "      <td>-1.370345</td>\n",
       "      <td>-0.259839</td>\n",
       "      <td>0.119886</td>\n",
       "    </tr>\n",
       "  </tbody>\n",
       "</table>\n",
       "<p>8338 rows × 11 columns</p>\n",
       "</div>"
      ],
      "text/plain": [
       "      Item_Weight  Item_Fat_Content  Item_Visibility  Item_Type  Item_MRP  \\\n",
       "0       -0.837178         -0.736645        -1.011507  -0.766589  1.771831   \n",
       "1       -1.632036          1.357506        -0.943320   1.610171 -1.482939   \n",
       "2        1.091176         -0.736645        -0.996464   0.659467  0.024597   \n",
       "3        1.490957          1.357506        -1.350181  -0.291237  0.678281   \n",
       "4       -0.924189         -0.736645        -1.350181   0.421791 -1.392628   \n",
       "...           ...               ...              ...        ...       ...   \n",
       "8333    -1.409805         -0.736645        -0.151783   1.372495  1.201957   \n",
       "8334    -1.053529          1.357506        -0.358630  -1.717294 -0.515781   \n",
       "8335    -0.531463         -0.736645        -0.607585   0.184115 -0.887778   \n",
       "8336    -1.328673          1.357506         1.714661   1.372495 -0.596913   \n",
       "8337     0.456231         -0.736645        -0.403037   1.610171 -1.043708   \n",
       "\n",
       "      Outlet_Identifier  Item_Identifier  Outlet_Size  Outlet_Location_Type  \\\n",
       "0              1.496012        -1.386901    -0.278874             -1.370345   \n",
       "1             -0.615022        -1.715672    -0.278874              1.099060   \n",
       "2              1.496012        -0.262861    -0.278874             -1.370345   \n",
       "3             -1.670540         0.756773    -0.278874              1.099060   \n",
       "4             -1.318700         1.147744    -1.940955              1.099060   \n",
       "...                 ...              ...          ...                   ...   \n",
       "8333          -1.318700        -0.911516    -1.940955              1.099060   \n",
       "8334           0.792334         0.259174    -0.278874             -0.135643   \n",
       "8335           0.440495         1.281030     1.383207             -0.135643   \n",
       "8336          -0.615022        -0.220653    -0.278874              1.099060   \n",
       "8337           1.144173        -1.622372     1.383207             -1.370345   \n",
       "\n",
       "      Outlet_Type  num_years  \n",
       "0       -0.259839  -0.120549  \n",
       "1        1.022134  -1.322724  \n",
       "2       -0.259839  -0.120549  \n",
       "3       -1.541811  -0.000332  \n",
       "4       -0.259839   1.322060  \n",
       "...           ...        ...  \n",
       "8333    -0.259839   1.322060  \n",
       "8334    -0.259839  -0.481201  \n",
       "8335    -0.259839  -0.721636  \n",
       "8336     1.022134  -1.322724  \n",
       "8337    -0.259839   0.119886  \n",
       "\n",
       "[8338 rows x 11 columns]"
      ]
     },
     "execution_count": 171,
     "metadata": {},
     "output_type": "execute_result"
    }
   ],
   "source": [
    "from sklearn.preprocessing import StandardScaler\n",
    "\n",
    "sc = StandardScaler()\n",
    "x= sc.fit_transform(x)\n",
    "columnslist = ['Item_Weight', 'Item_Fat_Content', 'Item_Visibility', 'Item_Type',\n",
    "       'Item_MRP', 'Outlet_Identifier', 'Item_Identifier','Outlet_Size', 'Outlet_Location_Type', 'Outlet_Type',\n",
    "       'num_years']\n",
    "x= pd.DataFrame(x, columns = columnslist)\n",
    "x"
   ]
  },
  {
   "cell_type": "code",
   "execution_count": 172,
   "metadata": {
    "scrolled": true
   },
   "outputs": [
    {
     "name": "stdout",
     "output_type": "stream",
     "text": [
      "(7504, 11)\n",
      "(7504,)\n",
      "(834, 11)\n",
      "(834,)\n"
     ]
    }
   ],
   "source": [
    "x_train, x_test, y_train, y_test = train_test_split(x, y, test_size=.10, random_state=42)\n",
    "print(x_train.shape)\n",
    "print(y_train.shape)\n",
    "print(x_test.shape)\n",
    "print(y_test.shape)"
   ]
  },
  {
   "cell_type": "markdown",
   "metadata": {},
   "source": [
    "# Linear Regression Model making"
   ]
  },
  {
   "cell_type": "code",
   "execution_count": 173,
   "metadata": {},
   "outputs": [
    {
     "data": {
      "text/plain": [
       "LinearRegression()"
      ]
     },
     "execution_count": 173,
     "metadata": {},
     "output_type": "execute_result"
    }
   ],
   "source": [
    "#Now we need to import few more libraries:\n",
    "\n",
    "from sklearn.linear_model import LinearRegression\n",
    "\n",
    "lm = LinearRegression()\n",
    "lm.fit(x_train, y_train)"
   ]
  },
  {
   "cell_type": "code",
   "execution_count": 174,
   "metadata": {
    "scrolled": false
   },
   "outputs": [
    {
     "name": "stdout",
     "output_type": "stream",
     "text": [
      "linearRegression Coeffient [  -2.58854926   22.8245572   -49.07381245    0.96790162  909.65784776\n",
      "  153.39436189   -0.9194733  -213.92149824 -210.09224265  641.82588524\n",
      "  -22.57908792]\n",
      "linearRegression Intercept 2130.9810448658113\n",
      "linearRegression score 0.49800666501978497\n"
     ]
    }
   ],
   "source": [
    "print('linearRegression Coeffient', lm.coef_)\n",
    "print('linearRegression Intercept', lm.intercept_)\n",
    "print('linearRegression score', lm.score(x_train, y_train))"
   ]
  },
  {
   "cell_type": "markdown",
   "metadata": {},
   "source": [
    "Observation:\n",
    "    \n",
    "    Accuracy score of LinearRegression model is 49.80 %"
   ]
  },
  {
   "cell_type": "code",
   "execution_count": 175,
   "metadata": {},
   "outputs": [
    {
     "data": {
      "text/plain": [
       "array([2426.93129332, 2037.50395581, 2689.50618301, 1406.20474372,\n",
       "       3543.66924371,  477.4601507 , 3788.06918367, 2532.02709658,\n",
       "       2931.01954748, 2312.65965328, 1564.67822439,  467.11039258,\n",
       "       2670.57051042,  701.51899038, 1707.99532245,  414.58960976,\n",
       "       1540.15714844,  751.39086644, 3389.26804544,  982.89551566,\n",
       "       -318.16192943, 1754.44889511, 1744.30591497, 2300.80319713,\n",
       "       1438.87498478, 3117.93854633, -277.62915135, 2339.94321269,\n",
       "       2016.11431753, 3406.30877282, 1352.1998072 , 2324.02864775,\n",
       "       2734.48209898, 2281.49371331,  876.51261004, 1091.76739468,\n",
       "       2978.87727127, 2683.23517768, 1462.67452058,  568.98094526,\n",
       "       2741.48666875, 2888.10257354, 2744.94877887, 3573.52232294,\n",
       "       3258.01267898, 2170.45840505, 4340.41074957, 5208.63311066,\n",
       "       3523.20575378, 2067.8825177 , 1648.45757932, 1585.10226814,\n",
       "       3564.28281779, 1197.82404991, 1082.73436484, 3330.88181681,\n",
       "       3615.33224842, 2298.7181643 ,  191.57105791,  467.01794995,\n",
       "       2521.1216326 , 1994.61305821, 3467.92040885, 2619.08814832,\n",
       "       2411.46195507, 2423.50576911, 2288.06093952, 3461.51348415,\n",
       "       3076.0304391 , 3013.25037546, 4212.94063989, 2612.27559801,\n",
       "       2443.09778561,  744.88401768, 1140.5596075 , 1021.93078658,\n",
       "       2585.15493975, 1225.3979717 , 2923.44516635, 4007.92770914,\n",
       "       1301.78515429, 4200.43665193, 3976.38996316, 1982.02789834,\n",
       "       1869.29101171, 2437.50339709, 2009.33135679, 3138.83467565,\n",
       "       3425.03107615, 1469.15370644, 4492.78086611,  773.62805044,\n",
       "       2197.03934333, 2283.07607997, 3717.69309066, 1521.7075538 ,\n",
       "       4025.88093779, 2620.25565456, 3129.25990186, 1233.29745787,\n",
       "       2401.04018483, 2039.62219199, 2894.4416159 , 1254.43357015,\n",
       "       1219.52438523, 1371.29478049,  656.50669294,  928.54678628,\n",
       "        206.15493683, 3066.17667386, 2960.44272279,  925.01217377,\n",
       "       2476.59593905,  789.30635487, 3430.04610463, 1440.90315308,\n",
       "       1697.84102735, 4339.81961132, 2288.56231593, 2759.02920217,\n",
       "       3703.46530695,  503.97758267, 1149.93307547, 1872.93124276,\n",
       "       2036.7860539 , 1488.77776366, 2216.3983756 , 3045.1978109 ,\n",
       "       3961.99446291, 3678.46550638, 2124.78655089, 2897.57117356,\n",
       "       1888.73008068, 1596.6518381 , 2919.10835411, 1891.669457  ,\n",
       "        533.36535593, 2958.48411974, 1883.5553971 , 1944.40084121,\n",
       "       1271.29145415, 2238.87213782, 1984.86253878, 4346.80133608,\n",
       "       1827.16824114, 2732.74846498, 3654.0016477 , 2486.65531794,\n",
       "       1458.38836326, 3058.49970745, 1725.31094446, 2128.02210248,\n",
       "       3030.82418839, 1657.59415224, 1521.07604535, 5121.24725526,\n",
       "       1174.45651452, 1521.72400492, 4186.6622067 , 2221.67434517,\n",
       "        576.94013578,  791.81814387, 1731.21651406, 2015.05467086,\n",
       "       1257.87978203, 3206.08072852, 2255.88102824, 1650.2598982 ,\n",
       "       1622.82429802, 2536.14989047, 1001.31112813, 2628.48297793,\n",
       "        623.34153376, 2501.36296208, 2938.47145498, 2298.34960539,\n",
       "       2584.28643655, 3749.48099081, 2113.84372959, 2297.20882423,\n",
       "       2883.74063242,  801.64651195, 3579.62415251,  494.04745875,\n",
       "       3269.72980148, 1292.24526916, 2684.76207852,  660.5106199 ,\n",
       "        920.58143108, 1730.42054701, 2940.06178943, 1385.3439075 ,\n",
       "       2619.43811047, 2510.55357344, 3227.86772919, 1994.99579603,\n",
       "       2963.07055475, 2089.63692278,  694.12211116, 1498.40526545,\n",
       "        486.41316548, 1351.45198344, 5012.33685186, 3902.11166639,\n",
       "       2054.55496323, 3363.91260418, 2986.41438595, 2532.85160054,\n",
       "       1579.50304801, 1615.58629587,  530.25394349, 3836.32907108,\n",
       "       3282.19646571, 2515.69815167, 2577.65296149, 2256.48537088,\n",
       "       5219.42282732, 2533.78829906, 2114.42485611, 1206.83687252,\n",
       "       3777.15720171, 2483.73794973,  400.04943821, 1951.20174623,\n",
       "       2193.08710345, 1016.00201665,  709.10087491, 3646.23584113,\n",
       "       1688.56917894, 3416.42188399, 2292.53026891, 3373.75407608,\n",
       "       1862.17799512, 2435.23280595,  -82.81828514, 1975.88702983,\n",
       "       3528.96064397, 2229.2325313 , 1563.6440143 , 1713.04302145,\n",
       "       3163.64588747, 1219.96898862, 2692.29658708,  805.98384198,\n",
       "        628.752508  ,  515.2079107 , 3097.47228733, 1103.72211464,\n",
       "       2308.07768665, 1640.99804157, 3244.58983773, -737.76163584,\n",
       "       1665.36301514, 2226.4640098 , 2310.24105952, 2432.20229399,\n",
       "       1610.18146445, 3334.13076412, -193.94941352, 1232.6778529 ,\n",
       "       3469.22107004, 1174.44591127, 1561.07317904, 2163.53087345,\n",
       "       2460.54834088, 2694.79791054, -379.82188559, 1261.54103493,\n",
       "       1836.90045862,  500.34348161,  944.95049941,  473.54145991,\n",
       "       1097.50809222, 2505.44311383, 1322.66496721, 2284.05045383,\n",
       "       2019.51075624, 3850.09596004, 2175.45823361,  928.1905518 ,\n",
       "       2518.58740308, 3047.35441509, 3090.76553221, 1267.52562442,\n",
       "       3226.56477223, 3913.67641666, 3900.13604307, 1375.55893226,\n",
       "       3528.78202463, 2448.52830079, 1669.11687622, 1163.41664588,\n",
       "       1104.52665787, 2611.22832543, 3064.9319107 , 1895.40673402,\n",
       "       3153.11542869,  612.6638047 , 3951.80534544,  492.19415078,\n",
       "       1387.32835011,  779.41099028, 2953.67699631, 1465.44428329,\n",
       "        700.13237858,  994.11787605, 1786.47343453, 1672.54764669,\n",
       "        697.57547192, 3237.79760451, 3097.1704065 , 4245.45329833,\n",
       "       4295.46874337, 1285.20348526, 1446.71916222, 2934.793147  ,\n",
       "        623.28719393, 2765.0951619 , 1191.92372867,  581.37906451,\n",
       "       4283.09101919, 2159.92300098,  516.25403775, 1223.69366591,\n",
       "       2038.88655801, 2533.30476428, 3902.91824001, 1688.51377297,\n",
       "       2734.82086042, 1708.58842696, -577.0576329 ,  628.20473275,\n",
       "        532.95591675, 3425.4656619 , 3530.26298152, 3103.44849068,\n",
       "       3228.83572433, 1812.05830051,  906.80025032, 1324.13431205,\n",
       "       1668.35364017, 3911.79008134, 1992.35774773, 2413.83757045,\n",
       "       2523.2632912 , 1949.51386135, -111.47589691, 3701.6504261 ,\n",
       "       1686.89606437, 2143.92352601, 2750.79878314,  252.96876794,\n",
       "       2664.56054993, 1425.85090255, 3215.05052257, 2771.78565473,\n",
       "       2663.19238267, 1395.43948741,  856.59504694, 2180.9352013 ,\n",
       "       3150.31024788, 2650.75163089,  725.63424463, 2831.06106918,\n",
       "       3631.85791209, 1515.71831466,  956.76431863, 1417.83948879,\n",
       "       2661.24091015, 3483.91884104, 2778.98764168,  690.91166408,\n",
       "       4126.91905091, 1938.12856948, 3641.65223223, 4159.84493635,\n",
       "        434.81086606, 2464.72132982, 2747.7667854 , 2539.75765239,\n",
       "       3369.19565708, 2084.50381387, 3448.72814587,  943.87526391,\n",
       "       3235.92356885,  649.2135032 , 1300.3738966 , 2058.45296828,\n",
       "       1811.4080019 , 1707.47373387, 3109.31719453, 3333.96673211,\n",
       "       2270.36758906, 3742.93650976, 2351.93689309, 1441.63615073,\n",
       "       2489.14245233, 2095.26194597, 1553.75693477, 1675.27879823,\n",
       "       1317.85041845, 1083.78546028, 2256.08216124,  312.52989712,\n",
       "       2030.53838201, 3329.45970003, 1060.62340125, 1085.36987231,\n",
       "       3225.01176244, 2099.54375167, 4161.40793474, 3915.43723554,\n",
       "       1562.00714525, -340.29035652, 3705.53704671, 1423.16876918,\n",
       "       1086.04254516, 2311.17220373, 2301.4777718 ,  853.99038978,\n",
       "        571.0060069 , -320.6773686 , 2427.63626739, 2608.3503163 ,\n",
       "       1743.14754264,  217.01764575, 2225.36566261, 2888.29031945,\n",
       "       1641.17880351, -376.60775832, 1907.93033777, 2251.77256164,\n",
       "       2002.45443837, 2823.00929424, 2574.60824393,  384.3124548 ,\n",
       "        606.48224186, 3402.64122842, 1626.63742311, 2863.51875446,\n",
       "       2137.33683246, 1094.80176627, 2340.52751536, 4409.83752405,\n",
       "       3295.94151529, 3595.72482491, 2844.14867968, 1119.43851257,\n",
       "       4404.9277567 ,  168.94612107, 1550.04273192, 2181.87707633,\n",
       "       1128.55133131,  166.11022769, 1813.70426559, 2202.3662465 ,\n",
       "       2495.74169383, 1716.05804996,  802.13786723, 2721.3618158 ,\n",
       "       1375.32466713, 2085.84832148, 1261.79354259, 2110.77976746,\n",
       "       1627.68741722, 1976.87429537, 1171.00771089, 2378.62732911,\n",
       "       3288.018685  , 2408.43953298, 2646.80467265, -361.94072595,\n",
       "       1169.77743752, 3269.43190101, 1754.80782274, 1597.948894  ,\n",
       "       4077.78769608, 3398.86262273, 1530.03420795, 3598.14540767,\n",
       "       3505.62363769, 2636.90283789, 1800.4078171 , 3779.21389522,\n",
       "        964.88193447, 2945.72245138, 3042.33768443,  198.70310957,\n",
       "       1394.32830955, 1232.13602682, 1561.23209909,  964.04507934,\n",
       "       1730.20221291, 1532.00791488,  592.43737745, 1480.45579288,\n",
       "        720.22691263, 2199.06376529, 2114.59287796, 3688.0318976 ,\n",
       "       3333.02952505, 2406.01116928, 2062.24043423, 1873.57866102,\n",
       "       1455.02791135,  862.44607131,  783.96529992, 2350.4717009 ,\n",
       "       3918.12820031, 3687.71992914, 1522.86582831, 3496.84068107,\n",
       "       3767.24313679,  925.66784301, 1379.27499407, 2716.75248641,\n",
       "       1819.74387735, 1634.15827532, 2887.50048099,  253.91409339,\n",
       "       2158.02169585, 2278.76617334, 2269.06858439, 3019.16958193,\n",
       "       3109.19143719, 1628.92114073, 1069.3604281 , 2328.71581149,\n",
       "       3463.61021432, 2158.82700777, 3402.92299433, 2499.73529562,\n",
       "       3613.56970703, 3889.91405829, 3373.59026037, 1334.90768074,\n",
       "         67.02493563, 2035.11233369, 2102.5980527 ,  544.23434438,\n",
       "       4835.59933991, 1817.6166959 , 3846.68461176, 2180.70996389,\n",
       "       1176.24013679, 3664.25231581, 2802.51174201, 1961.87532832,\n",
       "       3786.59066722, 2425.80060173, 1200.63248586, 1210.91179168,\n",
       "       2022.21620173, 1604.95352858, 3406.69493876, 1884.96886476,\n",
       "       2589.99599776, 2514.57813005, 1807.73600853, 1458.84845835,\n",
       "       2297.87350999, 3656.24314174, 3282.03143653, 3254.67171549,\n",
       "       1732.12905701, 2803.19343636, 2230.73502176, 2449.89304013,\n",
       "       2576.08895445,  356.66648656, -240.36617426, 3131.69310519,\n",
       "       1486.51927024, 5261.93079731, 1039.45589368, 1392.80066033,\n",
       "       2073.19121611, 1132.87480088, 1011.8178993 , 1216.44068055,\n",
       "       2008.98711422, 5043.96792935, 3307.672725  , 2695.17475083,\n",
       "        844.59776704, 1377.54066965, 2889.40339978, 2868.75548578,\n",
       "       3158.17480961, 2156.27011853, 1885.45590389, 1342.61172038,\n",
       "       3966.57667564, 3519.57238723, 1316.13808419, 2840.37280015,\n",
       "        985.76786876, 2230.4320718 , 1483.43746917, 4363.731828  ,\n",
       "       1632.0237027 , 4097.10210171,  348.63098666, 4243.6315269 ,\n",
       "       1924.18072164, 1180.96934267, 1025.32749363,  577.46142153,\n",
       "       -176.67205231, 2247.86895467,  655.09969814, 2954.13711217,\n",
       "       1765.8151837 , 2368.93493394,  924.89707305,  485.11275527,\n",
       "       1733.54835887, 2307.31290793, 2304.5680953 , 2259.60071997,\n",
       "       2703.9526106 , 2437.95100755,  740.76093055, 2522.6001909 ,\n",
       "       1114.64249584, 2502.53807459, 1148.84542645, 3456.86490822,\n",
       "        342.23996977, 2747.74049242, 5036.01045604, 2698.77146219,\n",
       "       1013.56876419, 1952.99142465, 2676.16047417, 1890.98777015,\n",
       "        864.37754145, 1472.67194679, 4405.80992266, 2850.09724087,\n",
       "       4100.4852718 , 2053.06698789,  929.69961876,  494.0906995 ,\n",
       "       2002.23748328, 4197.53990779, 3598.54179381, -958.56515991,\n",
       "       1489.05754537, 2060.99344037, 1011.44339118, 2440.77797122,\n",
       "       2102.68558713,  603.08785077, 3196.99738749, 3083.74194397,\n",
       "        757.22953984,  837.55558255, 2622.17104217, 2877.54639924,\n",
       "       3860.24351818,  924.84002952, 2956.01723108, 3337.41254304,\n",
       "       2269.34897064, 2955.75444141, 3484.54349154, 2168.82033241,\n",
       "       2441.81181949, 2102.31901191, 1755.76544942,  591.49548101,\n",
       "       1958.74553709, 3313.01595959, 4207.26711718, 1891.89226111,\n",
       "       2224.156493  , 1208.95296219, 1181.46000549, 1167.00119215,\n",
       "       1427.6366842 , 1375.33548265, 2370.90195495, 1821.08395415,\n",
       "       1960.11496882, 2403.98629732, 1448.6058805 , 3109.85020299,\n",
       "       1325.10558108, 1146.95853933, 3239.72607225,  166.11108601,\n",
       "       3342.84849489, 1844.11436121,  614.30619134, 3101.59120045,\n",
       "        845.46732209, 2863.74292939, 2243.814592  , 1237.05640275,\n",
       "       1510.17253687, 3126.17261483, 2703.39272802, 2272.14209411,\n",
       "       3377.87864461, 2653.02236009, 1560.82607624, 1817.04633662,\n",
       "       2307.61986718,  754.43910936, 3311.40921636, 1847.92000739,\n",
       "       2730.75053627, 2719.15033902, 3330.15536712, 3146.14157571,\n",
       "        972.55026181, 1159.29056667, 3875.05131647, 1948.79956446,\n",
       "       1778.01710681, 3226.5607843 , 1615.73139368, 1446.21481272,\n",
       "        352.6459795 , 3401.24166004,  391.02172994, 1216.90703933,\n",
       "       1890.46009739, 3474.18642815, 1588.52098155, 1838.6092116 ,\n",
       "        627.36182008, 2719.45106888, 1430.88428061, 2705.29172361,\n",
       "       2644.13073281,  337.14690618,  640.34150451, 1765.66122849,\n",
       "       3837.92269324, 3950.05709456, 3608.98447166, 2012.56547469,\n",
       "       3767.10061271, 3165.80579599, 2106.28335018, 1820.17898912,\n",
       "       1195.95734934,  879.49442397, 2062.24669703, 1138.81901438,\n",
       "       1704.67604313, 2984.28347971,  575.50635667, 1443.88861665,\n",
       "       2841.47729963, 1192.31758066, 1184.43068756, 2973.21094209,\n",
       "       2761.45153498, 2656.46035731, 2670.97640196, 2606.98647662,\n",
       "       4333.73866202, 1807.14273349, 2917.21839035,  943.4842036 ,\n",
       "       2655.80288687,  748.04367696, 4039.71355252, 2069.64777818,\n",
       "       4534.24488074, 2134.17764204,  952.01651741, 4143.13287297,\n",
       "       1081.74792686, 1857.26536935,  -94.67231231, 1629.53380342,\n",
       "       1864.32378902, 2223.46362474, 2085.46767226, 1434.306896  ,\n",
       "       1973.46223727, 1047.83229524, 3178.45811134, 2244.27451306,\n",
       "       1269.8373345 , 2013.79415961,  934.07937236, 1992.63176096,\n",
       "       1225.58168956, 2340.13315553, 4290.17835573, 1255.59377836,\n",
       "       -307.1739632 , 2145.88908343, 1090.08946911, -359.14829784,\n",
       "        779.62116782, 3737.91475955, 3937.79249199,  849.27199107,\n",
       "       1370.31791675, 3596.34859226, 2116.00491157,  743.83680404,\n",
       "       3145.11537547, 3263.74362479, 1046.60684116, 1202.53540723,\n",
       "       1896.14429067, 1457.24777665, 3150.81397084, 1721.58912418,\n",
       "       1228.06982269, 2197.78503706, 1112.42212148, 3218.20428712,\n",
       "        209.51052426, 3277.90837966, 4127.10421835, 3618.01414081,\n",
       "       1644.59289844,  635.0161154 ,  582.92178497,  638.98692646,\n",
       "       1066.72864088, 2449.8349738 , 2587.70628846, 1382.53151896,\n",
       "       2536.8145227 , 1514.72470231])"
      ]
     },
     "execution_count": 175,
     "metadata": {},
     "output_type": "execute_result"
    }
   ],
   "source": [
    "y_pred = lm.predict(x_test)\n",
    "y_pred"
   ]
  },
  {
   "cell_type": "code",
   "execution_count": 176,
   "metadata": {},
   "outputs": [
    {
     "name": "stdout",
     "output_type": "stream",
     "text": [
      "ERRORS:\n",
      "MEAN ABSOLUTE ERROR:  853.4240168075623\n",
      "MEAN SQUARED ERROR:  1249075.3217809033\n",
      "ROOT MEAN SQUARED ERROR:  1117.6203835743615\n"
     ]
    }
   ],
   "source": [
    "from sklearn.metrics import mean_squared_error, mean_absolute_error\n",
    "\n",
    "\n",
    "# calculating errors::\n",
    "\n",
    "\n",
    "print('ERRORS:')\n",
    "print(\"MEAN ABSOLUTE ERROR: \", mean_absolute_error(y_test, y_pred))\n",
    "print(\"MEAN SQUARED ERROR: \", mean_squared_error(y_test, y_pred))\n",
    "print('ROOT MEAN SQUARED ERROR: ', np.sqrt(mean_squared_error(y_test, y_pred)))\n",
    "\n"
   ]
  },
  {
   "cell_type": "markdown",
   "metadata": {},
   "source": [
    "# checking overfitting of the model"
   ]
  },
  {
   "cell_type": "code",
   "execution_count": 177,
   "metadata": {},
   "outputs": [
    {
     "name": "stdout",
     "output_type": "stream",
     "text": [
      "0.4970789373026016\n"
     ]
    }
   ],
   "source": [
    "from sklearn.model_selection import cross_val_score\n",
    "print(cross_val_score(lm, x, y, cv=5).mean())"
   ]
  },
  {
   "cell_type": "markdown",
   "metadata": {},
   "source": [
    "# Regularizing the model using lasso and Ridge methods"
   ]
  },
  {
   "cell_type": "code",
   "execution_count": 178,
   "metadata": {},
   "outputs": [],
   "source": [
    "#Regularization:: L1 and L2 Regularization\n",
    "\n",
    "#L1 ---- Lasso Regression\n",
    "#L2 ---- Ridge Regression"
   ]
  },
  {
   "cell_type": "code",
   "execution_count": 179,
   "metadata": {},
   "outputs": [],
   "source": [
    "from sklearn.linear_model import Lasso, Ridge"
   ]
  },
  {
   "cell_type": "code",
   "execution_count": 180,
   "metadata": {},
   "outputs": [
    {
     "data": {
      "text/plain": [
       "0.49800666428949514"
      ]
     },
     "execution_count": 180,
     "metadata": {},
     "output_type": "execute_result"
    }
   ],
   "source": [
    "ls = Lasso(alpha = 0.01)\n",
    "ls.fit(x_train, y_train)\n",
    "ls.score(x_train, y_train)"
   ]
  },
  {
   "cell_type": "code",
   "execution_count": 181,
   "metadata": {},
   "outputs": [
    {
     "data": {
      "text/plain": [
       "0.49800666501793467"
      ]
     },
     "execution_count": 181,
     "metadata": {},
     "output_type": "execute_result"
    }
   ],
   "source": [
    "# try to minimize the coefficent variance\n",
    "\n",
    "rd = Ridge(alpha= 0.01)\n",
    "\n",
    "rd.fit(x_train, y_train)\n",
    "rd.score(x_train, y_train)"
   ]
  },
  {
   "cell_type": "code",
   "execution_count": 182,
   "metadata": {},
   "outputs": [
    {
     "name": "stdout",
     "output_type": "stream",
     "text": [
      "0.4979819654917652\n"
     ]
    },
    {
     "data": {
      "text/plain": [
       "array([  -2.41385941,   22.84626788,  -49.40730657,    1.01025823,\n",
       "        904.98953944,  161.08050529,   -0.90726338, -210.39111905,\n",
       "       -197.14230207,  632.36214047,  -21.32553944])"
      ]
     },
     "execution_count": 182,
     "metadata": {},
     "output_type": "execute_result"
    }
   ],
   "source": [
    "# elasticNet is a combination of both lasso and ridge algorithms\n",
    "\n",
    "from sklearn.linear_model import ElasticNet\n",
    "enr= ElasticNet(alpha= 0.01)\n",
    "\n",
    "enr.fit(x_train, y_train)\n",
    "enrpred=enr.predict(x_test)\n",
    "print(enr.score(x_train, y_train))\n",
    "enr.coef_"
   ]
  },
  {
   "cell_type": "markdown",
   "metadata": {},
   "source": [
    "# Support Vector Regressor model"
   ]
  },
  {
   "cell_type": "code",
   "execution_count": 183,
   "metadata": {},
   "outputs": [
    {
     "name": "stdout",
     "output_type": "stream",
     "text": [
      "\n",
      "kernel : linear\n",
      "0.46858128918846254\n",
      "\n",
      "kernel : poly\n",
      "0.08502635899563549\n",
      "\n",
      "kernel : rbf\n",
      "0.06313285272164604\n"
     ]
    }
   ],
   "source": [
    "from sklearn.svm import SVR\n",
    "\n",
    "kernellist = ['linear', 'poly', 'rbf']\n",
    "\n",
    "for i in kernellist:\n",
    "    sv = SVR(kernel = i)\n",
    "    sv.fit(x_train, y_train)\n",
    "    print('\\nkernel : ' + i)\n",
    "    print(sv.score(x_train, y_train))"
   ]
  },
  {
   "cell_type": "markdown",
   "metadata": {},
   "source": [
    "# Decision Tree Regressor methods:"
   ]
  },
  {
   "cell_type": "code",
   "execution_count": 184,
   "metadata": {},
   "outputs": [],
   "source": [
    "from sklearn.tree import DecisionTreeRegressor\n"
   ]
  },
  {
   "cell_type": "code",
   "execution_count": 185,
   "metadata": {},
   "outputs": [],
   "source": [
    "dtr = DecisionTreeRegressor()\n",
    "dtr.fit(x_train,y_train)\n",
    "dtr.score(x_train,y_train)\n",
    "preddtr = dtr.predict(x_test)\n"
   ]
  },
  {
   "cell_type": "code",
   "execution_count": 186,
   "metadata": {},
   "outputs": [
    {
     "name": "stdout",
     "output_type": "stream",
     "text": [
      "1.0\n"
     ]
    }
   ],
   "source": [
    "print(dtr.score(x_train, y_train))"
   ]
  },
  {
   "cell_type": "code",
   "execution_count": 187,
   "metadata": {},
   "outputs": [
    {
     "data": {
      "text/plain": [
       "array([2441.4886, 2326.971 ,  644.4944, 2174.5028, 6088.0752,  645.1602,\n",
       "       3813.7024, 1629.8784, 2960.1468, 2748.4224,  223.7088,  790.9704,\n",
       "       2189.1504,  721.0614, 1135.189 ,  543.2928, 2313.655 ,  109.857 ,\n",
       "       2749.754 ,  308.9312,  276.307 ,  945.436 ,  367.5216, 1844.266 ,\n",
       "       2024.032 , 1593.9252,  186.424 , 2181.1608, 1857.582 , 2846.295 ,\n",
       "        370.1848, 2150.534 , 1593.9252, 1743.0644,  437.4306, 1868.2348,\n",
       "       2684.5056, 3266.4148, 3355.632 , 1024.6662, 2731.1116, 3174.5344,\n",
       "       2267.049 , 2996.1   , 5141.3076, 3595.32  , 6242.5408, 7168.6686,\n",
       "       3916.2356, 2098.6016, 3083.9856, 1540.6612, 3611.2992,  547.2876,\n",
       "        628.5152, 2796.36  , 3635.268 , 3795.06  ,  197.0768,  115.8492,\n",
       "       2051.9956, 2217.114 , 2348.9424, 6231.888 , 4544.085 , 1018.674 ,\n",
       "        973.3996, 2303.668 , 2077.296 , 3643.2576, 3998.7948, 3399.5748,\n",
       "       1604.578 , 1431.47  ,  671.1264, 1335.5948, 3583.3356,  279.636 ,\n",
       "       3249.104 , 3415.554 , 1151.1682, 6114.7072, 3271.7412, 4138.6128,\n",
       "       1584.604 , 2439.4912, 1713.7692, 6371.706 , 4578.0408, 1834.279 ,\n",
       "       5487.5236, 2218.4456, 2085.9514, 1491.392 , 4537.427 , 1186.4556,\n",
       "       4633.968 ,  932.12  , 3961.51  ,  306.268 , 2817.6656, 1231.73  ,\n",
       "       1337.5922, 1948.1308,  445.4202, 1347.5792, 1454.1072,  628.5152,\n",
       "        455.4072, 3520.0846,  774.9912, 1416.8224,  687.1056,  146.476 ,\n",
       "       3444.8492, 1569.9564, 2181.1608, 4958.8784,  501.3474, 3364.9532,\n",
       "        671.1264,  628.5152,  457.4046, 3761.77  , 2246.4092, 1378.206 ,\n",
       "       1259.6936, 1018.674 , 4685.9004, 2471.4496, 2792.3652, 6757.87  ,\n",
       "        189.753 , 1737.738 , 2250.404 ,  551.2824,  490.6946, 2652.5472,\n",
       "       2093.941 , 2127.231 ,  591.8962, 1593.9252, 1713.7692, 4247.804 ,\n",
       "       1857.582 , 2006.7212, 1923.4962, 1033.3216,  663.1368, 2596.62  ,\n",
       "       1860.2452, 1890.2062, 3901.588 ,  319.584 , 2740.4328, 3837.0054,\n",
       "        446.7518, 2787.0388, 6026.8216, 2773.057 ,  223.7088, 1037.3164,\n",
       "       1017.3424, 1223.0746, 1239.7196, 4482.1656, 4414.254 , 1514.695 ,\n",
       "       2024.032 , 2712.4692,  351.5424, 3628.61  ,  129.831 , 2950.8256,\n",
       "       3599.3148, 4287.752 , 3463.4916, 6018.1662,  729.051 , 1823.6262,\n",
       "       3403.5696,  361.5294, 3315.0182, 1042.6428, 4925.5884,  792.302 ,\n",
       "       3954.852 ,  871.5322, 1049.9666,  838.908 , 3203.1638, 2316.984 ,\n",
       "       1665.8316, 2446.815 ,  653.1498, 2681.8424, 2712.4692, 2467.4548,\n",
       "        343.5528, 2648.5524, 1071.938 , 1338.258 , 4199.8664, 3719.1588,\n",
       "       3652.5788, 4434.228 , 1838.2738, 4379.6324, 2364.9216, 1208.427 ,\n",
       "        203.7348, 6465.5838, 3782.4098,  927.4594, 2247.7408, 2931.5174,\n",
       "       4819.7262, 2770.3938, 2013.3792, 1304.968 , 5522.811 , 2440.8228,\n",
       "        127.8336, 2416.1882, 3301.7022, 1949.4624,  645.1602, 2543.356 ,\n",
       "        396.8168, 4291.7468, 2192.4794, 1707.777 , 1382.2008, 1750.3882,\n",
       "        400.8116, 2348.9424, 4454.202 , 1514.695 , 2313.655 ,  988.713 ,\n",
       "       3643.2576,  193.082 , 4277.765 ,  571.2564, 1211.756 ,  218.3824,\n",
       "       4029.4216,  419.454 , 2145.2076,  858.882 , 2463.46  ,   75.9012,\n",
       "       2127.8968, 1713.1034, 2556.672 , 2077.296 , 1281.665 , 2731.1116,\n",
       "        122.5072, 1237.7222, 4655.2736,  150.4708, 1649.8524, 1895.5326,\n",
       "       1151.1682, 2712.4692,  221.0456,  649.8208,  622.523 ,  746.3618,\n",
       "       1728.4168,  838.908 , 1034.6532, 1944.136 , 2364.9216, 2101.2648,\n",
       "       1603.9122, 4210.5192, 4102.6596,  527.9794, 3339.6528, 3350.3056,\n",
       "       3355.632 ,  404.8064, 3735.8038, 4832.3764, 4244.475 , 2013.3792,\n",
       "       3954.852 , 1496.7184,  958.752 ,  587.2356,  815.605 , 2354.2688,\n",
       "       4277.765 ,  392.822 , 4136.6154,  115.8492, 4326.3684,  198.4084,\n",
       "        452.744 , 1390.1904, 1315.6208,  683.1108,  109.1912,  331.5684,\n",
       "        569.259 , 1500.7132,  539.298 , 1346.2476, 4124.631 , 7247.233 ,\n",
       "       3072.667 ,  459.402 , 1657.1762, 2852.2872,  468.7232, 1544.656 ,\n",
       "        675.1212,  615.1992, 7247.233 , 2503.408 ,  585.904 ,  177.1028,\n",
       "       2187.153 , 1518.024 , 1286.3256, 2908.2144, 4544.085 , 3558.0352,\n",
       "        101.2016,  343.5528,  401.4774,  982.055 ,  897.4984, 1631.21  ,\n",
       "       1274.3412, 1860.2452,  623.1888, 1860.2452, 2530.7058, 2336.958 ,\n",
       "       2956.152 , 3981.484 , 4391.6168, 2055.9904,  186.424 , 1004.0264,\n",
       "       1772.3596, 3209.156 , 1821.6288,  211.7244, 1518.024 , 1547.3192,\n",
       "       3572.017 , 1810.976 , 2267.7148, 1537.998 , 1414.1592, 3277.0676,\n",
       "       3430.2016, 3761.77  ,  659.142 , 2428.8384, 1496.0526, 1547.3192,\n",
       "        601.2174, 1048.635 ,  251.6724, 3004.0896, 1448.7808,  260.9936,\n",
       "       6114.7072, 2530.7058, 3139.9128, 4500.808 ,  243.6828, 3379.6008,\n",
       "       5510.8266, 3231.1274, 2534.0348,  418.1224, 5635.3312,  527.3136,\n",
       "       3782.4098, 1201.769 ,  736.3748, 1448.115 ,  551.2824,  347.5476,\n",
       "       2070.638 , 2458.1336,  521.3214, 3358.2952, 1078.596 ,  188.4214,\n",
       "       2414.1908,  826.2578, 2314.9866, 4029.4216, 1635.8706, 1937.478 ,\n",
       "       2544.6876,  542.627 , 1557.972 , 4502.1396,  143.8128, 1757.712 ,\n",
       "       4029.4216, 2293.0152, 2103.2622, 2543.356 , 2348.9424,  183.7608,\n",
       "       4993.5   , 2404.2038,  531.3084,  884.1824,  857.5504,  145.8102,\n",
       "        319.584 ,  126.502 , 1524.0162, 1150.5024, 2530.7058,  721.0614,\n",
       "        782.315 , 1810.976 ,  871.5322,  122.5072, 3020.0688, 4921.5936,\n",
       "       1697.79  , 4349.0056, 1567.2932,  494.0236,  280.9676, 3463.4916,\n",
       "       1120.5414, 1765.0358, 2045.3376,  713.7376, 1877.556 , 4837.7028,\n",
       "       3846.9924, 2109.2544, 3251.7672,  798.96  , 2342.9502,  115.1834,\n",
       "        551.2824, 2812.3392,  562.601 ,  229.701 , 2006.7212, 2780.3808,\n",
       "       1695.7926, 3275.736 ,  311.5944, 3506.7686, 1704.448 , 2828.3184,\n",
       "       1757.712 , 2966.139 , 1821.6288,  559.272 , 1917.504 , 4492.8184,\n",
       "        569.259 ,  447.4176, 1665.8316,  229.701 , 1868.2348, 1935.4806,\n",
       "       1547.3192, 2390.8878, 4996.829 , 3167.8764, 1845.5976, 2115.9124,\n",
       "       5141.3076, 1491.392 , 3246.4408, 1216.4166,  183.7608, 2890.9036,\n",
       "        396.8168,  745.696 ,  703.0848, 1158.492 , 1989.4104,  577.9144,\n",
       "       2732.4432, 3658.571 ,  759.012 , 1661.8368,  209.727 , 1637.868 ,\n",
       "       2681.8424, 3815.034 , 1869.5664, 2566.659 , 2407.5328,  569.259 ,\n",
       "       1737.738 ,  563.9326,  120.5098, 2192.4794, 2954.1546, 3823.0236,\n",
       "        181.0976, 3547.3824,  677.1186,  165.7842,  527.3136, 3571.3512,\n",
       "        802.9548, 1768.3648, 1314.2892,  510.6686, 2900.2248, 2956.152 ,\n",
       "       2528.7084,  995.371 , 1414.1592, 1514.695 ,  419.454 , 2157.192 ,\n",
       "       2812.3392, 1057.9562, 4470.1812, 2609.936 , 2277.7018, 4804.4128,\n",
       "       1261.691 ,  792.302 ,   96.541 ,  612.536 , 1941.4728,  101.2016,\n",
       "       7017.532 , 2150.534 , 3605.307 , 1985.4156, 2153.1972, 4460.1942,\n",
       "       3078.6592, 1930.1542, 2885.5772, 1874.8928,  153.134 ,  633.8416,\n",
       "        419.454 , 2908.2144, 2759.0752,  652.484 , 2812.3392, 3440.8544,\n",
       "        731.0484,  183.7608,  466.06  , 6942.9624,  535.3032, 3859.6426,\n",
       "       1342.2528, 3078.6592, 1842.9344, 2418.1856, 4769.1254,  656.4788,\n",
       "        415.4592, 1239.7196,  495.3552, 7136.7102,  866.8716, 1470.0864,\n",
       "        325.5762,  669.129 , 1761.041 ,  978.726 , 2093.941 , 5522.811 ,\n",
       "        653.1498, 2529.3742, 1049.9666,  774.9912, 5592.72  , 1123.2046,\n",
       "       4386.2904, 2233.0932, 1603.9122,  792.302 , 6008.845 , 4561.3958,\n",
       "       2111.2518, 1123.2046,  142.4812, 2524.0478, 1720.4272, 2342.9502,\n",
       "       1821.6288, 4351.6688,  351.5424, 2735.1064,  441.4254,  585.904 ,\n",
       "        399.48  ,  735.0432,  111.8544, 2277.036 , 1069.2748, 1659.1736,\n",
       "       1416.8224, 2802.3522,  968.739 ,  545.2902, 1597.92  ,  482.0392,\n",
       "        755.683 , 1544.656 , 1970.768 , 6338.416 ,  238.3564, 4619.9862,\n",
       "        549.9508, 3339.6528,  577.9144, 3072.667 ,  980.0576, 1821.6288,\n",
       "       4327.7   ,  978.726 ,  713.0718, 1985.4156, 2826.321 , 3103.9596,\n",
       "        404.8064,  790.9704, 3874.956 , 1587.2672, 2175.1686,  671.1264,\n",
       "       1100.5674,  127.1678, 1994.7368, 3185.1872, 4210.5192,   39.948 ,\n",
       "       2241.0828, 2889.572 , 1201.769 , 3392.9168,  217.7166,  790.9704,\n",
       "       2752.4172, 1370.2164,  683.1108,  571.2564, 3020.0688, 2716.464 ,\n",
       "       5359.69  ,  623.1888, 2432.1674, 2543.356 , 3962.8416, 4277.765 ,\n",
       "       3062.0142, 4595.3516, 6338.416 , 2501.4106,  959.4178,  848.895 ,\n",
       "        417.4566, 3020.0688, 5652.642 ,  745.696 ,  579.246 ,  729.051 ,\n",
       "       1657.1762, 1744.396 , 3751.783 ,  312.926 , 3078.6592, 1284.994 ,\n",
       "       1358.8978, 1318.284 , 1834.279 , 1239.7196,  319.584 ,  250.3408,\n",
       "       4751.8146,  463.3968, 1713.7692,  866.8716,  647.1576, 1030.6584,\n",
       "        640.4996, 4649.9472, 2912.875 , 1655.1788,  222.3772, 2380.9008,\n",
       "       1707.777 , 1860.2452, 3165.879 , 3364.9532, 1230.3984, 3835.008 ,\n",
       "       2428.8384,  122.5072, 3202.498 ,  753.6856, 4673.916 , 2645.2234,\n",
       "       2759.0752, 3214.4824,  894.8352,  175.7712, 5331.7264,  838.908 ,\n",
       "       1228.401 ,  938.778 ,  834.9132,  703.0848,  365.5242,  452.744 ,\n",
       "        494.0236, 1655.1788, 3047.3666, 4005.4528,  595.2252,  659.142 ,\n",
       "        221.0456, 3067.3406, 1720.4272, 4040.7402, 1161.1552,  259.662 ,\n",
       "        341.5554, 2817.6656, 4566.7222, 4673.916 , 3545.385 , 1544.656 ,\n",
       "       5764.4964, 5195.2374,  435.4332,  992.7078,  322.2472,  322.2472,\n",
       "       2840.3028, 1406.1696,  458.0704, 3589.9936,  801.6232, 1022.6688,\n",
       "       1765.0358, 1133.8574,  535.969 , 4431.5648, 1090.5804, 3214.4824,\n",
       "       1765.7016, 3494.1184, 4753.812 , 1938.8096,  986.7156,  249.0092,\n",
       "       1587.2672,  283.6308, 6431.628 , 2184.4898, 6759.2016, 1209.7586,\n",
       "        848.895 , 3214.4824,  279.636 , 3150.5656,  157.1288, 1091.2462,\n",
       "       1749.7224, 2013.3792, 1872.2296,  164.4526, 1528.011 ,  377.5086,\n",
       "       3643.2576, 4391.6168,  509.337 ,  217.7166, 1209.7586, 1704.448 ,\n",
       "       1020.6714, 2874.9244, 7247.233 ,  559.272 ,  229.0352, 2085.9514,\n",
       "       1607.2412,   83.8908,  649.155 , 4566.0564, 2101.2648, 1174.4712,\n",
       "        312.926 , 2947.4966, 4137.2812,  761.6752, 2796.36  , 4221.172 ,\n",
       "        719.064 ,  996.0368, 1482.0708, 3475.476 , 3848.324 , 3289.052 ,\n",
       "        150.4708,  703.0848, 1201.769 , 3094.6384,  207.7296, 6040.1376,\n",
       "       6454.931 , 4005.4528, 2404.2038, 1431.47  ,  599.22  ,  780.9834,\n",
       "        638.5022, 4793.76  , 2045.3376,  683.1108, 2770.3938,  856.8846])"
      ]
     },
     "execution_count": 187,
     "metadata": {},
     "output_type": "execute_result"
    }
   ],
   "source": [
    "y_pred = dtr.predict(x_test)\n",
    "y_pred"
   ]
  },
  {
   "cell_type": "code",
   "execution_count": 188,
   "metadata": {},
   "outputs": [
    {
     "name": "stdout",
     "output_type": "stream",
     "text": [
      "ERRORS:\n",
      "MEAN ABSOLUTE ERROR:  999.6268510791367\n",
      "MEAN SQUARED ERROR:  1983181.4508720152\n",
      "ROOT MEAN SQUARED ERROR:  1408.2547535414235\n"
     ]
    }
   ],
   "source": [
    "print('ERRORS:')\n",
    "print(\"MEAN ABSOLUTE ERROR: \", mean_absolute_error(y_test, y_pred))\n",
    "print(\"MEAN SQUARED ERROR: \", mean_squared_error(y_test, y_pred))\n",
    "print('ROOT MEAN SQUARED ERROR: ', np.sqrt(mean_squared_error(y_test, y_pred)))\n"
   ]
  },
  {
   "cell_type": "markdown",
   "metadata": {},
   "source": [
    "# checking overfitting of the model"
   ]
  },
  {
   "cell_type": "code",
   "execution_count": 189,
   "metadata": {},
   "outputs": [
    {
     "name": "stdout",
     "output_type": "stream",
     "text": [
      "0.11847037828582056\n"
     ]
    }
   ],
   "source": [
    "from sklearn.model_selection import cross_val_score\n",
    "print(cross_val_score(dtr, x, y, cv=5).mean())"
   ]
  },
  {
   "cell_type": "markdown",
   "metadata": {},
   "source": [
    "# Random Forest Regressor method"
   ]
  },
  {
   "cell_type": "code",
   "execution_count": 190,
   "metadata": {},
   "outputs": [],
   "source": [
    "from sklearn.ensemble import RandomForestRegressor"
   ]
  },
  {
   "cell_type": "code",
   "execution_count": 191,
   "metadata": {},
   "outputs": [],
   "source": [
    "rf = RandomForestRegressor(n_estimators=100)\n",
    "rf.fit(x_train, y_train)\n",
    "pred = rf.predict(x_test)\n"
   ]
  },
  {
   "cell_type": "code",
   "execution_count": 192,
   "metadata": {},
   "outputs": [
    {
     "name": "stdout",
     "output_type": "stream",
     "text": [
      "0.935792201971475\n"
     ]
    }
   ],
   "source": [
    "print(rf.score(x_train, y_train))"
   ]
  },
  {
   "cell_type": "code",
   "execution_count": 193,
   "metadata": {},
   "outputs": [
    {
     "data": {
      "text/plain": [
       "array([2054.55893 , 2188.937344, 2272.00921 , 1795.789102, 3817.783754,\n",
       "        675.174464, 4516.993598, 3060.64931 , 2447.567354, 2849.963558,\n",
       "        671.918702,  722.100048, 2834.417128,  573.240484, 1429.126384,\n",
       "        589.046576, 1195.87667 ,  274.269652, 3190.11412 ,  503.404722,\n",
       "        184.7595  ,  570.377544,  417.39002 , 2812.811918, 1752.958188,\n",
       "       2569.15575 ,  128.93217 , 1838.034112, 1490.553092, 2667.454462,\n",
       "        408.30185 , 2044.358874, 2701.110652, 2595.727828,  502.452628,\n",
       "       1532.345358, 3727.254928, 2377.944648, 2018.07309 ,  666.871938,\n",
       "       3861.999532, 2036.875282, 2343.043412, 3911.182178, 3740.417794,\n",
       "       2887.115198, 4999.39233 , 5379.544156, 3835.320926, 1972.89856 ,\n",
       "       2498.600924, 1824.105576, 3762.888544, 1140.342292,  464.688452,\n",
       "       3937.281538, 3433.024592, 2556.212598,  243.503034,  259.49555 ,\n",
       "       2404.70315 , 2553.04339 , 2537.99631 , 3989.247228, 4192.522626,\n",
       "       2763.549376, 1560.109218, 2593.15784 , 2738.695062, 4164.206152,\n",
       "       4251.579086, 2275.757664, 2380.794272,  981.635546,  960.81598 ,\n",
       "       1287.184482, 2564.19554 , 1780.44907 , 2345.107392, 4426.17182 ,\n",
       "       1087.457798, 4991.342808, 3706.595154, 2831.001574, 1387.007876,\n",
       "       2516.098148, 2573.063996, 4436.778014, 3593.482392, 1621.742324,\n",
       "       4401.750276, 1335.534878, 2558.696032, 2270.7109  , 3878.324948,\n",
       "       1497.370884, 5776.88028 ,  512.546156, 3727.874122,  357.5346  ,\n",
       "       2092.47624 , 2147.491294, 3553.614288, 1861.237242,  430.626124,\n",
       "        958.725368,  810.558236,  483.630462,  262.15875 , 3699.331276,\n",
       "        714.66972 , 1538.03129 ,  610.052566,  368.826568, 3253.491622,\n",
       "       1555.848098, 2313.694948, 4164.026386, 2038.919288, 2284.3598  ,\n",
       "       4152.547994,  775.530498,  323.21261 , 3117.735002, 2877.327938,\n",
       "       1723.230218, 1569.303916, 2863.099792, 3293.133354, 4226.911196,\n",
       "       2665.76333 , 5106.246572,  557.64079 , 1518.310294, 2350.453766,\n",
       "        462.278256,  659.128684, 2316.870814, 1897.470078, 2359.948074,\n",
       "       1085.180762, 1846.849304, 2321.784418, 5130.514982, 1477.716468,\n",
       "       3135.059118, 4250.846706, 1744.82877 , 1322.418618, 2791.759322,\n",
       "       1386.115704, 2162.165526, 3045.262672, 1436.410236, 1881.391008,\n",
       "       4560.317204,  523.045822, 1835.11125 , 5910.73937 , 2388.144704,\n",
       "        273.57722 , 1030.997958, 2400.27558 , 1465.32593 , 1205.29774 ,\n",
       "       3462.92567 , 2610.009238, 1744.921982, 1948.856522, 2609.40336 ,\n",
       "       1292.843782, 2908.953438,  320.309722, 3235.461758, 3683.997902,\n",
       "       2084.013922, 3148.248616, 4399.819456, 2359.015954, 2214.597276,\n",
       "       3247.499422,  197.403042, 3764.226802,  687.7714  , 3172.390524,\n",
       "       1414.352282, 2709.253386,  841.098482, 1159.670466, 1830.204304,\n",
       "       2626.567684, 1535.581146, 2851.328448, 2787.065432, 3051.72759 ,\n",
       "       2087.689138, 2476.902502, 2583.457134,  615.93158 , 1778.704674,\n",
       "        908.890238, 1244.786338, 4457.883874, 5048.182154, 2535.26653 ,\n",
       "       3988.488216, 2506.80358 , 4254.115784, 1537.025932, 1752.28573 ,\n",
       "        239.195308, 4329.16476 , 2882.567784, 1944.76851 , 1888.461804,\n",
       "       3190.034224, 5608.173218, 2654.817578, 1500.573382,  853.342544,\n",
       "       3596.838024, 3044.150786,  199.233992, 2032.960378, 2073.56752 ,\n",
       "       1544.309784,  714.077158, 3410.007886, 1950.414494, 3330.444786,\n",
       "       1987.37971 , 3357.882404, 1732.657946, 2881.142972,  176.723294,\n",
       "       2220.496264, 3667.632538, 1552.672232, 1229.16667 , 1324.822156,\n",
       "       3686.854184, 1023.487734, 1876.037976,  644.26137 ,  775.437286,\n",
       "        256.43287 , 3890.63559 ,  760.390206, 2273.027884,  389.646134,\n",
       "       3185.100646,   65.44814 , 2107.230368, 1679.260786, 2036.495776,\n",
       "       2848.665248, 1716.545586, 2391.207384,  160.377904, 1580.07656 ,\n",
       "       3993.787984,  392.38923 , 1663.747646, 2205.715504, 2617.100008,\n",
       "       2632.493304,  229.041858, 1416.249812,  966.694994,  612.043308,\n",
       "       1295.993016,  708.025036,  938.058936, 3530.251366, 1722.644314,\n",
       "       2662.83381 , 2038.326726, 4142.20812 , 2672.474594,  642.383814,\n",
       "       3007.15228 , 3400.466972, 3094.991274,  577.062176, 2667.567648,\n",
       "       3408.975896, 4012.01093 , 1264.107854, 3658.124914, 2827.113302,\n",
       "       1832.328206, 1603.319638,  567.734318, 2154.648644, 2303.754554,\n",
       "        480.87405 , 3220.90737 ,  214.161228, 2555.387006,  175.691304,\n",
       "       1990.582208, 1243.055258, 2233.352862, 1922.384314,  264.908504,\n",
       "        600.611522, 1589.078176, 2011.987678,  924.802858, 3123.527462,\n",
       "       3316.156718, 5272.157274, 4599.799144,  473.110822, 1332.245826,\n",
       "       2754.840712,  639.80051 , 2244.54496 ,  831.124798,  751.082322,\n",
       "       5136.793476, 3401.625464,  793.007748,  449.727926, 2351.359254,\n",
       "       2603.630874, 2400.24229 , 1775.142644, 3622.770934, 1734.382368,\n",
       "        103.891432,  821.910126,  569.079234, 3492.234186, 2999.016204,\n",
       "       1956.15369 , 3620.247552, 1197.228244,  585.40465 , 1212.448432,\n",
       "       1993.531702, 3601.365464, 2415.92188 , 2683.699982, 2339.061928,\n",
       "       2091.204562,  186.02452 , 2539.081564, 1070.646348, 2419.597096,\n",
       "       2567.943994,  322.094066, 1994.517086, 1777.945662, 3208.203906,\n",
       "       2770.134138, 2215.928876, 1909.893906, 1457.096642, 1759.123496,\n",
       "       3537.402058, 2736.30484 ,  677.125258, 2679.099304, 2391.367176,\n",
       "       2225.043678, 1607.081408, 2025.776396,  473.55025 , 2931.597296,\n",
       "       2235.443474,  258.969568, 4716.007876, 1968.544228, 3903.039444,\n",
       "       3133.827388,  285.22872 , 2818.544456, 3849.302726, 2663.559532,\n",
       "       4115.150008,  427.1107  , 3729.059246,  932.692588, 3111.310032,\n",
       "       1466.051652,  797.355422, 1364.72355 ,  417.037146,  525.84884 ,\n",
       "       3510.090942, 2637.2338  , 2573.38358 , 4442.896716, 1916.858174,\n",
       "        547.194388, 2725.166006, 1129.949154, 2526.837502, 1923.722572,\n",
       "       1024.146876, 1393.359608, 2041.249588,  217.090748, 1954.662298,\n",
       "       3098.10056 ,  257.185224, 1184.837706, 4498.424436, 1537.23233 ,\n",
       "       3042.73929 , 3556.450596, 1899.913564,  159.139516, 4017.184196,\n",
       "       1653.327876,  466.146554,  581.463114, 2117.823246,  281.140708,\n",
       "        297.439492,  192.176512,  624.160868, 2253.99932 , 2322.949568,\n",
       "        761.854966, 1884.433714, 2756.764874, 1354.163962,  120.769462,\n",
       "       2139.688118, 2477.688146, 1778.3518  , 2665.69675 , 1787.686316,\n",
       "        491.320452,  252.750996, 3065.0103  , 1952.977824, 2070.398312,\n",
       "       2833.651458,  797.488582, 2221.028904, 3862.618726, 3801.01891 ,\n",
       "       3813.609188, 2903.007844,  631.697724, 3983.208422,  191.61724 ,\n",
       "        513.238588, 2643.552242,  709.589666,  205.89865 , 1840.950316,\n",
       "       2014.471112, 3261.28814 , 1940.580628,  399.193706, 2875.283932,\n",
       "       1694.833848, 2681.962244, 1247.962204, 1431.110468, 1929.335266,\n",
       "        924.137058, 1508.17016 , 2400.47532 , 2432.913096,  738.545308,\n",
       "       2637.992812,  200.359194, 1302.164982, 3062.54684 , 1824.298658,\n",
       "       2054.072896, 4767.56077 , 3695.12342 , 1874.986012, 3421.359776,\n",
       "       3564.040716, 3162.024018, 2281.343726, 3499.824306, 1005.138286,\n",
       "       3339.080212, 2482.541828,  690.248176,  811.37717 , 1192.201454,\n",
       "       1451.816848, 1186.941634, 1399.571522, 2561.279336,  776.68899 ,\n",
       "       1259.420622,  490.681284, 1940.161174, 2423.11252 , 4278.96344 ,\n",
       "       3571.344542, 2872.121382, 2174.316376, 1491.62503 , 1464.074226,\n",
       "        592.002728,  326.827904, 2084.393428, 3703.652318, 3273.359094,\n",
       "        432.124174, 2973.109926, 3310.350942,  439.574476, 1047.616326,\n",
       "       3236.91986 , 1097.744408, 1511.06639 , 2546.491918,  554.105392,\n",
       "       2572.371564, 1785.3427  , 2261.982262, 2411.02825 , 2839.057754,\n",
       "       2210.169706,  787.801192, 2384.2298  , 3848.137576, 2122.543768,\n",
       "       3946.149994, 2389.616122, 3536.543176, 4009.354388, 3822.031558,\n",
       "        817.995222,  187.362778, 1738.197402, 2087.968774,  164.259518,\n",
       "       5339.296546, 1863.787256, 3131.72346 , 2322.14395 , 2131.65857 ,\n",
       "       3824.068906, 2934.626686, 2283.880424, 4124.76416 , 2115.765924,\n",
       "        291.52053 ,  715.475338, 1000.917114, 2020.962662, 2866.262342,\n",
       "       1135.475294, 2630.296164, 2946.850774,  428.169322,  453.416458,\n",
       "        524.770244, 4122.713496, 2866.029312, 3448.690866, 1166.042172,\n",
       "       2395.628296, 2174.116636, 2195.988166, 2867.281016,  581.14353 ,\n",
       "        152.328382, 1830.570494,  584.112998, 4313.844702, 1052.889462,\n",
       "        757.940062, 1462.536228,  620.15941 , 1479.700552,  793.347306,\n",
       "       1914.681008, 4186.770114, 3821.106096, 2492.448932,  764.644668,\n",
       "        507.545998, 2561.978426, 1907.536974, 3186.472194, 3164.873642,\n",
       "       2086.68378 , 1633.859884, 4693.29078 , 4196.13792 , 1720.380594,\n",
       "       2487.988072,  307.652864, 2539.540966, 1538.823592, 3044.010968,\n",
       "       1491.831428, 4241.851748,  211.830928, 4151.935458,  889.395614,\n",
       "        422.197096,  652.05123 , 1079.701228,  123.312818, 2200.562212,\n",
       "        787.801192, 3203.523332, 1522.058748, 2174.249796, 1053.948084,\n",
       "        662.957034, 1067.470482,  471.206634, 2753.369294, 1795.449544,\n",
       "       3477.37353 , 3081.801776,  257.038748, 3140.318938,  574.359028,\n",
       "       2670.130978, 1154.443936, 3984.939502,  757.38079 , 2420.475952,\n",
       "       4334.12497 , 2463.073836,  741.461512, 2201.694072, 3706.195674,\n",
       "       2000.382784,  646.804726,  853.58889 , 2931.08463 , 3775.765116,\n",
       "       3891.840688,  985.357368, 1069.447908,  246.47916 , 2606.547078,\n",
       "       3088.37988 , 4241.205922,  136.35584 , 2088.428176, 1887.216758,\n",
       "        970.390184, 2330.892562,  547.780292,  823.9275  , 3595.473134,\n",
       "       2366.193278,  280.614726,  687.718136, 2443.739004, 2486.523312,\n",
       "       4309.963088,  855.140204, 2347.291216, 3498.832264, 1952.132258,\n",
       "       2638.105998, 3138.71436 , 3093.246878, 3017.825054, 2246.189486,\n",
       "       1040.458976,  619.307186,  939.90986 , 3283.252882, 3943.46682 ,\n",
       "       1254.79997 , 1932.571054,  696.313614, 1242.495986, 1454.153806,\n",
       "       2301.896972,  326.84122 , 2679.252438, 1603.64588 , 1528.257346,\n",
       "       1909.141552, 1820.916394, 1951.719462,  273.270952,  310.935258,\n",
       "       3050.46257 ,  209.89345 , 3542.58864 , 1853.327538,  390.378514,\n",
       "       2835.628884,  690.96724 , 4182.18941 , 2586.839398, 1301.43926 ,\n",
       "       1594.943874, 2886.429424, 2927.502626, 2617.9256  , 4688.303938,\n",
       "       2326.971   , 1647.169226, 2900.444514, 2519.22075 ,  208.46198 ,\n",
       "       2936.94367 ,  530.57602 , 2569.675074, 2463.479974, 2939.926454,\n",
       "       3395.420208, 1149.989734,  423.7817  , 3478.518706, 1907.88319 ,\n",
       "       1215.537744, 2612.19972 , 1239.293488, 1274.121486,  453.416458,\n",
       "       3685.562532,  544.877404, 1481.331762, 2041.855466, 3995.918544,\n",
       "        391.809984, 2017.693584,  259.821792, 3535.477896, 1542.831708,\n",
       "       2804.928846, 1644.379524,  245.966494,  574.139314, 1908.941812,\n",
       "       4841.757522, 3323.04109 , 3772.535986, 1543.397638, 3511.515754,\n",
       "       3450.069072,  413.208796, 2116.185378,  389.02694 ,  504.117128,\n",
       "       2769.135438, 1206.655972, 1678.055688, 3319.71209 , 1143.837742,\n",
       "       1503.869092, 2307.989042, 1173.725504, 1275.979068, 3748.966666,\n",
       "       2693.607086, 3632.977648, 2355.806798, 2978.7892  , 5471.424556,\n",
       "       3037.61263 , 3428.909948,  319.990138, 3457.073288,  321.960906,\n",
       "       5489.567606, 2539.001668, 4546.24885 , 1131.766788, 1112.738224,\n",
       "       3403.389834, 1677.969134, 2085.159098,  188.534586, 1893.13572 ,\n",
       "       2255.324262, 2928.32156 , 1471.624398,  321.28179 , 1470.465906,\n",
       "        458.729542, 4906.067144, 2566.519182,  781.143192,  529.337632,\n",
       "        838.894684, 1487.110906,  674.981382, 3164.127946, 5334.875634,\n",
       "        760.783028,  168.161106, 3461.787152, 1673.874464,   73.70406 ,\n",
       "        885.64716 , 3652.51222 , 4646.371854, 1175.56977 ,  391.483742,\n",
       "       3571.25133 , 3424.94178 ,  792.907878, 3778.142022, 3460.615344,\n",
       "        842.656454, 1194.638282, 1555.315458, 2249.352036, 2469.838364,\n",
       "       2739.60055 ,  404.566712, 1753.157928,  776.88873 , 2810.887756,\n",
       "        222.623546, 3625.587268, 5703.77544 , 4715.015834, 1803.459118,\n",
       "        779.305584,  595.271806,  528.225746, 1342.112982, 3741.96245 ,\n",
       "       2273.27423 , 1505.580198, 2534.73389 ,  955.609424])"
      ]
     },
     "execution_count": 193,
     "metadata": {},
     "output_type": "execute_result"
    }
   ],
   "source": [
    "pred"
   ]
  },
  {
   "cell_type": "code",
   "execution_count": 194,
   "metadata": {},
   "outputs": [
    {
     "name": "stdout",
     "output_type": "stream",
     "text": [
      "ERRORS:\n",
      "MEAN ABSOLUTE ERROR:  748.6016022925661\n",
      "MEAN SQUARED ERROR:  1104065.6914538972\n",
      "ROOT MEAN SQUARED ERROR:  1050.7453028464593\n"
     ]
    }
   ],
   "source": [
    "print('ERRORS:')\n",
    "print(\"MEAN ABSOLUTE ERROR: \", mean_absolute_error(y_test, pred))\n",
    "print(\"MEAN SQUARED ERROR: \", mean_squared_error(y_test, pred))\n",
    "print('ROOT MEAN SQUARED ERROR: ', np.sqrt(mean_squared_error(y_test, pred)))\n"
   ]
  },
  {
   "cell_type": "markdown",
   "metadata": {},
   "source": [
    "# checking overfitting of the model"
   ]
  },
  {
   "cell_type": "code",
   "execution_count": 195,
   "metadata": {},
   "outputs": [
    {
     "name": "stdout",
     "output_type": "stream",
     "text": [
      "0.537081805994952\n"
     ]
    }
   ],
   "source": [
    "from sklearn.model_selection import cross_val_score\n",
    "print(cross_val_score(rf, x, y, cv=5).mean())"
   ]
  },
  {
   "cell_type": "markdown",
   "metadata": {},
   "source": [
    "# Ada Boost Regressor model"
   ]
  },
  {
   "cell_type": "code",
   "execution_count": 196,
   "metadata": {},
   "outputs": [
    {
     "name": "stdout",
     "output_type": "stream",
     "text": [
      "0.5584487808086556\n"
     ]
    }
   ],
   "source": [
    "from sklearn.ensemble import AdaBoostRegressor\n",
    "adr = AdaBoostRegressor(n_estimators=100)\n",
    "adr.fit(x_train, y_train)\n",
    "pred=adr.predict(x_test)\n",
    "print(adr.score(x_train, y_train))"
   ]
  },
  {
   "cell_type": "code",
   "execution_count": 197,
   "metadata": {},
   "outputs": [
    {
     "name": "stdout",
     "output_type": "stream",
     "text": [
      "ERRORS:\n",
      "MEAN ABSOLUTE ERROR:  763.918671541088\n",
      "MEAN SQUARED ERROR:  1055875.2007650435\n",
      "ROOT MEAN SQUARED ERROR:  1027.5578819536365\n"
     ]
    }
   ],
   "source": [
    "print('ERRORS:')\n",
    "print(\"MEAN ABSOLUTE ERROR: \", mean_absolute_error(y_test, pred))\n",
    "print(\"MEAN SQUARED ERROR: \", mean_squared_error(y_test, pred))\n",
    "print('ROOT MEAN SQUARED ERROR: ', np.sqrt(mean_squared_error(y_test, pred)))"
   ]
  },
  {
   "cell_type": "markdown",
   "metadata": {},
   "source": [
    "# checking overfitting of the model"
   ]
  },
  {
   "cell_type": "code",
   "execution_count": 198,
   "metadata": {},
   "outputs": [
    {
     "name": "stdout",
     "output_type": "stream",
     "text": [
      "0.5520479164470515\n"
     ]
    }
   ],
   "source": [
    "from sklearn.model_selection import cross_val_score\n",
    "print(cross_val_score(adr, x, y, cv=5).mean())"
   ]
  },
  {
   "cell_type": "markdown",
   "metadata": {},
   "source": [
    "# OBSERVATIONS:"
   ]
  },
  {
   "cell_type": "markdown",
   "metadata": {},
   "source": [
    "By checking the overfitting of the models with their cv score, we can find that Linear Regression model is best fitted."
   ]
  },
  {
   "cell_type": "code",
   "execution_count": 199,
   "metadata": {
    "scrolled": true
   },
   "outputs": [
    {
     "data": {
      "text/plain": [
       "{'copy_X': True,\n",
       " 'fit_intercept': True,\n",
       " 'n_jobs': None,\n",
       " 'normalize': False,\n",
       " 'positive': False}"
      ]
     },
     "execution_count": 199,
     "metadata": {},
     "output_type": "execute_result"
    }
   ],
   "source": [
    "lm.get_params()"
   ]
  },
  {
   "cell_type": "markdown",
   "metadata": {},
   "source": [
    "# Hyper Tuning Linear regression model"
   ]
  },
  {
   "cell_type": "code",
   "execution_count": 200,
   "metadata": {},
   "outputs": [],
   "source": [
    "from sklearn.model_selection import GridSearchCV\n"
   ]
  },
  {
   "cell_type": "code",
   "execution_count": 201,
   "metadata": {},
   "outputs": [],
   "source": [
    "lm_t = LinearRegression\n",
    "\n",
    "copy_X = ['True', 'False']\n",
    "fit_intercept = ['True', 'False']\n",
    "normalize = ['True', 'False']\n",
    "positive = ['True', 'False']\n",
    "\n",
    "parameters = {'copy_X' :  ['True', 'False'],\n",
    "              'fit_intercept' : ['True', 'False'],\n",
    "              'normalize' : ['True', 'False'],\n",
    "              'positive' : ['True', 'False']\n",
    "             }"
   ]
  },
  {
   "cell_type": "code",
   "execution_count": 202,
   "metadata": {},
   "outputs": [],
   "source": [
    "gs_lm = GridSearchCV(LinearRegression(), parameters, cv = 5)"
   ]
  },
  {
   "cell_type": "code",
   "execution_count": 203,
   "metadata": {},
   "outputs": [
    {
     "data": {
      "text/plain": [
       "GridSearchCV(cv=5, estimator=LinearRegression(),\n",
       "             param_grid={'copy_X': ['True', 'False'],\n",
       "                         'fit_intercept': ['True', 'False'],\n",
       "                         'normalize': ['True', 'False'],\n",
       "                         'positive': ['True', 'False']})"
      ]
     },
     "execution_count": 203,
     "metadata": {},
     "output_type": "execute_result"
    }
   ],
   "source": [
    "gs_lm.fit(x_train, y_train)"
   ]
  },
  {
   "cell_type": "code",
   "execution_count": 204,
   "metadata": {
    "scrolled": true
   },
   "outputs": [
    {
     "data": {
      "text/plain": [
       "{'copy_X': 'True',\n",
       " 'fit_intercept': 'True',\n",
       " 'normalize': 'True',\n",
       " 'positive': 'True'}"
      ]
     },
     "execution_count": 204,
     "metadata": {},
     "output_type": "execute_result"
    }
   ],
   "source": [
    "gs_lm.best_params_"
   ]
  },
  {
   "cell_type": "code",
   "execution_count": 205,
   "metadata": {},
   "outputs": [
    {
     "data": {
      "text/plain": [
       "LinearRegression(normalize=True, positive=True)"
      ]
     },
     "execution_count": 205,
     "metadata": {},
     "output_type": "execute_result"
    }
   ],
   "source": [
    "#Checking parameters for final model\n",
    "\n",
    "lm_final = LinearRegression(copy_X=True, fit_intercept=True, normalize=True, positive=True)\n",
    "lm_final.fit(x_train, y_train)"
   ]
  },
  {
   "cell_type": "code",
   "execution_count": 206,
   "metadata": {},
   "outputs": [
    {
     "name": "stdout",
     "output_type": "stream",
     "text": [
      "linearRegression Coeffient [  0.          21.5852889    0.           2.40045199 908.68751313\n",
      " 207.22834853   0.           0.           0.         582.02032961\n",
      "  11.59080191]\n",
      "linearRegression Intercept 2131.0477988205043\n"
     ]
    }
   ],
   "source": [
    "print('linearRegression Coeffient', lm_final.coef_)\n",
    "print('linearRegression Intercept', lm_final.intercept_)\n"
   ]
  },
  {
   "cell_type": "code",
   "execution_count": 207,
   "metadata": {
    "scrolled": true
   },
   "outputs": [
    {
     "name": "stdout",
     "output_type": "stream",
     "text": [
      "\n",
      "linearRegression score 0.4852700749794171\n"
     ]
    }
   ],
   "source": [
    "\n",
    "print('\\nlinearRegression score', lm_final.score(x_train, y_train))"
   ]
  },
  {
   "cell_type": "markdown",
   "metadata": {},
   "source": [
    "Accuracy is less than the earlier linear regresion model, hence choosing the earlier model"
   ]
  },
  {
   "cell_type": "markdown",
   "metadata": {},
   "source": [
    "# Final Model:"
   ]
  },
  {
   "cell_type": "code",
   "execution_count": 208,
   "metadata": {},
   "outputs": [
    {
     "name": "stdout",
     "output_type": "stream",
     "text": [
      "linearRegression Coeffient [  -2.58854926   22.8245572   -49.07381245    0.96790162  909.65784776\n",
      "  153.39436189   -0.9194733  -213.92149824 -210.09224265  641.82588524\n",
      "  -22.57908792]\n",
      "linearRegression Intercept 2130.9810448658113\n",
      "linearRegression score 0.49800666501978497\n"
     ]
    }
   ],
   "source": [
    "lm = LinearRegression()\n",
    "lm.fit(x_train, y_train)\n",
    "\n",
    "print('linearRegression Coeffient', lm.coef_)\n",
    "print('linearRegression Intercept', lm.intercept_)\n",
    "print('linearRegression score', lm.score(x_train, y_train))\n"
   ]
  },
  {
   "cell_type": "code",
   "execution_count": 209,
   "metadata": {},
   "outputs": [
    {
     "data": {
      "text/plain": [
       "array([2426.93129332, 2037.50395581, 2689.50618301, 1406.20474372,\n",
       "       3543.66924371,  477.4601507 , 3788.06918367, 2532.02709658,\n",
       "       2931.01954748, 2312.65965328, 1564.67822439,  467.11039258,\n",
       "       2670.57051042,  701.51899038, 1707.99532245,  414.58960976,\n",
       "       1540.15714844,  751.39086644, 3389.26804544,  982.89551566,\n",
       "       -318.16192943, 1754.44889511, 1744.30591497, 2300.80319713,\n",
       "       1438.87498478, 3117.93854633, -277.62915135, 2339.94321269,\n",
       "       2016.11431753, 3406.30877282, 1352.1998072 , 2324.02864775,\n",
       "       2734.48209898, 2281.49371331,  876.51261004, 1091.76739468,\n",
       "       2978.87727127, 2683.23517768, 1462.67452058,  568.98094526,\n",
       "       2741.48666875, 2888.10257354, 2744.94877887, 3573.52232294,\n",
       "       3258.01267898, 2170.45840505, 4340.41074957, 5208.63311066,\n",
       "       3523.20575378, 2067.8825177 , 1648.45757932, 1585.10226814,\n",
       "       3564.28281779, 1197.82404991, 1082.73436484, 3330.88181681,\n",
       "       3615.33224842, 2298.7181643 ,  191.57105791,  467.01794995,\n",
       "       2521.1216326 , 1994.61305821, 3467.92040885, 2619.08814832,\n",
       "       2411.46195507, 2423.50576911, 2288.06093952, 3461.51348415,\n",
       "       3076.0304391 , 3013.25037546, 4212.94063989, 2612.27559801,\n",
       "       2443.09778561,  744.88401768, 1140.5596075 , 1021.93078658,\n",
       "       2585.15493975, 1225.3979717 , 2923.44516635, 4007.92770914,\n",
       "       1301.78515429, 4200.43665193, 3976.38996316, 1982.02789834,\n",
       "       1869.29101171, 2437.50339709, 2009.33135679, 3138.83467565,\n",
       "       3425.03107615, 1469.15370644, 4492.78086611,  773.62805044,\n",
       "       2197.03934333, 2283.07607997, 3717.69309066, 1521.7075538 ,\n",
       "       4025.88093779, 2620.25565456, 3129.25990186, 1233.29745787,\n",
       "       2401.04018483, 2039.62219199, 2894.4416159 , 1254.43357015,\n",
       "       1219.52438523, 1371.29478049,  656.50669294,  928.54678628,\n",
       "        206.15493683, 3066.17667386, 2960.44272279,  925.01217377,\n",
       "       2476.59593905,  789.30635487, 3430.04610463, 1440.90315308,\n",
       "       1697.84102735, 4339.81961132, 2288.56231593, 2759.02920217,\n",
       "       3703.46530695,  503.97758267, 1149.93307547, 1872.93124276,\n",
       "       2036.7860539 , 1488.77776366, 2216.3983756 , 3045.1978109 ,\n",
       "       3961.99446291, 3678.46550638, 2124.78655089, 2897.57117356,\n",
       "       1888.73008068, 1596.6518381 , 2919.10835411, 1891.669457  ,\n",
       "        533.36535593, 2958.48411974, 1883.5553971 , 1944.40084121,\n",
       "       1271.29145415, 2238.87213782, 1984.86253878, 4346.80133608,\n",
       "       1827.16824114, 2732.74846498, 3654.0016477 , 2486.65531794,\n",
       "       1458.38836326, 3058.49970745, 1725.31094446, 2128.02210248,\n",
       "       3030.82418839, 1657.59415224, 1521.07604535, 5121.24725526,\n",
       "       1174.45651452, 1521.72400492, 4186.6622067 , 2221.67434517,\n",
       "        576.94013578,  791.81814387, 1731.21651406, 2015.05467086,\n",
       "       1257.87978203, 3206.08072852, 2255.88102824, 1650.2598982 ,\n",
       "       1622.82429802, 2536.14989047, 1001.31112813, 2628.48297793,\n",
       "        623.34153376, 2501.36296208, 2938.47145498, 2298.34960539,\n",
       "       2584.28643655, 3749.48099081, 2113.84372959, 2297.20882423,\n",
       "       2883.74063242,  801.64651195, 3579.62415251,  494.04745875,\n",
       "       3269.72980148, 1292.24526916, 2684.76207852,  660.5106199 ,\n",
       "        920.58143108, 1730.42054701, 2940.06178943, 1385.3439075 ,\n",
       "       2619.43811047, 2510.55357344, 3227.86772919, 1994.99579603,\n",
       "       2963.07055475, 2089.63692278,  694.12211116, 1498.40526545,\n",
       "        486.41316548, 1351.45198344, 5012.33685186, 3902.11166639,\n",
       "       2054.55496323, 3363.91260418, 2986.41438595, 2532.85160054,\n",
       "       1579.50304801, 1615.58629587,  530.25394349, 3836.32907108,\n",
       "       3282.19646571, 2515.69815167, 2577.65296149, 2256.48537088,\n",
       "       5219.42282732, 2533.78829906, 2114.42485611, 1206.83687252,\n",
       "       3777.15720171, 2483.73794973,  400.04943821, 1951.20174623,\n",
       "       2193.08710345, 1016.00201665,  709.10087491, 3646.23584113,\n",
       "       1688.56917894, 3416.42188399, 2292.53026891, 3373.75407608,\n",
       "       1862.17799512, 2435.23280595,  -82.81828514, 1975.88702983,\n",
       "       3528.96064397, 2229.2325313 , 1563.6440143 , 1713.04302145,\n",
       "       3163.64588747, 1219.96898862, 2692.29658708,  805.98384198,\n",
       "        628.752508  ,  515.2079107 , 3097.47228733, 1103.72211464,\n",
       "       2308.07768665, 1640.99804157, 3244.58983773, -737.76163584,\n",
       "       1665.36301514, 2226.4640098 , 2310.24105952, 2432.20229399,\n",
       "       1610.18146445, 3334.13076412, -193.94941352, 1232.6778529 ,\n",
       "       3469.22107004, 1174.44591127, 1561.07317904, 2163.53087345,\n",
       "       2460.54834088, 2694.79791054, -379.82188559, 1261.54103493,\n",
       "       1836.90045862,  500.34348161,  944.95049941,  473.54145991,\n",
       "       1097.50809222, 2505.44311383, 1322.66496721, 2284.05045383,\n",
       "       2019.51075624, 3850.09596004, 2175.45823361,  928.1905518 ,\n",
       "       2518.58740308, 3047.35441509, 3090.76553221, 1267.52562442,\n",
       "       3226.56477223, 3913.67641666, 3900.13604307, 1375.55893226,\n",
       "       3528.78202463, 2448.52830079, 1669.11687622, 1163.41664588,\n",
       "       1104.52665787, 2611.22832543, 3064.9319107 , 1895.40673402,\n",
       "       3153.11542869,  612.6638047 , 3951.80534544,  492.19415078,\n",
       "       1387.32835011,  779.41099028, 2953.67699631, 1465.44428329,\n",
       "        700.13237858,  994.11787605, 1786.47343453, 1672.54764669,\n",
       "        697.57547192, 3237.79760451, 3097.1704065 , 4245.45329833,\n",
       "       4295.46874337, 1285.20348526, 1446.71916222, 2934.793147  ,\n",
       "        623.28719393, 2765.0951619 , 1191.92372867,  581.37906451,\n",
       "       4283.09101919, 2159.92300098,  516.25403775, 1223.69366591,\n",
       "       2038.88655801, 2533.30476428, 3902.91824001, 1688.51377297,\n",
       "       2734.82086042, 1708.58842696, -577.0576329 ,  628.20473275,\n",
       "        532.95591675, 3425.4656619 , 3530.26298152, 3103.44849068,\n",
       "       3228.83572433, 1812.05830051,  906.80025032, 1324.13431205,\n",
       "       1668.35364017, 3911.79008134, 1992.35774773, 2413.83757045,\n",
       "       2523.2632912 , 1949.51386135, -111.47589691, 3701.6504261 ,\n",
       "       1686.89606437, 2143.92352601, 2750.79878314,  252.96876794,\n",
       "       2664.56054993, 1425.85090255, 3215.05052257, 2771.78565473,\n",
       "       2663.19238267, 1395.43948741,  856.59504694, 2180.9352013 ,\n",
       "       3150.31024788, 2650.75163089,  725.63424463, 2831.06106918,\n",
       "       3631.85791209, 1515.71831466,  956.76431863, 1417.83948879,\n",
       "       2661.24091015, 3483.91884104, 2778.98764168,  690.91166408,\n",
       "       4126.91905091, 1938.12856948, 3641.65223223, 4159.84493635,\n",
       "        434.81086606, 2464.72132982, 2747.7667854 , 2539.75765239,\n",
       "       3369.19565708, 2084.50381387, 3448.72814587,  943.87526391,\n",
       "       3235.92356885,  649.2135032 , 1300.3738966 , 2058.45296828,\n",
       "       1811.4080019 , 1707.47373387, 3109.31719453, 3333.96673211,\n",
       "       2270.36758906, 3742.93650976, 2351.93689309, 1441.63615073,\n",
       "       2489.14245233, 2095.26194597, 1553.75693477, 1675.27879823,\n",
       "       1317.85041845, 1083.78546028, 2256.08216124,  312.52989712,\n",
       "       2030.53838201, 3329.45970003, 1060.62340125, 1085.36987231,\n",
       "       3225.01176244, 2099.54375167, 4161.40793474, 3915.43723554,\n",
       "       1562.00714525, -340.29035652, 3705.53704671, 1423.16876918,\n",
       "       1086.04254516, 2311.17220373, 2301.4777718 ,  853.99038978,\n",
       "        571.0060069 , -320.6773686 , 2427.63626739, 2608.3503163 ,\n",
       "       1743.14754264,  217.01764575, 2225.36566261, 2888.29031945,\n",
       "       1641.17880351, -376.60775832, 1907.93033777, 2251.77256164,\n",
       "       2002.45443837, 2823.00929424, 2574.60824393,  384.3124548 ,\n",
       "        606.48224186, 3402.64122842, 1626.63742311, 2863.51875446,\n",
       "       2137.33683246, 1094.80176627, 2340.52751536, 4409.83752405,\n",
       "       3295.94151529, 3595.72482491, 2844.14867968, 1119.43851257,\n",
       "       4404.9277567 ,  168.94612107, 1550.04273192, 2181.87707633,\n",
       "       1128.55133131,  166.11022769, 1813.70426559, 2202.3662465 ,\n",
       "       2495.74169383, 1716.05804996,  802.13786723, 2721.3618158 ,\n",
       "       1375.32466713, 2085.84832148, 1261.79354259, 2110.77976746,\n",
       "       1627.68741722, 1976.87429537, 1171.00771089, 2378.62732911,\n",
       "       3288.018685  , 2408.43953298, 2646.80467265, -361.94072595,\n",
       "       1169.77743752, 3269.43190101, 1754.80782274, 1597.948894  ,\n",
       "       4077.78769608, 3398.86262273, 1530.03420795, 3598.14540767,\n",
       "       3505.62363769, 2636.90283789, 1800.4078171 , 3779.21389522,\n",
       "        964.88193447, 2945.72245138, 3042.33768443,  198.70310957,\n",
       "       1394.32830955, 1232.13602682, 1561.23209909,  964.04507934,\n",
       "       1730.20221291, 1532.00791488,  592.43737745, 1480.45579288,\n",
       "        720.22691263, 2199.06376529, 2114.59287796, 3688.0318976 ,\n",
       "       3333.02952505, 2406.01116928, 2062.24043423, 1873.57866102,\n",
       "       1455.02791135,  862.44607131,  783.96529992, 2350.4717009 ,\n",
       "       3918.12820031, 3687.71992914, 1522.86582831, 3496.84068107,\n",
       "       3767.24313679,  925.66784301, 1379.27499407, 2716.75248641,\n",
       "       1819.74387735, 1634.15827532, 2887.50048099,  253.91409339,\n",
       "       2158.02169585, 2278.76617334, 2269.06858439, 3019.16958193,\n",
       "       3109.19143719, 1628.92114073, 1069.3604281 , 2328.71581149,\n",
       "       3463.61021432, 2158.82700777, 3402.92299433, 2499.73529562,\n",
       "       3613.56970703, 3889.91405829, 3373.59026037, 1334.90768074,\n",
       "         67.02493563, 2035.11233369, 2102.5980527 ,  544.23434438,\n",
       "       4835.59933991, 1817.6166959 , 3846.68461176, 2180.70996389,\n",
       "       1176.24013679, 3664.25231581, 2802.51174201, 1961.87532832,\n",
       "       3786.59066722, 2425.80060173, 1200.63248586, 1210.91179168,\n",
       "       2022.21620173, 1604.95352858, 3406.69493876, 1884.96886476,\n",
       "       2589.99599776, 2514.57813005, 1807.73600853, 1458.84845835,\n",
       "       2297.87350999, 3656.24314174, 3282.03143653, 3254.67171549,\n",
       "       1732.12905701, 2803.19343636, 2230.73502176, 2449.89304013,\n",
       "       2576.08895445,  356.66648656, -240.36617426, 3131.69310519,\n",
       "       1486.51927024, 5261.93079731, 1039.45589368, 1392.80066033,\n",
       "       2073.19121611, 1132.87480088, 1011.8178993 , 1216.44068055,\n",
       "       2008.98711422, 5043.96792935, 3307.672725  , 2695.17475083,\n",
       "        844.59776704, 1377.54066965, 2889.40339978, 2868.75548578,\n",
       "       3158.17480961, 2156.27011853, 1885.45590389, 1342.61172038,\n",
       "       3966.57667564, 3519.57238723, 1316.13808419, 2840.37280015,\n",
       "        985.76786876, 2230.4320718 , 1483.43746917, 4363.731828  ,\n",
       "       1632.0237027 , 4097.10210171,  348.63098666, 4243.6315269 ,\n",
       "       1924.18072164, 1180.96934267, 1025.32749363,  577.46142153,\n",
       "       -176.67205231, 2247.86895467,  655.09969814, 2954.13711217,\n",
       "       1765.8151837 , 2368.93493394,  924.89707305,  485.11275527,\n",
       "       1733.54835887, 2307.31290793, 2304.5680953 , 2259.60071997,\n",
       "       2703.9526106 , 2437.95100755,  740.76093055, 2522.6001909 ,\n",
       "       1114.64249584, 2502.53807459, 1148.84542645, 3456.86490822,\n",
       "        342.23996977, 2747.74049242, 5036.01045604, 2698.77146219,\n",
       "       1013.56876419, 1952.99142465, 2676.16047417, 1890.98777015,\n",
       "        864.37754145, 1472.67194679, 4405.80992266, 2850.09724087,\n",
       "       4100.4852718 , 2053.06698789,  929.69961876,  494.0906995 ,\n",
       "       2002.23748328, 4197.53990779, 3598.54179381, -958.56515991,\n",
       "       1489.05754537, 2060.99344037, 1011.44339118, 2440.77797122,\n",
       "       2102.68558713,  603.08785077, 3196.99738749, 3083.74194397,\n",
       "        757.22953984,  837.55558255, 2622.17104217, 2877.54639924,\n",
       "       3860.24351818,  924.84002952, 2956.01723108, 3337.41254304,\n",
       "       2269.34897064, 2955.75444141, 3484.54349154, 2168.82033241,\n",
       "       2441.81181949, 2102.31901191, 1755.76544942,  591.49548101,\n",
       "       1958.74553709, 3313.01595959, 4207.26711718, 1891.89226111,\n",
       "       2224.156493  , 1208.95296219, 1181.46000549, 1167.00119215,\n",
       "       1427.6366842 , 1375.33548265, 2370.90195495, 1821.08395415,\n",
       "       1960.11496882, 2403.98629732, 1448.6058805 , 3109.85020299,\n",
       "       1325.10558108, 1146.95853933, 3239.72607225,  166.11108601,\n",
       "       3342.84849489, 1844.11436121,  614.30619134, 3101.59120045,\n",
       "        845.46732209, 2863.74292939, 2243.814592  , 1237.05640275,\n",
       "       1510.17253687, 3126.17261483, 2703.39272802, 2272.14209411,\n",
       "       3377.87864461, 2653.02236009, 1560.82607624, 1817.04633662,\n",
       "       2307.61986718,  754.43910936, 3311.40921636, 1847.92000739,\n",
       "       2730.75053627, 2719.15033902, 3330.15536712, 3146.14157571,\n",
       "        972.55026181, 1159.29056667, 3875.05131647, 1948.79956446,\n",
       "       1778.01710681, 3226.5607843 , 1615.73139368, 1446.21481272,\n",
       "        352.6459795 , 3401.24166004,  391.02172994, 1216.90703933,\n",
       "       1890.46009739, 3474.18642815, 1588.52098155, 1838.6092116 ,\n",
       "        627.36182008, 2719.45106888, 1430.88428061, 2705.29172361,\n",
       "       2644.13073281,  337.14690618,  640.34150451, 1765.66122849,\n",
       "       3837.92269324, 3950.05709456, 3608.98447166, 2012.56547469,\n",
       "       3767.10061271, 3165.80579599, 2106.28335018, 1820.17898912,\n",
       "       1195.95734934,  879.49442397, 2062.24669703, 1138.81901438,\n",
       "       1704.67604313, 2984.28347971,  575.50635667, 1443.88861665,\n",
       "       2841.47729963, 1192.31758066, 1184.43068756, 2973.21094209,\n",
       "       2761.45153498, 2656.46035731, 2670.97640196, 2606.98647662,\n",
       "       4333.73866202, 1807.14273349, 2917.21839035,  943.4842036 ,\n",
       "       2655.80288687,  748.04367696, 4039.71355252, 2069.64777818,\n",
       "       4534.24488074, 2134.17764204,  952.01651741, 4143.13287297,\n",
       "       1081.74792686, 1857.26536935,  -94.67231231, 1629.53380342,\n",
       "       1864.32378902, 2223.46362474, 2085.46767226, 1434.306896  ,\n",
       "       1973.46223727, 1047.83229524, 3178.45811134, 2244.27451306,\n",
       "       1269.8373345 , 2013.79415961,  934.07937236, 1992.63176096,\n",
       "       1225.58168956, 2340.13315553, 4290.17835573, 1255.59377836,\n",
       "       -307.1739632 , 2145.88908343, 1090.08946911, -359.14829784,\n",
       "        779.62116782, 3737.91475955, 3937.79249199,  849.27199107,\n",
       "       1370.31791675, 3596.34859226, 2116.00491157,  743.83680404,\n",
       "       3145.11537547, 3263.74362479, 1046.60684116, 1202.53540723,\n",
       "       1896.14429067, 1457.24777665, 3150.81397084, 1721.58912418,\n",
       "       1228.06982269, 2197.78503706, 1112.42212148, 3218.20428712,\n",
       "        209.51052426, 3277.90837966, 4127.10421835, 3618.01414081,\n",
       "       1644.59289844,  635.0161154 ,  582.92178497,  638.98692646,\n",
       "       1066.72864088, 2449.8349738 , 2587.70628846, 1382.53151896,\n",
       "       2536.8145227 , 1514.72470231])"
      ]
     },
     "execution_count": 209,
     "metadata": {},
     "output_type": "execute_result"
    }
   ],
   "source": [
    "y_pred = lm.predict(x_test)\n",
    "y_pred\n"
   ]
  },
  {
   "cell_type": "code",
   "execution_count": 210,
   "metadata": {},
   "outputs": [
    {
     "name": "stdout",
     "output_type": "stream",
     "text": [
      "\n",
      "ERRORS:\n",
      "MEAN ABSOLUTE ERROR:  853.4240168075623\n",
      "MEAN SQUARED ERROR:  1249075.3217809033\n",
      "ROOT MEAN SQUARED ERROR:  1117.6203835743615\n"
     ]
    }
   ],
   "source": [
    "\n",
    "print(\"\\nERRORS:\")\n",
    "print(\"MEAN ABSOLUTE ERROR: \", mean_absolute_error(y_test, y_pred))\n",
    "print(\"MEAN SQUARED ERROR: \", mean_squared_error(y_test, y_pred))\n",
    "print('ROOT MEAN SQUARED ERROR: ', np.sqrt(mean_squared_error(y_test, y_pred)))\n",
    "\n"
   ]
  },
  {
   "cell_type": "markdown",
   "metadata": {},
   "source": [
    "# Predicting Final Test data:"
   ]
  },
  {
   "cell_type": "code",
   "execution_count": 211,
   "metadata": {},
   "outputs": [],
   "source": [
    "y_pred = lm.predict(test_data)"
   ]
  },
  {
   "cell_type": "code",
   "execution_count": 212,
   "metadata": {},
   "outputs": [
    {
     "data": {
      "text/plain": [
       "array([28223.95535422, 16622.90125456, 44941.92960823, ...,\n",
       "       24159.19498588, 36824.08926194, 14676.17967466])"
      ]
     },
     "execution_count": 212,
     "metadata": {},
     "output_type": "execute_result"
    }
   ],
   "source": [
    "y_pred"
   ]
  },
  {
   "cell_type": "markdown",
   "metadata": {},
   "source": [
    "# Saving the model"
   ]
  },
  {
   "cell_type": "code",
   "execution_count": 213,
   "metadata": {},
   "outputs": [
    {
     "data": {
      "text/plain": [
       "['Vaibhav_big_data_sales_Project_Model.pkl']"
      ]
     },
     "execution_count": 213,
     "metadata": {},
     "output_type": "execute_result"
    }
   ],
   "source": [
    "import joblib\n",
    "joblib.dump(lm, 'Vaibhav_big_data_sales_Project_Model.pkl')"
   ]
  },
  {
   "cell_type": "markdown",
   "metadata": {},
   "source": [
    "Conclusion:\n",
    "    \n",
    "    Our Model is having accuracy of 49.80 % which is not good but better."
   ]
  },
  {
   "cell_type": "markdown",
   "metadata": {},
   "source": [
    "# Thank You"
   ]
  }
 ],
 "metadata": {
  "kernelspec": {
   "display_name": "Python 3",
   "language": "python",
   "name": "python3"
  },
  "language_info": {
   "codemirror_mode": {
    "name": "ipython",
    "version": 3
   },
   "file_extension": ".py",
   "mimetype": "text/x-python",
   "name": "python",
   "nbconvert_exporter": "python",
   "pygments_lexer": "ipython3",
   "version": "3.7.6"
  }
 },
 "nbformat": 4,
 "nbformat_minor": 4
}
