{
 "cells": [
  {
   "cell_type": "markdown",
   "metadata": {},
   "source": [
    "# BASEBALL MATCH PREDICTION PROJECT"
   ]
  },
  {
   "cell_type": "markdown",
   "metadata": {},
   "source": [
    "Name: Vaibhav Tayade\n",
    "contact: 8087970061\n",
    "Email id: vaibhav_t29@rediffmail.com"
   ]
  },
  {
   "cell_type": "code",
   "execution_count": 1,
   "metadata": {},
   "outputs": [],
   "source": [
    "import pandas as pd\n",
    "import seaborn as sns\n",
    "import matplotlib.pyplot as plt\n",
    "import warnings\n",
    "warnings.filterwarnings('ignore')\n",
    "import numpy as np\n",
    "\n",
    "from scipy.stats import zscore\n",
    "\n",
    "from sklearn.preprocessing import StandardScaler\n",
    "from sklearn import metrics\n",
    "\n",
    "from sklearn.model_selection import train_test_split\n",
    "from sklearn.linear_model import LinearRegression\n",
    "from sklearn.metrics import mean_squared_error, mean_absolute_error\n",
    "from sklearn.metrics import r2_score\n",
    "from sklearn.linear_model import Lasso, Ridge\n",
    "from sklearn.linear_model import ElasticNet\n",
    "\n",
    "from sklearn.svm import SVR\n",
    "from sklearn.tree import DecisionTreeRegressor\n",
    "from sklearn.ensemble import RandomForestRegressor\n",
    "from sklearn.ensemble import AdaBoostRegressor\n",
    "\n",
    "from sklearn.model_selection import cross_val_score\n",
    "from sklearn.model_selection import GridSearchCV\n",
    "\n"
   ]
  },
  {
   "cell_type": "markdown",
   "metadata": {},
   "source": [
    "# IMPORTING DATASET:"
   ]
  },
  {
   "cell_type": "code",
   "execution_count": 2,
   "metadata": {},
   "outputs": [],
   "source": [
    "# Importing dataset and creating dataframe:\n",
    "df = pd.read_csv('baseball_data.csv')"
   ]
  },
  {
   "cell_type": "code",
   "execution_count": 3,
   "metadata": {},
   "outputs": [],
   "source": [
    "# rearraging dataframe columns:\n",
    "df = df[['R', 'AB', 'H', '2B', '3B', 'HR', 'BB', 'SO', 'SB', 'RA', 'ER', 'ERA', 'CG', 'SHO', 'SV', 'E', 'W']]"
   ]
  },
  {
   "cell_type": "markdown",
   "metadata": {},
   "source": [
    "Dataframe abbreviations and their full forms:\n",
    "    \n",
    "    \n",
    "R = Runs,\n",
    "AB = At Bats,\n",
    "H = Hits,\n",
    "2B = Doubles,\n",
    "3B = Triples,\n",
    "HR = Homeruns,\n",
    "BB = Walks,\n",
    "SO = Strikeouts,\n",
    "SB = Stolen Bases,\n",
    "RA = Runs Allowed,\n",
    "ER = Earned Runs,\n",
    "ERA = Earned Run Average (ERA),\n",
    "SHO = Shutouts,\n",
    "SV = Saves,\n",
    "CG = Complete Games\n",
    "E = Errors\n",
    "W = Win"
   ]
  },
  {
   "cell_type": "code",
   "execution_count": 4,
   "metadata": {
    "scrolled": true
   },
   "outputs": [
    {
     "data": {
      "text/html": [
       "<div>\n",
       "<style scoped>\n",
       "    .dataframe tbody tr th:only-of-type {\n",
       "        vertical-align: middle;\n",
       "    }\n",
       "\n",
       "    .dataframe tbody tr th {\n",
       "        vertical-align: top;\n",
       "    }\n",
       "\n",
       "    .dataframe thead th {\n",
       "        text-align: right;\n",
       "    }\n",
       "</style>\n",
       "<table border=\"1\" class=\"dataframe\">\n",
       "  <thead>\n",
       "    <tr style=\"text-align: right;\">\n",
       "      <th></th>\n",
       "      <th>R</th>\n",
       "      <th>AB</th>\n",
       "      <th>H</th>\n",
       "      <th>2B</th>\n",
       "      <th>3B</th>\n",
       "      <th>HR</th>\n",
       "      <th>BB</th>\n",
       "      <th>SO</th>\n",
       "      <th>SB</th>\n",
       "      <th>RA</th>\n",
       "      <th>ER</th>\n",
       "      <th>ERA</th>\n",
       "      <th>CG</th>\n",
       "      <th>SHO</th>\n",
       "      <th>SV</th>\n",
       "      <th>E</th>\n",
       "      <th>W</th>\n",
       "    </tr>\n",
       "  </thead>\n",
       "  <tbody>\n",
       "    <tr>\n",
       "      <th>0</th>\n",
       "      <td>724</td>\n",
       "      <td>5575</td>\n",
       "      <td>1497</td>\n",
       "      <td>300</td>\n",
       "      <td>42</td>\n",
       "      <td>139</td>\n",
       "      <td>383</td>\n",
       "      <td>973</td>\n",
       "      <td>104</td>\n",
       "      <td>641</td>\n",
       "      <td>601</td>\n",
       "      <td>3.73</td>\n",
       "      <td>2</td>\n",
       "      <td>8</td>\n",
       "      <td>56</td>\n",
       "      <td>88</td>\n",
       "      <td>95</td>\n",
       "    </tr>\n",
       "    <tr>\n",
       "      <th>1</th>\n",
       "      <td>696</td>\n",
       "      <td>5467</td>\n",
       "      <td>1349</td>\n",
       "      <td>277</td>\n",
       "      <td>44</td>\n",
       "      <td>156</td>\n",
       "      <td>439</td>\n",
       "      <td>1264</td>\n",
       "      <td>70</td>\n",
       "      <td>700</td>\n",
       "      <td>653</td>\n",
       "      <td>4.07</td>\n",
       "      <td>2</td>\n",
       "      <td>12</td>\n",
       "      <td>45</td>\n",
       "      <td>86</td>\n",
       "      <td>83</td>\n",
       "    </tr>\n",
       "    <tr>\n",
       "      <th>2</th>\n",
       "      <td>669</td>\n",
       "      <td>5439</td>\n",
       "      <td>1395</td>\n",
       "      <td>303</td>\n",
       "      <td>29</td>\n",
       "      <td>141</td>\n",
       "      <td>533</td>\n",
       "      <td>1157</td>\n",
       "      <td>86</td>\n",
       "      <td>640</td>\n",
       "      <td>584</td>\n",
       "      <td>3.67</td>\n",
       "      <td>11</td>\n",
       "      <td>10</td>\n",
       "      <td>38</td>\n",
       "      <td>79</td>\n",
       "      <td>81</td>\n",
       "    </tr>\n",
       "    <tr>\n",
       "      <th>3</th>\n",
       "      <td>622</td>\n",
       "      <td>5533</td>\n",
       "      <td>1381</td>\n",
       "      <td>260</td>\n",
       "      <td>27</td>\n",
       "      <td>136</td>\n",
       "      <td>404</td>\n",
       "      <td>1231</td>\n",
       "      <td>68</td>\n",
       "      <td>701</td>\n",
       "      <td>643</td>\n",
       "      <td>3.98</td>\n",
       "      <td>7</td>\n",
       "      <td>9</td>\n",
       "      <td>37</td>\n",
       "      <td>101</td>\n",
       "      <td>76</td>\n",
       "    </tr>\n",
       "    <tr>\n",
       "      <th>4</th>\n",
       "      <td>689</td>\n",
       "      <td>5605</td>\n",
       "      <td>1515</td>\n",
       "      <td>289</td>\n",
       "      <td>49</td>\n",
       "      <td>151</td>\n",
       "      <td>455</td>\n",
       "      <td>1259</td>\n",
       "      <td>83</td>\n",
       "      <td>803</td>\n",
       "      <td>746</td>\n",
       "      <td>4.64</td>\n",
       "      <td>7</td>\n",
       "      <td>12</td>\n",
       "      <td>35</td>\n",
       "      <td>86</td>\n",
       "      <td>74</td>\n",
       "    </tr>\n",
       "  </tbody>\n",
       "</table>\n",
       "</div>"
      ],
      "text/plain": [
       "     R    AB     H   2B  3B   HR   BB    SO   SB   RA   ER   ERA  CG  SHO  SV  \\\n",
       "0  724  5575  1497  300  42  139  383   973  104  641  601  3.73   2    8  56   \n",
       "1  696  5467  1349  277  44  156  439  1264   70  700  653  4.07   2   12  45   \n",
       "2  669  5439  1395  303  29  141  533  1157   86  640  584  3.67  11   10  38   \n",
       "3  622  5533  1381  260  27  136  404  1231   68  701  643  3.98   7    9  37   \n",
       "4  689  5605  1515  289  49  151  455  1259   83  803  746  4.64   7   12  35   \n",
       "\n",
       "     E   W  \n",
       "0   88  95  \n",
       "1   86  83  \n",
       "2   79  81  \n",
       "3  101  76  \n",
       "4   86  74  "
      ]
     },
     "execution_count": 4,
     "metadata": {},
     "output_type": "execute_result"
    }
   ],
   "source": [
    "# checking few samples of dataframe:\n",
    "df.head()"
   ]
  },
  {
   "cell_type": "code",
   "execution_count": 5,
   "metadata": {
    "scrolled": true
   },
   "outputs": [
    {
     "data": {
      "text/html": [
       "<div>\n",
       "<style scoped>\n",
       "    .dataframe tbody tr th:only-of-type {\n",
       "        vertical-align: middle;\n",
       "    }\n",
       "\n",
       "    .dataframe tbody tr th {\n",
       "        vertical-align: top;\n",
       "    }\n",
       "\n",
       "    .dataframe thead th {\n",
       "        text-align: right;\n",
       "    }\n",
       "</style>\n",
       "<table border=\"1\" class=\"dataframe\">\n",
       "  <thead>\n",
       "    <tr style=\"text-align: right;\">\n",
       "      <th></th>\n",
       "      <th>R</th>\n",
       "      <th>AB</th>\n",
       "      <th>H</th>\n",
       "      <th>2B</th>\n",
       "      <th>3B</th>\n",
       "      <th>HR</th>\n",
       "      <th>BB</th>\n",
       "      <th>SO</th>\n",
       "      <th>SB</th>\n",
       "      <th>RA</th>\n",
       "      <th>ER</th>\n",
       "      <th>ERA</th>\n",
       "      <th>CG</th>\n",
       "      <th>SHO</th>\n",
       "      <th>SV</th>\n",
       "      <th>E</th>\n",
       "      <th>W</th>\n",
       "    </tr>\n",
       "  </thead>\n",
       "  <tbody>\n",
       "    <tr>\n",
       "      <th>count</th>\n",
       "      <td>30.000000</td>\n",
       "      <td>30.000000</td>\n",
       "      <td>30.000000</td>\n",
       "      <td>30.000000</td>\n",
       "      <td>30.000000</td>\n",
       "      <td>30.000000</td>\n",
       "      <td>30.000000</td>\n",
       "      <td>30.00000</td>\n",
       "      <td>30.000000</td>\n",
       "      <td>30.000000</td>\n",
       "      <td>30.000000</td>\n",
       "      <td>30.000000</td>\n",
       "      <td>30.000000</td>\n",
       "      <td>30.000000</td>\n",
       "      <td>30.000000</td>\n",
       "      <td>30.000000</td>\n",
       "      <td>30.000000</td>\n",
       "    </tr>\n",
       "    <tr>\n",
       "      <th>mean</th>\n",
       "      <td>688.233333</td>\n",
       "      <td>5516.266667</td>\n",
       "      <td>1403.533333</td>\n",
       "      <td>274.733333</td>\n",
       "      <td>31.300000</td>\n",
       "      <td>163.633333</td>\n",
       "      <td>469.100000</td>\n",
       "      <td>1248.20000</td>\n",
       "      <td>83.500000</td>\n",
       "      <td>688.233333</td>\n",
       "      <td>635.833333</td>\n",
       "      <td>3.956333</td>\n",
       "      <td>3.466667</td>\n",
       "      <td>11.300000</td>\n",
       "      <td>43.066667</td>\n",
       "      <td>94.333333</td>\n",
       "      <td>80.966667</td>\n",
       "    </tr>\n",
       "    <tr>\n",
       "      <th>std</th>\n",
       "      <td>58.761754</td>\n",
       "      <td>70.467372</td>\n",
       "      <td>57.140923</td>\n",
       "      <td>18.095405</td>\n",
       "      <td>10.452355</td>\n",
       "      <td>31.823309</td>\n",
       "      <td>57.053725</td>\n",
       "      <td>103.75947</td>\n",
       "      <td>22.815225</td>\n",
       "      <td>72.108005</td>\n",
       "      <td>70.140786</td>\n",
       "      <td>0.454089</td>\n",
       "      <td>2.763473</td>\n",
       "      <td>4.120177</td>\n",
       "      <td>7.869335</td>\n",
       "      <td>13.958889</td>\n",
       "      <td>10.453455</td>\n",
       "    </tr>\n",
       "    <tr>\n",
       "      <th>min</th>\n",
       "      <td>573.000000</td>\n",
       "      <td>5385.000000</td>\n",
       "      <td>1324.000000</td>\n",
       "      <td>236.000000</td>\n",
       "      <td>13.000000</td>\n",
       "      <td>100.000000</td>\n",
       "      <td>375.000000</td>\n",
       "      <td>973.00000</td>\n",
       "      <td>44.000000</td>\n",
       "      <td>525.000000</td>\n",
       "      <td>478.000000</td>\n",
       "      <td>2.940000</td>\n",
       "      <td>0.000000</td>\n",
       "      <td>4.000000</td>\n",
       "      <td>28.000000</td>\n",
       "      <td>75.000000</td>\n",
       "      <td>63.000000</td>\n",
       "    </tr>\n",
       "    <tr>\n",
       "      <th>25%</th>\n",
       "      <td>651.250000</td>\n",
       "      <td>5464.000000</td>\n",
       "      <td>1363.000000</td>\n",
       "      <td>262.250000</td>\n",
       "      <td>23.000000</td>\n",
       "      <td>140.250000</td>\n",
       "      <td>428.250000</td>\n",
       "      <td>1157.50000</td>\n",
       "      <td>69.000000</td>\n",
       "      <td>636.250000</td>\n",
       "      <td>587.250000</td>\n",
       "      <td>3.682500</td>\n",
       "      <td>1.000000</td>\n",
       "      <td>9.000000</td>\n",
       "      <td>37.250000</td>\n",
       "      <td>86.000000</td>\n",
       "      <td>74.000000</td>\n",
       "    </tr>\n",
       "    <tr>\n",
       "      <th>50%</th>\n",
       "      <td>689.000000</td>\n",
       "      <td>5510.000000</td>\n",
       "      <td>1382.500000</td>\n",
       "      <td>275.500000</td>\n",
       "      <td>31.000000</td>\n",
       "      <td>158.500000</td>\n",
       "      <td>473.000000</td>\n",
       "      <td>1261.50000</td>\n",
       "      <td>83.500000</td>\n",
       "      <td>695.500000</td>\n",
       "      <td>644.500000</td>\n",
       "      <td>4.025000</td>\n",
       "      <td>3.000000</td>\n",
       "      <td>12.000000</td>\n",
       "      <td>42.000000</td>\n",
       "      <td>91.000000</td>\n",
       "      <td>81.000000</td>\n",
       "    </tr>\n",
       "    <tr>\n",
       "      <th>75%</th>\n",
       "      <td>718.250000</td>\n",
       "      <td>5570.000000</td>\n",
       "      <td>1451.500000</td>\n",
       "      <td>288.750000</td>\n",
       "      <td>39.000000</td>\n",
       "      <td>177.000000</td>\n",
       "      <td>501.250000</td>\n",
       "      <td>1311.50000</td>\n",
       "      <td>96.500000</td>\n",
       "      <td>732.500000</td>\n",
       "      <td>679.250000</td>\n",
       "      <td>4.220000</td>\n",
       "      <td>5.750000</td>\n",
       "      <td>13.000000</td>\n",
       "      <td>46.750000</td>\n",
       "      <td>96.750000</td>\n",
       "      <td>87.750000</td>\n",
       "    </tr>\n",
       "    <tr>\n",
       "      <th>max</th>\n",
       "      <td>891.000000</td>\n",
       "      <td>5649.000000</td>\n",
       "      <td>1515.000000</td>\n",
       "      <td>308.000000</td>\n",
       "      <td>49.000000</td>\n",
       "      <td>232.000000</td>\n",
       "      <td>570.000000</td>\n",
       "      <td>1518.00000</td>\n",
       "      <td>134.000000</td>\n",
       "      <td>844.000000</td>\n",
       "      <td>799.000000</td>\n",
       "      <td>5.040000</td>\n",
       "      <td>11.000000</td>\n",
       "      <td>21.000000</td>\n",
       "      <td>62.000000</td>\n",
       "      <td>126.000000</td>\n",
       "      <td>100.000000</td>\n",
       "    </tr>\n",
       "  </tbody>\n",
       "</table>\n",
       "</div>"
      ],
      "text/plain": [
       "                R           AB            H          2B         3B  \\\n",
       "count   30.000000    30.000000    30.000000   30.000000  30.000000   \n",
       "mean   688.233333  5516.266667  1403.533333  274.733333  31.300000   \n",
       "std     58.761754    70.467372    57.140923   18.095405  10.452355   \n",
       "min    573.000000  5385.000000  1324.000000  236.000000  13.000000   \n",
       "25%    651.250000  5464.000000  1363.000000  262.250000  23.000000   \n",
       "50%    689.000000  5510.000000  1382.500000  275.500000  31.000000   \n",
       "75%    718.250000  5570.000000  1451.500000  288.750000  39.000000   \n",
       "max    891.000000  5649.000000  1515.000000  308.000000  49.000000   \n",
       "\n",
       "               HR          BB          SO          SB          RA          ER  \\\n",
       "count   30.000000   30.000000    30.00000   30.000000   30.000000   30.000000   \n",
       "mean   163.633333  469.100000  1248.20000   83.500000  688.233333  635.833333   \n",
       "std     31.823309   57.053725   103.75947   22.815225   72.108005   70.140786   \n",
       "min    100.000000  375.000000   973.00000   44.000000  525.000000  478.000000   \n",
       "25%    140.250000  428.250000  1157.50000   69.000000  636.250000  587.250000   \n",
       "50%    158.500000  473.000000  1261.50000   83.500000  695.500000  644.500000   \n",
       "75%    177.000000  501.250000  1311.50000   96.500000  732.500000  679.250000   \n",
       "max    232.000000  570.000000  1518.00000  134.000000  844.000000  799.000000   \n",
       "\n",
       "             ERA         CG        SHO         SV           E           W  \n",
       "count  30.000000  30.000000  30.000000  30.000000   30.000000   30.000000  \n",
       "mean    3.956333   3.466667  11.300000  43.066667   94.333333   80.966667  \n",
       "std     0.454089   2.763473   4.120177   7.869335   13.958889   10.453455  \n",
       "min     2.940000   0.000000   4.000000  28.000000   75.000000   63.000000  \n",
       "25%     3.682500   1.000000   9.000000  37.250000   86.000000   74.000000  \n",
       "50%     4.025000   3.000000  12.000000  42.000000   91.000000   81.000000  \n",
       "75%     4.220000   5.750000  13.000000  46.750000   96.750000   87.750000  \n",
       "max     5.040000  11.000000  21.000000  62.000000  126.000000  100.000000  "
      ]
     },
     "execution_count": 5,
     "metadata": {},
     "output_type": "execute_result"
    }
   ],
   "source": [
    "# checking details of the dataframe:\n",
    "df.describe()"
   ]
  },
  {
   "cell_type": "markdown",
   "metadata": {},
   "source": [
    "Observation:\n"
   ]
  },
  {
   "cell_type": "markdown",
   "metadata": {},
   "source": [
    "From the above details, we can say that there are few columns where Mean is higher than Median, so we can say that there are presence of Outliers in the dataset.\n"
   ]
  },
  {
   "cell_type": "markdown",
   "metadata": {},
   "source": [
    "NOTE: As our Target column i.e. W is having continous data in nature, we know its a Regression problem."
   ]
  },
  {
   "cell_type": "code",
   "execution_count": 6,
   "metadata": {
    "scrolled": true
   },
   "outputs": [
    {
     "data": {
      "text/plain": [
       "R      0\n",
       "AB     0\n",
       "H      0\n",
       "2B     0\n",
       "3B     0\n",
       "HR     0\n",
       "BB     0\n",
       "SO     0\n",
       "SB     0\n",
       "RA     0\n",
       "ER     0\n",
       "ERA    0\n",
       "CG     0\n",
       "SHO    0\n",
       "SV     0\n",
       "E      0\n",
       "W      0\n",
       "dtype: int64"
      ]
     },
     "execution_count": 6,
     "metadata": {},
     "output_type": "execute_result"
    }
   ],
   "source": [
    "# checking null values:\n",
    "df.isnull().sum()"
   ]
  },
  {
   "cell_type": "markdown",
   "metadata": {},
   "source": [
    "Observation:    There are no null values present in any dataset"
   ]
  },
  {
   "cell_type": "code",
   "execution_count": 7,
   "metadata": {
    "scrolled": true
   },
   "outputs": [
    {
     "data": {
      "text/plain": [
       "<matplotlib.axes._subplots.AxesSubplot at 0x2bcdee4a448>"
      ]
     },
     "execution_count": 7,
     "metadata": {},
     "output_type": "execute_result"
    },
    {
     "data": {
      "image/png": "[encoded data removed]",
      "text/plain": [
       "<Figure size 432x288 with 2 Axes>"
      ]
     },
     "metadata": {
      "needs_background": "light"
     },
     "output_type": "display_data"
    }
   ],
   "source": [
    "# checking null values using heatmap\n",
    "sns.heatmap(df.isnull())"
   ]
  },
  {
   "cell_type": "markdown",
   "metadata": {},
   "source": [
    "Observation:\n",
    "    \n",
    "    There are no NULL values present in this dataset."
   ]
  },
  {
   "cell_type": "markdown",
   "metadata": {},
   "source": [
    "# UNIVARIATE ANALYSIS:"
   ]
  },
  {
   "cell_type": "code",
   "execution_count": 8,
   "metadata": {},
   "outputs": [
    {
     "data": {
      "image/png": "[encoded data removed]",
      "text/plain": [
       "<Figure size 1296x1296 with 17 Axes>"
      ]
     },
     "metadata": {
      "needs_background": "light"
     },
     "output_type": "display_data"
    }
   ],
   "source": [
    "# checking data distribution in every column with the help of distplot\n",
    "\n",
    "collist = df.columns.values\n",
    "ncol = 17\n",
    "nrows = 10\n",
    "\n",
    "\n",
    "plt.figure(figsize=(18, 18))\n",
    "\n",
    "for i in range(0, len(collist)):\n",
    "    plt.subplot(nrows, ncol, i+1)\n",
    "    sns.distplot(df[collist[i]])"
   ]
  },
  {
   "cell_type": "markdown",
   "metadata": {},
   "source": [
    "Observations:\n",
    "We can say that from the above dist plot, that there are skewness present in columns like, R i.e. Runs, H i.e. Hits, HR i.e. Homeruns, CG i.e. Complete Games, SHO i.e. Shutouts, SV i.e. Saves and E i.e. Errors."
   ]
  },
  {
   "cell_type": "code",
   "execution_count": 9,
   "metadata": {
    "scrolled": true
   },
   "outputs": [
    {
     "data": {
      "image/png": "[encoded data removed]",
      "text/plain": [
       "<Figure size 1224x6120 with 17 Axes>"
      ]
     },
     "metadata": {
      "needs_background": "light"
     },
     "output_type": "display_data"
    }
   ],
   "source": [
    "# checking outliers presence in individual columns using boxplots.\n",
    "\n",
    "column_list = df.columns.values\n",
    "ncol=17\n",
    "nrows=10\n",
    "\n",
    "plt.figure(figsize=(ncol,5*ncol))\n",
    "for i in range(0, len(column_list)):\n",
    "    plt.subplot(nrows, ncol, i+1)\n",
    "    sns.boxplot(df[column_list[i]],color='green',orient='v')\n",
    "    plt.tight_layout()"
   ]
  },
  {
   "cell_type": "markdown",
   "metadata": {},
   "source": [
    "Observations:"
   ]
  },
  {
   "cell_type": "markdown",
   "metadata": {},
   "source": [
    "We can say that there are outliers present in the columns like 'R' i.e. Runs, 'ERA' i.e. Earned Run Average, 'SHO' i.e. Shutouts, 'SV' i.e. Saves and  'E' i.e. Errors."
   ]
  },
  {
   "cell_type": "markdown",
   "metadata": {},
   "source": [
    "# CHECKING CORRELATION MATRIX:"
   ]
  },
  {
   "cell_type": "code",
   "execution_count": 10,
   "metadata": {
    "scrolled": true
   },
   "outputs": [
    {
     "data": {
      "text/html": [
       "<div>\n",
       "<style scoped>\n",
       "    .dataframe tbody tr th:only-of-type {\n",
       "        vertical-align: middle;\n",
       "    }\n",
       "\n",
       "    .dataframe tbody tr th {\n",
       "        vertical-align: top;\n",
       "    }\n",
       "\n",
       "    .dataframe thead th {\n",
       "        text-align: right;\n",
       "    }\n",
       "</style>\n",
       "<table border=\"1\" class=\"dataframe\">\n",
       "  <thead>\n",
       "    <tr style=\"text-align: right;\">\n",
       "      <th></th>\n",
       "      <th>R</th>\n",
       "      <th>AB</th>\n",
       "      <th>H</th>\n",
       "      <th>2B</th>\n",
       "      <th>3B</th>\n",
       "      <th>HR</th>\n",
       "      <th>BB</th>\n",
       "      <th>SO</th>\n",
       "      <th>SB</th>\n",
       "      <th>RA</th>\n",
       "      <th>ER</th>\n",
       "      <th>ERA</th>\n",
       "      <th>CG</th>\n",
       "      <th>SHO</th>\n",
       "      <th>SV</th>\n",
       "      <th>E</th>\n",
       "      <th>W</th>\n",
       "    </tr>\n",
       "  </thead>\n",
       "  <tbody>\n",
       "    <tr>\n",
       "      <th>R</th>\n",
       "      <td>1.000000</td>\n",
       "      <td>0.319464</td>\n",
       "      <td>0.482856</td>\n",
       "      <td>0.560084</td>\n",
       "      <td>-0.070072</td>\n",
       "      <td>0.671283</td>\n",
       "      <td>0.402452</td>\n",
       "      <td>-0.054726</td>\n",
       "      <td>0.081367</td>\n",
       "      <td>-0.041623</td>\n",
       "      <td>-0.041245</td>\n",
       "      <td>-0.049281</td>\n",
       "      <td>0.232042</td>\n",
       "      <td>-0.103274</td>\n",
       "      <td>-0.096380</td>\n",
       "      <td>-0.023262</td>\n",
       "      <td>0.430751</td>\n",
       "    </tr>\n",
       "    <tr>\n",
       "      <th>AB</th>\n",
       "      <td>0.319464</td>\n",
       "      <td>1.000000</td>\n",
       "      <td>0.739122</td>\n",
       "      <td>0.453370</td>\n",
       "      <td>0.435422</td>\n",
       "      <td>-0.066983</td>\n",
       "      <td>-0.136414</td>\n",
       "      <td>-0.106022</td>\n",
       "      <td>0.372618</td>\n",
       "      <td>0.316010</td>\n",
       "      <td>0.309686</td>\n",
       "      <td>0.255551</td>\n",
       "      <td>-0.080876</td>\n",
       "      <td>-0.197321</td>\n",
       "      <td>-0.106367</td>\n",
       "      <td>0.316743</td>\n",
       "      <td>-0.087947</td>\n",
       "    </tr>\n",
       "    <tr>\n",
       "      <th>H</th>\n",
       "      <td>0.482856</td>\n",
       "      <td>0.739122</td>\n",
       "      <td>1.000000</td>\n",
       "      <td>0.566847</td>\n",
       "      <td>0.478694</td>\n",
       "      <td>-0.090855</td>\n",
       "      <td>-0.118281</td>\n",
       "      <td>-0.398830</td>\n",
       "      <td>0.413444</td>\n",
       "      <td>0.224324</td>\n",
       "      <td>0.252489</td>\n",
       "      <td>0.231172</td>\n",
       "      <td>0.147955</td>\n",
       "      <td>-0.145559</td>\n",
       "      <td>-0.130371</td>\n",
       "      <td>-0.033173</td>\n",
       "      <td>0.037612</td>\n",
       "    </tr>\n",
       "    <tr>\n",
       "      <th>2B</th>\n",
       "      <td>0.560084</td>\n",
       "      <td>0.453370</td>\n",
       "      <td>0.566847</td>\n",
       "      <td>1.000000</td>\n",
       "      <td>0.220490</td>\n",
       "      <td>0.056292</td>\n",
       "      <td>0.302700</td>\n",
       "      <td>-0.150752</td>\n",
       "      <td>0.195027</td>\n",
       "      <td>-0.218160</td>\n",
       "      <td>-0.235531</td>\n",
       "      <td>-0.254854</td>\n",
       "      <td>0.306675</td>\n",
       "      <td>0.057998</td>\n",
       "      <td>0.171576</td>\n",
       "      <td>0.105754</td>\n",
       "      <td>0.427797</td>\n",
       "    </tr>\n",
       "    <tr>\n",
       "      <th>3B</th>\n",
       "      <td>-0.070072</td>\n",
       "      <td>0.435422</td>\n",
       "      <td>0.478694</td>\n",
       "      <td>0.220490</td>\n",
       "      <td>1.000000</td>\n",
       "      <td>-0.430915</td>\n",
       "      <td>-0.454949</td>\n",
       "      <td>-0.141196</td>\n",
       "      <td>0.457437</td>\n",
       "      <td>0.314125</td>\n",
       "      <td>0.340225</td>\n",
       "      <td>0.330951</td>\n",
       "      <td>-0.065898</td>\n",
       "      <td>-0.041396</td>\n",
       "      <td>-0.142370</td>\n",
       "      <td>0.126678</td>\n",
       "      <td>-0.251118</td>\n",
       "    </tr>\n",
       "    <tr>\n",
       "      <th>HR</th>\n",
       "      <td>0.671283</td>\n",
       "      <td>-0.066983</td>\n",
       "      <td>-0.090855</td>\n",
       "      <td>0.056292</td>\n",
       "      <td>-0.430915</td>\n",
       "      <td>1.000000</td>\n",
       "      <td>0.425691</td>\n",
       "      <td>0.359923</td>\n",
       "      <td>-0.136567</td>\n",
       "      <td>-0.103903</td>\n",
       "      <td>-0.085922</td>\n",
       "      <td>-0.090917</td>\n",
       "      <td>0.156502</td>\n",
       "      <td>-0.019119</td>\n",
       "      <td>-0.028540</td>\n",
       "      <td>-0.207597</td>\n",
       "      <td>0.307407</td>\n",
       "    </tr>\n",
       "    <tr>\n",
       "      <th>BB</th>\n",
       "      <td>0.402452</td>\n",
       "      <td>-0.136414</td>\n",
       "      <td>-0.118281</td>\n",
       "      <td>0.302700</td>\n",
       "      <td>-0.454949</td>\n",
       "      <td>0.425691</td>\n",
       "      <td>1.000000</td>\n",
       "      <td>0.233652</td>\n",
       "      <td>-0.098347</td>\n",
       "      <td>-0.416445</td>\n",
       "      <td>-0.452663</td>\n",
       "      <td>-0.459832</td>\n",
       "      <td>0.462478</td>\n",
       "      <td>0.426004</td>\n",
       "      <td>0.099445</td>\n",
       "      <td>-0.075685</td>\n",
       "      <td>0.484342</td>\n",
       "    </tr>\n",
       "    <tr>\n",
       "      <th>SO</th>\n",
       "      <td>-0.054726</td>\n",
       "      <td>-0.106022</td>\n",
       "      <td>-0.398830</td>\n",
       "      <td>-0.150752</td>\n",
       "      <td>-0.141196</td>\n",
       "      <td>0.359923</td>\n",
       "      <td>0.233652</td>\n",
       "      <td>1.000000</td>\n",
       "      <td>0.030968</td>\n",
       "      <td>-0.129745</td>\n",
       "      <td>-0.161612</td>\n",
       "      <td>-0.180368</td>\n",
       "      <td>-0.093418</td>\n",
       "      <td>0.237721</td>\n",
       "      <td>0.126297</td>\n",
       "      <td>0.155133</td>\n",
       "      <td>0.111850</td>\n",
       "    </tr>\n",
       "    <tr>\n",
       "      <th>SB</th>\n",
       "      <td>0.081367</td>\n",
       "      <td>0.372618</td>\n",
       "      <td>0.413444</td>\n",
       "      <td>0.195027</td>\n",
       "      <td>0.457437</td>\n",
       "      <td>-0.136567</td>\n",
       "      <td>-0.098347</td>\n",
       "      <td>0.030968</td>\n",
       "      <td>1.000000</td>\n",
       "      <td>0.132290</td>\n",
       "      <td>0.143068</td>\n",
       "      <td>0.126063</td>\n",
       "      <td>-0.020783</td>\n",
       "      <td>-0.106563</td>\n",
       "      <td>-0.183418</td>\n",
       "      <td>0.079149</td>\n",
       "      <td>-0.157234</td>\n",
       "    </tr>\n",
       "    <tr>\n",
       "      <th>RA</th>\n",
       "      <td>-0.041623</td>\n",
       "      <td>0.316010</td>\n",
       "      <td>0.224324</td>\n",
       "      <td>-0.218160</td>\n",
       "      <td>0.314125</td>\n",
       "      <td>-0.103903</td>\n",
       "      <td>-0.416445</td>\n",
       "      <td>-0.129745</td>\n",
       "      <td>0.132290</td>\n",
       "      <td>1.000000</td>\n",
       "      <td>0.991018</td>\n",
       "      <td>0.986674</td>\n",
       "      <td>-0.016659</td>\n",
       "      <td>-0.636862</td>\n",
       "      <td>-0.616224</td>\n",
       "      <td>0.198996</td>\n",
       "      <td>-0.812952</td>\n",
       "    </tr>\n",
       "    <tr>\n",
       "      <th>ER</th>\n",
       "      <td>-0.041245</td>\n",
       "      <td>0.309686</td>\n",
       "      <td>0.252489</td>\n",
       "      <td>-0.235531</td>\n",
       "      <td>0.340225</td>\n",
       "      <td>-0.085922</td>\n",
       "      <td>-0.452663</td>\n",
       "      <td>-0.161612</td>\n",
       "      <td>0.143068</td>\n",
       "      <td>0.991018</td>\n",
       "      <td>1.000000</td>\n",
       "      <td>0.997248</td>\n",
       "      <td>-0.020221</td>\n",
       "      <td>-0.630192</td>\n",
       "      <td>-0.589663</td>\n",
       "      <td>0.136921</td>\n",
       "      <td>-0.809435</td>\n",
       "    </tr>\n",
       "    <tr>\n",
       "      <th>ERA</th>\n",
       "      <td>-0.049281</td>\n",
       "      <td>0.255551</td>\n",
       "      <td>0.231172</td>\n",
       "      <td>-0.254854</td>\n",
       "      <td>0.330951</td>\n",
       "      <td>-0.090917</td>\n",
       "      <td>-0.459832</td>\n",
       "      <td>-0.180368</td>\n",
       "      <td>0.126063</td>\n",
       "      <td>0.986674</td>\n",
       "      <td>0.997248</td>\n",
       "      <td>1.000000</td>\n",
       "      <td>-0.009856</td>\n",
       "      <td>-0.630833</td>\n",
       "      <td>-0.607005</td>\n",
       "      <td>0.113137</td>\n",
       "      <td>-0.819600</td>\n",
       "    </tr>\n",
       "    <tr>\n",
       "      <th>CG</th>\n",
       "      <td>0.232042</td>\n",
       "      <td>-0.080876</td>\n",
       "      <td>0.147955</td>\n",
       "      <td>0.306675</td>\n",
       "      <td>-0.065898</td>\n",
       "      <td>0.156502</td>\n",
       "      <td>0.462478</td>\n",
       "      <td>-0.093418</td>\n",
       "      <td>-0.020783</td>\n",
       "      <td>-0.016659</td>\n",
       "      <td>-0.020221</td>\n",
       "      <td>-0.009856</td>\n",
       "      <td>1.000000</td>\n",
       "      <td>0.241676</td>\n",
       "      <td>-0.367766</td>\n",
       "      <td>-0.140047</td>\n",
       "      <td>0.080533</td>\n",
       "    </tr>\n",
       "    <tr>\n",
       "      <th>SHO</th>\n",
       "      <td>-0.103274</td>\n",
       "      <td>-0.197321</td>\n",
       "      <td>-0.145559</td>\n",
       "      <td>0.057998</td>\n",
       "      <td>-0.041396</td>\n",
       "      <td>-0.019119</td>\n",
       "      <td>0.426004</td>\n",
       "      <td>0.237721</td>\n",
       "      <td>-0.106563</td>\n",
       "      <td>-0.636862</td>\n",
       "      <td>-0.630192</td>\n",
       "      <td>-0.630833</td>\n",
       "      <td>0.241676</td>\n",
       "      <td>1.000000</td>\n",
       "      <td>0.221639</td>\n",
       "      <td>-0.115716</td>\n",
       "      <td>0.471805</td>\n",
       "    </tr>\n",
       "    <tr>\n",
       "      <th>SV</th>\n",
       "      <td>-0.096380</td>\n",
       "      <td>-0.106367</td>\n",
       "      <td>-0.130371</td>\n",
       "      <td>0.171576</td>\n",
       "      <td>-0.142370</td>\n",
       "      <td>-0.028540</td>\n",
       "      <td>0.099445</td>\n",
       "      <td>0.126297</td>\n",
       "      <td>-0.183418</td>\n",
       "      <td>-0.616224</td>\n",
       "      <td>-0.589663</td>\n",
       "      <td>-0.607005</td>\n",
       "      <td>-0.367766</td>\n",
       "      <td>0.221639</td>\n",
       "      <td>1.000000</td>\n",
       "      <td>-0.025636</td>\n",
       "      <td>0.666530</td>\n",
       "    </tr>\n",
       "    <tr>\n",
       "      <th>E</th>\n",
       "      <td>-0.023262</td>\n",
       "      <td>0.316743</td>\n",
       "      <td>-0.033173</td>\n",
       "      <td>0.105754</td>\n",
       "      <td>0.126678</td>\n",
       "      <td>-0.207597</td>\n",
       "      <td>-0.075685</td>\n",
       "      <td>0.155133</td>\n",
       "      <td>0.079149</td>\n",
       "      <td>0.198996</td>\n",
       "      <td>0.136921</td>\n",
       "      <td>0.113137</td>\n",
       "      <td>-0.140047</td>\n",
       "      <td>-0.115716</td>\n",
       "      <td>-0.025636</td>\n",
       "      <td>1.000000</td>\n",
       "      <td>-0.089485</td>\n",
       "    </tr>\n",
       "    <tr>\n",
       "      <th>W</th>\n",
       "      <td>0.430751</td>\n",
       "      <td>-0.087947</td>\n",
       "      <td>0.037612</td>\n",
       "      <td>0.427797</td>\n",
       "      <td>-0.251118</td>\n",
       "      <td>0.307407</td>\n",
       "      <td>0.484342</td>\n",
       "      <td>0.111850</td>\n",
       "      <td>-0.157234</td>\n",
       "      <td>-0.812952</td>\n",
       "      <td>-0.809435</td>\n",
       "      <td>-0.819600</td>\n",
       "      <td>0.080533</td>\n",
       "      <td>0.471805</td>\n",
       "      <td>0.666530</td>\n",
       "      <td>-0.089485</td>\n",
       "      <td>1.000000</td>\n",
       "    </tr>\n",
       "  </tbody>\n",
       "</table>\n",
       "</div>"
      ],
      "text/plain": [
       "            R        AB         H        2B        3B        HR        BB  \\\n",
       "R    1.000000  0.319464  0.482856  0.560084 -0.070072  0.671283  0.402452   \n",
       "AB   0.319464  1.000000  0.739122  0.453370  0.435422 -0.066983 -0.136414   \n",
       "H    0.482856  0.739122  1.000000  0.566847  0.478694 -0.090855 -0.118281   \n",
       "2B   0.560084  0.453370  0.566847  1.000000  0.220490  0.056292  0.302700   \n",
       "3B  -0.070072  0.435422  0.478694  0.220490  1.000000 -0.430915 -0.454949   \n",
       "HR   0.671283 -0.066983 -0.090855  0.056292 -0.430915  1.000000  0.425691   \n",
       "BB   0.402452 -0.136414 -0.118281  0.302700 -0.454949  0.425691  1.000000   \n",
       "SO  -0.054726 -0.106022 -0.398830 -0.150752 -0.141196  0.359923  0.233652   \n",
       "SB   0.081367  0.372618  0.413444  0.195027  0.457437 -0.136567 -0.098347   \n",
       "RA  -0.041623  0.316010  0.224324 -0.218160  0.314125 -0.103903 -0.416445   \n",
       "ER  -0.041245  0.309686  0.252489 -0.235531  0.340225 -0.085922 -0.452663   \n",
       "ERA -0.049281  0.255551  0.231172 -0.254854  0.330951 -0.090917 -0.459832   \n",
       "CG   0.232042 -0.080876  0.147955  0.306675 -0.065898  0.156502  0.462478   \n",
       "SHO -0.103274 -0.197321 -0.145559  0.057998 -0.041396 -0.019119  0.426004   \n",
       "SV  -0.096380 -0.106367 -0.130371  0.171576 -0.142370 -0.028540  0.099445   \n",
       "E   -0.023262  0.316743 -0.033173  0.105754  0.126678 -0.207597 -0.075685   \n",
       "W    0.430751 -0.087947  0.037612  0.427797 -0.251118  0.307407  0.484342   \n",
       "\n",
       "           SO        SB        RA        ER       ERA        CG       SHO  \\\n",
       "R   -0.054726  0.081367 -0.041623 -0.041245 -0.049281  0.232042 -0.103274   \n",
       "AB  -0.106022  0.372618  0.316010  0.309686  0.255551 -0.080876 -0.197321   \n",
       "H   -0.398830  0.413444  0.224324  0.252489  0.231172  0.147955 -0.145559   \n",
       "2B  -0.150752  0.195027 -0.218160 -0.235531 -0.254854  0.306675  0.057998   \n",
       "3B  -0.141196  0.457437  0.314125  0.340225  0.330951 -0.065898 -0.041396   \n",
       "HR   0.359923 -0.136567 -0.103903 -0.085922 -0.090917  0.156502 -0.019119   \n",
       "BB   0.233652 -0.098347 -0.416445 -0.452663 -0.459832  0.462478  0.426004   \n",
       "SO   1.000000  0.030968 -0.129745 -0.161612 -0.180368 -0.093418  0.237721   \n",
       "SB   0.030968  1.000000  0.132290  0.143068  0.126063 -0.020783 -0.106563   \n",
       "RA  -0.129745  0.132290  1.000000  0.991018  0.986674 -0.016659 -0.636862   \n",
       "ER  -0.161612  0.143068  0.991018  1.000000  0.997248 -0.020221 -0.630192   \n",
       "ERA -0.180368  0.126063  0.986674  0.997248  1.000000 -0.009856 -0.630833   \n",
       "CG  -0.093418 -0.020783 -0.016659 -0.020221 -0.009856  1.000000  0.241676   \n",
       "SHO  0.237721 -0.106563 -0.636862 -0.630192 -0.630833  0.241676  1.000000   \n",
       "SV   0.126297 -0.183418 -0.616224 -0.589663 -0.607005 -0.367766  0.221639   \n",
       "E    0.155133  0.079149  0.198996  0.136921  0.113137 -0.140047 -0.115716   \n",
       "W    0.111850 -0.157234 -0.812952 -0.809435 -0.819600  0.080533  0.471805   \n",
       "\n",
       "           SV         E         W  \n",
       "R   -0.096380 -0.023262  0.430751  \n",
       "AB  -0.106367  0.316743 -0.087947  \n",
       "H   -0.130371 -0.033173  0.037612  \n",
       "2B   0.171576  0.105754  0.427797  \n",
       "3B  -0.142370  0.126678 -0.251118  \n",
       "HR  -0.028540 -0.207597  0.307407  \n",
       "BB   0.099445 -0.075685  0.484342  \n",
       "SO   0.126297  0.155133  0.111850  \n",
       "SB  -0.183418  0.079149 -0.157234  \n",
       "RA  -0.616224  0.198996 -0.812952  \n",
       "ER  -0.589663  0.136921 -0.809435  \n",
       "ERA -0.607005  0.113137 -0.819600  \n",
       "CG  -0.367766 -0.140047  0.080533  \n",
       "SHO  0.221639 -0.115716  0.471805  \n",
       "SV   1.000000 -0.025636  0.666530  \n",
       "E   -0.025636  1.000000 -0.089485  \n",
       "W    0.666530 -0.089485  1.000000  "
      ]
     },
     "execution_count": 10,
     "metadata": {},
     "output_type": "execute_result"
    }
   ],
   "source": [
    "# checking correlation of the dataset.\n",
    "dfcor = df.corr()\n",
    "dfcor"
   ]
  },
  {
   "cell_type": "markdown",
   "metadata": {},
   "source": [
    "UNDERSTANDING CORRELATION MATRIX WITH THE HELP OF HEATMAP:"
   ]
  },
  {
   "cell_type": "code",
   "execution_count": 11,
   "metadata": {
    "scrolled": false
   },
   "outputs": [
    {
     "data": {
      "text/plain": [
       "<matplotlib.axes._subplots.AxesSubplot at 0x2bcdfa70b08>"
      ]
     },
     "execution_count": 11,
     "metadata": {},
     "output_type": "execute_result"
    },
    {
     "data": {
      "image/png": "[encoded data removed]",
      "text/plain": [
       "<Figure size 720x360 with 2 Axes>"
      ]
     },
     "metadata": {
      "needs_background": "light"
     },
     "output_type": "display_data"
    }
   ],
   "source": [
    "plt.figure(figsize=(10,5))\n",
    "plt.title('Correlation heat map of baseball data', fontsize = 21)\n",
    "\n",
    "sns.heatmap(dfcor,cmap='Blues', annot=True)"
   ]
  },
  {
   "cell_type": "markdown",
   "metadata": {},
   "source": [
    "Observation:"
   ]
  },
  {
   "cell_type": "markdown",
   "metadata": {},
   "source": [
    "From the above correlation heatmap plot, we can say that 'ERA' i.e. Earned run average column is most negatively correlated with 'W' i.e. Win column.\n",
    "\n",
    "From the above correlation heatmap plot, we can say that 'SV' i.e. Saves column is most positively correlated with 'W' i.e. Win column.\n",
    "Rest are the columns are moderately correlated with 'W' i.e. Win column."
   ]
  },
  {
   "cell_type": "code",
   "execution_count": 12,
   "metadata": {
    "scrolled": true
   },
   "outputs": [
    {
     "data": {
      "text/plain": [
       "R      1.200786\n",
       "AB     0.183437\n",
       "H      0.670254\n",
       "2B    -0.230650\n",
       "3B     0.129502\n",
       "HR     0.516441\n",
       "BB     0.158498\n",
       "SO    -0.156065\n",
       "SB     0.479893\n",
       "RA     0.045734\n",
       "ER     0.058710\n",
       "ERA    0.053331\n",
       "CG     0.736845\n",
       "SHO    0.565790\n",
       "SV     0.657524\n",
       "E      0.890132\n",
       "W      0.047089\n",
       "dtype: float64"
      ]
     },
     "execution_count": 12,
     "metadata": {},
     "output_type": "execute_result"
    }
   ],
   "source": [
    "# checking amount of skewness in every column.\n",
    "df.skew()"
   ]
  },
  {
   "cell_type": "markdown",
   "metadata": {},
   "source": [
    "Observation:\n",
    "    \n",
    "1) skewness can be easily seen in the columns like R, H, HR, CG, SHO, SV and E.\n",
    "\n",
    "2) Skewness is maximum in R i.e. Runs columns.\n",
    "\n",
    "3) Skewness is minimun in RA i.e. Runs Allowed."
   ]
  },
  {
   "cell_type": "markdown",
   "metadata": {},
   "source": [
    "# REMOVING OUTLIERS:"
   ]
  },
  {
   "cell_type": "code",
   "execution_count": 13,
   "metadata": {},
   "outputs": [
    {
     "data": {
      "text/plain": [
       "array([[6.19077968e-01, 8.47731264e-01, 1.66368512e+00, 1.42017307e+00,\n",
       "        1.04119304e+00, 7.87298598e-01, 1.53490242e+00, 2.69762957e+00,\n",
       "        9.13883291e-01, 6.66233927e-01, 5.05110079e-01, 5.06955186e-01,\n",
       "        5.39806195e-01, 8.14628593e-01, 1.67160651e+00, 4.61469635e-01,\n",
       "        1.36540860e+00],\n",
       "       [1.34431656e-01, 7.11093535e-01, 9.70680764e-01, 1.27403389e-01,\n",
       "        1.23580856e+00, 2.43966683e-01, 5.36591904e-01, 1.54878442e-01,\n",
       "        6.01825582e-01, 1.65970766e-01, 2.48929848e-01, 2.54597523e-01,\n",
       "        5.39806195e-01, 1.72800005e-01, 2.49879323e-01, 6.07196888e-01,\n",
       "        1.97838300e-01],\n",
       "       [3.32905860e-01, 1.11523330e+00, 1.51891367e-01, 1.58879521e+00,\n",
       "        2.23807850e-01, 7.23377196e-01, 1.13914361e+00, 8.93981893e-01,\n",
       "        1.11449182e-01, 6.80339091e-01, 7.51623132e-01, 6.41346840e-01,\n",
       "        2.77264091e+00, 3.20914294e-01, 6.54856158e-01, 1.11724227e+00,\n",
       "        3.24325082e-03],\n",
       "       [1.14641931e+00, 2.41521620e-01, 4.01088140e-01, 8.28122030e-01,\n",
       "        4.18423371e-01, 8.83180700e-01, 1.16053598e+00, 1.68601848e-01,\n",
       "        6.90984928e-01, 1.80075931e-01, 1.03922169e-01, 5.30100415e-02,\n",
       "        1.30044220e+00, 5.67771443e-01, 7.84104084e-01, 4.85757510e-01,\n",
       "        4.83244373e-01],\n",
       "       [1.32700776e-02, 1.28073815e+00, 1.98408098e+00, 8.01891920e-01,\n",
       "        1.72234737e+00, 4.03770187e-01, 2.51360327e-01, 1.05866277e-01,\n",
       "        2.22898364e-02, 1.61880269e+00, 1.59750126e+00, 1.53131824e+00,\n",
       "        1.30044220e+00, 1.72800005e-01, 1.04259994e+00, 6.07196888e-01,\n",
       "        6.77839422e-01],\n",
       "       [3.50964704e+00, 1.04883891e-01, 1.36108904e+00, 1.86983209e+00,\n",
       "        1.39150098e+00, 2.18504658e+00, 1.79874163e+00, 9.52796491e-01,\n",
       "        2.00608527e-01, 2.57184162e-01, 3.89103937e-01, 3.50164922e-01,\n",
       "        1.30044220e+00, 3.20914294e-01, 1.17184786e+00, 4.61469635e-01,\n",
       "        1.17081355e+00],\n",
       "       [1.31142984e+00, 7.32262760e-01, 1.16291827e-01, 1.53633499e-01,\n",
       "        1.19688546e+00, 1.54583256e+00, 1.51351006e+00, 2.07811580e-01,\n",
       "        9.13883291e-01, 1.37760438e-01, 2.34429080e-01, 1.65003087e-01,\n",
       "        1.71756517e-01, 1.80205719e+00, 6.37623101e-01, 9.71515020e-02,\n",
       "        5.87028399e-01],\n",
       "       [4.28681202e-01, 4.51289401e-01, 5.96885604e-01, 1.61502532e+00,\n",
       "        1.09957770e+00, 1.70563607e+00, 9.10958349e-01, 8.11641456e-01,\n",
       "        1.76089707e+00, 6.72346164e-02, 1.47424473e-01, 2.09800305e-01,\n",
       "        1.27590555e+00, 3.20914294e-01, 8.61652840e-03, 1.26296953e+00,\n",
       "        3.24325082e-03],\n",
       "       [7.65625781e-01, 4.51289401e-01, 3.65488601e-01, 1.83610767e-01,\n",
       "        6.81154325e-02, 1.07601026e-01, 5.90072825e-01, 6.05790362e-01,\n",
       "        1.56028855e-01, 6.52128762e-01, 4.61607776e-01, 4.84556577e-01,\n",
       "        9.07855874e-01, 1.72800005e-01, 2.18859821e+00, 4.85757510e-02,\n",
       "        9.40542739e-02],\n",
       "       [1.03448909e+00, 1.78591286e+00, 1.62808558e+00, 1.08292881e+00,\n",
       "        1.65423193e-01, 8.41631789e-02, 1.58660065e-01, 9.82203790e-01,\n",
       "        5.57245909e-01, 9.13544474e-01, 8.43461329e-01, 7.92164142e-01,\n",
       "        1.71756517e-01, 3.20914294e-01, 3.96360306e-01, 1.94303004e-01,\n",
       "        2.88649323e-01],\n",
       "       [1.08641548e+00, 7.60167649e-02, 2.75303102e-01, 2.39818144e-01,\n",
       "        6.81154325e-02, 2.67404530e-01, 6.04334404e-01, 1.48996982e-01,\n",
       "        7.80144273e-01, 6.31441188e-01, 6.40450579e-01, 6.35373878e-01,\n",
       "        5.64342841e-01, 5.67771443e-01, 2.49879323e-01, 1.79730279e+00,\n",
       "        6.84325924e-01],\n",
       "       [7.05621952e-01, 8.26562038e-01, 7.21483991e-01, 1.83610767e-01,\n",
       "        5.15731132e-01, 2.12112518e+00, 3.01275853e-01, 1.40958987e+00,\n",
       "        1.67173773e+00, 9.90652705e-01, 9.25632346e-01, 8.65332931e-01,\n",
       "        5.64342841e-01, 4.19657154e-01, 5.25608232e-01, 6.80060514e-01,\n",
       "        4.89730874e-01],\n",
       "       [4.71376235e-01, 1.43277168e+00, 1.29107662e+00, 1.78364745e+00,\n",
       "        1.00226994e+00, 3.95247334e-01, 6.07899799e-01, 9.62598924e-01,\n",
       "        1.40425969e+00, 1.86658341e-01, 8.45878123e-02, 3.65843948e-02,\n",
       "        5.39806195e-01, 1.72800005e-01, 3.79127249e-01, 9.71515020e-02,\n",
       "        3.92433350e-01],\n",
       "       [5.57920219e-01, 4.00290812e-01, 4.36687679e-01, 7.15707275e-01,\n",
       "        9.04962175e-01, 1.09838275e+00, 1.58660065e-01, 8.60653621e-01,\n",
       "        6.46405255e-01, 5.32705038e-01, 5.96948276e-01, 4.56185005e-01,\n",
       "        9.32392519e-01, 1.72800005e-01, 2.49879323e-01, 2.42878755e-02,\n",
       "        4.83244373e-01],\n",
       "       [9.98140619e-02, 1.20857034e+00, 2.61063286e-02, 1.27403389e-01,\n",
       "        1.43042408e+00, 5.63573692e-01, 1.05179144e-01, 1.26647435e+00,\n",
       "        2.45188200e-01, 5.75020531e-01, 4.08438294e-01, 4.11387787e-01,\n",
       "        5.64342841e-01, 9.13371452e-01, 1.94733542e+00, 2.30734817e+00,\n",
       "        1.26162457e+00],\n",
       "       [7.13699391e-01, 4.65722964e-01, 3.12089292e-01, 7.45684543e-01,\n",
       "        7.49269758e-01, 8.51219999e-01, 6.57815325e-01, 1.84285741e-01,\n",
       "        6.46405255e-01, 2.30243298e+00, 2.28870452e+00, 2.27644530e+00,\n",
       "        9.07855874e-01, 9.13371452e-01, 2.44709406e+00, 1.21439378e-01,\n",
       "        1.85189622e+00],\n",
       "       [1.51740453e-01, 1.65601079e+00, 1.04069319e+00, 9.70514053e-01,\n",
       "        4.18423371e-01, 7.55337897e-01, 1.44398486e-01, 7.23419558e-01,\n",
       "        6.46405255e-01, 1.30096632e+00, 1.50566306e+00, 1.67168286e+00,\n",
       "        1.27590555e+00, 4.19657154e-01, 1.41311066e+00, 2.01589367e+00,\n",
       "        1.65730117e+00],\n",
       "       [1.32700776e-02, 3.64688024e-01, 1.11307892e+00, 1.53633499e-01,\n",
       "        1.26500089e-01, 2.35443830e-01, 1.74526071e+00, 2.64469643e+00,\n",
       "        5.12666237e-01, 1.13170435e+00, 1.30265231e+00, 1.33570372e+00,\n",
       "        9.32392519e-01, 2.39451435e+00, 6.37623101e-01, 1.21439378e+00,\n",
       "        1.56000365e+00],\n",
       "       [5.75229016e-01, 5.23457216e-01, 4.54487448e-01, 4.12187436e-02,\n",
       "        2.62730954e-01, 5.95534393e-01, 1.01792019e+00, 4.97963598e-01,\n",
       "        2.22898364e-02, 6.87861845e-01, 6.69452115e-01, 7.24968314e-01,\n",
       "        9.07855874e-01, 1.06148574e+00, 3.96360306e-01, 1.57871191e+00,\n",
       "        1.26162457e+00],\n",
       "       [8.34860969e-01, 7.89997012e-01, 3.83288370e-01, 9.96744163e-01,\n",
       "        4.18423371e-01, 1.07601026e-01, 4.79545589e-01, 6.66565447e-02,\n",
       "        2.25127347e+00, 9.27649638e-01, 9.30465935e-01, 8.36961360e-01,\n",
       "        5.39806195e-01, 8.14628593e-01, 1.04259994e+00, 3.15742382e-01,\n",
       "        1.65081467e+00],\n",
       "       [9.05827036e-02, 1.54920242e-01, 9.35081225e-01, 1.13913619e+00,\n",
       "        1.39150098e+00, 4.27208035e-01, 3.36929800e-01, 4.09741701e-01,\n",
       "        1.44883936e+00, 1.06117853e+00, 1.14314386e+00, 1.17891346e+00,\n",
       "        9.07855874e-01, 6.66514303e-01, 8.96118953e-01, 4.61469635e-01,\n",
       "        8.78920973e-01],\n",
       "       [2.55593234e-01, 1.27400249e+00, 7.21483991e-01, 5.47085142e-01,\n",
       "        1.78073202e+00, 4.27208035e-01, 1.24610545e+00, 9.39073085e-01,\n",
       "        1.18136133e+00, 7.50864912e-01, 8.53128507e-01, 7.53339886e-01,\n",
       "        1.96293162e-01, 4.19657154e-01, 2.67112380e-01, 3.15742382e-01,\n",
       "        1.97838300e-01],\n",
       "       [1.30219848e+00, 7.68827786e-01, 2.93102871e-01, 2.17709909e+00,\n",
       "        8.46577519e-01, 1.39455191e+00, 1.67751821e+00, 9.62598924e-01,\n",
       "        1.27052067e+00, 1.44342848e-01, 3.14183303e-02, 1.42604478e-01,\n",
       "        1.27590555e+00, 1.72800005e-01, 1.04259994e+00, 1.26296953e+00,\n",
       "        9.69731996e-01],\n",
       "       [1.99455036e+00, 1.38947099e+00, 7.57083530e-01, 1.33398843e+00,\n",
       "        1.29419322e+00, 2.03376593e+00, 3.38712498e-02, 1.38410355e+00,\n",
       "        6.46405255e-01, 1.01228062e+00, 9.01464400e-01, 1.01615023e+00,\n",
       "        1.71756517e-01, 3.20914294e-01, 1.20631398e-01, 3.15742382e-01,\n",
       "        1.35892210e+00],\n",
       "       [1.07718413e+00, 1.83787368e-01, 5.25686526e-01, 1.53633499e-01,\n",
       "        5.54654236e-01, 1.07494491e+00, 1.46359453e+00, 2.52902772e-01,\n",
       "        2.00608527e-01, 1.70343367e+00, 1.64100356e+00, 1.64331129e+00,\n",
       "        9.07855874e-01, 1.06148574e+00, 1.04259994e+00, 1.65157553e+00,\n",
       "        1.74811219e+00],\n",
       "       [3.67523453e-01, 1.89464570e+00, 1.02408007e+00, 6.59499897e-01,\n",
       "        5.15731132e-01, 7.46815043e-01, 1.67395282e+00, 9.60638438e-02,\n",
       "        1.09220198e+00, 1.31507148e+00, 1.20114693e+00, 1.15651485e+00,\n",
       "        9.32392519e-01, 2.39451435e+00, 5.08375175e-01, 1.40869678e+00,\n",
       "        1.07351602e+00],\n",
       "       [1.34431656e-01, 7.03395634e-01, 1.46788766e+00, 7.45684543e-01,\n",
       "        7.49269758e-01, 8.83180700e-01, 2.15706380e-01, 8.74377027e-01,\n",
       "        4.23506891e-01, 8.63706227e-01, 5.63113151e-01, 5.29353795e-01,\n",
       "        1.30044220e+00, 1.65394290e+00, 2.67112380e-01, 1.19010590e+00,\n",
       "        2.95135825e-01],\n",
       "       [5.49842780e-01, 1.91581492e+00, 1.61028582e+00, 8.01891920e-01,\n",
       "        1.62503960e+00, 3.07888085e-01, 3.72583748e-01, 6.25395228e-01,\n",
       "        2.16211413e+00, 3.49337902e-01, 3.35934455e-01, 1.87401696e-01,\n",
       "        9.07855874e-01, 1.72800005e-01, 1.20631398e-01, 6.07196888e-01,\n",
       "        1.91351799e-01],\n",
       "       [6.61773000e-01, 8.55429164e-01, 1.41567500e+00, 8.28122030e-01,\n",
       "        4.57346476e-01, 4.99652290e-01, 7.68342561e-01, 7.72431723e-01,\n",
       "        6.68695091e-02, 6.03230859e-01, 2.77931383e-01, 2.99394742e-01,\n",
       "        9.07855874e-01, 1.30834289e+00, 2.67112380e-01, 1.70015129e-01,\n",
       "        6.77839422e-01],\n",
       "       [8.44092327e-01, 8.04430575e-01, 1.34328927e+00, 4.12187436e-02,\n",
       "        1.72234737e+00, 7.14854342e-01, 1.44576756e+00, 3.41124670e-01,\n",
       "        6.01825582e-01, 2.19711442e+00, 2.36604195e+00, 2.42726261e+00,\n",
       "        1.96293162e-01, 1.80205719e+00, 9.13352010e-01, 4.85757510e-02,\n",
       "        1.26162457e+00]])"
      ]
     },
     "execution_count": 13,
     "metadata": {},
     "output_type": "execute_result"
    }
   ],
   "source": [
    "#Removing Outliers:\n",
    "z=np.abs(zscore(df))\n",
    "z"
   ]
  },
  {
   "cell_type": "code",
   "execution_count": 14,
   "metadata": {},
   "outputs": [
    {
     "name": "stdout",
     "output_type": "stream",
     "text": [
      "(array([5], dtype=int64), array([0], dtype=int64))\n"
     ]
    }
   ],
   "source": [
    "threshold = 3\n",
    "print(np.where(z>threshold))"
   ]
  },
  {
   "cell_type": "code",
   "execution_count": 15,
   "metadata": {},
   "outputs": [
    {
     "data": {
      "text/html": [
       "<div>\n",
       "<style scoped>\n",
       "    .dataframe tbody tr th:only-of-type {\n",
       "        vertical-align: middle;\n",
       "    }\n",
       "\n",
       "    .dataframe tbody tr th {\n",
       "        vertical-align: top;\n",
       "    }\n",
       "\n",
       "    .dataframe thead th {\n",
       "        text-align: right;\n",
       "    }\n",
       "</style>\n",
       "<table border=\"1\" class=\"dataframe\">\n",
       "  <thead>\n",
       "    <tr style=\"text-align: right;\">\n",
       "      <th></th>\n",
       "      <th>R</th>\n",
       "      <th>AB</th>\n",
       "      <th>H</th>\n",
       "      <th>2B</th>\n",
       "      <th>3B</th>\n",
       "      <th>HR</th>\n",
       "      <th>BB</th>\n",
       "      <th>SO</th>\n",
       "      <th>SB</th>\n",
       "      <th>RA</th>\n",
       "      <th>ER</th>\n",
       "      <th>ERA</th>\n",
       "      <th>CG</th>\n",
       "      <th>SHO</th>\n",
       "      <th>SV</th>\n",
       "      <th>E</th>\n",
       "      <th>W</th>\n",
       "    </tr>\n",
       "  </thead>\n",
       "  <tbody>\n",
       "    <tr>\n",
       "      <th>0</th>\n",
       "      <td>724</td>\n",
       "      <td>5575</td>\n",
       "      <td>1497</td>\n",
       "      <td>300</td>\n",
       "      <td>42</td>\n",
       "      <td>139</td>\n",
       "      <td>383</td>\n",
       "      <td>973</td>\n",
       "      <td>104</td>\n",
       "      <td>641</td>\n",
       "      <td>601</td>\n",
       "      <td>3.73</td>\n",
       "      <td>2</td>\n",
       "      <td>8</td>\n",
       "      <td>56</td>\n",
       "      <td>88</td>\n",
       "      <td>95</td>\n",
       "    </tr>\n",
       "    <tr>\n",
       "      <th>1</th>\n",
       "      <td>696</td>\n",
       "      <td>5467</td>\n",
       "      <td>1349</td>\n",
       "      <td>277</td>\n",
       "      <td>44</td>\n",
       "      <td>156</td>\n",
       "      <td>439</td>\n",
       "      <td>1264</td>\n",
       "      <td>70</td>\n",
       "      <td>700</td>\n",
       "      <td>653</td>\n",
       "      <td>4.07</td>\n",
       "      <td>2</td>\n",
       "      <td>12</td>\n",
       "      <td>45</td>\n",
       "      <td>86</td>\n",
       "      <td>83</td>\n",
       "    </tr>\n",
       "    <tr>\n",
       "      <th>2</th>\n",
       "      <td>669</td>\n",
       "      <td>5439</td>\n",
       "      <td>1395</td>\n",
       "      <td>303</td>\n",
       "      <td>29</td>\n",
       "      <td>141</td>\n",
       "      <td>533</td>\n",
       "      <td>1157</td>\n",
       "      <td>86</td>\n",
       "      <td>640</td>\n",
       "      <td>584</td>\n",
       "      <td>3.67</td>\n",
       "      <td>11</td>\n",
       "      <td>10</td>\n",
       "      <td>38</td>\n",
       "      <td>79</td>\n",
       "      <td>81</td>\n",
       "    </tr>\n",
       "    <tr>\n",
       "      <th>3</th>\n",
       "      <td>622</td>\n",
       "      <td>5533</td>\n",
       "      <td>1381</td>\n",
       "      <td>260</td>\n",
       "      <td>27</td>\n",
       "      <td>136</td>\n",
       "      <td>404</td>\n",
       "      <td>1231</td>\n",
       "      <td>68</td>\n",
       "      <td>701</td>\n",
       "      <td>643</td>\n",
       "      <td>3.98</td>\n",
       "      <td>7</td>\n",
       "      <td>9</td>\n",
       "      <td>37</td>\n",
       "      <td>101</td>\n",
       "      <td>76</td>\n",
       "    </tr>\n",
       "    <tr>\n",
       "      <th>4</th>\n",
       "      <td>689</td>\n",
       "      <td>5605</td>\n",
       "      <td>1515</td>\n",
       "      <td>289</td>\n",
       "      <td>49</td>\n",
       "      <td>151</td>\n",
       "      <td>455</td>\n",
       "      <td>1259</td>\n",
       "      <td>83</td>\n",
       "      <td>803</td>\n",
       "      <td>746</td>\n",
       "      <td>4.64</td>\n",
       "      <td>7</td>\n",
       "      <td>12</td>\n",
       "      <td>35</td>\n",
       "      <td>86</td>\n",
       "      <td>74</td>\n",
       "    </tr>\n",
       "    <tr>\n",
       "      <th>6</th>\n",
       "      <td>764</td>\n",
       "      <td>5567</td>\n",
       "      <td>1397</td>\n",
       "      <td>272</td>\n",
       "      <td>19</td>\n",
       "      <td>212</td>\n",
       "      <td>554</td>\n",
       "      <td>1227</td>\n",
       "      <td>63</td>\n",
       "      <td>698</td>\n",
       "      <td>652</td>\n",
       "      <td>4.03</td>\n",
       "      <td>3</td>\n",
       "      <td>4</td>\n",
       "      <td>48</td>\n",
       "      <td>93</td>\n",
       "      <td>87</td>\n",
       "    </tr>\n",
       "    <tr>\n",
       "      <th>7</th>\n",
       "      <td>713</td>\n",
       "      <td>5485</td>\n",
       "      <td>1370</td>\n",
       "      <td>246</td>\n",
       "      <td>20</td>\n",
       "      <td>217</td>\n",
       "      <td>418</td>\n",
       "      <td>1331</td>\n",
       "      <td>44</td>\n",
       "      <td>693</td>\n",
       "      <td>646</td>\n",
       "      <td>4.05</td>\n",
       "      <td>0</td>\n",
       "      <td>10</td>\n",
       "      <td>43</td>\n",
       "      <td>77</td>\n",
       "      <td>81</td>\n",
       "    </tr>\n",
       "    <tr>\n",
       "      <th>8</th>\n",
       "      <td>644</td>\n",
       "      <td>5485</td>\n",
       "      <td>1383</td>\n",
       "      <td>278</td>\n",
       "      <td>32</td>\n",
       "      <td>167</td>\n",
       "      <td>436</td>\n",
       "      <td>1310</td>\n",
       "      <td>87</td>\n",
       "      <td>642</td>\n",
       "      <td>604</td>\n",
       "      <td>3.74</td>\n",
       "      <td>1</td>\n",
       "      <td>12</td>\n",
       "      <td>60</td>\n",
       "      <td>95</td>\n",
       "      <td>80</td>\n",
       "    </tr>\n",
       "    <tr>\n",
       "      <th>9</th>\n",
       "      <td>748</td>\n",
       "      <td>5640</td>\n",
       "      <td>1495</td>\n",
       "      <td>294</td>\n",
       "      <td>33</td>\n",
       "      <td>161</td>\n",
       "      <td>478</td>\n",
       "      <td>1148</td>\n",
       "      <td>71</td>\n",
       "      <td>753</td>\n",
       "      <td>694</td>\n",
       "      <td>4.31</td>\n",
       "      <td>3</td>\n",
       "      <td>10</td>\n",
       "      <td>40</td>\n",
       "      <td>97</td>\n",
       "      <td>78</td>\n",
       "    </tr>\n",
       "    <tr>\n",
       "      <th>10</th>\n",
       "      <td>751</td>\n",
       "      <td>5511</td>\n",
       "      <td>1419</td>\n",
       "      <td>279</td>\n",
       "      <td>32</td>\n",
       "      <td>172</td>\n",
       "      <td>503</td>\n",
       "      <td>1233</td>\n",
       "      <td>101</td>\n",
       "      <td>733</td>\n",
       "      <td>680</td>\n",
       "      <td>4.24</td>\n",
       "      <td>5</td>\n",
       "      <td>9</td>\n",
       "      <td>45</td>\n",
       "      <td>119</td>\n",
       "      <td>88</td>\n",
       "    </tr>\n",
       "    <tr>\n",
       "      <th>11</th>\n",
       "      <td>729</td>\n",
       "      <td>5459</td>\n",
       "      <td>1363</td>\n",
       "      <td>278</td>\n",
       "      <td>26</td>\n",
       "      <td>230</td>\n",
       "      <td>486</td>\n",
       "      <td>1392</td>\n",
       "      <td>121</td>\n",
       "      <td>618</td>\n",
       "      <td>572</td>\n",
       "      <td>3.57</td>\n",
       "      <td>5</td>\n",
       "      <td>13</td>\n",
       "      <td>39</td>\n",
       "      <td>85</td>\n",
       "      <td>86</td>\n",
       "    </tr>\n",
       "    <tr>\n",
       "      <th>12</th>\n",
       "      <td>661</td>\n",
       "      <td>5417</td>\n",
       "      <td>1331</td>\n",
       "      <td>243</td>\n",
       "      <td>21</td>\n",
       "      <td>176</td>\n",
       "      <td>435</td>\n",
       "      <td>1150</td>\n",
       "      <td>52</td>\n",
       "      <td>675</td>\n",
       "      <td>630</td>\n",
       "      <td>3.94</td>\n",
       "      <td>2</td>\n",
       "      <td>12</td>\n",
       "      <td>46</td>\n",
       "      <td>93</td>\n",
       "      <td>85</td>\n",
       "    </tr>\n",
       "    <tr>\n",
       "      <th>13</th>\n",
       "      <td>656</td>\n",
       "      <td>5544</td>\n",
       "      <td>1379</td>\n",
       "      <td>262</td>\n",
       "      <td>22</td>\n",
       "      <td>198</td>\n",
       "      <td>478</td>\n",
       "      <td>1336</td>\n",
       "      <td>69</td>\n",
       "      <td>726</td>\n",
       "      <td>677</td>\n",
       "      <td>4.16</td>\n",
       "      <td>6</td>\n",
       "      <td>12</td>\n",
       "      <td>45</td>\n",
       "      <td>94</td>\n",
       "      <td>76</td>\n",
       "    </tr>\n",
       "    <tr>\n",
       "      <th>14</th>\n",
       "      <td>694</td>\n",
       "      <td>5600</td>\n",
       "      <td>1405</td>\n",
       "      <td>277</td>\n",
       "      <td>46</td>\n",
       "      <td>146</td>\n",
       "      <td>475</td>\n",
       "      <td>1119</td>\n",
       "      <td>78</td>\n",
       "      <td>729</td>\n",
       "      <td>664</td>\n",
       "      <td>4.14</td>\n",
       "      <td>5</td>\n",
       "      <td>15</td>\n",
       "      <td>28</td>\n",
       "      <td>126</td>\n",
       "      <td>68</td>\n",
       "    </tr>\n",
       "    <tr>\n",
       "      <th>15</th>\n",
       "      <td>647</td>\n",
       "      <td>5484</td>\n",
       "      <td>1386</td>\n",
       "      <td>288</td>\n",
       "      <td>39</td>\n",
       "      <td>137</td>\n",
       "      <td>506</td>\n",
       "      <td>1267</td>\n",
       "      <td>69</td>\n",
       "      <td>525</td>\n",
       "      <td>478</td>\n",
       "      <td>2.94</td>\n",
       "      <td>1</td>\n",
       "      <td>15</td>\n",
       "      <td>62</td>\n",
       "      <td>96</td>\n",
       "      <td>100</td>\n",
       "    </tr>\n",
       "    <tr>\n",
       "      <th>16</th>\n",
       "      <td>697</td>\n",
       "      <td>5631</td>\n",
       "      <td>1462</td>\n",
       "      <td>292</td>\n",
       "      <td>27</td>\n",
       "      <td>140</td>\n",
       "      <td>461</td>\n",
       "      <td>1322</td>\n",
       "      <td>98</td>\n",
       "      <td>596</td>\n",
       "      <td>532</td>\n",
       "      <td>3.21</td>\n",
       "      <td>0</td>\n",
       "      <td>13</td>\n",
       "      <td>54</td>\n",
       "      <td>122</td>\n",
       "      <td>98</td>\n",
       "    </tr>\n",
       "    <tr>\n",
       "      <th>17</th>\n",
       "      <td>689</td>\n",
       "      <td>5491</td>\n",
       "      <td>1341</td>\n",
       "      <td>272</td>\n",
       "      <td>30</td>\n",
       "      <td>171</td>\n",
       "      <td>567</td>\n",
       "      <td>1518</td>\n",
       "      <td>95</td>\n",
       "      <td>608</td>\n",
       "      <td>546</td>\n",
       "      <td>3.36</td>\n",
       "      <td>6</td>\n",
       "      <td>21</td>\n",
       "      <td>48</td>\n",
       "      <td>111</td>\n",
       "      <td>97</td>\n",
       "    </tr>\n",
       "    <tr>\n",
       "      <th>18</th>\n",
       "      <td>655</td>\n",
       "      <td>5480</td>\n",
       "      <td>1378</td>\n",
       "      <td>274</td>\n",
       "      <td>34</td>\n",
       "      <td>145</td>\n",
       "      <td>412</td>\n",
       "      <td>1299</td>\n",
       "      <td>84</td>\n",
       "      <td>737</td>\n",
       "      <td>682</td>\n",
       "      <td>4.28</td>\n",
       "      <td>1</td>\n",
       "      <td>7</td>\n",
       "      <td>40</td>\n",
       "      <td>116</td>\n",
       "      <td>68</td>\n",
       "    </tr>\n",
       "    <tr>\n",
       "      <th>19</th>\n",
       "      <td>640</td>\n",
       "      <td>5571</td>\n",
       "      <td>1382</td>\n",
       "      <td>257</td>\n",
       "      <td>27</td>\n",
       "      <td>167</td>\n",
       "      <td>496</td>\n",
       "      <td>1255</td>\n",
       "      <td>134</td>\n",
       "      <td>754</td>\n",
       "      <td>700</td>\n",
       "      <td>4.33</td>\n",
       "      <td>2</td>\n",
       "      <td>8</td>\n",
       "      <td>35</td>\n",
       "      <td>90</td>\n",
       "      <td>64</td>\n",
       "    </tr>\n",
       "    <tr>\n",
       "      <th>20</th>\n",
       "      <td>683</td>\n",
       "      <td>5527</td>\n",
       "      <td>1351</td>\n",
       "      <td>295</td>\n",
       "      <td>17</td>\n",
       "      <td>177</td>\n",
       "      <td>488</td>\n",
       "      <td>1290</td>\n",
       "      <td>51</td>\n",
       "      <td>613</td>\n",
       "      <td>557</td>\n",
       "      <td>3.43</td>\n",
       "      <td>1</td>\n",
       "      <td>14</td>\n",
       "      <td>50</td>\n",
       "      <td>88</td>\n",
       "      <td>90</td>\n",
       "    </tr>\n",
       "    <tr>\n",
       "      <th>21</th>\n",
       "      <td>703</td>\n",
       "      <td>5428</td>\n",
       "      <td>1363</td>\n",
       "      <td>265</td>\n",
       "      <td>13</td>\n",
       "      <td>177</td>\n",
       "      <td>539</td>\n",
       "      <td>1344</td>\n",
       "      <td>57</td>\n",
       "      <td>635</td>\n",
       "      <td>577</td>\n",
       "      <td>3.62</td>\n",
       "      <td>4</td>\n",
       "      <td>13</td>\n",
       "      <td>41</td>\n",
       "      <td>90</td>\n",
       "      <td>83</td>\n",
       "    </tr>\n",
       "    <tr>\n",
       "      <th>22</th>\n",
       "      <td>613</td>\n",
       "      <td>5463</td>\n",
       "      <td>1420</td>\n",
       "      <td>236</td>\n",
       "      <td>40</td>\n",
       "      <td>120</td>\n",
       "      <td>375</td>\n",
       "      <td>1150</td>\n",
       "      <td>112</td>\n",
       "      <td>678</td>\n",
       "      <td>638</td>\n",
       "      <td>4.02</td>\n",
       "      <td>0</td>\n",
       "      <td>12</td>\n",
       "      <td>35</td>\n",
       "      <td>77</td>\n",
       "      <td>71</td>\n",
       "    </tr>\n",
       "    <tr>\n",
       "      <th>23</th>\n",
       "      <td>573</td>\n",
       "      <td>5420</td>\n",
       "      <td>1361</td>\n",
       "      <td>251</td>\n",
       "      <td>18</td>\n",
       "      <td>100</td>\n",
       "      <td>471</td>\n",
       "      <td>1107</td>\n",
       "      <td>69</td>\n",
       "      <td>760</td>\n",
       "      <td>698</td>\n",
       "      <td>4.41</td>\n",
       "      <td>3</td>\n",
       "      <td>10</td>\n",
       "      <td>44</td>\n",
       "      <td>90</td>\n",
       "      <td>67</td>\n",
       "    </tr>\n",
       "    <tr>\n",
       "      <th>24</th>\n",
       "      <td>626</td>\n",
       "      <td>5529</td>\n",
       "      <td>1374</td>\n",
       "      <td>272</td>\n",
       "      <td>37</td>\n",
       "      <td>130</td>\n",
       "      <td>387</td>\n",
       "      <td>1274</td>\n",
       "      <td>88</td>\n",
       "      <td>809</td>\n",
       "      <td>749</td>\n",
       "      <td>4.69</td>\n",
       "      <td>1</td>\n",
       "      <td>7</td>\n",
       "      <td>35</td>\n",
       "      <td>117</td>\n",
       "      <td>63</td>\n",
       "    </tr>\n",
       "    <tr>\n",
       "      <th>25</th>\n",
       "      <td>667</td>\n",
       "      <td>5385</td>\n",
       "      <td>1346</td>\n",
       "      <td>263</td>\n",
       "      <td>26</td>\n",
       "      <td>187</td>\n",
       "      <td>563</td>\n",
       "      <td>1258</td>\n",
       "      <td>59</td>\n",
       "      <td>595</td>\n",
       "      <td>553</td>\n",
       "      <td>3.44</td>\n",
       "      <td>6</td>\n",
       "      <td>21</td>\n",
       "      <td>47</td>\n",
       "      <td>75</td>\n",
       "      <td>92</td>\n",
       "    </tr>\n",
       "    <tr>\n",
       "      <th>26</th>\n",
       "      <td>696</td>\n",
       "      <td>5565</td>\n",
       "      <td>1486</td>\n",
       "      <td>288</td>\n",
       "      <td>39</td>\n",
       "      <td>136</td>\n",
       "      <td>457</td>\n",
       "      <td>1159</td>\n",
       "      <td>93</td>\n",
       "      <td>627</td>\n",
       "      <td>597</td>\n",
       "      <td>3.72</td>\n",
       "      <td>7</td>\n",
       "      <td>18</td>\n",
       "      <td>41</td>\n",
       "      <td>78</td>\n",
       "      <td>84</td>\n",
       "    </tr>\n",
       "    <tr>\n",
       "      <th>27</th>\n",
       "      <td>720</td>\n",
       "      <td>5649</td>\n",
       "      <td>1494</td>\n",
       "      <td>289</td>\n",
       "      <td>48</td>\n",
       "      <td>154</td>\n",
       "      <td>490</td>\n",
       "      <td>1312</td>\n",
       "      <td>132</td>\n",
       "      <td>713</td>\n",
       "      <td>659</td>\n",
       "      <td>4.04</td>\n",
       "      <td>1</td>\n",
       "      <td>12</td>\n",
       "      <td>44</td>\n",
       "      <td>86</td>\n",
       "      <td>79</td>\n",
       "    </tr>\n",
       "    <tr>\n",
       "      <th>28</th>\n",
       "      <td>650</td>\n",
       "      <td>5457</td>\n",
       "      <td>1324</td>\n",
       "      <td>260</td>\n",
       "      <td>36</td>\n",
       "      <td>148</td>\n",
       "      <td>426</td>\n",
       "      <td>1327</td>\n",
       "      <td>82</td>\n",
       "      <td>731</td>\n",
       "      <td>655</td>\n",
       "      <td>4.09</td>\n",
       "      <td>1</td>\n",
       "      <td>6</td>\n",
       "      <td>41</td>\n",
       "      <td>92</td>\n",
       "      <td>74</td>\n",
       "    </tr>\n",
       "    <tr>\n",
       "      <th>29</th>\n",
       "      <td>737</td>\n",
       "      <td>5572</td>\n",
       "      <td>1479</td>\n",
       "      <td>274</td>\n",
       "      <td>49</td>\n",
       "      <td>186</td>\n",
       "      <td>388</td>\n",
       "      <td>1283</td>\n",
       "      <td>97</td>\n",
       "      <td>844</td>\n",
       "      <td>799</td>\n",
       "      <td>5.04</td>\n",
       "      <td>4</td>\n",
       "      <td>4</td>\n",
       "      <td>36</td>\n",
       "      <td>95</td>\n",
       "      <td>68</td>\n",
       "    </tr>\n",
       "  </tbody>\n",
       "</table>\n",
       "</div>"
      ],
      "text/plain": [
       "      R    AB     H   2B  3B   HR   BB    SO   SB   RA   ER   ERA  CG  SHO  \\\n",
       "0   724  5575  1497  300  42  139  383   973  104  641  601  3.73   2    8   \n",
       "1   696  5467  1349  277  44  156  439  1264   70  700  653  4.07   2   12   \n",
       "2   669  5439  1395  303  29  141  533  1157   86  640  584  3.67  11   10   \n",
       "3   622  5533  1381  260  27  136  404  1231   68  701  643  3.98   7    9   \n",
       "4   689  5605  1515  289  49  151  455  1259   83  803  746  4.64   7   12   \n",
       "6   764  5567  1397  272  19  212  554  1227   63  698  652  4.03   3    4   \n",
       "7   713  5485  1370  246  20  217  418  1331   44  693  646  4.05   0   10   \n",
       "8   644  5485  1383  278  32  167  436  1310   87  642  604  3.74   1   12   \n",
       "9   748  5640  1495  294  33  161  478  1148   71  753  694  4.31   3   10   \n",
       "10  751  5511  1419  279  32  172  503  1233  101  733  680  4.24   5    9   \n",
       "11  729  5459  1363  278  26  230  486  1392  121  618  572  3.57   5   13   \n",
       "12  661  5417  1331  243  21  176  435  1150   52  675  630  3.94   2   12   \n",
       "13  656  5544  1379  262  22  198  478  1336   69  726  677  4.16   6   12   \n",
       "14  694  5600  1405  277  46  146  475  1119   78  729  664  4.14   5   15   \n",
       "15  647  5484  1386  288  39  137  506  1267   69  525  478  2.94   1   15   \n",
       "16  697  5631  1462  292  27  140  461  1322   98  596  532  3.21   0   13   \n",
       "17  689  5491  1341  272  30  171  567  1518   95  608  546  3.36   6   21   \n",
       "18  655  5480  1378  274  34  145  412  1299   84  737  682  4.28   1    7   \n",
       "19  640  5571  1382  257  27  167  496  1255  134  754  700  4.33   2    8   \n",
       "20  683  5527  1351  295  17  177  488  1290   51  613  557  3.43   1   14   \n",
       "21  703  5428  1363  265  13  177  539  1344   57  635  577  3.62   4   13   \n",
       "22  613  5463  1420  236  40  120  375  1150  112  678  638  4.02   0   12   \n",
       "23  573  5420  1361  251  18  100  471  1107   69  760  698  4.41   3   10   \n",
       "24  626  5529  1374  272  37  130  387  1274   88  809  749  4.69   1    7   \n",
       "25  667  5385  1346  263  26  187  563  1258   59  595  553  3.44   6   21   \n",
       "26  696  5565  1486  288  39  136  457  1159   93  627  597  3.72   7   18   \n",
       "27  720  5649  1494  289  48  154  490  1312  132  713  659  4.04   1   12   \n",
       "28  650  5457  1324  260  36  148  426  1327   82  731  655  4.09   1    6   \n",
       "29  737  5572  1479  274  49  186  388  1283   97  844  799  5.04   4    4   \n",
       "\n",
       "    SV    E    W  \n",
       "0   56   88   95  \n",
       "1   45   86   83  \n",
       "2   38   79   81  \n",
       "3   37  101   76  \n",
       "4   35   86   74  \n",
       "6   48   93   87  \n",
       "7   43   77   81  \n",
       "8   60   95   80  \n",
       "9   40   97   78  \n",
       "10  45  119   88  \n",
       "11  39   85   86  \n",
       "12  46   93   85  \n",
       "13  45   94   76  \n",
       "14  28  126   68  \n",
       "15  62   96  100  \n",
       "16  54  122   98  \n",
       "17  48  111   97  \n",
       "18  40  116   68  \n",
       "19  35   90   64  \n",
       "20  50   88   90  \n",
       "21  41   90   83  \n",
       "22  35   77   71  \n",
       "23  44   90   67  \n",
       "24  35  117   63  \n",
       "25  47   75   92  \n",
       "26  41   78   84  \n",
       "27  44   86   79  \n",
       "28  41   92   74  \n",
       "29  36   95   68  "
      ]
     },
     "execution_count": 15,
     "metadata": {},
     "output_type": "execute_result"
    }
   ],
   "source": [
    "#creating new dataset without outliers and skewness\n",
    "df_new = df[(z<3).all(axis=1)]\n",
    "df_new"
   ]
  },
  {
   "cell_type": "code",
   "execution_count": 16,
   "metadata": {},
   "outputs": [
    {
     "data": {
      "text/plain": [
       "R     -0.215364\n",
       "AB     0.169573\n",
       "H      0.783772\n",
       "2B    -0.335304\n",
       "3B     0.090124\n",
       "HR     0.450862\n",
       "BB     0.151193\n",
       "SO    -0.233815\n",
       "SB     0.494966\n",
       "RA     0.018155\n",
       "ER     0.018461\n",
       "ERA    0.016693\n",
       "CG     0.854980\n",
       "SHO    0.526943\n",
       "SV     0.627480\n",
       "E      0.840271\n",
       "W      0.119013\n",
       "dtype: float64"
      ]
     },
     "execution_count": 16,
     "metadata": {},
     "output_type": "execute_result"
    }
   ],
   "source": [
    "# checking skewness of new dataset.\n",
    "df_new.skew()"
   ]
  },
  {
   "cell_type": "markdown",
   "metadata": {},
   "source": [
    "Observation:\n",
    "    We can say that skewness of most of the column is treated well, still few columns has skewness because it's their internal property."
   ]
  },
  {
   "cell_type": "markdown",
   "metadata": {},
   "source": [
    "# CHECKING DATALOSS:"
   ]
  },
  {
   "cell_type": "code",
   "execution_count": 17,
   "metadata": {},
   "outputs": [
    {
     "name": "stdout",
     "output_type": "stream",
     "text": [
      "3.3333333333333335\n"
     ]
    }
   ],
   "source": [
    "# checking loss of the data after removing skewness.\n",
    "\n",
    "print(((df.shape[0]-df_new.shape[0])/df.shape[0]*100))"
   ]
  },
  {
   "cell_type": "markdown",
   "metadata": {},
   "source": [
    "Observation:\n",
    "    After removing skewness, we can see that there is almost 3.3% loss of data, which is very much in limits."
   ]
  },
  {
   "cell_type": "code",
   "execution_count": 18,
   "metadata": {},
   "outputs": [],
   "source": [
    "# creating dataframe for algorithm modeling.\n",
    "\n",
    "x = df_new.iloc[:,0:16]\n",
    "y = df_new.iloc[:,-1]"
   ]
  },
  {
   "cell_type": "code",
   "execution_count": 19,
   "metadata": {},
   "outputs": [
    {
     "data": {
      "text/plain": [
       "(29, 16)"
      ]
     },
     "execution_count": 19,
     "metadata": {},
     "output_type": "execute_result"
    }
   ],
   "source": [
    "x.shape\n"
   ]
  },
  {
   "cell_type": "code",
   "execution_count": 20,
   "metadata": {},
   "outputs": [
    {
     "data": {
      "text/plain": [
       "(29,)"
      ]
     },
     "execution_count": 20,
     "metadata": {},
     "output_type": "execute_result"
    }
   ],
   "source": [
    "y.shape"
   ]
  },
  {
   "cell_type": "code",
   "execution_count": 21,
   "metadata": {
    "scrolled": true
   },
   "outputs": [
    {
     "data": {
      "text/plain": [
       "Index(['R', 'AB', 'H', '2B', '3B', 'HR', 'BB', 'SO', 'SB', 'RA', 'ER', 'ERA',\n",
       "       'CG', 'SHO', 'SV', 'E'],\n",
       "      dtype='object')"
      ]
     },
     "execution_count": 21,
     "metadata": {},
     "output_type": "execute_result"
    }
   ],
   "source": [
    "x.columns"
   ]
  },
  {
   "cell_type": "markdown",
   "metadata": {},
   "source": [
    "# SCALING DATASET:"
   ]
  },
  {
   "cell_type": "code",
   "execution_count": 22,
   "metadata": {
    "scrolled": true
   },
   "outputs": [
    {
     "data": {
      "text/html": [
       "<div>\n",
       "<style scoped>\n",
       "    .dataframe tbody tr th:only-of-type {\n",
       "        vertical-align: middle;\n",
       "    }\n",
       "\n",
       "    .dataframe tbody tr th {\n",
       "        vertical-align: top;\n",
       "    }\n",
       "\n",
       "    .dataframe thead th {\n",
       "        text-align: right;\n",
       "    }\n",
       "</style>\n",
       "<table border=\"1\" class=\"dataframe\">\n",
       "  <thead>\n",
       "    <tr style=\"text-align: right;\">\n",
       "      <th></th>\n",
       "      <th>R</th>\n",
       "      <th>AB</th>\n",
       "      <th>H</th>\n",
       "      <th>2B</th>\n",
       "      <th>3B</th>\n",
       "      <th>HR</th>\n",
       "      <th>BB</th>\n",
       "      <th>SO</th>\n",
       "      <th>SB</th>\n",
       "      <th>RA</th>\n",
       "      <th>ER</th>\n",
       "      <th>ERA</th>\n",
       "      <th>CG</th>\n",
       "      <th>SHO</th>\n",
       "      <th>SV</th>\n",
       "      <th>E</th>\n",
       "    </tr>\n",
       "  </thead>\n",
       "  <tbody>\n",
       "    <tr>\n",
       "      <th>0</th>\n",
       "      <td>0.959398</td>\n",
       "      <td>0.830084</td>\n",
       "      <td>1.738306</td>\n",
       "      <td>1.556538</td>\n",
       "      <td>1.010845</td>\n",
       "      <td>-0.765863</td>\n",
       "      <td>-1.536359</td>\n",
       "      <td>-2.727623</td>\n",
       "      <td>0.905953</td>\n",
       "      <td>-0.664514</td>\n",
       "      <td>-0.511148</td>\n",
       "      <td>-0.511388</td>\n",
       "      <td>-0.501486</td>\n",
       "      <td>-0.813262</td>\n",
       "      <td>1.643157</td>\n",
       "      <td>-0.471091</td>\n",
       "    </tr>\n",
       "    <tr>\n",
       "      <th>1</th>\n",
       "      <td>0.331147</td>\n",
       "      <td>-0.702831</td>\n",
       "      <td>-0.938698</td>\n",
       "      <td>0.201171</td>\n",
       "      <td>1.208917</td>\n",
       "      <td>-0.181389</td>\n",
       "      <td>-0.495021</td>\n",
       "      <td>0.121896</td>\n",
       "      <td>-0.585315</td>\n",
       "      <td>0.154638</td>\n",
       "      <td>0.232161</td>\n",
       "      <td>0.238952</td>\n",
       "      <td>-0.501486</td>\n",
       "      <td>0.159299</td>\n",
       "      <td>0.211006</td>\n",
       "      <td>-0.614898</td>\n",
       "    </tr>\n",
       "    <tr>\n",
       "      <th>2</th>\n",
       "      <td>-0.274666</td>\n",
       "      <td>-1.100253</td>\n",
       "      <td>-0.106656</td>\n",
       "      <td>1.733325</td>\n",
       "      <td>-0.276617</td>\n",
       "      <td>-0.697101</td>\n",
       "      <td>1.252941</td>\n",
       "      <td>-0.925866</td>\n",
       "      <td>0.116458</td>\n",
       "      <td>-0.678397</td>\n",
       "      <td>-0.754153</td>\n",
       "      <td>-0.643801</td>\n",
       "      <td>2.854612</td>\n",
       "      <td>-0.326982</td>\n",
       "      <td>-0.700362</td>\n",
       "      <td>-1.118222</td>\n",
       "    </tr>\n",
       "    <tr>\n",
       "      <th>3</th>\n",
       "      <td>-1.329231</td>\n",
       "      <td>0.233951</td>\n",
       "      <td>-0.359886</td>\n",
       "      <td>-0.800621</td>\n",
       "      <td>-0.474688</td>\n",
       "      <td>-0.869006</td>\n",
       "      <td>-1.145857</td>\n",
       "      <td>-0.201246</td>\n",
       "      <td>-0.673037</td>\n",
       "      <td>0.168522</td>\n",
       "      <td>0.089217</td>\n",
       "      <td>0.040333</td>\n",
       "      <td>1.363013</td>\n",
       "      <td>-0.570122</td>\n",
       "      <td>-0.830557</td>\n",
       "      <td>0.463653</td>\n",
       "    </tr>\n",
       "    <tr>\n",
       "      <th>4</th>\n",
       "      <td>0.174084</td>\n",
       "      <td>1.255894</td>\n",
       "      <td>2.063888</td>\n",
       "      <td>0.908319</td>\n",
       "      <td>1.704094</td>\n",
       "      <td>-0.353293</td>\n",
       "      <td>-0.197495</td>\n",
       "      <td>0.072935</td>\n",
       "      <td>-0.015124</td>\n",
       "      <td>1.584683</td>\n",
       "      <td>1.561540</td>\n",
       "      <td>1.496876</td>\n",
       "      <td>1.363013</td>\n",
       "      <td>0.159299</td>\n",
       "      <td>-1.090948</td>\n",
       "      <td>-0.614898</td>\n",
       "    </tr>\n",
       "  </tbody>\n",
       "</table>\n",
       "</div>"
      ],
      "text/plain": [
       "          R        AB         H        2B        3B        HR        BB  \\\n",
       "0  0.959398  0.830084  1.738306  1.556538  1.010845 -0.765863 -1.536359   \n",
       "1  0.331147 -0.702831 -0.938698  0.201171  1.208917 -0.181389 -0.495021   \n",
       "2 -0.274666 -1.100253 -0.106656  1.733325 -0.276617 -0.697101  1.252941   \n",
       "3 -1.329231  0.233951 -0.359886 -0.800621 -0.474688 -0.869006 -1.145857   \n",
       "4  0.174084  1.255894  2.063888  0.908319  1.704094 -0.353293 -0.197495   \n",
       "\n",
       "         SO        SB        RA        ER       ERA        CG       SHO  \\\n",
       "0 -2.727623  0.905953 -0.664514 -0.511148 -0.511388 -0.501486 -0.813262   \n",
       "1  0.121896 -0.585315  0.154638  0.232161  0.238952 -0.501486  0.159299   \n",
       "2 -0.925866  0.116458 -0.678397 -0.754153 -0.643801  2.854612 -0.326982   \n",
       "3 -0.201246 -0.673037  0.168522  0.089217  0.040333  1.363013 -0.570122   \n",
       "4  0.072935 -0.015124  1.584683  1.561540  1.496876  1.363013  0.159299   \n",
       "\n",
       "         SV         E  \n",
       "0  1.643157 -0.471091  \n",
       "1  0.211006 -0.614898  \n",
       "2 -0.700362 -1.118222  \n",
       "3 -0.830557  0.463653  \n",
       "4 -1.090948 -0.614898  "
      ]
     },
     "execution_count": 22,
     "metadata": {},
     "output_type": "execute_result"
    }
   ],
   "source": [
    "sc = StandardScaler()\n",
    "x= sc.fit_transform(x)\n",
    "columnslist = ['R', 'AB', 'H', '2B', '3B', 'HR', 'BB', 'SO', 'SB', 'RA', 'ER', 'ERA', 'CG', 'SHO', 'SV', 'E']\n",
    "X= pd.DataFrame(x, columns = columnslist)\n",
    "X.head()"
   ]
  },
  {
   "cell_type": "markdown",
   "metadata": {},
   "source": [
    "# Creating Train Test Dataset:"
   ]
  },
  {
   "cell_type": "code",
   "execution_count": 23,
   "metadata": {},
   "outputs": [
    {
     "name": "stdout",
     "output_type": "stream",
     "text": [
      "(23, 16)\n",
      "(23,)\n",
      "(6, 16)\n",
      "(6,)\n"
     ]
    }
   ],
   "source": [
    "#creating train test dataset from the x and y part inoder to start model making.\n",
    "\n",
    "x_train, x_test, y_train, y_test = train_test_split(X, y, test_size=.20, random_state=42)\n",
    "print(x_train.shape)\n",
    "print(y_train.shape)\n",
    "print(x_test.shape)\n",
    "print(y_test.shape)"
   ]
  },
  {
   "cell_type": "markdown",
   "metadata": {},
   "source": [
    "# Linear Regression Method:"
   ]
  },
  {
   "cell_type": "code",
   "execution_count": 24,
   "metadata": {},
   "outputs": [
    {
     "data": {
      "text/plain": [
       "LinearRegression()"
      ]
     },
     "execution_count": 24,
     "metadata": {},
     "output_type": "execute_result"
    }
   ],
   "source": [
    "LR_1 = LinearRegression()\n",
    "LR_1.fit(x_train, y_train)"
   ]
  },
  {
   "cell_type": "code",
   "execution_count": 25,
   "metadata": {},
   "outputs": [
    {
     "data": {
      "text/plain": [
       "array([  3.41675687,  -7.27028845,   4.39320806,   0.76573487,\n",
       "         1.26575754,   1.37389773,  -1.59815281,  -1.26795766,\n",
       "        -2.59814401,  -1.72958237,  76.63924094, -83.81797835,\n",
       "        -0.48269173,  -1.3156615 ,  -0.3613038 ,  -0.20280294])"
      ]
     },
     "execution_count": 25,
     "metadata": {},
     "output_type": "execute_result"
    }
   ],
   "source": [
    "LR_1.coef_"
   ]
  },
  {
   "cell_type": "code",
   "execution_count": 26,
   "metadata": {},
   "outputs": [
    {
     "data": {
      "text/plain": [
       "79.60335000772884"
      ]
     },
     "execution_count": 26,
     "metadata": {},
     "output_type": "execute_result"
    }
   ],
   "source": [
    "LR_1.intercept_"
   ]
  },
  {
   "cell_type": "code",
   "execution_count": 27,
   "metadata": {},
   "outputs": [
    {
     "data": {
      "text/plain": [
       "0.9669863192160294"
      ]
     },
     "execution_count": 27,
     "metadata": {},
     "output_type": "execute_result"
    }
   ],
   "source": [
    "LR_1.score(x_train, y_train)"
   ]
  },
  {
   "cell_type": "markdown",
   "metadata": {},
   "source": [
    "Accuracy of the dataset is 96.69 %"
   ]
  },
  {
   "cell_type": "code",
   "execution_count": 28,
   "metadata": {},
   "outputs": [
    {
     "name": "stdout",
     "output_type": "stream",
     "text": [
      "Predicted values:  [74.44532015 80.38120321 79.05585402 58.71294186 80.20180823 79.70002275]\n"
     ]
    }
   ],
   "source": [
    "predicted_x_values = LR_1.predict(x_test)\n",
    "print('Predicted values: ', predicted_x_values)"
   ]
  },
  {
   "cell_type": "code",
   "execution_count": 29,
   "metadata": {
    "scrolled": true
   },
   "outputs": [
    {
     "name": "stdout",
     "output_type": "stream",
     "text": [
      "0.03762866049631375\n"
     ]
    }
   ],
   "source": [
    "from sklearn.model_selection import KFold\n",
    "\n",
    "cv1 = KFold(n_splits=10, shuffle=True)\n",
    "\n",
    "print(cross_val_score(LR_1, X, y, cv=5).mean())"
   ]
  },
  {
   "cell_type": "markdown",
   "metadata": {},
   "source": [
    "CV Score of Linear regression model is 3%."
   ]
  },
  {
   "cell_type": "code",
   "execution_count": 30,
   "metadata": {},
   "outputs": [
    {
     "name": "stdout",
     "output_type": "stream",
     "text": [
      "ERRORS:\n",
      "MEAN ABSOLUTE ERROR:  6.484802428855585\n",
      "MEAN SQUARED ERROR:  71.35564581017354\n",
      "ROOT MEAN SQUARED ERROR:  8.44722710776581\n"
     ]
    }
   ],
   "source": [
    "print('ERRORS:')\n",
    "print(\"MEAN ABSOLUTE ERROR: \", mean_absolute_error(y_test, predicted_x_values))\n",
    "print(\"MEAN SQUARED ERROR: \", mean_squared_error(y_test, predicted_x_values))\n",
    "\n",
    "print('ROOT MEAN SQUARED ERROR: ', np.sqrt(mean_squared_error(y_test, predicted_x_values)))"
   ]
  },
  {
   "cell_type": "code",
   "execution_count": 31,
   "metadata": {},
   "outputs": [
    {
     "name": "stdout",
     "output_type": "stream",
     "text": [
      "r2 Score of Linear Regression model: \n",
      "\n",
      "0.25928395352761024\n"
     ]
    }
   ],
   "source": [
    "print('r2 Score of Linear Regression model: \\n')\n",
    "print(r2_score(y_test, predicted_x_values))"
   ]
  },
  {
   "cell_type": "markdown",
   "metadata": {},
   "source": [
    "# REGULARIZATION METHODS:"
   ]
  },
  {
   "cell_type": "markdown",
   "metadata": {},
   "source": [
    "Lasso Regularization method:"
   ]
  },
  {
   "cell_type": "code",
   "execution_count": 32,
   "metadata": {
    "scrolled": true
   },
   "outputs": [
    {
     "data": {
      "text/plain": [
       "0.9562936456805592"
      ]
     },
     "execution_count": 32,
     "metadata": {},
     "output_type": "execute_result"
    }
   ],
   "source": [
    "LS = Lasso(alpha = 0.01)\n",
    "LS.fit(x_train, y_train)\n",
    "LS.score(x_train, y_train)"
   ]
  },
  {
   "cell_type": "markdown",
   "metadata": {},
   "source": [
    "Checking over fitting of the model using cross validation score:"
   ]
  },
  {
   "cell_type": "code",
   "execution_count": 33,
   "metadata": {},
   "outputs": [
    {
     "name": "stdout",
     "output_type": "stream",
     "text": [
      "0.30962888750184064\n"
     ]
    }
   ],
   "source": [
    "print(cross_val_score(LS, X, y, cv=5).mean())"
   ]
  },
  {
   "cell_type": "markdown",
   "metadata": {},
   "source": [
    "Ridge Regularization method:"
   ]
  },
  {
   "cell_type": "code",
   "execution_count": 34,
   "metadata": {},
   "outputs": [
    {
     "data": {
      "text/plain": [
       "0.9588910675506408"
      ]
     },
     "execution_count": 34,
     "metadata": {},
     "output_type": "execute_result"
    }
   ],
   "source": [
    "RD = Ridge(alpha= 0.01)\n",
    "\n",
    "RD.fit(x_train, y_train)\n",
    "RD.score(x_train, y_train)"
   ]
  },
  {
   "cell_type": "markdown",
   "metadata": {},
   "source": [
    "Checking over fitting of the model using cross validation score:"
   ]
  },
  {
   "cell_type": "code",
   "execution_count": 35,
   "metadata": {},
   "outputs": [
    {
     "name": "stdout",
     "output_type": "stream",
     "text": [
      "0.2775420416974962\n"
     ]
    }
   ],
   "source": [
    "print(cross_val_score(RD, X, y, cv=5).mean())"
   ]
  },
  {
   "cell_type": "markdown",
   "metadata": {},
   "source": [
    "# ELASTIC NET REGULARIZATION METHOD:"
   ]
  },
  {
   "cell_type": "code",
   "execution_count": 36,
   "metadata": {},
   "outputs": [
    {
     "name": "stdout",
     "output_type": "stream",
     "text": [
      "0.9461396060830952\n"
     ]
    },
    {
     "data": {
      "text/plain": [
       "array([ 4.01862567, -0.25429723,  0.78834514, -0.82454123,  0.09525605,\n",
       "       -0.37050551, -1.06595011, -0.36935296, -1.09924599,  4.6181324 ,\n",
       "       -1.88480232, -8.53042727,  1.21391729,  0.467971  ,  4.08834964,\n",
       "       -0.76209627])"
      ]
     },
     "execution_count": 36,
     "metadata": {},
     "output_type": "execute_result"
    }
   ],
   "source": [
    "# elastic net is a combination of both lasso and ridge methods.\n",
    "ENR= ElasticNet(alpha= 0.01)\n",
    "\n",
    "ENR.fit(x_train, y_train)\n",
    "enrpred=ENR.predict(x_test)\n",
    "print(ENR.score(x_train, y_train))\n",
    "ENR.coef_"
   ]
  },
  {
   "cell_type": "code",
   "execution_count": 37,
   "metadata": {
    "scrolled": true
   },
   "outputs": [
    {
     "name": "stdout",
     "output_type": "stream",
     "text": [
      "ERRORS:\n",
      "MEAN ABSOLUTE ERROR:  3.4392465114784656\n",
      "MEAN SQUARED ERROR:  19.81795815395358\n",
      "ROOT MEAN SQUARED ERROR:  4.451736532405481\n"
     ]
    }
   ],
   "source": [
    "print('ERRORS:')\n",
    "print(\"MEAN ABSOLUTE ERROR: \", mean_absolute_error(y_test, enrpred))\n",
    "print(\"MEAN SQUARED ERROR: \", mean_squared_error(y_test, enrpred))\n",
    "print('ROOT MEAN SQUARED ERROR: ', np.sqrt(mean_squared_error(y_test, enrpred)))\n"
   ]
  },
  {
   "cell_type": "markdown",
   "metadata": {},
   "source": [
    "Checking over fitting of the model using cross validation score:"
   ]
  },
  {
   "cell_type": "code",
   "execution_count": 38,
   "metadata": {
    "scrolled": true
   },
   "outputs": [
    {
     "name": "stdout",
     "output_type": "stream",
     "text": [
      "0.32977426108994373\n"
     ]
    }
   ],
   "source": [
    "print(cross_val_score(ENR, X, y, cv=5).mean())"
   ]
  },
  {
   "cell_type": "markdown",
   "metadata": {},
   "source": [
    "# SUPPORT VECTOR REGRESSOR METHOD:"
   ]
  },
  {
   "cell_type": "code",
   "execution_count": 39,
   "metadata": {
    "scrolled": true
   },
   "outputs": [
    {
     "name": "stdout",
     "output_type": "stream",
     "text": [
      "\n",
      "kernel : linear\n",
      "0.9161411626297148\n",
      "\n",
      "kernel : poly\n",
      "0.4546401550946497\n",
      "\n",
      "kernel : rbf\n",
      "0.2648721948929845\n"
     ]
    }
   ],
   "source": [
    "\n",
    "kernellist = ['linear', 'poly', 'rbf']\n",
    "\n",
    "for i in kernellist:\n",
    "    sv = SVR(kernel = i)\n",
    "    sv.fit(x_train, y_train)\n",
    "    print('\\nkernel : ' + i)\n",
    "    print(sv.score(x_train, y_train))"
   ]
  },
  {
   "cell_type": "markdown",
   "metadata": {},
   "source": [
    "As Linear kernel of support vector model is having highest accuracy we can consider that one. "
   ]
  },
  {
   "cell_type": "code",
   "execution_count": 40,
   "metadata": {},
   "outputs": [
    {
     "name": "stdout",
     "output_type": "stream",
     "text": [
      "0.9161411626297148\n"
     ]
    }
   ],
   "source": [
    "# support vector linear model is best model among all kernel paramters as it gave higher accuracy:\n",
    "\n",
    "sv_lr = SVR('linear')\n",
    "sv_lr.fit(x_train, y_train)\n",
    "print(sv_lr.score(x_train, y_train))"
   ]
  },
  {
   "cell_type": "code",
   "execution_count": 41,
   "metadata": {},
   "outputs": [],
   "source": [
    "# predicting x_test dataset\n",
    "svpred=sv_lr.predict(x_test)"
   ]
  },
  {
   "cell_type": "markdown",
   "metadata": {},
   "source": [
    "Checking over fitting of the model using cross validation score:"
   ]
  },
  {
   "cell_type": "code",
   "execution_count": 42,
   "metadata": {},
   "outputs": [
    {
     "name": "stdout",
     "output_type": "stream",
     "text": [
      "0.3079577896379637\n"
     ]
    }
   ],
   "source": [
    "# checking cross validation score of support vector regressor linear model:\n",
    "\n",
    "print(cross_val_score(sv_lr, X, y, cv=5).mean())"
   ]
  },
  {
   "cell_type": "code",
   "execution_count": 43,
   "metadata": {
    "scrolled": true
   },
   "outputs": [
    {
     "name": "stdout",
     "output_type": "stream",
     "text": [
      "ERRORS:\n",
      "MEAN ABSOLUTE ERROR:  4.076126137152542\n",
      "MEAN SQUARED ERROR:  28.495001034036353\n",
      "ROOT MEAN SQUARED ERROR:  5.338070909423774\n"
     ]
    }
   ],
   "source": [
    "# checking errors:\n",
    "\n",
    "print('ERRORS:')\n",
    "print(\"MEAN ABSOLUTE ERROR: \", mean_absolute_error(y_test, svpred))\n",
    "print(\"MEAN SQUARED ERROR: \", mean_squared_error(y_test, svpred))\n",
    "print('ROOT MEAN SQUARED ERROR: ', np.sqrt(mean_squared_error(y_test, svpred)))\n"
   ]
  },
  {
   "cell_type": "code",
   "execution_count": 44,
   "metadata": {},
   "outputs": [
    {
     "name": "stdout",
     "output_type": "stream",
     "text": [
      "0.7042041415151936\n"
     ]
    }
   ],
   "source": [
    "# checking r2 score error of support vector regressor linear model\n",
    "\n",
    "print(r2_score(y_test, svpred))"
   ]
  },
  {
   "cell_type": "markdown",
   "metadata": {},
   "source": [
    "# DECISION TREE REGRESSION METHOD:"
   ]
  },
  {
   "cell_type": "code",
   "execution_count": 45,
   "metadata": {},
   "outputs": [
    {
     "name": "stdout",
     "output_type": "stream",
     "text": [
      "1.0\n"
     ]
    }
   ],
   "source": [
    "# checking decision tree regressor method.\n",
    "\n",
    "dtr = DecisionTreeRegressor()\n",
    "dtr.fit(x_train,y_train)\n",
    "dtr.score(x_train,y_train)\n",
    "preddtr = dtr.predict(x_test)\n",
    "\n",
    "print(dtr.score(x_train, y_train))"
   ]
  },
  {
   "cell_type": "code",
   "execution_count": 46,
   "metadata": {},
   "outputs": [
    {
     "data": {
      "text/plain": [
       "array([80., 98., 64., 64., 68., 68.])"
      ]
     },
     "execution_count": 46,
     "metadata": {},
     "output_type": "execute_result"
    }
   ],
   "source": [
    "y_pred = dtr.predict(x_test)\n",
    "y_pred"
   ]
  },
  {
   "cell_type": "code",
   "execution_count": 47,
   "metadata": {
    "scrolled": true
   },
   "outputs": [
    {
     "name": "stdout",
     "output_type": "stream",
     "text": [
      "ERRORS:\n",
      "MEAN ABSOLUTE ERROR:  8.666666666666666\n",
      "MEAN SQUARED ERROR:  115.0\n",
      "ROOT MEAN SQUARED ERROR:  10.723805294763608\n"
     ]
    }
   ],
   "source": [
    "print('ERRORS:')\n",
    "print(\"MEAN ABSOLUTE ERROR: \", mean_absolute_error(y_test, y_pred))\n",
    "print(\"MEAN SQUARED ERROR: \", mean_squared_error(y_test, y_pred))\n",
    "print('ROOT MEAN SQUARED ERROR: ', np.sqrt(mean_squared_error(y_test, y_pred)))"
   ]
  },
  {
   "cell_type": "markdown",
   "metadata": {},
   "source": [
    "Checking over fitting of the model using cross validation score:"
   ]
  },
  {
   "cell_type": "code",
   "execution_count": 48,
   "metadata": {},
   "outputs": [
    {
     "name": "stdout",
     "output_type": "stream",
     "text": [
      "-1.6217361857249717\n"
     ]
    }
   ],
   "source": [
    "# checking cross validation score of decision tree regressor model\n",
    "cv1 = KFold(n_splits=10, shuffle=True)\n",
    "\n",
    "print(cross_val_score(dtr, X, y, cv=cv1).mean())"
   ]
  },
  {
   "cell_type": "markdown",
   "metadata": {},
   "source": [
    "# RANDOM FOREST REGRESION METHOD:"
   ]
  },
  {
   "cell_type": "code",
   "execution_count": 49,
   "metadata": {},
   "outputs": [],
   "source": [
    "# Using Random forest regressor algorithm.\n",
    "\n",
    "rf = RandomForestRegressor(n_estimators=100)\n",
    "rf.fit(x_train, y_train)\n",
    "pred = rf.predict(x_test)"
   ]
  },
  {
   "cell_type": "code",
   "execution_count": 50,
   "metadata": {},
   "outputs": [
    {
     "name": "stdout",
     "output_type": "stream",
     "text": [
      "0.9518948853709844\n"
     ]
    }
   ],
   "source": [
    "print(rf.score(x_train, y_train))"
   ]
  },
  {
   "cell_type": "code",
   "execution_count": 51,
   "metadata": {},
   "outputs": [
    {
     "name": "stdout",
     "output_type": "stream",
     "text": [
      "ERRORS:\n",
      "MEAN ABSOLUTE ERROR:  5.788333333333331\n",
      "MEAN SQUARED ERROR:  46.33814999999998\n",
      "ROOT MEAN SQUARED ERROR:  6.807213086131503\n"
     ]
    }
   ],
   "source": [
    "print('ERRORS:')\n",
    "print(\"MEAN ABSOLUTE ERROR: \", mean_absolute_error(y_test, pred))\n",
    "print(\"MEAN SQUARED ERROR: \", mean_squared_error(y_test, pred))\n",
    "print('ROOT MEAN SQUARED ERROR: ', np.sqrt(mean_squared_error(y_test, pred)))\n"
   ]
  },
  {
   "cell_type": "markdown",
   "metadata": {},
   "source": [
    "Checking over fitting of the model using cross validation score:"
   ]
  },
  {
   "cell_type": "code",
   "execution_count": 52,
   "metadata": {},
   "outputs": [
    {
     "name": "stdout",
     "output_type": "stream",
     "text": [
      "-1.8643980460156837\n"
     ]
    }
   ],
   "source": [
    "# checking cross validation score of random forest regressor model.\n",
    "cv1 = KFold(n_splits=10, shuffle=True)\n",
    "\n",
    "print(cross_val_score(rf, X, y, cv=cv1).mean())"
   ]
  },
  {
   "cell_type": "markdown",
   "metadata": {},
   "source": [
    "# ADA BOOST REGRESSION METHOD:"
   ]
  },
  {
   "cell_type": "code",
   "execution_count": 53,
   "metadata": {},
   "outputs": [
    {
     "name": "stdout",
     "output_type": "stream",
     "text": [
      "0.9875470283845702\n"
     ]
    }
   ],
   "source": [
    "# Using ada boost regressor algorithm.\n",
    "\n",
    "adr = AdaBoostRegressor(n_estimators=100)\n",
    "adr.fit(x_train, y_train)\n",
    "pred=adr.predict(x_test)\n",
    "print(adr.score(x_train, y_train))"
   ]
  },
  {
   "cell_type": "code",
   "execution_count": 54,
   "metadata": {
    "scrolled": true
   },
   "outputs": [
    {
     "name": "stdout",
     "output_type": "stream",
     "text": [
      "ERRORS:\n",
      "MEAN ABSOLUTE ERROR:  6.018518518518519\n",
      "MEAN SQUARED ERROR:  40.631687242798364\n",
      "ROOT MEAN SQUARED ERROR:  6.37429896088961\n"
     ]
    }
   ],
   "source": [
    "print('ERRORS:')\n",
    "print(\"MEAN ABSOLUTE ERROR: \", mean_absolute_error(y_test, pred))\n",
    "print(\"MEAN SQUARED ERROR: \", mean_squared_error(y_test, pred))\n",
    "print('ROOT MEAN SQUARED ERROR: ', np.sqrt(mean_squared_error(y_test, pred)))"
   ]
  },
  {
   "cell_type": "markdown",
   "metadata": {},
   "source": [
    "Checking over fitting of the model using cross validation score:"
   ]
  },
  {
   "cell_type": "code",
   "execution_count": 55,
   "metadata": {},
   "outputs": [
    {
     "name": "stdout",
     "output_type": "stream",
     "text": [
      "0.06471728701104891\n"
     ]
    }
   ],
   "source": [
    "# checking cross validation score of ada boost regressor model.\n",
    "cv1 = KFold(n_splits=10, shuffle=True)\n",
    "\n",
    "print(cross_val_score(adr, X, y, cv=cv1).mean())"
   ]
  },
  {
   "cell_type": "markdown",
   "metadata": {},
   "source": [
    "# OBSERVATION:"
   ]
  },
  {
   "cell_type": "markdown",
   "metadata": {},
   "source": [
    "OBSERVATION:\n",
    "    \n",
    "    By checking the accuracy score of all the models with their cross validation score we found out that support vector classifier model is our final model having high accuracy with least overfitting."
   ]
  },
  {
   "cell_type": "code",
   "execution_count": 56,
   "metadata": {},
   "outputs": [
    {
     "data": {
      "text/plain": [
       "{'C': 1.0,\n",
       " 'cache_size': 200,\n",
       " 'coef0': 0.0,\n",
       " 'degree': 3,\n",
       " 'epsilon': 0.1,\n",
       " 'gamma': 'scale',\n",
       " 'kernel': 'linear',\n",
       " 'max_iter': -1,\n",
       " 'shrinking': True,\n",
       " 'tol': 0.001,\n",
       " 'verbose': False}"
      ]
     },
     "execution_count": 56,
     "metadata": {},
     "output_type": "execute_result"
    }
   ],
   "source": [
    "# checking parameters used.\n",
    "sv_lr.get_params()"
   ]
  },
  {
   "cell_type": "markdown",
   "metadata": {},
   "source": [
    "# FINDING BEST PARAMETER USING GRID SEARCH CV:\n"
   ]
  },
  {
   "cell_type": "code",
   "execution_count": 79,
   "metadata": {},
   "outputs": [],
   "source": [
    "\n",
    "\n",
    "parameters = {'kernel' : ['linear','rbf'],\n",
    "              'gamma' : ['scale','auto'],\n",
    "              }\n"
   ]
  },
  {
   "cell_type": "code",
   "execution_count": 81,
   "metadata": {},
   "outputs": [],
   "source": [
    "gs_svr = GridSearchCV(SVR(), parameters, cv = 5)"
   ]
  },
  {
   "cell_type": "code",
   "execution_count": 82,
   "metadata": {},
   "outputs": [
    {
     "data": {
      "text/plain": [
       "GridSearchCV(cv=5, estimator=SVR(),\n",
       "             param_grid={'gamma': ['scale', 'auto'],\n",
       "                         'kernel': ['linear', 'rbf']})"
      ]
     },
     "execution_count": 82,
     "metadata": {},
     "output_type": "execute_result"
    }
   ],
   "source": [
    "gs_svr.fit(x_train, y_train)"
   ]
  },
  {
   "cell_type": "code",
   "execution_count": 83,
   "metadata": {
    "scrolled": true
   },
   "outputs": [
    {
     "data": {
      "text/plain": [
       "{'gamma': 'scale', 'kernel': 'linear'}"
      ]
     },
     "execution_count": 83,
     "metadata": {},
     "output_type": "execute_result"
    }
   ],
   "source": [
    "gs_svr.best_params_"
   ]
  },
  {
   "cell_type": "markdown",
   "metadata": {},
   "source": [
    "Observation:\n",
    "    Our best parameters for support vector algorithm is gamma = scale, kernel = linear."
   ]
  },
  {
   "cell_type": "markdown",
   "metadata": {},
   "source": [
    "# FINAL MODEL MAKING:"
   ]
  },
  {
   "cell_type": "code",
   "execution_count": 84,
   "metadata": {},
   "outputs": [
    {
     "data": {
      "text/plain": [
       "SVR(kernel='linear')"
      ]
     },
     "execution_count": 84,
     "metadata": {},
     "output_type": "execute_result"
    }
   ],
   "source": [
    "# using best parameters for tuning the model.\n",
    "\n",
    "sv_lr_f = SVR(kernel = 'linear', gamma = 'scale')\n",
    "sv_lr_f.fit(x_train, y_train)\n",
    "\n",
    "\n",
    "\n"
   ]
  },
  {
   "cell_type": "code",
   "execution_count": 85,
   "metadata": {
    "scrolled": true
   },
   "outputs": [
    {
     "name": "stdout",
     "output_type": "stream",
     "text": [
      "0.9161411626297148\n"
     ]
    }
   ],
   "source": [
    "print(sv_lr_f.score(x_train, y_train))"
   ]
  },
  {
   "cell_type": "markdown",
   "metadata": {},
   "source": [
    "Observation: After hyper tuning parameters technique also, we could not improve the accuracy of the model, which turned out to be same."
   ]
  },
  {
   "cell_type": "code",
   "execution_count": 86,
   "metadata": {},
   "outputs": [],
   "source": [
    "svpred_f=sv_lr_f.predict(x_test)"
   ]
  },
  {
   "cell_type": "markdown",
   "metadata": {},
   "source": [
    "# CHECKING ERRORS OF THE FINAL MODEL:"
   ]
  },
  {
   "cell_type": "code",
   "execution_count": 87,
   "metadata": {},
   "outputs": [
    {
     "name": "stdout",
     "output_type": "stream",
     "text": [
      "ERRORS:\n",
      "MEAN ABSOLUTE ERROR:  4.076126137152542\n",
      "MEAN SQUARED ERROR:  28.495001034036353\n",
      "ROOT MEAN SQUARED ERROR:  5.338070909423774\n"
     ]
    }
   ],
   "source": [
    "print('ERRORS:')\n",
    "print(\"MEAN ABSOLUTE ERROR: \", mean_absolute_error(y_test, svpred_f))\n",
    "print(\"MEAN SQUARED ERROR: \", mean_squared_error(y_test, svpred_f))\n",
    "print('ROOT MEAN SQUARED ERROR: ', np.sqrt(mean_squared_error(y_test, svpred_f)))\n"
   ]
  },
  {
   "cell_type": "code",
   "execution_count": 88,
   "metadata": {},
   "outputs": [
    {
     "name": "stdout",
     "output_type": "stream",
     "text": [
      "0.7042041415151936\n"
     ]
    }
   ],
   "source": [
    "print(r2_score(y_test, svpred_f))"
   ]
  },
  {
   "cell_type": "markdown",
   "metadata": {},
   "source": [
    "Checking over fitting of the model using cross validation score:"
   ]
  },
  {
   "cell_type": "code",
   "execution_count": 89,
   "metadata": {},
   "outputs": [
    {
     "name": "stdout",
     "output_type": "stream",
     "text": [
      "0.3079577896379637\n"
     ]
    }
   ],
   "source": [
    "print(cross_val_score(sv_lr, X, y, cv=5).mean())"
   ]
  },
  {
   "cell_type": "markdown",
   "metadata": {},
   "source": [
    "# SAVING THE DATASET:"
   ]
  },
  {
   "cell_type": "code",
   "execution_count": 67,
   "metadata": {
    "scrolled": true
   },
   "outputs": [
    {
     "data": {
      "text/plain": [
       "['Vaibhav_baseball_project_model.pkl']"
      ]
     },
     "execution_count": 67,
     "metadata": {},
     "output_type": "execute_result"
    }
   ],
   "source": [
    "import joblib\n",
    "joblib.dump(sv_lr_f, 'Vaibhav_baseball_project_model.pkl')"
   ]
  },
  {
   "cell_type": "markdown",
   "metadata": {},
   "source": [
    "# RELOADING THE DATASET:"
   ]
  },
  {
   "cell_type": "code",
   "execution_count": 68,
   "metadata": {
    "scrolled": true
   },
   "outputs": [
    {
     "data": {
      "text/plain": [
       "array([ 71.10038596,  94.89992941,  78.92840409,  73.05186785,\n",
       "        92.58743969,  83.15186195,  72.01449395,  80.93582269,\n",
       "        70.03603463,  86.90001021,  81.10047786,  89.50852159,\n",
       "        74.01234872,  62.89959515,  84.98655518,  66.06842942,\n",
       "        68.09992902,  83.09949105,  89.38917666,  83.74326976,\n",
       "       100.10033395,  90.09984653,  82.20136044])"
      ]
     },
     "execution_count": 68,
     "metadata": {},
     "output_type": "execute_result"
    }
   ],
   "source": [
    "#Reloading the model and predicting the dataset.\n",
    "SVR_Vaibhav_baseball_project_model = joblib.load('Vaibhav_baseball_project_model.pkl')\n",
    "SVR_Vaibhav_baseball_project_model.predict(x_train)"
   ]
  },
  {
   "cell_type": "markdown",
   "metadata": {},
   "source": [
    "# CONCLUSION:"
   ]
  },
  {
   "cell_type": "markdown",
   "metadata": {},
   "source": [
    "CONCLUSION:\n",
    "    \n",
    "    Our final model is having accuracy of 91.61 % with less overfitting."
   ]
  },
  {
   "cell_type": "markdown",
   "metadata": {},
   "source": [
    "# THANK YOU"
   ]
  },
  {
   "cell_type": "code",
   "execution_count": null,
   "metadata": {},
   "outputs": [],
   "source": []
  }
 ],
 "metadata": {
  "kernelspec": {
   "display_name": "Python 3",
   "language": "python",
   "name": "python3"
  },
  "language_info": {
   "codemirror_mode": {
    "name": "ipython",
    "version": 3
   },
   "file_extension": ".py",
   "mimetype": "text/x-python",
   "name": "python",
   "nbconvert_exporter": "python",
   "pygments_lexer": "ipython3",
   "version": "3.7.6"
  }
 },
 "nbformat": 4,
 "nbformat_minor": 4
}
