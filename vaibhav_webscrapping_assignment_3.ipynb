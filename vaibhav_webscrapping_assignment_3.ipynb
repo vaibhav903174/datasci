{
 "cells": [
  {
   "cell_type": "code",
   "execution_count": 1,
   "metadata": {},
   "outputs": [],
   "source": [
    "#import all the required libraries\n",
    "import pandas as pd\n",
    "import selenium\n",
    "from selenium import webdriver\n",
    "import time\n",
    "from selenium.common.exceptions import StaleElementReferenceException, NoSuchElementException\n"
   ]
  },
  {
   "cell_type": "markdown",
   "metadata": {},
   "source": [
    "# Question 1)"
   ]
  },
  {
   "cell_type": "markdown",
   "metadata": {},
   "source": [
    "Write a python program which searches all the product under a particular product from\n",
    "www.amazon.in. The product to be searched will be taken as input from user. For e.g. If user \n",
    "input is ‘guitar’. Then search for guitars"
   ]
  },
  {
   "cell_type": "code",
   "execution_count": 19,
   "metadata": {},
   "outputs": [],
   "source": [
    "# lets first connect to the webdriver\n",
    "driver = webdriver.Chrome(r\"C:\\Users\\vaibhav\\Desktop\\Data science\\FlipRobo Projects\\Web Scrapping 2\\chromedriver.exe\")"
   ]
  },
  {
   "cell_type": "code",
   "execution_count": 20,
   "metadata": {},
   "outputs": [],
   "source": [
    "url = 'https://www.amazon.in'\n",
    "driver.get(url)"
   ]
  },
  {
   "cell_type": "code",
   "execution_count": 21,
   "metadata": {},
   "outputs": [],
   "source": [
    "search_field=driver.find_element_by_id(\"twotabsearchtextbox\") #product search\n",
    "search_field.send_keys(\"Guitars\")"
   ]
  },
  {
   "cell_type": "code",
   "execution_count": 22,
   "metadata": {},
   "outputs": [],
   "source": [
    "search_button=driver.find_element_by_xpath(\"//div[@class='nav-search-submit nav-sprite']\")\n",
    "search_button.click()\n"
   ]
  },
  {
   "cell_type": "markdown",
   "metadata": {},
   "source": [
    "# Question 2)"
   ]
  },
  {
   "cell_type": "markdown",
   "metadata": {},
   "source": [
    "In the above question, now scrape the following details of each product listed in first 3 pages \n",
    "of your search results and save it in a dataframe and csv. In case if any product has less than 3 \n",
    "pages in search results then scrape all the products available under that product vertical. \n",
    "Details to be scraped are: \"Brand Name\", \"Name of the Product\", \"Rating\", \"No. of Ratings\", \n",
    "\"Price\", \"Return/Exchange\", \"Expected Delivery\", \"Availability\", \"Other Details\" and \n",
    "“Product URL”. In case, if any of the details are missing for any of the product then replace it \n",
    "by “-“.\n"
   ]
  },
  {
   "cell_type": "code",
   "execution_count": 6,
   "metadata": {},
   "outputs": [],
   "source": [
    "brand_name = []\n",
    "Name_of_the_Product = []\n",
    "Rating = []\n",
    "No_of_Ratings = []\n",
    "Price=[]\n",
    "Return_Exchange = []\n",
    "Expected_Delivery = []\n",
    "Availability = []\n",
    "Other_Details = []\n",
    "Product_URL = []"
   ]
  },
  {
   "cell_type": "code",
   "execution_count": 7,
   "metadata": {},
   "outputs": [],
   "source": [
    "urls = []\n",
    "nxt_button = []\n",
    "page_urls = []\n",
    "page_url = []\n",
    "# to extract data from multiple pages:\n",
    "#scrapping the required details\n",
    "start=1\n",
    "end=4\n",
    "for page in range(start,end):#for loop for scrapping 4 page\n",
    "    urls = driver.find_elements_by_xpath('//a[@class=\"a-link-normal a-text-normal\"]')\n",
    "    for i in urls:\n",
    "        page_urls.append(i.get_attribute('href'))\n",
    "    nxt_button=driver.find_element_by_xpath(\"//li[@class='a-last']//a\")\n",
    "    driver.get(nxt_button.get_attribute('href'))"
   ]
  },
  {
   "cell_type": "code",
   "execution_count": 8,
   "metadata": {
    "scrolled": true
   },
   "outputs": [
    {
     "name": "stdout",
     "output_type": "stream",
     "text": [
      "160\n"
     ]
    }
   ],
   "source": [
    "print(len(page_urls))"
   ]
  },
  {
   "cell_type": "code",
   "execution_count": 23,
   "metadata": {},
   "outputs": [],
   "source": [
    "page_url = page_urls[:5]"
   ]
  },
  {
   "cell_type": "code",
   "execution_count": null,
   "metadata": {},
   "outputs": [],
   "source": [
    "#page_url"
   ]
  },
  {
   "cell_type": "code",
   "execution_count": 11,
   "metadata": {},
   "outputs": [],
   "source": [
    "brand_name = []\n",
    "for i in page_urls:\n",
    "    driver.get(i)\n",
    "    try:\n",
    "        brand = driver.find_element_by_xpath(\"/html/body/div[2]/div[2]/div[6]/div[11]/div/div/div/div[2]/div[1]/div/div/table/tbody/tr[5]/td\")\n",
    "        #titles_brand\n",
    "        brand_name.append(brand.text)\n",
    "    except NoSuchElementException:\n",
    "        brand_name.append('no brand name')\n",
    "    time.sleep(2)\n"
   ]
  },
  {
   "cell_type": "code",
   "execution_count": 12,
   "metadata": {
    "scrolled": true
   },
   "outputs": [
    {
     "data": {
      "text/plain": [
       "['no brand name',\n",
       " 'Kadence',\n",
       " 'no brand name',\n",
       " 'no brand name',\n",
       " 'Juârez',\n",
       " 'YAMONA INDUSTRIAL CO.',\n",
       " 'no brand name',\n",
       " 'Juârez',\n",
       " 'no brand name',\n",
       " 'no brand name',\n",
       " 'no brand name',\n",
       " 'no brand name',\n",
       " 'no brand name',\n",
       " 'Juârez',\n",
       " 'no brand name',\n",
       " 'Juârez',\n",
       " 'Juarez',\n",
       " 'no brand name',\n",
       " 'Juârez',\n",
       " 'no brand name',\n",
       " 'no brand name',\n",
       " 'no brand name',\n",
       " 'no brand name',\n",
       " 'no brand name',\n",
       " 'no brand name',\n",
       " 'no brand name',\n",
       " 'no brand name',\n",
       " 'no brand name',\n",
       " 'no brand name',\n",
       " 'no brand name',\n",
       " 'MUSTANG, MUSTANG®, SUNNY MUSICAL EMPORIUM 3661 NETAJI SUBHASH MARG DARYA GANJ PH – 9818073053',\n",
       " 'no brand name',\n",
       " 'no brand name',\n",
       " 'no brand name',\n",
       " 'no brand name',\n",
       " 'no brand name',\n",
       " 'no brand name',\n",
       " 'no brand name',\n",
       " 'no brand name',\n",
       " 'no brand name',\n",
       " 'no brand name',\n",
       " 'no brand name',\n",
       " 'no brand name',\n",
       " 'no brand name',\n",
       " 'no brand name',\n",
       " 'no brand name',\n",
       " 'no brand name',\n",
       " 'no brand name',\n",
       " 'no brand name',\n",
       " 'no brand name',\n",
       " 'Yamona, Yamona',\n",
       " 'no brand name',\n",
       " 'no brand name',\n",
       " 'no brand name',\n",
       " 'no brand name',\n",
       " 'no brand name',\n",
       " 'no brand name',\n",
       " 'no brand name',\n",
       " 'no brand name',\n",
       " 'no brand name',\n",
       " 'no brand name',\n",
       " 'no brand name',\n",
       " 'no brand name',\n",
       " 'no brand name',\n",
       " 'no brand name',\n",
       " 'no brand name',\n",
       " 'no brand name',\n",
       " 'JUAREZ, JUAREZ',\n",
       " 'no brand name',\n",
       " 'no brand name',\n",
       " 'no brand name',\n",
       " 'MUSTANG, MUSTANG®, SUNNY MUSICAL EMPORIUM 3661 NETAJI SUBHASH MARG DARYA GANJ PH – 9818073053',\n",
       " 'no brand name',\n",
       " 'no brand name',\n",
       " 'JUAREZ, JUAREZ',\n",
       " 'no brand name',\n",
       " 'no brand name',\n",
       " 'no brand name',\n",
       " 'no brand name',\n",
       " 'no brand name',\n",
       " 'no brand name',\n",
       " 'no brand name',\n",
       " 'no brand name',\n",
       " 'no brand name',\n",
       " 'no brand name',\n",
       " 'no brand name',\n",
       " 'no brand name',\n",
       " 'MUSTANG®, SUNNY MUSICAL EMPORIUM 3661 NETAJI SUBHASH MARG DARYA GANJ PH – 9818073053',\n",
       " 'no brand name',\n",
       " 'no brand name',\n",
       " 'no brand name',\n",
       " 'no brand name',\n",
       " 'Juarez, Yamona',\n",
       " 'no brand name',\n",
       " 'Juarez, Yamona',\n",
       " 'no brand name',\n",
       " 'no brand name',\n",
       " 'no brand name',\n",
       " 'no brand name',\n",
       " 'no brand name',\n",
       " 'no brand name',\n",
       " 'no brand name',\n",
       " 'no brand name',\n",
       " 'no brand name',\n",
       " 'no brand name',\n",
       " 'no brand name',\n",
       " 'no brand name',\n",
       " 'no brand name',\n",
       " 'no brand name',\n",
       " 'no brand name',\n",
       " 'no brand name',\n",
       " 'no brand name',\n",
       " 'no brand name',\n",
       " 'no brand name',\n",
       " 'no brand name',\n",
       " 'no brand name',\n",
       " 'no brand name',\n",
       " 'no brand name',\n",
       " 'no brand name',\n",
       " 'Juarez, Yamona',\n",
       " 'no brand name',\n",
       " 'no brand name',\n",
       " 'no brand name',\n",
       " 'Blueberry, Riddhi shiddi Venture',\n",
       " 'no brand name',\n",
       " 'no brand name',\n",
       " 'no brand name',\n",
       " 'no brand name',\n",
       " 'Juarez, Yamona',\n",
       " 'no brand name',\n",
       " 'Fender',\n",
       " 'YAMONA INDUSTRIAL CO.',\n",
       " 'no brand name',\n",
       " 'no brand name',\n",
       " 'no brand name',\n",
       " 'no brand name',\n",
       " 'no brand name',\n",
       " 'Martin Smith',\n",
       " 'no brand name',\n",
       " 'Intern',\n",
       " 'no brand name',\n",
       " 'no brand name',\n",
       " 'no brand name',\n",
       " 'no brand name',\n",
       " 'no brand name',\n",
       " 'Juarez, Yamona',\n",
       " 'no brand name',\n",
       " 'no brand name',\n",
       " 'no brand name',\n",
       " 'no brand name',\n",
       " 'Cort',\n",
       " 'no brand name',\n",
       " 'no brand name',\n",
       " 'Bhandari Musical Shoppe',\n",
       " 'no brand name',\n",
       " 'no brand name',\n",
       " 'no brand name',\n",
       " 'no brand name',\n",
       " 'Guangzhou Hipatti Trading Co., Ltd, Guangzhou Hipatti Trading Co., Ltd Room 14, Room 307, No. 2, Yishou Street, Sanyuanli Avenue, Tangjing Street, Baiyun District, Guangzhou,China',\n",
       " 'no brand name']"
      ]
     },
     "execution_count": 12,
     "metadata": {},
     "output_type": "execute_result"
    }
   ],
   "source": [
    "brand_name"
   ]
  },
  {
   "cell_type": "code",
   "execution_count": 16,
   "metadata": {},
   "outputs": [],
   "source": [
    "for i in page_urls:\n",
    "    driver.get(i)\n",
    "    try:\n",
    "        product_name = driver.find_element_by_xpath(\"/html/body/div[2]/div[2]/div[5]/div[4]/div[4]/div[1]/div/h1/span\")\n",
    "        #titles_brand\n",
    "        Name_of_the_Product.append(product_name.text)\n",
    "    except NoSuchElementException:\n",
    "        Name_of_the_Product.append('no product name')\n",
    "    time.sleep(2)"
   ]
  },
  {
   "cell_type": "code",
   "execution_count": 17,
   "metadata": {
    "scrolled": true
   },
   "outputs": [
    {
     "data": {
      "text/plain": [
       "['no brand name',\n",
       " 'Kadence',\n",
       " 'no brand name',\n",
       " 'no brand name',\n",
       " 'Juârez',\n",
       " 'YAMONA INDUSTRIAL CO.',\n",
       " 'no brand name',\n",
       " 'Juârez',\n",
       " 'no brand name',\n",
       " 'no brand name',\n",
       " 'no brand name',\n",
       " 'no brand name',\n",
       " 'no brand name',\n",
       " 'Juârez',\n",
       " 'no brand name',\n",
       " 'Juârez',\n",
       " 'Juarez',\n",
       " 'no brand name',\n",
       " 'Juârez',\n",
       " 'no brand name',\n",
       " 'no brand name',\n",
       " 'no brand name',\n",
       " 'no brand name',\n",
       " 'no brand name',\n",
       " 'no brand name',\n",
       " 'no brand name',\n",
       " 'no brand name',\n",
       " 'no brand name',\n",
       " 'no brand name',\n",
       " 'no brand name',\n",
       " 'MUSTANG, MUSTANG®, SUNNY MUSICAL EMPORIUM 3661 NETAJI SUBHASH MARG DARYA GANJ PH – 9818073053',\n",
       " 'no brand name',\n",
       " 'no brand name',\n",
       " 'no brand name',\n",
       " 'no brand name',\n",
       " 'no brand name',\n",
       " 'no brand name',\n",
       " 'no brand name',\n",
       " 'no brand name',\n",
       " 'no brand name',\n",
       " 'no brand name',\n",
       " 'no brand name',\n",
       " 'no brand name',\n",
       " 'no brand name',\n",
       " 'no brand name',\n",
       " 'no brand name',\n",
       " 'no brand name',\n",
       " 'no brand name',\n",
       " 'no brand name',\n",
       " 'no brand name',\n",
       " 'Yamona, Yamona',\n",
       " 'no brand name',\n",
       " 'no brand name',\n",
       " 'no brand name',\n",
       " 'no brand name',\n",
       " 'no brand name',\n",
       " 'no brand name',\n",
       " 'no brand name',\n",
       " 'no brand name',\n",
       " 'no brand name',\n",
       " 'no brand name',\n",
       " 'no brand name',\n",
       " 'no brand name',\n",
       " 'no brand name',\n",
       " 'no brand name',\n",
       " 'no brand name',\n",
       " 'no brand name',\n",
       " 'JUAREZ, JUAREZ',\n",
       " 'no brand name',\n",
       " 'no brand name',\n",
       " 'no brand name',\n",
       " 'MUSTANG, MUSTANG®, SUNNY MUSICAL EMPORIUM 3661 NETAJI SUBHASH MARG DARYA GANJ PH – 9818073053',\n",
       " 'no brand name',\n",
       " 'no brand name',\n",
       " 'JUAREZ, JUAREZ',\n",
       " 'no brand name',\n",
       " 'no brand name',\n",
       " 'no brand name',\n",
       " 'no brand name',\n",
       " 'no brand name',\n",
       " 'no brand name',\n",
       " 'no brand name',\n",
       " 'no brand name',\n",
       " 'no brand name',\n",
       " 'no brand name',\n",
       " 'no brand name',\n",
       " 'no brand name',\n",
       " 'MUSTANG®, SUNNY MUSICAL EMPORIUM 3661 NETAJI SUBHASH MARG DARYA GANJ PH – 9818073053',\n",
       " 'no brand name',\n",
       " 'no brand name',\n",
       " 'no brand name',\n",
       " 'no brand name',\n",
       " 'Juarez, Yamona',\n",
       " 'no brand name',\n",
       " 'Juarez, Yamona',\n",
       " 'no brand name',\n",
       " 'no brand name',\n",
       " 'no brand name',\n",
       " 'no brand name',\n",
       " 'no brand name',\n",
       " 'no brand name',\n",
       " 'no brand name',\n",
       " 'no brand name',\n",
       " 'no brand name',\n",
       " 'no brand name',\n",
       " 'no brand name',\n",
       " 'no brand name',\n",
       " 'no brand name',\n",
       " 'no brand name',\n",
       " 'no brand name',\n",
       " 'no brand name',\n",
       " 'no brand name',\n",
       " 'no brand name',\n",
       " 'no brand name',\n",
       " 'no brand name',\n",
       " 'no brand name',\n",
       " 'no brand name',\n",
       " 'no brand name',\n",
       " 'no brand name',\n",
       " 'Juarez, Yamona',\n",
       " 'no brand name',\n",
       " 'no brand name',\n",
       " 'no brand name',\n",
       " 'Blueberry, Riddhi shiddi Venture',\n",
       " 'no brand name',\n",
       " 'no brand name',\n",
       " 'no brand name',\n",
       " 'no brand name',\n",
       " 'Juarez, Yamona',\n",
       " 'no brand name',\n",
       " 'Fender',\n",
       " 'YAMONA INDUSTRIAL CO.',\n",
       " 'no brand name',\n",
       " 'no brand name',\n",
       " 'no brand name',\n",
       " 'no brand name',\n",
       " 'no brand name',\n",
       " 'Martin Smith',\n",
       " 'no brand name',\n",
       " 'Intern',\n",
       " 'no brand name',\n",
       " 'no brand name',\n",
       " 'no brand name',\n",
       " 'no brand name',\n",
       " 'no brand name',\n",
       " 'Juarez, Yamona',\n",
       " 'no brand name',\n",
       " 'no brand name',\n",
       " 'no brand name',\n",
       " 'no brand name',\n",
       " 'Cort',\n",
       " 'no brand name',\n",
       " 'no brand name',\n",
       " 'Bhandari Musical Shoppe',\n",
       " 'no brand name',\n",
       " 'no brand name',\n",
       " 'no brand name',\n",
       " 'no brand name',\n",
       " 'Guangzhou Hipatti Trading Co., Ltd, Guangzhou Hipatti Trading Co., Ltd Room 14, Room 307, No. 2, Yishou Street, Sanyuanli Avenue, Tangjing Street, Baiyun District, Guangzhou,China',\n",
       " 'no brand name',\n",
       " 'Kadence Frontier Jumbo Semi Acoustic Guitar With Die Cast Keys,Super Combo (Bag, 1 pack Strings, Strap, Picks, Capo, Tuner (black & stand)',\n",
       " 'no product name',\n",
       " 'Kadence Slowhand Premium Jumbo Semi Acoustic Guitar with Heavy Padded Bag, guitar cable, Pro Capo and Fibre guitar stand (Black Spruce Wood)',\n",
       " 'GUITAR BRO - COMBO (Black Acoustic Guitar for Beginner, Guitar Learning Kit, Song Book, Video Lectures, Accessories like Pick, Bag)',\n",
       " 'no product name',\n",
       " 'no product name',\n",
       " 'no product name',\n",
       " 'no product name',\n",
       " 'no product name',\n",
       " 'no product name',\n",
       " 'Vault EA40 Premium 41 inch Spruce-Top Cutaway Acoustic Guitar',\n",
       " 'no product name',\n",
       " 'no product name',\n",
       " 'no product name',\n",
       " 'Giuson Venus Black 41 Inch Rosewood Fretboard Acoustic Guitar With Bag,Strap,1 Set of Extra Strings and 2 Picks by K-Retail',\n",
       " 'no product name',\n",
       " 'no product name',\n",
       " \"Crizer 4 String Guitar Children's Musical Instrument Educational Toy Guitar Ukulele Instruments Beginner Musical Sound Toys Best Gift for Children\",\n",
       " 'no product name',\n",
       " 'Royal Kids Guitar Toys for Kids 4-String Acoustic Guitar Musical Instrument Learning Toy for Kids ( 17 inches )- Multi Color',\n",
       " 'Guitar Tuner Tuner Guitar Tuner Clip On for Guitar Ukulele Violin Viola Bass Chromatic Tuning Modes 360 Degree Rotating Fast & Accurate',\n",
       " 'BEBLY™ 4 Strings Acoustic Guitar (Yellow,THHDGS-B4yellow)',\n",
       " 'Guitar Accessories Set 9 Pieces Guitar Tool Kit Including Guitar Capo Tuner String Winder Guitar Picks Guitar Bones Pick Holder for acoustic electric guitar player',\n",
       " 'Perlman Guitar Fretboard, Fingerboard Stickers, Decals Tool for Learner Or Beginner',\n",
       " 'GUITAR BRO - Guitar Learning Combo (30 Day Learning Kit + 4 Live 1-on-1 Classes (each class is 20 mins, Access Key Inside the Kit), Acoustic Guitars Accessories, Picks, Songbook, Videos)',\n",
       " 'Honestum 4-string acoustic guitar learning kids toy, brown 18-Multi color',\n",
       " 'DEVICE OF URBAN INFOTECH 360 degree Rotational Electronic Highly Accurate Clip-on Digital Tuner Easy to Use for Acoustic and Electric Guitar Bass Violin Ukulele with Picks(Design May Vary)',\n",
       " 'HRB MUSICALS GUITAR FLOOR STAND +GUITAR CAPO + ALICE STRING SET + AND GUITAR STRING WINDER',\n",
       " 'no product name',\n",
       " 'Kadence Acoustica A05 semi acoustic guitar Zebra Wood with Bag',\n",
       " 'no product name',\n",
       " 'Luximal 4 String Musical Guitar For Kids Instrument Acoustic Learning Educational Small Toy For Child with Ability Random Brown Color Best Gift For Boys & Girls',\n",
       " 'no product name',\n",
       " 'no product name',\n",
       " 'TECHBLAZE Acoustic Guitar Strings, Guitar Wall Mount, Guitar Metal Capo with 5 picks Best Guitar Accessory Combo Pack',\n",
       " 'INFINITY 6-String 24\" Acoustic Guitar Kids Toy Big Size Musical Instrument Educational for Children\\'s Toy Guitar Ukulele Instruments Beginner Musical Sound Toys Best Gift for Kids Boys and Girls ( Brown )',\n",
       " 'Kadence A311, 41” Jumbo Size 6-strings Acoustic Guitar, Natural',\n",
       " 'no product name',\n",
       " 'Laxmi Musical Electronics - Acoustic Pickup for veena, Violin, Guitar and All Acoustic String Instruments',\n",
       " 'no product name',\n",
       " 'DRAVYONY 4-String Acoustic Guitar Learning Kids Toy, Brown 18-Multi Color',\n",
       " 'no product name',\n",
       " 'MUSTANG MT THM06 Guitar Pick  (Pack of 6)',\n",
       " 'CARTIFY 4-string acoustic guitar learning kids toy, brown 18-Multi color',\n",
       " 'no product name',\n",
       " 'DEVICE OF URBAN INFOTECH Tuning Peg Silver for Acoustic Guitar Parts Tuners Keys Semi-closed Guitar String Tuning Pegs Tuner Machine Heads Knobs Tuning Keys for Acoustic & Electric Guitar 3R+3L (6PCS)',\n",
       " 'Divinext Audio Interface AMP Guitar Effects Pedal for iPhone/iPad',\n",
       " 'DEVICE OF URBAN INFOTECH 360 degree Rotational Electronic Highly Accurate Clip-on Digital Tuner Easy to Use for Acoustic and Electric Guitar Bass Violin Ukulele with Picks(Design May Vary)',\n",
       " 'DEVICE OF URBAN INFOTECH Tuning Peg Silver for Acoustic Guitar Parts Tuners Keys Semi-closed Guitar String Tuning Pegs Tuner Machine Heads Knobs Tuning Keys for Acoustic & Electric Guitar 3R+3L(6 PCS)',\n",
       " 'Vault EA40 Premium 41 inch Spruce-Top Cutaway Acoustic Guitar',\n",
       " 'no product name',\n",
       " 'no product name',\n",
       " 'no product name',\n",
       " 'SOUVENIR 360 Degree Guitar Tuner | Digital Calibration Tuner with LCD Display for Guitar Easy to Use Highly Accurate Clip-on Electronic Tuner for Acoustic and Electric Guitar (3-Picks Included)',\n",
       " \"OOM AKSHAR 4 String Decor Guitar Children's Musical Instrument Educational Toy Small Guitar for Beginners Kids Child - 23Inch\",\n",
       " 'Yamaha FS100C Acoustic Guitar, Natural',\n",
       " 'Gibson Gear SAG-CPB13 Coated Phosphor Bronze Acoustic Guitar Strings 13-56, Medium, Steel',\n",
       " 'Aria FET M2 Meranti Thin-Body Cutaway Acoustic Guitar - Ironwood Fretboard',\n",
       " 'Kadence Frontier Series, Acoustic Guitar With/Wihtout EQ Die Cast Keys Combo (Bag,strap,strings and 3 picks) (Black, Semi/Electro Acoustic)',\n",
       " \"Paybox 4 String Guitar Children's Musical Instrument Educational Toy Guitar Ukulele Instruments Beginner Musical Sound Toys Best Gift for Children\",\n",
       " 'DEVICE OF URBAN INFOTECH Tuning Peg Silver for Acoustic Guitar Parts Tuners Keys Semi-closed Guitar String Tuning Pegs Tuner Machine Heads Knobs Tuning Keys for Acoustic & Electric Guitar 3R+3L(6 PCS)',\n",
       " 'DEVICE OF URBAN INFOTECH Tuning Peg Silver for Acoustic Guitar Parts Tuners Keys Semi-closed Guitar String Tuning Pegs Tuner Machine Heads Knobs Tuning Keys for Acoustic & Electric Guitar 3R+3L (6PCS)',\n",
       " 'Kadence Slowhand Premium Jumbo Size Semi Acoustic Guitar with Heavy Padded Bag, guitar cable, Pro Capo and Fibre guitar stand (Mahagony Wood)',\n",
       " 'GUITAR BRO - COMBO (Blue Acoustic Guitar for Beginner, Guitar Learning Kit, Song Book, Video Lectures, Accessories like Pick, Bag)',\n",
       " 'HRB MUSICALS Stainless Steel Acoustic Guitar string 1st E String 2pc, 2nd B string 2pc, (Pack of 4 Pieces)',\n",
       " 'Kadence Slowhand Premium Jumbo Semi Acoustic Guitar with Heavy Padded Bag, guitar cable, Pro Capo and Fibre guitar stand (Black Spruce Wood)',\n",
       " \"CBOX 4 String Guitar Children's Musical Instrument Educational Toy Guitar Ukulele Instruments Beginner Musical Sound Toys Best Gift for Childrens\",\n",
       " 'no product name',\n",
       " 'ALOKRUPSWAM Kids Guitar, Beginner Toy Guitar for Boys Girls Toddlers 17 Inch',\n",
       " 'ALOKRUPSWAM Symphony Wooden Play Guitar, Kids Musical Instrument Toy, Gift for Ages 3+',\n",
       " 'no product name',\n",
       " 'no product name',\n",
       " 'H B Sales Guitar Toys for Kids 4 - String Acoustic Guitar Musical Instrument Learning Toy for Kids 17\" Multi Colour',\n",
       " \"SIOPAWORLD 4 String Guitar Children's Musical Instrument Educational Toy Guitar Ukulele Instruments Beginner Musical Sound Toys\",\n",
       " 'no product name',\n",
       " 'Blueberry 38 Inch Acoustic Guitar Kit Inbuilt Truss Rod, with Bag,Belt, One Pack Strings And Picks (Brown)',\n",
       " 'Kadence Acoustica 34” Acoustic Guitar A03',\n",
       " 'Givson Ketostics Venus Special VS-BLK, Acoustic Guitar Combo with Cover/Bag, String Set, Belt and Picks',\n",
       " 'Tuner Clip on Chromatic Guitar Bass Violin Ukulele Include Guitar Capo and Picks and Holder (01 Tuner and black capo)',\n",
       " 'TECHBLAZE 6 Pcs Guitar Keys for Acoustic Guitar Chrome Tuning Pegs Keys 3 Left 3 Right Guitar Machine Heads Knobs With Strap Button Locks Guitar Keys 3R+3L 6 pieces- Chrome',\n",
       " \"Crizer Guitar Toy For Kids 4-String Musical Acoustic Guitar Toy, Children's Musical Learning Educational Instruments for Beginners with Ability Random Brown Color Best Gift for Boys & Girls- 24 Inch\",\n",
       " 'Gitesh 4-string acoustic guitar learning kids toy, brown 18-Multi color',\n",
       " 'no product name',\n",
       " 'SG MUSICAL Guitar String 1st + 4 pcs. Plectrums BYTD',\n",
       " \"DIKUJI ENTERPRISE 6 String Decor Guitar Children's Musical Instrument Educational Toy Guitar for Beginners Kids Childs (Color May Vary)\",\n",
       " 'no product name',\n",
       " \"BLENT 4 String Guitar Children's Musical Instrument Educational Toy Guitar Ukulele Instruments Beginner Musical Sound Toys Best Gift for Children\",\n",
       " 'no product name',\n",
       " '41\" 21 fret A,Acoustio rosewood natural high glossy venus acoustic guitar, cover,string,2 plectarms,1 belt',\n",
       " \"PRAHANT 4 String Mini Guitar Children's Musical Instrument Educational Toy Guitar Ukulele Instruments Beginner Musical Sound Toys Best Gift for Children\",\n",
       " \"Asago 4 String Children's Musical Guitar Instrument For Beginner Educational Toy Guitar Musical Sound Toys Best Gift for Children\",\n",
       " 'no product name',\n",
       " 'no product name',\n",
       " 'FIRANDE Acoustic Guitar MF38C SunBurst 38 Inch Cutaway With Seasoned Basswood And Engineered Rosewood',\n",
       " 'no product name',\n",
       " 'no product name',\n",
       " 'VD ENTERPRISE String Acoustic Guitar | Adjustable Tunning Knob | Classical Guitar Toy | Musical Instrument Learning Toy for Kids',\n",
       " \"Optimuss 23'' Acoustic Folk Classic Guitar for Beginners Student Adults Player 6 Strings Black\",\n",
       " 'PennyCreek 6 Pieces Semiclosed Tuners Tuning Pegs with Accs for Electric Acoustic Guitars',\n",
       " 'Hovner Carlton Special Quality Rosewood Fretboard Blue Semi Acoustic Guitar With Bag,Strap,1 Set of Extra Strings and 2 Picks By K-Retail (Blue)',\n",
       " 'Sknd String Acoustic Guitar | Adjustable Tunning Knob | Classical Guitar Toy | Musical Instrument Learning Toy for Kids',\n",
       " 'ALOKRUPSWAM Toy Guitar 4 Strings Kids Play Guitar Music Guitar Toy with Colorful Lights Musical Instruments Educational Toy for Kids Boys Girls',\n",
       " 'no product name',\n",
       " 'DEVICE OF URBAN INFOTECH Guitar Tuner 360 degree Digital Tuner Easy to Use Highly Accurate Clip-on Tuner Best for Acoustic and Electric Guitar Bass Violin Ukulele With Capo & 5 Picks(Design may very)',\n",
       " 'SG MUSICAL 10 Pcs Guitar Strings Stainless Steel Acoustic Guitar String 1st E String/ 2nd B String BYTD',\n",
       " \"Luxdhara 4 String Guitar Children's Musical Instrument Educational Toy Guitar Ukulele Instruments Beginner Musical Sound Toys Best Gift for Children\",\n",
       " 'Grail Allure A190CE SAS Semi Acoustic Guitar All Sapele Cutaway',\n",
       " 'Gitesh 4-string acoustic guitar learning kids toy, brown 18-Multi color(Pack of 1}.',\n",
       " \"4 String Guitar Children's Musical Instrument Educational Toy Guitar Ukulele Instruments Beginner Musical Sound Toys Best Gift for Children (Brown)\",\n",
       " 'Fender SA-150C dreadnought Squier Guitar Cutway Natural',\n",
       " \"Z SIGNS 4 String Guitar Children's Musical Instrument Educational Toy Guitar Ukulele Instruments Beginner Musical Sound Toys Best Gift for Children\",\n",
       " 'no product name',\n",
       " \"Asago 4 String Children's Musical Guitar Instrument For Beginner Educational Toy Guitar Musical Sound Toys Best Gift for Children\",\n",
       " 'VAULT GA10 Guitar Amplifier (10 Watts)',\n",
       " 'Divyatamall 22 inches 4 String Wooden Finish Acoustic Musical Guitar with Adjustable Tuning Knobs',\n",
       " 'no product name',\n",
       " 'Mustang Music Combo Of Guitar Tuner And Mustang Guitar Wall Hanger',\n",
       " 'Jixing JXNG-BLK-SC1,Black Acoustic Guitar with Kadence Foldable Guitar Stand,Kadence Tuner,Kadence String,Kadence Strap,Kadence 3 Picks,Kadence Bag & Kadence Capo (Super Combo)',\n",
       " 'LAPREX Toy & Gift Excellent Guitar Toys for Kids 4-String Acoustic Adjustable Tunning Excellent Wooden Guitar Toys-Brown Guitar Musical Instrument Learning Toy for Kids',\n",
       " 'no product name',\n",
       " 'Fender SA105CE Electric Acoustic Guitar Dreadnought With Sponge Bag, Belt & Plectrums Combo Pack (SB)',\n",
       " 'no product name',\n",
       " \"BOTIST 4 String Decor Guitar Children's Musical Instrument Educational Toy Small Guitar for Beginners Kids Child (brown color)\",\n",
       " 'no product name',\n",
       " 'no product name',\n",
       " 'Guitar Capo, Capo and tuner Combo',\n",
       " 'no product name',\n",
       " 'Techblaze 22 Pcs Guitar Kit Set Guitar Strings Changing Kit Guitar Tool Kit with 6 Strings, 12 Multicolored Picks, 1 Guitar Capo, 1 String Winder 1 String Cutter, 1 Guitar Tuner for Acoustic Guitars',\n",
       " 'no product name',\n",
       " 'ALOKRUPSWAM Happy Tune 4 String Acoustic Guitar Toy for Kids with Vibrant Sounds and Tunable Strings',\n",
       " 'no product name',\n",
       " 'no product name',\n",
       " 'HEALLILY 6 Pcs Guitar Fretboard Stickers Learn Guitar Tab Guitar Note Stickers for Electric Bass Guitar Music Accessories',\n",
       " 'Blueberry B-40 IN, Trussrod Acoustic Guitar Kit with Bag,Belt, One Pack Strings & Picks (Blue)',\n",
       " \"Ascetic 4 String Guitar Children's Musical Instrument Educational Toy Guitar Ukulele Instruments Beginner Musical Sound Toys Best Gift for Children\",\n",
       " 'no product name',\n",
       " 'no product name',\n",
       " 'no product name',\n",
       " 'no product name',\n",
       " 'no product name',\n",
       " 'GIVSON Ketostics Venus Special Guitar (black) with bag, string set, belt and 5 picks',\n",
       " 'Ibanez Acoustic Guitar MD39C Right Handed Cutaway Guitar - Natural With Bag, Belt, Plectrums Complete Pack.',\n",
       " 'CARTIFY Rockband Music and Lights Guitar Toy, Big for Kids Boys (Red)',\n",
       " 'Westwood-Acoustic guitar strings WDS2004 {.010-.050} Phosphor Bronze 75/25 wire',\n",
       " 'Fender CD 60 Dread V3 DS 6 String Acoustic Guitar - Walnut Fretboard-Black',\n",
       " 'no product name',\n",
       " 'Fender SA105CEBK Acoustic Guitar',\n",
       " 'Cort AD810 Dreadnought Acoustic Guitar with Gig Bag,Tuner,Picks and Strap (Natural Bundle)',\n",
       " 'Honestum 4-string acoustic guitar learning kids toy, brown 18-Multi color',\n",
       " 'jesilo Musical Guitar Soprano Ukulele Bundle 4-String Acoustic Guitar Learning Kids Toy Mahogany Brown 18',\n",
       " 'no product name',\n",
       " 'Crusader - Ziko Acoustic Guitar String (6 Strings)',\n",
       " \"Stunner 4 String Guitar Children's Musical Instrument Educational Toy Guitar Ukulele Instruments Beginner Musical Sound Toys Best Gift for Children(24 inch)\",\n",
       " 'no product name',\n",
       " \"Luxansa 4-String Musical Acoustic Guitar Toy For Kids, Children's Learning Educational Instruments For Beginners Child With Ability Random Brown Color Best Piano Gift For Boys & Girls\",\n",
       " 'AARVI MART 4 String Musical Guitar for Kids Instrument Acoustic Learning Educational Small Toy for Child with Ability Random Brown Color Best Gift for Boys & Girls',\n",
       " \"Stunner 4 String Guitar Children's Musical Instrument Educational Toy Guitar Ukulele Instruments Beginner Musical Sound Toys Best Gift for Children\",\n",
       " 'Techblaze 6 Pieces Guitar Keys for Acoustic Guitar Chrome Tuning Pegs Keys 3 Left 3 Right Guitar Machine Heads Knobs With Strap Button Locks Guitar Keys 3R+3L 6 pcs- Chrome',\n",
       " 'no product name',\n",
       " 'FIRANDE Arpeggio 39 Inch Semi-Acoustic Guitar, Spruce Top, Rosewood Fretboard & Bridge, Truss Rod, 4 Band EQ, Chrome Die Cast Machine Tuners, Sunburst']"
      ]
     },
     "execution_count": 17,
     "metadata": {},
     "output_type": "execute_result"
    }
   ],
   "source": [
    "Name_of_the_Product"
   ]
  },
  {
   "cell_type": "code",
   "execution_count": 24,
   "metadata": {},
   "outputs": [],
   "source": [
    "Rating = []\n",
    "for i in page_url:\n",
    "    driver.get(i)\n",
    "    try:\n",
    "        rating=driver.find_element_by_xpath(\"//span[@class='a-size-base a-nowrap']//span\")\n",
    "        #ratings_of_brand\n",
    "        Rating.append(rating.text)\n",
    "    except NoSuchElementException:\n",
    "        Rating.append('no rating')\n",
    "    time.sleep(1)"
   ]
  },
  {
   "cell_type": "code",
   "execution_count": 25,
   "metadata": {},
   "outputs": [
    {
     "data": {
      "text/plain": [
       "['3.9 out of 5', '4 out of 5', '4.2 out of 5', '4.1 out of 5', '3.9 out of 5']"
      ]
     },
     "execution_count": 25,
     "metadata": {},
     "output_type": "execute_result"
    }
   ],
   "source": [
    "Rating"
   ]
  },
  {
   "cell_type": "code",
   "execution_count": 26,
   "metadata": {},
   "outputs": [],
   "source": [
    "No_of_Ratings = []\n",
    "for i in page_url:\n",
    "    driver.get(i)\n",
    "    try:\n",
    "        n_rating=driver.find_element_by_id(\"acrCustomerReviewText\")\n",
    "        #ratings_of_brand\n",
    "        No_of_Ratings.append(n_rating.text)\n",
    "    except NoSuchElementException:\n",
    "        No_of_Ratings.append('no number of rating')\n",
    "    time.sleep(1)"
   ]
  },
  {
   "cell_type": "code",
   "execution_count": 27,
   "metadata": {},
   "outputs": [
    {
     "data": {
      "text/plain": [
       "['868 ratings', '249 ratings', '223 ratings', '23 ratings', '10,767 ratings']"
      ]
     },
     "execution_count": 27,
     "metadata": {},
     "output_type": "execute_result"
    }
   ],
   "source": [
    "No_of_Ratings"
   ]
  },
  {
   "cell_type": "code",
   "execution_count": 28,
   "metadata": {},
   "outputs": [],
   "source": [
    "Price=[]\n",
    "for i in page_url:\n",
    "    driver.get(i)\n",
    "    try:\n",
    "        price=driver.find_element_by_id(\"priceblock_ourprice\")\n",
    "        #ratings_of_brand\n",
    "        Price.append(price.text)\n",
    "    except NoSuchElementException:\n",
    "        Price.append('no price')\n",
    "    time.sleep(1)"
   ]
  },
  {
   "cell_type": "code",
   "execution_count": 29,
   "metadata": {},
   "outputs": [
    {
     "data": {
      "text/plain": [
       "['no price', 'no price', 'no price', '₹ 6,499.00', '₹ 2,499.00']"
      ]
     },
     "execution_count": 29,
     "metadata": {},
     "output_type": "execute_result"
    }
   ],
   "source": [
    "Price"
   ]
  },
  {
   "cell_type": "code",
   "execution_count": 30,
   "metadata": {},
   "outputs": [],
   "source": [
    "Return_Exchange = []\n",
    "for i in page_url:\n",
    "    driver.get(i)\n",
    "    time.sleep(1)\n",
    "    try:\n",
    "        return_e=driver.find_element_by_xpath(\"/html/body/div[2]/div[2]/div[6]/div[4]/div[4]/div[19]/div[2]/div/div/div/div[2]/span/div[2]/a\")\n",
    "        #ratings_of_brand\n",
    "        Return_Exchange.append(return_e.text)\n",
    "    except NoSuchElementException:\n",
    "        Return_Exchange.append('no price')"
   ]
  },
  {
   "cell_type": "code",
   "execution_count": 31,
   "metadata": {},
   "outputs": [
    {
     "data": {
      "text/plain": [
       "['no price',\n",
       " '7 Days Replacement',\n",
       " 'no price',\n",
       " 'no price',\n",
       " '7 Days Replacement']"
      ]
     },
     "execution_count": 31,
     "metadata": {},
     "output_type": "execute_result"
    }
   ],
   "source": [
    "Return_Exchange"
   ]
  },
  {
   "cell_type": "code",
   "execution_count": 32,
   "metadata": {},
   "outputs": [],
   "source": [
    "Expected_Delivery = []\n",
    "for i in page_url:\n",
    "    driver.get(i)\n",
    "    time.sleep(2)\n",
    "    try:\n",
    "        delivery_details=driver.find_element_by_xpath(\"/html/body/div[2]/div[2]/div[6]/div[4]/div[4]/div[11]/div/div/b\")\n",
    "        #deliverydetails\n",
    "        Expected_Delivery.append(delivery_details.text)\n",
    "    except NoSuchElementException:\n",
    "        Expected_Delivery.append('no delivery details')\n",
    "    "
   ]
  },
  {
   "cell_type": "code",
   "execution_count": 33,
   "metadata": {},
   "outputs": [
    {
     "data": {
      "text/plain": [
       "['no delivery details',\n",
       " 'Saturday, July 10',\n",
       " 'no delivery details',\n",
       " 'no delivery details',\n",
       " 'Thursday, July 8']"
      ]
     },
     "execution_count": 33,
     "metadata": {},
     "output_type": "execute_result"
    }
   ],
   "source": [
    "Expected_Delivery"
   ]
  },
  {
   "cell_type": "code",
   "execution_count": 34,
   "metadata": {},
   "outputs": [],
   "source": [
    "Availability = []\n",
    "for i in page_url:\n",
    "    driver.get(i)\n",
    "    time.sleep(3)\n",
    "    try:\n",
    "        ava_details=driver.find_element_by_xpath(\"/html/body/div[2]/div[2]/div[6]/div[4]/div[4]/div[21]/div[1]/span\")\n",
    "        #availablitydetails\n",
    "        Availability.append(ava_details.text)\n",
    "    except NoSuchElementException:\n",
    "        Availability.append('no availability details')\n",
    "    \n",
    "    "
   ]
  },
  {
   "cell_type": "code",
   "execution_count": 35,
   "metadata": {},
   "outputs": [
    {
     "data": {
      "text/plain": [
       "['no availability details',\n",
       " 'In stock.',\n",
       " 'no availability details',\n",
       " 'no availability details',\n",
       " 'In stock.']"
      ]
     },
     "execution_count": 35,
     "metadata": {},
     "output_type": "execute_result"
    }
   ],
   "source": [
    "Availability"
   ]
  },
  {
   "cell_type": "code",
   "execution_count": 36,
   "metadata": {},
   "outputs": [],
   "source": [
    "Other_Details = []\n",
    "for i in page_url:\n",
    "    driver.get(i)\n",
    "    time.sleep(3)\n",
    "    try:\n",
    "        other_details=driver.find_element_by_xpath(\"/html/body/div[2]/div[2]/div[6]/div[20]/div[2]/div/div/div/div[2]/div/div[1]/div/div/div[1]/div\")\n",
    "        #otherdetails\n",
    "        Other_Details.append(other_details.text)\n",
    "    except NoSuchElementException:\n",
    "        Other_Details.append('no other details')\n",
    "    \n",
    "    "
   ]
  },
  {
   "cell_type": "code",
   "execution_count": 38,
   "metadata": {},
   "outputs": [
    {
     "data": {
      "text/plain": [
       "['no other details',\n",
       " 'no other details',\n",
       " 'no other details',\n",
       " 'no other details',\n",
       " 'If you are a music lover and a fan of acoustic guitars in particular, then this 38 inch guitar from the house of Juarez is a must buy. Great quality and impeccable styling are just some of the features. Manufactured by a leading brand, this basic acoustic guitar is highly attractive to look at, courtesy its stylised looks and the brilliant black colour. \\n\\nAn able acoustic guitar, its neck material is made from Linden Wood, bridge material is made from plastic, finger board and back material is made from Linden Wood, string is made from nylon, and sides material is made from Linden.\\n\\nThe body is made from Linden Wood and it comes with 18 frets. This acoustic guitar effectively combines great looks with an innovative design to produce goood quality sound. This package contains an acoustic guitar with bag, strings, pick and a strap.\\n  Our goal is to provide all musicians the best experience when it comes to guitars. We are continually evolving and inspired to create new instruments that cater to diverse musical genres. We work directly with our manufacturers to produce high-quality musical instruments for beginners and experts. Our target is to provide musical kits, with the best value available online, without sacrificing quality. Juârez is committed to providing only the best and highest level of service to our customers. We are devoted to selling the best musical instruments online to help you make the best choice!\\n\\nSpecifications : \\n\\n• Brand:Juârez\\n• Body material:Linden Wood\\n• Fretboard material:Ebony Wood\\n• Neck Material:Linden Wood\\n• Number of strings:6\\n• Colour:Black\\n• Hand Orientation:Right\\n• String: Nylon \\n• Size : 38 inches, Cutaway\\n• Contents: Acoustic Guitar With Strap, Gig Bag, Strings and 2 Picks \\n• Number of Frets: 18 \\n• Sides Material: Linden \\n• Bridge Material: Plastic \\n• Features : Neck Material: Linden Wood \\n• Back Material: Linden Wood\\n• Body Material: Linden Wood\\n• Finger Board: Linden Wood\\n ']"
      ]
     },
     "execution_count": 38,
     "metadata": {},
     "output_type": "execute_result"
    }
   ],
   "source": [
    "Other_Details"
   ]
  },
  {
   "cell_type": "code",
   "execution_count": 39,
   "metadata": {},
   "outputs": [],
   "source": [
    "Product_URL = []\n",
    "Product_URL = page_urls[:5]"
   ]
  },
  {
   "cell_type": "code",
   "execution_count": 40,
   "metadata": {
    "scrolled": true
   },
   "outputs": [
    {
     "data": {
      "text/plain": [
       "['https://www.amazon.in/gp/slredirect/picassoRedirect.html/ref=pa_sp_atf_aps_sr_pg1_1?ie=UTF8&adId=A05211881ZGJIHX360ZMV&url=%2FKadence-Frontier-Acoustic-Guitar-Equalizer%2Fdp%2FB01HRIHJWY%2Fref%3Dsr_1_1_sspa%3Fdchild%3D1%26keywords%3DGuitars%26qid%3D1625495923%26sr%3D8-1-spons%26psc%3D1&qualifier=1625495923&id=4390428039954898&widgetName=sp_atf',\n",
       " 'https://www.amazon.in/gp/slredirect/picassoRedirect.html/ref=pa_sp_atf_aps_sr_pg1_1?ie=UTF8&adId=A09285301NZJT1BBLJ0LW&url=%2FKadence-Frontier-Acoustic-Foldable-Strings%2Fdp%2FB01CJJGEVS%2Fref%3Dsr_1_2_sspa%3Fdchild%3D1%26keywords%3DGuitars%26qid%3D1625495923%26sr%3D8-2-spons%26psc%3D1&qualifier=1625495923&id=4390428039954898&widgetName=sp_atf',\n",
       " 'https://www.amazon.in/gp/slredirect/picassoRedirect.html/ref=pa_sp_atf_aps_sr_pg1_1?ie=UTF8&adId=A00103562TH7ZMEL1FOWU&url=%2FKadence-Slowhand-Premium-Acoustic-Instrument%2Fdp%2FB077SZ667X%2Fref%3Dsr_1_3_sspa%3Fdchild%3D1%26keywords%3DGuitars%26qid%3D1625495923%26sr%3D8-3-spons%26psc%3D1&qualifier=1625495923&id=4390428039954898&widgetName=sp_atf',\n",
       " 'https://www.amazon.in/gp/slredirect/picassoRedirect.html/ref=pa_sp_atf_aps_sr_pg1_1?ie=UTF8&adId=A0544814GMYG4B2WGTJ6&url=%2FGUITAR-BRO-Acoustic-Beginner-Accessories%2Fdp%2FB07T84GC8L%2Fref%3Dsr_1_4_sspa%3Fdchild%3D1%26keywords%3DGuitars%26qid%3D1625495923%26sr%3D8-4-spons%26psc%3D1&qualifier=1625495923&id=4390428039954898&widgetName=sp_atf',\n",
       " 'https://www.amazon.in/Juarez-Acoustic-Cutaway-038C-Strings/dp/B017NPCSLI/ref=sr_1_5?dchild=1&keywords=Guitars&qid=1625495923&sr=8-5']"
      ]
     },
     "execution_count": 40,
     "metadata": {},
     "output_type": "execute_result"
    }
   ],
   "source": [
    "Product_URL"
   ]
  },
  {
   "cell_type": "markdown",
   "metadata": {},
   "source": [
    "# Question 3)"
   ]
  },
  {
   "cell_type": "markdown",
   "metadata": {},
   "source": [
    "Write a python program to access the search bar and search button on images.google.com and \n",
    "scrape 100 images each for keywords ‘fruits’, ‘cars’ and ‘Machine Learning’"
   ]
  },
  {
   "cell_type": "code",
   "execution_count": 64,
   "metadata": {},
   "outputs": [],
   "source": [
    "# lets first connect to the webdriver\n",
    "driver = webdriver.Chrome(r\"C:\\Users\\vaibhav\\Desktop\\Data science\\FlipRobo Projects\\Web Scrapping 2\\chromedriver.exe\")\n",
    "url = 'https://images.google.com'\n",
    "driver.get(url)"
   ]
  },
  {
   "cell_type": "code",
   "execution_count": 65,
   "metadata": {},
   "outputs": [],
   "source": [
    "search_bar=driver.find_element_by_xpath(\"//input[@class='gLFyf gsfi']\")\n",
    "search_bar.send_keys('fruits')\n"
   ]
  },
  {
   "cell_type": "code",
   "execution_count": 66,
   "metadata": {},
   "outputs": [],
   "source": [
    "search_button=driver.find_element_by_xpath(\"//span[@class='z1asCe MZy1Rb']\")\n",
    "search_button.click()"
   ]
  },
  {
   "cell_type": "code",
   "execution_count": 68,
   "metadata": {},
   "outputs": [],
   "source": [
    "images = driver.find_elements_by_tag_name('img')"
   ]
  },
  {
   "cell_type": "code",
   "execution_count": 69,
   "metadata": {},
   "outputs": [],
   "source": [
    "fruit_image_list = []\n",
    "for image in images:\n",
    "    fruit_image_list.append(image.get_attribute('src'))"
   ]
  },
  {
   "cell_type": "code",
   "execution_count": 70,
   "metadata": {
    "scrolled": false
   },
   "outputs": [
    {
     "data": {
      "text/plain": [
       "251"
      ]
     },
     "execution_count": 70,
     "metadata": {},
     "output_type": "execute_result"
    }
   ],
   "source": [
    "len(fruit_image_list)"
   ]
  },
  {
   "cell_type": "code",
   "execution_count": 71,
   "metadata": {},
   "outputs": [],
   "source": [
    "fruits_img_list = fruit_image_list[:100]"
   ]
  },
  {
   "cell_type": "code",
   "execution_count": 48,
   "metadata": {},
   "outputs": [],
   "source": [
    "# Getting cars image:"
   ]
  },
  {
   "cell_type": "code",
   "execution_count": 57,
   "metadata": {},
   "outputs": [],
   "source": [
    "url = 'https://images.google.com'\n",
    "driver.get(url)"
   ]
  },
  {
   "cell_type": "code",
   "execution_count": 58,
   "metadata": {},
   "outputs": [],
   "source": [
    "search_bar=driver.find_element_by_xpath(\"//input[@class='gLFyf gsfi']\")\n",
    "search_bar.send_keys('cars')\n"
   ]
  },
  {
   "cell_type": "code",
   "execution_count": 59,
   "metadata": {},
   "outputs": [],
   "source": [
    "search_button=driver.find_element_by_xpath(\"//span[@class='z1asCe MZy1Rb']\")\n",
    "search_button.click()"
   ]
  },
  {
   "cell_type": "code",
   "execution_count": 60,
   "metadata": {},
   "outputs": [],
   "source": [
    "images = driver.find_elements_by_tag_name('img')"
   ]
  },
  {
   "cell_type": "code",
   "execution_count": 61,
   "metadata": {},
   "outputs": [],
   "source": [
    "car_image_list = []\n",
    "for image in images:\n",
    "    car_image_list.append(image.get_attribute('src'))"
   ]
  },
  {
   "cell_type": "code",
   "execution_count": 62,
   "metadata": {
    "scrolled": true
   },
   "outputs": [
    {
     "data": {
      "text/plain": [
       "359"
      ]
     },
     "execution_count": 62,
     "metadata": {},
     "output_type": "execute_result"
    }
   ],
   "source": [
    "len(car_image_list)"
   ]
  },
  {
   "cell_type": "code",
   "execution_count": 63,
   "metadata": {},
   "outputs": [],
   "source": [
    "cars_img_list = car_image_list[:100]"
   ]
  },
  {
   "cell_type": "code",
   "execution_count": 72,
   "metadata": {},
   "outputs": [],
   "source": [
    "url = 'https://images.google.com'\n",
    "driver.get(url)\n",
    "time.sleep(1)\n",
    "search_bar=driver.find_element_by_xpath(\"//input[@class='gLFyf gsfi']\")\n",
    "search_bar.send_keys('Machine Learning')\n"
   ]
  },
  {
   "cell_type": "code",
   "execution_count": 73,
   "metadata": {},
   "outputs": [],
   "source": [
    "search_button=driver.find_element_by_xpath(\"//span[@class='z1asCe MZy1Rb']\")\n",
    "search_button.click()"
   ]
  },
  {
   "cell_type": "code",
   "execution_count": 74,
   "metadata": {},
   "outputs": [],
   "source": [
    "images = driver.find_elements_by_tag_name('img')"
   ]
  },
  {
   "cell_type": "code",
   "execution_count": 75,
   "metadata": {},
   "outputs": [],
   "source": [
    "ML_image_list = []\n",
    "for image in images:\n",
    "    ML_image_list.append(image.get_attribute('src'))"
   ]
  },
  {
   "cell_type": "code",
   "execution_count": 76,
   "metadata": {},
   "outputs": [
    {
     "data": {
      "text/plain": [
       "359"
      ]
     },
     "execution_count": 76,
     "metadata": {},
     "output_type": "execute_result"
    }
   ],
   "source": [
    "len(ML_image_list)"
   ]
  },
  {
   "cell_type": "code",
   "execution_count": 77,
   "metadata": {},
   "outputs": [],
   "source": [
    "Machine_learning_list = ML_image_list[:100]"
   ]
  },
  {
   "cell_type": "code",
   "execution_count": 79,
   "metadata": {},
   "outputs": [
    {
     "data": {
      "text/html": [
       "<div>\n",
       "<style scoped>\n",
       "    .dataframe tbody tr th:only-of-type {\n",
       "        vertical-align: middle;\n",
       "    }\n",
       "\n",
       "    .dataframe tbody tr th {\n",
       "        vertical-align: top;\n",
       "    }\n",
       "\n",
       "    .dataframe thead th {\n",
       "        text-align: right;\n",
       "    }\n",
       "</style>\n",
       "<table border=\"1\" class=\"dataframe\">\n",
       "  <thead>\n",
       "    <tr style=\"text-align: right;\">\n",
       "      <th></th>\n",
       "      <th>FRUITS IMAGES</th>\n",
       "      <th>CARS IMAGE LIST</th>\n",
       "      <th>Machine learning Images</th>\n",
       "    </tr>\n",
       "  </thead>\n",
       "  <tbody>\n",
       "    <tr>\n",
       "      <th>0</th>\n",
       "      <td>data:image/jpeg;base64,/9j/4AAQSkZJRgABAQAAAQA...</td>\n",
       "      <td>data:image/jpeg;base64,/9j/4AAQSkZJRgABAQAAAQA...</td>\n",
       "      <td>data:image/png;base64,iVBORw0KGgoAAAANSUhEUgAA...</td>\n",
       "    </tr>\n",
       "    <tr>\n",
       "      <th>1</th>\n",
       "      <td>data:image/jpeg;base64,/9j/4AAQSkZJRgABAQAAAQA...</td>\n",
       "      <td>data:image/jpeg;base64,/9j/4AAQSkZJRgABAQAAAQA...</td>\n",
       "      <td>data:image/png;base64,iVBORw0KGgoAAAANSUhEUgAA...</td>\n",
       "    </tr>\n",
       "    <tr>\n",
       "      <th>2</th>\n",
       "      <td>data:image/jpeg;base64,/9j/4AAQSkZJRgABAQAAAQA...</td>\n",
       "      <td>data:image/jpeg;base64,/9j/4AAQSkZJRgABAQAAAQA...</td>\n",
       "      <td>data:image/png;base64,iVBORw0KGgoAAAANSUhEUgAA...</td>\n",
       "    </tr>\n",
       "    <tr>\n",
       "      <th>3</th>\n",
       "      <td>data:image/jpeg;base64,/9j/4AAQSkZJRgABAQAAAQA...</td>\n",
       "      <td>data:image/jpeg;base64,/9j/4AAQSkZJRgABAQAAAQA...</td>\n",
       "      <td>data:image/png;base64,iVBORw0KGgoAAAANSUhEUgAA...</td>\n",
       "    </tr>\n",
       "    <tr>\n",
       "      <th>4</th>\n",
       "      <td>data:image/jpeg;base64,/9j/4AAQSkZJRgABAQAAAQA...</td>\n",
       "      <td>data:image/jpeg;base64,/9j/4AAQSkZJRgABAQAAAQA...</td>\n",
       "      <td>data:image/jpeg;base64,/9j/4AAQSkZJRgABAQAAAQA...</td>\n",
       "    </tr>\n",
       "    <tr>\n",
       "      <th>...</th>\n",
       "      <td>...</td>\n",
       "      <td>...</td>\n",
       "      <td>...</td>\n",
       "    </tr>\n",
       "    <tr>\n",
       "      <th>95</th>\n",
       "      <td>https://encrypted-tbn0.gstatic.com/images?q=tb...</td>\n",
       "      <td>https://encrypted-tbn0.gstatic.com/images?q=tb...</td>\n",
       "      <td>https://encrypted-tbn0.gstatic.com/images?q=tb...</td>\n",
       "    </tr>\n",
       "    <tr>\n",
       "      <th>96</th>\n",
       "      <td>https://encrypted-tbn0.gstatic.com/images?q=tb...</td>\n",
       "      <td>https://encrypted-tbn0.gstatic.com/images?q=tb...</td>\n",
       "      <td>https://encrypted-tbn0.gstatic.com/images?q=tb...</td>\n",
       "    </tr>\n",
       "    <tr>\n",
       "      <th>97</th>\n",
       "      <td>https://encrypted-tbn0.gstatic.com/images?q=tb...</td>\n",
       "      <td>https://encrypted-tbn0.gstatic.com/images?q=tb...</td>\n",
       "      <td>https://encrypted-tbn0.gstatic.com/images?q=tb...</td>\n",
       "    </tr>\n",
       "    <tr>\n",
       "      <th>98</th>\n",
       "      <td>https://encrypted-tbn0.gstatic.com/images?q=tb...</td>\n",
       "      <td>https://encrypted-tbn0.gstatic.com/images?q=tb...</td>\n",
       "      <td>https://encrypted-tbn0.gstatic.com/images?q=tb...</td>\n",
       "    </tr>\n",
       "    <tr>\n",
       "      <th>99</th>\n",
       "      <td>https://encrypted-tbn0.gstatic.com/images?q=tb...</td>\n",
       "      <td>https://encrypted-tbn0.gstatic.com/images?q=tb...</td>\n",
       "      <td>https://encrypted-tbn0.gstatic.com/images?q=tb...</td>\n",
       "    </tr>\n",
       "  </tbody>\n",
       "</table>\n",
       "<p>100 rows × 3 columns</p>\n",
       "</div>"
      ],
      "text/plain": [
       "                                        FRUITS IMAGES  \\\n",
       "0   data:image/jpeg;base64,/9j/4AAQSkZJRgABAQAAAQA...   \n",
       "1   data:image/jpeg;base64,/9j/4AAQSkZJRgABAQAAAQA...   \n",
       "2   data:image/jpeg;base64,/9j/4AAQSkZJRgABAQAAAQA...   \n",
       "3   data:image/jpeg;base64,/9j/4AAQSkZJRgABAQAAAQA...   \n",
       "4   data:image/jpeg;base64,/9j/4AAQSkZJRgABAQAAAQA...   \n",
       "..                                                ...   \n",
       "95  https://encrypted-tbn0.gstatic.com/images?q=tb...   \n",
       "96  https://encrypted-tbn0.gstatic.com/images?q=tb...   \n",
       "97  https://encrypted-tbn0.gstatic.com/images?q=tb...   \n",
       "98  https://encrypted-tbn0.gstatic.com/images?q=tb...   \n",
       "99  https://encrypted-tbn0.gstatic.com/images?q=tb...   \n",
       "\n",
       "                                      CARS IMAGE LIST  \\\n",
       "0   data:image/jpeg;base64,/9j/4AAQSkZJRgABAQAAAQA...   \n",
       "1   data:image/jpeg;base64,/9j/4AAQSkZJRgABAQAAAQA...   \n",
       "2   data:image/jpeg;base64,/9j/4AAQSkZJRgABAQAAAQA...   \n",
       "3   data:image/jpeg;base64,/9j/4AAQSkZJRgABAQAAAQA...   \n",
       "4   data:image/jpeg;base64,/9j/4AAQSkZJRgABAQAAAQA...   \n",
       "..                                                ...   \n",
       "95  https://encrypted-tbn0.gstatic.com/images?q=tb...   \n",
       "96  https://encrypted-tbn0.gstatic.com/images?q=tb...   \n",
       "97  https://encrypted-tbn0.gstatic.com/images?q=tb...   \n",
       "98  https://encrypted-tbn0.gstatic.com/images?q=tb...   \n",
       "99  https://encrypted-tbn0.gstatic.com/images?q=tb...   \n",
       "\n",
       "                              Machine learning Images  \n",
       "0   data:image/png;base64,iVBORw0KGgoAAAANSUhEUgAA...  \n",
       "1   data:image/png;base64,iVBORw0KGgoAAAANSUhEUgAA...  \n",
       "2   data:image/png;base64,iVBORw0KGgoAAAANSUhEUgAA...  \n",
       "3   data:image/png;base64,iVBORw0KGgoAAAANSUhEUgAA...  \n",
       "4   data:image/jpeg;base64,/9j/4AAQSkZJRgABAQAAAQA...  \n",
       "..                                                ...  \n",
       "95  https://encrypted-tbn0.gstatic.com/images?q=tb...  \n",
       "96  https://encrypted-tbn0.gstatic.com/images?q=tb...  \n",
       "97  https://encrypted-tbn0.gstatic.com/images?q=tb...  \n",
       "98  https://encrypted-tbn0.gstatic.com/images?q=tb...  \n",
       "99  https://encrypted-tbn0.gstatic.com/images?q=tb...  \n",
       "\n",
       "[100 rows x 3 columns]"
      ]
     },
     "execution_count": 79,
     "metadata": {},
     "output_type": "execute_result"
    }
   ],
   "source": [
    "# creating the dataframe\n",
    "df=pd.DataFrame({\"FRUITS IMAGES\":fruits_img_list,\"CARS IMAGE LIST\": cars_img_list,\"Machine learning Images\": Machine_learning_list})\n",
    "df"
   ]
  },
  {
   "cell_type": "markdown",
   "metadata": {},
   "source": [
    "# Question 4)"
   ]
  },
  {
   "cell_type": "markdown",
   "metadata": {},
   "source": [
    "4. Write a python program to search for a smartphone(e.g.: Oneplus Nord, pixel 4A, etc.) on \n",
    "www.flipkart.com and scrape following details for all the search results displayed on 1st page. \n",
    "Details to be scraped: “Brand Name”, “Smartphone name”, “Colour”, “RAM”, \n",
    "“Storage(ROM)”, “Primary Camera”, “Secondary Camera”, “Display Size”, “Display \n",
    "Resolution”, “Processor”, “Processor Cores”, “Battery Capacity”, “Price”, “Product URL”. In \n",
    "case if any of the details is missing then replace it by “- “. Save your results in a dataframe \n",
    "and CSV."
   ]
  },
  {
   "cell_type": "code",
   "execution_count": 92,
   "metadata": {},
   "outputs": [],
   "source": [
    "driver = webdriver.Chrome(r\"C:\\Users\\vaibhav\\Desktop\\Data science\\FlipRobo Projects\\Web Scrapping 2\\chromedriver.exe\")"
   ]
  },
  {
   "cell_type": "code",
   "execution_count": 131,
   "metadata": {},
   "outputs": [],
   "source": [
    "url = 'https://www.flipkart.com'\n",
    "driver.get(url)"
   ]
  },
  {
   "cell_type": "code",
   "execution_count": null,
   "metadata": {},
   "outputs": [],
   "source": [
    "cross_button = driver.find_element_by_xpath(\"//button[@class='_2KpZ6l _2doB4z']\")\n",
    "cross_button.click()"
   ]
  },
  {
   "cell_type": "code",
   "execution_count": 132,
   "metadata": {},
   "outputs": [],
   "source": [
    "search_item = driver.find_element_by_xpath(\"//input[@type='text']\")\n",
    "search_item.send_keys(\"Oneplus Nord, pixel 4A\")"
   ]
  },
  {
   "cell_type": "code",
   "execution_count": 133,
   "metadata": {},
   "outputs": [],
   "source": [
    "search_button = driver.find_element_by_xpath(\"//button[@class='L0Z3Pu']\")\n",
    "search_button.click()"
   ]
  },
  {
   "cell_type": "code",
   "execution_count": 97,
   "metadata": {},
   "outputs": [],
   "source": [
    "urls = []\n",
    "nxt_button = []\n",
    "page_urls = []\n",
    "page_url = []\n",
    "\n",
    "urls = driver.find_elements_by_xpath('//a[@class=\"_1fQZEK\"]')\n",
    "for i in urls:\n",
    "    page_urls.append(i.get_attribute('href'))"
   ]
  },
  {
   "cell_type": "code",
   "execution_count": 98,
   "metadata": {
    "scrolled": true
   },
   "outputs": [
    {
     "data": {
      "text/plain": [
       "24"
      ]
     },
     "execution_count": 98,
     "metadata": {},
     "output_type": "execute_result"
    }
   ],
   "source": [
    "len(page_urls)"
   ]
  },
  {
   "cell_type": "code",
   "execution_count": 99,
   "metadata": {},
   "outputs": [],
   "source": [
    "product_url = page_urls"
   ]
  },
  {
   "cell_type": "code",
   "execution_count": 100,
   "metadata": {},
   "outputs": [
    {
     "data": {
      "text/plain": [
       "['https://www.flipkart.com/redmi-9-power-mighty-black-64-gb/p/itm481ab234a6553?pid=MOBFYZ94UWPWQRNF&lid=LSTMOBFYZ94UWPWQRNFD8SF5T&marketplace=FLIPKART&q=Oneplus+Nord%2C+pixel+4A&store=tyy%2F4io&srno=s_1_1&otracker=search&otracker1=search&fm=SEARCH&iid=b1aeaac9-092b-40a2-b023-5686f5d35f7a.MOBFYZ94UWPWQRNF.SEARCH&ppt=hp&ppn=homepage&ssid=gno2effblc0000001625500910659&qH=51e22a8c2f127b5e',\n",
       " 'https://www.flipkart.com/panasonic-eluga-i6-black-16-gb/p/itm876e1eeb85ac1?pid=MOBFS3GJ5CR7PVEW&lid=LSTMOBFS3GJ5CR7PVEWNORSVR&marketplace=FLIPKART&q=Oneplus+Nord%2C+pixel+4A&store=tyy%2F4io&srno=s_1_2&otracker=search&otracker1=search&fm=SEARCH&iid=b1aeaac9-092b-40a2-b023-5686f5d35f7a.MOBFS3GJ5CR7PVEW.SEARCH&ppt=hp&ppn=homepage&ssid=gno2effblc0000001625500910659&qH=51e22a8c2f127b5e']"
      ]
     },
     "execution_count": 100,
     "metadata": {},
     "output_type": "execute_result"
    }
   ],
   "source": [
    "product_url[:2]"
   ]
  },
  {
   "cell_type": "code",
   "execution_count": 101,
   "metadata": {},
   "outputs": [
    {
     "data": {
      "text/plain": [
       "24"
      ]
     },
     "execution_count": 101,
     "metadata": {},
     "output_type": "execute_result"
    }
   ],
   "source": [
    "len(product_url)"
   ]
  },
  {
   "cell_type": "code",
   "execution_count": 102,
   "metadata": {},
   "outputs": [],
   "source": [
    "Phone_brand_name = []\n",
    "for i in page_urls:\n",
    "    driver.get(i)\n",
    "    time.sleep(2)\n",
    "    try:\n",
    "        brand = driver.find_element_by_xpath(\"/html/body/div[1]/div/div[3]/div[1]/div[2]/div[2]/div/div[1]/h1/span\")\n",
    "        #titles_brand\n",
    "        Phone_brand_name.append(brand.text)\n",
    "    except NoSuchElementException:\n",
    "        Phone_brand_name.append('no brand name')"
   ]
  },
  {
   "cell_type": "code",
   "execution_count": 103,
   "metadata": {
    "scrolled": true
   },
   "outputs": [
    {
     "data": {
      "text/plain": [
       "['REDMI 9 Power (Mighty Black, 64 GB)  (4 GB RAM)',\n",
       " 'Panasonic ELUGA I6 (Black, 16 GB)  (2 GB RAM)',\n",
       " 'Panasonic Eluga I8 (Charcoal Black, 32 GB)  (3 GB RAM)',\n",
       " 'Itel VISION1 (GRADATION GREEN, 32 GB)  (2 GB RAM)',\n",
       " 'BlackZone M15  (Black)',\n",
       " 'Mi 10i (Atlantic Blue, 128 GB)  (6 GB RAM)',\n",
       " 'Redmi Note 9 Pro (Champagne Gold, 128 GB)  (6 GB RAM)',\n",
       " 'Nokia 125 DS  (Black)',\n",
       " 'Redmi Note 9 Pro (Interstellar Black, 128 GB)  (4 GB RAM)',\n",
       " 'Ismart i1 Supreme (Black, 32 GB)  (2 GB RAM)',\n",
       " 'Redmi Note 9 Pro (Champagne Gold, 128 GB)  (4 GB RAM)',\n",
       " 'SAMSUNG M01 core (Black, 32 GB)  (2 GB RAM)',\n",
       " 'Redmi Note 9 Pro (Glacier White, 128 GB)  (4 GB RAM)',\n",
       " 'Redmi Note 9 Pro (Interstellar Black, 64 GB)  (4 GB RAM)',\n",
       " 'Redmi Note 9 Pro (Champagne Gold, 64 GB)  (4 GB RAM)',\n",
       " 'Tecno Spark 4 Air (Nebula Black, 32 GB)  (3 GB RAM)',\n",
       " 'Redmi Note 9 Pro (Glacier White, 128 GB)  (6 GB RAM)',\n",
       " 'Itel Vision1 (Gradation Purple, 32 GB)  (2 GB RAM)',\n",
       " 'Telefono S1 (Interstellar Black, 32 GB)  (3 GB RAM)',\n",
       " 'KAWL STAR  (Black)',\n",
       " 'SAMSUNG Galaxy M02 (Blue, 32 GB)  (3 GB RAM)',\n",
       " 'KARBONN KX4  (Black, Blue)',\n",
       " 'Kechaoda A31  (Pink)',\n",
       " 'Redmi Note 9 Pro (Glacier White, 64 GB)  (4 GB RAM)']"
      ]
     },
     "execution_count": 103,
     "metadata": {},
     "output_type": "execute_result"
    }
   ],
   "source": [
    "Phone_brand_name"
   ]
  },
  {
   "cell_type": "code",
   "execution_count": 105,
   "metadata": {},
   "outputs": [],
   "source": [
    "Color = []\n",
    "for i in page_urls:\n",
    "    driver.get(i)\n",
    "    time.sleep(2)\n",
    "    try:\n",
    "        col = driver.find_element_by_xpath(\"/html/body/div[1]/div/div[3]/div[1]/div[2]/div[9]/div[4]/div/div[2]/div/div[1]/table/tbody/tr[4]/td[2]/ul/li\")\n",
    "        #color\n",
    "        Color.append(col.text)\n",
    "    except NoSuchElementException:\n",
    "        Color.append('no color details')\n",
    "    \n"
   ]
  },
  {
   "cell_type": "code",
   "execution_count": 106,
   "metadata": {},
   "outputs": [
    {
     "data": {
      "text/plain": [
       "['Mighty Black',\n",
       " 'no color details',\n",
       " 'no color details',\n",
       " 'no color details',\n",
       " 'no color details',\n",
       " 'no color details',\n",
       " 'no color details',\n",
       " 'no color details',\n",
       " 'no color details',\n",
       " 'no color details',\n",
       " 'no color details',\n",
       " 'no color details',\n",
       " 'no color details',\n",
       " 'no color details',\n",
       " 'no color details',\n",
       " 'no color details',\n",
       " 'no color details',\n",
       " 'no color details',\n",
       " 'no color details',\n",
       " 'no color details',\n",
       " 'no color details',\n",
       " 'no color details',\n",
       " 'no color details',\n",
       " 'no color details']"
      ]
     },
     "execution_count": 106,
     "metadata": {},
     "output_type": "execute_result"
    }
   ],
   "source": [
    "Color"
   ]
  },
  {
   "cell_type": "code",
   "execution_count": 109,
   "metadata": {},
   "outputs": [],
   "source": [
    "details = []\n",
    "fulldetails = driver.find_elements_by_xpath('//ul[@class=\"_1xgFaf\"]')\n",
    "for i in fulldetails:\n",
    "    details.append(i.text)"
   ]
  },
  {
   "cell_type": "code",
   "execution_count": 110,
   "metadata": {},
   "outputs": [
    {
     "data": {
      "text/plain": [
       "['4 GB RAM | 64 GB ROM\\n16.59 cm (6.53 inch) Full HD+ Display\\n48MP Rear Camera | 8MP Front Camera\\n6000 mAh Battery\\nQualcomm Snapdragon 662 Processor\\n1 year manufacturer warranty for device and 6 months manufacturer warranty for in-box accessories including batteries from the date of purchase',\n",
       " '2 GB RAM | 16 GB ROM | Expandable Upto 256 GB\\n13.84 cm (5.45 inch) FWVGA Display\\n8MP Rear Camera | 5MP Front Camera\\n3000 mAh Battery\\nMediaTek Processor\\nBrand Warranty of 1 Year Available for Mobile and 6 Months for Accessories']"
      ]
     },
     "execution_count": 110,
     "metadata": {},
     "output_type": "execute_result"
    }
   ],
   "source": [
    "details[:2]"
   ]
  },
  {
   "cell_type": "code",
   "execution_count": 111,
   "metadata": {},
   "outputs": [
    {
     "data": {
      "text/plain": [
       "24"
      ]
     },
     "execution_count": 111,
     "metadata": {},
     "output_type": "execute_result"
    }
   ],
   "source": [
    "len(details)"
   ]
  },
  {
   "cell_type": "code",
   "execution_count": 112,
   "metadata": {},
   "outputs": [],
   "source": [
    "Ram = []\n",
    "for i in details:\n",
    "    Ram.append(i[0])"
   ]
  },
  {
   "cell_type": "code",
   "execution_count": 113,
   "metadata": {},
   "outputs": [
    {
     "data": {
      "text/plain": [
       "['4', '2']"
      ]
     },
     "execution_count": 113,
     "metadata": {},
     "output_type": "execute_result"
    }
   ],
   "source": [
    "Ram[:2]"
   ]
  },
  {
   "cell_type": "code",
   "execution_count": 114,
   "metadata": {},
   "outputs": [],
   "source": [
    "Rom = []\n",
    "for i in details:\n",
    "    Rom.append(i[11:13])"
   ]
  },
  {
   "cell_type": "code",
   "execution_count": 115,
   "metadata": {},
   "outputs": [
    {
     "data": {
      "text/plain": [
       "['64', '16']"
      ]
     },
     "execution_count": 115,
     "metadata": {},
     "output_type": "execute_result"
    }
   ],
   "source": [
    "Rom[:2]"
   ]
  },
  {
   "cell_type": "code",
   "execution_count": 117,
   "metadata": {},
   "outputs": [],
   "source": [
    "camera_d = []\n",
    "for i in page_urls:\n",
    "    driver.get(i)\n",
    "    time.sleep(3)\n",
    "    read_more = driver.find_element_by_xpath(\"//button[@class='_2KpZ6l _1FH0tX']\")\n",
    "    read_more.click()\n",
    "    try:\n",
    "        cam_d = driver.find_element_by_xpath(\"/html/body/div[1]/div/div[3]/div[1]/div[2]/div[7]/div[4]/div/div[2]/div[1]/div[5]/table/tbody/tr[2]/td[2]\")\n",
    "        #cam\n",
    "        camera_d.append(cam_d.text)\n",
    "    except NoSuchElementException:\n",
    "        try:\n",
    "            cam_d = driver.find_element_by_xpath(\"/html/body/div[1]/div/div[3]/div[1]/div[2]/div[7]/div[4]/div/div[2]/div[1]/div[5]/table/tbody/tr[2]/td[2]/ul/li\")\n",
    "            #cam\n",
    "            camera_d.append(cam_d.text)\n",
    "        except NoSuchElementException:\n",
    "            camera_d.append('no cam details')\n",
    "    time.sleep(1)"
   ]
  },
  {
   "cell_type": "code",
   "execution_count": 118,
   "metadata": {},
   "outputs": [],
   "source": [
    "primary_camera = camera_d"
   ]
  },
  {
   "cell_type": "code",
   "execution_count": 119,
   "metadata": {},
   "outputs": [
    {
     "data": {
      "text/plain": [
       "['no cam details',\n",
       " '8MP Rear Camera',\n",
       " '13MP Rear Camera',\n",
       " '8MP Rear Camera',\n",
       " 'no cam details',\n",
       " 'no cam details',\n",
       " 'no cam details',\n",
       " 'GSM',\n",
       " 'no cam details',\n",
       " 'no cam details',\n",
       " 'no cam details',\n",
       " 'no cam details',\n",
       " 'no cam details',\n",
       " 'no cam details',\n",
       " 'no cam details',\n",
       " 'no cam details',\n",
       " 'no cam details',\n",
       " 'no cam details',\n",
       " 'no cam details',\n",
       " 'no cam details',\n",
       " 'no cam details',\n",
       " 'no cam details',\n",
       " 'no cam details',\n",
       " 'no cam details']"
      ]
     },
     "execution_count": 119,
     "metadata": {},
     "output_type": "execute_result"
    }
   ],
   "source": [
    "primary_camera"
   ]
  },
  {
   "cell_type": "code",
   "execution_count": 120,
   "metadata": {},
   "outputs": [],
   "source": [
    "s_camera = []\n",
    "for i in page_urls:\n",
    "    driver.get(i)\n",
    "    time.sleep(3)\n",
    "    read_more = driver.find_element_by_xpath(\"//button[@class='_2KpZ6l _1FH0tX']\")\n",
    "    read_more.click()\n",
    "    try:\n",
    "        cam_d = driver.find_element_by_xpath(\"/html/body/div[1]/div/div[3]/div[1]/div[2]/div[7]/div[4]/div/div[2]/div[1]/div[5]/table/tbody/tr[6]/td[2]/ul/li\")\n",
    "        #cam\n",
    "        s_camera.append(cam_d.text)\n",
    "    except NoSuchElementException:\n",
    "        try:\n",
    "            cam_d = driver.find_element_by_xpath(\"/html/body/div[1]/div/div[3]/div[1]/div[2]/div[7]/div[4]/div/div[2]/div[1]/div[5]/table/tbody/tr[6]/td[2]\")\n",
    "            #cam\n",
    "            s_camera.append(cam_d.text)\n",
    "        except NoSuchElementException:\n",
    "            s_camera.append('no cam details')  "
   ]
  },
  {
   "cell_type": "code",
   "execution_count": 121,
   "metadata": {},
   "outputs": [
    {
     "data": {
      "text/plain": [
       "['no cam details',\n",
       " '5 MP',\n",
       " '8 MP',\n",
       " '5MP Front Camera',\n",
       " 'no cam details',\n",
       " 'no cam details',\n",
       " 'no cam details',\n",
       " 'no cam details',\n",
       " 'no cam details',\n",
       " 'no cam details',\n",
       " 'no cam details',\n",
       " 'no cam details',\n",
       " 'no cam details',\n",
       " 'no cam details',\n",
       " 'no cam details',\n",
       " 'no cam details',\n",
       " 'no cam details',\n",
       " 'no cam details',\n",
       " 'no cam details',\n",
       " 'no cam details',\n",
       " 'no cam details',\n",
       " 'no cam details',\n",
       " 'no cam details',\n",
       " 'no cam details']"
      ]
     },
     "execution_count": 121,
     "metadata": {},
     "output_type": "execute_result"
    }
   ],
   "source": [
    "s_camera"
   ]
  },
  {
   "cell_type": "code",
   "execution_count": 122,
   "metadata": {},
   "outputs": [],
   "source": [
    "disp_s = []\n",
    "for i in page_urls:\n",
    "    \n",
    "    driver.get(i)\n",
    "    time.sleep(3)\n",
    "    read_more = driver.find_element_by_xpath(\"//button[@class='_2KpZ6l _1FH0tX']\")\n",
    "    read_more.click()\n",
    "    try:\n",
    "        disp = driver.find_element_by_xpath(\"/html/body/div[1]/div/div[3]/div[1]/div[2]/div[6]/div[1]/div/div[2]/ul/li[2]\")\n",
    "        #cam\n",
    "        disp_s.append(disp.text)\n",
    "    except NoSuchElementException:\n",
    "        try:\n",
    "            cam_d = driver.find_element_by_xpath(\"/html/body/div[1]/div/div[3]/div[1]/div[2]/div[6]/div[1]/div/div[2]/ul/li[2]/text()\")\n",
    "            #cam\n",
    "            disp_s.append(disp.text)\n",
    "        except NoSuchElementException:\n",
    "            disp_s.append('no display details')\n",
    "    "
   ]
  },
  {
   "cell_type": "code",
   "execution_count": 123,
   "metadata": {},
   "outputs": [
    {
     "data": {
      "text/plain": [
       "['no display details',\n",
       " '13.84 cm (5.45 inch) FWVGA Display',\n",
       " '15.8 cm (6.22 inch) HD+ Display',\n",
       " '15.46 cm (6.088 inch) HD+ Display',\n",
       " '4.57 cm (1.8 inch) Display',\n",
       " 'no display details',\n",
       " 'no display details',\n",
       " '6.1 cm (2.4 inch) Display',\n",
       " 'no display details',\n",
       " 'no display details',\n",
       " 'no display details',\n",
       " 'no display details',\n",
       " 'no display details',\n",
       " 'no display details',\n",
       " 'no display details',\n",
       " 'no display details',\n",
       " 'no display details',\n",
       " 'no display details',\n",
       " 'no display details',\n",
       " '4.57 cm (1.8 inch) Display',\n",
       " 'no display details',\n",
       " 'no display details',\n",
       " '7.11 cm (2.8 inch) Display',\n",
       " 'no display details']"
      ]
     },
     "execution_count": 123,
     "metadata": {},
     "output_type": "execute_result"
    }
   ],
   "source": [
    "disp_s"
   ]
  },
  {
   "cell_type": "code",
   "execution_count": 125,
   "metadata": {},
   "outputs": [],
   "source": [
    "Processor = []\n",
    "for i in page_urls:\n",
    "    driver.get(i)\n",
    "    time.sleep(2)\n",
    "    read_more = driver.find_element_by_xpath(\"//button[@class='_2KpZ6l _1FH0tX']\")\n",
    "    read_more.click()\n",
    "    try:\n",
    "        pro = driver.find_element_by_xpath(\"/html/body/div[1]/div/div[3]/div[1]/div[2]/div[7]/div[4]/div/div[2]/div[1]/div[3]/table/tbody/tr[3]/td[2]/ul/li\")\n",
    "        #cam\n",
    "        Processor.append(pro.text)\n",
    "    except NoSuchElementException:\n",
    "        try:\n",
    "            pro = driver.find_element_by_xpath(\"/html/body/div[1]/div/div[3]/div[1]/div[2]/div[7]/div[4]/div/div[2]/div[1]/div[3]/table/tbody/tr[3]/td[2]\")\n",
    "            #cam\n",
    "            Processor.append(pro.text)\n",
    "        except NoSuchElementException:\n",
    "            Processor.append('no processor details')\n",
    "    "
   ]
  },
  {
   "cell_type": "code",
   "execution_count": 126,
   "metadata": {},
   "outputs": [
    {
     "data": {
      "text/plain": [
       "['no processor details',\n",
       " 'Quad Core',\n",
       " 'Octa Core',\n",
       " 'Octa Core',\n",
       " 'no processor details',\n",
       " 'no processor details',\n",
       " 'no processor details',\n",
       " 'no processor details',\n",
       " 'no processor details',\n",
       " 'no processor details',\n",
       " 'no processor details',\n",
       " 'no processor details',\n",
       " 'no processor details',\n",
       " 'no processor details',\n",
       " 'no processor details',\n",
       " 'no processor details',\n",
       " 'no processor details',\n",
       " 'no processor details',\n",
       " 'no processor details',\n",
       " 'no processor details',\n",
       " 'no processor details',\n",
       " 'no processor details',\n",
       " 'no processor details',\n",
       " 'no processor details']"
      ]
     },
     "execution_count": 126,
     "metadata": {},
     "output_type": "execute_result"
    }
   ],
   "source": [
    "Processor"
   ]
  },
  {
   "cell_type": "code",
   "execution_count": 127,
   "metadata": {},
   "outputs": [],
   "source": [
    "BatteryCapacity = []\n",
    "for i in page_urls:\n",
    "    driver.get(i)\n",
    "    time.sleep(2)\n",
    "    read_more = driver.find_element_by_xpath(\"//button[@class='_2KpZ6l _1FH0tX']\")\n",
    "    read_more.click()\n",
    "    try:\n",
    "        batt = driver.find_element_by_xpath(\"/html/body/div[1]/div/div[3]/div[1]/div[2]/div[7]/div[4]/div/div[2]/div[1]/div[10]/table/tbody/tr[1]/td[2]/ul/li\")\n",
    "        #battery\n",
    "        BatteryCapacity.append(batt.text)\n",
    "    except NoSuchElementException:\n",
    "        try:\n",
    "            batt = driver.find_element_by_xpath(\"/html/body/div[1]/div/div[3]/div[1]/div[2]/div[7]/div[4]/div/div[2]/div[1]/div[10]/table/tbody/tr[1]/td[2]\")\n",
    "            #battery\n",
    "            BatteryCapacity.append(batt.text)\n",
    "        except NoSuchElementException:\n",
    "            BatteryCapacity.append('no battery details')\n",
    "    "
   ]
  },
  {
   "cell_type": "code",
   "execution_count": 128,
   "metadata": {},
   "outputs": [
    {
     "data": {
      "text/plain": [
       "['no battery details',\n",
       " '3000 mAh',\n",
       " '4000 mAh',\n",
       " '4000 mAh',\n",
       " '200 g',\n",
       " 'no battery details',\n",
       " 'no battery details',\n",
       " 'no battery details',\n",
       " 'no battery details',\n",
       " 'no battery details',\n",
       " 'no battery details',\n",
       " 'no battery details',\n",
       " 'no battery details',\n",
       " 'no battery details',\n",
       " 'no battery details',\n",
       " 'no battery details',\n",
       " 'no battery details',\n",
       " 'no battery details',\n",
       " 'no battery details',\n",
       " '1000 mAh',\n",
       " 'no battery details',\n",
       " 'no battery details',\n",
       " 'no battery details',\n",
       " 'no battery details']"
      ]
     },
     "execution_count": 128,
     "metadata": {},
     "output_type": "execute_result"
    }
   ],
   "source": [
    "BatteryCapacity"
   ]
  },
  {
   "cell_type": "code",
   "execution_count": 134,
   "metadata": {},
   "outputs": [],
   "source": [
    "Price = []\n",
    "price = driver.find_elements_by_xpath(\"//div[@class='_30jeq3 _1_WHN1']\")\n",
    "\n",
    "for i in price:\n",
    "    Price.append(i.text)"
   ]
  },
  {
   "cell_type": "code",
   "execution_count": 135,
   "metadata": {},
   "outputs": [
    {
     "data": {
      "text/plain": [
       "['₹10,999', '₹5,005']"
      ]
     },
     "execution_count": 135,
     "metadata": {},
     "output_type": "execute_result"
    }
   ],
   "source": [
    "Price[:2]"
   ]
  },
  {
   "cell_type": "code",
   "execution_count": 136,
   "metadata": {},
   "outputs": [
    {
     "data": {
      "text/plain": [
       "24"
      ]
     },
     "execution_count": 136,
     "metadata": {},
     "output_type": "execute_result"
    }
   ],
   "source": [
    "len(Price)"
   ]
  },
  {
   "cell_type": "code",
   "execution_count": 137,
   "metadata": {
    "scrolled": false
   },
   "outputs": [
    {
     "data": {
      "text/plain": [
       "['https://www.flipkart.com/redmi-9-power-mighty-black-64-gb/p/itm481ab234a6553?pid=MOBFYZ94UWPWQRNF&lid=LSTMOBFYZ94UWPWQRNFD8SF5T&marketplace=FLIPKART&q=Oneplus+Nord%2C+pixel+4A&store=tyy%2F4io&srno=s_1_1&otracker=search&otracker1=search&fm=SEARCH&iid=b1aeaac9-092b-40a2-b023-5686f5d35f7a.MOBFYZ94UWPWQRNF.SEARCH&ppt=hp&ppn=homepage&ssid=gno2effblc0000001625500910659&qH=51e22a8c2f127b5e',\n",
       " 'https://www.flipkart.com/panasonic-eluga-i6-black-16-gb/p/itm876e1eeb85ac1?pid=MOBFS3GJ5CR7PVEW&lid=LSTMOBFS3GJ5CR7PVEWNORSVR&marketplace=FLIPKART&q=Oneplus+Nord%2C+pixel+4A&store=tyy%2F4io&srno=s_1_2&otracker=search&otracker1=search&fm=SEARCH&iid=b1aeaac9-092b-40a2-b023-5686f5d35f7a.MOBFS3GJ5CR7PVEW.SEARCH&ppt=hp&ppn=homepage&ssid=gno2effblc0000001625500910659&qH=51e22a8c2f127b5e',\n",
       " 'https://www.flipkart.com/panasonic-eluga-i8-charcoal-black-32-gb/p/itm83187d4b25e5f?pid=MOBFS3KXGFGYUZPE&lid=LSTMOBFS3KXGFGYUZPEAILZOH&marketplace=FLIPKART&q=Oneplus+Nord%2C+pixel+4A&store=tyy%2F4io&srno=s_1_3&otracker=search&otracker1=search&fm=SEARCH&iid=b1aeaac9-092b-40a2-b023-5686f5d35f7a.MOBFS3KXGFGYUZPE.SEARCH&ppt=hp&ppn=homepage&ssid=gno2effblc0000001625500910659&qH=51e22a8c2f127b5e']"
      ]
     },
     "execution_count": 137,
     "metadata": {},
     "output_type": "execute_result"
    }
   ],
   "source": [
    "product_url[:3]"
   ]
  },
  {
   "cell_type": "code",
   "execution_count": 138,
   "metadata": {},
   "outputs": [
    {
     "data": {
      "text/html": [
       "<div>\n",
       "<style scoped>\n",
       "    .dataframe tbody tr th:only-of-type {\n",
       "        vertical-align: middle;\n",
       "    }\n",
       "\n",
       "    .dataframe tbody tr th {\n",
       "        vertical-align: top;\n",
       "    }\n",
       "\n",
       "    .dataframe thead th {\n",
       "        text-align: right;\n",
       "    }\n",
       "</style>\n",
       "<table border=\"1\" class=\"dataframe\">\n",
       "  <thead>\n",
       "    <tr style=\"text-align: right;\">\n",
       "      <th></th>\n",
       "      <th>Phone_brand_name</th>\n",
       "      <th>Color</th>\n",
       "      <th>Detail</th>\n",
       "      <th>Ram</th>\n",
       "      <th>Rom</th>\n",
       "      <th>primary_camera</th>\n",
       "      <th>SecondaryCamera</th>\n",
       "      <th>disp_size</th>\n",
       "      <th>Processor</th>\n",
       "      <th>BatteryCapacity</th>\n",
       "      <th>Price</th>\n",
       "      <th>product_url</th>\n",
       "    </tr>\n",
       "  </thead>\n",
       "  <tbody>\n",
       "    <tr>\n",
       "      <th>0</th>\n",
       "      <td>REDMI 9 Power (Mighty Black, 64 GB)  (4 GB RAM)</td>\n",
       "      <td>Mighty Black</td>\n",
       "      <td>4 GB RAM | 64 GB ROM\\n16.59 cm (6.53 inch) Ful...</td>\n",
       "      <td>4</td>\n",
       "      <td>64</td>\n",
       "      <td>no cam details</td>\n",
       "      <td>no cam details</td>\n",
       "      <td>no display details</td>\n",
       "      <td>no processor details</td>\n",
       "      <td>no battery details</td>\n",
       "      <td>₹10,999</td>\n",
       "      <td>https://www.flipkart.com/redmi-9-power-mighty-...</td>\n",
       "    </tr>\n",
       "    <tr>\n",
       "      <th>1</th>\n",
       "      <td>Panasonic ELUGA I6 (Black, 16 GB)  (2 GB RAM)</td>\n",
       "      <td>no color details</td>\n",
       "      <td>2 GB RAM | 16 GB ROM | Expandable Upto 256 GB\\...</td>\n",
       "      <td>2</td>\n",
       "      <td>16</td>\n",
       "      <td>8MP Rear Camera</td>\n",
       "      <td>5 MP</td>\n",
       "      <td>13.84 cm (5.45 inch) FWVGA Display</td>\n",
       "      <td>Quad Core</td>\n",
       "      <td>3000 mAh</td>\n",
       "      <td>₹5,005</td>\n",
       "      <td>https://www.flipkart.com/panasonic-eluga-i6-bl...</td>\n",
       "    </tr>\n",
       "    <tr>\n",
       "      <th>2</th>\n",
       "      <td>Panasonic Eluga I8 (Charcoal Black, 32 GB)  (3...</td>\n",
       "      <td>no color details</td>\n",
       "      <td>3 GB RAM | 32 GB ROM | Expandable Upto 512 GB\\...</td>\n",
       "      <td>3</td>\n",
       "      <td>32</td>\n",
       "      <td>13MP Rear Camera</td>\n",
       "      <td>8 MP</td>\n",
       "      <td>15.8 cm (6.22 inch) HD+ Display</td>\n",
       "      <td>Octa Core</td>\n",
       "      <td>4000 mAh</td>\n",
       "      <td>₹6,999</td>\n",
       "      <td>https://www.flipkart.com/panasonic-eluga-i8-ch...</td>\n",
       "    </tr>\n",
       "    <tr>\n",
       "      <th>3</th>\n",
       "      <td>Itel VISION1 (GRADATION GREEN, 32 GB)  (2 GB RAM)</td>\n",
       "      <td>no color details</td>\n",
       "      <td>2 GB RAM | 32 GB ROM | Expandable Upto 128 GB\\...</td>\n",
       "      <td>2</td>\n",
       "      <td>32</td>\n",
       "      <td>8MP Rear Camera</td>\n",
       "      <td>5MP Front Camera</td>\n",
       "      <td>15.46 cm (6.088 inch) HD+ Display</td>\n",
       "      <td>Octa Core</td>\n",
       "      <td>4000 mAh</td>\n",
       "      <td>₹6,992</td>\n",
       "      <td>https://www.flipkart.com/itel-vision1-gradatio...</td>\n",
       "    </tr>\n",
       "    <tr>\n",
       "      <th>4</th>\n",
       "      <td>BlackZone M15  (Black)</td>\n",
       "      <td>no color details</td>\n",
       "      <td>64 MB RAM | 64 MB ROM | Expandable Upto 32 GB\\...</td>\n",
       "      <td>6</td>\n",
       "      <td>6</td>\n",
       "      <td>no cam details</td>\n",
       "      <td>no cam details</td>\n",
       "      <td>4.57 cm (1.8 inch) Display</td>\n",
       "      <td>no processor details</td>\n",
       "      <td>200 g</td>\n",
       "      <td>₹865</td>\n",
       "      <td>https://www.flipkart.com/blackzone-m15/p/itm30...</td>\n",
       "    </tr>\n",
       "    <tr>\n",
       "      <th>5</th>\n",
       "      <td>Mi 10i (Atlantic Blue, 128 GB)  (6 GB RAM)</td>\n",
       "      <td>no color details</td>\n",
       "      <td>6 GB RAM | 128 GB ROM\\n16.94 cm (6.67 inch) Di...</td>\n",
       "      <td>6</td>\n",
       "      <td>12</td>\n",
       "      <td>no cam details</td>\n",
       "      <td>no cam details</td>\n",
       "      <td>no display details</td>\n",
       "      <td>no processor details</td>\n",
       "      <td>no battery details</td>\n",
       "      <td>₹22,338</td>\n",
       "      <td>https://www.flipkart.com/mi-10i-atlantic-blue-...</td>\n",
       "    </tr>\n",
       "    <tr>\n",
       "      <th>6</th>\n",
       "      <td>Redmi Note 9 Pro (Champagne Gold, 128 GB)  (6 ...</td>\n",
       "      <td>no color details</td>\n",
       "      <td>6 GB RAM | 128 GB ROM | Expandable Upto 512 GB...</td>\n",
       "      <td>6</td>\n",
       "      <td>12</td>\n",
       "      <td>no cam details</td>\n",
       "      <td>no cam details</td>\n",
       "      <td>no display details</td>\n",
       "      <td>no processor details</td>\n",
       "      <td>no battery details</td>\n",
       "      <td>₹17,999</td>\n",
       "      <td>https://www.flipkart.com/redmi-note-9-pro-cham...</td>\n",
       "    </tr>\n",
       "    <tr>\n",
       "      <th>7</th>\n",
       "      <td>Nokia 125 DS  (Black)</td>\n",
       "      <td>no color details</td>\n",
       "      <td>4 MB RAM | 4 MB ROM\\n6.1 cm (2.4 inch) Display...</td>\n",
       "      <td>4</td>\n",
       "      <td>4</td>\n",
       "      <td>GSM</td>\n",
       "      <td>no cam details</td>\n",
       "      <td>6.1 cm (2.4 inch) Display</td>\n",
       "      <td>no processor details</td>\n",
       "      <td>no battery details</td>\n",
       "      <td>₹2,178</td>\n",
       "      <td>https://www.flipkart.com/nokia-125-ds/p/itm3f3...</td>\n",
       "    </tr>\n",
       "    <tr>\n",
       "      <th>8</th>\n",
       "      <td>Redmi Note 9 Pro (Interstellar Black, 128 GB) ...</td>\n",
       "      <td>no color details</td>\n",
       "      <td>4 GB RAM | 128 GB ROM | Expandable Upto 512 GB...</td>\n",
       "      <td>4</td>\n",
       "      <td>12</td>\n",
       "      <td>no cam details</td>\n",
       "      <td>no cam details</td>\n",
       "      <td>no display details</td>\n",
       "      <td>no processor details</td>\n",
       "      <td>no battery details</td>\n",
       "      <td>₹16,995</td>\n",
       "      <td>https://www.flipkart.com/redmi-note-9-pro-inte...</td>\n",
       "    </tr>\n",
       "    <tr>\n",
       "      <th>9</th>\n",
       "      <td>Ismart i1 Supreme (Black, 32 GB)  (2 GB RAM)</td>\n",
       "      <td>no color details</td>\n",
       "      <td>2 GB RAM | 32 GB ROM | Expandable Upto 32 GB\\n...</td>\n",
       "      <td>2</td>\n",
       "      <td>32</td>\n",
       "      <td>no cam details</td>\n",
       "      <td>no cam details</td>\n",
       "      <td>no display details</td>\n",
       "      <td>no processor details</td>\n",
       "      <td>no battery details</td>\n",
       "      <td>₹5,399</td>\n",
       "      <td>https://www.flipkart.com/ismart-i1-supreme-bla...</td>\n",
       "    </tr>\n",
       "    <tr>\n",
       "      <th>10</th>\n",
       "      <td>Redmi Note 9 Pro (Champagne Gold, 128 GB)  (4 ...</td>\n",
       "      <td>no color details</td>\n",
       "      <td>4 GB RAM | 128 GB ROM | Expandable Upto 512 GB...</td>\n",
       "      <td>4</td>\n",
       "      <td>12</td>\n",
       "      <td>no cam details</td>\n",
       "      <td>no cam details</td>\n",
       "      <td>no display details</td>\n",
       "      <td>no processor details</td>\n",
       "      <td>no battery details</td>\n",
       "      <td>₹16,499</td>\n",
       "      <td>https://www.flipkart.com/redmi-note-9-pro-cham...</td>\n",
       "    </tr>\n",
       "    <tr>\n",
       "      <th>11</th>\n",
       "      <td>SAMSUNG M01 core (Black, 32 GB)  (2 GB RAM)</td>\n",
       "      <td>no color details</td>\n",
       "      <td>2 GB RAM | 32 GB ROM | Expandable Upto 512 GB\\...</td>\n",
       "      <td>2</td>\n",
       "      <td>32</td>\n",
       "      <td>no cam details</td>\n",
       "      <td>no cam details</td>\n",
       "      <td>no display details</td>\n",
       "      <td>no processor details</td>\n",
       "      <td>no battery details</td>\n",
       "      <td>₹5,999</td>\n",
       "      <td>https://www.flipkart.com/samsung-m01-core-blac...</td>\n",
       "    </tr>\n",
       "    <tr>\n",
       "      <th>12</th>\n",
       "      <td>Redmi Note 9 Pro (Glacier White, 128 GB)  (4 G...</td>\n",
       "      <td>no color details</td>\n",
       "      <td>4 GB RAM | 128 GB ROM | Expandable Upto 512 GB...</td>\n",
       "      <td>4</td>\n",
       "      <td>12</td>\n",
       "      <td>no cam details</td>\n",
       "      <td>no cam details</td>\n",
       "      <td>no display details</td>\n",
       "      <td>no processor details</td>\n",
       "      <td>no battery details</td>\n",
       "      <td>₹16,749</td>\n",
       "      <td>https://www.flipkart.com/redmi-note-9-pro-glac...</td>\n",
       "    </tr>\n",
       "    <tr>\n",
       "      <th>13</th>\n",
       "      <td>Redmi Note 9 Pro (Interstellar Black, 64 GB)  ...</td>\n",
       "      <td>no color details</td>\n",
       "      <td>6 GB RAM | 128 GB ROM | Expandable Upto 512 GB...</td>\n",
       "      <td>6</td>\n",
       "      <td>12</td>\n",
       "      <td>no cam details</td>\n",
       "      <td>no cam details</td>\n",
       "      <td>no display details</td>\n",
       "      <td>no processor details</td>\n",
       "      <td>no battery details</td>\n",
       "      <td>₹19,999</td>\n",
       "      <td>https://www.flipkart.com/redmi-note-9-pro-inte...</td>\n",
       "    </tr>\n",
       "    <tr>\n",
       "      <th>14</th>\n",
       "      <td>Redmi Note 9 Pro (Champagne Gold, 64 GB)  (4 G...</td>\n",
       "      <td>no color details</td>\n",
       "      <td>2 GB RAM | 32 GB ROM | Expandable Upto 128 GB\\...</td>\n",
       "      <td>2</td>\n",
       "      <td>32</td>\n",
       "      <td>no cam details</td>\n",
       "      <td>no cam details</td>\n",
       "      <td>no display details</td>\n",
       "      <td>no processor details</td>\n",
       "      <td>no battery details</td>\n",
       "      <td>₹6,999</td>\n",
       "      <td>https://www.flipkart.com/redmi-note-9-pro-cham...</td>\n",
       "    </tr>\n",
       "    <tr>\n",
       "      <th>15</th>\n",
       "      <td>Tecno Spark 4 Air (Nebula Black, 32 GB)  (3 GB...</td>\n",
       "      <td>no color details</td>\n",
       "      <td>3 GB RAM | 32 GB ROM | Expandable Upto 128 GB\\...</td>\n",
       "      <td>3</td>\n",
       "      <td>32</td>\n",
       "      <td>no cam details</td>\n",
       "      <td>no cam details</td>\n",
       "      <td>no display details</td>\n",
       "      <td>no processor details</td>\n",
       "      <td>no battery details</td>\n",
       "      <td>₹5,890</td>\n",
       "      <td>https://www.flipkart.com/tecno-spark-4-air-neb...</td>\n",
       "    </tr>\n",
       "    <tr>\n",
       "      <th>16</th>\n",
       "      <td>Redmi Note 9 Pro (Glacier White, 128 GB)  (6 G...</td>\n",
       "      <td>no color details</td>\n",
       "      <td>4 MB RAM | 64 MB ROM\\n4.57 cm (1.8 inch) Displ...</td>\n",
       "      <td>4</td>\n",
       "      <td>64</td>\n",
       "      <td>no cam details</td>\n",
       "      <td>no cam details</td>\n",
       "      <td>no display details</td>\n",
       "      <td>no processor details</td>\n",
       "      <td>no battery details</td>\n",
       "      <td>₹1,149</td>\n",
       "      <td>https://www.flipkart.com/redmi-note-9-pro-glac...</td>\n",
       "    </tr>\n",
       "    <tr>\n",
       "      <th>17</th>\n",
       "      <td>Itel Vision1 (Gradation Purple, 32 GB)  (2 GB ...</td>\n",
       "      <td>no color details</td>\n",
       "      <td>3 GB RAM | 32 GB ROM\\n16.64 cm (6.55 inch) Ful...</td>\n",
       "      <td>3</td>\n",
       "      <td>32</td>\n",
       "      <td>no cam details</td>\n",
       "      <td>no cam details</td>\n",
       "      <td>no display details</td>\n",
       "      <td>no processor details</td>\n",
       "      <td>no battery details</td>\n",
       "      <td>₹8,350</td>\n",
       "      <td>https://www.flipkart.com/itel-vision1-gradatio...</td>\n",
       "    </tr>\n",
       "    <tr>\n",
       "      <th>18</th>\n",
       "      <td>Telefono S1 (Interstellar Black, 32 GB)  (3 GB...</td>\n",
       "      <td>no color details</td>\n",
       "      <td>32 MB RAM | 32 MB ROM | Expandable Upto 32 GB\\...</td>\n",
       "      <td>3</td>\n",
       "      <td>3</td>\n",
       "      <td>no cam details</td>\n",
       "      <td>no cam details</td>\n",
       "      <td>no display details</td>\n",
       "      <td>no processor details</td>\n",
       "      <td>no battery details</td>\n",
       "      <td>₹875</td>\n",
       "      <td>https://www.flipkart.com/telefono-s1-interstel...</td>\n",
       "    </tr>\n",
       "    <tr>\n",
       "      <th>19</th>\n",
       "      <td>KAWL STAR  (Black)</td>\n",
       "      <td>no color details</td>\n",
       "      <td>512 MB RAM | 32 MB ROM\\n7.11 cm (2.8 inch) Dis...</td>\n",
       "      <td>5</td>\n",
       "      <td>|</td>\n",
       "      <td>no cam details</td>\n",
       "      <td>no cam details</td>\n",
       "      <td>4.57 cm (1.8 inch) Display</td>\n",
       "      <td>no processor details</td>\n",
       "      <td>1000 mAh</td>\n",
       "      <td>₹999</td>\n",
       "      <td>https://www.flipkart.com/kawl-star/p/itm9ff7be...</td>\n",
       "    </tr>\n",
       "    <tr>\n",
       "      <th>20</th>\n",
       "      <td>SAMSUNG Galaxy M02 (Blue, 32 GB)  (3 GB RAM)</td>\n",
       "      <td>no color details</td>\n",
       "      <td>4 GB RAM | 64 GB ROM | Expandable Upto 512 GB\\...</td>\n",
       "      <td>4</td>\n",
       "      <td>64</td>\n",
       "      <td>no cam details</td>\n",
       "      <td>no cam details</td>\n",
       "      <td>no display details</td>\n",
       "      <td>no processor details</td>\n",
       "      <td>no battery details</td>\n",
       "      <td>₹15,990</td>\n",
       "      <td>https://www.flipkart.com/samsung-galaxy-m02-bl...</td>\n",
       "    </tr>\n",
       "    <tr>\n",
       "      <th>21</th>\n",
       "      <td>KARBONN KX4  (Black, Blue)</td>\n",
       "      <td>no color details</td>\n",
       "      <td>6 GB RAM | 128 GB ROM | Expandable Upto 512 GB...</td>\n",
       "      <td>6</td>\n",
       "      <td>12</td>\n",
       "      <td>no cam details</td>\n",
       "      <td>no cam details</td>\n",
       "      <td>no display details</td>\n",
       "      <td>no processor details</td>\n",
       "      <td>no battery details</td>\n",
       "      <td>₹19,999</td>\n",
       "      <td>https://www.flipkart.com/karbonn-kx4/p/itmb128...</td>\n",
       "    </tr>\n",
       "    <tr>\n",
       "      <th>22</th>\n",
       "      <td>Kechaoda A31  (Pink)</td>\n",
       "      <td>no color details</td>\n",
       "      <td>8 GB RAM | 256 GB ROM\\n16.94 cm (6.67 inch) Di...</td>\n",
       "      <td>8</td>\n",
       "      <td>25</td>\n",
       "      <td>no cam details</td>\n",
       "      <td>no cam details</td>\n",
       "      <td>7.11 cm (2.8 inch) Display</td>\n",
       "      <td>no processor details</td>\n",
       "      <td>no battery details</td>\n",
       "      <td>₹50,999</td>\n",
       "      <td>https://www.flipkart.com/kechaoda-a31/p/itmfc9...</td>\n",
       "    </tr>\n",
       "    <tr>\n",
       "      <th>23</th>\n",
       "      <td>Redmi Note 9 Pro (Glacier White, 64 GB)  (4 GB...</td>\n",
       "      <td>no color details</td>\n",
       "      <td>32 MB RAM | 10 MB ROM\\n4.57 cm (1.8 inch) Disp...</td>\n",
       "      <td>3</td>\n",
       "      <td>1</td>\n",
       "      <td>no cam details</td>\n",
       "      <td>no cam details</td>\n",
       "      <td>no display details</td>\n",
       "      <td>no processor details</td>\n",
       "      <td>no battery details</td>\n",
       "      <td>₹659</td>\n",
       "      <td>https://www.flipkart.com/redmi-note-9-pro-glac...</td>\n",
       "    </tr>\n",
       "  </tbody>\n",
       "</table>\n",
       "</div>"
      ],
      "text/plain": [
       "                                     Phone_brand_name             Color  \\\n",
       "0     REDMI 9 Power (Mighty Black, 64 GB)  (4 GB RAM)      Mighty Black   \n",
       "1       Panasonic ELUGA I6 (Black, 16 GB)  (2 GB RAM)  no color details   \n",
       "2   Panasonic Eluga I8 (Charcoal Black, 32 GB)  (3...  no color details   \n",
       "3   Itel VISION1 (GRADATION GREEN, 32 GB)  (2 GB RAM)  no color details   \n",
       "4                              BlackZone M15  (Black)  no color details   \n",
       "5          Mi 10i (Atlantic Blue, 128 GB)  (6 GB RAM)  no color details   \n",
       "6   Redmi Note 9 Pro (Champagne Gold, 128 GB)  (6 ...  no color details   \n",
       "7                               Nokia 125 DS  (Black)  no color details   \n",
       "8   Redmi Note 9 Pro (Interstellar Black, 128 GB) ...  no color details   \n",
       "9        Ismart i1 Supreme (Black, 32 GB)  (2 GB RAM)  no color details   \n",
       "10  Redmi Note 9 Pro (Champagne Gold, 128 GB)  (4 ...  no color details   \n",
       "11        SAMSUNG M01 core (Black, 32 GB)  (2 GB RAM)  no color details   \n",
       "12  Redmi Note 9 Pro (Glacier White, 128 GB)  (4 G...  no color details   \n",
       "13  Redmi Note 9 Pro (Interstellar Black, 64 GB)  ...  no color details   \n",
       "14  Redmi Note 9 Pro (Champagne Gold, 64 GB)  (4 G...  no color details   \n",
       "15  Tecno Spark 4 Air (Nebula Black, 32 GB)  (3 GB...  no color details   \n",
       "16  Redmi Note 9 Pro (Glacier White, 128 GB)  (6 G...  no color details   \n",
       "17  Itel Vision1 (Gradation Purple, 32 GB)  (2 GB ...  no color details   \n",
       "18  Telefono S1 (Interstellar Black, 32 GB)  (3 GB...  no color details   \n",
       "19                                 KAWL STAR  (Black)  no color details   \n",
       "20       SAMSUNG Galaxy M02 (Blue, 32 GB)  (3 GB RAM)  no color details   \n",
       "21                         KARBONN KX4  (Black, Blue)  no color details   \n",
       "22                               Kechaoda A31  (Pink)  no color details   \n",
       "23  Redmi Note 9 Pro (Glacier White, 64 GB)  (4 GB...  no color details   \n",
       "\n",
       "                                               Detail Ram Rom  \\\n",
       "0   4 GB RAM | 64 GB ROM\\n16.59 cm (6.53 inch) Ful...   4  64   \n",
       "1   2 GB RAM | 16 GB ROM | Expandable Upto 256 GB\\...   2  16   \n",
       "2   3 GB RAM | 32 GB ROM | Expandable Upto 512 GB\\...   3  32   \n",
       "3   2 GB RAM | 32 GB ROM | Expandable Upto 128 GB\\...   2  32   \n",
       "4   64 MB RAM | 64 MB ROM | Expandable Upto 32 GB\\...   6   6   \n",
       "5   6 GB RAM | 128 GB ROM\\n16.94 cm (6.67 inch) Di...   6  12   \n",
       "6   6 GB RAM | 128 GB ROM | Expandable Upto 512 GB...   6  12   \n",
       "7   4 MB RAM | 4 MB ROM\\n6.1 cm (2.4 inch) Display...   4  4    \n",
       "8   4 GB RAM | 128 GB ROM | Expandable Upto 512 GB...   4  12   \n",
       "9   2 GB RAM | 32 GB ROM | Expandable Upto 32 GB\\n...   2  32   \n",
       "10  4 GB RAM | 128 GB ROM | Expandable Upto 512 GB...   4  12   \n",
       "11  2 GB RAM | 32 GB ROM | Expandable Upto 512 GB\\...   2  32   \n",
       "12  4 GB RAM | 128 GB ROM | Expandable Upto 512 GB...   4  12   \n",
       "13  6 GB RAM | 128 GB ROM | Expandable Upto 512 GB...   6  12   \n",
       "14  2 GB RAM | 32 GB ROM | Expandable Upto 128 GB\\...   2  32   \n",
       "15  3 GB RAM | 32 GB ROM | Expandable Upto 128 GB\\...   3  32   \n",
       "16  4 MB RAM | 64 MB ROM\\n4.57 cm (1.8 inch) Displ...   4  64   \n",
       "17  3 GB RAM | 32 GB ROM\\n16.64 cm (6.55 inch) Ful...   3  32   \n",
       "18  32 MB RAM | 32 MB ROM | Expandable Upto 32 GB\\...   3   3   \n",
       "19  512 MB RAM | 32 MB ROM\\n7.11 cm (2.8 inch) Dis...   5  |    \n",
       "20  4 GB RAM | 64 GB ROM | Expandable Upto 512 GB\\...   4  64   \n",
       "21  6 GB RAM | 128 GB ROM | Expandable Upto 512 GB...   6  12   \n",
       "22  8 GB RAM | 256 GB ROM\\n16.94 cm (6.67 inch) Di...   8  25   \n",
       "23  32 MB RAM | 10 MB ROM\\n4.57 cm (1.8 inch) Disp...   3   1   \n",
       "\n",
       "      primary_camera   SecondaryCamera                           disp_size  \\\n",
       "0     no cam details    no cam details                  no display details   \n",
       "1    8MP Rear Camera              5 MP  13.84 cm (5.45 inch) FWVGA Display   \n",
       "2   13MP Rear Camera              8 MP     15.8 cm (6.22 inch) HD+ Display   \n",
       "3    8MP Rear Camera  5MP Front Camera   15.46 cm (6.088 inch) HD+ Display   \n",
       "4     no cam details    no cam details          4.57 cm (1.8 inch) Display   \n",
       "5     no cam details    no cam details                  no display details   \n",
       "6     no cam details    no cam details                  no display details   \n",
       "7                GSM    no cam details           6.1 cm (2.4 inch) Display   \n",
       "8     no cam details    no cam details                  no display details   \n",
       "9     no cam details    no cam details                  no display details   \n",
       "10    no cam details    no cam details                  no display details   \n",
       "11    no cam details    no cam details                  no display details   \n",
       "12    no cam details    no cam details                  no display details   \n",
       "13    no cam details    no cam details                  no display details   \n",
       "14    no cam details    no cam details                  no display details   \n",
       "15    no cam details    no cam details                  no display details   \n",
       "16    no cam details    no cam details                  no display details   \n",
       "17    no cam details    no cam details                  no display details   \n",
       "18    no cam details    no cam details                  no display details   \n",
       "19    no cam details    no cam details          4.57 cm (1.8 inch) Display   \n",
       "20    no cam details    no cam details                  no display details   \n",
       "21    no cam details    no cam details                  no display details   \n",
       "22    no cam details    no cam details          7.11 cm (2.8 inch) Display   \n",
       "23    no cam details    no cam details                  no display details   \n",
       "\n",
       "               Processor     BatteryCapacity    Price  \\\n",
       "0   no processor details  no battery details  ₹10,999   \n",
       "1              Quad Core            3000 mAh   ₹5,005   \n",
       "2              Octa Core            4000 mAh   ₹6,999   \n",
       "3              Octa Core            4000 mAh   ₹6,992   \n",
       "4   no processor details               200 g     ₹865   \n",
       "5   no processor details  no battery details  ₹22,338   \n",
       "6   no processor details  no battery details  ₹17,999   \n",
       "7   no processor details  no battery details   ₹2,178   \n",
       "8   no processor details  no battery details  ₹16,995   \n",
       "9   no processor details  no battery details   ₹5,399   \n",
       "10  no processor details  no battery details  ₹16,499   \n",
       "11  no processor details  no battery details   ₹5,999   \n",
       "12  no processor details  no battery details  ₹16,749   \n",
       "13  no processor details  no battery details  ₹19,999   \n",
       "14  no processor details  no battery details   ₹6,999   \n",
       "15  no processor details  no battery details   ₹5,890   \n",
       "16  no processor details  no battery details   ₹1,149   \n",
       "17  no processor details  no battery details   ₹8,350   \n",
       "18  no processor details  no battery details     ₹875   \n",
       "19  no processor details            1000 mAh     ₹999   \n",
       "20  no processor details  no battery details  ₹15,990   \n",
       "21  no processor details  no battery details  ₹19,999   \n",
       "22  no processor details  no battery details  ₹50,999   \n",
       "23  no processor details  no battery details     ₹659   \n",
       "\n",
       "                                          product_url  \n",
       "0   https://www.flipkart.com/redmi-9-power-mighty-...  \n",
       "1   https://www.flipkart.com/panasonic-eluga-i6-bl...  \n",
       "2   https://www.flipkart.com/panasonic-eluga-i8-ch...  \n",
       "3   https://www.flipkart.com/itel-vision1-gradatio...  \n",
       "4   https://www.flipkart.com/blackzone-m15/p/itm30...  \n",
       "5   https://www.flipkart.com/mi-10i-atlantic-blue-...  \n",
       "6   https://www.flipkart.com/redmi-note-9-pro-cham...  \n",
       "7   https://www.flipkart.com/nokia-125-ds/p/itm3f3...  \n",
       "8   https://www.flipkart.com/redmi-note-9-pro-inte...  \n",
       "9   https://www.flipkart.com/ismart-i1-supreme-bla...  \n",
       "10  https://www.flipkart.com/redmi-note-9-pro-cham...  \n",
       "11  https://www.flipkart.com/samsung-m01-core-blac...  \n",
       "12  https://www.flipkart.com/redmi-note-9-pro-glac...  \n",
       "13  https://www.flipkart.com/redmi-note-9-pro-inte...  \n",
       "14  https://www.flipkart.com/redmi-note-9-pro-cham...  \n",
       "15  https://www.flipkart.com/tecno-spark-4-air-neb...  \n",
       "16  https://www.flipkart.com/redmi-note-9-pro-glac...  \n",
       "17  https://www.flipkart.com/itel-vision1-gradatio...  \n",
       "18  https://www.flipkart.com/telefono-s1-interstel...  \n",
       "19  https://www.flipkart.com/kawl-star/p/itm9ff7be...  \n",
       "20  https://www.flipkart.com/samsung-galaxy-m02-bl...  \n",
       "21  https://www.flipkart.com/karbonn-kx4/p/itmb128...  \n",
       "22  https://www.flipkart.com/kechaoda-a31/p/itmfc9...  \n",
       "23  https://www.flipkart.com/redmi-note-9-pro-glac...  "
      ]
     },
     "execution_count": 138,
     "metadata": {},
     "output_type": "execute_result"
    }
   ],
   "source": [
    "# creating the dataframe\n",
    "df=pd.DataFrame({\"Phone_brand_name\": Phone_brand_name, \"Color\": Color, \"Detail\": details, \"Ram\": Ram, \"Rom\": Rom, \"primary_camera\": primary_camera, \"SecondaryCamera\": s_camera, \"disp_size\" : disp_s, \"Processor\": Processor, \"BatteryCapacity\": BatteryCapacity, \"Price\": Price,  \"product_url\": product_url})\n",
    "df"
   ]
  },
  {
   "cell_type": "code",
   "execution_count": 139,
   "metadata": {},
   "outputs": [],
   "source": [
    "#saving dataframe as csv:\n",
    "df.to_csv(\"Oneplus_Nord_and_pixel_4A.csv\")"
   ]
  },
  {
   "cell_type": "markdown",
   "metadata": {},
   "source": [
    "# Question 5)"
   ]
  },
  {
   "cell_type": "markdown",
   "metadata": {},
   "source": [
    "Question 5)\n",
    "Write a program to scrap geospatial coordinates (latitude, longitude) of a city searched on \n",
    "google maps."
   ]
  },
  {
   "cell_type": "code",
   "execution_count": 140,
   "metadata": {},
   "outputs": [],
   "source": [
    "driver = webdriver.Chrome(r\"C:\\Users\\vaibhav\\Desktop\\Data science\\FlipRobo Projects\\Web Scrapping 2\\chromedriver.exe\")\n",
    "url = 'https://www.googlemaps.com'\n",
    "driver.get(url)"
   ]
  },
  {
   "cell_type": "code",
   "execution_count": 141,
   "metadata": {},
   "outputs": [],
   "source": [
    "search_bar=driver.find_element_by_xpath(\"//input[@class='tactile-searchbox-input']\")\n",
    "search_bar.send_keys('Mumbai')\n"
   ]
  },
  {
   "cell_type": "code",
   "execution_count": 142,
   "metadata": {},
   "outputs": [],
   "source": [
    "search_button=driver.find_element_by_xpath(\"/html/body/jsl/div[3]/div[9]/div[3]/div[1]/div[1]/div[1]/div[2]/div[1]/button\")\n",
    "search_button.click()"
   ]
  },
  {
   "cell_type": "code",
   "execution_count": 147,
   "metadata": {},
   "outputs": [
    {
     "name": "stdout",
     "output_type": "stream",
     "text": [
      "URL Extracted:  https://www.google.com/maps/place/Mumbai,+Maharashtra/@19.0820391,72.6009785,10z/data=!3m1!4b1!4m5!3m4!1s0x3be7c6306644edc1:0x5da4ed8f8d648c69!8m2!3d19.0759837!4d72.8776559\n"
     ]
    },
    {
     "ename": "AttributeError",
     "evalue": "'WebDriver' object has no attribute 'findall'",
     "output_type": "error",
     "traceback": [
      "\u001b[1;31m---------------------------------------------------------------------------\u001b[0m",
      "\u001b[1;31mAttributeError\u001b[0m                            Traceback (most recent call last)",
      "\u001b[1;32m<ipython-input-147-c195e5aef546>\u001b[0m in \u001b[0;36m<module>\u001b[1;34m\u001b[0m\n\u001b[0;32m      2\u001b[0m \u001b[1;33m\u001b[0m\u001b[0m\n\u001b[0;32m      3\u001b[0m \u001b[0mprint\u001b[0m\u001b[1;33m(\u001b[0m\u001b[1;34m\"URL Extracted: \"\u001b[0m\u001b[1;33m,\u001b[0m \u001b[0murl_string\u001b[0m\u001b[1;33m)\u001b[0m\u001b[1;33m\u001b[0m\u001b[1;33m\u001b[0m\u001b[0m\n\u001b[1;32m----> 4\u001b[1;33m \u001b[0mlat_lng\u001b[0m \u001b[1;33m=\u001b[0m \u001b[0mdriver\u001b[0m\u001b[1;33m.\u001b[0m\u001b[0mfindall\u001b[0m\u001b[1;33m(\u001b[0m\u001b[1;34mr'@(.*)data'\u001b[0m\u001b[1;33m,\u001b[0m \u001b[0murl_string\u001b[0m\u001b[1;33m)\u001b[0m\u001b[1;33m\u001b[0m\u001b[1;33m\u001b[0m\u001b[0m\n\u001b[0m",
      "\u001b[1;31mAttributeError\u001b[0m: 'WebDriver' object has no attribute 'findall'"
     ]
    }
   ],
   "source": [
    "url_string = driver.current_url\n",
    "\n",
    "print(\"URL Extracted: \", url_string)\n",
    "lat_lng = driver.findall(r'@(.*)data', url_string)"
   ]
  },
  {
   "cell_type": "markdown",
   "metadata": {},
   "source": [
    "# Question 6)"
   ]
  },
  {
   "cell_type": "markdown",
   "metadata": {},
   "source": [
    "Write a program to scrap details of all the funding deals for second quarter (i.e. July 20 –\n",
    "September 20) from trak.in"
   ]
  },
  {
   "cell_type": "code",
   "execution_count": 149,
   "metadata": {},
   "outputs": [],
   "source": [
    "driver = webdriver.Chrome(r\"C:\\Users\\vaibhav\\Desktop\\Data science\\FlipRobo Projects\\Web Scrapping 2\\chromedriver.exe\")\n",
    "url = 'https://www.trak.in'\n",
    "driver.get(url)"
   ]
  },
  {
   "cell_type": "code",
   "execution_count": 151,
   "metadata": {},
   "outputs": [],
   "source": [
    "menu_handler=driver.find_element_by_xpath(\"/html/body/div[1]/div[1]/div/div/div[1]/span\")\n",
    "menu_handler.click()"
   ]
  },
  {
   "cell_type": "code",
   "execution_count": 152,
   "metadata": {},
   "outputs": [],
   "source": [
    "funding = driver.find_element_by_xpath(\"/html/body/div[2]/div[1]/div[2]/div[1]/ul[1]/li[9]/a\")\n",
    "funding.click()"
   ]
  },
  {
   "cell_type": "code",
   "execution_count": 153,
   "metadata": {},
   "outputs": [
    {
     "ename": "InvalidSelectorException",
     "evalue": "Message: invalid selector: Unable to locate an element with the xpath expression //table[@id=\"tablepress-<selenium.webdriver.remote.webelement.WebElement (session=\"0271773f2f6ed71369afbb3489d6e45f\", element=\"6d253b5a-ffa3-489b-bb22-eac3fa0d7259\")>\"]/tbody/tr/td[2] because of the following error:\nSyntaxError: Failed to execute 'evaluate' on 'Document': The string '//table[@id=\"tablepress-<selenium.webdriver.remote.webelement.WebElement (session=\"0271773f2f6ed71369afbb3489d6e45f\", element=\"6d253b5a-ffa3-489b-bb22-eac3fa0d7259\")>\"]/tbody/tr/td[2]' is not a valid XPath expression.\n  (Session info: chrome=91.0.4472.124)\n",
     "output_type": "error",
     "traceback": [
      "\u001b[1;31m---------------------------------------------------------------------------\u001b[0m",
      "\u001b[1;31mInvalidSelectorException\u001b[0m                  Traceback (most recent call last)",
      "\u001b[1;32m<ipython-input-153-703b8bb1ac64>\u001b[0m in \u001b[0;36m<module>\u001b[1;34m\u001b[0m\n\u001b[1;32m----> 1\u001b[1;33m \u001b[0mdt\u001b[0m \u001b[1;33m=\u001b[0m \u001b[0mdriver\u001b[0m\u001b[1;33m.\u001b[0m\u001b[0mfind_elements_by_xpath\u001b[0m\u001b[1;33m(\u001b[0m\u001b[1;34m'//table[@id=\"tablepress-{}\"]/tbody/tr/td[2]'\u001b[0m\u001b[1;33m.\u001b[0m\u001b[0mformat\u001b[0m\u001b[1;33m(\u001b[0m\u001b[0mi\u001b[0m\u001b[1;33m)\u001b[0m\u001b[1;33m)\u001b[0m\u001b[1;33m\u001b[0m\u001b[1;33m\u001b[0m\u001b[0m\n\u001b[0m",
      "\u001b[1;32mC:\\ProgramData\\Anaconda3\\lib\\site-packages\\selenium\\webdriver\\remote\\webdriver.py\u001b[0m in \u001b[0;36mfind_elements_by_xpath\u001b[1;34m(self, xpath)\u001b[0m\n\u001b[0;32m    408\u001b[0m             \u001b[0melements\u001b[0m \u001b[1;33m=\u001b[0m \u001b[0mdriver\u001b[0m\u001b[1;33m.\u001b[0m\u001b[0mfind_elements_by_xpath\u001b[0m\u001b[1;33m(\u001b[0m\u001b[1;34m\"//div[contains(@class, 'foo')]\"\u001b[0m\u001b[1;33m)\u001b[0m\u001b[1;33m\u001b[0m\u001b[1;33m\u001b[0m\u001b[0m\n\u001b[0;32m    409\u001b[0m         \"\"\"\n\u001b[1;32m--> 410\u001b[1;33m         \u001b[1;32mreturn\u001b[0m \u001b[0mself\u001b[0m\u001b[1;33m.\u001b[0m\u001b[0mfind_elements\u001b[0m\u001b[1;33m(\u001b[0m\u001b[0mby\u001b[0m\u001b[1;33m=\u001b[0m\u001b[0mBy\u001b[0m\u001b[1;33m.\u001b[0m\u001b[0mXPATH\u001b[0m\u001b[1;33m,\u001b[0m \u001b[0mvalue\u001b[0m\u001b[1;33m=\u001b[0m\u001b[0mxpath\u001b[0m\u001b[1;33m)\u001b[0m\u001b[1;33m\u001b[0m\u001b[1;33m\u001b[0m\u001b[0m\n\u001b[0m\u001b[0;32m    411\u001b[0m \u001b[1;33m\u001b[0m\u001b[0m\n\u001b[0;32m    412\u001b[0m     \u001b[1;32mdef\u001b[0m \u001b[0mfind_element_by_link_text\u001b[0m\u001b[1;33m(\u001b[0m\u001b[0mself\u001b[0m\u001b[1;33m,\u001b[0m \u001b[0mlink_text\u001b[0m\u001b[1;33m)\u001b[0m\u001b[1;33m:\u001b[0m\u001b[1;33m\u001b[0m\u001b[1;33m\u001b[0m\u001b[0m\n",
      "\u001b[1;32mC:\\ProgramData\\Anaconda3\\lib\\site-packages\\selenium\\webdriver\\remote\\webdriver.py\u001b[0m in \u001b[0;36mfind_elements\u001b[1;34m(self, by, value)\u001b[0m\n\u001b[0;32m   1005\u001b[0m         return self.execute(Command.FIND_ELEMENTS, {\n\u001b[0;32m   1006\u001b[0m             \u001b[1;34m'using'\u001b[0m\u001b[1;33m:\u001b[0m \u001b[0mby\u001b[0m\u001b[1;33m,\u001b[0m\u001b[1;33m\u001b[0m\u001b[1;33m\u001b[0m\u001b[0m\n\u001b[1;32m-> 1007\u001b[1;33m             'value': value})['value'] or []\n\u001b[0m\u001b[0;32m   1008\u001b[0m \u001b[1;33m\u001b[0m\u001b[0m\n\u001b[0;32m   1009\u001b[0m     \u001b[1;33m@\u001b[0m\u001b[0mproperty\u001b[0m\u001b[1;33m\u001b[0m\u001b[1;33m\u001b[0m\u001b[0m\n",
      "\u001b[1;32mC:\\ProgramData\\Anaconda3\\lib\\site-packages\\selenium\\webdriver\\remote\\webdriver.py\u001b[0m in \u001b[0;36mexecute\u001b[1;34m(self, driver_command, params)\u001b[0m\n\u001b[0;32m    319\u001b[0m         \u001b[0mresponse\u001b[0m \u001b[1;33m=\u001b[0m \u001b[0mself\u001b[0m\u001b[1;33m.\u001b[0m\u001b[0mcommand_executor\u001b[0m\u001b[1;33m.\u001b[0m\u001b[0mexecute\u001b[0m\u001b[1;33m(\u001b[0m\u001b[0mdriver_command\u001b[0m\u001b[1;33m,\u001b[0m \u001b[0mparams\u001b[0m\u001b[1;33m)\u001b[0m\u001b[1;33m\u001b[0m\u001b[1;33m\u001b[0m\u001b[0m\n\u001b[0;32m    320\u001b[0m         \u001b[1;32mif\u001b[0m \u001b[0mresponse\u001b[0m\u001b[1;33m:\u001b[0m\u001b[1;33m\u001b[0m\u001b[1;33m\u001b[0m\u001b[0m\n\u001b[1;32m--> 321\u001b[1;33m             \u001b[0mself\u001b[0m\u001b[1;33m.\u001b[0m\u001b[0merror_handler\u001b[0m\u001b[1;33m.\u001b[0m\u001b[0mcheck_response\u001b[0m\u001b[1;33m(\u001b[0m\u001b[0mresponse\u001b[0m\u001b[1;33m)\u001b[0m\u001b[1;33m\u001b[0m\u001b[1;33m\u001b[0m\u001b[0m\n\u001b[0m\u001b[0;32m    322\u001b[0m             response['value'] = self._unwrap_value(\n\u001b[0;32m    323\u001b[0m                 response.get('value', None))\n",
      "\u001b[1;32mC:\\ProgramData\\Anaconda3\\lib\\site-packages\\selenium\\webdriver\\remote\\errorhandler.py\u001b[0m in \u001b[0;36mcheck_response\u001b[1;34m(self, response)\u001b[0m\n\u001b[0;32m    240\u001b[0m                 \u001b[0malert_text\u001b[0m \u001b[1;33m=\u001b[0m \u001b[0mvalue\u001b[0m\u001b[1;33m[\u001b[0m\u001b[1;34m'alert'\u001b[0m\u001b[1;33m]\u001b[0m\u001b[1;33m.\u001b[0m\u001b[0mget\u001b[0m\u001b[1;33m(\u001b[0m\u001b[1;34m'text'\u001b[0m\u001b[1;33m)\u001b[0m\u001b[1;33m\u001b[0m\u001b[1;33m\u001b[0m\u001b[0m\n\u001b[0;32m    241\u001b[0m             \u001b[1;32mraise\u001b[0m \u001b[0mexception_class\u001b[0m\u001b[1;33m(\u001b[0m\u001b[0mmessage\u001b[0m\u001b[1;33m,\u001b[0m \u001b[0mscreen\u001b[0m\u001b[1;33m,\u001b[0m \u001b[0mstacktrace\u001b[0m\u001b[1;33m,\u001b[0m \u001b[0malert_text\u001b[0m\u001b[1;33m)\u001b[0m\u001b[1;33m\u001b[0m\u001b[1;33m\u001b[0m\u001b[0m\n\u001b[1;32m--> 242\u001b[1;33m         \u001b[1;32mraise\u001b[0m \u001b[0mexception_class\u001b[0m\u001b[1;33m(\u001b[0m\u001b[0mmessage\u001b[0m\u001b[1;33m,\u001b[0m \u001b[0mscreen\u001b[0m\u001b[1;33m,\u001b[0m \u001b[0mstacktrace\u001b[0m\u001b[1;33m)\u001b[0m\u001b[1;33m\u001b[0m\u001b[1;33m\u001b[0m\u001b[0m\n\u001b[0m\u001b[0;32m    243\u001b[0m \u001b[1;33m\u001b[0m\u001b[0m\n\u001b[0;32m    244\u001b[0m     \u001b[1;32mdef\u001b[0m \u001b[0m_value_or_default\u001b[0m\u001b[1;33m(\u001b[0m\u001b[0mself\u001b[0m\u001b[1;33m,\u001b[0m \u001b[0mobj\u001b[0m\u001b[1;33m,\u001b[0m \u001b[0mkey\u001b[0m\u001b[1;33m,\u001b[0m \u001b[0mdefault\u001b[0m\u001b[1;33m)\u001b[0m\u001b[1;33m:\u001b[0m\u001b[1;33m\u001b[0m\u001b[1;33m\u001b[0m\u001b[0m\n",
      "\u001b[1;31mInvalidSelectorException\u001b[0m: Message: invalid selector: Unable to locate an element with the xpath expression //table[@id=\"tablepress-<selenium.webdriver.remote.webelement.WebElement (session=\"0271773f2f6ed71369afbb3489d6e45f\", element=\"6d253b5a-ffa3-489b-bb22-eac3fa0d7259\")>\"]/tbody/tr/td[2] because of the following error:\nSyntaxError: Failed to execute 'evaluate' on 'Document': The string '//table[@id=\"tablepress-<selenium.webdriver.remote.webelement.WebElement (session=\"0271773f2f6ed71369afbb3489d6e45f\", element=\"6d253b5a-ffa3-489b-bb22-eac3fa0d7259\")>\"]/tbody/tr/td[2]' is not a valid XPath expression.\n  (Session info: chrome=91.0.4472.124)\n"
     ]
    }
   ],
   "source": [
    "dt = driver.find_elements_by_xpath('//table[@id=\"tablepress-{}\"]/tbody/tr/td[2]'.format(i))"
   ]
  },
  {
   "cell_type": "code",
   "execution_count": null,
   "metadata": {},
   "outputs": [],
   "source": [
    "for d in dt:\n",
    "    fund_dict['Date'].append(d.text)"
   ]
  },
  {
   "cell_type": "code",
   "execution_count": null,
   "metadata": {},
   "outputs": [],
   "source": [
    "september_20 = []\n",
    "sep = driver.find_element_by_xpath(\"/html/body/div[1]/main/div/div/div/div[2]/div[1]/div/div/div/div[1]/div/div[9]\")\n",
    "for i in sep:\n",
    "    september_20.append(i.text)"
   ]
  },
  {
   "cell_type": "code",
   "execution_count": null,
   "metadata": {},
   "outputs": [],
   "source": [
    "august_20 = []\n",
    "/html/body/div[1]/main/div/div/div/div[2]/div[1]/div/div/div/div[1]/div/div[10]"
   ]
  },
  {
   "cell_type": "code",
   "execution_count": null,
   "metadata": {},
   "outputs": [],
   "source": [
    "july_20 = []\n",
    "/html/body/div[1]/main/div/div/div/div[2]/div[1]/div/div/div/div[1]/div/div[11]"
   ]
  },
  {
   "cell_type": "markdown",
   "metadata": {},
   "source": [
    "# Question 7)"
   ]
  },
  {
   "cell_type": "markdown",
   "metadata": {},
   "source": [
    "\n",
    "Write a program to scrap all the available details of best gaming laptops from digit.in. "
   ]
  },
  {
   "cell_type": "code",
   "execution_count": 171,
   "metadata": {},
   "outputs": [],
   "source": [
    "driver = webdriver.Chrome(r\"C:\\Users\\vaibhav\\Desktop\\Data science\\FlipRobo Projects\\Web Scrapping 2\\chromedriver.exe\")\n",
    "url = 'https://www.digit.in'\n",
    "driver.get(url)"
   ]
  },
  {
   "cell_type": "code",
   "execution_count": 172,
   "metadata": {},
   "outputs": [],
   "source": [
    "top_10=driver.find_element_by_xpath(\"//div[@class='menu']/ul/li[3]/a\")\n",
    "\n",
    "top_10.click()"
   ]
  },
  {
   "cell_type": "code",
   "execution_count": 176,
   "metadata": {},
   "outputs": [],
   "source": [
    "laptops = driver.find_element_by_xpath(\"/html/body/div[1]/div[2]/div[4]/ul/li[3]/a\")\n",
    "laptops.click()"
   ]
  },
  {
   "cell_type": "code",
   "execution_count": 177,
   "metadata": {},
   "outputs": [],
   "source": [
    "best_gaming=driver.find_element_by_xpath(\"/html/body/div[6]/div/div[2]/div[2]/ul/li[10]/a\")\n",
    "best_gaming.click()\n"
   ]
  },
  {
   "cell_type": "code",
   "execution_count": 214,
   "metadata": {},
   "outputs": [],
   "source": [
    "L_name = driver.find_elements_by_class_name(\"TopNumbeHeading sticky-footer\")\n"
   ]
  },
  {
   "cell_type": "code",
   "execution_count": 216,
   "metadata": {},
   "outputs": [
    {
     "data": {
      "text/plain": [
       "[]"
      ]
     },
     "execution_count": 216,
     "metadata": {},
     "output_type": "execute_result"
    }
   ],
   "source": [
    "L_name"
   ]
  },
  {
   "cell_type": "code",
   "execution_count": 212,
   "metadata": {},
   "outputs": [],
   "source": [
    "Products = driver.find_elements_by_class_name(\"Product-specs\")\n"
   ]
  },
  {
   "cell_type": "code",
   "execution_count": 213,
   "metadata": {},
   "outputs": [
    {
     "data": {
      "text/plain": [
       "[<selenium.webdriver.remote.webelement.WebElement (session=\"5993821eee7a8ce0c16ac9661d8609db\", element=\"a71b4a96-feb2-4ddd-844c-7cc7c96cfe5a\")>,\n",
       " <selenium.webdriver.remote.webelement.WebElement (session=\"5993821eee7a8ce0c16ac9661d8609db\", element=\"0a7baa05-ad85-406b-92d1-56313cfc252a\")>,\n",
       " <selenium.webdriver.remote.webelement.WebElement (session=\"5993821eee7a8ce0c16ac9661d8609db\", element=\"e5253e82-9050-4223-bb67-b9d990cc4ee2\")>,\n",
       " <selenium.webdriver.remote.webelement.WebElement (session=\"5993821eee7a8ce0c16ac9661d8609db\", element=\"43559369-9b8f-422a-9bb0-d83dff7b70a1\")>,\n",
       " <selenium.webdriver.remote.webelement.WebElement (session=\"5993821eee7a8ce0c16ac9661d8609db\", element=\"2aad9bd8-798b-4dc6-a822-58a829420f49\")>,\n",
       " <selenium.webdriver.remote.webelement.WebElement (session=\"5993821eee7a8ce0c16ac9661d8609db\", element=\"fcfc53a1-f995-42b2-bcc8-2a824be84332\")>,\n",
       " <selenium.webdriver.remote.webelement.WebElement (session=\"5993821eee7a8ce0c16ac9661d8609db\", element=\"713ceae0-036d-4901-ba38-86e5afc0cd58\")>]"
      ]
     },
     "execution_count": 213,
     "metadata": {},
     "output_type": "execute_result"
    }
   ],
   "source": [
    "Products"
   ]
  },
  {
   "cell_type": "code",
   "execution_count": 217,
   "metadata": {},
   "outputs": [],
   "source": [
    "laptop_names = driver.find_elements_by_xpath(\"//div[@class='right-container']\")"
   ]
  },
  {
   "cell_type": "code",
   "execution_count": 218,
   "metadata": {},
   "outputs": [
    {
     "data": {
      "text/plain": [
       "[<selenium.webdriver.remote.webelement.WebElement (session=\"5993821eee7a8ce0c16ac9661d8609db\", element=\"bfebd989-ef95-4a20-b466-f04244027035\")>]"
      ]
     },
     "execution_count": 218,
     "metadata": {},
     "output_type": "execute_result"
    }
   ],
   "source": [
    "laptop_names"
   ]
  },
  {
   "cell_type": "code",
   "execution_count": 192,
   "metadata": {},
   "outputs": [],
   "source": [
    "Laptops=[]\n",
    "for i in laptop_names:\n",
    "    for j in i.find_elements_by_xpath(\"//div[@class='TopNumbeHeading sticky-footer active']//a//h3\"):\n",
    "        Laptops.append(j.text)"
   ]
  },
  {
   "cell_type": "code",
   "execution_count": 193,
   "metadata": {
    "scrolled": true
   },
   "outputs": [
    {
     "data": {
      "text/plain": [
       "['ALIENWARE M15 R3']"
      ]
     },
     "execution_count": 193,
     "metadata": {},
     "output_type": "execute_result"
    }
   ],
   "source": [
    "Laptops"
   ]
  },
  {
   "cell_type": "markdown",
   "metadata": {},
   "source": [
    "# Question 8)"
   ]
  },
  {
   "cell_type": "markdown",
   "metadata": {},
   "source": [
    "Write a python program to scrape the details for all billionaires from www.forbes.com. \n",
    "Details to be scrapped: “Rank”, “Name”, “Net worth”, “Age”, “Citizenship”, “Source”, \n",
    "“Industry”."
   ]
  },
  {
   "cell_type": "code",
   "execution_count": 219,
   "metadata": {},
   "outputs": [],
   "source": [
    "driver = webdriver.Chrome(r\"C:\\Users\\vaibhav\\Desktop\\Data science\\FlipRobo Projects\\Web Scrapping 2\\chromedriver.exe\")\n",
    "url = 'https://www.forbes.com'\n",
    "driver.get(url)"
   ]
  },
  {
   "cell_type": "code",
   "execution_count": 220,
   "metadata": {},
   "outputs": [],
   "source": [
    "billionaire = driver.find_element_by_xpath(\"/html/body/div[1]/main/section[8]/div[2]/div/div[4]/div[1]/div[1]/div[2]/a\")\n",
    "billionaire.click()"
   ]
  },
  {
   "cell_type": "code",
   "execution_count": 224,
   "metadata": {},
   "outputs": [
    {
     "data": {
      "text/plain": [
       "[<selenium.webdriver.remote.webelement.WebElement (session=\"e24860935a31dba5570fa63d0bf30b80\", element=\"45541605-f4f7-4308-8f2c-15f7d85a65fc\")>,\n",
       " <selenium.webdriver.remote.webelement.WebElement (session=\"e24860935a31dba5570fa63d0bf30b80\", element=\"ac0c7690-93f6-4e0d-910e-e0df19910ce4\")>,\n",
       " <selenium.webdriver.remote.webelement.WebElement (session=\"e24860935a31dba5570fa63d0bf30b80\", element=\"e79ab871-094b-40b3-bda9-307c0c06c87c\")>,\n",
       " <selenium.webdriver.remote.webelement.WebElement (session=\"e24860935a31dba5570fa63d0bf30b80\", element=\"42b5199d-9870-4f33-a3f2-86bcfe394d71\")>,\n",
       " <selenium.webdriver.remote.webelement.WebElement (session=\"e24860935a31dba5570fa63d0bf30b80\", element=\"78fa518c-f649-429c-9f50-e5b64c1aa806\")>,\n",
       " <selenium.webdriver.remote.webelement.WebElement (session=\"e24860935a31dba5570fa63d0bf30b80\", element=\"fe037886-9219-4f0f-a600-b13108975653\")>,\n",
       " <selenium.webdriver.remote.webelement.WebElement (session=\"e24860935a31dba5570fa63d0bf30b80\", element=\"d2d88f3c-7989-4604-933a-433dd1ca0870\")>,\n",
       " <selenium.webdriver.remote.webelement.WebElement (session=\"e24860935a31dba5570fa63d0bf30b80\", element=\"61c1a173-9731-474d-898a-54a609f65ed0\")>,\n",
       " <selenium.webdriver.remote.webelement.WebElement (session=\"e24860935a31dba5570fa63d0bf30b80\", element=\"a48937f5-4da9-42c6-80ae-1c279533b07d\")>,\n",
       " <selenium.webdriver.remote.webelement.WebElement (session=\"e24860935a31dba5570fa63d0bf30b80\", element=\"4ff666d2-9643-415e-9e8b-e22c180eea88\")>,\n",
       " <selenium.webdriver.remote.webelement.WebElement (session=\"e24860935a31dba5570fa63d0bf30b80\", element=\"13be5898-7ca5-4b9f-86ed-5e3a8f01038d\")>,\n",
       " <selenium.webdriver.remote.webelement.WebElement (session=\"e24860935a31dba5570fa63d0bf30b80\", element=\"eabdb8a8-8202-4754-a93a-9f6164712c77\")>]"
      ]
     },
     "execution_count": 224,
     "metadata": {},
     "output_type": "execute_result"
    }
   ],
   "source": [
    "Name = driver.find_elements_by_xpath(\"//h2[@class='subhead-embed color-accent bg-base font-accent font-size text-align']\")\n",
    "Name"
   ]
  },
  {
   "cell_type": "code",
   "execution_count": 225,
   "metadata": {},
   "outputs": [],
   "source": [
    "names=[]\n",
    "for i in Name:\n",
    "    names.append(i.text)"
   ]
  },
  {
   "cell_type": "code",
   "execution_count": 227,
   "metadata": {
    "scrolled": true
   },
   "outputs": [
    {
     "data": {
      "text/plain": [
       "['#1 | Jeff Bezos',\n",
       " '#2 | Elon Musk',\n",
       " '#3 | Bernard Arnault',\n",
       " '#4 | Bill Gates',\n",
       " '#5 | Mark Zuckerberg',\n",
       " '#6 | Warren Buffett',\n",
       " '#7 | Larry Ellison',\n",
       " '#8 | Larry Page',\n",
       " '#9 | Sergey Brin',\n",
       " '#10 | Mukesh Ambani']"
      ]
     },
     "execution_count": 227,
     "metadata": {},
     "output_type": "execute_result"
    }
   ],
   "source": [
    "names[:10]"
   ]
  },
  {
   "cell_type": "code",
   "execution_count": 229,
   "metadata": {},
   "outputs": [
    {
     "data": {
      "text/plain": [
       "[<selenium.webdriver.remote.webelement.WebElement (session=\"e24860935a31dba5570fa63d0bf30b80\", element=\"ae96702a-210c-4608-b448-d5e3c4c7aa97\")>,\n",
       " <selenium.webdriver.remote.webelement.WebElement (session=\"e24860935a31dba5570fa63d0bf30b80\", element=\"e0c9b59a-5063-43a0-8498-b8ee3a11225d\")>,\n",
       " <selenium.webdriver.remote.webelement.WebElement (session=\"e24860935a31dba5570fa63d0bf30b80\", element=\"b879246a-7c1c-4549-b279-f7a188ad70ac\")>,\n",
       " <selenium.webdriver.remote.webelement.WebElement (session=\"e24860935a31dba5570fa63d0bf30b80\", element=\"58b331fc-a339-40e4-8e01-12fdcd5fa3ba\")>,\n",
       " <selenium.webdriver.remote.webelement.WebElement (session=\"e24860935a31dba5570fa63d0bf30b80\", element=\"6edb0a0e-8880-4a22-add1-f6d5168ebccc\")>,\n",
       " <selenium.webdriver.remote.webelement.WebElement (session=\"e24860935a31dba5570fa63d0bf30b80\", element=\"63736aa9-1415-456e-85ab-26991865990e\")>,\n",
       " <selenium.webdriver.remote.webelement.WebElement (session=\"e24860935a31dba5570fa63d0bf30b80\", element=\"b37fe3b6-f97b-4a41-b03c-5f83377c5460\")>,\n",
       " <selenium.webdriver.remote.webelement.WebElement (session=\"e24860935a31dba5570fa63d0bf30b80\", element=\"db5710c4-1e6e-47e2-b7d4-2299bc3daa9a\")>,\n",
       " <selenium.webdriver.remote.webelement.WebElement (session=\"e24860935a31dba5570fa63d0bf30b80\", element=\"9dd83677-8dfa-4704-89d8-ecf2d8e949da\")>,\n",
       " <selenium.webdriver.remote.webelement.WebElement (session=\"e24860935a31dba5570fa63d0bf30b80\", element=\"30242865-82fb-4cce-8b5c-cedbc95a3479\")>,\n",
       " <selenium.webdriver.remote.webelement.WebElement (session=\"e24860935a31dba5570fa63d0bf30b80\", element=\"cf7068ef-500b-4cd8-8d86-e36023443303\")>,\n",
       " <selenium.webdriver.remote.webelement.WebElement (session=\"e24860935a31dba5570fa63d0bf30b80\", element=\"bd835446-7004-47c8-9b1a-68e6e55f3ec1\")>,\n",
       " <selenium.webdriver.remote.webelement.WebElement (session=\"e24860935a31dba5570fa63d0bf30b80\", element=\"48e28f33-201c-4f91-b86f-3a08071f716a\")>,\n",
       " <selenium.webdriver.remote.webelement.WebElement (session=\"e24860935a31dba5570fa63d0bf30b80\", element=\"28f92de1-fa35-479f-a67e-d104235352ee\")>,\n",
       " <selenium.webdriver.remote.webelement.WebElement (session=\"e24860935a31dba5570fa63d0bf30b80\", element=\"886b98c0-9da0-4650-a949-7d5ef1a85628\")>,\n",
       " <selenium.webdriver.remote.webelement.WebElement (session=\"e24860935a31dba5570fa63d0bf30b80\", element=\"3b689bc4-d6f6-4788-b2ac-1d76dbd606de\")>,\n",
       " <selenium.webdriver.remote.webelement.WebElement (session=\"e24860935a31dba5570fa63d0bf30b80\", element=\"f99d6ae0-7231-43f5-9527-63de27396968\")>,\n",
       " <selenium.webdriver.remote.webelement.WebElement (session=\"e24860935a31dba5570fa63d0bf30b80\", element=\"80d2a0ed-2fdc-499b-8983-86caf71b20fd\")>,\n",
       " <selenium.webdriver.remote.webelement.WebElement (session=\"e24860935a31dba5570fa63d0bf30b80\", element=\"0adff5c0-b8cf-46a2-bcf5-567129e67e6a\")>,\n",
       " <selenium.webdriver.remote.webelement.WebElement (session=\"e24860935a31dba5570fa63d0bf30b80\", element=\"0a68dde0-8793-4f8d-a058-2acca172f7cb\")>,\n",
       " <selenium.webdriver.remote.webelement.WebElement (session=\"e24860935a31dba5570fa63d0bf30b80\", element=\"e871615e-80a1-499e-bf71-77798ee1f9eb\")>,\n",
       " <selenium.webdriver.remote.webelement.WebElement (session=\"e24860935a31dba5570fa63d0bf30b80\", element=\"494cd8d1-33b0-4014-9c08-8ce31b494f93\")>,\n",
       " <selenium.webdriver.remote.webelement.WebElement (session=\"e24860935a31dba5570fa63d0bf30b80\", element=\"b75e2cee-0e83-4e67-a362-e58125d26dcc\")>,\n",
       " <selenium.webdriver.remote.webelement.WebElement (session=\"e24860935a31dba5570fa63d0bf30b80\", element=\"95a8345e-a1fd-4ada-be42-0e923bfb2764\")>,\n",
       " <selenium.webdriver.remote.webelement.WebElement (session=\"e24860935a31dba5570fa63d0bf30b80\", element=\"876d1292-d80a-4a73-b52d-5bb41dbb8c2e\")>,\n",
       " <selenium.webdriver.remote.webelement.WebElement (session=\"e24860935a31dba5570fa63d0bf30b80\", element=\"b8ac17cf-5974-4503-89d1-d4cb27e81a40\")>,\n",
       " <selenium.webdriver.remote.webelement.WebElement (session=\"e24860935a31dba5570fa63d0bf30b80\", element=\"7783ef35-0acd-4dd3-997a-5c7d8e01ff91\")>,\n",
       " <selenium.webdriver.remote.webelement.WebElement (session=\"e24860935a31dba5570fa63d0bf30b80\", element=\"d83904e2-2c0b-4708-ac8f-436867393391\")>,\n",
       " <selenium.webdriver.remote.webelement.WebElement (session=\"e24860935a31dba5570fa63d0bf30b80\", element=\"4d9117b8-b23e-4b1d-98c9-6c5f68f45914\")>,\n",
       " <selenium.webdriver.remote.webelement.WebElement (session=\"e24860935a31dba5570fa63d0bf30b80\", element=\"f70b7842-6615-45f2-98e1-8196e02f2b3f\")>]"
      ]
     },
     "execution_count": 229,
     "metadata": {},
     "output_type": "execute_result"
    }
   ],
   "source": [
    "Name = driver.find_elements_by_xpath(\"//h4[@class='subhead4-embed color-body bg-base font-accent font-size text-align']//strong\")\n",
    "Name"
   ]
  },
  {
   "cell_type": "code",
   "execution_count": 231,
   "metadata": {},
   "outputs": [],
   "source": [
    "networth = []\n",
    "for i in Name:\n",
    "    networth.append(i.text)"
   ]
  },
  {
   "cell_type": "code",
   "execution_count": 232,
   "metadata": {},
   "outputs": [
    {
     "data": {
      "text/plain": [
       "['$177 BILLION',\n",
       " 'AMAZON',\n",
       " 'SEATTLE',\n",
       " '$151 BILLION',\n",
       " 'TESLA, SPACEX',\n",
       " 'AUSTIN, TEXAS',\n",
       " '$150 BILLION',\n",
       " 'LUXURY GOODS',\n",
       " 'PARIS',\n",
       " '$124 BILLION',\n",
       " 'MICROSOFT',\n",
       " 'MEDINA, WASHINGTON',\n",
       " '$97 BILLION',\n",
       " 'FACEBOOK',\n",
       " 'PALO ALTO, CALIFORNIA',\n",
       " '$96 BILLION',\n",
       " 'BERKSHIRE HATHAWAY',\n",
       " 'OMAHA, NEBRASKA',\n",
       " '$93 BILLION',\n",
       " 'SOFTWARE',\n",
       " 'LANAI, HAWAII',\n",
       " '$91.5 BILLION',\n",
       " 'GOOGLE',\n",
       " 'PALO ALTO, CALIFORNIA',\n",
       " '$89 BILLION',\n",
       " 'GOOGLE',\n",
       " 'LOS ALTOS, CALIFORNIA',\n",
       " '$84.5 BILLION',\n",
       " 'DIVERSIFIED',\n",
       " 'MUMBAI, INDIA']"
      ]
     },
     "execution_count": 232,
     "metadata": {},
     "output_type": "execute_result"
    }
   ],
   "source": [
    "networth"
   ]
  },
  {
   "cell_type": "code",
   "execution_count": 235,
   "metadata": {},
   "outputs": [],
   "source": [
    "indices = [0, 3, 6, 9, 12, 15, 18, 21, 24, 27]\n",
    "net_worth = [networth[i] for i in indices]"
   ]
  },
  {
   "cell_type": "code",
   "execution_count": 236,
   "metadata": {},
   "outputs": [
    {
     "data": {
      "text/plain": [
       "['$177 BILLION',\n",
       " '$151 BILLION',\n",
       " '$150 BILLION',\n",
       " '$124 BILLION',\n",
       " '$97 BILLION',\n",
       " '$96 BILLION',\n",
       " '$93 BILLION',\n",
       " '$91.5 BILLION',\n",
       " '$89 BILLION',\n",
       " '$84.5 BILLION']"
      ]
     },
     "execution_count": 236,
     "metadata": {},
     "output_type": "execute_result"
    }
   ],
   "source": [
    "net_worth"
   ]
  },
  {
   "cell_type": "code",
   "execution_count": 237,
   "metadata": {},
   "outputs": [],
   "source": [
    "indices = [1,4,7,10,13,16,19,22,25,28]\n",
    "sourceofincome = [networth[i] for i in indices]"
   ]
  },
  {
   "cell_type": "code",
   "execution_count": 239,
   "metadata": {},
   "outputs": [
    {
     "data": {
      "text/plain": [
       "['AMAZON',\n",
       " 'TESLA, SPACEX',\n",
       " 'LUXURY GOODS',\n",
       " 'MICROSOFT',\n",
       " 'FACEBOOK',\n",
       " 'BERKSHIRE HATHAWAY',\n",
       " 'SOFTWARE',\n",
       " 'GOOGLE',\n",
       " 'GOOGLE',\n",
       " 'DIVERSIFIED']"
      ]
     },
     "execution_count": 239,
     "metadata": {},
     "output_type": "execute_result"
    }
   ],
   "source": [
    "sourceofincome"
   ]
  },
  {
   "cell_type": "code",
   "execution_count": null,
   "metadata": {},
   "outputs": [],
   "source": [
    "names[:10]\n",
    "sourceofincome\n",
    "net_worth"
   ]
  },
  {
   "cell_type": "code",
   "execution_count": 240,
   "metadata": {
    "scrolled": true
   },
   "outputs": [
    {
     "data": {
      "text/html": [
       "<div>\n",
       "<style scoped>\n",
       "    .dataframe tbody tr th:only-of-type {\n",
       "        vertical-align: middle;\n",
       "    }\n",
       "\n",
       "    .dataframe tbody tr th {\n",
       "        vertical-align: top;\n",
       "    }\n",
       "\n",
       "    .dataframe thead th {\n",
       "        text-align: right;\n",
       "    }\n",
       "</style>\n",
       "<table border=\"1\" class=\"dataframe\">\n",
       "  <thead>\n",
       "    <tr style=\"text-align: right;\">\n",
       "      <th></th>\n",
       "      <th>Names</th>\n",
       "      <th>SourceOfIncome</th>\n",
       "      <th>net_worth</th>\n",
       "    </tr>\n",
       "  </thead>\n",
       "  <tbody>\n",
       "    <tr>\n",
       "      <th>0</th>\n",
       "      <td>#1 | Jeff Bezos</td>\n",
       "      <td>AMAZON</td>\n",
       "      <td>$177 BILLION</td>\n",
       "    </tr>\n",
       "    <tr>\n",
       "      <th>1</th>\n",
       "      <td>#2 | Elon Musk</td>\n",
       "      <td>TESLA, SPACEX</td>\n",
       "      <td>$151 BILLION</td>\n",
       "    </tr>\n",
       "    <tr>\n",
       "      <th>2</th>\n",
       "      <td>#3 | Bernard Arnault</td>\n",
       "      <td>LUXURY GOODS</td>\n",
       "      <td>$150 BILLION</td>\n",
       "    </tr>\n",
       "    <tr>\n",
       "      <th>3</th>\n",
       "      <td>#4 | Bill Gates</td>\n",
       "      <td>MICROSOFT</td>\n",
       "      <td>$124 BILLION</td>\n",
       "    </tr>\n",
       "    <tr>\n",
       "      <th>4</th>\n",
       "      <td>#5 | Mark Zuckerberg</td>\n",
       "      <td>FACEBOOK</td>\n",
       "      <td>$97 BILLION</td>\n",
       "    </tr>\n",
       "    <tr>\n",
       "      <th>5</th>\n",
       "      <td>#6 | Warren Buffett</td>\n",
       "      <td>BERKSHIRE HATHAWAY</td>\n",
       "      <td>$96 BILLION</td>\n",
       "    </tr>\n",
       "    <tr>\n",
       "      <th>6</th>\n",
       "      <td>#7 | Larry Ellison</td>\n",
       "      <td>SOFTWARE</td>\n",
       "      <td>$93 BILLION</td>\n",
       "    </tr>\n",
       "    <tr>\n",
       "      <th>7</th>\n",
       "      <td>#8 | Larry Page</td>\n",
       "      <td>GOOGLE</td>\n",
       "      <td>$91.5 BILLION</td>\n",
       "    </tr>\n",
       "    <tr>\n",
       "      <th>8</th>\n",
       "      <td>#9 | Sergey Brin</td>\n",
       "      <td>GOOGLE</td>\n",
       "      <td>$89 BILLION</td>\n",
       "    </tr>\n",
       "    <tr>\n",
       "      <th>9</th>\n",
       "      <td>#10 | Mukesh Ambani</td>\n",
       "      <td>DIVERSIFIED</td>\n",
       "      <td>$84.5 BILLION</td>\n",
       "    </tr>\n",
       "  </tbody>\n",
       "</table>\n",
       "</div>"
      ],
      "text/plain": [
       "                  Names      SourceOfIncome      net_worth\n",
       "0       #1 | Jeff Bezos              AMAZON   $177 BILLION\n",
       "1        #2 | Elon Musk       TESLA, SPACEX   $151 BILLION\n",
       "2  #3 | Bernard Arnault        LUXURY GOODS   $150 BILLION\n",
       "3       #4 | Bill Gates           MICROSOFT   $124 BILLION\n",
       "4  #5 | Mark Zuckerberg            FACEBOOK    $97 BILLION\n",
       "5   #6 | Warren Buffett  BERKSHIRE HATHAWAY    $96 BILLION\n",
       "6    #7 | Larry Ellison            SOFTWARE    $93 BILLION\n",
       "7       #8 | Larry Page              GOOGLE  $91.5 BILLION\n",
       "8      #9 | Sergey Brin              GOOGLE    $89 BILLION\n",
       "9   #10 | Mukesh Ambani         DIVERSIFIED  $84.5 BILLION"
      ]
     },
     "execution_count": 240,
     "metadata": {},
     "output_type": "execute_result"
    }
   ],
   "source": [
    "# creating the dataframe\n",
    "df=pd.DataFrame({\"Names\": names[:10], \"SourceOfIncome\": sourceofincome, \"net_worth\": net_worth})\n",
    "df"
   ]
  },
  {
   "cell_type": "markdown",
   "metadata": {},
   "source": [
    "# Question 9)"
   ]
  },
  {
   "cell_type": "markdown",
   "metadata": {},
   "source": [
    "Write a program to extract at least 500 Comments, Comment upvote and time when comment \n",
    "was posted from any YouTube Video.\n"
   ]
  },
  {
   "cell_type": "markdown",
   "metadata": {},
   "source": [
    "# Question 10)"
   ]
  },
  {
   "cell_type": "markdown",
   "metadata": {},
   "source": [
    "Write a python program to scrape a data for all available Hostels from \n",
    "https://www.hostelworld.com/ in “London” location. You have to scrape hostel name, \n",
    "distance from city centre, ratings, total reviews, overall reviews, privates from price, dorms \n",
    "from price, facilities and property description."
   ]
  },
  {
   "cell_type": "code",
   "execution_count": 241,
   "metadata": {},
   "outputs": [],
   "source": [
    "driver = webdriver.Chrome(r\"C:\\Users\\vaibhav\\Desktop\\Data science\\FlipRobo Projects\\Web Scrapping 2\\chromedriver.exe\")\n",
    "url = \"https://www.hostelworld.com\"\n",
    "driver.get(url)"
   ]
  },
  {
   "cell_type": "code",
   "execution_count": 242,
   "metadata": {},
   "outputs": [],
   "source": [
    "location = driver.find_element_by_xpath(\"/html/body/div[1]/div/div/div[1]/div[1]/div/div[2]/div[4]/div/div[2]/div/div[1]/div/div/div/input\")\n",
    "location.send_keys(\"London\")"
   ]
  },
  {
   "cell_type": "code",
   "execution_count": 243,
   "metadata": {},
   "outputs": [],
   "source": [
    "search_button=driver.find_element_by_xpath(\"/html/body/div[1]/div/div/div[1]/div[1]/div/div[2]/div[4]/div/div[2]/div/div[1]/div/div/div/span/i\")\n",
    "search_button.click()"
   ]
  },
  {
   "cell_type": "code",
   "execution_count": 244,
   "metadata": {},
   "outputs": [],
   "source": [
    "search_l=driver.find_element_by_xpath(\"/html/body/div[1]/div/div/div[1]/div[1]/div/div[2]/div[4]/div/div[2]/div/div[1]/div/div/ul/li[2]/div\")\n",
    "search_l.click()"
   ]
  },
  {
   "cell_type": "code",
   "execution_count": 245,
   "metadata": {},
   "outputs": [],
   "source": [
    "letsgo=driver.find_element_by_xpath(\"/html/body/div[1]/div/div/div[1]/div[1]/div/div[2]/div[4]/div/div[2]/div/div[5]/button\")\n",
    "letsgo.click()"
   ]
  },
  {
   "cell_type": "code",
   "execution_count": null,
   "metadata": {},
   "outputs": [],
   "source": [
    "time.sleep(3)\n"
   ]
  },
  {
   "cell_type": "code",
   "execution_count": null,
   "metadata": {},
   "outputs": [],
   "source": []
  },
  {
   "cell_type": "code",
   "execution_count": null,
   "metadata": {},
   "outputs": [],
   "source": []
  },
  {
   "cell_type": "code",
   "execution_count": null,
   "metadata": {},
   "outputs": [],
   "source": []
  }
 ],
 "metadata": {
  "kernelspec": {
   "display_name": "Python 3",
   "language": "python",
   "name": "python3"
  },
  "language_info": {
   "codemirror_mode": {
    "name": "ipython",
    "version": 3
   },
   "file_extension": ".py",
   "mimetype": "text/x-python",
   "name": "python",
   "nbconvert_exporter": "python",
   "pygments_lexer": "ipython3",
   "version": "3.7.6"
  }
 },
 "nbformat": 4,
 "nbformat_minor": 4
}
