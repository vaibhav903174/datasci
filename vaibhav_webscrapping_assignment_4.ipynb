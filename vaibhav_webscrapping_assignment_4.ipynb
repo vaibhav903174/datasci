{
 "cells": [
  {
   "cell_type": "markdown",
   "metadata": {},
   "source": [
    "# Web scrapping assignment 4"
   ]
  },
  {
   "cell_type": "code",
   "execution_count": 1,
   "metadata": {},
   "outputs": [],
   "source": [
    "# Importing Libraries\n",
    "import selenium\n",
    "import pandas as pd\n",
    "import time\n",
    "from bs4 import BeautifulSoup\n",
    "\n",
    "# Importing selenium webdriver \n",
    "from selenium import webdriver\n",
    "\n",
    "# Importing required Exceptions which needs to handled\n",
    "from selenium.common.exceptions import StaleElementReferenceException, NoSuchElementException\n",
    "\n",
    "#Importing requests\n",
    "import requests"
   ]
  },
  {
   "cell_type": "markdown",
   "metadata": {},
   "source": [
    "# Question 1)"
   ]
  },
  {
   "cell_type": "markdown",
   "metadata": {},
   "source": [
    "Scrape the details of most viewed videos on YouTube from Wikipedia:\n",
    "Url = https://en.wikipedia.org/wiki/List_of_most-viewed_YouTube_videos/\n",
    "You need to find following details:\n",
    "A) Rank\n",
    "B) Name\n",
    "C) Artist\n",
    "D) Upload date\n",
    "E) Views"
   ]
  },
  {
   "cell_type": "code",
   "execution_count": 2,
   "metadata": {},
   "outputs": [],
   "source": [
    "# lets first connect to the webdriver\n",
    "driver = webdriver.Chrome(r\"C:\\Users\\vaibhav\\Desktop\\Data science\\FlipRobo Projects\\Web Scrapping 2\\chromedriver.exe\")"
   ]
  },
  {
   "cell_type": "code",
   "execution_count": 3,
   "metadata": {},
   "outputs": [],
   "source": [
    "#Url = 'https://en.wikipedia.org/wiki/List_of_most-viewed_YouTube_videos/'\n",
    "Url = 'https://en.wikipedia.org/wiki/List_of_most-viewed_YouTube_videos'\n",
    "driver.get(Url)"
   ]
  },
  {
   "cell_type": "code",
   "execution_count": 4,
   "metadata": {},
   "outputs": [],
   "source": [
    "rows=driver.find_elements_by_xpath(\"//*[@id='mw-content-text']/div[1]/table[3]/tbody/tr\")"
   ]
  },
  {
   "cell_type": "code",
   "execution_count": 6,
   "metadata": {},
   "outputs": [
    {
     "data": {
      "text/plain": [
       "30"
      ]
     },
     "execution_count": 6,
     "metadata": {},
     "output_type": "execute_result"
    }
   ],
   "source": [
    "len(rows)"
   ]
  },
  {
   "cell_type": "code",
   "execution_count": 7,
   "metadata": {},
   "outputs": [],
   "source": [
    "#scrapping rank of top videos:\n",
    "list_rank=[]\n",
    "for i in range(len(rows)):\n",
    "    exp_row=driver.find_elements_by_xpath(\"//*[@id='mw-content-text']/div[1]/table[3]/tbody/tr[{}]/td[1]\".format(i))\n",
    "    for j in exp_row:\n",
    "        list_rank.append(j.text)"
   ]
  },
  {
   "cell_type": "code",
   "execution_count": 9,
   "metadata": {},
   "outputs": [
    {
     "data": {
      "text/plain": [
       "29"
      ]
     },
     "execution_count": 9,
     "metadata": {},
     "output_type": "execute_result"
    }
   ],
   "source": [
    "len(list_rank)"
   ]
  },
  {
   "cell_type": "code",
   "execution_count": 22,
   "metadata": {},
   "outputs": [],
   "source": [
    "#scrapping videonames of top youtube videos:\n",
    "videonames=[]\n",
    "for i in range(len(rows)):\n",
    "    try:\n",
    "        exp_row=driver.find_elements_by_xpath(\"//*[@id='mw-content-text']/div[1]/table[3]/tbody/tr[{}]/td[2]/i\".format(i))\n",
    "        \n",
    "        \n",
    "        \n",
    "        for j in exp_row:\n",
    "            videonames.append(j.text)\n",
    "    except NoSuchElementException:\n",
    "        exp_row=driver.find_elements_by_xpath(\"//*[@id='mw-content-text']/div[1]/table[3]/tbody/tr[{}]/td[2]/a\".format(i))\n",
    "        \n",
    "        for j in exp_row:\n",
    "            videonames.append(j.text)"
   ]
  },
  {
   "cell_type": "code",
   "execution_count": 23,
   "metadata": {},
   "outputs": [
    {
     "data": {
      "text/plain": [
       "24"
      ]
     },
     "execution_count": 23,
     "metadata": {},
     "output_type": "execute_result"
    }
   ],
   "source": [
    "len(videonames)"
   ]
  },
  {
   "cell_type": "code",
   "execution_count": 15,
   "metadata": {
    "scrolled": true
   },
   "outputs": [
    {
     "data": {
      "text/plain": [
       "['Baby Shark Dance',\n",
       " 'Despacito',\n",
       " 'Johny Johny Yes Papa',\n",
       " 'Shape of You',\n",
       " 'See You Again',\n",
       " 'Uptown Funk',\n",
       " 'Gangnam Style',\n",
       " 'Sugar',\n",
       " 'Dame Tu Cosita',\n",
       " 'Sorry',\n",
       " 'Roar',\n",
       " 'Counting Stars',\n",
       " 'Thinking Out Loud',\n",
       " 'Dark Horse',\n",
       " 'Faded',\n",
       " 'Shake It Off',\n",
       " 'Girls Like You',\n",
       " 'Lean On',\n",
       " 'Bailando',\n",
       " 'Let Her Go',\n",
       " 'Mi Gente',\n",
       " 'Perfect',\n",
       " 'Waka Waka (This Time for Africa)',\n",
       " 'Axel F']"
      ]
     },
     "execution_count": 15,
     "metadata": {},
     "output_type": "execute_result"
    }
   ],
   "source": [
    "videonames"
   ]
  },
  {
   "cell_type": "code",
   "execution_count": 24,
   "metadata": {},
   "outputs": [],
   "source": [
    "Uploader=[]\n",
    "\n",
    "for i in range(len(rows)):\n",
    "    exp_row=driver.find_elements_by_xpath(\"//*[@id='mw-content-text']/div[1]/table[3]/tbody/tr[{}]/td[3]/a\".format(i))\n",
    "    for j in exp_row:\n",
    "        Uploader.append(j.text)"
   ]
  },
  {
   "cell_type": "code",
   "execution_count": 26,
   "metadata": {},
   "outputs": [
    {
     "data": {
      "text/plain": [
       "26"
      ]
     },
     "execution_count": 26,
     "metadata": {},
     "output_type": "execute_result"
    }
   ],
   "source": [
    "len(Uploader)"
   ]
  },
  {
   "cell_type": "code",
   "execution_count": 28,
   "metadata": {},
   "outputs": [],
   "source": [
    "Views=[]\n",
    "\n",
    "for i in range(len(rows)):\n",
    "    views=driver.find_elements_by_xpath(\"//*[@id='mw-content-text']/div[1]/table[3]/tbody/tr[{}]/td[4]\".format(i))\n",
    "    for j in views:\n",
    "        Views.append(j.text)"
   ]
  },
  {
   "cell_type": "code",
   "execution_count": 30,
   "metadata": {},
   "outputs": [
    {
     "data": {
      "text/plain": [
       "29"
      ]
     },
     "execution_count": 30,
     "metadata": {},
     "output_type": "execute_result"
    }
   ],
   "source": [
    "len(Views)"
   ]
  },
  {
   "cell_type": "code",
   "execution_count": 31,
   "metadata": {},
   "outputs": [],
   "source": [
    "Upload_date=[]\n",
    "for i in range(len(rows)):\n",
    "    d=driver.find_elements_by_xpath(\"//*[@id='mw-content-text']/div[1]/table[3]/tbody/tr[{}]/td[5]\".format(i))\n",
    "    for j in d:\n",
    "        Upload_date.append(j.text)"
   ]
  },
  {
   "cell_type": "code",
   "execution_count": 33,
   "metadata": {},
   "outputs": [
    {
     "data": {
      "text/plain": [
       "29"
      ]
     },
     "execution_count": 33,
     "metadata": {},
     "output_type": "execute_result"
    }
   ],
   "source": [
    "len(Upload_date)"
   ]
  },
  {
   "cell_type": "code",
   "execution_count": null,
   "metadata": {},
   "outputs": [],
   "source": []
  },
  {
   "cell_type": "markdown",
   "metadata": {},
   "source": [
    "# Question 2)"
   ]
  },
  {
   "cell_type": "markdown",
   "metadata": {},
   "source": [
    "2. Scrape the details team India’s international fixtures from bcci.tv.\n",
    "Url = https://www.bcci.tv/.\n",
    "You need to find following details:\n",
    "A) Match title (I.e. 1st ODI)\n",
    "B) Series\n",
    "C) Place\n",
    "D) Date\n",
    "E) Time\n",
    "Note: - From bcci.tv home page you have reach to the international fixture page through code.\n"
   ]
  },
  {
   "cell_type": "code",
   "execution_count": 2,
   "metadata": {},
   "outputs": [],
   "source": [
    "# lets first connect to the webdriver\n",
    "driver = webdriver.Chrome(r\"C:\\Users\\vaibhav\\Desktop\\Data science\\FlipRobo Projects\\Web Scrapping 2\\chromedriver.exe\")"
   ]
  },
  {
   "cell_type": "code",
   "execution_count": 3,
   "metadata": {},
   "outputs": [],
   "source": [
    "Url = 'https://www.bcci.tv/'\n",
    "driver.get(Url)"
   ]
  },
  {
   "cell_type": "code",
   "execution_count": 7,
   "metadata": {},
   "outputs": [],
   "source": [
    "internationaltab=driver.find_element_by_xpath(\"/html/body/div[3]/div/div[2]/div[2]/nav/ul/li[1]/div[2]\").click()"
   ]
  },
  {
   "cell_type": "code",
   "execution_count": 8,
   "metadata": {},
   "outputs": [],
   "source": [
    "fixtures=driver.find_element_by_xpath(\"/html/body/div[3]/div/div[2]/div[2]/nav/ul/li[1]/div[2]/div/ul/li[1]/a\").click()"
   ]
  },
  {
   "cell_type": "code",
   "execution_count": 9,
   "metadata": {},
   "outputs": [],
   "source": [
    "Date_day = []\n",
    "d= driver.find_elements_by_xpath(\"//div[@class='fixture__full-date']\")\n",
    "for i in d:\n",
    "    day=i.find_elements_by_xpath(\"//span[@class='fixture__date']\")\n",
    "    Date_day.append(i.text)"
   ]
  },
  {
   "cell_type": "code",
   "execution_count": 10,
   "metadata": {},
   "outputs": [
    {
     "data": {
      "text/plain": [
       "['20\\nJULY\\n15:00 IST', '23\\nJULY\\n15:00 IST']"
      ]
     },
     "execution_count": 10,
     "metadata": {},
     "output_type": "execute_result"
    }
   ],
   "source": [
    "Date_day[:2]"
   ]
  },
  {
   "cell_type": "code",
   "execution_count": 12,
   "metadata": {},
   "outputs": [
    {
     "data": {
      "text/plain": [
       "10"
      ]
     },
     "execution_count": 12,
     "metadata": {},
     "output_type": "execute_result"
    }
   ],
   "source": [
    "len(Date_day)"
   ]
  },
  {
   "cell_type": "code",
   "execution_count": 13,
   "metadata": {},
   "outputs": [],
   "source": [
    "Place=[]\n",
    "p= driver.find_elements_by_xpath(\"//p[@class='fixture__additional-info']\")\n",
    "for i in p:\n",
    "    Place.append(i.text)"
   ]
  },
  {
   "cell_type": "code",
   "execution_count": 14,
   "metadata": {},
   "outputs": [
    {
     "data": {
      "text/plain": [
       "['2nd ODI\\nR Premadasa Stadium, Colombo',\n",
       " '3rd ODI\\nR Premadasa Stadium, Colombo']"
      ]
     },
     "execution_count": 14,
     "metadata": {},
     "output_type": "execute_result"
    }
   ],
   "source": [
    "Place[:2]"
   ]
  },
  {
   "cell_type": "code",
   "execution_count": 15,
   "metadata": {},
   "outputs": [
    {
     "data": {
      "text/plain": [
       "10"
      ]
     },
     "execution_count": 15,
     "metadata": {},
     "output_type": "execute_result"
    }
   ],
   "source": [
    "len(Place)"
   ]
  },
  {
   "cell_type": "code",
   "execution_count": 16,
   "metadata": {},
   "outputs": [],
   "source": [
    "Series=[]\n",
    "s=driver.find_elements_by_xpath(\"//div[@class='fixture__format-strip']\")\n",
    "for i in s:\n",
    "    Series.append(i.text)"
   ]
  },
  {
   "cell_type": "code",
   "execution_count": 17,
   "metadata": {},
   "outputs": [
    {
     "data": {
      "text/plain": [
       "['ODI\\nSRI LANKA V INDIA 2021', 'ODI\\nSRI LANKA V INDIA 2021']"
      ]
     },
     "execution_count": 17,
     "metadata": {},
     "output_type": "execute_result"
    }
   ],
   "source": [
    "Series[:2]"
   ]
  },
  {
   "cell_type": "code",
   "execution_count": 18,
   "metadata": {},
   "outputs": [
    {
     "data": {
      "text/plain": [
       "10"
      ]
     },
     "execution_count": 18,
     "metadata": {},
     "output_type": "execute_result"
    }
   ],
   "source": [
    "len(Series)"
   ]
  },
  {
   "cell_type": "code",
   "execution_count": 19,
   "metadata": {},
   "outputs": [],
   "source": [
    "Time=[]\n",
    "t=driver.find_elements_by_xpath(\"//span[@class='fixture__time']\")\n",
    "for i in t:\n",
    "    Time.append(i.text)"
   ]
  },
  {
   "cell_type": "code",
   "execution_count": 20,
   "metadata": {},
   "outputs": [
    {
     "data": {
      "text/plain": [
       "['15:00 IST', '15:00 IST']"
      ]
     },
     "execution_count": 20,
     "metadata": {},
     "output_type": "execute_result"
    }
   ],
   "source": [
    "Time[:2]\n"
   ]
  },
  {
   "cell_type": "code",
   "execution_count": 21,
   "metadata": {},
   "outputs": [
    {
     "data": {
      "text/plain": [
       "10"
      ]
     },
     "execution_count": 21,
     "metadata": {},
     "output_type": "execute_result"
    }
   ],
   "source": [
    "len(Time)"
   ]
  },
  {
   "cell_type": "code",
   "execution_count": 22,
   "metadata": {},
   "outputs": [
    {
     "data": {
      "text/html": [
       "<div>\n",
       "<style scoped>\n",
       "    .dataframe tbody tr th:only-of-type {\n",
       "        vertical-align: middle;\n",
       "    }\n",
       "\n",
       "    .dataframe tbody tr th {\n",
       "        vertical-align: top;\n",
       "    }\n",
       "\n",
       "    .dataframe thead th {\n",
       "        text-align: right;\n",
       "    }\n",
       "</style>\n",
       "<table border=\"1\" class=\"dataframe\">\n",
       "  <thead>\n",
       "    <tr style=\"text-align: right;\">\n",
       "      <th></th>\n",
       "      <th>Series</th>\n",
       "      <th>Date_day</th>\n",
       "      <th>Place</th>\n",
       "      <th>Time</th>\n",
       "    </tr>\n",
       "  </thead>\n",
       "  <tbody>\n",
       "    <tr>\n",
       "      <th>0</th>\n",
       "      <td>ODI\\nSRI LANKA V INDIA 2021</td>\n",
       "      <td>20\\nJULY\\n15:00 IST</td>\n",
       "      <td>2nd ODI\\nR Premadasa Stadium, Colombo</td>\n",
       "      <td>15:00 IST</td>\n",
       "    </tr>\n",
       "    <tr>\n",
       "      <th>1</th>\n",
       "      <td>ODI\\nSRI LANKA V INDIA 2021</td>\n",
       "      <td>23\\nJULY\\n15:00 IST</td>\n",
       "      <td>3rd ODI\\nR Premadasa Stadium, Colombo</td>\n",
       "      <td>15:00 IST</td>\n",
       "    </tr>\n",
       "    <tr>\n",
       "      <th>2</th>\n",
       "      <td>T20I\\nSRI LANKA V INDIA 2021</td>\n",
       "      <td>25\\nJULY\\n20:00 IST</td>\n",
       "      <td>1st T20I\\nR Premadasa Stadium, Colombo</td>\n",
       "      <td>20:00 IST</td>\n",
       "    </tr>\n",
       "    <tr>\n",
       "      <th>3</th>\n",
       "      <td>T20I\\nSRI LANKA V INDIA 2021</td>\n",
       "      <td>27\\nJULY\\n20:00 IST</td>\n",
       "      <td>2nd T20I\\nR Premadasa Stadium, Colombo</td>\n",
       "      <td>20:00 IST</td>\n",
       "    </tr>\n",
       "    <tr>\n",
       "      <th>4</th>\n",
       "      <td>T20I\\nSRI LANKA V INDIA 2021</td>\n",
       "      <td>29\\nJULY\\n20:00 IST</td>\n",
       "      <td>3rd T20I\\nR Premadasa Stadium, Colombo</td>\n",
       "      <td>20:00 IST</td>\n",
       "    </tr>\n",
       "    <tr>\n",
       "      <th>5</th>\n",
       "      <td>TEST\\nENGLAND V INDIA 2021</td>\n",
       "      <td>04\\nAUGUST\\n15:30 IST</td>\n",
       "      <td>1st Test\\nTrent Bridge, Nottingham</td>\n",
       "      <td>15:30 IST</td>\n",
       "    </tr>\n",
       "    <tr>\n",
       "      <th>6</th>\n",
       "      <td>TEST\\nENGLAND V INDIA 2021</td>\n",
       "      <td>12\\nAUGUST\\n15:30 IST</td>\n",
       "      <td>2nd Test\\nLord's, London</td>\n",
       "      <td>15:30 IST</td>\n",
       "    </tr>\n",
       "    <tr>\n",
       "      <th>7</th>\n",
       "      <td>TEST\\nENGLAND V INDIA 2021</td>\n",
       "      <td>25\\nAUGUST\\n15:30 IST</td>\n",
       "      <td>3rd Test\\nHeadingley, Leeds</td>\n",
       "      <td>15:30 IST</td>\n",
       "    </tr>\n",
       "    <tr>\n",
       "      <th>8</th>\n",
       "      <td>TEST\\nENGLAND V INDIA 2021</td>\n",
       "      <td>02\\nSEPTEMBER\\n15:30 IST</td>\n",
       "      <td>4th Test\\nThe Oval, London</td>\n",
       "      <td>15:30 IST</td>\n",
       "    </tr>\n",
       "    <tr>\n",
       "      <th>9</th>\n",
       "      <td>TEST\\nENGLAND V INDIA 2021</td>\n",
       "      <td>10\\nSEPTEMBER\\n15:30 IST</td>\n",
       "      <td>5th Test\\nOld Trafford, Manchester</td>\n",
       "      <td>15:30 IST</td>\n",
       "    </tr>\n",
       "  </tbody>\n",
       "</table>\n",
       "</div>"
      ],
      "text/plain": [
       "                         Series                  Date_day  \\\n",
       "0   ODI\\nSRI LANKA V INDIA 2021       20\\nJULY\\n15:00 IST   \n",
       "1   ODI\\nSRI LANKA V INDIA 2021       23\\nJULY\\n15:00 IST   \n",
       "2  T20I\\nSRI LANKA V INDIA 2021       25\\nJULY\\n20:00 IST   \n",
       "3  T20I\\nSRI LANKA V INDIA 2021       27\\nJULY\\n20:00 IST   \n",
       "4  T20I\\nSRI LANKA V INDIA 2021       29\\nJULY\\n20:00 IST   \n",
       "5    TEST\\nENGLAND V INDIA 2021     04\\nAUGUST\\n15:30 IST   \n",
       "6    TEST\\nENGLAND V INDIA 2021     12\\nAUGUST\\n15:30 IST   \n",
       "7    TEST\\nENGLAND V INDIA 2021     25\\nAUGUST\\n15:30 IST   \n",
       "8    TEST\\nENGLAND V INDIA 2021  02\\nSEPTEMBER\\n15:30 IST   \n",
       "9    TEST\\nENGLAND V INDIA 2021  10\\nSEPTEMBER\\n15:30 IST   \n",
       "\n",
       "                                    Place       Time  \n",
       "0   2nd ODI\\nR Premadasa Stadium, Colombo  15:00 IST  \n",
       "1   3rd ODI\\nR Premadasa Stadium, Colombo  15:00 IST  \n",
       "2  1st T20I\\nR Premadasa Stadium, Colombo  20:00 IST  \n",
       "3  2nd T20I\\nR Premadasa Stadium, Colombo  20:00 IST  \n",
       "4  3rd T20I\\nR Premadasa Stadium, Colombo  20:00 IST  \n",
       "5      1st Test\\nTrent Bridge, Nottingham  15:30 IST  \n",
       "6                2nd Test\\nLord's, London  15:30 IST  \n",
       "7             3rd Test\\nHeadingley, Leeds  15:30 IST  \n",
       "8              4th Test\\nThe Oval, London  15:30 IST  \n",
       "9      5th Test\\nOld Trafford, Manchester  15:30 IST  "
      ]
     },
     "execution_count": 22,
     "metadata": {},
     "output_type": "execute_result"
    }
   ],
   "source": [
    "#creating dataframe:\n",
    "df=pd.DataFrame({\"Series\":Series,\n",
    "                \"Date_day\":Date_day,\n",
    "                \"Place\":Place,\n",
    "                \"Time\":Time})\n",
    "df"
   ]
  },
  {
   "cell_type": "markdown",
   "metadata": {},
   "source": [
    "# Question 3)"
   ]
  },
  {
   "cell_type": "markdown",
   "metadata": {},
   "source": [
    "3. Scrape the details of selenium exception from guru99.com.\n",
    "Url = https://www.guru99.com/\n",
    "You need to find following details:\n",
    "A) Name\n",
    "B) Description\n",
    "Note: - From guru99 home page you have to reach to selenium exception handling page through cod"
   ]
  },
  {
   "cell_type": "code",
   "execution_count": 6,
   "metadata": {},
   "outputs": [],
   "source": [
    "# lets first connect to the webdriver\n",
    "driver = webdriver.Chrome(r\"C:\\Users\\vaibhav\\Desktop\\Data science\\FlipRobo Projects\\Web Scrapping 2\\chromedriver.exe\")"
   ]
  },
  {
   "cell_type": "code",
   "execution_count": 7,
   "metadata": {},
   "outputs": [],
   "source": [
    "Url = 'https://www.guru99.com/'\n",
    "driver.get(Url)"
   ]
  },
  {
   "cell_type": "code",
   "execution_count": 8,
   "metadata": {},
   "outputs": [],
   "source": [
    "selenium=driver.find_element_by_xpath(\"/html/body/div[2]/section[4]/div/div/div/div/div/div/div/div[1]/div/ul[1]/li[3]/a\")\n",
    "selenium.click()"
   ]
  },
  {
   "cell_type": "code",
   "execution_count": 9,
   "metadata": {},
   "outputs": [],
   "source": [
    "Exception_handling=driver.find_element_by_xpath(\"/html/body/div[2]/section[3]/div/div[1]/main/div/div/div/div/div/div/div[2]/table[5]/tbody/tr[34]/td[1]/a\")\n",
    "Exception_handling.click()"
   ]
  },
  {
   "cell_type": "code",
   "execution_count": 20,
   "metadata": {},
   "outputs": [],
   "source": [
    "\n",
    "table=driver.find_elements_by_xpath(\"//table[@class='table table-striped']\")\n",
    "#xpath for rows\n",
    "row_elements= driver.find_elements_by_xpath(\"//*[@id='g-mainbar']/div/div/div/div/div/div/div[2]/table/tbody/tr\")\n",
    "Exception_name=[]\n",
    "for i in range(len(row_elements)):\n",
    "    exp_row=driver.find_elements_by_xpath(\"//*[@id='g-mainbar']/div/div/div/div/div/div/div[2]/table/tbody/tr[{}]/td[1]\".format(i))\n",
    "    for j in exp_row:\n",
    "        Exception_name.append(j.text)    "
   ]
  },
  {
   "cell_type": "code",
   "execution_count": 29,
   "metadata": {},
   "outputs": [
    {
     "data": {
      "text/plain": [
       "['Exception name', 'ElementNotVisibleException']"
      ]
     },
     "execution_count": 29,
     "metadata": {},
     "output_type": "execute_result"
    }
   ],
   "source": [
    "Exception_name[:2]"
   ]
  },
  {
   "cell_type": "code",
   "execution_count": 28,
   "metadata": {},
   "outputs": [
    {
     "data": {
      "text/plain": [
       "41"
      ]
     },
     "execution_count": 28,
     "metadata": {},
     "output_type": "execute_result"
    }
   ],
   "source": [
    "len(Exception_name)"
   ]
  },
  {
   "cell_type": "code",
   "execution_count": 30,
   "metadata": {},
   "outputs": [],
   "source": [
    "Description=[]\n",
    "for i in range(len(row_elements)):\n",
    "    desc=driver.find_elements_by_xpath(\"//*[@id='g-mainbar']/div/div/div/div/div/div/div[2]/table/tbody/tr[{}]/td[2]\".format(i))\n",
    "    for j in desc:\n",
    "        Description.append(j.text)"
   ]
  },
  {
   "cell_type": "code",
   "execution_count": 32,
   "metadata": {},
   "outputs": [
    {
     "data": {
      "text/plain": [
       "['Description',\n",
       " 'This type of Selenium exception occurs when an existing element in DOM has a feature set as hidden.']"
      ]
     },
     "execution_count": 32,
     "metadata": {},
     "output_type": "execute_result"
    }
   ],
   "source": [
    "Description[:2]"
   ]
  },
  {
   "cell_type": "code",
   "execution_count": 33,
   "metadata": {},
   "outputs": [
    {
     "data": {
      "text/plain": [
       "41"
      ]
     },
     "execution_count": 33,
     "metadata": {},
     "output_type": "execute_result"
    }
   ],
   "source": [
    "len(Description)"
   ]
  },
  {
   "cell_type": "code",
   "execution_count": 15,
   "metadata": {},
   "outputs": [
    {
     "data": {
      "text/plain": [
       "42"
      ]
     },
     "execution_count": 15,
     "metadata": {},
     "output_type": "execute_result"
    }
   ],
   "source": [
    "len(row_elements)"
   ]
  },
  {
   "cell_type": "code",
   "execution_count": 35,
   "metadata": {
    "scrolled": true
   },
   "outputs": [
    {
     "data": {
      "text/html": [
       "<div>\n",
       "<style scoped>\n",
       "    .dataframe tbody tr th:only-of-type {\n",
       "        vertical-align: middle;\n",
       "    }\n",
       "\n",
       "    .dataframe tbody tr th {\n",
       "        vertical-align: top;\n",
       "    }\n",
       "\n",
       "    .dataframe thead th {\n",
       "        text-align: right;\n",
       "    }\n",
       "</style>\n",
       "<table border=\"1\" class=\"dataframe\">\n",
       "  <thead>\n",
       "    <tr style=\"text-align: right;\">\n",
       "      <th></th>\n",
       "      <th>Exception name</th>\n",
       "      <th>Description</th>\n",
       "    </tr>\n",
       "  </thead>\n",
       "  <tbody>\n",
       "    <tr>\n",
       "      <th>0</th>\n",
       "      <td>ElementNotVisibleException</td>\n",
       "      <td>This type of Selenium exception occurs when an...</td>\n",
       "    </tr>\n",
       "    <tr>\n",
       "      <th>1</th>\n",
       "      <td>ElementNotSelectableException</td>\n",
       "      <td>This Selenium exception occurs when an element...</td>\n",
       "    </tr>\n",
       "    <tr>\n",
       "      <th>2</th>\n",
       "      <td>NoSuchElementException</td>\n",
       "      <td>This Exception occurs if an element could not ...</td>\n",
       "    </tr>\n",
       "    <tr>\n",
       "      <th>3</th>\n",
       "      <td>NoSuchFrameException</td>\n",
       "      <td>This Exception occurs if the frame target to b...</td>\n",
       "    </tr>\n",
       "    <tr>\n",
       "      <th>4</th>\n",
       "      <td>NoAlertPresentException</td>\n",
       "      <td>This Exception occurs when you switch to no pr...</td>\n",
       "    </tr>\n",
       "    <tr>\n",
       "      <th>5</th>\n",
       "      <td>NoSuchWindowException</td>\n",
       "      <td>This Exception occurs if the window target to ...</td>\n",
       "    </tr>\n",
       "    <tr>\n",
       "      <th>6</th>\n",
       "      <td>StaleElementReferenceException</td>\n",
       "      <td>This Selenium exception occurs happens when th...</td>\n",
       "    </tr>\n",
       "    <tr>\n",
       "      <th>7</th>\n",
       "      <td>SessionNotFoundException</td>\n",
       "      <td>The WebDriver is acting after you quit the bro...</td>\n",
       "    </tr>\n",
       "    <tr>\n",
       "      <th>8</th>\n",
       "      <td>TimeoutException</td>\n",
       "      <td>Thrown when there is not enough time for a com...</td>\n",
       "    </tr>\n",
       "    <tr>\n",
       "      <th>9</th>\n",
       "      <td>WebDriverException</td>\n",
       "      <td>This Exception takes place when the WebDriver ...</td>\n",
       "    </tr>\n",
       "    <tr>\n",
       "      <th>10</th>\n",
       "      <td>ConnectionClosedException</td>\n",
       "      <td>This type of Exception takes place when there ...</td>\n",
       "    </tr>\n",
       "    <tr>\n",
       "      <th>11</th>\n",
       "      <td>ElementClickInterceptedException</td>\n",
       "      <td>The command may not be completed as the elemen...</td>\n",
       "    </tr>\n",
       "    <tr>\n",
       "      <th>12</th>\n",
       "      <td>ElementNotInteractableException</td>\n",
       "      <td>This Selenium exception is thrown when any ele...</td>\n",
       "    </tr>\n",
       "    <tr>\n",
       "      <th>13</th>\n",
       "      <td>ErrorInResponseException</td>\n",
       "      <td>This happens while interacting with the Firefo...</td>\n",
       "    </tr>\n",
       "    <tr>\n",
       "      <th>14</th>\n",
       "      <td>ErrorHandler.UnknownServerException</td>\n",
       "      <td>Exception is used as a placeholder in case if ...</td>\n",
       "    </tr>\n",
       "    <tr>\n",
       "      <th>15</th>\n",
       "      <td>ImeActivationFailedException</td>\n",
       "      <td>This expectation will occur when IME engine ac...</td>\n",
       "    </tr>\n",
       "    <tr>\n",
       "      <th>16</th>\n",
       "      <td>ImeNotAvailableException</td>\n",
       "      <td>It takes place when IME support is unavailable.</td>\n",
       "    </tr>\n",
       "    <tr>\n",
       "      <th>17</th>\n",
       "      <td>InsecureCertificateException</td>\n",
       "      <td>Navigation made the user agent to hit a certif...</td>\n",
       "    </tr>\n",
       "    <tr>\n",
       "      <th>18</th>\n",
       "      <td>InvalidArgumentException</td>\n",
       "      <td>It occurs when an argument does not belong to ...</td>\n",
       "    </tr>\n",
       "    <tr>\n",
       "      <th>19</th>\n",
       "      <td>InvalidCookieDomainException</td>\n",
       "      <td>This happens when you try to add a cookie unde...</td>\n",
       "    </tr>\n",
       "    <tr>\n",
       "      <th>20</th>\n",
       "      <td>InvalidCoordinatesException</td>\n",
       "      <td>This type of Exception matches an interacting ...</td>\n",
       "    </tr>\n",
       "    <tr>\n",
       "      <th>21</th>\n",
       "      <td>InvalidElementStateExceptio</td>\n",
       "      <td>It occurs when command can't be finished when ...</td>\n",
       "    </tr>\n",
       "    <tr>\n",
       "      <th>22</th>\n",
       "      <td>InvalidSessionIdException</td>\n",
       "      <td>This Exception took place when the given sessi...</td>\n",
       "    </tr>\n",
       "    <tr>\n",
       "      <th>23</th>\n",
       "      <td>InvalidSwitchToTargetException</td>\n",
       "      <td>This occurs when the frame or window target to...</td>\n",
       "    </tr>\n",
       "    <tr>\n",
       "      <th>24</th>\n",
       "      <td>JavascriptException</td>\n",
       "      <td>This issue occurs while executing JavaScript g...</td>\n",
       "    </tr>\n",
       "    <tr>\n",
       "      <th>25</th>\n",
       "      <td>JsonException</td>\n",
       "      <td>It occurs when you afford to get the session w...</td>\n",
       "    </tr>\n",
       "    <tr>\n",
       "      <th>26</th>\n",
       "      <td>NoSuchAttributeException</td>\n",
       "      <td>This kind of Exception occurs when the attribu...</td>\n",
       "    </tr>\n",
       "    <tr>\n",
       "      <th>27</th>\n",
       "      <td>MoveTargetOutOfBoundsException</td>\n",
       "      <td>It takes place if the target provided to the A...</td>\n",
       "    </tr>\n",
       "    <tr>\n",
       "      <th>28</th>\n",
       "      <td>NoSuchContextException</td>\n",
       "      <td>ContextAware does mobile device testing.</td>\n",
       "    </tr>\n",
       "    <tr>\n",
       "      <th>29</th>\n",
       "      <td>NoSuchCookieException</td>\n",
       "      <td>This Exception occurs when no cookie matching ...</td>\n",
       "    </tr>\n",
       "    <tr>\n",
       "      <th>30</th>\n",
       "      <td>NotFoundException</td>\n",
       "      <td>This Exception is a subclass of WebDriverExcep...</td>\n",
       "    </tr>\n",
       "    <tr>\n",
       "      <th>31</th>\n",
       "      <td>RemoteDriverServerException</td>\n",
       "      <td>This Selenium exception is thrown when the ser...</td>\n",
       "    </tr>\n",
       "    <tr>\n",
       "      <th>32</th>\n",
       "      <td>ScreenshotException</td>\n",
       "      <td>It is not possible to capture a screen.</td>\n",
       "    </tr>\n",
       "    <tr>\n",
       "      <th>33</th>\n",
       "      <td>SessionNotCreatedException</td>\n",
       "      <td>It happens when a new session could not be suc...</td>\n",
       "    </tr>\n",
       "    <tr>\n",
       "      <th>34</th>\n",
       "      <td>UnableToSetCookieException</td>\n",
       "      <td>This occurs if a driver is unable to set a coo...</td>\n",
       "    </tr>\n",
       "    <tr>\n",
       "      <th>35</th>\n",
       "      <td>UnexpectedTagNameException</td>\n",
       "      <td>Happens if a support class did not get a web e...</td>\n",
       "    </tr>\n",
       "    <tr>\n",
       "      <th>36</th>\n",
       "      <td>UnhandledAlertException</td>\n",
       "      <td>This expectation occurs when there is an alert...</td>\n",
       "    </tr>\n",
       "    <tr>\n",
       "      <th>37</th>\n",
       "      <td>UnexpectedAlertPresentException</td>\n",
       "      <td>It occurs when there is the appearance of an u...</td>\n",
       "    </tr>\n",
       "    <tr>\n",
       "      <th>38</th>\n",
       "      <td>UnknownMethodException</td>\n",
       "      <td>This Exception happens when the requested comm...</td>\n",
       "    </tr>\n",
       "    <tr>\n",
       "      <th>39</th>\n",
       "      <td>UnreachableBrowserException</td>\n",
       "      <td>This Exception occurs only when the browser is...</td>\n",
       "    </tr>\n",
       "  </tbody>\n",
       "</table>\n",
       "</div>"
      ],
      "text/plain": [
       "                         Exception name  \\\n",
       "0            ElementNotVisibleException   \n",
       "1         ElementNotSelectableException   \n",
       "2                NoSuchElementException   \n",
       "3                  NoSuchFrameException   \n",
       "4               NoAlertPresentException   \n",
       "5                 NoSuchWindowException   \n",
       "6        StaleElementReferenceException   \n",
       "7              SessionNotFoundException   \n",
       "8                      TimeoutException   \n",
       "9                    WebDriverException   \n",
       "10            ConnectionClosedException   \n",
       "11     ElementClickInterceptedException   \n",
       "12      ElementNotInteractableException   \n",
       "13             ErrorInResponseException   \n",
       "14  ErrorHandler.UnknownServerException   \n",
       "15         ImeActivationFailedException   \n",
       "16             ImeNotAvailableException   \n",
       "17         InsecureCertificateException   \n",
       "18             InvalidArgumentException   \n",
       "19         InvalidCookieDomainException   \n",
       "20          InvalidCoordinatesException   \n",
       "21          InvalidElementStateExceptio   \n",
       "22            InvalidSessionIdException   \n",
       "23       InvalidSwitchToTargetException   \n",
       "24                  JavascriptException   \n",
       "25                        JsonException   \n",
       "26             NoSuchAttributeException   \n",
       "27       MoveTargetOutOfBoundsException   \n",
       "28               NoSuchContextException   \n",
       "29                NoSuchCookieException   \n",
       "30                    NotFoundException   \n",
       "31          RemoteDriverServerException   \n",
       "32                  ScreenshotException   \n",
       "33           SessionNotCreatedException   \n",
       "34           UnableToSetCookieException   \n",
       "35           UnexpectedTagNameException   \n",
       "36              UnhandledAlertException   \n",
       "37      UnexpectedAlertPresentException   \n",
       "38               UnknownMethodException   \n",
       "39          UnreachableBrowserException   \n",
       "\n",
       "                                          Description  \n",
       "0   This type of Selenium exception occurs when an...  \n",
       "1   This Selenium exception occurs when an element...  \n",
       "2   This Exception occurs if an element could not ...  \n",
       "3   This Exception occurs if the frame target to b...  \n",
       "4   This Exception occurs when you switch to no pr...  \n",
       "5   This Exception occurs if the window target to ...  \n",
       "6   This Selenium exception occurs happens when th...  \n",
       "7   The WebDriver is acting after you quit the bro...  \n",
       "8   Thrown when there is not enough time for a com...  \n",
       "9   This Exception takes place when the WebDriver ...  \n",
       "10  This type of Exception takes place when there ...  \n",
       "11  The command may not be completed as the elemen...  \n",
       "12  This Selenium exception is thrown when any ele...  \n",
       "13  This happens while interacting with the Firefo...  \n",
       "14  Exception is used as a placeholder in case if ...  \n",
       "15  This expectation will occur when IME engine ac...  \n",
       "16    It takes place when IME support is unavailable.  \n",
       "17  Navigation made the user agent to hit a certif...  \n",
       "18  It occurs when an argument does not belong to ...  \n",
       "19  This happens when you try to add a cookie unde...  \n",
       "20  This type of Exception matches an interacting ...  \n",
       "21  It occurs when command can't be finished when ...  \n",
       "22  This Exception took place when the given sessi...  \n",
       "23  This occurs when the frame or window target to...  \n",
       "24  This issue occurs while executing JavaScript g...  \n",
       "25  It occurs when you afford to get the session w...  \n",
       "26  This kind of Exception occurs when the attribu...  \n",
       "27  It takes place if the target provided to the A...  \n",
       "28           ContextAware does mobile device testing.  \n",
       "29  This Exception occurs when no cookie matching ...  \n",
       "30  This Exception is a subclass of WebDriverExcep...  \n",
       "31  This Selenium exception is thrown when the ser...  \n",
       "32            It is not possible to capture a screen.  \n",
       "33  It happens when a new session could not be suc...  \n",
       "34  This occurs if a driver is unable to set a coo...  \n",
       "35  Happens if a support class did not get a web e...  \n",
       "36  This expectation occurs when there is an alert...  \n",
       "37  It occurs when there is the appearance of an u...  \n",
       "38  This Exception happens when the requested comm...  \n",
       "39  This Exception occurs only when the browser is...  "
      ]
     },
     "execution_count": 35,
     "metadata": {},
     "output_type": "execute_result"
    }
   ],
   "source": [
    "#Make data frame\n",
    "df=pd.DataFrame({\"Exception name\":Exception_name[1:],\n",
    "                \"Description\":Description[1:],})\n",
    "df"
   ]
  },
  {
   "cell_type": "markdown",
   "metadata": {},
   "source": [
    "# Question 4)"
   ]
  },
  {
   "cell_type": "markdown",
   "metadata": {},
   "source": [
    "Question 4)\n",
    "\n",
    "Scrape the details of State-wise GDP of India from statisticstime.com.\n",
    "Url = 'https://statisticstimes.com'\n",
    "You have to find following details:\n",
    "A) Rank\n",
    "B) State\n",
    "C) GSDP at current price (19-20)\n",
    "D) GSDP at current price (18-19)\n",
    "E) Share(18-19)\n",
    "F) GDP($ billion)\n",
    "Note: - From statisticstimes home page you have to reach to economy page through code"
   ]
  },
  {
   "cell_type": "code",
   "execution_count": 3,
   "metadata": {},
   "outputs": [],
   "source": [
    "# lets first connect to the webdriver\n",
    "driver = webdriver.Chrome(r\"C:\\Users\\vaibhav\\Desktop\\Data science\\FlipRobo Projects\\Web Scrapping 2\\chromedriver.exe\")"
   ]
  },
  {
   "cell_type": "code",
   "execution_count": 5,
   "metadata": {},
   "outputs": [],
   "source": [
    "Url = 'https://statisticstimes.com'\n",
    "driver.get(Url)"
   ]
  },
  {
   "cell_type": "code",
   "execution_count": 10,
   "metadata": {},
   "outputs": [],
   "source": [
    "#dropdown button\n",
    "driver.find_element_by_xpath(\"/html/body/div[2]/div[1]/div[2]/div[2]/button\").click()"
   ]
  },
  {
   "cell_type": "code",
   "execution_count": 11,
   "metadata": {},
   "outputs": [],
   "source": [
    "#dropdown selection: \n",
    "driver.find_element_by_xpath(\"/html/body/div[2]/div[1]/div[2]/div[2]/div/a[3]\").click()"
   ]
  },
  {
   "cell_type": "code",
   "execution_count": 12,
   "metadata": {},
   "outputs": [],
   "source": [
    "#gdp of indian states link selection:\n",
    "driver.find_element_by_xpath(\"/html/body/div[2]/div[2]/div[2]/ul/li[1]/a\").click()"
   ]
  },
  {
   "cell_type": "code",
   "execution_count": 14,
   "metadata": {},
   "outputs": [],
   "source": [
    "row_elements= driver.find_elements_by_xpath(\"//*[@id='table_id']/tbody/tr\")"
   ]
  },
  {
   "cell_type": "code",
   "execution_count": 16,
   "metadata": {},
   "outputs": [],
   "source": [
    "#scrapping Rank of states:\n",
    "Rank=[]\n",
    "for i in range(len(row_elements)):\n",
    "    staterow=driver.find_elements_by_xpath(\"//*[@id='table_id']/tbody/tr[{}]/td[1]\".format(i))\n",
    "    for j in staterow:\n",
    "        Rank.append(j.text)"
   ]
  },
  {
   "cell_type": "code",
   "execution_count": 18,
   "metadata": {},
   "outputs": [
    {
     "data": {
      "text/plain": [
       "['1', '2']"
      ]
     },
     "execution_count": 18,
     "metadata": {},
     "output_type": "execute_result"
    }
   ],
   "source": [
    "Rank[:2]"
   ]
  },
  {
   "cell_type": "code",
   "execution_count": 19,
   "metadata": {},
   "outputs": [
    {
     "data": {
      "text/plain": [
       "32"
      ]
     },
     "execution_count": 19,
     "metadata": {},
     "output_type": "execute_result"
    }
   ],
   "source": [
    "len(Rank)"
   ]
  },
  {
   "cell_type": "code",
   "execution_count": 20,
   "metadata": {},
   "outputs": [],
   "source": [
    "#scrapping Name of states:\n",
    "Statename=[]\n",
    "for i in range(len(row_elements)):\n",
    "    state_n=driver.find_elements_by_xpath(\"//*[@id='table_id']/tbody/tr[{}]/td[2]\".format(i))\n",
    "    for j in state_n:\n",
    "        Statename.append(j.text)"
   ]
  },
  {
   "cell_type": "code",
   "execution_count": 22,
   "metadata": {},
   "outputs": [
    {
     "data": {
      "text/plain": [
       "['Maharashtra', 'Tamil Nadu']"
      ]
     },
     "execution_count": 22,
     "metadata": {},
     "output_type": "execute_result"
    }
   ],
   "source": [
    "Statename[:2]"
   ]
  },
  {
   "cell_type": "code",
   "execution_count": 23,
   "metadata": {},
   "outputs": [
    {
     "data": {
      "text/plain": [
       "32"
      ]
     },
     "execution_count": 23,
     "metadata": {},
     "output_type": "execute_result"
    }
   ],
   "source": [
    "len(Statename)"
   ]
  },
  {
   "cell_type": "code",
   "execution_count": 24,
   "metadata": {},
   "outputs": [],
   "source": [
    "#GSDP at current price (19-20)\n",
    "#scrapping GSDP  of states:\n",
    "GSDP_19_20=[]\n",
    "for i in range(len(row_elements)):\n",
    "    gsdp=driver.find_elements_by_xpath(\"//*[@id='table_id']/tbody/tr[{}]/td[3]\".format(i))\n",
    "    for j in gsdp:\n",
    "        GSDP_19_20.append(j.text)"
   ]
  },
  {
   "cell_type": "code",
   "execution_count": 26,
   "metadata": {},
   "outputs": [
    {
     "data": {
      "text/plain": [
       "['-', '1,845,853']"
      ]
     },
     "execution_count": 26,
     "metadata": {},
     "output_type": "execute_result"
    }
   ],
   "source": [
    "GSDP_19_20[:2]"
   ]
  },
  {
   "cell_type": "code",
   "execution_count": 27,
   "metadata": {},
   "outputs": [
    {
     "data": {
      "text/plain": [
       "32"
      ]
     },
     "execution_count": 27,
     "metadata": {},
     "output_type": "execute_result"
    }
   ],
   "source": [
    "len(GSDP_19_20)"
   ]
  },
  {
   "cell_type": "code",
   "execution_count": 28,
   "metadata": {},
   "outputs": [],
   "source": [
    "#GSDP at current price (18-19)\n",
    "#scrapping GSDP  of states:\n",
    "GSDP_18_19=[]\n",
    "for i in range(len(row_elements)):\n",
    "    gsdp=driver.find_elements_by_xpath(\"//*[@id='table_id']/tbody/tr[{}]/td[4]\".format(i))\n",
    "    for j in gsdp:\n",
    "        GSDP_18_19.append(j.text)"
   ]
  },
  {
   "cell_type": "code",
   "execution_count": 30,
   "metadata": {},
   "outputs": [
    {
     "data": {
      "text/plain": [
       "['2,632,792', '1,630,208']"
      ]
     },
     "execution_count": 30,
     "metadata": {},
     "output_type": "execute_result"
    }
   ],
   "source": [
    "GSDP_18_19[:2]"
   ]
  },
  {
   "cell_type": "code",
   "execution_count": 32,
   "metadata": {},
   "outputs": [
    {
     "data": {
      "text/plain": [
       "32"
      ]
     },
     "execution_count": 32,
     "metadata": {},
     "output_type": "execute_result"
    }
   ],
   "source": [
    "len(GSDP_18_19)"
   ]
  },
  {
   "cell_type": "code",
   "execution_count": 33,
   "metadata": {},
   "outputs": [],
   "source": [
    "#Share(18-19)\n",
    "#scrapping share(18-19)  of states:\n",
    "share_18_19=[]\n",
    "for i in range(len(row_elements)):\n",
    "    share=driver.find_elements_by_xpath(\"//*[@id='table_id']/tbody/tr[{}]/td[5]\".format(i))\n",
    "    for j in share:\n",
    "        share_18_19.append(j.text)"
   ]
  },
  {
   "cell_type": "code",
   "execution_count": 35,
   "metadata": {},
   "outputs": [
    {
     "data": {
      "text/plain": [
       "['13.94%', '8.63%']"
      ]
     },
     "execution_count": 35,
     "metadata": {},
     "output_type": "execute_result"
    }
   ],
   "source": [
    "share_18_19[:2]"
   ]
  },
  {
   "cell_type": "code",
   "execution_count": 37,
   "metadata": {},
   "outputs": [
    {
     "data": {
      "text/plain": [
       "32"
      ]
     },
     "execution_count": 37,
     "metadata": {},
     "output_type": "execute_result"
    }
   ],
   "source": [
    "len(share_18_19)"
   ]
  },
  {
   "cell_type": "code",
   "execution_count": 38,
   "metadata": {},
   "outputs": [],
   "source": [
    "#scrapping GDP($ billion) of states:\n",
    "GDP=[]\n",
    "for i in range(len(row_elements)):\n",
    "    gdp=driver.find_elements_by_xpath(\"//*[@id='table_id']/tbody/tr[{}]/td[6]\".format(i))\n",
    "    for j in gdp:\n",
    "        GDP.append(j.text)"
   ]
  },
  {
   "cell_type": "code",
   "execution_count": 40,
   "metadata": {},
   "outputs": [
    {
     "data": {
      "text/plain": [
       "['399.921', '247.629']"
      ]
     },
     "execution_count": 40,
     "metadata": {},
     "output_type": "execute_result"
    }
   ],
   "source": [
    "GDP[:2]"
   ]
  },
  {
   "cell_type": "code",
   "execution_count": 41,
   "metadata": {},
   "outputs": [
    {
     "data": {
      "text/plain": [
       "32"
      ]
     },
     "execution_count": 41,
     "metadata": {},
     "output_type": "execute_result"
    }
   ],
   "source": [
    "len(GDP)"
   ]
  },
  {
   "cell_type": "code",
   "execution_count": 42,
   "metadata": {
    "scrolled": true
   },
   "outputs": [
    {
     "data": {
      "text/html": [
       "<div>\n",
       "<style scoped>\n",
       "    .dataframe tbody tr th:only-of-type {\n",
       "        vertical-align: middle;\n",
       "    }\n",
       "\n",
       "    .dataframe tbody tr th {\n",
       "        vertical-align: top;\n",
       "    }\n",
       "\n",
       "    .dataframe thead th {\n",
       "        text-align: right;\n",
       "    }\n",
       "</style>\n",
       "<table border=\"1\" class=\"dataframe\">\n",
       "  <thead>\n",
       "    <tr style=\"text-align: right;\">\n",
       "      <th></th>\n",
       "      <th>RANK</th>\n",
       "      <th>STATE</th>\n",
       "      <th>GSDP at current price(19-20)</th>\n",
       "      <th>GSDP at current price(18-19)</th>\n",
       "      <th>Share(18-19)</th>\n",
       "      <th>GDP($Billion)</th>\n",
       "    </tr>\n",
       "  </thead>\n",
       "  <tbody>\n",
       "    <tr>\n",
       "      <th>0</th>\n",
       "      <td>1</td>\n",
       "      <td>Maharashtra</td>\n",
       "      <td>-</td>\n",
       "      <td>2,632,792</td>\n",
       "      <td>13.94%</td>\n",
       "      <td>399.921</td>\n",
       "    </tr>\n",
       "    <tr>\n",
       "      <th>1</th>\n",
       "      <td>2</td>\n",
       "      <td>Tamil Nadu</td>\n",
       "      <td>1,845,853</td>\n",
       "      <td>1,630,208</td>\n",
       "      <td>8.63%</td>\n",
       "      <td>247.629</td>\n",
       "    </tr>\n",
       "    <tr>\n",
       "      <th>2</th>\n",
       "      <td>3</td>\n",
       "      <td>Uttar Pradesh</td>\n",
       "      <td>1,687,818</td>\n",
       "      <td>1,584,764</td>\n",
       "      <td>8.39%</td>\n",
       "      <td>240.726</td>\n",
       "    </tr>\n",
       "    <tr>\n",
       "      <th>3</th>\n",
       "      <td>4</td>\n",
       "      <td>Gujarat</td>\n",
       "      <td>-</td>\n",
       "      <td>1,502,899</td>\n",
       "      <td>7.96%</td>\n",
       "      <td>228.290</td>\n",
       "    </tr>\n",
       "    <tr>\n",
       "      <th>4</th>\n",
       "      <td>5</td>\n",
       "      <td>Karnataka</td>\n",
       "      <td>1,631,977</td>\n",
       "      <td>1,493,127</td>\n",
       "      <td>7.91%</td>\n",
       "      <td>226.806</td>\n",
       "    </tr>\n",
       "    <tr>\n",
       "      <th>5</th>\n",
       "      <td>6</td>\n",
       "      <td>West Bengal</td>\n",
       "      <td>1,253,832</td>\n",
       "      <td>1,089,898</td>\n",
       "      <td>5.77%</td>\n",
       "      <td>165.556</td>\n",
       "    </tr>\n",
       "    <tr>\n",
       "      <th>6</th>\n",
       "      <td>7</td>\n",
       "      <td>Rajasthan</td>\n",
       "      <td>1,020,989</td>\n",
       "      <td>942,586</td>\n",
       "      <td>4.99%</td>\n",
       "      <td>143.179</td>\n",
       "    </tr>\n",
       "    <tr>\n",
       "      <th>7</th>\n",
       "      <td>8</td>\n",
       "      <td>Andhra Pradesh</td>\n",
       "      <td>972,782</td>\n",
       "      <td>862,957</td>\n",
       "      <td>4.57%</td>\n",
       "      <td>131.083</td>\n",
       "    </tr>\n",
       "    <tr>\n",
       "      <th>8</th>\n",
       "      <td>9</td>\n",
       "      <td>Telangana</td>\n",
       "      <td>969,604</td>\n",
       "      <td>861,031</td>\n",
       "      <td>4.56%</td>\n",
       "      <td>130.791</td>\n",
       "    </tr>\n",
       "    <tr>\n",
       "      <th>9</th>\n",
       "      <td>10</td>\n",
       "      <td>Madhya Pradesh</td>\n",
       "      <td>906,672</td>\n",
       "      <td>809,592</td>\n",
       "      <td>4.29%</td>\n",
       "      <td>122.977</td>\n",
       "    </tr>\n",
       "    <tr>\n",
       "      <th>10</th>\n",
       "      <td>11</td>\n",
       "      <td>Kerala</td>\n",
       "      <td>-</td>\n",
       "      <td>781,653</td>\n",
       "      <td>4.14%</td>\n",
       "      <td>118.733</td>\n",
       "    </tr>\n",
       "    <tr>\n",
       "      <th>11</th>\n",
       "      <td>12</td>\n",
       "      <td>Delhi</td>\n",
       "      <td>856,112</td>\n",
       "      <td>774,870</td>\n",
       "      <td>4.10%</td>\n",
       "      <td>117.703</td>\n",
       "    </tr>\n",
       "    <tr>\n",
       "      <th>12</th>\n",
       "      <td>13</td>\n",
       "      <td>Haryana</td>\n",
       "      <td>831,610</td>\n",
       "      <td>734,163</td>\n",
       "      <td>3.89%</td>\n",
       "      <td>111.519</td>\n",
       "    </tr>\n",
       "    <tr>\n",
       "      <th>13</th>\n",
       "      <td>14</td>\n",
       "      <td>Bihar</td>\n",
       "      <td>611,804</td>\n",
       "      <td>530,363</td>\n",
       "      <td>2.81%</td>\n",
       "      <td>80.562</td>\n",
       "    </tr>\n",
       "    <tr>\n",
       "      <th>14</th>\n",
       "      <td>15</td>\n",
       "      <td>Punjab</td>\n",
       "      <td>574,760</td>\n",
       "      <td>526,376</td>\n",
       "      <td>2.79%</td>\n",
       "      <td>79.957</td>\n",
       "    </tr>\n",
       "    <tr>\n",
       "      <th>15</th>\n",
       "      <td>16</td>\n",
       "      <td>Odisha</td>\n",
       "      <td>521,275</td>\n",
       "      <td>487,805</td>\n",
       "      <td>2.58%</td>\n",
       "      <td>74.098</td>\n",
       "    </tr>\n",
       "    <tr>\n",
       "      <th>16</th>\n",
       "      <td>17</td>\n",
       "      <td>Assam</td>\n",
       "      <td>-</td>\n",
       "      <td>315,881</td>\n",
       "      <td>1.67%</td>\n",
       "      <td>47.982</td>\n",
       "    </tr>\n",
       "    <tr>\n",
       "      <th>17</th>\n",
       "      <td>18</td>\n",
       "      <td>Chhattisgarh</td>\n",
       "      <td>329,180</td>\n",
       "      <td>304,063</td>\n",
       "      <td>1.61%</td>\n",
       "      <td>46.187</td>\n",
       "    </tr>\n",
       "    <tr>\n",
       "      <th>18</th>\n",
       "      <td>19</td>\n",
       "      <td>Jharkhand</td>\n",
       "      <td>328,598</td>\n",
       "      <td>297,204</td>\n",
       "      <td>1.57%</td>\n",
       "      <td>45.145</td>\n",
       "    </tr>\n",
       "    <tr>\n",
       "      <th>19</th>\n",
       "      <td>20</td>\n",
       "      <td>Uttarakhand</td>\n",
       "      <td>-</td>\n",
       "      <td>245,895</td>\n",
       "      <td>1.30%</td>\n",
       "      <td>37.351</td>\n",
       "    </tr>\n",
       "    <tr>\n",
       "      <th>20</th>\n",
       "      <td>21</td>\n",
       "      <td>Jammu &amp; Kashmir</td>\n",
       "      <td>-</td>\n",
       "      <td>155,956</td>\n",
       "      <td>0.83%</td>\n",
       "      <td>23.690</td>\n",
       "    </tr>\n",
       "    <tr>\n",
       "      <th>21</th>\n",
       "      <td>22</td>\n",
       "      <td>Himachal Pradesh</td>\n",
       "      <td>165,472</td>\n",
       "      <td>153,845</td>\n",
       "      <td>0.81%</td>\n",
       "      <td>23.369</td>\n",
       "    </tr>\n",
       "    <tr>\n",
       "      <th>22</th>\n",
       "      <td>23</td>\n",
       "      <td>Goa</td>\n",
       "      <td>80,449</td>\n",
       "      <td>73,170</td>\n",
       "      <td>0.39%</td>\n",
       "      <td>11.115</td>\n",
       "    </tr>\n",
       "    <tr>\n",
       "      <th>23</th>\n",
       "      <td>24</td>\n",
       "      <td>Tripura</td>\n",
       "      <td>55,984</td>\n",
       "      <td>49,845</td>\n",
       "      <td>0.26%</td>\n",
       "      <td>7.571</td>\n",
       "    </tr>\n",
       "    <tr>\n",
       "      <th>24</th>\n",
       "      <td>25</td>\n",
       "      <td>Chandigarh</td>\n",
       "      <td>-</td>\n",
       "      <td>42,114</td>\n",
       "      <td>0.22%</td>\n",
       "      <td>6.397</td>\n",
       "    </tr>\n",
       "    <tr>\n",
       "      <th>25</th>\n",
       "      <td>26</td>\n",
       "      <td>Puducherry</td>\n",
       "      <td>38,253</td>\n",
       "      <td>34,433</td>\n",
       "      <td>0.18%</td>\n",
       "      <td>5.230</td>\n",
       "    </tr>\n",
       "    <tr>\n",
       "      <th>26</th>\n",
       "      <td>27</td>\n",
       "      <td>Meghalaya</td>\n",
       "      <td>36,572</td>\n",
       "      <td>33,481</td>\n",
       "      <td>0.18%</td>\n",
       "      <td>5.086</td>\n",
       "    </tr>\n",
       "    <tr>\n",
       "      <th>27</th>\n",
       "      <td>28</td>\n",
       "      <td>Sikkim</td>\n",
       "      <td>32,496</td>\n",
       "      <td>28,723</td>\n",
       "      <td>0.15%</td>\n",
       "      <td>4.363</td>\n",
       "    </tr>\n",
       "    <tr>\n",
       "      <th>28</th>\n",
       "      <td>29</td>\n",
       "      <td>Manipur</td>\n",
       "      <td>31,790</td>\n",
       "      <td>27,870</td>\n",
       "      <td>0.15%</td>\n",
       "      <td>4.233</td>\n",
       "    </tr>\n",
       "    <tr>\n",
       "      <th>29</th>\n",
       "      <td>30</td>\n",
       "      <td>Nagaland</td>\n",
       "      <td>-</td>\n",
       "      <td>27,283</td>\n",
       "      <td>0.14%</td>\n",
       "      <td>4.144</td>\n",
       "    </tr>\n",
       "    <tr>\n",
       "      <th>30</th>\n",
       "      <td>31</td>\n",
       "      <td>Arunachal Pradesh</td>\n",
       "      <td>-</td>\n",
       "      <td>24,603</td>\n",
       "      <td>0.13%</td>\n",
       "      <td>3.737</td>\n",
       "    </tr>\n",
       "    <tr>\n",
       "      <th>31</th>\n",
       "      <td>32</td>\n",
       "      <td>Mizoram</td>\n",
       "      <td>26,503</td>\n",
       "      <td>22,287</td>\n",
       "      <td>0.12%</td>\n",
       "      <td>3.385</td>\n",
       "    </tr>\n",
       "  </tbody>\n",
       "</table>\n",
       "</div>"
      ],
      "text/plain": [
       "   RANK              STATE GSDP at current price(19-20)  \\\n",
       "0     1        Maharashtra                            -   \n",
       "1     2         Tamil Nadu                    1,845,853   \n",
       "2     3      Uttar Pradesh                    1,687,818   \n",
       "3     4            Gujarat                            -   \n",
       "4     5          Karnataka                    1,631,977   \n",
       "5     6        West Bengal                    1,253,832   \n",
       "6     7          Rajasthan                    1,020,989   \n",
       "7     8     Andhra Pradesh                      972,782   \n",
       "8     9          Telangana                      969,604   \n",
       "9    10     Madhya Pradesh                      906,672   \n",
       "10   11             Kerala                            -   \n",
       "11   12              Delhi                      856,112   \n",
       "12   13            Haryana                      831,610   \n",
       "13   14              Bihar                      611,804   \n",
       "14   15             Punjab                      574,760   \n",
       "15   16             Odisha                      521,275   \n",
       "16   17              Assam                            -   \n",
       "17   18       Chhattisgarh                      329,180   \n",
       "18   19          Jharkhand                      328,598   \n",
       "19   20        Uttarakhand                            -   \n",
       "20   21    Jammu & Kashmir                            -   \n",
       "21   22   Himachal Pradesh                      165,472   \n",
       "22   23                Goa                       80,449   \n",
       "23   24            Tripura                       55,984   \n",
       "24   25         Chandigarh                            -   \n",
       "25   26         Puducherry                       38,253   \n",
       "26   27          Meghalaya                       36,572   \n",
       "27   28             Sikkim                       32,496   \n",
       "28   29            Manipur                       31,790   \n",
       "29   30           Nagaland                            -   \n",
       "30   31  Arunachal Pradesh                            -   \n",
       "31   32            Mizoram                       26,503   \n",
       "\n",
       "   GSDP at current price(18-19) Share(18-19) GDP($Billion)  \n",
       "0                     2,632,792       13.94%       399.921  \n",
       "1                     1,630,208        8.63%       247.629  \n",
       "2                     1,584,764        8.39%       240.726  \n",
       "3                     1,502,899        7.96%       228.290  \n",
       "4                     1,493,127        7.91%       226.806  \n",
       "5                     1,089,898        5.77%       165.556  \n",
       "6                       942,586        4.99%       143.179  \n",
       "7                       862,957        4.57%       131.083  \n",
       "8                       861,031        4.56%       130.791  \n",
       "9                       809,592        4.29%       122.977  \n",
       "10                      781,653        4.14%       118.733  \n",
       "11                      774,870        4.10%       117.703  \n",
       "12                      734,163        3.89%       111.519  \n",
       "13                      530,363        2.81%        80.562  \n",
       "14                      526,376        2.79%        79.957  \n",
       "15                      487,805        2.58%        74.098  \n",
       "16                      315,881        1.67%        47.982  \n",
       "17                      304,063        1.61%        46.187  \n",
       "18                      297,204        1.57%        45.145  \n",
       "19                      245,895        1.30%        37.351  \n",
       "20                      155,956        0.83%        23.690  \n",
       "21                      153,845        0.81%        23.369  \n",
       "22                       73,170        0.39%        11.115  \n",
       "23                       49,845        0.26%         7.571  \n",
       "24                       42,114        0.22%         6.397  \n",
       "25                       34,433        0.18%         5.230  \n",
       "26                       33,481        0.18%         5.086  \n",
       "27                       28,723        0.15%         4.363  \n",
       "28                       27,870        0.15%         4.233  \n",
       "29                       27,283        0.14%         4.144  \n",
       "30                       24,603        0.13%         3.737  \n",
       "31                       22,287        0.12%         3.385  "
      ]
     },
     "execution_count": 42,
     "metadata": {},
     "output_type": "execute_result"
    }
   ],
   "source": [
    "#Make data frame\n",
    "df=pd.DataFrame({\"RANK\":Rank,\n",
    "                \"STATE\":Statename,\n",
    "                \"GSDP at current price(19-20)\":GSDP_19_20,\n",
    "                \"GSDP at current price(18-19)\":GSDP_18_19,\n",
    "                \"Share(18-19)\":share_18_19,\n",
    "                \"GDP($Billion)\":GDP})\n",
    "df"
   ]
  },
  {
   "cell_type": "markdown",
   "metadata": {},
   "source": [
    "# Question 5)"
   ]
  },
  {
   "cell_type": "markdown",
   "metadata": {},
   "source": [
    "Question 5)\n",
    "Scrape the details of trending repositories on Github.com.\n",
    "Url = https://github.com/\n",
    "You have to find the following details:\n",
    "A) Repository title\n",
    "B) Repository description\n",
    "C) Contributors count\n",
    "D) Language used"
   ]
  },
  {
   "cell_type": "code",
   "execution_count": 23,
   "metadata": {},
   "outputs": [],
   "source": [
    "# lets first connect to the webdriver\n",
    "driver = webdriver.Chrome(r\"C:\\Users\\vaibhav\\Desktop\\Data science\\FlipRobo Projects\\Web Scrapping 2\\chromedriver.exe\")"
   ]
  },
  {
   "cell_type": "code",
   "execution_count": 24,
   "metadata": {},
   "outputs": [],
   "source": [
    "Url = 'https://github.com/'\n",
    "driver.get(Url)"
   ]
  },
  {
   "cell_type": "markdown",
   "metadata": {},
   "source": [
    "# Question 6)"
   ]
  },
  {
   "cell_type": "markdown",
   "metadata": {},
   "source": [
    "Question 6. \n",
    "Scrape the details of top 100 songs on billboard.com.\n",
    "Url = https://www.billboard.com/\n",
    "You have to find the following details:\n",
    "A) Song name\n",
    "B) Artist name\n",
    "C) Last week rank\n",
    "D) Peak rank\n",
    "E) Weeks on board"
   ]
  },
  {
   "cell_type": "code",
   "execution_count": 25,
   "metadata": {},
   "outputs": [],
   "source": [
    "# lets first connect to the webdriver\n",
    "driver = webdriver.Chrome(r\"C:\\Users\\vaibhav\\Desktop\\Data science\\FlipRobo Projects\\Web Scrapping 2\\chromedriver.exe\")"
   ]
  },
  {
   "cell_type": "code",
   "execution_count": 26,
   "metadata": {},
   "outputs": [],
   "source": [
    "Url = \"https://www.billboard.com/\"\n",
    "driver.get(Url)"
   ]
  },
  {
   "cell_type": "code",
   "execution_count": 27,
   "metadata": {},
   "outputs": [],
   "source": [
    "driver.find_element_by_xpath(\"/html/body/div[2]/main/div[5]/div[2]/div/div/div[2]/div/div/div[1]/div/div[2]/a\").click()"
   ]
  },
  {
   "cell_type": "code",
   "execution_count": 28,
   "metadata": {},
   "outputs": [],
   "source": [
    "#table 1:\n",
    "#collectings rows of song names:\n",
    "rows=driver.find_elements_by_xpath(\"//*[@id='main']/div[5]/div/div[1]/div/article\")"
   ]
  },
  {
   "cell_type": "code",
   "execution_count": 29,
   "metadata": {},
   "outputs": [],
   "source": [
    "#scrapping Rank of songs:\n",
    "Rank=[]\n",
    "for i in range(len(rows)):\n",
    "    rows_n=driver.find_elements_by_xpath(\"//*[@id='main']/div[5]/div/div[1]/div/article[{}]/div[1]/div[1]\".format(i))\n",
    "    for j in rows_n:\n",
    "        Rank.append(j.text)"
   ]
  },
  {
   "cell_type": "code",
   "execution_count": 31,
   "metadata": {},
   "outputs": [],
   "source": [
    "Songname=[]\n",
    "for i in range(len(rows)):\n",
    "    rows_n=driver.find_elements_by_xpath(\"//*[@id='main']/div[5]/div/div[1]/div/article[{}]/div[1]/div[3]/div[1]\".format(i))\n",
    "    for j in rows_n:\n",
    "        Songname.append(j.text)"
   ]
  },
  {
   "cell_type": "code",
   "execution_count": 35,
   "metadata": {},
   "outputs": [],
   "source": [
    "#table 2)\n",
    "#scrapping rank from table 2)\n",
    "rows=driver.find_elements_by_xpath(\"//*[@id='main']/div[5]/div/div[3]/div/article\")\n",
    "for i in range(len(rows)):\n",
    "    rows_n=driver.find_elements_by_xpath(\"//*[@id='main']/div[5]/div/div[3]/div/article[{}]/div[1]/div[1]\".format(i))\n",
    "    for j in rows_n:\n",
    "        Rank.append(j.text)"
   ]
  },
  {
   "cell_type": "code",
   "execution_count": 36,
   "metadata": {},
   "outputs": [],
   "source": [
    "#scrapping songname from table 2)\n",
    "for i in range(len(rows)):\n",
    "    rows_n=driver.find_elements_by_xpath(\"//*[@id='main']/div[5]/div/div[3]/div/article[{}]/div[1]/div[3]/div[1]\".format(i))\n",
    "    for j in rows_n:\n",
    "        Songname.append(j.text)"
   ]
  },
  {
   "cell_type": "code",
   "execution_count": 40,
   "metadata": {},
   "outputs": [],
   "source": [
    "#table 3:\n",
    "#scrapping rank from table 3)\n",
    "rows=driver.find_elements_by_xpath(\"//*[@id='main']/div[5]/div/div[5]/div/article\")\n",
    "for i in range(len(rows)):\n",
    "    rows_n=driver.find_elements_by_xpath(\"//*[@id='main']/div[5]/div/div[5]/div/article[{}]/div[1]/div[1]\".format(i))\n",
    "    for j in rows_n:\n",
    "        Rank.append(j.text)"
   ]
  },
  {
   "cell_type": "code",
   "execution_count": 44,
   "metadata": {},
   "outputs": [],
   "source": [
    "#scrapping songname from table 3\n",
    "for i in range(len(rows)):\n",
    "    rows_n=driver.find_elements_by_xpath(\"//*[@id='main']/div[5]/div/div[5]/div/article[{}]/div[1]/div[3]/div[1]\".format(i))\n",
    "    for j in rows_n:\n",
    "        Songname.append(j.text)"
   ]
  },
  {
   "cell_type": "code",
   "execution_count": 63,
   "metadata": {},
   "outputs": [],
   "source": [
    "#table 4:\n",
    "#scrapping rank from table 4)\n",
    "rows=driver.find_elements_by_xpath(\"//*[@id='main']/div[5]/div/div[7]/div/article\")\n",
    "for i in range(len(rows)):\n",
    "    rows_n=driver.find_elements_by_xpath(\"//*[@id='main']/div[5]/div/div[7]/div/article[{}]/div[1]/div[1]\".format(i))\n",
    "    for j in rows_n:\n",
    "        Rank.append(j.text)"
   ]
  },
  {
   "cell_type": "code",
   "execution_count": 65,
   "metadata": {},
   "outputs": [],
   "source": [
    "#scrapping songname from table 4\n",
    "for i in range(len(rows)):\n",
    "    rows_n=driver.find_elements_by_xpath(\"//*[@id='main']/div[5]/div/div[7]/div/article[{}]/div[1]/div[3]/div[1]\".format(i))\n",
    "    for j in rows_n:\n",
    "        Songname.append(j.text)"
   ]
  },
  {
   "cell_type": "code",
   "execution_count": 67,
   "metadata": {},
   "outputs": [],
   "source": [
    "#table 5:\n",
    "#scrapping rank from table 5)\n",
    "rows=driver.find_elements_by_xpath(\"//*[@id='main']/div[5]/div/div[9]/div/article\")\n",
    "for i in range(len(rows)):\n",
    "    rows_n=driver.find_elements_by_xpath(\"//*[@id='main']/div[5]/div/div[9]/div/article[{}]/div[1]/div[1]\".format(i))\n",
    "    for j in rows_n:\n",
    "        Rank.append(j.text)"
   ]
  },
  {
   "cell_type": "code",
   "execution_count": 69,
   "metadata": {},
   "outputs": [],
   "source": [
    "#scrapping songname from table 5\n",
    "for i in range(len(rows)):\n",
    "    rows_n=driver.find_elements_by_xpath(\"//*[@id='main']/div[5]/div/div[9]/div/article[{}]/div[1]/div[3]/div[1]\".format(i))\n",
    "    for j in rows_n:\n",
    "        Songname.append(j.text)"
   ]
  },
  {
   "cell_type": "code",
   "execution_count": 71,
   "metadata": {},
   "outputs": [
    {
     "data": {
      "text/plain": [
       "95"
      ]
     },
     "execution_count": 71,
     "metadata": {},
     "output_type": "execute_result"
    }
   ],
   "source": [
    "len(Songname)"
   ]
  },
  {
   "cell_type": "code",
   "execution_count": 72,
   "metadata": {},
   "outputs": [
    {
     "data": {
      "text/plain": [
       "95"
      ]
     },
     "execution_count": 72,
     "metadata": {},
     "output_type": "execute_result"
    }
   ],
   "source": [
    "len(Rank)"
   ]
  },
  {
   "cell_type": "code",
   "execution_count": 73,
   "metadata": {},
   "outputs": [
    {
     "data": {
      "text/html": [
       "<div>\n",
       "<style scoped>\n",
       "    .dataframe tbody tr th:only-of-type {\n",
       "        vertical-align: middle;\n",
       "    }\n",
       "\n",
       "    .dataframe tbody tr th {\n",
       "        vertical-align: top;\n",
       "    }\n",
       "\n",
       "    .dataframe thead th {\n",
       "        text-align: right;\n",
       "    }\n",
       "</style>\n",
       "<table border=\"1\" class=\"dataframe\">\n",
       "  <thead>\n",
       "    <tr style=\"text-align: right;\">\n",
       "      <th></th>\n",
       "      <th>RANK</th>\n",
       "      <th>SONGNAME</th>\n",
       "    </tr>\n",
       "  </thead>\n",
       "  <tbody>\n",
       "    <tr>\n",
       "      <th>0</th>\n",
       "      <td>1</td>\n",
       "      <td>Uptown Funk!</td>\n",
       "    </tr>\n",
       "    <tr>\n",
       "      <th>1</th>\n",
       "      <td>2</td>\n",
       "      <td>Party Rock Anthem</td>\n",
       "    </tr>\n",
       "    <tr>\n",
       "      <th>2</th>\n",
       "      <td>3</td>\n",
       "      <td>Shape Of You</td>\n",
       "    </tr>\n",
       "    <tr>\n",
       "      <th>3</th>\n",
       "      <td>4</td>\n",
       "      <td>Closer</td>\n",
       "    </tr>\n",
       "    <tr>\n",
       "      <th>4</th>\n",
       "      <td>5</td>\n",
       "      <td>Girls Like You</td>\n",
       "    </tr>\n",
       "    <tr>\n",
       "      <th>...</th>\n",
       "      <td>...</td>\n",
       "      <td>...</td>\n",
       "    </tr>\n",
       "    <tr>\n",
       "      <th>90</th>\n",
       "      <td>95</td>\n",
       "      <td>F**k You! (Forget You)</td>\n",
       "    </tr>\n",
       "    <tr>\n",
       "      <th>91</th>\n",
       "      <td>96</td>\n",
       "      <td>Panda</td>\n",
       "    </tr>\n",
       "    <tr>\n",
       "      <th>92</th>\n",
       "      <td>97</td>\n",
       "      <td>Break Your Heart</td>\n",
       "    </tr>\n",
       "    <tr>\n",
       "      <th>93</th>\n",
       "      <td>98</td>\n",
       "      <td>In My Feelings</td>\n",
       "    </tr>\n",
       "    <tr>\n",
       "      <th>94</th>\n",
       "      <td>99</td>\n",
       "      <td>Wrecking Ball</td>\n",
       "    </tr>\n",
       "  </tbody>\n",
       "</table>\n",
       "<p>95 rows × 2 columns</p>\n",
       "</div>"
      ],
      "text/plain": [
       "   RANK                SONGNAME\n",
       "0     1            Uptown Funk!\n",
       "1     2       Party Rock Anthem\n",
       "2     3            Shape Of You\n",
       "3     4                  Closer\n",
       "4     5          Girls Like You\n",
       "..  ...                     ...\n",
       "90   95  F**k You! (Forget You)\n",
       "91   96                   Panda\n",
       "92   97        Break Your Heart\n",
       "93   98          In My Feelings\n",
       "94   99           Wrecking Ball\n",
       "\n",
       "[95 rows x 2 columns]"
      ]
     },
     "execution_count": 73,
     "metadata": {},
     "output_type": "execute_result"
    }
   ],
   "source": [
    "#Make data frame\n",
    "df=pd.DataFrame({\"RANK\":Rank,\n",
    "                \"SONGNAME\":Songname})\n",
    "df"
   ]
  },
  {
   "cell_type": "markdown",
   "metadata": {},
   "source": [
    "# Question 7)"
   ]
  },
  {
   "cell_type": "markdown",
   "metadata": {},
   "source": [
    "Scrape the details of Data science recruiters from naukri.com.\n",
    "Url = https://www.naukri.com/\n",
    "You have to find the following details:\n",
    "A) Name\n",
    "B) Designation\n",
    "C) Company\n",
    "D) Skills they hire for\n",
    "E) Location"
   ]
  },
  {
   "cell_type": "code",
   "execution_count": 74,
   "metadata": {},
   "outputs": [],
   "source": [
    "# lets first connect to the webdriver\n",
    "driver = webdriver.Chrome(r\"C:\\Users\\vaibhav\\Desktop\\Data science\\FlipRobo Projects\\Web Scrapping 2\\chromedriver.exe\")"
   ]
  },
  {
   "cell_type": "code",
   "execution_count": 75,
   "metadata": {},
   "outputs": [],
   "source": [
    "Url = \"https://www.naukri.com/\"\n",
    "driver.get(Url)"
   ]
  },
  {
   "cell_type": "code",
   "execution_count": 76,
   "metadata": {},
   "outputs": [],
   "source": [
    "#to close the opened dialogue box\n",
    "driver.find_element_by_xpath(\"/html/body/div[3]/span[1]\").click()\n"
   ]
  },
  {
   "cell_type": "code",
   "execution_count": 77,
   "metadata": {},
   "outputs": [],
   "source": [
    "designation=driver.find_element_by_xpath(\"//*[@id='qsb-keyword-sugg']\")"
   ]
  },
  {
   "cell_type": "code",
   "execution_count": 78,
   "metadata": {},
   "outputs": [],
   "source": [
    "designation.send_keys(\"Data Analyst\")"
   ]
  },
  {
   "cell_type": "code",
   "execution_count": 79,
   "metadata": {},
   "outputs": [],
   "source": [
    "# clicking the search button\n",
    "search_button=driver.find_element_by_xpath(\"/html/body/div[1]/div[3]/div[2]/section/div/form/div[3]/button\")\n",
    "search_button.click()"
   ]
  },
  {
   "cell_type": "code",
   "execution_count": 80,
   "metadata": {},
   "outputs": [],
   "source": [
    "title=driver.find_elements_by_xpath(\"//a[@class='title fw500 ellipsis']\")"
   ]
  },
  {
   "cell_type": "code",
   "execution_count": 81,
   "metadata": {},
   "outputs": [
    {
     "data": {
      "text/plain": [
       "['Hiring Business data analyst with Strong SQL Skills',\n",
       " 'Data Scientist/Data Analyst /Business Analyst']"
      ]
     },
     "execution_count": 81,
     "metadata": {},
     "output_type": "execute_result"
    }
   ],
   "source": [
    "Title=[]\n",
    "for i in title:\n",
    "    Title.append(i.text)\n",
    "Title[:2]"
   ]
  },
  {
   "cell_type": "code",
   "execution_count": 82,
   "metadata": {},
   "outputs": [
    {
     "data": {
      "text/plain": [
       "20"
      ]
     },
     "execution_count": 82,
     "metadata": {},
     "output_type": "execute_result"
    }
   ],
   "source": [
    "len(Title)"
   ]
  },
  {
   "cell_type": "code",
   "execution_count": 83,
   "metadata": {},
   "outputs": [
    {
     "data": {
      "text/plain": [
       "['Hexaware Technologies Ltd.', 'Inflexion Analytix Private Limited']"
      ]
     },
     "execution_count": 83,
     "metadata": {},
     "output_type": "execute_result"
    }
   ],
   "source": [
    "subtitle=driver.find_elements_by_xpath(\"//a[@class='subTitle ellipsis fleft']\")\n",
    "Companyname=[]\n",
    "for i in subtitle:\n",
    "    Companyname.append(i.text)\n",
    "Companyname[:2]"
   ]
  },
  {
   "cell_type": "code",
   "execution_count": 84,
   "metadata": {},
   "outputs": [
    {
     "data": {
      "text/plain": [
       "20"
      ]
     },
     "execution_count": 84,
     "metadata": {},
     "output_type": "execute_result"
    }
   ],
   "source": [
    "len(Companyname)"
   ]
  },
  {
   "cell_type": "code",
   "execution_count": 85,
   "metadata": {},
   "outputs": [
    {
     "data": {
      "text/plain": [
       "['Bangalore/Bengaluru', 'Pune, Delhi / NCR, Mumbai (All Areas)']"
      ]
     },
     "execution_count": 85,
     "metadata": {},
     "output_type": "execute_result"
    }
   ],
   "source": [
    "Location=[]\n",
    "loc=driver.find_elements_by_xpath(\"//li[@class='fleft grey-text br2 placeHolderLi location']//span\")\n",
    "for i in loc:\n",
    "    Location.append(i.text)\n",
    "Location[:2]"
   ]
  },
  {
   "cell_type": "code",
   "execution_count": 86,
   "metadata": {},
   "outputs": [
    {
     "data": {
      "text/plain": [
       "21"
      ]
     },
     "execution_count": 86,
     "metadata": {},
     "output_type": "execute_result"
    }
   ],
   "source": [
    "len(Location)"
   ]
  },
  {
   "cell_type": "code",
   "execution_count": 104,
   "metadata": {},
   "outputs": [
    {
     "data": {
      "text/html": [
       "<div>\n",
       "<style scoped>\n",
       "    .dataframe tbody tr th:only-of-type {\n",
       "        vertical-align: middle;\n",
       "    }\n",
       "\n",
       "    .dataframe tbody tr th {\n",
       "        vertical-align: top;\n",
       "    }\n",
       "\n",
       "    .dataframe thead th {\n",
       "        text-align: right;\n",
       "    }\n",
       "</style>\n",
       "<table border=\"1\" class=\"dataframe\">\n",
       "  <thead>\n",
       "    <tr style=\"text-align: right;\">\n",
       "      <th></th>\n",
       "      <th>Designation</th>\n",
       "      <th>Companyname</th>\n",
       "      <th>Location</th>\n",
       "    </tr>\n",
       "  </thead>\n",
       "  <tbody>\n",
       "    <tr>\n",
       "      <th>0</th>\n",
       "      <td>Hiring Business data analyst with Strong SQL S...</td>\n",
       "      <td>Hexaware Technologies Ltd.</td>\n",
       "      <td>Bangalore/Bengaluru</td>\n",
       "    </tr>\n",
       "    <tr>\n",
       "      <th>1</th>\n",
       "      <td>Data Scientist/Data Analyst /Business Analyst</td>\n",
       "      <td>Inflexion Analytix Private Limited</td>\n",
       "      <td>Pune, Delhi / NCR, Mumbai (All Areas)</td>\n",
       "    </tr>\n",
       "    <tr>\n",
       "      <th>2</th>\n",
       "      <td>Network Design &amp; Data Analyst</td>\n",
       "      <td>Dell International Services India Private Limited</td>\n",
       "      <td>Bangalore/Bengaluru</td>\n",
       "    </tr>\n",
       "    <tr>\n",
       "      <th>3</th>\n",
       "      <td>Data Analyst / Business Analytics / MIS Execut...</td>\n",
       "      <td>GABA Consultancy services</td>\n",
       "      <td>Noida, Greater Noida, Delhi / NCR</td>\n",
       "    </tr>\n",
       "    <tr>\n",
       "      <th>4</th>\n",
       "      <td>MIS Executive, Business Analyst Executive, Dat...</td>\n",
       "      <td>IDOC SOLUTIONS Pvt Ltd</td>\n",
       "      <td>Pune</td>\n",
       "    </tr>\n",
       "    <tr>\n",
       "      <th>5</th>\n",
       "      <td>Consultant - Data Analyst</td>\n",
       "      <td>Flipkart Internet Private Limited</td>\n",
       "      <td>Bangalore/Bengaluru</td>\n",
       "    </tr>\n",
       "    <tr>\n",
       "      <th>6</th>\n",
       "      <td>Senior Data Analyst I</td>\n",
       "      <td>AXA XL</td>\n",
       "      <td>Silokhera Gurgaon</td>\n",
       "    </tr>\n",
       "    <tr>\n",
       "      <th>7</th>\n",
       "      <td>Business/Data Analyst</td>\n",
       "      <td>Shiprocket</td>\n",
       "      <td>Delhi / NCR</td>\n",
       "    </tr>\n",
       "    <tr>\n",
       "      <th>8</th>\n",
       "      <td>Junior Data Analyst</td>\n",
       "      <td>Simplilearn</td>\n",
       "      <td>Bangalore/Bengaluru(Sector 2 HSR Layout)</td>\n",
       "    </tr>\n",
       "    <tr>\n",
       "      <th>9</th>\n",
       "      <td>Business Data Analyst</td>\n",
       "      <td>United Phosphorus Limited</td>\n",
       "      <td>(WFH during Covid)</td>\n",
       "    </tr>\n",
       "    <tr>\n",
       "      <th>10</th>\n",
       "      <td>Data Analyst,1</td>\n",
       "      <td>Epsilon</td>\n",
       "      <td>Mumbai</td>\n",
       "    </tr>\n",
       "    <tr>\n",
       "      <th>11</th>\n",
       "      <td>Junior Data Analyst (pharmacovigilance)</td>\n",
       "      <td>2coms</td>\n",
       "      <td>Bangalore/Bengaluru</td>\n",
       "    </tr>\n",
       "    <tr>\n",
       "      <th>12</th>\n",
       "      <td>Senior Data Analyst</td>\n",
       "      <td>Poshmark</td>\n",
       "      <td>Kolkata, Kolkata</td>\n",
       "    </tr>\n",
       "    <tr>\n",
       "      <th>13</th>\n",
       "      <td>Data Analyst/Engineer - VBA/Python</td>\n",
       "      <td>Decision Point</td>\n",
       "      <td>Chennai</td>\n",
       "    </tr>\n",
       "    <tr>\n",
       "      <th>14</th>\n",
       "      <td>Merilytics - Business Analyst - Data Analytics...</td>\n",
       "      <td>Meritus Intelytics Private Limited</td>\n",
       "      <td>Gurgaon/Gurugram</td>\n",
       "    </tr>\n",
       "    <tr>\n",
       "      <th>15</th>\n",
       "      <td>Business Data Analyst</td>\n",
       "      <td>NetApp</td>\n",
       "      <td>Hyderabad/Secunderabad</td>\n",
       "    </tr>\n",
       "    <tr>\n",
       "      <th>16</th>\n",
       "      <td>Business Data Analyst - Treasury Markets,</td>\n",
       "      <td>Luxoft</td>\n",
       "      <td>Bangalore/Bengaluru</td>\n",
       "    </tr>\n",
       "    <tr>\n",
       "      <th>17</th>\n",
       "      <td>Data Analyst</td>\n",
       "      <td>QuinStreet, Inc.</td>\n",
       "      <td>Bangalore/Bengaluru</td>\n",
       "    </tr>\n",
       "    <tr>\n",
       "      <th>18</th>\n",
       "      <td>Research Associate / Data Analyst I Pune I 6 m...</td>\n",
       "      <td>Skymet Weather Services Pvt Ltd. Pune</td>\n",
       "      <td>Pune</td>\n",
       "    </tr>\n",
       "    <tr>\n",
       "      <th>19</th>\n",
       "      <td>MIS Executive, Business Analyst Executive, Dat...</td>\n",
       "      <td>Megara Infotech Private Limited</td>\n",
       "      <td>Pune</td>\n",
       "    </tr>\n",
       "  </tbody>\n",
       "</table>\n",
       "</div>"
      ],
      "text/plain": [
       "                                          Designation  \\\n",
       "0   Hiring Business data analyst with Strong SQL S...   \n",
       "1       Data Scientist/Data Analyst /Business Analyst   \n",
       "2                       Network Design & Data Analyst   \n",
       "3   Data Analyst / Business Analytics / MIS Execut...   \n",
       "4   MIS Executive, Business Analyst Executive, Dat...   \n",
       "5                           Consultant - Data Analyst   \n",
       "6                               Senior Data Analyst I   \n",
       "7                               Business/Data Analyst   \n",
       "8                                 Junior Data Analyst   \n",
       "9                               Business Data Analyst   \n",
       "10                                     Data Analyst,1   \n",
       "11            Junior Data Analyst (pharmacovigilance)   \n",
       "12                                Senior Data Analyst   \n",
       "13                 Data Analyst/Engineer - VBA/Python   \n",
       "14  Merilytics - Business Analyst - Data Analytics...   \n",
       "15                              Business Data Analyst   \n",
       "16          Business Data Analyst - Treasury Markets,   \n",
       "17                                       Data Analyst   \n",
       "18  Research Associate / Data Analyst I Pune I 6 m...   \n",
       "19  MIS Executive, Business Analyst Executive, Dat...   \n",
       "\n",
       "                                          Companyname  \\\n",
       "0                          Hexaware Technologies Ltd.   \n",
       "1                  Inflexion Analytix Private Limited   \n",
       "2   Dell International Services India Private Limited   \n",
       "3                           GABA Consultancy services   \n",
       "4                              IDOC SOLUTIONS Pvt Ltd   \n",
       "5                   Flipkart Internet Private Limited   \n",
       "6                                              AXA XL   \n",
       "7                                          Shiprocket   \n",
       "8                                         Simplilearn   \n",
       "9                           United Phosphorus Limited   \n",
       "10                                            Epsilon   \n",
       "11                                              2coms   \n",
       "12                                           Poshmark   \n",
       "13                                     Decision Point   \n",
       "14                 Meritus Intelytics Private Limited   \n",
       "15                                             NetApp   \n",
       "16                                             Luxoft   \n",
       "17                                   QuinStreet, Inc.   \n",
       "18              Skymet Weather Services Pvt Ltd. Pune   \n",
       "19                    Megara Infotech Private Limited   \n",
       "\n",
       "                                    Location  \n",
       "0                        Bangalore/Bengaluru  \n",
       "1      Pune, Delhi / NCR, Mumbai (All Areas)  \n",
       "2                        Bangalore/Bengaluru  \n",
       "3          Noida, Greater Noida, Delhi / NCR  \n",
       "4                                       Pune  \n",
       "5                        Bangalore/Bengaluru  \n",
       "6                          Silokhera Gurgaon  \n",
       "7                                Delhi / NCR  \n",
       "8   Bangalore/Bengaluru(Sector 2 HSR Layout)  \n",
       "9                         (WFH during Covid)  \n",
       "10                                    Mumbai  \n",
       "11                       Bangalore/Bengaluru  \n",
       "12                          Kolkata, Kolkata  \n",
       "13                                   Chennai  \n",
       "14                          Gurgaon/Gurugram  \n",
       "15                    Hyderabad/Secunderabad  \n",
       "16                       Bangalore/Bengaluru  \n",
       "17                       Bangalore/Bengaluru  \n",
       "18                                      Pune  \n",
       "19                                      Pune  "
      ]
     },
     "execution_count": 104,
     "metadata": {},
     "output_type": "execute_result"
    }
   ],
   "source": [
    "#Make data frame\n",
    "df=pd.DataFrame({\"Designation\":Title,\n",
    "                \"Companyname\":Companyname,\n",
    "                \"Location\":Location[:20]})\n",
    "df"
   ]
  },
  {
   "cell_type": "markdown",
   "metadata": {},
   "source": [
    "# Question 8)"
   ]
  },
  {
   "cell_type": "markdown",
   "metadata": {},
   "source": [
    "Scrape the details of Highest selling novels.\n",
    "Url = https://www.theguardian.com/news/datablog/2012/aug/09/best-selling-books-all-time-fifty-shades-grey\u0002compare/\n",
    "You have to find the following details:\n",
    "A) Book name\n",
    "B) Author name\n",
    "C) Volumes sold\n",
    "D) Publisher\n",
    "E) Genre"
   ]
  },
  {
   "cell_type": "code",
   "execution_count": 56,
   "metadata": {},
   "outputs": [],
   "source": [
    "# lets first connect to the webdriver\n",
    "driver = webdriver.Chrome(r\"C:\\Users\\vaibhav\\Desktop\\Data science\\FlipRobo Projects\\Web Scrapping 2\\chromedriver.exe\")"
   ]
  },
  {
   "cell_type": "code",
   "execution_count": 57,
   "metadata": {},
   "outputs": [],
   "source": [
    "Url = \"https://www.theguardian.com/news/datablog/2012/aug/09/best-selling-books-all-time-fifty-shades-grey\u0002compare/\"\n",
    "driver.get(Url)"
   ]
  },
  {
   "cell_type": "code",
   "execution_count": null,
   "metadata": {},
   "outputs": [],
   "source": [
    "# website outdated:"
   ]
  },
  {
   "cell_type": "markdown",
   "metadata": {},
   "source": [
    "# Question 9)"
   ]
  },
  {
   "cell_type": "markdown",
   "metadata": {},
   "source": [
    "Scrape the details most watched tv series of all time from imdb.com.\n",
    " Url = https://www.imdb.com/list/ls095964455/\n",
    "You have to find the following details:\n",
    "A) Name\n",
    "B) Year span\n",
    "C) Genre\n",
    "D) Run time\n",
    "E) Ratings\n",
    "F) Votes"
   ]
  },
  {
   "cell_type": "code",
   "execution_count": 58,
   "metadata": {},
   "outputs": [],
   "source": [
    "# lets first connect to the webdriver\n",
    "driver = webdriver.Chrome(r\"C:\\Users\\vaibhav\\Desktop\\Data science\\FlipRobo Projects\\Web Scrapping 2\\chromedriver.exe\")"
   ]
  },
  {
   "cell_type": "code",
   "execution_count": 59,
   "metadata": {},
   "outputs": [],
   "source": [
    "Url = \"https://www.imdb.com/list/ls095964455/\"\n",
    "driver.get(Url)"
   ]
  },
  {
   "cell_type": "code",
   "execution_count": 67,
   "metadata": {},
   "outputs": [],
   "source": [
    "rows=driver.find_elements_by_xpath(\"//div[@class='lister-item-content']\")"
   ]
  },
  {
   "cell_type": "code",
   "execution_count": null,
   "metadata": {},
   "outputs": [],
   "source": [
    "Title=[]\n",
    "for i in rows:\n",
    "    head=driver.find_elements_by_xpath(\"//h3[@class='lister-item-header']/a\")\n",
    "    for j in head:\n",
    "        Title.append(j.text)"
   ]
  },
  {
   "cell_type": "code",
   "execution_count": 71,
   "metadata": {},
   "outputs": [
    {
     "data": {
      "text/plain": [
       "['Game of Thrones',\n",
       " 'Game of Thrones',\n",
       " 'Game of Thrones',\n",
       " 'Game of Thrones',\n",
       " 'Game of Thrones',\n",
       " 'Game of Thrones',\n",
       " 'Game of Thrones',\n",
       " 'Game of Thrones',\n",
       " 'Game of Thrones',\n",
       " 'Game of Thrones',\n",
       " 'Game of Thrones',\n",
       " 'Game of Thrones',\n",
       " 'Game of Thrones',\n",
       " 'Game of Thrones',\n",
       " 'Game of Thrones',\n",
       " 'Game of Thrones',\n",
       " 'Game of Thrones',\n",
       " 'Game of Thrones',\n",
       " 'Game of Thrones',\n",
       " 'Game of Thrones',\n",
       " 'Game of Thrones',\n",
       " 'Game of Thrones',\n",
       " 'Game of Thrones',\n",
       " 'Game of Thrones',\n",
       " 'Game of Thrones',\n",
       " 'Game of Thrones',\n",
       " 'Game of Thrones',\n",
       " 'Game of Thrones',\n",
       " 'Game of Thrones',\n",
       " 'Game of Thrones',\n",
       " 'Game of Thrones',\n",
       " 'Game of Thrones',\n",
       " 'Game of Thrones',\n",
       " 'Game of Thrones',\n",
       " 'Game of Thrones',\n",
       " 'Game of Thrones',\n",
       " 'Game of Thrones',\n",
       " 'Game of Thrones',\n",
       " 'Game of Thrones',\n",
       " 'Game of Thrones',\n",
       " 'Game of Thrones',\n",
       " 'Game of Thrones',\n",
       " 'Game of Thrones',\n",
       " 'Game of Thrones',\n",
       " 'Game of Thrones',\n",
       " 'Game of Thrones',\n",
       " 'Game of Thrones',\n",
       " 'Game of Thrones',\n",
       " 'Game of Thrones',\n",
       " 'Game of Thrones',\n",
       " 'Game of Thrones',\n",
       " 'Game of Thrones',\n",
       " 'Game of Thrones',\n",
       " 'Game of Thrones',\n",
       " 'Game of Thrones',\n",
       " 'Game of Thrones',\n",
       " 'Game of Thrones',\n",
       " 'Game of Thrones',\n",
       " 'Game of Thrones',\n",
       " 'Game of Thrones',\n",
       " 'Game of Thrones',\n",
       " 'Game of Thrones',\n",
       " 'Game of Thrones',\n",
       " 'Game of Thrones',\n",
       " 'Game of Thrones',\n",
       " 'Game of Thrones',\n",
       " 'Game of Thrones',\n",
       " 'Game of Thrones',\n",
       " 'Game of Thrones',\n",
       " 'Game of Thrones',\n",
       " 'Game of Thrones',\n",
       " 'Game of Thrones',\n",
       " 'Game of Thrones',\n",
       " 'Game of Thrones',\n",
       " 'Game of Thrones',\n",
       " 'Game of Thrones',\n",
       " 'Game of Thrones',\n",
       " 'Game of Thrones',\n",
       " 'Game of Thrones',\n",
       " 'Game of Thrones',\n",
       " 'Game of Thrones',\n",
       " 'Game of Thrones',\n",
       " 'Game of Thrones',\n",
       " 'Game of Thrones',\n",
       " 'Game of Thrones',\n",
       " 'Game of Thrones',\n",
       " 'Game of Thrones',\n",
       " 'Game of Thrones',\n",
       " 'Game of Thrones',\n",
       " 'Game of Thrones',\n",
       " 'Game of Thrones',\n",
       " 'Game of Thrones',\n",
       " 'Game of Thrones',\n",
       " 'Game of Thrones',\n",
       " 'Game of Thrones',\n",
       " 'Game of Thrones',\n",
       " 'Game of Thrones',\n",
       " 'Game of Thrones',\n",
       " 'Game of Thrones',\n",
       " 'Game of Thrones']"
      ]
     },
     "execution_count": 71,
     "metadata": {},
     "output_type": "execute_result"
    }
   ],
   "source": [
    "Title"
   ]
  },
  {
   "cell_type": "markdown",
   "metadata": {},
   "source": [
    "# Question 10)"
   ]
  },
  {
   "cell_type": "markdown",
   "metadata": {},
   "source": [
    "Details of Datasets from UCI machine learning repositories.\n",
    " Url = https://archive.ics.uci.edu/\n",
    " You have to find the following details:\n",
    "A) Dataset name\n",
    "B) Data type\n",
    "C) Task\n",
    "D) Attribute type\n",
    "E) No of instances\n",
    "F) No of attribute\n",
    "G) Year"
   ]
  },
  {
   "cell_type": "code",
   "execution_count": 107,
   "metadata": {},
   "outputs": [],
   "source": [
    "# lets first connect to the webdriver\n",
    "driver = webdriver.Chrome(r\"C:\\Users\\vaibhav\\Desktop\\Data science\\FlipRobo Projects\\Web Scrapping 2\\chromedriver.exe\")"
   ]
  },
  {
   "cell_type": "code",
   "execution_count": 108,
   "metadata": {},
   "outputs": [],
   "source": [
    "Url = \"https://archive.ics.uci.edu/\"\n",
    "driver.get(Url)"
   ]
  },
  {
   "cell_type": "code",
   "execution_count": 110,
   "metadata": {},
   "outputs": [],
   "source": [
    "table=driver.find_elements_by_xpath(\"/html/body/table[3]/tbody/tr/td[2]/table/tbody/tr\")"
   ]
  },
  {
   "cell_type": "code",
   "execution_count": 114,
   "metadata": {},
   "outputs": [],
   "source": [
    "Urls=[]\n",
    "for i in range(len(table)):\n",
    "    url=driver.find_elements_by_xpath(\"/html/body/table[3]/tbody/tr/td[2]/table/tbody/tr[{}]/td[2]/table/tbody/tr/td[2]/span/a\".format(i))\n",
    "    for j in url:\n",
    "        Urls.append(j.get_attribute(\"href\"))"
   ]
  },
  {
   "cell_type": "code",
   "execution_count": 115,
   "metadata": {
    "scrolled": true
   },
   "outputs": [
    {
     "data": {
      "text/plain": [
       "['https://archive.ics.uci.edu/ml/datasets/Synchronous+Machine+Data+Set',\n",
       " 'https://archive.ics.uci.edu/ml/datasets/Wikipedia+Math+Essentials',\n",
       " 'https://archive.ics.uci.edu/ml/datasets/Wikipedia+Math+Essentials',\n",
       " 'https://archive.ics.uci.edu/ml/datasets/Hungarian+Chickenpox+Cases',\n",
       " 'https://archive.ics.uci.edu/ml/datasets/Myocardial+infarction+complications',\n",
       " 'https://archive.ics.uci.edu/ml/datasets/Gait+Classification',\n",
       " 'https://archive.ics.uci.edu/ml/datasets/Codon+usage',\n",
       " 'https://archive.ics.uci.edu/ml/datasets/in-vehicle+coupon+recommendation',\n",
       " 'https://archive.ics.uci.edu/ml/datasets/Dry+Bean+Dataset',\n",
       " 'https://archive.ics.uci.edu/ml/datasets/Intelligent+Media+Accelerometer+and+Gyroscope+%28IM-AccGyro%29+Dataset',\n",
       " 'https://archive.ics.uci.edu/ml/datasets/AI4I+2020+Predictive+Maintenance+Dataset']"
      ]
     },
     "execution_count": 115,
     "metadata": {},
     "output_type": "execute_result"
    }
   ],
   "source": [
    "Urls"
   ]
  },
  {
   "cell_type": "code",
   "execution_count": 117,
   "metadata": {},
   "outputs": [],
   "source": [
    "# Scraping data from each url\n",
    "Datasetname=[]\n",
    "Datatype=[]\n",
    "Task=[]\n",
    "Attributetype=[]\n",
    "No_of_instances=[]\n",
    "No_of_attribute=[]\n",
    "Year=[]\n",
    "for url in Urls:\n",
    "    driver.get(url)                                                   \n",
    "    time.sleep(2)\n",
    "    #scrapping Dataset name:\n",
    "    title=driver.find_elements_by_xpath(\"/html/body/table[2]/tbody/tr/td/table[1]/tbody/tr/td[1]/p[1]/span[1]/b\")\n",
    "    for i in title:\n",
    "        Datasetname.append(i.text)\n",
    "        \n",
    "    #scrapping datatype:\n",
    "    dtype=driver.find_elements_by_xpath(\"/html/body/table[2]/tbody/tr/td/table[2]/tbody/tr[1]/td[2]/p\")\n",
    "    for m in dtype:\n",
    "        Datatype.append(m.text)\n",
    "    \n",
    "    #scrapping task:\n",
    "    task=driver.find_elements_by_xpath(\"/html/body/table[2]/tbody/tr/td/table[2]/tbody/tr[3]/td[2]/p\")\n",
    "    for n in task:\n",
    "        Task.append(n.text)\n",
    "    \n",
    "    #scrapping Attribute type:\n",
    "    att_type=driver.find_elements_by_xpath(\"/html/body/table[2]/tbody/tr/td/table[2]/tbody/tr[2]/td[2]/p\")\n",
    "    for o in att_type:\n",
    "        Attributetype.append(o.text)\n",
    "        \n",
    "    #scrapping No_of_instances:\n",
    "    inst=driver.find_elements_by_xpath(\"/html/body/table[2]/tbody/tr/td/table[2]/tbody/tr[1]/td[4]/p\")\n",
    "    for p in inst:\n",
    "        No_of_instances.append(p.text)\n",
    "        \n",
    "    #scrapping no of attibutes:\n",
    "    att=driver.find_elements_by_xpath(\"/html/body/table[2]/tbody/tr/td/table[2]/tbody/tr[2]/td[4]/p\")\n",
    "    for q in att:\n",
    "        No_of_attribute.append(q.text)\n",
    "    \n",
    "    #scrapping year:\n",
    "    dateyear=driver.find_elements_by_xpath(\"/html/body/table[2]/tbody/tr/td/table[2]/tbody/tr[2]/td[6]/p\")\n",
    "    for r in dateyear:\n",
    "        Year.append(r.text)      "
   ]
  },
  {
   "cell_type": "code",
   "execution_count": 120,
   "metadata": {},
   "outputs": [
    {
     "data": {
      "text/plain": [
       "11"
      ]
     },
     "execution_count": 120,
     "metadata": {},
     "output_type": "execute_result"
    }
   ],
   "source": [
    "len(Datasetname)"
   ]
  },
  {
   "cell_type": "code",
   "execution_count": 121,
   "metadata": {},
   "outputs": [
    {
     "data": {
      "text/plain": [
       "11"
      ]
     },
     "execution_count": 121,
     "metadata": {},
     "output_type": "execute_result"
    }
   ],
   "source": [
    "len(Datatype)"
   ]
  },
  {
   "cell_type": "code",
   "execution_count": 122,
   "metadata": {},
   "outputs": [
    {
     "data": {
      "text/plain": [
       "11"
      ]
     },
     "execution_count": 122,
     "metadata": {},
     "output_type": "execute_result"
    }
   ],
   "source": [
    "len(Task)"
   ]
  },
  {
   "cell_type": "code",
   "execution_count": 123,
   "metadata": {},
   "outputs": [
    {
     "data": {
      "text/plain": [
       "11"
      ]
     },
     "execution_count": 123,
     "metadata": {},
     "output_type": "execute_result"
    }
   ],
   "source": [
    "len(Attributetype)"
   ]
  },
  {
   "cell_type": "code",
   "execution_count": 124,
   "metadata": {},
   "outputs": [
    {
     "data": {
      "text/plain": [
       "11"
      ]
     },
     "execution_count": 124,
     "metadata": {},
     "output_type": "execute_result"
    }
   ],
   "source": [
    "len(No_of_instances)"
   ]
  },
  {
   "cell_type": "code",
   "execution_count": 125,
   "metadata": {},
   "outputs": [
    {
     "data": {
      "text/plain": [
       "11"
      ]
     },
     "execution_count": 125,
     "metadata": {},
     "output_type": "execute_result"
    }
   ],
   "source": [
    "len(No_of_attribute)"
   ]
  },
  {
   "cell_type": "code",
   "execution_count": 126,
   "metadata": {},
   "outputs": [
    {
     "data": {
      "text/plain": [
       "11"
      ]
     },
     "execution_count": 126,
     "metadata": {},
     "output_type": "execute_result"
    }
   ],
   "source": [
    "len(Year)"
   ]
  },
  {
   "cell_type": "code",
   "execution_count": 127,
   "metadata": {},
   "outputs": [
    {
     "data": {
      "text/html": [
       "<div>\n",
       "<style scoped>\n",
       "    .dataframe tbody tr th:only-of-type {\n",
       "        vertical-align: middle;\n",
       "    }\n",
       "\n",
       "    .dataframe tbody tr th {\n",
       "        vertical-align: top;\n",
       "    }\n",
       "\n",
       "    .dataframe thead th {\n",
       "        text-align: right;\n",
       "    }\n",
       "</style>\n",
       "<table border=\"1\" class=\"dataframe\">\n",
       "  <thead>\n",
       "    <tr style=\"text-align: right;\">\n",
       "      <th></th>\n",
       "      <th>Datasetname</th>\n",
       "      <th>Datatype</th>\n",
       "      <th>Task</th>\n",
       "      <th>Attributetype</th>\n",
       "      <th>No_of_instances</th>\n",
       "      <th>No_of_attribute</th>\n",
       "      <th>Year</th>\n",
       "    </tr>\n",
       "  </thead>\n",
       "  <tbody>\n",
       "    <tr>\n",
       "      <th>0</th>\n",
       "      <td>Synchronous Machine Data Set Data Set</td>\n",
       "      <td>Multivariate</td>\n",
       "      <td>Regression</td>\n",
       "      <td>Real</td>\n",
       "      <td>557</td>\n",
       "      <td>5</td>\n",
       "      <td>2021-04-21</td>\n",
       "    </tr>\n",
       "    <tr>\n",
       "      <th>1</th>\n",
       "      <td>Wikipedia Math Essentials Data Set</td>\n",
       "      <td>Time-Series</td>\n",
       "      <td>Regression</td>\n",
       "      <td>Real</td>\n",
       "      <td>731</td>\n",
       "      <td>1068</td>\n",
       "      <td>2021-04-20</td>\n",
       "    </tr>\n",
       "    <tr>\n",
       "      <th>2</th>\n",
       "      <td>Wikipedia Math Essentials Data Set</td>\n",
       "      <td>Time-Series</td>\n",
       "      <td>Regression</td>\n",
       "      <td>Real</td>\n",
       "      <td>731</td>\n",
       "      <td>1068</td>\n",
       "      <td>2021-04-20</td>\n",
       "    </tr>\n",
       "    <tr>\n",
       "      <th>3</th>\n",
       "      <td>Hungarian Chickenpox Cases Data Set</td>\n",
       "      <td>Time-Series</td>\n",
       "      <td>Regression</td>\n",
       "      <td>Real</td>\n",
       "      <td>521</td>\n",
       "      <td>20</td>\n",
       "      <td>2021-02-17</td>\n",
       "    </tr>\n",
       "    <tr>\n",
       "      <th>4</th>\n",
       "      <td>Myocardial infarction complications Data Set</td>\n",
       "      <td>Multivariate</td>\n",
       "      <td>Classification</td>\n",
       "      <td>Real</td>\n",
       "      <td>1700</td>\n",
       "      <td>124</td>\n",
       "      <td>2020-12-09</td>\n",
       "    </tr>\n",
       "    <tr>\n",
       "      <th>5</th>\n",
       "      <td>Gait Classification Data Set</td>\n",
       "      <td>Multivariate</td>\n",
       "      <td>Classification</td>\n",
       "      <td>Real</td>\n",
       "      <td>48</td>\n",
       "      <td>321</td>\n",
       "      <td>2020-10-14</td>\n",
       "    </tr>\n",
       "    <tr>\n",
       "      <th>6</th>\n",
       "      <td>Codon usage Data Set</td>\n",
       "      <td>Multivariate</td>\n",
       "      <td>Classification, Clustering</td>\n",
       "      <td>N/A</td>\n",
       "      <td>13028</td>\n",
       "      <td>69</td>\n",
       "      <td>2020-10-03</td>\n",
       "    </tr>\n",
       "    <tr>\n",
       "      <th>7</th>\n",
       "      <td>in-vehicle coupon recommendation Data Set</td>\n",
       "      <td>Multivariate</td>\n",
       "      <td>Classification</td>\n",
       "      <td>N/A</td>\n",
       "      <td>12684</td>\n",
       "      <td>23</td>\n",
       "      <td>2020-09-15</td>\n",
       "    </tr>\n",
       "    <tr>\n",
       "      <th>8</th>\n",
       "      <td>Dry Bean Dataset Data Set</td>\n",
       "      <td>Multivariate</td>\n",
       "      <td>Classification</td>\n",
       "      <td>Integer, Real</td>\n",
       "      <td>13611</td>\n",
       "      <td>17</td>\n",
       "      <td>2020-09-14</td>\n",
       "    </tr>\n",
       "    <tr>\n",
       "      <th>9</th>\n",
       "      <td>Intelligent Media Accelerometer and Gyroscope ...</td>\n",
       "      <td>Time-Series</td>\n",
       "      <td>Classification</td>\n",
       "      <td>Real</td>\n",
       "      <td>800</td>\n",
       "      <td>9</td>\n",
       "      <td>2020-09-03</td>\n",
       "    </tr>\n",
       "    <tr>\n",
       "      <th>10</th>\n",
       "      <td>AI4I 2020 Predictive Maintenance Dataset Data Set</td>\n",
       "      <td>Multivariate, Time-Series</td>\n",
       "      <td>Classification, Regression, Causal-Discovery</td>\n",
       "      <td>Real</td>\n",
       "      <td>10000</td>\n",
       "      <td>14</td>\n",
       "      <td>2020-08-30</td>\n",
       "    </tr>\n",
       "  </tbody>\n",
       "</table>\n",
       "</div>"
      ],
      "text/plain": [
       "                                          Datasetname  \\\n",
       "0               Synchronous Machine Data Set Data Set   \n",
       "1                  Wikipedia Math Essentials Data Set   \n",
       "2                  Wikipedia Math Essentials Data Set   \n",
       "3                 Hungarian Chickenpox Cases Data Set   \n",
       "4        Myocardial infarction complications Data Set   \n",
       "5                        Gait Classification Data Set   \n",
       "6                                Codon usage Data Set   \n",
       "7           in-vehicle coupon recommendation Data Set   \n",
       "8                           Dry Bean Dataset Data Set   \n",
       "9   Intelligent Media Accelerometer and Gyroscope ...   \n",
       "10  AI4I 2020 Predictive Maintenance Dataset Data Set   \n",
       "\n",
       "                     Datatype                                          Task  \\\n",
       "0                Multivariate                                    Regression   \n",
       "1                 Time-Series                                    Regression   \n",
       "2                 Time-Series                                    Regression   \n",
       "3                 Time-Series                                    Regression   \n",
       "4                Multivariate                                Classification   \n",
       "5                Multivariate                                Classification   \n",
       "6                Multivariate                    Classification, Clustering   \n",
       "7                Multivariate                                Classification   \n",
       "8                Multivariate                                Classification   \n",
       "9                 Time-Series                                Classification   \n",
       "10  Multivariate, Time-Series  Classification, Regression, Causal-Discovery   \n",
       "\n",
       "    Attributetype No_of_instances No_of_attribute        Year  \n",
       "0            Real             557               5  2021-04-21  \n",
       "1            Real             731            1068  2021-04-20  \n",
       "2            Real             731            1068  2021-04-20  \n",
       "3            Real             521              20  2021-02-17  \n",
       "4            Real            1700             124  2020-12-09  \n",
       "5            Real              48             321  2020-10-14  \n",
       "6             N/A           13028              69  2020-10-03  \n",
       "7             N/A           12684              23  2020-09-15  \n",
       "8   Integer, Real           13611              17  2020-09-14  \n",
       "9            Real             800               9  2020-09-03  \n",
       "10           Real           10000              14  2020-08-30  "
      ]
     },
     "execution_count": 127,
     "metadata": {},
     "output_type": "execute_result"
    }
   ],
   "source": [
    "#Make data frame\n",
    "df=pd.DataFrame({\"Datasetname\":Datasetname,\n",
    "                 \"Datatype\":Datatype,\n",
    "                 \"Task\":Task,\n",
    "                 \"Attributetype\":Attributetype,\n",
    "                 \"No_of_instances\":No_of_instances,\n",
    "                 \"No_of_attribute\":No_of_attribute,\n",
    "                 \"Year\":Year,\n",
    "                })\n",
    "df"
   ]
  },
  {
   "cell_type": "markdown",
   "metadata": {},
   "source": [
    "# THANK YOU"
   ]
  },
  {
   "cell_type": "markdown",
   "metadata": {},
   "source": [
    "regards,\n",
    "vaibhav tayade\n",
    "vaibhav_t29@rediffmail.com"
   ]
  }
 ],
 "metadata": {
  "kernelspec": {
   "display_name": "Python 3",
   "language": "python",
   "name": "python3"
  },
  "language_info": {
   "codemirror_mode": {
    "name": "ipython",
    "version": 3
   },
   "file_extension": ".py",
   "mimetype": "text/x-python",
   "name": "python",
   "nbconvert_exporter": "python",
   "pygments_lexer": "ipython3",
   "version": "3.7.6"
  }
 },
 "nbformat": 4,
 "nbformat_minor": 4
}
