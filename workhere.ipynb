{
 "cells": [
  {
   "cell_type": "code",
   "execution_count": 1,
   "metadata": {},
   "outputs": [
    {
     "name": "stdout",
     "output_type": "stream",
     "text": [
      "vaibhav know following languages:\n",
      "['c++', 'java', 'python']\n"
     ]
    }
   ],
   "source": [
    "a = [\"c++\", \"java\", \"python\"]\n",
    "print(\"vaibhav know following languages:\")\n",
    "print(a)"
   ]
  },
  {
   "cell_type": "code",
   "execution_count": 2,
   "metadata": {},
   "outputs": [
    {
     "name": "stdout",
     "output_type": "stream",
     "text": [
      "['c++', 'java', 'python', 'c++', 'java', 'python']\n"
     ]
    }
   ],
   "source": [
    "c = a[:]\n",
    "a.extend(c)\n",
    "print(a)"
   ]
  },
  {
   "cell_type": "code",
   "execution_count": 3,
   "metadata": {},
   "outputs": [
    {
     "name": "stdout",
     "output_type": "stream",
     "text": [
      "['honda', 'yamaha', 'suzuki']\n",
      "['honda', 'yamaha', 'suzuki']\n"
     ]
    }
   ],
   "source": [
    "motorcycles = ['honda', 'yamaha', 'suzuki']\n",
    "print(motorcycles)\n",
    "\n",
    "print(motorcycles)"
   ]
  },
  {
   "cell_type": "code",
   "execution_count": 4,
   "metadata": {},
   "outputs": [
    {
     "name": "stdout",
     "output_type": "stream",
     "text": [
      "suzuki\n"
     ]
    }
   ],
   "source": [
    "popped_motorcycles = motorcycles.pop()\n",
    "print(popped_motorcycles)"
   ]
  },
  {
   "cell_type": "code",
   "execution_count": 5,
   "metadata": {},
   "outputs": [
    {
     "name": "stdout",
     "output_type": "stream",
     "text": [
      "\n",
      "\tHere is the original list:\n",
      "\n",
      " ['bmw', 'audi', 'toyota', 'subaru']\n",
      "\n",
      "\tHere is the sorted list:\n",
      "\n",
      " ['audi', 'bmw', 'subaru', 'toyota']\n",
      "\n",
      "\tHere is the original list again:\n",
      "\n",
      " ['bmw', 'audi', 'toyota', 'subaru']\n"
     ]
    }
   ],
   "source": [
    "cars = ['bmw', 'audi', 'toyota', 'subaru']\n",
    "print(\"\\n\\tHere is the original list:\")\n",
    "print(\"\\n\", cars)\n",
    "print(\"\\n\\tHere is the sorted list:\")\n",
    "print(\"\\n\", sorted(cars))\n",
    "print(\"\\n\\tHere is the original list again:\")\n",
    "print(\"\\n\", cars)"
   ]
  },
  {
   "cell_type": "code",
   "execution_count": 6,
   "metadata": {},
   "outputs": [
    {
     "name": "stdout",
     "output_type": "stream",
     "text": [
      "['subaru', 'toyota', 'audi', 'bmw']\n"
     ]
    },
    {
     "data": {
      "text/plain": [
       "4"
      ]
     },
     "execution_count": 6,
     "metadata": {},
     "output_type": "execute_result"
    }
   ],
   "source": [
    "cars.reverse()\n",
    "print(cars)\n",
    "len(cars)"
   ]
  },
  {
   "cell_type": "code",
   "execution_count": 7,
   "metadata": {},
   "outputs": [
    {
     "name": "stdout",
     "output_type": "stream",
     "text": [
      "subaru\n",
      "toyota\n",
      "audi\n",
      "bmw\n"
     ]
    }
   ],
   "source": [
    "for x in cars:\n",
    "    print(x)"
   ]
  },
  {
   "cell_type": "code",
   "execution_count": 8,
   "metadata": {},
   "outputs": [
    {
     "name": "stdout",
     "output_type": "stream",
     "text": [
      "[1, 4, 9, 16, 25, 36, 49, 64, 81]\n"
     ]
    }
   ],
   "source": [
    "squares = [value**2 for value in range(1,10)]\n",
    "print(squares)"
   ]
  },
  {
   "cell_type": "code",
   "execution_count": 9,
   "metadata": {},
   "outputs": [
    {
     "name": "stdout",
     "output_type": "stream",
     "text": [
      "Vaibhav\n",
      "Aniket\n",
      "Chris\n",
      "Bob\n",
      "Carl\n"
     ]
    }
   ],
   "source": [
    "players = ['vaibhav', 'aniket', 'chris', 'bob', 'carl']\n",
    "\n",
    "for a in players[:]:\n",
    "    print(a.title())"
   ]
  },
  {
   "cell_type": "code",
   "execution_count": 10,
   "metadata": {},
   "outputs": [
    {
     "name": "stdout",
     "output_type": "stream",
     "text": [
      "\n",
      "My fav foods are\n",
      "['ice cream', 'pizza', 'burger']\n",
      "\n",
      "My friends fav food are: \n",
      "['pizza', 'cake', 'pasta']\n"
     ]
    }
   ],
   "source": [
    "myfood = ['ice cream', 'pizza', 'burger']\n",
    "frndsfood = ['pizza', 'cake', 'pasta']\n",
    "print(\"\\nMy fav foods are\")\n",
    "print(myfood)\n",
    "print(\"\\nMy friends fav food are: \")\n",
    "print(frndsfood)"
   ]
  },
  {
   "cell_type": "code",
   "execution_count": 11,
   "metadata": {},
   "outputs": [
    {
     "name": "stdout",
     "output_type": "stream",
     "text": [
      "['ice cream', 'pizza', 'burger', 'cake']\n",
      "['pizza', 'cake', 'pasta', 'sandwich']\n"
     ]
    }
   ],
   "source": [
    "myfood.append('cake')\n",
    "frndsfood.append('sandwich')\n",
    "print(myfood)\n",
    "print(frndsfood)"
   ]
  },
  {
   "cell_type": "code",
   "execution_count": 12,
   "metadata": {},
   "outputs": [
    {
     "name": "stdout",
     "output_type": "stream",
     "text": [
      "suzuki\n",
      "Bmw\n",
      "yamaha\n"
     ]
    }
   ],
   "source": [
    "cars = ['suzuki', 'bmw', 'yamaha']\n",
    "for car in cars:\n",
    "    if car == 'bmw':\n",
    "        print(car.title())\n",
    "    else:\n",
    "        print(car.lower())"
   ]
  },
  {
   "cell_type": "code",
   "execution_count": 13,
   "metadata": {},
   "outputs": [
    {
     "name": "stdout",
     "output_type": "stream",
     "text": [
      "Is car == 'subaru'? I predict True.\n",
      "True\n",
      "\n",
      "Is car == 'audi'? I predict False.\n",
      "False\n"
     ]
    }
   ],
   "source": [
    "car = 'subaru'\n",
    "print(\"Is car == 'subaru'? I predict True.\")\n",
    "print(car == 'subaru')\n",
    "print(\"\\nIs car == 'audi'? I predict False.\")\n",
    "print(car == 'audi')"
   ]
  },
  {
   "cell_type": "code",
   "execution_count": 14,
   "metadata": {},
   "outputs": [
    {
     "name": "stdout",
     "output_type": "stream",
     "text": [
      "your admision cost is 0$\n"
     ]
    }
   ],
   "source": [
    "age = 4\n",
    "if age <= 4:\n",
    "    print(\"your admision cost is 0$\")\n",
    "elif age <= 18:\n",
    "    print(\"your admision cost is 5$\")\n",
    "else:\n",
    "    print(\"your admision cost is 10$\")"
   ]
  },
  {
   "cell_type": "code",
   "execution_count": 15,
   "metadata": {},
   "outputs": [
    {
     "name": "stdout",
     "output_type": "stream",
     "text": [
      "adding mushrooms\n",
      "adding pepperoni\n",
      "\n",
      "Finishing your pizza Hold on!\n"
     ]
    }
   ],
   "source": [
    "requested_toppings = ['mushroom', 'pepperoni']\n",
    "if 'mushroom' in requested_toppings:\n",
    "    print('adding mushrooms')\n",
    "if 'pepperoni' in requested_toppings:\n",
    "    print('adding pepperoni')\n",
    "if 'extra cheese' in requested_toppings:\n",
    "    print('adding extra cheese')\n",
    "print(\"\\nFinishing your pizza Hold on!\")"
   ]
  },
  {
   "cell_type": "code",
   "execution_count": 16,
   "metadata": {},
   "outputs": [
    {
     "name": "stdout",
     "output_type": "stream",
     "text": [
      "you earned 5 points\n",
      "\n",
      "Game Over\n"
     ]
    }
   ],
   "source": [
    "alien_color = ['green']\n",
    "if 'green' in alien_color:\n",
    "    print('you earned 5 points')\n",
    "if 'red' in alien_color:\n",
    "    print('you earned 0 points')\n",
    "if 'yellow' in alien_color:\n",
    "    print('you earned 0 points')\n",
    "print('\\nGame Over')"
   ]
  },
  {
   "cell_type": "code",
   "execution_count": 17,
   "metadata": {},
   "outputs": [
    {
     "name": "stdout",
     "output_type": "stream",
     "text": [
      "you earned 5 points\n",
      "\n",
      "Game Over\n"
     ]
    }
   ],
   "source": [
    "alien_color = ['green']\n",
    "if 'pink' != alien_color:\n",
    "    print('you earned 5 points')\n",
    "print('\\nGame Over')"
   ]
  },
  {
   "cell_type": "code",
   "execution_count": 18,
   "metadata": {},
   "outputs": [
    {
     "name": "stdout",
     "output_type": "stream",
     "text": [
      "sorry we ran out of mushroom\n",
      "adding pepperoni.\n",
      "\n",
      "Finishing your order pizza Hold on!\n"
     ]
    }
   ],
   "source": [
    "requested_toppings = ['mushroom', 'pepperoni']\n",
    "for requested_topping in requested_toppings:\n",
    "    if requested_topping == 'mushroom':\n",
    "        print(\"sorry we ran out of mushroom\")\n",
    "    else:\n",
    "        print('adding ' + requested_topping + \".\")\n",
    "    \n",
    "print(\"\\nFinishing your order pizza Hold on!\")"
   ]
  },
  {
   "cell_type": "code",
   "execution_count": 19,
   "metadata": {},
   "outputs": [
    {
     "name": "stdout",
     "output_type": "stream",
     "text": [
      "you just earned 5 points.\n"
     ]
    }
   ],
   "source": [
    "alien = {'color' : 'green', 'points' : 5}\n",
    "newpoints = str(alien['points'])\n",
    "print('you just earned ' + newpoints + \" points.\")"
   ]
  },
  {
   "cell_type": "code",
   "execution_count": 20,
   "metadata": {},
   "outputs": [
    {
     "name": "stdout",
     "output_type": "stream",
     "text": [
      "{'color': 'green', 'points': 5, 'x-position': 0, 'y-position': 1}\n"
     ]
    }
   ],
   "source": [
    "alien['x-position'] = 0\n",
    "alien['y-position'] = 1\n",
    "print(alien)"
   ]
  },
  {
   "cell_type": "code",
   "execution_count": 21,
   "metadata": {},
   "outputs": [
    {
     "name": "stdout",
     "output_type": "stream",
     "text": [
      "welcome to vaibhav's pizza centre\n",
      "What would you like to have sir? \n",
      "\n",
      "Menu\n",
      "dict_items([('prices', 'in Dollars'), ('mushroom pizza', 21), ('pepperoni pizza', 15), ('chicken pizza', 25)])\n"
     ]
    }
   ],
   "source": [
    "print(\"welcome to vaibhav's pizza centre\")\n",
    "print(\"What would you like to have sir? \")\n",
    "print(\"\\nMenu\")\n",
    "\n",
    "menu = {\"prices\": \"in Dollars\", \"mushroom pizza\": 21, \"pepperoni pizza\": 15, \"chicken pizza\": 25}\n",
    "for item in menu:\n",
    "    item = menu.items()\n",
    "print(item)\n"
   ]
  },
  {
   "cell_type": "code",
   "execution_count": 22,
   "metadata": {},
   "outputs": [
    {
     "name": "stdout",
     "output_type": "stream",
     "text": [
      "original position of alien 0\n",
      "new position of alien 3\n"
     ]
    }
   ],
   "source": [
    "alien = {'x_pos': 0, \"y_pos\" : 25, \"speed\": \"superfast\"}\n",
    "\n",
    "if alien['speed'] == \"slow\":\n",
    "    x_increment = 1\n",
    "elif alien['speed'] == 'fast':\n",
    "    x_increment = 2\n",
    "elif alien[\"speed\"] == 'superfast':\n",
    "    x_increment = 3\n",
    "print(\"original position of alien \" + str(alien['x_pos']))\n",
    "print(\"new position of alien \" + str(x_increment))"
   ]
  },
  {
   "cell_type": "code",
   "execution_count": 23,
   "metadata": {},
   "outputs": [
    {
     "name": "stdout",
     "output_type": "stream",
     "text": [
      "sarah's fav language is Python\n"
     ]
    }
   ],
   "source": [
    "favorite_languages = {\n",
    "    'jen': 'python',\n",
    "    'sarah': 'c',\n",
    "    'edward': 'ruby',\n",
    "    'phil': 'python',\n",
    "    }\n",
    "print(\"sarah's fav language is \" + favorite_languages['phil'].title())\n"
   ]
  },
  {
   "cell_type": "code",
   "execution_count": 24,
   "metadata": {},
   "outputs": [
    {
     "name": "stdout",
     "output_type": "stream",
     "text": [
      "\n",
      "Menu          Price\n",
      "mushroom pizza 10\n",
      "chicken pizza 20\n"
     ]
    }
   ],
   "source": [
    "menu = {'mushroom pizza': 10, \"chicken pizza\" : 20}\n",
    "\n",
    "print(\"\\nMenu         \" +\" \"+ \"Price\")\n",
    "for key, value in menu.items():\n",
    "    print(key, value)"
   ]
  },
  {
   "cell_type": "code",
   "execution_count": 25,
   "metadata": {},
   "outputs": [
    {
     "name": "stdout",
     "output_type": "stream",
     "text": [
      "Enter your name here HI\n",
      "Hello, Hi!\n"
     ]
    }
   ],
   "source": [
    "greetings = input(\"Enter your name here \")\n",
    "print(\"Hello, \" + greetings.title() + \"!\" )"
   ]
  },
  {
   "cell_type": "code",
   "execution_count": 26,
   "metadata": {},
   "outputs": [
    {
     "name": "stdout",
     "output_type": "stream",
     "text": [
      "Tell your height 5\n",
      "Sorry you are short, wont be able to ride\n"
     ]
    }
   ],
   "source": [
    "height = float(input(\"Tell your height \"))\n",
    "if height >= 6.0:\n",
    "    print(\"you are taller enough to ride. \")\n",
    "else:\n",
    "    print(\"Sorry you are short, wont be able to ride\")\n"
   ]
  },
  {
   "cell_type": "code",
   "execution_count": 27,
   "metadata": {},
   "outputs": [
    {
     "name": "stdout",
     "output_type": "stream",
     "text": [
      "Enter a number, we ll tell you if its even or odd 12\n",
      "The entered number is even. \n"
     ]
    }
   ],
   "source": [
    "number = input(\"Enter a number, we ll tell you if its even or odd \")\n",
    "number = int(number)\n",
    "\n",
    "if number % 2 == 0:\n",
    "    print(\"The entered number is even. \")\n",
    "else:\n",
    "    print(\"The entered number is odd .\")\n",
    "    "
   ]
  },
  {
   "cell_type": "code",
   "execution_count": 28,
   "metadata": {},
   "outputs": [
    {
     "name": "stdout",
     "output_type": "stream",
     "text": [
      "0\n",
      "1\n",
      "2\n",
      "3\n",
      "4\n",
      "5\n"
     ]
    }
   ],
   "source": [
    "current_number = 0\n",
    "while current_number <= 5:\n",
    "    print(current_number)\n",
    "    current_number += 1"
   ]
  },
  {
   "cell_type": "code",
   "execution_count": 34,
   "metadata": {},
   "outputs": [
    {
     "name": "stdout",
     "output_type": "stream",
     "text": [
      "Tell me something and I'll repeat \n",
      "\tEnter 'Quit'  to quit    hi\n",
      "hi\n",
      "Tell me something and I'll repeat \n",
      "\tEnter 'Quit'  to quit    Quit\n"
     ]
    }
   ],
   "source": [
    "prompt = (\"Tell me something and I'll repeat \")\n",
    "prompt += \"\\n\\tEnter 'Quit'  to quit    \"\n",
    "\n",
    "#this empty message variable is imp to keep program running\n",
    "message = ()\n",
    "while message != 'Quit':\n",
    "    \n",
    "    message = input(prompt)\n",
    "    \n",
    "    \n",
    "    if message != 'Quit':\n",
    "        print(message)"
   ]
  },
  {
   "cell_type": "code",
   "execution_count": 37,
   "metadata": {},
   "outputs": [
    {
     "name": "stdout",
     "output_type": "stream",
     "text": [
      "Tell me something and I'll repeat \n",
      "\tEnter 'Quit'  to quit    hi\n",
      "Hi\n",
      "Tell me something and I'll repeat \n",
      "\tEnter 'Quit'  to quit    Quit\n"
     ]
    }
   ],
   "source": [
    "prompt = (\"Tell me something and I'll repeat \")\n",
    "prompt += \"\\n\\tEnter 'Quit'  to quit    \"\n",
    "active = True\n",
    "while active:\n",
    "    message = input(prompt)\n",
    "    if message == 'Quit':\n",
    "        active = False\n",
    "    else:\n",
    "        print(message.title())"
   ]
  },
  {
   "cell_type": "code",
   "execution_count": 42,
   "metadata": {},
   "outputs": [
    {
     "name": "stdout",
     "output_type": "stream",
     "text": [
      "please enter the name of the city you recently visited \n",
      "Enter 'Quit' to  Quit: pune\n",
      "I would love to visit Pune.\n",
      "please enter the name of the city you recently visited \n",
      "Enter 'Quit' to  Quit: Quit\n"
     ]
    }
   ],
   "source": [
    "prompt = (\"please enter the name of the city you recently visited \")\n",
    "prompt += \"\\nEnter 'Quit' to  Quit: \"\n",
    "\n",
    "active = True\n",
    "while active:\n",
    "    message = input(prompt)\n",
    "    if message == 'Quit':\n",
    "        break\n",
    "    else:\n",
    "        print(\"I would love to visit \" + message.title() + \".\")"
   ]
  },
  {
   "cell_type": "code",
   "execution_count": 71,
   "metadata": {},
   "outputs": [
    {
     "name": "stdout",
     "output_type": "stream",
     "text": [
      "1\n",
      "3\n",
      "5\n",
      "7\n",
      "9\n"
     ]
    }
   ],
   "source": [
    "current_number = 0\n",
    "while current_number < 10:\n",
    "    current_number += 1\n",
    "    if current_number % 2 == 0:\n",
    "        continue\n",
    "    print(current_number)\n",
    "        "
   ]
  },
  {
   "cell_type": "code",
   "execution_count": 63,
   "metadata": {},
   "outputs": [
    {
     "name": "stdout",
     "output_type": "stream",
     "text": [
      "2\n",
      "4\n",
      "6\n",
      "8\n",
      "10\n"
     ]
    }
   ],
   "source": [
    "current_number = 0\n",
    "while current_number < 10:\n",
    "    current_number += 1\n",
    "    if current_number % 2 != 0:\n",
    "        continue\n",
    "    print(current_number)\n",
    "    "
   ]
  },
  {
   "cell_type": "code",
   "execution_count": 74,
   "metadata": {},
   "outputs": [
    {
     "name": "stdout",
     "output_type": "stream",
     "text": [
      "1\n",
      "2\n",
      "3\n",
      "4\n",
      "5\n"
     ]
    }
   ],
   "source": [
    "count = 0\n",
    "while count < 5:\n",
    "    count += 1\n",
    "    print(count)\n",
    "    "
   ]
  },
  {
   "cell_type": "code",
   "execution_count": 83,
   "metadata": {},
   "outputs": [
    {
     "data": {
      "text/plain": [
       "64"
      ]
     },
     "execution_count": 83,
     "metadata": {},
     "output_type": "execute_result"
    }
   ],
   "source": [
    "test = lambda x: x**2\n",
    "test (8)"
   ]
  },
  {
   "cell_type": "code",
   "execution_count": 82,
   "metadata": {},
   "outputs": [
    {
     "data": {
      "text/plain": [
       "3"
      ]
     },
     "execution_count": 82,
     "metadata": {},
     "output_type": "execute_result"
    }
   ],
   "source": [
    "test = lambda x,y : x+y\n",
    "\n",
    "test(1,2)"
   ]
  },
  {
   "cell_type": "code",
   "execution_count": 84,
   "metadata": {},
   "outputs": [
    {
     "data": {
      "text/plain": [
       "6"
      ]
     },
     "execution_count": 84,
     "metadata": {},
     "output_type": "execute_result"
    }
   ],
   "source": [
    "m = lambda x, y, z : x + y + z\n",
    "m(1,2,3)"
   ]
  },
  {
   "cell_type": "code",
   "execution_count": 85,
   "metadata": {},
   "outputs": [
    {
     "data": {
      "text/plain": [
       "16"
      ]
     },
     "execution_count": 85,
     "metadata": {},
     "output_type": "execute_result"
    }
   ],
   "source": [
    "square = lambda x:x**2\n",
    "square(4)"
   ]
  },
  {
   "cell_type": "code",
   "execution_count": 86,
   "metadata": {},
   "outputs": [
    {
     "data": {
      "text/plain": [
       "27"
      ]
     },
     "execution_count": 86,
     "metadata": {},
     "output_type": "execute_result"
    }
   ],
   "source": [
    "cube = lambda x: x**3\n",
    "cube(3)"
   ]
  },
  {
   "cell_type": "code",
   "execution_count": 87,
   "metadata": {},
   "outputs": [
    {
     "name": "stdout",
     "output_type": "stream",
     "text": [
      "value of total:  15\n",
      "value of total:  17\n"
     ]
    }
   ],
   "source": [
    "addvar = lambda arg1, arg2: arg1 + arg2;\n",
    "\n",
    "print(\"value of total: \", addvar(5,10))\n",
    "print(\"value of total: \", addvar(2,15))"
   ]
  },
  {
   "cell_type": "code",
   "execution_count": 89,
   "metadata": {},
   "outputs": [
    {
     "data": {
      "text/plain": [
       "69.80000000000001"
      ]
     },
     "execution_count": 89,
     "metadata": {},
     "output_type": "execute_result"
    }
   ],
   "source": [
    "#converting degreee to fahrenheit:::\n",
    "def fahrenheit(T):\n",
    "    return ((float(9)/5)*T + 32)\n",
    "\n",
    "f = fahrenheit(21)\n",
    "f"
   ]
  },
  {
   "cell_type": "code",
   "execution_count": 90,
   "metadata": {},
   "outputs": [
    {
     "data": {
      "text/plain": [
       "101.12"
      ]
     },
     "execution_count": 90,
     "metadata": {},
     "output_type": "execute_result"
    }
   ],
   "source": [
    "F = lambda x: (float(9)/5)*x + 32\n",
    "F(38.4)"
   ]
  },
  {
   "cell_type": "markdown",
   "metadata": {},
   "source": [
    "Map in lamda"
   ]
  },
  {
   "cell_type": "code",
   "execution_count": 91,
   "metadata": {},
   "outputs": [
    {
     "data": {
      "text/plain": [
       "[2, 4, 6, 8]"
      ]
     },
     "execution_count": 91,
     "metadata": {},
     "output_type": "execute_result"
    }
   ],
   "source": [
    "mylist = [1,2,3,4]\n",
    "list(map(lambda x: x*2, mylist))"
   ]
  },
  {
   "cell_type": "code",
   "execution_count": 105,
   "metadata": {},
   "outputs": [
    {
     "data": {
      "text/plain": [
       "[95.36000000000001, 97.7, 81.14, 100.4, 103.64]"
      ]
     },
     "execution_count": 105,
     "metadata": {},
     "output_type": "execute_result"
    }
   ],
   "source": [
    "C = [35.2, 36.5, 27.3, 38, 39.8]\n",
    "F = list(map(lambda x: (float(9)/5)*x+32, C))\n",
    "F\n"
   ]
  },
  {
   "cell_type": "code",
   "execution_count": 106,
   "metadata": {},
   "outputs": [
    {
     "data": {
      "text/plain": [
       "[35.20000000000001, 36.5, 27.3, 38.00000000000001, 39.800000000000004]"
      ]
     },
     "execution_count": 106,
     "metadata": {},
     "output_type": "execute_result"
    }
   ],
   "source": [
    "C = list(map(lambda x: (float(5)/9)*(x-32), F))\n",
    "C"
   ]
  },
  {
   "cell_type": "code",
   "execution_count": 113,
   "metadata": {},
   "outputs": [
    {
     "data": {
      "text/plain": [
       "[35.2, 36.5, 27.3, 38.0, 39.8]"
      ]
     },
     "execution_count": 113,
     "metadata": {},
     "output_type": "execute_result"
    }
   ],
   "source": [
    "newClist = [round(x,2) for x in C]\n",
    "newClist"
   ]
  },
  {
   "cell_type": "code",
   "execution_count": 115,
   "metadata": {},
   "outputs": [
    {
     "data": {
      "text/plain": [
       "['35.20', '36.50', '27.30', '38.00', '39.80']"
      ]
     },
     "execution_count": 115,
     "metadata": {},
     "output_type": "execute_result"
    }
   ],
   "source": [
    "newlist = ['%.2f' % j for j in C]\n",
    "newlist"
   ]
  },
  {
   "cell_type": "code",
   "execution_count": 116,
   "metadata": {},
   "outputs": [],
   "source": [
    "def sum1 (x,y):\n",
    "    print('addition = ', x+y)\n"
   ]
  },
  {
   "cell_type": "code",
   "execution_count": 117,
   "metadata": {},
   "outputs": [],
   "source": [
    "def main():\n",
    "    sum1(20,4)\n",
    "    print(\"this is the main function\")"
   ]
  },
  {
   "cell_type": "code",
   "execution_count": 118,
   "metadata": {},
   "outputs": [
    {
     "name": "stdout",
     "output_type": "stream",
     "text": [
      "addition =  24\n",
      "this is the main function\n"
     ]
    }
   ],
   "source": [
    "main()"
   ]
  },
  {
   "cell_type": "code",
   "execution_count": 119,
   "metadata": {},
   "outputs": [
    {
     "name": "stdout",
     "output_type": "stream",
     "text": [
      "addition =  24\n",
      "this is the main function\n"
     ]
    }
   ],
   "source": [
    "if __name__=='__main__':\n",
    "    main()"
   ]
  },
  {
   "cell_type": "code",
   "execution_count": 26,
   "metadata": {},
   "outputs": [
    {
     "name": "stdout",
     "output_type": "stream",
     "text": [
      "\n",
      "Alice's favourite languages are \n",
      "\tPython\n",
      "\tC\n",
      "\n",
      "Jeny's favourite language is \n",
      "\tC++\n",
      "\n",
      "Romeo's favourite languages are \n",
      "\tC\n",
      "\tC-Sharp\n",
      "\n",
      "John's favourite language is \n",
      "\tJava\n"
     ]
    }
   ],
   "source": [
    "favourite_languages = {\n",
    "    'alice':['python','c'],\n",
    "    'jeny':['C++'],\n",
    "    'romeo':['C','C-sharp'],\n",
    "    'john':['Java'],\n",
    "    }\n",
    "\n",
    "for name, languages in favourite_languages.items():\n",
    "    if len(languages) > 1:\n",
    "        print('\\n' + name.title() + \"'s favourite languages are \")\n",
    "        for language in languages:\n",
    "            print('\\t' + language.title())\n",
    "    else:\n",
    "        print('\\n' + name.title() + \"'s favourite language is \")\n",
    "        for language in languages:\n",
    "            print('\\t' + language.title())"
   ]
  },
  {
   "cell_type": "code",
   "execution_count": 30,
   "metadata": {},
   "outputs": [
    {
     "name": "stdout",
     "output_type": "stream",
     "text": [
      "\n",
      "Username : vtayade\n",
      "\tFull name: Vaibhav Tayade\n",
      "\tLocation: Mumbai\n",
      "\n",
      "Username : akokate\n",
      "\tFull name: Aniket Kokate\n",
      "\tLocation: Thane\n"
     ]
    }
   ],
   "source": [
    "users = {\n",
    "    'vtayade': {\n",
    "        'first':'vaibhav',\n",
    "        'last':'tayade',\n",
    "        'location':'mumbai',\n",
    "        },\n",
    "    'akokate':{\n",
    "        'first':'aniket',\n",
    "        'last':'kokate',\n",
    "        'location':'thane',\n",
    "        },\n",
    "    }\n",
    "    \n",
    "for username, user_info in users.items():\n",
    "    print('\\nUsername : ' + username)\n",
    "    fullname = user_info['first'] + \" \" + user_info['last']\n",
    "    location = user_info['location']\n",
    "    print(\"\\tFull name: \" + fullname.title())\n",
    "    print(\"\\tLocation: \" + location.title())"
   ]
  },
  {
   "cell_type": "code",
   "execution_count": 32,
   "metadata": {},
   "outputs": [
    {
     "data": {
      "text/plain": [
       "30"
      ]
     },
     "execution_count": 32,
     "metadata": {},
     "output_type": "execute_result"
    }
   ],
   "source": [
    "class student:\n",
    "    def __init__(self, name, age):\n",
    "        self.name = name\n",
    "        self.age = age\n",
    "        \n",
    "p1 = student('vaibhav',30)\n",
    "p1.age"
   ]
  },
  {
   "cell_type": "code",
   "execution_count": 57,
   "metadata": {},
   "outputs": [
    {
     "name": "stdout",
     "output_type": "stream",
     "text": [
      "\n",
      "Inside display fucn\n",
      "vaibhav 30 1212 35000\n",
      "\n",
      "Inside display fucn\n",
      "aniket 30 1231 50000\n"
     ]
    }
   ],
   "source": [
    "class Employee:\n",
    "    def __init__(self, name, age, idno, salary):\n",
    "        self.name = name\n",
    "        self.age = age\n",
    "        self.idno = idno\n",
    "        self.salary = salary\n",
    "    def display(self):\n",
    "        print(\"\\nInside display fucn\")\n",
    "        print(self.name, self.age, self.idno, self.salary)\n",
    "        \n",
    "E1 = Employee('vaibhav', 30, 1212, 35000)\n",
    "E2 = Employee('aniket', 30, 1231, 50000)\n",
    "E1.display()\n",
    "E2.display()"
   ]
  },
  {
   "cell_type": "code",
   "execution_count": 61,
   "metadata": {},
   "outputs": [
    {
     "name": "stdout",
     "output_type": "stream",
     "text": [
      "george\n",
      "london\n",
      "400\n",
      "\n",
      "\n",
      "80000\n"
     ]
    }
   ],
   "source": [
    "class Company:\n",
    "    #class variable:::\n",
    "    \n",
    "    revenue = 80000\n",
    "    \n",
    "    def __init__(self, name, loc, no_of_emp):\n",
    "        \n",
    "        #instance variable:::\n",
    "        self.name = name\n",
    "        self.loc = loc\n",
    "        self.no_of_emp = no_of_emp\n",
    "        \n",
    "c = Company(\"george\", \"london\", 400)\n",
    "\n",
    "print(c.name)\n",
    "print(c.loc)\n",
    "print(c.no_of_emp)\n",
    "print(\"\\n\")\n",
    "print(Company.revenue)"
   ]
  },
  {
   "cell_type": "code",
   "execution_count": 75,
   "metadata": {},
   "outputs": [
    {
     "name": "stdout",
     "output_type": "stream",
     "text": [
      "dezire\n",
      "blue\n",
      "24\n",
      "\n",
      "\n",
      "Economy cars\n",
      "This is a  blue\n"
     ]
    }
   ],
   "source": [
    "class car:\n",
    "    type = \"Economy cars\"\n",
    "    \n",
    "    def __init__(self, name, color, mileage):\n",
    "        self.name = name\n",
    "        self.color = color\n",
    "        self.mileage = mileage\n",
    "        \n",
    "    def display(self):\n",
    "        print('This is a ', self.color)\n",
    "c1 = car('dezire', 'blue', 24)\n",
    "print(c1.name)\n",
    "print(c1.color)\n",
    "print(c1.mileage)\n",
    "print(\"\\n\")\n",
    "print(car.type)\n",
    "c1.display()"
   ]
  },
  {
   "cell_type": "code",
   "execution_count": 77,
   "metadata": {},
   "outputs": [],
   "source": [
    "class employee:\n",
    "    def __init__(self, name, age):\n",
    "        print(\"\\ninit called\")\n",
    "        self.name = name\n",
    "        self.age = age\n",
    "        \n",
    "    def getdata(self, name, age):\n",
    "        print(\"\\nget called\")\n",
    "        self.name = name\n",
    "        self.age = age\n",
    "        \n",
    "    def displaydata(self):\n",
    "        print(\"Hello\", self.name, self.age)\n",
    "        \n",
    "def main():\n",
    "    e=employee(\"william\", 35)\n",
    "    e.displaydata()\n",
    "    \n",
    "    e.getdata(\"john\", 25)\n",
    "    e.displaydata()\n",
    "    "
   ]
  },
  {
   "cell_type": "code",
   "execution_count": 78,
   "metadata": {},
   "outputs": [
    {
     "name": "stdout",
     "output_type": "stream",
     "text": [
      "\n",
      "init called\n",
      "Hello william 35\n",
      "\n",
      "get called\n",
      "Hello john 25\n"
     ]
    }
   ],
   "source": [
    "if __name__==\"__main__\":\n",
    "    main()\n",
    "    "
   ]
  },
  {
   "cell_type": "code",
   "execution_count": 79,
   "metadata": {},
   "outputs": [
    {
     "name": "stdout",
     "output_type": "stream",
     "text": [
      "\n",
      "init called\n",
      "Hello william 35\n",
      "\n",
      "get called\n",
      "Hello john 25\n"
     ]
    }
   ],
   "source": [
    "main()"
   ]
  },
  {
   "cell_type": "code",
   "execution_count": 85,
   "metadata": {},
   "outputs": [
    {
     "name": "stdout",
     "output_type": "stream",
     "text": [
      "\n",
      "\n",
      "int data for players\n",
      "player details :  Virat 35 Cricket\n",
      "getting data for players\n",
      "player details :  Richard 45 Tennis\n"
     ]
    }
   ],
   "source": [
    "class player:\n",
    "    def __init__(self, name, age, sport):\n",
    "        print(\"int data for players\")\n",
    "        self.name = name\n",
    "        self.age = age\n",
    "        self.sport = sport\n",
    "        \n",
    "    def getdata(self, name, age, sport):\n",
    "        print(\"getting data for players\")\n",
    "        self.name = name\n",
    "        self.age = age\n",
    "        self.sport = sport\n",
    "    def displaydata(self):\n",
    "        print(\"player details : \", self.name, self.age, self.sport)\n",
    "        \n",
    "def main():\n",
    "    p=player(\"Virat\", 35, \"Cricket\")\n",
    "    p.displaydata()\n",
    "    \n",
    "    p.getdata(\"Richard\", 45, \"Tennis\")\n",
    "    p.displaydata()\n",
    "\n",
    "print(\"\\n\")\n",
    "main()"
   ]
  },
  {
   "cell_type": "code",
   "execution_count": 1,
   "metadata": {},
   "outputs": [
    {
     "name": "stdout",
     "output_type": "stream",
     "text": [
      "Enter the value of radius 6\n",
      "Radius =  6\n",
      "Area of a circle:  113.09733552923255\n"
     ]
    }
   ],
   "source": [
    "import math\n",
    "class areacircle:\n",
    "    def __init__(self, area, radius):\n",
    "        self.area = area\n",
    "        self.radius = radius\n",
    "    def calculatearea(self):\n",
    "        self.area= math.pi*(self.radius**2)\n",
    "        print(\"Area of a circle: \", self.area)\n",
    "        \n",
    "    def inputdata(self):\n",
    "        self.radius=int(input(\"Enter the value of radius \"))\n",
    "        print(\"Radius = \", self.radius)\n",
    "        self.calculatearea()\n",
    "        #calling calculate area function to calculate the area of the circle:\n",
    "        \n",
    "def main():\n",
    "    c1 = areacircle(0,0)\n",
    "    c1.inputdata()\n",
    "if __name__ == '__main__':\n",
    "    main()"
   ]
  },
  {
   "cell_type": "code",
   "execution_count": 9,
   "metadata": {},
   "outputs": [
    {
     "data": {
      "text/plain": [
       "16.0"
      ]
     },
     "execution_count": 9,
     "metadata": {},
     "output_type": "execute_result"
    }
   ],
   "source": [
    "import math as m\n",
    "m.pi\n",
    "m.pow(4,2)"
   ]
  },
  {
   "cell_type": "code",
   "execution_count": 3,
   "metadata": {},
   "outputs": [
    {
     "name": "stdout",
     "output_type": "stream",
     "text": [
      "hi\n"
     ]
    }
   ],
   "source": [
    "with open('hi.txt') as file:\n",
    "    contents = file.read()\n",
    "    print(contents)"
   ]
  },
  {
   "cell_type": "code",
   "execution_count": 4,
   "metadata": {},
   "outputs": [
    {
     "name": "stdout",
     "output_type": "stream",
     "text": [
      "hi\n",
      "\n",
      "hi\n",
      "\n",
      "hi\n",
      "\n",
      "hi\n",
      "\n",
      "hi\n",
      "\n"
     ]
    }
   ],
   "source": [
    "filename = 'hi.txt'\n",
    "with open(filename) as fileobject:\n",
    "    for line in fileobject:\n",
    "        print(line)"
   ]
  },
  {
   "cell_type": "code",
   "execution_count": 6,
   "metadata": {},
   "outputs": [],
   "source": [
    "import pickle\n",
    "flower_dict = {1:'Rose', 2:'Lilly', 3:'Lotus', 4:'Tulip'}\n",
    "filename = 'flower'\n",
    "outfile = open(filename, 'wb')\n"
   ]
  },
  {
   "cell_type": "code",
   "execution_count": 7,
   "metadata": {},
   "outputs": [],
   "source": [
    "#pickling\n",
    "pickle.dump(flower_dict, outfile)\n",
    "outfile.close()\n"
   ]
  },
  {
   "cell_type": "code",
   "execution_count": 9,
   "metadata": {},
   "outputs": [
    {
     "name": "stdout",
     "output_type": "stream",
     "text": [
      "{1: 'Rose', 2: 'Lilly', 3: 'Lotus', 4: 'Tulip'}\n",
      "True\n"
     ]
    }
   ],
   "source": [
    "#unpickling file\n",
    "infile=open(filename, 'rb')\n",
    "new_dict=pickle.load(infile)\n",
    "infile.close()\n",
    "print(new_dict)\n",
    "print(new_dict==flower_dict)"
   ]
  },
  {
   "cell_type": "code",
   "execution_count": 10,
   "metadata": {},
   "outputs": [
    {
     "name": "stdout",
     "output_type": "stream",
     "text": [
      "{1: 'Rose', 2: 'Lilly', 3: 'Lotus', 4: 'Tulip'}\n"
     ]
    }
   ],
   "source": [
    "infile.close()\n",
    "print(new_dict)"
   ]
  }
 ],
 "metadata": {
  "kernelspec": {
   "display_name": "Python 3",
   "language": "python",
   "name": "python3"
  },
  "language_info": {
   "codemirror_mode": {
    "name": "ipython",
    "version": 3
   },
   "file_extension": ".py",
   "mimetype": "text/x-python",
   "name": "python",
   "nbconvert_exporter": "python",
   "pygments_lexer": "ipython3",
   "version": "3.7.6"
  }
 },
 "nbformat": 4,
 "nbformat_minor": 4
}
